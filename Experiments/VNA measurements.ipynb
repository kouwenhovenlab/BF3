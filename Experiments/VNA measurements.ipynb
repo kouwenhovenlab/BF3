{
 "cells": [
  {
   "cell_type": "code",
   "execution_count": 1,
   "metadata": {
    "ExecuteTime": {
     "end_time": "2019-05-03T09:34:31.663167Z",
     "start_time": "2019-05-03T09:34:22.217156Z"
    }
   },
   "outputs": [],
   "source": [
    "%matplotlib notebook\n",
    "\n",
    "# %qtconsole\n",
    "\n",
    "import logging\n",
    "import time\n",
    "from importlib import reload\n",
    "\n",
    "from matplotlib import pyplot as plt\n",
    "from matplotlib import colors, cm\n",
    "import numpy as np\n",
    "\n",
    "import qcodes as qc\n",
    "from qcodes.dataset.experiment_container import new_experiment"
   ]
  },
  {
   "cell_type": "code",
   "execution_count": 2,
   "metadata": {
    "ExecuteTime": {
     "end_time": "2019-05-03T09:34:31.745232Z",
     "start_time": "2019-05-03T09:34:31.664170Z"
    }
   },
   "outputs": [],
   "source": [
    "from pytopo.qctools import instruments as instools\n",
    "from pytopo.qctools.instruments import create_inst, add2station\n",
    "\n",
    "from pytopo.sweep.base import Nest, Chain\n",
    "from pytopo.sweep.decorators import getter, setter\n",
    "from pytopo.sweep import sweep, do_experiment, hardsweep, measure"
   ]
  },
  {
   "cell_type": "code",
   "execution_count": 3,
   "metadata": {
    "ExecuteTime": {
     "end_time": "2019-05-03T09:34:31.750736Z",
     "start_time": "2019-05-03T09:34:31.746733Z"
    }
   },
   "outputs": [
    {
     "data": {
      "text/plain": [
       "'d:\\\\OneDrive\\\\Setups\\\\LK1\\\\LK1_code\\\\Code\\\\LK1\\\\LK1\\\\Experiments'"
      ]
     },
     "execution_count": 3,
     "metadata": {},
     "output_type": "execute_result"
    }
   ],
   "source": [
    "pwd"
   ]
  },
  {
   "cell_type": "markdown",
   "metadata": {},
   "source": [
    "# Define measurement functions"
   ]
  },
  {
   "cell_type": "code",
   "execution_count": 4,
   "metadata": {
    "ExecuteTime": {
     "end_time": "2019-05-03T09:34:31.767801Z",
     "start_time": "2019-05-03T09:34:31.751736Z"
    }
   },
   "outputs": [],
   "source": [
    "def setup_frq_sweep(fstart, fstop, fpts, chan='S21', bw=None, navgs=None, pwr=None):\n",
    "    \"\"\"\n",
    "    Setup a VNA trace.\n",
    "    \n",
    "    assumes that a channel with name chan is already created.\n",
    "    \"\"\"\n",
    "    vna = qc.Station.default.vna\n",
    "    trace = getattr(vna.channels, chan)\n",
    "    \n",
    "    fvals = np.linspace(fstart, fstop, fpts)\n",
    "    trace.start(fstart)\n",
    "    trace.stop(fstop)\n",
    "    trace.npts(fpts)\n",
    "    if navgs is not None:\n",
    "        trace.avg(navgs)\n",
    "    if bw is not None:\n",
    "        trace.bandwidth(bw)\n",
    "    if pwr is not None:\n",
    "        trace.power(pwr)\n",
    "    trace.autoscale()\n",
    "    \n",
    "    if not vna.rf_power():\n",
    "        vna.rf_on()\n",
    "    \n",
    "    return fvals\n",
    "\n",
    "def take_trace(chan='S21', plot=False):\n",
    "    \"\"\"\n",
    "    Get the data of a currently measured trace.\n",
    "    The trace has to be setup already.\n",
    "    \n",
    "    Returns magnitude (in dB) and phase (in rad).\n",
    "    \n",
    "    If plot is true, make a simple plot of the magnitude vs frequency.\n",
    "    \"\"\"\n",
    "    vna = qc.Station.default.vna\n",
    "    trace = getattr(vna.channels, chan)\n",
    "    \n",
    "    fvals = np.linspace(trace.start(), trace.stop(), trace.npts())\n",
    "    mag, phase = trace.trace_mag_phase()\n",
    "    \n",
    "    if plot:\n",
    "        fig, ax = plt.subplots(1, 1)\n",
    "        ax.plot(fvals*1e-9, 20*np.log10(mag))\n",
    "        ax.grid(dashes=[1,1])\n",
    "        ax.set_xlabel('Frequency (GHz)')\n",
    "        ax.set_ylabel('Magnitude (dBm)')\n",
    "        \n",
    "    return mag, phase\n",
    "\n",
    "\n",
    "@hardsweep(\n",
    "    ind=[('frequency', 'Hz', 'array')], \n",
    "    dep=[('amplitude', '', 'array'), ('phase', 'rad', 'array')]\n",
    ")\n",
    "def vna_frequency_sweep(*arg, **kw):\n",
    "    \"\"\"\n",
    "    Measurement function for a simple VNA trace for pytopo.sweep.\n",
    "    \n",
    "    All arguments will be passed to setup_trace.\n",
    "    Return data is as returned by take_trace.\n",
    "    \"\"\"\n",
    "    fvals = setup_frq_sweep(*arg, **kw)\n",
    "    mag, phase = take_trace(plot=False)\n",
    "    \n",
    "    return fvals, np.vstack((mag, phase))\n",
    "\n",
    "\n",
    "@hardsweep(\n",
    "    ind=[('frequency', 'Hz', 'array')], \n",
    "    dep=[('magnitude', 'dB', 'array'), ('phase', 'rad', 'array')]\n",
    ")\n",
    "def vna_frequency_sweep_dB(*arg, **kw):\n",
    "    \"\"\"\n",
    "    Measurement function for a simple VNA trace for pytopo.sweep.\n",
    "    \n",
    "    All arguments will be passed to setup_trace.\n",
    "    Return data is as returned by take_trace.\n",
    "    \"\"\"\n",
    "    fvals = setup_frq_sweep(*arg, **kw)\n",
    "    mag, phase = take_trace(plot=False)\n",
    "    \n",
    "    return fvals, np.vstack((20*np.log10(mag), phase))\n",
    "\n",
    "\n",
    "def setup_zerospan_trace(frq, npts, chan='S21', span=1.):\n",
    "    \"\"\"\n",
    "    Setup the VNA to measure a trace around <frq> with <npts> samples\n",
    "    in a very narray frequency span.\n",
    "    \"\"\"\n",
    "    vna = qc.Station.default.vna\n",
    "    trace = getattr(vna.channels, chan)\n",
    "    \n",
    "    trace.center(frq)\n",
    "    trace.span(span)\n",
    "    trace.npts(npts)\n",
    "    \n",
    "    trace.autoscale()\n",
    "    \n",
    "    if not vna.rf_power():\n",
    "        vna.rf_on()\n",
    "\n",
    "\n",
    "@hardsweep(\n",
    "    ind=[('iteration', '', 'array')], \n",
    "    dep=[('amplitude', '', 'array'), ('phase', 'rad', 'array')]\n",
    ")\n",
    "def vna_timetrace(*arg, **kw):\n",
    "    \"\"\"\n",
    "    Measure a 'time trace', emulated by a narrow span trace with many points.\n",
    "    \"\"\"\n",
    "    setup_zerospan_trace(*arg, **kw)\n",
    "    mag, phase = take_trace(plot=False)\n",
    "    \n",
    "    return np.arange(mag.size), np.vstack((mag, phase))\n",
    "\n",
    "\n",
    "@hardsweep(\n",
    "    ind=[('iteration', '', 'array')], \n",
    "    dep=[('magnitude', 'dB', 'array'), ('phase', 'rad', 'array')]\n",
    ")\n",
    "def vna_timetrace(*arg, **kw):\n",
    "    \"\"\"\n",
    "    Measure a 'time trace', emulated by a narrow span trace with many points.\n",
    "    \"\"\"\n",
    "    setup_zerospan_trace(*arg, **kw)\n",
    "    mag, phase = take_trace(plot=False)\n",
    "    \n",
    "    return np.arange(mag.size), np.vstack((20*np.log10(mag), phase))"
   ]
  },
  {
   "cell_type": "markdown",
   "metadata": {},
   "source": [
    "# Init station"
   ]
  },
  {
   "cell_type": "markdown",
   "metadata": {},
   "source": [
    "## Global variables"
   ]
  },
  {
   "cell_type": "code",
   "execution_count": 5,
   "metadata": {
    "ExecuteTime": {
     "end_time": "2019-05-03T09:34:35.891430Z",
     "start_time": "2019-05-03T09:34:35.887444Z"
    }
   },
   "outputs": [],
   "source": [
    "SAMPLE = \"W05_Combo_11_RF04_CD20190503\""
   ]
  },
  {
   "cell_type": "markdown",
   "metadata": {},
   "source": [
    "## Init instruments"
   ]
  },
  {
   "cell_type": "code",
   "execution_count": 6,
   "metadata": {
    "ExecuteTime": {
     "end_time": "2019-05-03T09:34:41.465325Z",
     "start_time": "2019-05-03T09:34:39.376567Z"
    }
   },
   "outputs": [
    {
     "name": "stdout",
     "output_type": "stream",
     "text": [
      "Connected to: Rohde-Schwarz ZNB20-2Port (serial:1311601062102038, firmware:2.92) in 0.52s\n",
      "Initialized IVVI-rack in 0.03s\n",
      "Connected to: OXFORD INSTRUMENTS MERCURY IPS (serial:124050266, firmware:2.6.04.000) in 0.12s\n",
      "Connected to: Rohde&Schwarz SGS100A (serial:1416.0505k02/110430, firmware:3.1.19.15-3.50.124.67) in 0.04s\n"
     ]
    }
   ],
   "source": [
    "%run -i \"D:\\OneDrive\\Setups\\LK1\\LK1_code\\Code\\LK1\\LK1\\init_station_VNA.py\""
   ]
  },
  {
   "cell_type": "code",
   "execution_count": 7,
   "metadata": {
    "ExecuteTime": {
     "end_time": "2019-05-03T09:34:42.677954Z",
     "start_time": "2019-05-03T09:34:42.272553Z"
    }
   },
   "outputs": [],
   "source": [
    "station.ivvi.set_dacs_zero()"
   ]
  },
  {
   "cell_type": "code",
   "execution_count": 8,
   "metadata": {
    "ExecuteTime": {
     "end_time": "2019-05-03T09:34:44.475339Z",
     "start_time": "2019-05-03T09:34:44.472336Z"
    }
   },
   "outputs": [
    {
     "data": {
      "text/plain": [
       "{'vna': <ZNB: vna>,\n",
       " 'ivvi': <IVVI: ivvi>,\n",
       " 'TWPA': <RohdeSchwarz_SGS100A: TWPA>,\n",
       " 'mgnt': <MercuryiPS: mgnt>}"
      ]
     },
     "execution_count": 8,
     "metadata": {},
     "output_type": "execute_result"
    }
   ],
   "source": [
    "station.components"
   ]
  },
  {
   "cell_type": "code",
   "execution_count": 9,
   "metadata": {
    "ExecuteTime": {
     "end_time": "2019-05-03T09:34:47.091755Z",
     "start_time": "2019-05-03T09:34:47.087750Z"
    }
   },
   "outputs": [],
   "source": [
    "numdacs = int(station.ivvi._numdacs)\n",
    "for i in range(1, numdacs+1):\n",
    "    station.ivvi.parameters['dac{}'.format(i)].step = 10\n",
    "    station.ivvi.parameters['dac{}'.format(i)].post_delay = 0.001"
   ]
  },
  {
   "cell_type": "code",
   "execution_count": 11,
   "metadata": {
    "ExecuteTime": {
     "end_time": "2019-05-03T09:34:54.636936Z",
     "start_time": "2019-05-03T09:34:54.609900Z"
    }
   },
   "outputs": [],
   "source": [
    "station.vna.add_channel('S21')\n",
    "station.vna.rf_off()"
   ]
  },
  {
   "cell_type": "markdown",
   "metadata": {},
   "source": [
    "## Setup-specific DAC assignments"
   ]
  },
  {
   "cell_type": "code",
   "execution_count": 16,
   "metadata": {
    "ExecuteTime": {
     "end_time": "2019-05-03T10:03:25.564203Z",
     "start_time": "2019-05-03T10:03:25.556198Z"
    }
   },
   "outputs": [],
   "source": [
    "dac_cutterD = station.ivvi.dac2\n",
    "dac_cutterC = station.ivvi.dac5\n",
    "dac_cutterB = station.ivvi.dac4\n",
    "dac_cutterA = station.ivvi.dac11\n",
    "\n",
    "#if we are measuring device A\n",
    "dac_bottomA = station.ivvi.dac13\n",
    "#dac_wrapLA = station.ivvi.dac13\n",
    "#dac_wrapRA = station.ivvi.dac3\n",
    "\n",
    "#if we are measuring deviceB\n",
    "dac_bottomB = station.ivvi.dac6\n",
    "#dac_wrapLB = station.ivvi.dac4\n",
    "#dac_wrapRB = station.ivvi.dac6\n",
    "\n",
    "#if we are measuring deviceC\n",
    "dac_bottomC = station.ivvi.dac1\n",
    "#dac_wrapLC = station.ivvi.dac1\n",
    "#dac_wrapRC = station.ivvi.dac11\n",
    "\n",
    "#if we are measuring deviceD\n",
    "dac_bottomD = station.ivvi.dac3\n",
    "#dac_wrapLD = station.ivvi.dac5\n",
    "#dac_wrapRD = station.ivvi.dac2\n",
    "\n",
    "@setter(('plungersB', 'mV'),)\n",
    "def set_plungersB(val):\n",
    "    \"\"\"\n",
    "    Set both plungers (left and right) to val (in mV).\n",
    "    \"\"\"\n",
    "    dac_wrapLB(val)\n",
    "    dac_wrapRB(val)\n",
    "    \n",
    "    return val\n",
    "\n",
    "@setter(('plungersD', 'mV'),)\n",
    "def set_plungersD(val):\n",
    "    \"\"\"\n",
    "    Set both plungers (left and right) to val (in mV).\n",
    "    \"\"\"\n",
    "    dac_wrapLD(val)\n",
    "    dac_wrapRD(val)\n",
    "    \n",
    "    return val\n",
    "\n",
    "@setter(('cuttersAll', 'mV'),)\n",
    "def set_cuttersAll(val):\n",
    "    \"\"\"\n",
    "    Set all four cutters to val (in mV).\n",
    "    \"\"\"\n",
    "    dac_cutterA(val)\n",
    "    dac_cutterB(val)\n",
    "    dac_cutterC(val)\n",
    "    dac_cutterD(val)\n",
    "    \n",
    "    return val\n",
    "\n",
    "@setter(('backgatesAll', 'mV'),)\n",
    "def set_backgatesAll(val):\n",
    "    \"\"\"\n",
    "    Set all four cutters to val (in mV).\n",
    "    \"\"\"\n",
    "    dac_bottomA(val)\n",
    "    dac_bottomB(val)\n",
    "    dac_bottomC(val)\n",
    "    dac_bottomD(val)\n",
    "    \n",
    "    return val\n",
    "\n",
    "\n",
    "@setter(('plungersAll', 'mV'),)\n",
    "def set_plungersAll(val):\n",
    "    \"\"\"\n",
    "    Set all plungers (left and right) to val (in mV).\n",
    "    \"\"\"\n",
    "    dac_wrapLD(val)\n",
    "    dac_wrapRD(val)\n",
    "    \n",
    "    dac_wrapLC(val)\n",
    "    dac_wrapRC(val)\n",
    "    \n",
    "    dac_wrapLB(val)\n",
    "    dac_wrapRB(val)\n",
    "    \n",
    "    dac_wrapLA(val)\n",
    "    dac_wrapRA(val)\n",
    "    \n",
    "    return val"
   ]
  },
  {
   "cell_type": "code",
   "execution_count": 13,
   "metadata": {
    "ExecuteTime": {
     "end_time": "2019-04-25T15:54:35.521018Z",
     "start_time": "2019-04-25T15:54:33.885309Z"
    }
   },
   "outputs": [],
   "source": [
    "time.sleep(1)"
   ]
  },
  {
   "cell_type": "code",
   "execution_count": 12,
   "metadata": {
    "ExecuteTime": {
     "end_time": "2019-05-03T09:34:58.714689Z",
     "start_time": "2019-05-03T09:34:58.712688Z"
    }
   },
   "outputs": [],
   "source": [
    "@setter(('none', 'mV'),)\n",
    "def set_none(val):\n",
    "    \"\"\"\n",
    "    Set none (in mV).\n",
    "    \"\"\"\n",
    "    time.sleep(1)\n",
    "    \n",
    "    return val"
   ]
  },
  {
   "cell_type": "code",
   "execution_count": null,
   "metadata": {
    "ExecuteTime": {
     "end_time": "2019-02-27T20:40:36.184369Z",
     "start_time": "2019-02-27T20:40:36.155349Z"
    }
   },
   "outputs": [],
   "source": [
    "freqs = np.linspace(3.0e9,7.0e9,4001)\n",
    "plt.figure()\n",
    "plt.plot(freqs,mag)\n",
    "plt.plot(freqs,mag1)"
   ]
  },
  {
   "cell_type": "code",
   "execution_count": null,
   "metadata": {
    "ExecuteTime": {
     "end_time": "2019-04-25T15:52:19.218699Z",
     "start_time": "2019-04-25T15:51:29.291Z"
    }
   },
   "outputs": [],
   "source": [
    "#check that we can take the trace correctly\n",
    "setup_frq_sweep(3.0e9, 7.0e9, 4001, bw=1e3, navgs=1, pwr=-60)\n",
    "mag, phase = take_trace(plot=True)"
   ]
  },
  {
   "cell_type": "code",
   "execution_count": null,
   "metadata": {
    "ExecuteTime": {
     "end_time": "2019-02-27T20:40:36.140338Z",
     "start_time": "2019-02-27T20:40:32.056721Z"
    }
   },
   "outputs": [],
   "source": [
    "setup_frq_sweep(3.0e9, 7.0e9, 4001, bw=1e3, navgs=1, pwr=-60)\n",
    "mag1, phase1 = take_trace(plot=True)"
   ]
  },
  {
   "cell_type": "code",
   "execution_count": null,
   "metadata": {
    "ExecuteTime": {
     "end_time": "2019-02-11T10:38:29.923391Z",
     "start_time": "2019-02-11T10:38:29.917387Z"
    }
   },
   "outputs": [],
   "source": [
    "twpa_pump.modulation_rf('OFF')"
   ]
  },
  {
   "cell_type": "markdown",
   "metadata": {},
   "source": [
    "# Testing"
   ]
  },
  {
   "cell_type": "markdown",
   "metadata": {
    "ExecuteTime": {
     "end_time": "2018-10-15T12:31:02.235649Z",
     "start_time": "2018-10-15T12:31:02.213640Z"
    }
   },
   "source": [
    "## Quick manual trace (without saving)"
   ]
  },
  {
   "cell_type": "code",
   "execution_count": null,
   "metadata": {
    "ExecuteTime": {
     "end_time": "2019-04-25T15:52:19.219700Z",
     "start_time": "2019-04-25T15:51:31.660Z"
    }
   },
   "outputs": [],
   "source": [
    "setup_frq_sweep(fstart=3e9, fstop=6e9, fpts=1501, pwr=-50)\n",
    "mag, phase = take_trace(plot=True)"
   ]
  },
  {
   "cell_type": "markdown",
   "metadata": {
    "ExecuteTime": {
     "end_time": "2018-10-15T13:41:13.770824Z",
     "start_time": "2018-10-15T13:41:13.756811Z"
    }
   },
   "source": [
    "# Take a single VNA trace"
   ]
  },
  {
   "cell_type": "code",
   "execution_count": null,
   "metadata": {
    "ExecuteTime": {
     "end_time": "2019-04-18T15:11:32.817395Z",
     "start_time": "2019-04-18T15:11:32.813372Z"
    }
   },
   "outputs": [],
   "source": [
    "station.components"
   ]
  },
  {
   "cell_type": "code",
   "execution_count": 13,
   "metadata": {
    "ExecuteTime": {
     "end_time": "2019-05-03T09:35:28.345017Z",
     "start_time": "2019-05-03T09:35:14.776718Z"
    },
    "scrolled": true
   },
   "outputs": [
    {
     "name": "stdout",
     "output_type": "stream",
     "text": [
      "Starting experimental run with id: 164\n"
     ]
    }
   ],
   "source": [
    "station.vna.S21.power(-50)\n",
    "sweep_obj = vna_frequency_sweep_dB(fstart=2.5e9, fstop=8.5e9, fpts=10001, chan='S21')\n",
    "\n",
    "result = do_experiment(f\"VNA/{SAMPLE}\", sweep_obj, live_plot=False)"
   ]
  },
  {
   "cell_type": "code",
   "execution_count": null,
   "metadata": {
    "ExecuteTime": {
     "end_time": "2019-04-04T13:09:36.411062Z",
     "start_time": "2019-04-04T13:09:36.154776Z"
    }
   },
   "outputs": [],
   "source": [
    "station.vna.S21.power(-50)\n",
    "sweep_obj = vna_frequency_sweep_dB(fstart=3.015e9, fstop=3.025e9, fpts=1001, chan='S21')\n",
    "\n",
    "result = do_experiment(f\"VNA/{SAMPLE}\", sweep_obj, live_plot=False)"
   ]
  },
  {
   "cell_type": "markdown",
   "metadata": {
    "ExecuteTime": {
     "end_time": "2019-01-30T12:37:24.295551Z",
     "start_time": "2019-01-30T12:37:24.291548Z"
    }
   },
   "source": [
    "# Take a gatesweep vs VNA"
   ]
  },
  {
   "cell_type": "code",
   "execution_count": null,
   "metadata": {
    "ExecuteTime": {
     "end_time": "2019-04-18T15:12:01.843006Z",
     "start_time": "2019-04-18T15:12:01.840006Z"
    }
   },
   "outputs": [],
   "source": [
    "station.vna.S21.avg(10)"
   ]
  },
  {
   "cell_type": "code",
   "execution_count": 20,
   "metadata": {
    "ExecuteTime": {
     "end_time": "2019-05-03T12:23:42.616284Z",
     "start_time": "2019-05-03T12:22:04.511516Z"
    }
   },
   "outputs": [],
   "source": [
    "station.ivvi.set_dacs_zero()"
   ]
  },
  {
   "cell_type": "code",
   "execution_count": null,
   "metadata": {
    "ExecuteTime": {
     "end_time": "2019-04-04T17:18:47.368849Z",
     "start_time": "2019-04-04T17:11:25.810834Z"
    }
   },
   "outputs": [],
   "source": [
    "for freqs in np.arange(2e9,6.1e9,0.5e9):\n",
    "    station.vna.S21.power(-60)\n",
    "    sweep_obj = vna_frequency_sweep_dB(fstart=freqs, fstop=freqs+0.5e9, fpts=5001, chan='S21')\n",
    "\n",
    "    result = do_experiment(f\"VNA/{SAMPLE}\", sweep_obj, live_plot=False)"
   ]
  },
  {
   "cell_type": "code",
   "execution_count": 71,
   "metadata": {
    "ExecuteTime": {
     "end_time": "2019-04-29T16:00:28.627366Z",
     "start_time": "2019-04-29T15:59:20.131315Z"
    }
   },
   "outputs": [],
   "source": [
    "station.ivvi.set_dacs_zero()"
   ]
  },
  {
   "cell_type": "code",
   "execution_count": null,
   "metadata": {
    "ExecuteTime": {
     "start_time": "2019-05-03T12:22:55.754Z"
    }
   },
   "outputs": [
    {
     "name": "stdout",
     "output_type": "stream",
     "text": [
      "Starting experimental run with id: 170\n"
     ]
    }
   ],
   "source": [
    "station.vna.S21.power(-55)\n",
    "station.vna.S21.avg(3)\n",
    "cur_cutter = dac_bottomA()\n",
    "sweep_obj = sweep(set_backgatesAll, np.arange(-1900.,1900.,10.))(\n",
    "    vna_frequency_sweep_dB(fstart=3.5e9, fstop=4.75e9, fpts=10001, chan='S21')\n",
    ")\n",
    "\n",
    "result = do_experiment(f\"VNA_gatesweep/{SAMPLE}\", sweep_obj, live_plot=False)"
   ]
  },
  {
   "cell_type": "code",
   "execution_count": 54,
   "metadata": {
    "ExecuteTime": {
     "end_time": "2019-04-29T10:58:17.540921Z",
     "start_time": "2019-04-29T10:54:15.082191Z"
    }
   },
   "outputs": [
    {
     "name": "stdout",
     "output_type": "stream",
     "text": [
      "Starting experimental run with id: 157\n"
     ]
    }
   ],
   "source": [
    "station.vna.S21.power(-55)\n",
    "station.vna.S21.avg(5)\n",
    "cur_cutter = dac_cutterA()\n",
    "sweep_obj = sweep(set_cuttersAll, np.arange(0.,-900.,-10.))(\n",
    "    vna_frequency_sweep_dB(fstart=3.644e9, fstop=3.646e9, fpts=4001, chan='S21')\n",
    ")\n",
    "\n",
    "result = do_experiment(f\"VNA_gatesweep/{SAMPLE}\", sweep_obj, live_plot=False)"
   ]
  },
  {
   "cell_type": "code",
   "execution_count": 69,
   "metadata": {
    "ExecuteTime": {
     "end_time": "2019-04-29T15:50:32.973941Z",
     "start_time": "2019-04-29T15:50:32.945898Z"
    }
   },
   "outputs": [],
   "source": [
    "station.ivvi.dac1(0.)"
   ]
  },
  {
   "cell_type": "code",
   "execution_count": 70,
   "metadata": {
    "ExecuteTime": {
     "end_time": "2019-04-29T15:59:16.731824Z",
     "start_time": "2019-04-29T15:52:05.713236Z"
    }
   },
   "outputs": [
    {
     "name": "stdout",
     "output_type": "stream",
     "text": [
      "Starting experimental run with id: 163\n"
     ]
    },
    {
     "ename": "KeyboardInterrupt",
     "evalue": "",
     "output_type": "error",
     "traceback": [
      "\u001b[1;31m---------------------------------------------------------------------------\u001b[0m",
      "\u001b[1;31mKeyboardInterrupt\u001b[0m                         Traceback (most recent call last)",
      "\u001b[1;32mD:\\OneDrive\\Setups\\LK1\\LK1_code\\Code\\LK1\\LK1\\init_station_VNA.py\u001b[0m in \u001b[0;36m<module>\u001b[1;34m()\u001b[0m\n\u001b[0;32m      6\u001b[0m )\n\u001b[0;32m      7\u001b[0m \u001b[1;33m\u001b[0m\u001b[0m\n\u001b[1;32m----> 8\u001b[1;33m \u001b[0mresult\u001b[0m \u001b[1;33m=\u001b[0m \u001b[0mdo_experiment\u001b[0m\u001b[1;33m(\u001b[0m\u001b[1;34mf\"VNA_gatesweep/{SAMPLE}\"\u001b[0m\u001b[1;33m,\u001b[0m \u001b[0msweep_obj\u001b[0m\u001b[1;33m,\u001b[0m \u001b[0mlive_plot\u001b[0m\u001b[1;33m=\u001b[0m\u001b[1;32mFalse\u001b[0m\u001b[1;33m)\u001b[0m\u001b[1;33m\u001b[0m\u001b[0m\n\u001b[0m",
      "\u001b[1;32md:\\onedrive\\setups\\lk1\\lk1_code\\code\\pytopo\\pytopo\\sweep\\do_experiment.py\u001b[0m in \u001b[0;36mdo_experiment\u001b[1;34m(experiment_name, sweep_object, setup, cleanup, station, live_plot)\u001b[0m\n\u001b[0;32m     92\u001b[0m             )\n\u001b[0;32m     93\u001b[0m \u001b[1;33m\u001b[0m\u001b[0m\n\u001b[1;32m---> 94\u001b[1;33m         \u001b[1;32mfor\u001b[0m \u001b[0mdata\u001b[0m \u001b[1;32min\u001b[0m \u001b[0msweep_object\u001b[0m\u001b[1;33m:\u001b[0m\u001b[1;33m\u001b[0m\u001b[0m\n\u001b[0m\u001b[0;32m     95\u001b[0m             \u001b[0mdatasaver\u001b[0m\u001b[1;33m.\u001b[0m\u001b[0madd_result\u001b[0m\u001b[1;33m(\u001b[0m\u001b[1;33m*\u001b[0m\u001b[0mdata\u001b[0m\u001b[1;33m.\u001b[0m\u001b[0mitems\u001b[0m\u001b[1;33m(\u001b[0m\u001b[1;33m)\u001b[0m\u001b[1;33m)\u001b[0m\u001b[1;33m\u001b[0m\u001b[0m\n\u001b[0;32m     96\u001b[0m \u001b[1;33m\u001b[0m\u001b[0m\n",
      "\u001b[1;32md:\\onedrive\\setups\\lk1\\lk1_code\\code\\pytopo\\pytopo\\sweep\\base.py\u001b[0m in \u001b[0;36m__next__\u001b[1;34m(self)\u001b[0m\n\u001b[0;32m     36\u001b[0m             \u001b[0mself\u001b[0m\u001b[1;33m.\u001b[0m\u001b[0m_start_iter\u001b[0m\u001b[1;33m(\u001b[0m\u001b[1;33m)\u001b[0m\u001b[1;33m\u001b[0m\u001b[0m\n\u001b[0;32m     37\u001b[0m \u001b[1;33m\u001b[0m\u001b[0m\n\u001b[1;32m---> 38\u001b[1;33m         \u001b[1;32mreturn\u001b[0m \u001b[0mnext\u001b[0m\u001b[1;33m(\u001b[0m\u001b[0mself\u001b[0m\u001b[1;33m.\u001b[0m\u001b[0m_generator\u001b[0m\u001b[1;33m)\u001b[0m\u001b[1;33m\u001b[0m\u001b[0m\n\u001b[0m\u001b[0;32m     39\u001b[0m \u001b[1;33m\u001b[0m\u001b[0m\n\u001b[0;32m     40\u001b[0m     \u001b[1;32mdef\u001b[0m \u001b[0m__call__\u001b[0m\u001b[1;33m(\u001b[0m\u001b[0mself\u001b[0m\u001b[1;33m,\u001b[0m \u001b[1;33m*\u001b[0m\u001b[0msweep_objects\u001b[0m\u001b[1;33m)\u001b[0m\u001b[1;33m:\u001b[0m\u001b[1;33m\u001b[0m\u001b[0m\n",
      "\u001b[1;32md:\\onedrive\\setups\\lk1\\lk1_code\\code\\pytopo\\pytopo\\sweep\\base.py\u001b[0m in \u001b[0;36m__next__\u001b[1;34m(self)\u001b[0m\n\u001b[0;32m     36\u001b[0m             \u001b[0mself\u001b[0m\u001b[1;33m.\u001b[0m\u001b[0m_start_iter\u001b[0m\u001b[1;33m(\u001b[0m\u001b[1;33m)\u001b[0m\u001b[1;33m\u001b[0m\u001b[0m\n\u001b[0;32m     37\u001b[0m \u001b[1;33m\u001b[0m\u001b[0m\n\u001b[1;32m---> 38\u001b[1;33m         \u001b[1;32mreturn\u001b[0m \u001b[0mnext\u001b[0m\u001b[1;33m(\u001b[0m\u001b[0mself\u001b[0m\u001b[1;33m.\u001b[0m\u001b[0m_generator\u001b[0m\u001b[1;33m)\u001b[0m\u001b[1;33m\u001b[0m\u001b[0m\n\u001b[0m\u001b[0;32m     39\u001b[0m \u001b[1;33m\u001b[0m\u001b[0m\n\u001b[0;32m     40\u001b[0m     \u001b[1;32mdef\u001b[0m \u001b[0m__call__\u001b[0m\u001b[1;33m(\u001b[0m\u001b[0mself\u001b[0m\u001b[1;33m,\u001b[0m \u001b[1;33m*\u001b[0m\u001b[0msweep_objects\u001b[0m\u001b[1;33m)\u001b[0m\u001b[1;33m:\u001b[0m\u001b[1;33m\u001b[0m\u001b[0m\n",
      "\u001b[1;32md:\\onedrive\\setups\\lk1\\lk1_code\\code\\pytopo\\pytopo\\sweep\\base.py\u001b[0m in \u001b[0;36m_generator_factory\u001b[1;34m(self)\u001b[0m\n\u001b[0;32m     79\u001b[0m \u001b[1;33m\u001b[0m\u001b[0m\n\u001b[0;32m     80\u001b[0m     \u001b[1;32mdef\u001b[0m \u001b[0m_generator_factory\u001b[0m\u001b[1;33m(\u001b[0m\u001b[0mself\u001b[0m\u001b[1;33m)\u001b[0m \u001b[1;33m->\u001b[0m\u001b[0mIterator\u001b[0m\u001b[1;33m:\u001b[0m\u001b[1;33m\u001b[0m\u001b[0m\n\u001b[1;32m---> 81\u001b[1;33m         \u001b[1;32mfor\u001b[0m \u001b[0mvalue\u001b[0m \u001b[1;32min\u001b[0m \u001b[0mself\u001b[0m\u001b[1;33m.\u001b[0m\u001b[0m_iterator_function\u001b[0m\u001b[1;33m(\u001b[0m\u001b[1;33m)\u001b[0m\u001b[1;33m:\u001b[0m\u001b[1;33m\u001b[0m\u001b[0m\n\u001b[0m\u001b[0;32m     82\u001b[0m             \u001b[1;32myield\u001b[0m \u001b[0mvalue\u001b[0m\u001b[1;33m\u001b[0m\u001b[0m\n\u001b[0;32m     83\u001b[0m \u001b[1;33m\u001b[0m\u001b[0m\n",
      "\u001b[1;32md:\\onedrive\\setups\\lk1\\lk1_code\\code\\pytopo\\pytopo\\sweep\\base.py\u001b[0m in \u001b[0;36minner\u001b[1;34m()\u001b[0m\n\u001b[0;32m    122\u001b[0m         \u001b[1;32mdef\u001b[0m \u001b[0minner\u001b[0m\u001b[1;33m(\u001b[0m\u001b[1;33m)\u001b[0m\u001b[1;33m:\u001b[0m\u001b[1;33m\u001b[0m\u001b[0m\n\u001b[0;32m    123\u001b[0m             \u001b[1;32mfor\u001b[0m \u001b[0mresult2\u001b[0m \u001b[1;32min\u001b[0m \u001b[0msweep_object2\u001b[0m\u001b[1;33m:\u001b[0m\u001b[1;33m\u001b[0m\u001b[0m\n\u001b[1;32m--> 124\u001b[1;33m                 \u001b[1;32mfor\u001b[0m \u001b[0mresult1\u001b[0m \u001b[1;32min\u001b[0m \u001b[0msweep_object1\u001b[0m\u001b[1;33m:\u001b[0m\u001b[1;33m\u001b[0m\u001b[0m\n\u001b[0m\u001b[0;32m    125\u001b[0m                     \u001b[0mresult1\u001b[0m\u001b[1;33m.\u001b[0m\u001b[0mupdate\u001b[0m\u001b[1;33m(\u001b[0m\u001b[0mresult2\u001b[0m\u001b[1;33m)\u001b[0m\u001b[1;33m\u001b[0m\u001b[0m\n\u001b[0;32m    126\u001b[0m                     \u001b[1;32myield\u001b[0m \u001b[0mresult1\u001b[0m\u001b[1;33m\u001b[0m\u001b[0m\n",
      "\u001b[1;32md:\\onedrive\\setups\\lk1\\lk1_code\\code\\pytopo\\pytopo\\sweep\\base.py\u001b[0m in \u001b[0;36m__next__\u001b[1;34m(self)\u001b[0m\n\u001b[0;32m     36\u001b[0m             \u001b[0mself\u001b[0m\u001b[1;33m.\u001b[0m\u001b[0m_start_iter\u001b[0m\u001b[1;33m(\u001b[0m\u001b[1;33m)\u001b[0m\u001b[1;33m\u001b[0m\u001b[0m\n\u001b[0;32m     37\u001b[0m \u001b[1;33m\u001b[0m\u001b[0m\n\u001b[1;32m---> 38\u001b[1;33m         \u001b[1;32mreturn\u001b[0m \u001b[0mnext\u001b[0m\u001b[1;33m(\u001b[0m\u001b[0mself\u001b[0m\u001b[1;33m.\u001b[0m\u001b[0m_generator\u001b[0m\u001b[1;33m)\u001b[0m\u001b[1;33m\u001b[0m\u001b[0m\n\u001b[0m\u001b[0;32m     39\u001b[0m \u001b[1;33m\u001b[0m\u001b[0m\n\u001b[0;32m     40\u001b[0m     \u001b[1;32mdef\u001b[0m \u001b[0m__call__\u001b[0m\u001b[1;33m(\u001b[0m\u001b[0mself\u001b[0m\u001b[1;33m,\u001b[0m \u001b[1;33m*\u001b[0m\u001b[0msweep_objects\u001b[0m\u001b[1;33m)\u001b[0m\u001b[1;33m:\u001b[0m\u001b[1;33m\u001b[0m\u001b[0m\n",
      "\u001b[1;32md:\\onedrive\\setups\\lk1\\lk1_code\\code\\pytopo\\pytopo\\sweep\\base.py\u001b[0m in \u001b[0;36m_generator_factory\u001b[1;34m(self)\u001b[0m\n\u001b[0;32m    152\u001b[0m     \u001b[1;32mdef\u001b[0m \u001b[0m_generator_factory\u001b[0m\u001b[1;33m(\u001b[0m\u001b[0mself\u001b[0m\u001b[1;33m)\u001b[0m \u001b[1;33m->\u001b[0m\u001b[0mIterator\u001b[0m\u001b[1;33m:\u001b[0m\u001b[1;33m\u001b[0m\u001b[0m\n\u001b[0;32m    153\u001b[0m         \u001b[1;32mfor\u001b[0m \u001b[0mso\u001b[0m \u001b[1;32min\u001b[0m \u001b[0mself\u001b[0m\u001b[1;33m.\u001b[0m\u001b[0m_sweep_objects\u001b[0m\u001b[1;33m:\u001b[0m\u001b[1;33m\u001b[0m\u001b[0m\n\u001b[1;32m--> 154\u001b[1;33m             \u001b[1;32mfor\u001b[0m \u001b[0mresult\u001b[0m \u001b[1;32min\u001b[0m \u001b[0mso\u001b[0m\u001b[1;33m:\u001b[0m\u001b[1;33m\u001b[0m\u001b[0m\n\u001b[0m\u001b[0;32m    155\u001b[0m                 \u001b[1;32myield\u001b[0m \u001b[0mresult\u001b[0m\u001b[1;33m\u001b[0m\u001b[0m\n\u001b[0;32m    156\u001b[0m \u001b[1;33m\u001b[0m\u001b[0m\n",
      "\u001b[1;32md:\\onedrive\\setups\\lk1\\lk1_code\\code\\pytopo\\pytopo\\sweep\\base.py\u001b[0m in \u001b[0;36m__next__\u001b[1;34m(self)\u001b[0m\n\u001b[0;32m     36\u001b[0m             \u001b[0mself\u001b[0m\u001b[1;33m.\u001b[0m\u001b[0m_start_iter\u001b[0m\u001b[1;33m(\u001b[0m\u001b[1;33m)\u001b[0m\u001b[1;33m\u001b[0m\u001b[0m\n\u001b[0;32m     37\u001b[0m \u001b[1;33m\u001b[0m\u001b[0m\n\u001b[1;32m---> 38\u001b[1;33m         \u001b[1;32mreturn\u001b[0m \u001b[0mnext\u001b[0m\u001b[1;33m(\u001b[0m\u001b[0mself\u001b[0m\u001b[1;33m.\u001b[0m\u001b[0m_generator\u001b[0m\u001b[1;33m)\u001b[0m\u001b[1;33m\u001b[0m\u001b[0m\n\u001b[0m\u001b[0;32m     39\u001b[0m \u001b[1;33m\u001b[0m\u001b[0m\n\u001b[0;32m     40\u001b[0m     \u001b[1;32mdef\u001b[0m \u001b[0m__call__\u001b[0m\u001b[1;33m(\u001b[0m\u001b[0mself\u001b[0m\u001b[1;33m,\u001b[0m \u001b[1;33m*\u001b[0m\u001b[0msweep_objects\u001b[0m\u001b[1;33m)\u001b[0m\u001b[1;33m:\u001b[0m\u001b[1;33m\u001b[0m\u001b[0m\n",
      "\u001b[1;32md:\\onedrive\\setups\\lk1\\lk1_code\\code\\pytopo\\pytopo\\sweep\\base.py\u001b[0m in \u001b[0;36m_generator_factory\u001b[1;34m(self)\u001b[0m\n\u001b[0;32m     79\u001b[0m \u001b[1;33m\u001b[0m\u001b[0m\n\u001b[0;32m     80\u001b[0m     \u001b[1;32mdef\u001b[0m \u001b[0m_generator_factory\u001b[0m\u001b[1;33m(\u001b[0m\u001b[0mself\u001b[0m\u001b[1;33m)\u001b[0m \u001b[1;33m->\u001b[0m\u001b[0mIterator\u001b[0m\u001b[1;33m:\u001b[0m\u001b[1;33m\u001b[0m\u001b[0m\n\u001b[1;32m---> 81\u001b[1;33m         \u001b[1;32mfor\u001b[0m \u001b[0mvalue\u001b[0m \u001b[1;32min\u001b[0m \u001b[0mself\u001b[0m\u001b[1;33m.\u001b[0m\u001b[0m_iterator_function\u001b[0m\u001b[1;33m(\u001b[0m\u001b[1;33m)\u001b[0m\u001b[1;33m:\u001b[0m\u001b[1;33m\u001b[0m\u001b[0m\n\u001b[0m\u001b[0;32m     82\u001b[0m             \u001b[1;32myield\u001b[0m \u001b[0mvalue\u001b[0m\u001b[1;33m\u001b[0m\u001b[0m\n\u001b[0;32m     83\u001b[0m \u001b[1;33m\u001b[0m\u001b[0m\n",
      "\u001b[1;32md:\\onedrive\\setups\\lk1\\lk1_code\\code\\pytopo\\pytopo\\sweep\\decorators.py\u001b[0m in \u001b[0;36mwrapper\u001b[1;34m()\u001b[0m\n\u001b[0;32m    185\u001b[0m \u001b[1;33m\u001b[0m\u001b[0m\n\u001b[0;32m    186\u001b[0m             \u001b[1;32mdef\u001b[0m \u001b[0mwrapper\u001b[0m\u001b[1;33m(\u001b[0m\u001b[1;33m)\u001b[0m \u001b[1;33m->\u001b[0m\u001b[0mdict\u001b[0m\u001b[1;33m:\u001b[0m\u001b[1;33m\u001b[0m\u001b[0m\n\u001b[1;32m--> 187\u001b[1;33m                 \u001b[0mspoints\u001b[0m\u001b[1;33m,\u001b[0m \u001b[0mmeasurements\u001b[0m \u001b[1;33m=\u001b[0m \u001b[0mfunc\u001b[0m\u001b[1;33m(\u001b[0m\u001b[1;33m*\u001b[0m\u001b[0margs\u001b[0m\u001b[1;33m,\u001b[0m \u001b[1;33m**\u001b[0m\u001b[0mkwargs\u001b[0m\u001b[1;33m)\u001b[0m\u001b[1;33m\u001b[0m\u001b[0m\n\u001b[0m\u001b[0;32m    188\u001b[0m \u001b[1;33m\u001b[0m\u001b[0m\n\u001b[0;32m    189\u001b[0m                 \u001b[0mspoints\u001b[0m \u001b[1;33m=\u001b[0m \u001b[0mnp\u001b[0m\u001b[1;33m.\u001b[0m\u001b[0matleast_2d\u001b[0m\u001b[1;33m(\u001b[0m\u001b[0mspoints\u001b[0m\u001b[1;33m)\u001b[0m\u001b[1;33m\u001b[0m\u001b[0m\n",
      "\u001b[1;32mD:\\OneDrive\\Setups\\LK1\\LK1_code\\Code\\LK1\\LK1\\init_station_VNA.py\u001b[0m in \u001b[0;36mvna_frequency_sweep_dB\u001b[1;34m(*arg, **kw)\u001b[0m\n\u001b[0;32m     79\u001b[0m     \"\"\"\n\u001b[0;32m     80\u001b[0m     \u001b[0mfvals\u001b[0m \u001b[1;33m=\u001b[0m \u001b[0msetup_frq_sweep\u001b[0m\u001b[1;33m(\u001b[0m\u001b[1;33m*\u001b[0m\u001b[0marg\u001b[0m\u001b[1;33m,\u001b[0m \u001b[1;33m**\u001b[0m\u001b[0mkw\u001b[0m\u001b[1;33m)\u001b[0m\u001b[1;33m\u001b[0m\u001b[0m\n\u001b[1;32m---> 81\u001b[1;33m     \u001b[0mmag\u001b[0m\u001b[1;33m,\u001b[0m \u001b[0mphase\u001b[0m \u001b[1;33m=\u001b[0m \u001b[0mtake_trace\u001b[0m\u001b[1;33m(\u001b[0m\u001b[0mplot\u001b[0m\u001b[1;33m=\u001b[0m\u001b[1;32mFalse\u001b[0m\u001b[1;33m)\u001b[0m\u001b[1;33m\u001b[0m\u001b[0m\n\u001b[0m\u001b[0;32m     82\u001b[0m \u001b[1;33m\u001b[0m\u001b[0m\n\u001b[0;32m     83\u001b[0m     \u001b[1;32mreturn\u001b[0m \u001b[0mfvals\u001b[0m\u001b[1;33m,\u001b[0m \u001b[0mnp\u001b[0m\u001b[1;33m.\u001b[0m\u001b[0mvstack\u001b[0m\u001b[1;33m(\u001b[0m\u001b[1;33m(\u001b[0m\u001b[1;36m20\u001b[0m\u001b[1;33m*\u001b[0m\u001b[0mnp\u001b[0m\u001b[1;33m.\u001b[0m\u001b[0mlog10\u001b[0m\u001b[1;33m(\u001b[0m\u001b[0mmag\u001b[0m\u001b[1;33m)\u001b[0m\u001b[1;33m,\u001b[0m \u001b[0mphase\u001b[0m\u001b[1;33m)\u001b[0m\u001b[1;33m)\u001b[0m\u001b[1;33m\u001b[0m\u001b[0m\n",
      "\u001b[1;32mD:\\OneDrive\\Setups\\LK1\\LK1_code\\Code\\LK1\\LK1\\init_station_VNA.py\u001b[0m in \u001b[0;36mtake_trace\u001b[1;34m(chan, plot)\u001b[0m\n\u001b[0;32m     38\u001b[0m \u001b[1;33m\u001b[0m\u001b[0m\n\u001b[0;32m     39\u001b[0m     \u001b[0mfvals\u001b[0m \u001b[1;33m=\u001b[0m \u001b[0mnp\u001b[0m\u001b[1;33m.\u001b[0m\u001b[0mlinspace\u001b[0m\u001b[1;33m(\u001b[0m\u001b[0mtrace\u001b[0m\u001b[1;33m.\u001b[0m\u001b[0mstart\u001b[0m\u001b[1;33m(\u001b[0m\u001b[1;33m)\u001b[0m\u001b[1;33m,\u001b[0m \u001b[0mtrace\u001b[0m\u001b[1;33m.\u001b[0m\u001b[0mstop\u001b[0m\u001b[1;33m(\u001b[0m\u001b[1;33m)\u001b[0m\u001b[1;33m,\u001b[0m \u001b[0mtrace\u001b[0m\u001b[1;33m.\u001b[0m\u001b[0mnpts\u001b[0m\u001b[1;33m(\u001b[0m\u001b[1;33m)\u001b[0m\u001b[1;33m)\u001b[0m\u001b[1;33m\u001b[0m\u001b[0m\n\u001b[1;32m---> 40\u001b[1;33m     \u001b[0mmag\u001b[0m\u001b[1;33m,\u001b[0m \u001b[0mphase\u001b[0m \u001b[1;33m=\u001b[0m \u001b[0mtrace\u001b[0m\u001b[1;33m.\u001b[0m\u001b[0mtrace_mag_phase\u001b[0m\u001b[1;33m(\u001b[0m\u001b[1;33m)\u001b[0m\u001b[1;33m\u001b[0m\u001b[0m\n\u001b[0m\u001b[0;32m     41\u001b[0m \u001b[1;33m\u001b[0m\u001b[0m\n\u001b[0;32m     42\u001b[0m     \u001b[1;32mif\u001b[0m \u001b[0mplot\u001b[0m\u001b[1;33m:\u001b[0m\u001b[1;33m\u001b[0m\u001b[0m\n",
      "\u001b[1;32md:\\onedrive\\setups\\lk1\\lk1_code\\code\\qcodes\\qcodes\\instrument\\parameter.py\u001b[0m in \u001b[0;36m__call__\u001b[1;34m(self, *args, **kwargs)\u001b[0m\n\u001b[0;32m    336\u001b[0m         \u001b[1;32mif\u001b[0m \u001b[0mlen\u001b[0m\u001b[1;33m(\u001b[0m\u001b[0margs\u001b[0m\u001b[1;33m)\u001b[0m \u001b[1;33m==\u001b[0m \u001b[1;36m0\u001b[0m\u001b[1;33m:\u001b[0m\u001b[1;33m\u001b[0m\u001b[0m\n\u001b[0;32m    337\u001b[0m             \u001b[1;32mif\u001b[0m \u001b[0mhasattr\u001b[0m\u001b[1;33m(\u001b[0m\u001b[0mself\u001b[0m\u001b[1;33m,\u001b[0m \u001b[1;34m'get'\u001b[0m\u001b[1;33m)\u001b[0m\u001b[1;33m:\u001b[0m\u001b[1;33m\u001b[0m\u001b[0m\n\u001b[1;32m--> 338\u001b[1;33m                 \u001b[1;32mreturn\u001b[0m \u001b[0mself\u001b[0m\u001b[1;33m.\u001b[0m\u001b[0mget\u001b[0m\u001b[1;33m(\u001b[0m\u001b[1;33m)\u001b[0m\u001b[1;33m\u001b[0m\u001b[0m\n\u001b[0m\u001b[0;32m    339\u001b[0m             \u001b[1;32melse\u001b[0m\u001b[1;33m:\u001b[0m\u001b[1;33m\u001b[0m\u001b[0m\n\u001b[0;32m    340\u001b[0m                 raise NotImplementedError('no get cmd found in' +\n",
      "\u001b[1;32md:\\onedrive\\setups\\lk1\\lk1_code\\code\\qcodes\\qcodes\\instrument\\parameter.py\u001b[0m in \u001b[0;36mget_wrapper\u001b[1;34m(*args, **kwargs)\u001b[0m\n\u001b[0;32m    417\u001b[0m             \u001b[1;32mtry\u001b[0m\u001b[1;33m:\u001b[0m\u001b[1;33m\u001b[0m\u001b[0m\n\u001b[0;32m    418\u001b[0m                 \u001b[1;31m# There might be cases where a .get also has args/kwargs\u001b[0m\u001b[1;33m\u001b[0m\u001b[1;33m\u001b[0m\u001b[0m\n\u001b[1;32m--> 419\u001b[1;33m                 \u001b[0mvalue\u001b[0m \u001b[1;33m=\u001b[0m \u001b[0mget_function\u001b[0m\u001b[1;33m(\u001b[0m\u001b[1;33m*\u001b[0m\u001b[0margs\u001b[0m\u001b[1;33m,\u001b[0m \u001b[1;33m**\u001b[0m\u001b[0mkwargs\u001b[0m\u001b[1;33m)\u001b[0m\u001b[1;33m\u001b[0m\u001b[0m\n\u001b[0m\u001b[0;32m    420\u001b[0m                 \u001b[0mself\u001b[0m\u001b[1;33m.\u001b[0m\u001b[0mraw_value\u001b[0m \u001b[1;33m=\u001b[0m \u001b[0mvalue\u001b[0m\u001b[1;33m\u001b[0m\u001b[0m\n\u001b[0;32m    421\u001b[0m \u001b[1;33m\u001b[0m\u001b[0m\n",
      "\u001b[1;32md:\\onedrive\\setups\\lk1\\lk1_code\\code\\qcodes\\qcodes\\instrument_drivers\\rohde_schwarz\\ZNB.py\u001b[0m in \u001b[0;36mget_raw\u001b[1;34m(self)\u001b[0m\n\u001b[0;32m     41\u001b[0m         \u001b[0mold_format\u001b[0m \u001b[1;33m=\u001b[0m \u001b[0mself\u001b[0m\u001b[1;33m.\u001b[0m\u001b[0m_instrument\u001b[0m\u001b[1;33m.\u001b[0m\u001b[0mformat\u001b[0m\u001b[1;33m(\u001b[0m\u001b[1;33m)\u001b[0m\u001b[1;33m\u001b[0m\u001b[0m\n\u001b[0;32m     42\u001b[0m         \u001b[0mself\u001b[0m\u001b[1;33m.\u001b[0m\u001b[0m_instrument\u001b[0m\u001b[1;33m.\u001b[0m\u001b[0mformat\u001b[0m\u001b[1;33m(\u001b[0m\u001b[1;34m'Complex'\u001b[0m\u001b[1;33m)\u001b[0m\u001b[1;33m\u001b[0m\u001b[0m\n\u001b[1;32m---> 43\u001b[1;33m         \u001b[0mdata\u001b[0m \u001b[1;33m=\u001b[0m \u001b[0mself\u001b[0m\u001b[1;33m.\u001b[0m\u001b[0m_instrument\u001b[0m\u001b[1;33m.\u001b[0m\u001b[0m_get_sweep_data\u001b[0m\u001b[1;33m(\u001b[0m\u001b[0mforce_polar\u001b[0m \u001b[1;33m=\u001b[0m \u001b[1;32mTrue\u001b[0m\u001b[1;33m)\u001b[0m\u001b[1;33m\u001b[0m\u001b[0m\n\u001b[0m\u001b[0;32m     44\u001b[0m         \u001b[0mself\u001b[0m\u001b[1;33m.\u001b[0m\u001b[0m_instrument\u001b[0m\u001b[1;33m.\u001b[0m\u001b[0mformat\u001b[0m\u001b[1;33m(\u001b[0m\u001b[0mold_format\u001b[0m\u001b[1;33m)\u001b[0m\u001b[1;33m\u001b[0m\u001b[0m\n\u001b[0;32m     45\u001b[0m         \u001b[1;32mreturn\u001b[0m \u001b[0mabs\u001b[0m\u001b[1;33m(\u001b[0m\u001b[0mdata\u001b[0m\u001b[1;33m)\u001b[0m\u001b[1;33m,\u001b[0m \u001b[0mnp\u001b[0m\u001b[1;33m.\u001b[0m\u001b[0mangle\u001b[0m\u001b[1;33m(\u001b[0m\u001b[0mdata\u001b[0m\u001b[1;33m)\u001b[0m\u001b[1;33m\u001b[0m\u001b[0m\n",
      "\u001b[1;32md:\\onedrive\\setups\\lk1\\lk1_code\\code\\qcodes\\qcodes\\instrument_drivers\\rohde_schwarz\\ZNB.py\u001b[0m in \u001b[0;36m_get_sweep_data\u001b[1;34m(self, force_polar)\u001b[0m\n\u001b[0;32m    372\u001b[0m             \u001b[1;32mfor\u001b[0m \u001b[0mavgcount\u001b[0m \u001b[1;32min\u001b[0m \u001b[0mrange\u001b[0m\u001b[1;33m(\u001b[0m\u001b[0mself\u001b[0m\u001b[1;33m.\u001b[0m\u001b[0mavg\u001b[0m\u001b[1;33m(\u001b[0m\u001b[1;33m)\u001b[0m\u001b[1;33m)\u001b[0m\u001b[1;33m:\u001b[0m\u001b[1;33m\u001b[0m\u001b[0m\n\u001b[0;32m    373\u001b[0m                 \u001b[0mself\u001b[0m\u001b[1;33m.\u001b[0m\u001b[0mwrite\u001b[0m\u001b[1;33m(\u001b[0m\u001b[1;34m'INIT{}:IMM; *WAI'\u001b[0m\u001b[1;33m.\u001b[0m\u001b[0mformat\u001b[0m\u001b[1;33m(\u001b[0m\u001b[0mself\u001b[0m\u001b[1;33m.\u001b[0m\u001b[0m_instrument_channel\u001b[0m\u001b[1;33m)\u001b[0m\u001b[1;33m)\u001b[0m\u001b[1;33m\u001b[0m\u001b[0m\n\u001b[1;32m--> 374\u001b[1;33m             \u001b[0mself\u001b[0m\u001b[1;33m.\u001b[0m\u001b[0m_parent\u001b[0m\u001b[1;33m.\u001b[0m\u001b[0mwrite\u001b[0m\u001b[1;33m(\u001b[0m\u001b[1;34mf\"CALC{self._instrument_channel}:PAR:SEL '{self._tracename}'\"\u001b[0m\u001b[1;33m)\u001b[0m\u001b[1;33m\u001b[0m\u001b[0m\n\u001b[0m\u001b[0;32m    375\u001b[0m             data_str = self.ask(\n\u001b[0;32m    376\u001b[0m                 'CALC{}:DATA? {}'.format(self._instrument_channel,\n",
      "\u001b[1;32md:\\onedrive\\setups\\lk1\\lk1_code\\code\\qcodes\\qcodes\\instrument\\base.py\u001b[0m in \u001b[0;36mwrite\u001b[1;34m(self, cmd)\u001b[0m\n\u001b[0;32m    708\u001b[0m         \"\"\"\n\u001b[0;32m    709\u001b[0m         \u001b[1;32mtry\u001b[0m\u001b[1;33m:\u001b[0m\u001b[1;33m\u001b[0m\u001b[0m\n\u001b[1;32m--> 710\u001b[1;33m             \u001b[0mself\u001b[0m\u001b[1;33m.\u001b[0m\u001b[0mwrite_raw\u001b[0m\u001b[1;33m(\u001b[0m\u001b[0mcmd\u001b[0m\u001b[1;33m)\u001b[0m\u001b[1;33m\u001b[0m\u001b[0m\n\u001b[0m\u001b[0;32m    711\u001b[0m         \u001b[1;32mexcept\u001b[0m \u001b[0mException\u001b[0m \u001b[1;32mas\u001b[0m \u001b[0me\u001b[0m\u001b[1;33m:\u001b[0m\u001b[1;33m\u001b[0m\u001b[0m\n\u001b[0;32m    712\u001b[0m             \u001b[0minst\u001b[0m \u001b[1;33m=\u001b[0m \u001b[0mrepr\u001b[0m\u001b[1;33m(\u001b[0m\u001b[0mself\u001b[0m\u001b[1;33m)\u001b[0m\u001b[1;33m\u001b[0m\u001b[0m\n",
      "\u001b[1;32md:\\onedrive\\setups\\lk1\\lk1_code\\code\\qcodes\\qcodes\\instrument\\visa.py\u001b[0m in \u001b[0;36mwrite_raw\u001b[1;34m(self, cmd)\u001b[0m\n\u001b[0;32m    213\u001b[0m         \u001b[0mself\u001b[0m\u001b[1;33m.\u001b[0m\u001b[0mvisa_log\u001b[0m\u001b[1;33m.\u001b[0m\u001b[0mdebug\u001b[0m\u001b[1;33m(\u001b[0m\u001b[1;34mf\"Writing: {cmd}\"\u001b[0m\u001b[1;33m)\u001b[0m\u001b[1;33m\u001b[0m\u001b[0m\n\u001b[0;32m    214\u001b[0m \u001b[1;33m\u001b[0m\u001b[0m\n\u001b[1;32m--> 215\u001b[1;33m         \u001b[0mnr_bytes_written\u001b[0m\u001b[1;33m,\u001b[0m \u001b[0mret_code\u001b[0m \u001b[1;33m=\u001b[0m \u001b[0mself\u001b[0m\u001b[1;33m.\u001b[0m\u001b[0mvisa_handle\u001b[0m\u001b[1;33m.\u001b[0m\u001b[0mwrite\u001b[0m\u001b[1;33m(\u001b[0m\u001b[0mcmd\u001b[0m\u001b[1;33m)\u001b[0m\u001b[1;33m\u001b[0m\u001b[0m\n\u001b[0m\u001b[0;32m    216\u001b[0m         \u001b[0mself\u001b[0m\u001b[1;33m.\u001b[0m\u001b[0mcheck_error\u001b[0m\u001b[1;33m(\u001b[0m\u001b[0mret_code\u001b[0m\u001b[1;33m)\u001b[0m\u001b[1;33m\u001b[0m\u001b[0m\n\u001b[0;32m    217\u001b[0m \u001b[1;33m\u001b[0m\u001b[0m\n",
      "\u001b[1;32mC:\\ProgramData\\Anaconda3\\envs\\qcodes\\lib\\site-packages\\pyvisa\\resources\\messagebased.py\u001b[0m in \u001b[0;36mwrite\u001b[1;34m(self, message, termination, encoding)\u001b[0m\n\u001b[0;32m    221\u001b[0m             \u001b[0mmessage\u001b[0m \u001b[1;33m+=\u001b[0m \u001b[0mterm\u001b[0m\u001b[1;33m\u001b[0m\u001b[0m\n\u001b[0;32m    222\u001b[0m \u001b[1;33m\u001b[0m\u001b[0m\n\u001b[1;32m--> 223\u001b[1;33m         \u001b[0mcount\u001b[0m \u001b[1;33m=\u001b[0m \u001b[0mself\u001b[0m\u001b[1;33m.\u001b[0m\u001b[0mwrite_raw\u001b[0m\u001b[1;33m(\u001b[0m\u001b[0mmessage\u001b[0m\u001b[1;33m.\u001b[0m\u001b[0mencode\u001b[0m\u001b[1;33m(\u001b[0m\u001b[0menco\u001b[0m\u001b[1;33m)\u001b[0m\u001b[1;33m)\u001b[0m\u001b[1;33m\u001b[0m\u001b[0m\n\u001b[0m\u001b[0;32m    224\u001b[0m \u001b[1;33m\u001b[0m\u001b[0m\n\u001b[0;32m    225\u001b[0m         \u001b[1;32mreturn\u001b[0m \u001b[0mcount\u001b[0m\u001b[1;33m\u001b[0m\u001b[0m\n",
      "\u001b[1;32mC:\\ProgramData\\Anaconda3\\envs\\qcodes\\lib\\site-packages\\pyvisa\\resources\\messagebased.py\u001b[0m in \u001b[0;36mwrite_raw\u001b[1;34m(self, message)\u001b[0m\n\u001b[0;32m    199\u001b[0m         \u001b[1;33m:\u001b[0m\u001b[0mrtype\u001b[0m\u001b[1;33m:\u001b[0m \u001b[0mint\u001b[0m\u001b[1;33m\u001b[0m\u001b[0m\n\u001b[0;32m    200\u001b[0m         \"\"\"\n\u001b[1;32m--> 201\u001b[1;33m         \u001b[1;32mreturn\u001b[0m \u001b[0mself\u001b[0m\u001b[1;33m.\u001b[0m\u001b[0mvisalib\u001b[0m\u001b[1;33m.\u001b[0m\u001b[0mwrite\u001b[0m\u001b[1;33m(\u001b[0m\u001b[0mself\u001b[0m\u001b[1;33m.\u001b[0m\u001b[0msession\u001b[0m\u001b[1;33m,\u001b[0m \u001b[0mmessage\u001b[0m\u001b[1;33m)\u001b[0m\u001b[1;33m\u001b[0m\u001b[0m\n\u001b[0m\u001b[0;32m    202\u001b[0m \u001b[1;33m\u001b[0m\u001b[0m\n\u001b[0;32m    203\u001b[0m     \u001b[1;32mdef\u001b[0m \u001b[0mwrite\u001b[0m\u001b[1;33m(\u001b[0m\u001b[0mself\u001b[0m\u001b[1;33m,\u001b[0m \u001b[0mmessage\u001b[0m\u001b[1;33m,\u001b[0m \u001b[0mtermination\u001b[0m\u001b[1;33m=\u001b[0m\u001b[1;32mNone\u001b[0m\u001b[1;33m,\u001b[0m \u001b[0mencoding\u001b[0m\u001b[1;33m=\u001b[0m\u001b[1;32mNone\u001b[0m\u001b[1;33m)\u001b[0m\u001b[1;33m:\u001b[0m\u001b[1;33m\u001b[0m\u001b[0m\n",
      "\u001b[1;32mC:\\ProgramData\\Anaconda3\\envs\\qcodes\\lib\\site-packages\\pyvisa\\ctwrapper\\functions.py\u001b[0m in \u001b[0;36mwrite\u001b[1;34m(library, session, data)\u001b[0m\n\u001b[0;32m   1864\u001b[0m     \u001b[0mreturn_count\u001b[0m \u001b[1;33m=\u001b[0m \u001b[0mViUInt32\u001b[0m\u001b[1;33m(\u001b[0m\u001b[1;33m)\u001b[0m\u001b[1;33m\u001b[0m\u001b[0m\n\u001b[0;32m   1865\u001b[0m     \u001b[1;31m# [ViSession, ViBuf, ViUInt32, ViPUInt32]\u001b[0m\u001b[1;33m\u001b[0m\u001b[1;33m\u001b[0m\u001b[0m\n\u001b[1;32m-> 1866\u001b[1;33m     \u001b[0mret\u001b[0m \u001b[1;33m=\u001b[0m \u001b[0mlibrary\u001b[0m\u001b[1;33m.\u001b[0m\u001b[0mviWrite\u001b[0m\u001b[1;33m(\u001b[0m\u001b[0msession\u001b[0m\u001b[1;33m,\u001b[0m \u001b[0mdata\u001b[0m\u001b[1;33m,\u001b[0m \u001b[0mlen\u001b[0m\u001b[1;33m(\u001b[0m\u001b[0mdata\u001b[0m\u001b[1;33m)\u001b[0m\u001b[1;33m,\u001b[0m \u001b[0mbyref\u001b[0m\u001b[1;33m(\u001b[0m\u001b[0mreturn_count\u001b[0m\u001b[1;33m)\u001b[0m\u001b[1;33m)\u001b[0m\u001b[1;33m\u001b[0m\u001b[0m\n\u001b[0m\u001b[0;32m   1867\u001b[0m     \u001b[1;32mreturn\u001b[0m \u001b[0mreturn_count\u001b[0m\u001b[1;33m.\u001b[0m\u001b[0mvalue\u001b[0m\u001b[1;33m,\u001b[0m \u001b[0mret\u001b[0m\u001b[1;33m\u001b[0m\u001b[0m\n\u001b[0;32m   1868\u001b[0m \u001b[1;33m\u001b[0m\u001b[0m\n",
      "\u001b[1;32mC:\\ProgramData\\Anaconda3\\envs\\qcodes\\lib\\site-packages\\pyvisa\\ctwrapper\\highlevel.py\u001b[0m in \u001b[0;36m_return_handler\u001b[1;34m(self, ret_value, func, arguments)\u001b[0m\n\u001b[0;32m    147\u001b[0m             \u001b[0msetattr\u001b[0m\u001b[1;33m(\u001b[0m\u001b[0mself\u001b[0m\u001b[1;33m,\u001b[0m \u001b[0mmethod_name\u001b[0m\u001b[1;33m,\u001b[0m \u001b[0mgetattr\u001b[0m\u001b[1;33m(\u001b[0m\u001b[0mself\u001b[0m\u001b[1;33m.\u001b[0m\u001b[0mlib\u001b[0m\u001b[1;33m,\u001b[0m \u001b[0mmethod_name\u001b[0m\u001b[1;33m)\u001b[0m\u001b[1;33m)\u001b[0m\u001b[1;33m\u001b[0m\u001b[0m\n\u001b[0;32m    148\u001b[0m \u001b[1;33m\u001b[0m\u001b[0m\n\u001b[1;32m--> 149\u001b[1;33m     \u001b[1;32mdef\u001b[0m \u001b[0m_return_handler\u001b[0m\u001b[1;33m(\u001b[0m\u001b[0mself\u001b[0m\u001b[1;33m,\u001b[0m \u001b[0mret_value\u001b[0m\u001b[1;33m,\u001b[0m \u001b[0mfunc\u001b[0m\u001b[1;33m,\u001b[0m \u001b[0marguments\u001b[0m\u001b[1;33m)\u001b[0m\u001b[1;33m:\u001b[0m\u001b[1;33m\u001b[0m\u001b[0m\n\u001b[0m\u001b[0;32m    150\u001b[0m         \"\"\"Check return values for errors and warnings.\n\u001b[0;32m    151\u001b[0m         \"\"\"\n",
      "\u001b[1;31mKeyboardInterrupt\u001b[0m: "
     ]
    }
   ],
   "source": [
    "station.vna.S21.power(-60)\n",
    "station.vna.S21.avg(2)\n",
    "cur_cutter = dac_bottomC()\n",
    "sweep_obj = sweep(station.ivvi.dac1, np.arange(0.,-900.,-2.))(\n",
    "    vna_frequency_sweep_dB(fstart=4.39e9, fstop=4.41e9, fpts=4001, chan='S21')\n",
    ")\n",
    "\n",
    "result = do_experiment(f\"VNA_gatesweep/{SAMPLE}\", sweep_obj, live_plot=False)"
   ]
  },
  {
   "cell_type": "code",
   "execution_count": null,
   "metadata": {
    "ExecuteTime": {
     "end_time": "2019-04-04T23:30:51.330694Z",
     "start_time": "2019-04-04T17:54:22.024088Z"
    }
   },
   "outputs": [],
   "source": [
    "for freqs in np.arange(2.5e9,7.1e9,0.5e9):\n",
    "    station.vna.S21.power(-60)\n",
    "    cur_cutter = dac_cutterA()\n",
    "    sweep_obj = sweep(set_cuttersAll, np.arange(0.,600.0,3))(\n",
    "        vna_frequency_sweep_dB(fstart=freqs, fstop=freqs+0.5e9, fpts=5001, chan='S21')\n",
    "    )\n",
    "\n",
    "    result = do_experiment(f\"VNA_gatesweep/{SAMPLE}\", sweep_obj, live_plot=False)"
   ]
  },
  {
   "cell_type": "code",
   "execution_count": 16,
   "metadata": {
    "ExecuteTime": {
     "end_time": "2019-04-26T08:40:15.347872Z",
     "start_time": "2019-04-25T17:30:57.672072Z"
    }
   },
   "outputs": [
    {
     "name": "stdout",
     "output_type": "stream",
     "text": [
      "Starting experimental run with id: 135\n",
      "Starting experimental run with id: 136\n",
      "Starting experimental run with id: 137\n"
     ]
    },
    {
     "ename": "KeyboardInterrupt",
     "evalue": "",
     "output_type": "error",
     "traceback": [
      "\u001b[1;31m---------------------------------------------------------------------------\u001b[0m",
      "\u001b[1;31mKeyboardInterrupt\u001b[0m                         Traceback (most recent call last)",
      "\u001b[1;32mD:\\OneDrive\\Setups\\LK1\\LK1_code\\Code\\LK1\\LK1\\init_station_VNA.py\u001b[0m in \u001b[0;36m<module>\u001b[1;34m()\u001b[0m\n\u001b[0;32m      7\u001b[0m     )\n\u001b[0;32m      8\u001b[0m \u001b[1;33m\u001b[0m\u001b[0m\n\u001b[1;32m----> 9\u001b[1;33m     \u001b[0mresult\u001b[0m \u001b[1;33m=\u001b[0m \u001b[0mdo_experiment\u001b[0m\u001b[1;33m(\u001b[0m\u001b[1;34mf\"VNA_gatesweep/{SAMPLE}\"\u001b[0m\u001b[1;33m,\u001b[0m \u001b[0msweep_obj\u001b[0m\u001b[1;33m,\u001b[0m \u001b[0mlive_plot\u001b[0m\u001b[1;33m=\u001b[0m\u001b[1;32mFalse\u001b[0m\u001b[1;33m)\u001b[0m\u001b[1;33m\u001b[0m\u001b[0m\n\u001b[0m",
      "\u001b[1;32md:\\onedrive\\setups\\lk1\\lk1_code\\code\\pytopo\\pytopo\\sweep\\do_experiment.py\u001b[0m in \u001b[0;36mdo_experiment\u001b[1;34m(experiment_name, sweep_object, setup, cleanup, station, live_plot)\u001b[0m\n\u001b[0;32m     92\u001b[0m             )\n\u001b[0;32m     93\u001b[0m \u001b[1;33m\u001b[0m\u001b[0m\n\u001b[1;32m---> 94\u001b[1;33m         \u001b[1;32mfor\u001b[0m \u001b[0mdata\u001b[0m \u001b[1;32min\u001b[0m \u001b[0msweep_object\u001b[0m\u001b[1;33m:\u001b[0m\u001b[1;33m\u001b[0m\u001b[0m\n\u001b[0m\u001b[0;32m     95\u001b[0m             \u001b[0mdatasaver\u001b[0m\u001b[1;33m.\u001b[0m\u001b[0madd_result\u001b[0m\u001b[1;33m(\u001b[0m\u001b[1;33m*\u001b[0m\u001b[0mdata\u001b[0m\u001b[1;33m.\u001b[0m\u001b[0mitems\u001b[0m\u001b[1;33m(\u001b[0m\u001b[1;33m)\u001b[0m\u001b[1;33m)\u001b[0m\u001b[1;33m\u001b[0m\u001b[0m\n\u001b[0;32m     96\u001b[0m \u001b[1;33m\u001b[0m\u001b[0m\n",
      "\u001b[1;32md:\\onedrive\\setups\\lk1\\lk1_code\\code\\pytopo\\pytopo\\sweep\\base.py\u001b[0m in \u001b[0;36m__next__\u001b[1;34m(self)\u001b[0m\n\u001b[0;32m     36\u001b[0m             \u001b[0mself\u001b[0m\u001b[1;33m.\u001b[0m\u001b[0m_start_iter\u001b[0m\u001b[1;33m(\u001b[0m\u001b[1;33m)\u001b[0m\u001b[1;33m\u001b[0m\u001b[0m\n\u001b[0;32m     37\u001b[0m \u001b[1;33m\u001b[0m\u001b[0m\n\u001b[1;32m---> 38\u001b[1;33m         \u001b[1;32mreturn\u001b[0m \u001b[0mnext\u001b[0m\u001b[1;33m(\u001b[0m\u001b[0mself\u001b[0m\u001b[1;33m.\u001b[0m\u001b[0m_generator\u001b[0m\u001b[1;33m)\u001b[0m\u001b[1;33m\u001b[0m\u001b[0m\n\u001b[0m\u001b[0;32m     39\u001b[0m \u001b[1;33m\u001b[0m\u001b[0m\n\u001b[0;32m     40\u001b[0m     \u001b[1;32mdef\u001b[0m \u001b[0m__call__\u001b[0m\u001b[1;33m(\u001b[0m\u001b[0mself\u001b[0m\u001b[1;33m,\u001b[0m \u001b[1;33m*\u001b[0m\u001b[0msweep_objects\u001b[0m\u001b[1;33m)\u001b[0m\u001b[1;33m:\u001b[0m\u001b[1;33m\u001b[0m\u001b[0m\n",
      "\u001b[1;32md:\\onedrive\\setups\\lk1\\lk1_code\\code\\pytopo\\pytopo\\sweep\\base.py\u001b[0m in \u001b[0;36m__next__\u001b[1;34m(self)\u001b[0m\n\u001b[0;32m     36\u001b[0m             \u001b[0mself\u001b[0m\u001b[1;33m.\u001b[0m\u001b[0m_start_iter\u001b[0m\u001b[1;33m(\u001b[0m\u001b[1;33m)\u001b[0m\u001b[1;33m\u001b[0m\u001b[0m\n\u001b[0;32m     37\u001b[0m \u001b[1;33m\u001b[0m\u001b[0m\n\u001b[1;32m---> 38\u001b[1;33m         \u001b[1;32mreturn\u001b[0m \u001b[0mnext\u001b[0m\u001b[1;33m(\u001b[0m\u001b[0mself\u001b[0m\u001b[1;33m.\u001b[0m\u001b[0m_generator\u001b[0m\u001b[1;33m)\u001b[0m\u001b[1;33m\u001b[0m\u001b[0m\n\u001b[0m\u001b[0;32m     39\u001b[0m \u001b[1;33m\u001b[0m\u001b[0m\n\u001b[0;32m     40\u001b[0m     \u001b[1;32mdef\u001b[0m \u001b[0m__call__\u001b[0m\u001b[1;33m(\u001b[0m\u001b[0mself\u001b[0m\u001b[1;33m,\u001b[0m \u001b[1;33m*\u001b[0m\u001b[0msweep_objects\u001b[0m\u001b[1;33m)\u001b[0m\u001b[1;33m:\u001b[0m\u001b[1;33m\u001b[0m\u001b[0m\n",
      "\u001b[1;32md:\\onedrive\\setups\\lk1\\lk1_code\\code\\pytopo\\pytopo\\sweep\\base.py\u001b[0m in \u001b[0;36m_generator_factory\u001b[1;34m(self)\u001b[0m\n\u001b[0;32m     79\u001b[0m \u001b[1;33m\u001b[0m\u001b[0m\n\u001b[0;32m     80\u001b[0m     \u001b[1;32mdef\u001b[0m \u001b[0m_generator_factory\u001b[0m\u001b[1;33m(\u001b[0m\u001b[0mself\u001b[0m\u001b[1;33m)\u001b[0m \u001b[1;33m->\u001b[0m\u001b[0mIterator\u001b[0m\u001b[1;33m:\u001b[0m\u001b[1;33m\u001b[0m\u001b[0m\n\u001b[1;32m---> 81\u001b[1;33m         \u001b[1;32mfor\u001b[0m \u001b[0mvalue\u001b[0m \u001b[1;32min\u001b[0m \u001b[0mself\u001b[0m\u001b[1;33m.\u001b[0m\u001b[0m_iterator_function\u001b[0m\u001b[1;33m(\u001b[0m\u001b[1;33m)\u001b[0m\u001b[1;33m:\u001b[0m\u001b[1;33m\u001b[0m\u001b[0m\n\u001b[0m\u001b[0;32m     82\u001b[0m             \u001b[1;32myield\u001b[0m \u001b[0mvalue\u001b[0m\u001b[1;33m\u001b[0m\u001b[0m\n\u001b[0;32m     83\u001b[0m \u001b[1;33m\u001b[0m\u001b[0m\n",
      "\u001b[1;32md:\\onedrive\\setups\\lk1\\lk1_code\\code\\pytopo\\pytopo\\sweep\\base.py\u001b[0m in \u001b[0;36minner\u001b[1;34m()\u001b[0m\n\u001b[0;32m    122\u001b[0m         \u001b[1;32mdef\u001b[0m \u001b[0minner\u001b[0m\u001b[1;33m(\u001b[0m\u001b[1;33m)\u001b[0m\u001b[1;33m:\u001b[0m\u001b[1;33m\u001b[0m\u001b[0m\n\u001b[0;32m    123\u001b[0m             \u001b[1;32mfor\u001b[0m \u001b[0mresult2\u001b[0m \u001b[1;32min\u001b[0m \u001b[0msweep_object2\u001b[0m\u001b[1;33m:\u001b[0m\u001b[1;33m\u001b[0m\u001b[0m\n\u001b[1;32m--> 124\u001b[1;33m                 \u001b[1;32mfor\u001b[0m \u001b[0mresult1\u001b[0m \u001b[1;32min\u001b[0m \u001b[0msweep_object1\u001b[0m\u001b[1;33m:\u001b[0m\u001b[1;33m\u001b[0m\u001b[0m\n\u001b[0m\u001b[0;32m    125\u001b[0m                     \u001b[0mresult1\u001b[0m\u001b[1;33m.\u001b[0m\u001b[0mupdate\u001b[0m\u001b[1;33m(\u001b[0m\u001b[0mresult2\u001b[0m\u001b[1;33m)\u001b[0m\u001b[1;33m\u001b[0m\u001b[0m\n\u001b[0;32m    126\u001b[0m                     \u001b[1;32myield\u001b[0m \u001b[0mresult1\u001b[0m\u001b[1;33m\u001b[0m\u001b[0m\n",
      "\u001b[1;32md:\\onedrive\\setups\\lk1\\lk1_code\\code\\pytopo\\pytopo\\sweep\\base.py\u001b[0m in \u001b[0;36m__next__\u001b[1;34m(self)\u001b[0m\n\u001b[0;32m     36\u001b[0m             \u001b[0mself\u001b[0m\u001b[1;33m.\u001b[0m\u001b[0m_start_iter\u001b[0m\u001b[1;33m(\u001b[0m\u001b[1;33m)\u001b[0m\u001b[1;33m\u001b[0m\u001b[0m\n\u001b[0;32m     37\u001b[0m \u001b[1;33m\u001b[0m\u001b[0m\n\u001b[1;32m---> 38\u001b[1;33m         \u001b[1;32mreturn\u001b[0m \u001b[0mnext\u001b[0m\u001b[1;33m(\u001b[0m\u001b[0mself\u001b[0m\u001b[1;33m.\u001b[0m\u001b[0m_generator\u001b[0m\u001b[1;33m)\u001b[0m\u001b[1;33m\u001b[0m\u001b[0m\n\u001b[0m\u001b[0;32m     39\u001b[0m \u001b[1;33m\u001b[0m\u001b[0m\n\u001b[0;32m     40\u001b[0m     \u001b[1;32mdef\u001b[0m \u001b[0m__call__\u001b[0m\u001b[1;33m(\u001b[0m\u001b[0mself\u001b[0m\u001b[1;33m,\u001b[0m \u001b[1;33m*\u001b[0m\u001b[0msweep_objects\u001b[0m\u001b[1;33m)\u001b[0m\u001b[1;33m:\u001b[0m\u001b[1;33m\u001b[0m\u001b[0m\n",
      "\u001b[1;32md:\\onedrive\\setups\\lk1\\lk1_code\\code\\pytopo\\pytopo\\sweep\\base.py\u001b[0m in \u001b[0;36m_generator_factory\u001b[1;34m(self)\u001b[0m\n\u001b[0;32m    152\u001b[0m     \u001b[1;32mdef\u001b[0m \u001b[0m_generator_factory\u001b[0m\u001b[1;33m(\u001b[0m\u001b[0mself\u001b[0m\u001b[1;33m)\u001b[0m \u001b[1;33m->\u001b[0m\u001b[0mIterator\u001b[0m\u001b[1;33m:\u001b[0m\u001b[1;33m\u001b[0m\u001b[0m\n\u001b[0;32m    153\u001b[0m         \u001b[1;32mfor\u001b[0m \u001b[0mso\u001b[0m \u001b[1;32min\u001b[0m \u001b[0mself\u001b[0m\u001b[1;33m.\u001b[0m\u001b[0m_sweep_objects\u001b[0m\u001b[1;33m:\u001b[0m\u001b[1;33m\u001b[0m\u001b[0m\n\u001b[1;32m--> 154\u001b[1;33m             \u001b[1;32mfor\u001b[0m \u001b[0mresult\u001b[0m \u001b[1;32min\u001b[0m \u001b[0mso\u001b[0m\u001b[1;33m:\u001b[0m\u001b[1;33m\u001b[0m\u001b[0m\n\u001b[0m\u001b[0;32m    155\u001b[0m                 \u001b[1;32myield\u001b[0m \u001b[0mresult\u001b[0m\u001b[1;33m\u001b[0m\u001b[0m\n\u001b[0;32m    156\u001b[0m \u001b[1;33m\u001b[0m\u001b[0m\n",
      "\u001b[1;32md:\\onedrive\\setups\\lk1\\lk1_code\\code\\pytopo\\pytopo\\sweep\\base.py\u001b[0m in \u001b[0;36m__next__\u001b[1;34m(self)\u001b[0m\n\u001b[0;32m     36\u001b[0m             \u001b[0mself\u001b[0m\u001b[1;33m.\u001b[0m\u001b[0m_start_iter\u001b[0m\u001b[1;33m(\u001b[0m\u001b[1;33m)\u001b[0m\u001b[1;33m\u001b[0m\u001b[0m\n\u001b[0;32m     37\u001b[0m \u001b[1;33m\u001b[0m\u001b[0m\n\u001b[1;32m---> 38\u001b[1;33m         \u001b[1;32mreturn\u001b[0m \u001b[0mnext\u001b[0m\u001b[1;33m(\u001b[0m\u001b[0mself\u001b[0m\u001b[1;33m.\u001b[0m\u001b[0m_generator\u001b[0m\u001b[1;33m)\u001b[0m\u001b[1;33m\u001b[0m\u001b[0m\n\u001b[0m\u001b[0;32m     39\u001b[0m \u001b[1;33m\u001b[0m\u001b[0m\n\u001b[0;32m     40\u001b[0m     \u001b[1;32mdef\u001b[0m \u001b[0m__call__\u001b[0m\u001b[1;33m(\u001b[0m\u001b[0mself\u001b[0m\u001b[1;33m,\u001b[0m \u001b[1;33m*\u001b[0m\u001b[0msweep_objects\u001b[0m\u001b[1;33m)\u001b[0m\u001b[1;33m:\u001b[0m\u001b[1;33m\u001b[0m\u001b[0m\n",
      "\u001b[1;32md:\\onedrive\\setups\\lk1\\lk1_code\\code\\pytopo\\pytopo\\sweep\\base.py\u001b[0m in \u001b[0;36m_generator_factory\u001b[1;34m(self)\u001b[0m\n\u001b[0;32m     79\u001b[0m \u001b[1;33m\u001b[0m\u001b[0m\n\u001b[0;32m     80\u001b[0m     \u001b[1;32mdef\u001b[0m \u001b[0m_generator_factory\u001b[0m\u001b[1;33m(\u001b[0m\u001b[0mself\u001b[0m\u001b[1;33m)\u001b[0m \u001b[1;33m->\u001b[0m\u001b[0mIterator\u001b[0m\u001b[1;33m:\u001b[0m\u001b[1;33m\u001b[0m\u001b[0m\n\u001b[1;32m---> 81\u001b[1;33m         \u001b[1;32mfor\u001b[0m \u001b[0mvalue\u001b[0m \u001b[1;32min\u001b[0m \u001b[0mself\u001b[0m\u001b[1;33m.\u001b[0m\u001b[0m_iterator_function\u001b[0m\u001b[1;33m(\u001b[0m\u001b[1;33m)\u001b[0m\u001b[1;33m:\u001b[0m\u001b[1;33m\u001b[0m\u001b[0m\n\u001b[0m\u001b[0;32m     82\u001b[0m             \u001b[1;32myield\u001b[0m \u001b[0mvalue\u001b[0m\u001b[1;33m\u001b[0m\u001b[0m\n\u001b[0;32m     83\u001b[0m \u001b[1;33m\u001b[0m\u001b[0m\n",
      "\u001b[1;32md:\\onedrive\\setups\\lk1\\lk1_code\\code\\pytopo\\pytopo\\sweep\\decorators.py\u001b[0m in \u001b[0;36mwrapper\u001b[1;34m()\u001b[0m\n\u001b[0;32m    185\u001b[0m \u001b[1;33m\u001b[0m\u001b[0m\n\u001b[0;32m    186\u001b[0m             \u001b[1;32mdef\u001b[0m \u001b[0mwrapper\u001b[0m\u001b[1;33m(\u001b[0m\u001b[1;33m)\u001b[0m \u001b[1;33m->\u001b[0m\u001b[0mdict\u001b[0m\u001b[1;33m:\u001b[0m\u001b[1;33m\u001b[0m\u001b[0m\n\u001b[1;32m--> 187\u001b[1;33m                 \u001b[0mspoints\u001b[0m\u001b[1;33m,\u001b[0m \u001b[0mmeasurements\u001b[0m \u001b[1;33m=\u001b[0m \u001b[0mfunc\u001b[0m\u001b[1;33m(\u001b[0m\u001b[1;33m*\u001b[0m\u001b[0margs\u001b[0m\u001b[1;33m,\u001b[0m \u001b[1;33m**\u001b[0m\u001b[0mkwargs\u001b[0m\u001b[1;33m)\u001b[0m\u001b[1;33m\u001b[0m\u001b[0m\n\u001b[0m\u001b[0;32m    188\u001b[0m \u001b[1;33m\u001b[0m\u001b[0m\n\u001b[0;32m    189\u001b[0m                 \u001b[0mspoints\u001b[0m \u001b[1;33m=\u001b[0m \u001b[0mnp\u001b[0m\u001b[1;33m.\u001b[0m\u001b[0matleast_2d\u001b[0m\u001b[1;33m(\u001b[0m\u001b[0mspoints\u001b[0m\u001b[1;33m)\u001b[0m\u001b[1;33m\u001b[0m\u001b[0m\n",
      "\u001b[1;32mD:\\OneDrive\\Setups\\LK1\\LK1_code\\Code\\LK1\\LK1\\init_station_VNA.py\u001b[0m in \u001b[0;36mvna_frequency_sweep_dB\u001b[1;34m(*arg, **kw)\u001b[0m\n\u001b[0;32m     79\u001b[0m     \"\"\"\n\u001b[0;32m     80\u001b[0m     \u001b[0mfvals\u001b[0m \u001b[1;33m=\u001b[0m \u001b[0msetup_frq_sweep\u001b[0m\u001b[1;33m(\u001b[0m\u001b[1;33m*\u001b[0m\u001b[0marg\u001b[0m\u001b[1;33m,\u001b[0m \u001b[1;33m**\u001b[0m\u001b[0mkw\u001b[0m\u001b[1;33m)\u001b[0m\u001b[1;33m\u001b[0m\u001b[0m\n\u001b[1;32m---> 81\u001b[1;33m     \u001b[0mmag\u001b[0m\u001b[1;33m,\u001b[0m \u001b[0mphase\u001b[0m \u001b[1;33m=\u001b[0m \u001b[0mtake_trace\u001b[0m\u001b[1;33m(\u001b[0m\u001b[0mplot\u001b[0m\u001b[1;33m=\u001b[0m\u001b[1;32mFalse\u001b[0m\u001b[1;33m)\u001b[0m\u001b[1;33m\u001b[0m\u001b[0m\n\u001b[0m\u001b[0;32m     82\u001b[0m \u001b[1;33m\u001b[0m\u001b[0m\n\u001b[0;32m     83\u001b[0m     \u001b[1;32mreturn\u001b[0m \u001b[0mfvals\u001b[0m\u001b[1;33m,\u001b[0m \u001b[0mnp\u001b[0m\u001b[1;33m.\u001b[0m\u001b[0mvstack\u001b[0m\u001b[1;33m(\u001b[0m\u001b[1;33m(\u001b[0m\u001b[1;36m20\u001b[0m\u001b[1;33m*\u001b[0m\u001b[0mnp\u001b[0m\u001b[1;33m.\u001b[0m\u001b[0mlog10\u001b[0m\u001b[1;33m(\u001b[0m\u001b[0mmag\u001b[0m\u001b[1;33m)\u001b[0m\u001b[1;33m,\u001b[0m \u001b[0mphase\u001b[0m\u001b[1;33m)\u001b[0m\u001b[1;33m)\u001b[0m\u001b[1;33m\u001b[0m\u001b[0m\n",
      "\u001b[1;32mD:\\OneDrive\\Setups\\LK1\\LK1_code\\Code\\LK1\\LK1\\init_station_VNA.py\u001b[0m in \u001b[0;36mtake_trace\u001b[1;34m(chan, plot)\u001b[0m\n\u001b[0;32m     38\u001b[0m \u001b[1;33m\u001b[0m\u001b[0m\n\u001b[0;32m     39\u001b[0m     \u001b[0mfvals\u001b[0m \u001b[1;33m=\u001b[0m \u001b[0mnp\u001b[0m\u001b[1;33m.\u001b[0m\u001b[0mlinspace\u001b[0m\u001b[1;33m(\u001b[0m\u001b[0mtrace\u001b[0m\u001b[1;33m.\u001b[0m\u001b[0mstart\u001b[0m\u001b[1;33m(\u001b[0m\u001b[1;33m)\u001b[0m\u001b[1;33m,\u001b[0m \u001b[0mtrace\u001b[0m\u001b[1;33m.\u001b[0m\u001b[0mstop\u001b[0m\u001b[1;33m(\u001b[0m\u001b[1;33m)\u001b[0m\u001b[1;33m,\u001b[0m \u001b[0mtrace\u001b[0m\u001b[1;33m.\u001b[0m\u001b[0mnpts\u001b[0m\u001b[1;33m(\u001b[0m\u001b[1;33m)\u001b[0m\u001b[1;33m)\u001b[0m\u001b[1;33m\u001b[0m\u001b[0m\n\u001b[1;32m---> 40\u001b[1;33m     \u001b[0mmag\u001b[0m\u001b[1;33m,\u001b[0m \u001b[0mphase\u001b[0m \u001b[1;33m=\u001b[0m \u001b[0mtrace\u001b[0m\u001b[1;33m.\u001b[0m\u001b[0mtrace_mag_phase\u001b[0m\u001b[1;33m(\u001b[0m\u001b[1;33m)\u001b[0m\u001b[1;33m\u001b[0m\u001b[0m\n\u001b[0m\u001b[0;32m     41\u001b[0m \u001b[1;33m\u001b[0m\u001b[0m\n\u001b[0;32m     42\u001b[0m     \u001b[1;32mif\u001b[0m \u001b[0mplot\u001b[0m\u001b[1;33m:\u001b[0m\u001b[1;33m\u001b[0m\u001b[0m\n",
      "\u001b[1;32md:\\onedrive\\setups\\lk1\\lk1_code\\code\\qcodes\\qcodes\\instrument\\parameter.py\u001b[0m in \u001b[0;36m__call__\u001b[1;34m(self, *args, **kwargs)\u001b[0m\n\u001b[0;32m    336\u001b[0m         \u001b[1;32mif\u001b[0m \u001b[0mlen\u001b[0m\u001b[1;33m(\u001b[0m\u001b[0margs\u001b[0m\u001b[1;33m)\u001b[0m \u001b[1;33m==\u001b[0m \u001b[1;36m0\u001b[0m\u001b[1;33m:\u001b[0m\u001b[1;33m\u001b[0m\u001b[0m\n\u001b[0;32m    337\u001b[0m             \u001b[1;32mif\u001b[0m \u001b[0mhasattr\u001b[0m\u001b[1;33m(\u001b[0m\u001b[0mself\u001b[0m\u001b[1;33m,\u001b[0m \u001b[1;34m'get'\u001b[0m\u001b[1;33m)\u001b[0m\u001b[1;33m:\u001b[0m\u001b[1;33m\u001b[0m\u001b[0m\n\u001b[1;32m--> 338\u001b[1;33m                 \u001b[1;32mreturn\u001b[0m \u001b[0mself\u001b[0m\u001b[1;33m.\u001b[0m\u001b[0mget\u001b[0m\u001b[1;33m(\u001b[0m\u001b[1;33m)\u001b[0m\u001b[1;33m\u001b[0m\u001b[0m\n\u001b[0m\u001b[0;32m    339\u001b[0m             \u001b[1;32melse\u001b[0m\u001b[1;33m:\u001b[0m\u001b[1;33m\u001b[0m\u001b[0m\n\u001b[0;32m    340\u001b[0m                 raise NotImplementedError('no get cmd found in' +\n",
      "\u001b[1;32md:\\onedrive\\setups\\lk1\\lk1_code\\code\\qcodes\\qcodes\\instrument\\parameter.py\u001b[0m in \u001b[0;36mget_wrapper\u001b[1;34m(*args, **kwargs)\u001b[0m\n\u001b[0;32m    417\u001b[0m             \u001b[1;32mtry\u001b[0m\u001b[1;33m:\u001b[0m\u001b[1;33m\u001b[0m\u001b[0m\n\u001b[0;32m    418\u001b[0m                 \u001b[1;31m# There might be cases where a .get also has args/kwargs\u001b[0m\u001b[1;33m\u001b[0m\u001b[1;33m\u001b[0m\u001b[0m\n\u001b[1;32m--> 419\u001b[1;33m                 \u001b[0mvalue\u001b[0m \u001b[1;33m=\u001b[0m \u001b[0mget_function\u001b[0m\u001b[1;33m(\u001b[0m\u001b[1;33m*\u001b[0m\u001b[0margs\u001b[0m\u001b[1;33m,\u001b[0m \u001b[1;33m**\u001b[0m\u001b[0mkwargs\u001b[0m\u001b[1;33m)\u001b[0m\u001b[1;33m\u001b[0m\u001b[0m\n\u001b[0m\u001b[0;32m    420\u001b[0m                 \u001b[0mself\u001b[0m\u001b[1;33m.\u001b[0m\u001b[0mraw_value\u001b[0m \u001b[1;33m=\u001b[0m \u001b[0mvalue\u001b[0m\u001b[1;33m\u001b[0m\u001b[0m\n\u001b[0;32m    421\u001b[0m \u001b[1;33m\u001b[0m\u001b[0m\n",
      "\u001b[1;32md:\\onedrive\\setups\\lk1\\lk1_code\\code\\qcodes\\qcodes\\instrument_drivers\\rohde_schwarz\\ZNB.py\u001b[0m in \u001b[0;36mget_raw\u001b[1;34m(self)\u001b[0m\n\u001b[0;32m     41\u001b[0m         \u001b[0mold_format\u001b[0m \u001b[1;33m=\u001b[0m \u001b[0mself\u001b[0m\u001b[1;33m.\u001b[0m\u001b[0m_instrument\u001b[0m\u001b[1;33m.\u001b[0m\u001b[0mformat\u001b[0m\u001b[1;33m(\u001b[0m\u001b[1;33m)\u001b[0m\u001b[1;33m\u001b[0m\u001b[0m\n\u001b[0;32m     42\u001b[0m         \u001b[0mself\u001b[0m\u001b[1;33m.\u001b[0m\u001b[0m_instrument\u001b[0m\u001b[1;33m.\u001b[0m\u001b[0mformat\u001b[0m\u001b[1;33m(\u001b[0m\u001b[1;34m'Complex'\u001b[0m\u001b[1;33m)\u001b[0m\u001b[1;33m\u001b[0m\u001b[0m\n\u001b[1;32m---> 43\u001b[1;33m         \u001b[0mdata\u001b[0m \u001b[1;33m=\u001b[0m \u001b[0mself\u001b[0m\u001b[1;33m.\u001b[0m\u001b[0m_instrument\u001b[0m\u001b[1;33m.\u001b[0m\u001b[0m_get_sweep_data\u001b[0m\u001b[1;33m(\u001b[0m\u001b[0mforce_polar\u001b[0m \u001b[1;33m=\u001b[0m \u001b[1;32mTrue\u001b[0m\u001b[1;33m)\u001b[0m\u001b[1;33m\u001b[0m\u001b[0m\n\u001b[0m\u001b[0;32m     44\u001b[0m         \u001b[0mself\u001b[0m\u001b[1;33m.\u001b[0m\u001b[0m_instrument\u001b[0m\u001b[1;33m.\u001b[0m\u001b[0mformat\u001b[0m\u001b[1;33m(\u001b[0m\u001b[0mold_format\u001b[0m\u001b[1;33m)\u001b[0m\u001b[1;33m\u001b[0m\u001b[0m\n\u001b[0;32m     45\u001b[0m         \u001b[1;32mreturn\u001b[0m \u001b[0mabs\u001b[0m\u001b[1;33m(\u001b[0m\u001b[0mdata\u001b[0m\u001b[1;33m)\u001b[0m\u001b[1;33m,\u001b[0m \u001b[0mnp\u001b[0m\u001b[1;33m.\u001b[0m\u001b[0mangle\u001b[0m\u001b[1;33m(\u001b[0m\u001b[0mdata\u001b[0m\u001b[1;33m)\u001b[0m\u001b[1;33m\u001b[0m\u001b[0m\n",
      "\u001b[1;32md:\\onedrive\\setups\\lk1\\lk1_code\\code\\qcodes\\qcodes\\instrument_drivers\\rohde_schwarz\\ZNB.py\u001b[0m in \u001b[0;36m_get_sweep_data\u001b[1;34m(self, force_polar)\u001b[0m\n\u001b[0;32m    371\u001b[0m             \u001b[1;31m# need to ensure averaged result is returned\u001b[0m\u001b[1;33m\u001b[0m\u001b[1;33m\u001b[0m\u001b[0m\n\u001b[0;32m    372\u001b[0m             \u001b[1;32mfor\u001b[0m \u001b[0mavgcount\u001b[0m \u001b[1;32min\u001b[0m \u001b[0mrange\u001b[0m\u001b[1;33m(\u001b[0m\u001b[0mself\u001b[0m\u001b[1;33m.\u001b[0m\u001b[0mavg\u001b[0m\u001b[1;33m(\u001b[0m\u001b[1;33m)\u001b[0m\u001b[1;33m)\u001b[0m\u001b[1;33m:\u001b[0m\u001b[1;33m\u001b[0m\u001b[0m\n\u001b[1;32m--> 373\u001b[1;33m                 \u001b[0mself\u001b[0m\u001b[1;33m.\u001b[0m\u001b[0mwrite\u001b[0m\u001b[1;33m(\u001b[0m\u001b[1;34m'INIT{}:IMM; *WAI'\u001b[0m\u001b[1;33m.\u001b[0m\u001b[0mformat\u001b[0m\u001b[1;33m(\u001b[0m\u001b[0mself\u001b[0m\u001b[1;33m.\u001b[0m\u001b[0m_instrument_channel\u001b[0m\u001b[1;33m)\u001b[0m\u001b[1;33m)\u001b[0m\u001b[1;33m\u001b[0m\u001b[0m\n\u001b[0m\u001b[0;32m    374\u001b[0m             \u001b[0mself\u001b[0m\u001b[1;33m.\u001b[0m\u001b[0m_parent\u001b[0m\u001b[1;33m.\u001b[0m\u001b[0mwrite\u001b[0m\u001b[1;33m(\u001b[0m\u001b[1;34mf\"CALC{self._instrument_channel}:PAR:SEL '{self._tracename}'\"\u001b[0m\u001b[1;33m)\u001b[0m\u001b[1;33m\u001b[0m\u001b[0m\n\u001b[0;32m    375\u001b[0m             data_str = self.ask(\n",
      "\u001b[1;32md:\\onedrive\\setups\\lk1\\lk1_code\\code\\qcodes\\qcodes\\instrument\\channel.py\u001b[0m in \u001b[0;36mwrite\u001b[1;34m(self, cmd)\u001b[0m\n\u001b[0;32m     60\u001b[0m     \u001b[1;31m# Pass any commands to read or write from the instrument up to the parent\u001b[0m\u001b[1;33m\u001b[0m\u001b[1;33m\u001b[0m\u001b[0m\n\u001b[0;32m     61\u001b[0m     \u001b[1;32mdef\u001b[0m \u001b[0mwrite\u001b[0m\u001b[1;33m(\u001b[0m\u001b[0mself\u001b[0m\u001b[1;33m,\u001b[0m \u001b[0mcmd\u001b[0m\u001b[1;33m)\u001b[0m\u001b[1;33m:\u001b[0m\u001b[1;33m\u001b[0m\u001b[0m\n\u001b[1;32m---> 62\u001b[1;33m         \u001b[1;32mreturn\u001b[0m \u001b[0mself\u001b[0m\u001b[1;33m.\u001b[0m\u001b[0m_parent\u001b[0m\u001b[1;33m.\u001b[0m\u001b[0mwrite\u001b[0m\u001b[1;33m(\u001b[0m\u001b[0mcmd\u001b[0m\u001b[1;33m)\u001b[0m\u001b[1;33m\u001b[0m\u001b[0m\n\u001b[0m\u001b[0;32m     63\u001b[0m \u001b[1;33m\u001b[0m\u001b[0m\n\u001b[0;32m     64\u001b[0m     \u001b[1;32mdef\u001b[0m \u001b[0mwrite_raw\u001b[0m\u001b[1;33m(\u001b[0m\u001b[0mself\u001b[0m\u001b[1;33m,\u001b[0m \u001b[0mcmd\u001b[0m\u001b[1;33m)\u001b[0m\u001b[1;33m:\u001b[0m\u001b[1;33m\u001b[0m\u001b[0m\n",
      "\u001b[1;32md:\\onedrive\\setups\\lk1\\lk1_code\\code\\qcodes\\qcodes\\instrument\\base.py\u001b[0m in \u001b[0;36mwrite\u001b[1;34m(self, cmd)\u001b[0m\n\u001b[0;32m    708\u001b[0m         \"\"\"\n\u001b[0;32m    709\u001b[0m         \u001b[1;32mtry\u001b[0m\u001b[1;33m:\u001b[0m\u001b[1;33m\u001b[0m\u001b[0m\n\u001b[1;32m--> 710\u001b[1;33m             \u001b[0mself\u001b[0m\u001b[1;33m.\u001b[0m\u001b[0mwrite_raw\u001b[0m\u001b[1;33m(\u001b[0m\u001b[0mcmd\u001b[0m\u001b[1;33m)\u001b[0m\u001b[1;33m\u001b[0m\u001b[0m\n\u001b[0m\u001b[0;32m    711\u001b[0m         \u001b[1;32mexcept\u001b[0m \u001b[0mException\u001b[0m \u001b[1;32mas\u001b[0m \u001b[0me\u001b[0m\u001b[1;33m:\u001b[0m\u001b[1;33m\u001b[0m\u001b[0m\n\u001b[0;32m    712\u001b[0m             \u001b[0minst\u001b[0m \u001b[1;33m=\u001b[0m \u001b[0mrepr\u001b[0m\u001b[1;33m(\u001b[0m\u001b[0mself\u001b[0m\u001b[1;33m)\u001b[0m\u001b[1;33m\u001b[0m\u001b[0m\n",
      "\u001b[1;32md:\\onedrive\\setups\\lk1\\lk1_code\\code\\qcodes\\qcodes\\instrument\\visa.py\u001b[0m in \u001b[0;36mwrite_raw\u001b[1;34m(self, cmd)\u001b[0m\n\u001b[0;32m    213\u001b[0m         \u001b[0mself\u001b[0m\u001b[1;33m.\u001b[0m\u001b[0mvisa_log\u001b[0m\u001b[1;33m.\u001b[0m\u001b[0mdebug\u001b[0m\u001b[1;33m(\u001b[0m\u001b[1;34mf\"Writing: {cmd}\"\u001b[0m\u001b[1;33m)\u001b[0m\u001b[1;33m\u001b[0m\u001b[0m\n\u001b[0;32m    214\u001b[0m \u001b[1;33m\u001b[0m\u001b[0m\n\u001b[1;32m--> 215\u001b[1;33m         \u001b[0mnr_bytes_written\u001b[0m\u001b[1;33m,\u001b[0m \u001b[0mret_code\u001b[0m \u001b[1;33m=\u001b[0m \u001b[0mself\u001b[0m\u001b[1;33m.\u001b[0m\u001b[0mvisa_handle\u001b[0m\u001b[1;33m.\u001b[0m\u001b[0mwrite\u001b[0m\u001b[1;33m(\u001b[0m\u001b[0mcmd\u001b[0m\u001b[1;33m)\u001b[0m\u001b[1;33m\u001b[0m\u001b[0m\n\u001b[0m\u001b[0;32m    216\u001b[0m         \u001b[0mself\u001b[0m\u001b[1;33m.\u001b[0m\u001b[0mcheck_error\u001b[0m\u001b[1;33m(\u001b[0m\u001b[0mret_code\u001b[0m\u001b[1;33m)\u001b[0m\u001b[1;33m\u001b[0m\u001b[0m\n\u001b[0;32m    217\u001b[0m \u001b[1;33m\u001b[0m\u001b[0m\n",
      "\u001b[1;32mC:\\ProgramData\\Anaconda3\\envs\\qcodes\\lib\\site-packages\\pyvisa\\resources\\messagebased.py\u001b[0m in \u001b[0;36mwrite\u001b[1;34m(self, message, termination, encoding)\u001b[0m\n\u001b[0;32m    221\u001b[0m             \u001b[0mmessage\u001b[0m \u001b[1;33m+=\u001b[0m \u001b[0mterm\u001b[0m\u001b[1;33m\u001b[0m\u001b[0m\n\u001b[0;32m    222\u001b[0m \u001b[1;33m\u001b[0m\u001b[0m\n\u001b[1;32m--> 223\u001b[1;33m         \u001b[0mcount\u001b[0m \u001b[1;33m=\u001b[0m \u001b[0mself\u001b[0m\u001b[1;33m.\u001b[0m\u001b[0mwrite_raw\u001b[0m\u001b[1;33m(\u001b[0m\u001b[0mmessage\u001b[0m\u001b[1;33m.\u001b[0m\u001b[0mencode\u001b[0m\u001b[1;33m(\u001b[0m\u001b[0menco\u001b[0m\u001b[1;33m)\u001b[0m\u001b[1;33m)\u001b[0m\u001b[1;33m\u001b[0m\u001b[0m\n\u001b[0m\u001b[0;32m    224\u001b[0m \u001b[1;33m\u001b[0m\u001b[0m\n\u001b[0;32m    225\u001b[0m         \u001b[1;32mreturn\u001b[0m \u001b[0mcount\u001b[0m\u001b[1;33m\u001b[0m\u001b[0m\n",
      "\u001b[1;32mC:\\ProgramData\\Anaconda3\\envs\\qcodes\\lib\\site-packages\\pyvisa\\resources\\messagebased.py\u001b[0m in \u001b[0;36mwrite_raw\u001b[1;34m(self, message)\u001b[0m\n\u001b[0;32m    199\u001b[0m         \u001b[1;33m:\u001b[0m\u001b[0mrtype\u001b[0m\u001b[1;33m:\u001b[0m \u001b[0mint\u001b[0m\u001b[1;33m\u001b[0m\u001b[0m\n\u001b[0;32m    200\u001b[0m         \"\"\"\n\u001b[1;32m--> 201\u001b[1;33m         \u001b[1;32mreturn\u001b[0m \u001b[0mself\u001b[0m\u001b[1;33m.\u001b[0m\u001b[0mvisalib\u001b[0m\u001b[1;33m.\u001b[0m\u001b[0mwrite\u001b[0m\u001b[1;33m(\u001b[0m\u001b[0mself\u001b[0m\u001b[1;33m.\u001b[0m\u001b[0msession\u001b[0m\u001b[1;33m,\u001b[0m \u001b[0mmessage\u001b[0m\u001b[1;33m)\u001b[0m\u001b[1;33m\u001b[0m\u001b[0m\n\u001b[0m\u001b[0;32m    202\u001b[0m \u001b[1;33m\u001b[0m\u001b[0m\n\u001b[0;32m    203\u001b[0m     \u001b[1;32mdef\u001b[0m \u001b[0mwrite\u001b[0m\u001b[1;33m(\u001b[0m\u001b[0mself\u001b[0m\u001b[1;33m,\u001b[0m \u001b[0mmessage\u001b[0m\u001b[1;33m,\u001b[0m \u001b[0mtermination\u001b[0m\u001b[1;33m=\u001b[0m\u001b[1;32mNone\u001b[0m\u001b[1;33m,\u001b[0m \u001b[0mencoding\u001b[0m\u001b[1;33m=\u001b[0m\u001b[1;32mNone\u001b[0m\u001b[1;33m)\u001b[0m\u001b[1;33m:\u001b[0m\u001b[1;33m\u001b[0m\u001b[0m\n",
      "\u001b[1;32mC:\\ProgramData\\Anaconda3\\envs\\qcodes\\lib\\site-packages\\pyvisa\\ctwrapper\\functions.py\u001b[0m in \u001b[0;36mwrite\u001b[1;34m(library, session, data)\u001b[0m\n\u001b[0;32m   1864\u001b[0m     \u001b[0mreturn_count\u001b[0m \u001b[1;33m=\u001b[0m \u001b[0mViUInt32\u001b[0m\u001b[1;33m(\u001b[0m\u001b[1;33m)\u001b[0m\u001b[1;33m\u001b[0m\u001b[0m\n\u001b[0;32m   1865\u001b[0m     \u001b[1;31m# [ViSession, ViBuf, ViUInt32, ViPUInt32]\u001b[0m\u001b[1;33m\u001b[0m\u001b[1;33m\u001b[0m\u001b[0m\n\u001b[1;32m-> 1866\u001b[1;33m     \u001b[0mret\u001b[0m \u001b[1;33m=\u001b[0m \u001b[0mlibrary\u001b[0m\u001b[1;33m.\u001b[0m\u001b[0mviWrite\u001b[0m\u001b[1;33m(\u001b[0m\u001b[0msession\u001b[0m\u001b[1;33m,\u001b[0m \u001b[0mdata\u001b[0m\u001b[1;33m,\u001b[0m \u001b[0mlen\u001b[0m\u001b[1;33m(\u001b[0m\u001b[0mdata\u001b[0m\u001b[1;33m)\u001b[0m\u001b[1;33m,\u001b[0m \u001b[0mbyref\u001b[0m\u001b[1;33m(\u001b[0m\u001b[0mreturn_count\u001b[0m\u001b[1;33m)\u001b[0m\u001b[1;33m)\u001b[0m\u001b[1;33m\u001b[0m\u001b[0m\n\u001b[0m\u001b[0;32m   1867\u001b[0m     \u001b[1;32mreturn\u001b[0m \u001b[0mreturn_count\u001b[0m\u001b[1;33m.\u001b[0m\u001b[0mvalue\u001b[0m\u001b[1;33m,\u001b[0m \u001b[0mret\u001b[0m\u001b[1;33m\u001b[0m\u001b[0m\n\u001b[0;32m   1868\u001b[0m \u001b[1;33m\u001b[0m\u001b[0m\n",
      "\u001b[1;32mC:\\ProgramData\\Anaconda3\\envs\\qcodes\\lib\\site-packages\\pyvisa\\ctwrapper\\highlevel.py\u001b[0m in \u001b[0;36m_return_handler\u001b[1;34m(self, ret_value, func, arguments)\u001b[0m\n\u001b[0;32m    147\u001b[0m             \u001b[0msetattr\u001b[0m\u001b[1;33m(\u001b[0m\u001b[0mself\u001b[0m\u001b[1;33m,\u001b[0m \u001b[0mmethod_name\u001b[0m\u001b[1;33m,\u001b[0m \u001b[0mgetattr\u001b[0m\u001b[1;33m(\u001b[0m\u001b[0mself\u001b[0m\u001b[1;33m.\u001b[0m\u001b[0mlib\u001b[0m\u001b[1;33m,\u001b[0m \u001b[0mmethod_name\u001b[0m\u001b[1;33m)\u001b[0m\u001b[1;33m)\u001b[0m\u001b[1;33m\u001b[0m\u001b[0m\n\u001b[0;32m    148\u001b[0m \u001b[1;33m\u001b[0m\u001b[0m\n\u001b[1;32m--> 149\u001b[1;33m     \u001b[1;32mdef\u001b[0m \u001b[0m_return_handler\u001b[0m\u001b[1;33m(\u001b[0m\u001b[0mself\u001b[0m\u001b[1;33m,\u001b[0m \u001b[0mret_value\u001b[0m\u001b[1;33m,\u001b[0m \u001b[0mfunc\u001b[0m\u001b[1;33m,\u001b[0m \u001b[0marguments\u001b[0m\u001b[1;33m)\u001b[0m\u001b[1;33m:\u001b[0m\u001b[1;33m\u001b[0m\u001b[0m\n\u001b[0m\u001b[0;32m    150\u001b[0m         \"\"\"Check return values for errors and warnings.\n\u001b[0;32m    151\u001b[0m         \"\"\"\n",
      "\u001b[1;31mKeyboardInterrupt\u001b[0m: "
     ]
    }
   ],
   "source": [
    "for i in np.arange(1000):\n",
    "    station.vna.S21.avg(20)\n",
    "    station.vna.S21.power(-50)\n",
    "\n",
    "    sweep_obj = sweep(set_none, np.arange(1000))(\n",
    "        vna_frequency_sweep_dB(fstart=2.5e9, fstop=7.5e9, fpts=8001, chan='S21')\n",
    "    )\n",
    "\n",
    "    result = do_experiment(f\"VNA_gatesweep/{SAMPLE}\", sweep_obj, live_plot=False)"
   ]
  },
  {
   "cell_type": "code",
   "execution_count": null,
   "metadata": {
    "ExecuteTime": {
     "end_time": "2019-04-04T14:34:06.279127Z",
     "start_time": "2019-04-04T14:29:32.221186Z"
    }
   },
   "outputs": [],
   "source": [
    "station.vna.S21.power(-60)\n",
    "cur_cutter = dac_bottomA()\n",
    "sweep_obj = sweep(dac_cutterA, np.arange(0.,1500.0,50))(\n",
    "    vna_frequency_sweep_dB(fstart=2.5e9, fstop=5.5e9, fpts=4001, chan='S21')\n",
    ")\n",
    "\n",
    "result = do_experiment(f\"VNA_gatesweep/{SAMPLE}\", sweep_obj, live_plot=False)"
   ]
  },
  {
   "cell_type": "code",
   "execution_count": null,
   "metadata": {
    "ExecuteTime": {
     "end_time": "2019-04-04T14:42:20.174447Z",
     "start_time": "2019-04-04T14:38:05.094775Z"
    }
   },
   "outputs": [],
   "source": [
    "station.vna.S21.power(-60)\n",
    "cur_cutter = dac_cutterB()\n",
    "sweep_obj = sweep(dac_cutterB, np.arange(0.,1500.0,50))(\n",
    "    vna_frequency_sweep_dB(fstart=2.5e9, fstop=5.5e9, fpts=4001, chan='S21')\n",
    ")\n",
    "\n",
    "result = do_experiment(f\"VNA_gatesweep/{SAMPLE}\", sweep_obj, live_plot=False)"
   ]
  },
  {
   "cell_type": "code",
   "execution_count": null,
   "metadata": {
    "ExecuteTime": {
     "end_time": "2019-04-04T14:47:55.932134Z",
     "start_time": "2019-04-04T14:43:40.840777Z"
    }
   },
   "outputs": [],
   "source": [
    "station.vna.S21.power(-60)\n",
    "cur_cutter = dac_bottomB()\n",
    "sweep_obj = sweep(dac_bottomB, np.arange(0.,1500.0,50))(\n",
    "    vna_frequency_sweep_dB(fstart=2.5e9, fstop=5.5e9, fpts=4001, chan='S21')\n",
    ")\n",
    "\n",
    "result = do_experiment(f\"VNA_gatesweep/{SAMPLE}\", sweep_obj, live_plot=False)"
   ]
  },
  {
   "cell_type": "code",
   "execution_count": null,
   "metadata": {
    "ExecuteTime": {
     "end_time": "2019-04-04T15:03:41.200411Z",
     "start_time": "2019-04-04T14:53:30.741908Z"
    }
   },
   "outputs": [],
   "source": [
    "station.vna.S21.power(-60)\n",
    "cur_cutter = dac_cutterC()\n",
    "sweep_obj = sweep(dac_cutterC, np.arange(0.,1500.0,50))(\n",
    "    vna_frequency_sweep_dB(fstart=2.5e9, fstop=5.5e9, fpts=4001, chan='S21')\n",
    ")\n",
    "\n",
    "result = do_experiment(f\"VNA_gatesweep/{SAMPLE}\", sweep_obj, live_plot=False)"
   ]
  },
  {
   "cell_type": "code",
   "execution_count": null,
   "metadata": {
    "ExecuteTime": {
     "end_time": "2019-04-04T15:13:51.694877Z",
     "start_time": "2019-04-04T15:03:41.200411Z"
    }
   },
   "outputs": [],
   "source": [
    "station.vna.S21.power(-60)\n",
    "cur_cutter = dac_bottomC()\n",
    "sweep_obj = sweep(dac_bottomC, np.arange(0.,1500.0,50))(\n",
    "    vna_frequency_sweep_dB(fstart=2.5e9, fstop=5.5e9, fpts=4001, chan='S21')\n",
    ")\n",
    "\n",
    "result = do_experiment(f\"VNA_gatesweep/{SAMPLE}\", sweep_obj, live_plot=False)"
   ]
  },
  {
   "cell_type": "code",
   "execution_count": null,
   "metadata": {
    "ExecuteTime": {
     "end_time": "2019-04-04T15:24:02.242499Z",
     "start_time": "2019-04-04T15:13:51.694877Z"
    }
   },
   "outputs": [],
   "source": [
    "station.vna.S21.power(-60)\n",
    "cur_cutter = dac_cutterD()\n",
    "sweep_obj = sweep(dac_cutterD, np.arange(0.,1500.0,50))(\n",
    "    vna_frequency_sweep_dB(fstart=2.5e9, fstop=5.5e9, fpts=4001, chan='S21')\n",
    ")\n",
    "\n",
    "result = do_experiment(f\"VNA_gatesweep/{SAMPLE}\", sweep_obj, live_plot=False)"
   ]
  },
  {
   "cell_type": "code",
   "execution_count": null,
   "metadata": {
    "ExecuteTime": {
     "end_time": "2019-04-04T15:34:12.763238Z",
     "start_time": "2019-04-04T15:24:02.242499Z"
    }
   },
   "outputs": [],
   "source": [
    "station.vna.S21.power(-60)\n",
    "cur_cutter = dac_bottomD()\n",
    "sweep_obj = sweep(dac_bottomD, np.arange(0.,1500.0,50))(\n",
    "    vna_frequency_sweep_dB(fstart=2.5e9, fstop=5.5e9, fpts=4001, chan='S21')\n",
    ")\n",
    "\n",
    "result = do_experiment(f\"VNA_gatesweep/{SAMPLE}\", sweep_obj, live_plot=False)"
   ]
  },
  {
   "cell_type": "code",
   "execution_count": null,
   "metadata": {
    "ExecuteTime": {
     "end_time": "2019-04-05T09:37:42.309075Z",
     "start_time": "2019-04-05T09:37:41.838765Z"
    }
   },
   "outputs": [],
   "source": [
    "station.ivvi.set_dacs_zero()"
   ]
  },
  {
   "cell_type": "code",
   "execution_count": null,
   "metadata": {
    "ExecuteTime": {
     "end_time": "2019-03-04T17:54:43.162328Z",
     "start_time": "2019-03-04T17:54:27.370458Z"
    }
   },
   "outputs": [],
   "source": [
    "dac_wrapRD(0)"
   ]
  },
  {
   "cell_type": "code",
   "execution_count": null,
   "metadata": {
    "ExecuteTime": {
     "end_time": "2019-03-06T04:56:53.331563Z",
     "start_time": "2019-03-04T17:54:54.195975Z"
    }
   },
   "outputs": [],
   "source": [
    "vna.S21.power(-60)\n",
    "\n",
    "#scan from -1V to 1V in plunger while moving cutter\n",
    "cutters = np.arange(2000.,150.,-2.)\n",
    "for i in np.arange(0,1849,2):\n",
    "    dac_cutterD(cutters[i])\n",
    "    cur_plungers = dac_wrapRD()\n",
    "    sweep_obj = sweep(set_plungersD, np.arange(cur_plungers,-2000.0,-10))(\n",
    "        vna_frequency_sweep_dB(fstart=4.74e9, fstop=4.75e9, fpts=601, chan='S21')\n",
    "    )\n",
    "\n",
    "    result = do_experiment(f\"VNA_gatesweep/{SAMPLE}\", sweep_obj, live_plot=False)\n",
    "    cur_plungers = dac_wrapRD()\n",
    "    dac_cutterD(cutters[i+1])\n",
    "    sweep_obj = sweep(set_plungersD, np.arange(cur_plungers,0.0,10))(\n",
    "        vna_frequency_sweep_dB(fstart=4.74e9, fstop=4.75e9, fpts=601, chan='S21')\n",
    "    )\n",
    "\n",
    "    result = do_experiment(f\"VNA_gatesweep/{SAMPLE}\", sweep_obj, live_plot=False)\n"
   ]
  },
  {
   "cell_type": "code",
   "execution_count": null,
   "metadata": {
    "ExecuteTime": {
     "end_time": "2019-04-05T08:53:19.230682Z",
     "start_time": "2019-04-05T08:52:47.282293Z"
    }
   },
   "outputs": [],
   "source": [
    "station.ivvi.set_dacs_zero()"
   ]
  },
  {
   "cell_type": "markdown",
   "metadata": {},
   "source": [
    "# Sweep flux vs VNA"
   ]
  },
  {
   "cell_type": "code",
   "execution_count": null,
   "metadata": {
    "ExecuteTime": {
     "end_time": "2019-04-04T23:30:51.339335Z",
     "start_time": "2019-04-04T23:30:51.330694Z"
    }
   },
   "outputs": [],
   "source": [
    "@setter(('magnet_x', 'T'),) \n",
    "def set_magnet_x(val):\n",
    "    \"\"\"\n",
    "    Set magnet x\n",
    "    \"\"\"\n",
    "    station.mgnt.x_target(val)\n",
    "    station.mgnt.ramp(mode='safe')\n",
    "    return val\n",
    "\n",
    "@setter(('magnet_y', 'T'),)\n",
    "def set_magnet_y(val):\n",
    "    \"\"\"\n",
    "    Set magnet y\n",
    "    \"\"\"\n",
    "    station.mgnt.y_target(val)\n",
    "    station.mgnt.ramp(mode='safe')\n",
    "    return val\n",
    "\n",
    "@setter(('magnet_z', 'T'),)\n",
    "def set_magnet_z(val):\n",
    "    \"\"\"\n",
    "    Set magnet z\n",
    "    \"\"\"\n",
    "    station.mgnt.z_target(val)\n",
    "    station.mgnt.ramp(mode='safe')\n",
    "    return val"
   ]
  },
  {
   "cell_type": "code",
   "execution_count": null,
   "metadata": {
    "ExecuteTime": {
     "end_time": "2019-04-05T08:52:31.333981Z",
     "start_time": "2019-04-05T08:27:18.148715Z"
    }
   },
   "outputs": [],
   "source": [
    "station.vna.S21.power(-60)\n",
    "sweep_obj = sweep(set_magnet_x, np.arange(1.0e-3,4.0e-3,0.01e-3))(\n",
    "    vna_frequency_sweep_dB(fstart=3.8e9, fstop=4.2e9, fpts=2001, chan='S21')\n",
    ")\n",
    "\n",
    "result = do_experiment(f\"VNA_Bxsweep/{SAMPLE}\", sweep_obj, live_plot=False)"
   ]
  },
  {
   "cell_type": "code",
   "execution_count": null,
   "metadata": {
    "ExecuteTime": {
     "end_time": "2019-03-06T12:50:08.184184Z",
     "start_time": "2019-03-06T12:16:31.892638Z"
    }
   },
   "outputs": [],
   "source": [
    "vna.S21.power(-60)\n",
    "sweep_obj = sweep(set_magnet_z, np.arange(1000.0e-3,0.0e-3-0.1e-3,-10e-3))(\n",
    "    vna_frequency_sweep_dB(fstart=4.1e9, fstop=4.2e9, fpts=1001, chan='S21')\n",
    ")\n",
    "\n",
    "result = do_experiment(f\"VNA_Bzsweep/{SAMPLE}\", sweep_obj, live_plot=False)"
   ]
  },
  {
   "cell_type": "code",
   "execution_count": null,
   "metadata": {
    "ExecuteTime": {
     "end_time": "2019-03-06T13:00:57.448708Z",
     "start_time": "2019-03-06T13:00:57.445704Z"
    }
   },
   "outputs": [],
   "source": [
    "station.vna.rf_off()"
   ]
  },
  {
   "cell_type": "code",
   "execution_count": null,
   "metadata": {
    "ExecuteTime": {
     "end_time": "2019-03-06T12:58:50.553102Z",
     "start_time": "2019-03-06T12:57:34.945209Z"
    }
   },
   "outputs": [],
   "source": [
    "station.ivvi.set_dacs_zero()"
   ]
  },
  {
   "cell_type": "markdown",
   "metadata": {},
   "source": [
    "# Power dependence"
   ]
  },
  {
   "cell_type": "code",
   "execution_count": null,
   "metadata": {
    "ExecuteTime": {
     "end_time": "2019-04-19T12:09:24.065131Z",
     "start_time": "2019-04-19T12:09:24.061130Z"
    }
   },
   "outputs": [],
   "source": [
    "np.linspace(-60., 0., 21)"
   ]
  },
  {
   "cell_type": "code",
   "execution_count": 15,
   "metadata": {
    "ExecuteTime": {
     "end_time": "2019-05-03T09:50:23.950006Z",
     "start_time": "2019-05-03T09:48:12.437436Z"
    }
   },
   "outputs": [
    {
     "name": "stdout",
     "output_type": "stream",
     "text": [
      "Starting experimental run with id: 166\n"
     ]
    }
   ],
   "source": [
    "station.vna.S21.avg(5)\n",
    "\n",
    "sweep_obj = sweep(station.vna.S21.power, np.linspace(-60., 0., 21))(\n",
    "   vna_frequency_sweep_dB(fstart=4.0e9, fstop=6.0e9, fpts=10001, chan='S21')\n",
    ")\n",
    "\n",
    "result = do_experiment(f\"VNA_powersweep/{SAMPLE}\", sweep_obj, live_plot=False)\n",
    "\n"
   ]
  },
  {
   "cell_type": "code",
   "execution_count": null,
   "metadata": {
    "ExecuteTime": {
     "end_time": "2019-02-11T10:41:05.293473Z",
     "start_time": "2019-02-11T10:40:54.541Z"
    }
   },
   "outputs": [],
   "source": [
    "@setter(('repetition', '[]'),)\n",
    "def set_repetition(val):\n",
    "    \"\"\"\n",
    "\n",
    "    Set repetition (to repeat identical sweeps)\n",
    "    \"\"\"\n",
    "    \n",
    "    time.sleep(0.1)\n",
    "    return val"
   ]
  },
  {
   "cell_type": "code",
   "execution_count": null,
   "metadata": {
    "ExecuteTime": {
     "end_time": "2019-02-11T10:41:05.295473Z",
     "start_time": "2019-02-11T10:40:54.578Z"
    }
   },
   "outputs": [],
   "source": [
    "sweep_obj = sweep(vna.S21.power, np.linspace(-60., -20., 10))(sweep(set_repetition, np.linspace(1,100,100))(\n",
    "    vna_frequency_sweep_dB(fstart=5.3204e9-3e6, fstop=5.3204e9+3e6, fpts=60, chan='S21')\n",
    "))\n",
    "\n",
    "result = do_experiment(f\"VNA_powersweep_vs_repetition/{SAMPLE}\", sweep_obj, live_plot=False)"
   ]
  },
  {
   "cell_type": "code",
   "execution_count": null,
   "metadata": {
    "ExecuteTime": {
     "end_time": "2019-02-11T10:41:05.296474Z",
     "start_time": "2019-02-11T10:40:54.620Z"
    }
   },
   "outputs": [],
   "source": [
    "sweep_obj = sweep(vna.S21.power, np.linspace(-60., -20., 10))(sweep(set_repetition, np.linspace(1,200,200))(\n",
    "    vna_frequency_sweep_dB(fstart=5.347e9, fstop=5.353e9, fpts=60, chan='S21')\n",
    "))\n",
    "\n",
    "result = do_experiment(f\"VNA_powersweep_vs_repetition/{SAMPLE}\", sweep_obj, live_plot=False)"
   ]
  },
  {
   "cell_type": "code",
   "execution_count": null,
   "metadata": {
    "ExecuteTime": {
     "end_time": "2019-02-11T10:41:05.297475Z",
     "start_time": "2019-02-11T10:40:54.657Z"
    }
   },
   "outputs": [],
   "source": [
    "twpa_pump.on()\n",
    "vna.S21.avg(1)\n",
    "vna.S21.power(-55)\n",
    "setup_zerospan_trace(5.345737e9, 51)\n",
    "      \n",
    "sweep_obj = sweep(twpa_pump.power, np.arange(4.0, 10.0, .2))(\n",
    "     sweep(twpa_pump.frequency, np.arange(7.8e9, 8.1e9, 1.0e6)))(\n",
    "        measure(get_SNR)\n",
    ")\n",
    "\n",
    "\n",
    "result = do_experiment(f\"TWPA_SNR/{SAMPLE}\", sweep_obj, live_plot=False)\n",
    "twpa_pump.off()"
   ]
  },
  {
   "cell_type": "markdown",
   "metadata": {},
   "source": [
    "# TWPA pump tune up"
   ]
  },
  {
   "cell_type": "markdown",
   "metadata": {},
   "source": [
    "## VNA as function of pump power"
   ]
  },
  {
   "cell_type": "code",
   "execution_count": null,
   "metadata": {
    "ExecuteTime": {
     "end_time": "2019-02-11T12:41:12.519861Z",
     "start_time": "2019-02-11T12:41:12.513859Z"
    }
   },
   "outputs": [],
   "source": [
    "twpa_pump.frequency(8e9)"
   ]
  },
  {
   "cell_type": "code",
   "execution_count": null,
   "metadata": {
    "ExecuteTime": {
     "end_time": "2019-04-04T13:45:46.968485Z",
     "start_time": "2019-04-04T13:45:31.020396Z"
    }
   },
   "outputs": [],
   "source": [
    "station.TWPA.on()\n",
    "sweep_obj = sweep(station.TWPA.power, np.arange(5, 10, 0.1))(\n",
    "    vna_frequency_sweep_dB(fstart=3e9, fstop=6e9, fpts=2001, chan='S21', navgs=1)\n",
    ")\n",
    "\n",
    "result = do_experiment(f\"VNA_vs_pump_power/{SAMPLE}\", sweep_obj, live_plot=False)\n",
    "station.TWPA.off()"
   ]
  },
  {
   "cell_type": "markdown",
   "metadata": {},
   "source": [
    "## VNA as function of pump frq"
   ]
  },
  {
   "cell_type": "code",
   "execution_count": null,
   "metadata": {
    "ExecuteTime": {
     "end_time": "2019-04-04T17:21:20.943911Z",
     "start_time": "2019-04-04T17:21:20.939924Z"
    }
   },
   "outputs": [],
   "source": [
    "station.TWPA.on()"
   ]
  },
  {
   "cell_type": "code",
   "execution_count": null,
   "metadata": {
    "ExecuteTime": {
     "end_time": "2019-04-04T13:33:36.286141Z",
     "start_time": "2019-04-04T13:31:30.701625Z"
    }
   },
   "outputs": [],
   "source": [
    "station.TWPA.power(8.0)\n",
    "station.TWPA.on()\n",
    "sweep_obj = sweep(station.TWPA.frequency, np.arange(7.8e9, 8.2e9, 1e6))(\n",
    "    vna_frequency_sweep_dB(fstart=3.0e9, fstop=6e9, fpts=2001, chan='S21', navgs=1)\n",
    ")\n",
    "\n",
    "result = do_experiment(f\"VNA_vs_pump_frequency/{SAMPLE}\", sweep_obj, live_plot=False)\n",
    "station.TWPA.off()"
   ]
  },
  {
   "cell_type": "code",
   "execution_count": null,
   "metadata": {
    "ExecuteTime": {
     "end_time": "2019-02-11T10:41:05.299477Z",
     "start_time": "2019-02-11T10:40:54.850Z"
    }
   },
   "outputs": [],
   "source": [
    "sweep_obj = sweep(twpa_pump.power, np.arange(9,5,-1))(\n",
    "    sweep(twpa_pump.frequency, np.arange(7.96e9, 8.08e9, 1e6))(\n",
    "    vna_frequency_sweep_dB(fstart=4e9, fstop=6e9, fpts=2001, chan='S21', navgs=1)\n",
    "))\n",
    "\n",
    "result = do_experiment(f\"VNA_vs_pump_frequency/{SAMPLE}\", sweep_obj, live_plot=True)\n",
    "twpa_pump.off()"
   ]
  },
  {
   "cell_type": "code",
   "execution_count": null,
   "metadata": {
    "ExecuteTime": {
     "end_time": "2019-02-11T10:41:05.301478Z",
     "start_time": "2019-02-11T10:40:54.901Z"
    }
   },
   "outputs": [],
   "source": [
    "twpa_pump.power(5)\n",
    "\n",
    "sweep_obj = sweep(twpa_pump.frequency, np.arange(7.96e9, 8.08e9, 1e6))(\n",
    "    vna_frequency_sweep_dB(fstart=4e9, fstop=6e9, fpts=2001, chan='S21', navgs=1)\n",
    ")\n",
    "\n",
    "result = do_experiment(f\"VNA_vs_pump_frequency/{SAMPLE}\", sweep_obj, live_plot=True)"
   ]
  },
  {
   "cell_type": "markdown",
   "metadata": {},
   "source": [
    "## SNR as function of pump params"
   ]
  },
  {
   "cell_type": "code",
   "execution_count": null,
   "metadata": {
    "ExecuteTime": {
     "end_time": "2019-04-04T13:05:09.603414Z",
     "start_time": "2019-04-04T13:05:09.599426Z"
    }
   },
   "outputs": [],
   "source": [
    "@getter(('signal', 'dB'), ('noise', 'dB'), ('SNR', 'dB'))\n",
    "def get_SNR():\n",
    "    time.sleep(0.01)\n",
    "    mag, phase = take_trace(plot=False)\n",
    "    sig = np.abs(mag) * np.exp(-1j*phase)\n",
    "#     I, Q = sig.real, sig.imag\n",
    "    lin_mean = np.abs(sig.mean())\n",
    "    lin_std = np.abs(sig.std())\n",
    "#     lin_mean = (I.mean()**2. + Q.mean()**2.)**.5\n",
    "#     lin_std = (I.std()**2. + Q.std()**2.)**.5\n",
    "    return 20*np.log10(lin_mean), 20*np.log10(lin_std), 20*np.log10(lin_mean/lin_std)"
   ]
  },
  {
   "cell_type": "code",
   "execution_count": null,
   "metadata": {
    "ExecuteTime": {
     "end_time": "2019-02-11T10:41:44.856361Z",
     "start_time": "2019-02-11T10:41:44.854360Z"
    }
   },
   "outputs": [],
   "source": [
    "import time"
   ]
  },
  {
   "cell_type": "code",
   "execution_count": null,
   "metadata": {
    "ExecuteTime": {
     "end_time": "2019-02-11T10:41:45.212698Z",
     "start_time": "2019-02-11T10:41:45.190683Z"
    }
   },
   "outputs": [],
   "source": [
    "a,b = 5.95, 7.961\n",
    "twpa_pump.frequency(b*1e9)\n",
    "twpa_pump.power(a)\n",
    "twpa_pump.on()"
   ]
  },
  {
   "cell_type": "code",
   "execution_count": null,
   "metadata": {
    "ExecuteTime": {
     "end_time": "2019-04-04T16:31:54.399979Z",
     "start_time": "2019-04-04T16:31:54.396977Z"
    }
   },
   "outputs": [],
   "source": [
    "station.TWPA.off()"
   ]
  },
  {
   "cell_type": "code",
   "execution_count": null,
   "metadata": {
    "ExecuteTime": {
     "end_time": "2019-04-04T13:47:02.803351Z",
     "start_time": "2019-04-04T13:47:02.796329Z"
    }
   },
   "outputs": [],
   "source": [
    "station.TWPA.frequency(8.0e9)\n",
    "station.TWPA.power(8.4)\n",
    "station.TWPA.on()"
   ]
  },
  {
   "cell_type": "code",
   "execution_count": null,
   "metadata": {
    "ExecuteTime": {
     "end_time": "2019-02-11T12:36:39.153148Z",
     "start_time": "2019-02-11T12:28:00.308683Z"
    }
   },
   "outputs": [],
   "source": [
    "twpa_pump.output_rf('ON')\n",
    "vna.S21.avg(1)\n",
    "vna.S21.power(-55)\n",
    "setup_zerospan_trace(3.0185e9, 51)\n",
    "      \n",
    "sweep_obj = sweep(twpa_pump.power, np.arange(15.0, 13.5, -.05))(\n",
    "     sweep(twpa_pump.frequency, np.arange(7.86e9, 7.96e9, 0.5e6)))(\n",
    "        measure(get_SNR)\n",
    ")\n",
    "\n",
    "\n",
    "result = do_experiment(f\"TWPA_SNR/{SAMPLE}\", sweep_obj, live_plot=False)\n",
    "twpa_pump.output_rf('OFF')"
   ]
  },
  {
   "cell_type": "code",
   "execution_count": null,
   "metadata": {
    "ExecuteTime": {
     "end_time": "2019-04-04T13:08:41.181578Z",
     "start_time": "2019-04-04T13:06:35.632793Z"
    }
   },
   "outputs": [],
   "source": [
    "station.TWPA.on()\n",
    "station.vna.S21.avg(1)\n",
    "station.vna.S21.power(-55)\n",
    "setup_zerospan_trace(3.0185e9, 51)\n",
    "      \n",
    "sweep_obj = sweep(station.TWPA.power, np.arange(3.5, 7.0, .2))(\n",
    "     sweep(station.TWPA.frequency, np.arange(7.85e9, 8.04e9, 1.0e6)))(\n",
    "        measure(get_SNR)\n",
    ")\n",
    "\n",
    "\n",
    "result = do_experiment(f\"TWPA_SNR/{SAMPLE}\", sweep_obj, live_plot=False)\n",
    "twpa_pump.off()"
   ]
  },
  {
   "cell_type": "code",
   "execution_count": null,
   "metadata": {},
   "outputs": [],
   "source": [
    "twpa_pump.on()\n",
    "vna.S21.avg(1)\n",
    "vna.S21.power(-55)\n",
    "setup_zerospan_trace(5.345737e9, 51)\n",
    "      \n",
    "sweep_obj = sweep(twpa_pump.power, np.arange(4.0, 10.0, .2))(\n",
    "     sweep(twpa_pump.frequency, np.arange(7.8e9, 8.1e9, 1.0e6)))(\n",
    "        measure(get_SNR)\n",
    ")\n",
    "\n",
    "\n",
    "result = do_experiment(f\"TWPA_SNR/{SAMPLE}\", sweep_obj, live_plot=False)\n",
    "twpa_pump.off()"
   ]
  },
  {
   "cell_type": "code",
   "execution_count": null,
   "metadata": {},
   "outputs": [],
   "source": []
  },
  {
   "cell_type": "code",
   "execution_count": null,
   "metadata": {
    "ExecuteTime": {
     "end_time": "2018-11-10T05:08:38.505211Z",
     "start_time": "2018-11-10T01:55:43.017177Z"
    }
   },
   "outputs": [],
   "source": [
    "twpa_pump.on()\n",
    "vna.S21.avg(1)\n",
    "vna.S21.power(-50)\n",
    "setup_zerospan_trace(5.3136e9, 101)\n",
    "\n",
    "\n",
    "sweep_obj = sweep(twpa_pump.frequency, np.arange(7.70e9, 7.94e9, 0.5e6))(\n",
    "     sweep(twpa_pump.power, np.arange(-5.0, 14.0, .1)[::-1]))(\n",
    "        measure(get_SNR)\n",
    ")\n",
    "\n",
    "result = do_experiment(f\"TWPA_SNR/{SAMPLE}\", sweep_obj, live_plot=True)"
   ]
  },
  {
   "cell_type": "code",
   "execution_count": null,
   "metadata": {
    "ExecuteTime": {
     "end_time": "2019-04-04T13:11:56.614845Z",
     "start_time": "2019-04-04T13:11:56.609825Z"
    }
   },
   "outputs": [],
   "source": []
  },
  {
   "cell_type": "code",
   "execution_count": null,
   "metadata": {
    "ExecuteTime": {
     "end_time": "2019-04-04T13:15:24.894372Z",
     "start_time": "2019-04-04T13:15:24.686085Z"
    }
   },
   "outputs": [],
   "source": [
    "data = qc.load_by_id(15) #2d sweep\n",
    "twpa_freqs = np.array(data.get_data('TWPA_frequency')).reshape(-1)\n",
    "twpa_powers = np.array(data.get_data('TWPA_power')).reshape(-1)\n",
    "signal = np.array(data.get_data('SNR')).reshape(-1)\n",
    "x = np.unique(twpa_freqs)\n",
    "y = np.unique(twpa_powers)\n",
    "z = signal.reshape(len(y),len(x))\n",
    "X,Y = np.meshgrid(x,y)\n",
    "plt.figure(figsize=(3, 3))\n",
    "plt.pcolor(X,Y,z,cmap='viridis')\n",
    "# plt.xlabel('TWPA Pump Power (dBm)')\n",
    "# plt.ylabel('VNA Frequency (GHz)')\n",
    "# #plt.title('ID = 309, TWPA Power = %.i'%(power))\n",
    "cbar = plt.colorbar()\n",
    "cbar.set_label('Magnitude (dB)')\n",
    "# #plt.savefig(\"VNA_TWPA_309_%.i.png\"%(power))\n",
    "# #plt.axis([x.min(),x.max(),y.min(), y.max()])"
   ]
  },
  {
   "cell_type": "code",
   "execution_count": null,
   "metadata": {
    "ExecuteTime": {
     "end_time": "2019-04-04T13:16:02.762404Z",
     "start_time": "2019-04-04T13:16:02.755400Z"
    }
   },
   "outputs": [],
   "source": [
    "y0, x0 = np.unravel_index(np.argmax(z, axis=None), z.shape)\n",
    "print(y[y0], x[x0], z[y0,x0])"
   ]
  },
  {
   "cell_type": "code",
   "execution_count": null,
   "metadata": {},
   "outputs": [],
   "source": []
  },
  {
   "cell_type": "code",
   "execution_count": null,
   "metadata": {
    "ExecuteTime": {
     "end_time": "2019-04-04T13:12:20.318055Z",
     "start_time": "2019-04-04T13:12:20.314036Z"
    }
   },
   "outputs": [],
   "source": [
    "np.argmax(SNR)"
   ]
  },
  {
   "cell_type": "code",
   "execution_count": null,
   "metadata": {},
   "outputs": [],
   "source": []
  },
  {
   "cell_type": "code",
   "execution_count": null,
   "metadata": {
    "ExecuteTime": {
     "end_time": "2018-11-12T09:26:40.812113Z",
     "start_time": "2018-11-12T09:25:16.442872Z"
    },
    "scrolled": false
   },
   "outputs": [],
   "source": [
    "powers = np.arange(15,9,-1)\n",
    "#for idnr, power in zip(ids,powers): \n",
    "data = qc.dataset.data_export.load_by_id(idnr)\n",
    "freqs = data.get_data('frequency')\n",
    "powers = data.get_data('twpa_pump_frequency')\n",
    "signal = data.get_data('magnitude')\n",
    "\n",
    "\n",
    "x = freqs[0][0]\n",
    "y = np.array(powers)[:,0].T\n",
    "X,Y = np.meshgrid(x,y)\n",
    "Z = np.array(signal)[:,0,:]\n",
    "\n",
    "#     # Znorm = Z\n",
    "#     # for i in range(len(X[:,0])):\n",
    "#     #     Znorm[i,:] = Z[i,:]/np.mean(Z[i,-15:-1])\n",
    "\n",
    "#     plt.figure(figsize=(3, 3))\n",
    "#     plt.pcolor(Y,X,Z,cmap='viridis', vmin=-60, vmax = 30)\n",
    "#     plt.xlabel('TWPA Pump Frequency (GHz)')\n",
    "#     plt.ylabel('VNA Frequency (GHz)')\n",
    "#     plt.title('ID = %.i, TWPA Power = %.i'%(idnr,power))\n",
    "#     cbar = plt.colorbar()\n",
    "#     cbar.set_label('Magnitude (dB)')\n",
    "#     plt.savefig(\"VNA_TWPA_%.i_%.i.png\"%(idnr,power))\n",
    "#     #plt.axis([x.min(),x.max(),y.min(), y.max()])\n",
    "\n"
   ]
  },
  {
   "cell_type": "code",
   "execution_count": null,
   "metadata": {},
   "outputs": [],
   "source": []
  }
 ],
 "metadata": {
  "kernelspec": {
   "display_name": "Python 3",
   "language": "python",
   "name": "python3"
  },
  "language_info": {
   "codemirror_mode": {
    "name": "ipython",
    "version": 3
   },
   "file_extension": ".py",
   "mimetype": "text/x-python",
   "name": "python",
   "nbconvert_exporter": "python",
   "pygments_lexer": "ipython3",
   "version": "3.6.4"
  },
  "toc": {
   "base_numbering": 1,
   "nav_menu": {},
   "number_sections": true,
   "sideBar": true,
   "skip_h1_title": false,
   "title_cell": "Table of Contents",
   "title_sidebar": "Contents",
   "toc_cell": false,
   "toc_position": {
    "height": "calc(100% - 180px)",
    "left": "10px",
    "top": "150px",
    "width": "315px"
   },
   "toc_section_display": true,
   "toc_window_display": true
  }
 },
 "nbformat": 4,
 "nbformat_minor": 2
}
