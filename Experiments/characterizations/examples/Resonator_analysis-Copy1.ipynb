{
 "cells": [
  {
   "cell_type": "markdown",
   "metadata": {},
   "source": [
    "## Fit hanger power dependence\n",
    "This notebook fits hanger power dependence"
   ]
  },
  {
   "cell_type": "code",
   "execution_count": 1,
   "metadata": {},
   "outputs": [
    {
     "name": "stderr",
     "output_type": "stream",
     "text": [
      "C:\\ProgramData\\Anaconda3\\envs\\qcodes\\lib\\site-packages\\IPython\\html.py:14: ShimWarning: The `IPython.html` package has been deprecated since IPython 4.0. You should import from `notebook` instead. `IPython.html.widgets` has moved to `ipywidgets`.\n",
      "  \"`IPython.html.widgets` has moved to `ipywidgets`.\", ShimWarning)\n"
     ]
    }
   ],
   "source": [
    "%matplotlib qt\n",
    "import qcodes as qc\n",
    "import numpy as np\n",
    "from characterizations import resonators as res\n",
    "from qcodes.dataset.plotting import plot_by_id\n",
    "from qcodes.dataset.data_set import load_by_id\n",
    "\n",
    "import matplotlib.pyplot as plt"
   ]
  },
  {
   "cell_type": "markdown",
   "metadata": {},
   "source": [
    "## Data init and utils\n"
   ]
  },
  {
   "cell_type": "code",
   "execution_count": 15,
   "metadata": {},
   "outputs": [],
   "source": [
    "def get_2Ddata(dat, labx, laby, labvals):\n",
    "    '''\n",
    "    labx = inner sweep variable\n",
    "    laby = outer sweep variable\n",
    "    '''\n",
    "    \n",
    "    xs = np.unique(np.array(dat.get_data(labx)))\n",
    "    ys = np.unique(np.array(dat.get_data(laby)))\n",
    "    \n",
    "    dats = (xs, ys,)\n",
    "    if len(labvals)>1:\n",
    "        for labval in labvals:\n",
    "            data = np.array(dat.get_data(labval))\n",
    "            data.shape = (len(ys), len(xs))\n",
    "            dats += (data,)\n",
    "    return dats\n",
    "\n",
    "def fit_hanger_p_dep(runid):\n",
    "    dat = load_by_id(runid)\n",
    "    fs, Ps, S21_res, S21_ims = get_2Ddata(dat, 'frequency', 'mw_power', ['Re_S21', 'Im_S21'])\n",
    "    S21s = S21_res + 1.j*S21_ims\n",
    "    pars_list = []\n",
    "\n",
    "    for kk in range(5):\n",
    "        if kk == len(Ps)-1:\n",
    "            p0s = res.estimate_hanger_pars(fs, S21s[kk,:])\n",
    "            p0s[5] = -np.pi/4\n",
    "        p0s = res.estimate_hanger_pars(fs, S21s[kk,:])\n",
    "        print('P = %s: '%Ps[kk])#, p0s)\n",
    "        if 0:\n",
    "            plt.figure('P = %s'%Ps[kk])\n",
    "            plt.clf()\n",
    "            S21init = res.hanger_S21_sloped(*p0s)\n",
    "\n",
    "            plt.plot(S21init[0].real, S21init[0].imag, 'o')\n",
    "            plt.plot(S21s[kk,:].real, S21s[kk,:].imag)\n",
    "            plt.plot(S21init.real, S21init.imag)\n",
    "\n",
    "            plt.xlim(-3,3)\n",
    "            plt.ylim(-3,3)\n",
    "            plt.figure('%s_abs'%Ps[kk])\n",
    "            plt.clf()\n",
    "            plt.plot(fs, np.abs(S21s[kk,:]))\n",
    "            plt.plot(fs, np.abs(S21init))\n",
    "        pars, results, hanger_model, fit_report = res.fit_hanger(fs, S21s[kk,:], display_report = False)\n",
    "        res.plot_results(S21s[kk,:], pars, hanger_model, fit_report, results, figlab = 'power = %.0f'%(Ps[kk]))\n",
    "        pars_list += [pars]\n",
    "    print('\\n')\n",
    "    plt.savefig('runid%s_fit_example.pdf'%runid)\n",
    "    return pars_list, dat\n",
    "\n",
    "def plot_Qs(pars_list, dat):\n",
    "    fs, Ps, S21_res, S21_ims = get_2Ddata(dat, 'frequency', 'mw_power', ['Re_S21', 'Im_S21'])\n",
    "    Qcs = [pars_i['Qc'].value/1e3 for pars_i in pars_list]\n",
    "    Qis = [pars_i['Qi'].value/1e3 for pars_i in pars_list]\n",
    "    Qls = [pars_i['Q'].value/1e3 for pars_i in pars_list]\n",
    "    errQcs = [pars_i['Qc'].stderr/1e3 for pars_i in pars_list]\n",
    "    errQis = [pars_i['Qi'].stderr/1e3 for pars_i in pars_list]\n",
    "    errQls = [pars_i['Q'].stderr/1e3 for pars_i in pars_list]\n",
    "\n",
    "    plt.figure('Qs_f0_%.1f'%pars_list[0]['f0'].value)\n",
    "    plt.clf()\n",
    "    plt.errorbar(Ps, np.array(Qcs), yerr = errQcs, fmt = 'o', fillstyle = 'none', label = r'$Q_\\mathrm{c}$')\n",
    "    plt.errorbar(Ps, np.array(Qis), yerr = errQis, fmt = 'o', fillstyle = 'none', label = r'$Q_\\mathrm{i}$')\n",
    "    plt.errorbar(Ps, np.array(Qls), yerr = errQls, fmt = 'o', fillstyle = 'none', label = r'$Q_\\mathrm{loaded}$')\n",
    "    plt.ylabel('Q x 1000')\n",
    "    plt.xlabel('P (dBm)')\n",
    "    plt.title(r'runid = %s, $f_0$ = %.1f MHz, T = %.3fK'%(runid, pars_list[0]['f0'].value, dat.get_data('temperature')[0][0]))\n",
    "    plt.legend()\n",
    "    plt.tight_layout()\n",
    "    plt.savefig(r'runid_%s_$f_0$_%.1f_MHz.pdf'%(runid, pars_list[0]['f0'].value))\n",
    " \n",
    "    print( 'Ql_low: %.1f \\nQ_c_low: %.1f \\nQi_low: %.1f \\ndQi: %.1f'%(Qls[0], Qcs[0], Qis[0], Qis[-1]-Qis[0])) "
   ]
  },
  {
   "cell_type": "markdown",
   "metadata": {},
   "source": [
    "### loading data"
   ]
  },
  {
   "cell_type": "code",
   "execution_count": 16,
   "metadata": {
    "scrolled": false
   },
   "outputs": [
    {
     "data": {
      "text/plain": [
       "'D:\\\\Data\\\\20180924 - Heliox\\\\experiments.db'"
      ]
     },
     "execution_count": 16,
     "metadata": {},
     "output_type": "execute_result"
    }
   ],
   "source": [
    "dbpath = r\"D:\\Data\\20180924 - Heliox\\experiments.db\"\n",
    "\n",
    "qc.initialise_database()\n",
    "qc.dataset.database.initialise_or_create_database_at(dbpath)\n",
    "qc.dataset.database.get_DB_location()"
   ]
  },
  {
   "cell_type": "markdown",
   "metadata": {},
   "source": [
    "### Fitting and Plotting"
   ]
  },
  {
   "cell_type": "code",
   "execution_count": 17,
   "metadata": {},
   "outputs": [
    {
     "name": "stdout",
     "output_type": "stream",
     "text": [
      "P = -50: \n",
      "P = -45: \n",
      "P = -40: \n",
      "P = -35: \n",
      "P = -30: \n",
      "\n",
      "\n",
      "Ql_low: 77.6 \n",
      "Q_c_low: 243.5 \n",
      "Qi_low: 113.9 \n",
      "dQi: -19.7\n"
     ]
    }
   ],
   "source": [
    "runid = 181\n",
    "pars_list, Ps = fit_hanger_p_dep(runid)\n",
    "plot_Qs(pars_list, Ps)"
   ]
  },
  {
   "cell_type": "code",
   "execution_count": null,
   "metadata": {},
   "outputs": [],
   "source": []
  }
 ],
 "metadata": {
  "kernelspec": {
   "display_name": "Python 3",
   "language": "python",
   "name": "python3"
  },
  "language_info": {
   "codemirror_mode": {
    "name": "ipython",
    "version": 3
   },
   "file_extension": ".py",
   "mimetype": "text/x-python",
   "name": "python",
   "nbconvert_exporter": "python",
   "pygments_lexer": "ipython3",
   "version": "3.6.7"
  },
  "toc": {
   "base_numbering": 1,
   "nav_menu": {
    "height": "117px",
    "width": "238px"
   },
   "number_sections": true,
   "sideBar": true,
   "skip_h1_title": false,
   "title_cell": "Table of Contents",
   "title_sidebar": "Contents",
   "toc_cell": false,
   "toc_position": {},
   "toc_section_display": true,
   "toc_window_display": false
  }
 },
 "nbformat": 4,
 "nbformat_minor": 2
}
