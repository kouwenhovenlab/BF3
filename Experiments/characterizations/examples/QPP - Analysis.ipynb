{
 "cells": [
  {
   "cell_type": "markdown",
   "metadata": {},
   "source": [
    "# QPP data analysis\n"
   ]
  },
  {
   "cell_type": "code",
   "execution_count": 1,
   "metadata": {},
   "outputs": [
    {
     "name": "stderr",
     "output_type": "stream",
     "text": [
      "C:\\ProgramData\\Anaconda3\\lib\\site-packages\\h5py\\__init__.py:36: FutureWarning: Conversion of the second argument of issubdtype from `float` to `np.floating` is deprecated. In future, it will be treated as `np.float64 == np.dtype(float).type`.\n",
      "  from ._conv import register_converters as _register_converters\n",
      "C:\\ProgramData\\Anaconda3\\lib\\site-packages\\IPython\\html.py:14: ShimWarning: The `IPython.html` package has been deprecated since IPython 4.0. You should import from `notebook` instead. `IPython.html.widgets` has moved to `ipywidgets`.\n",
      "  \"`IPython.html.widgets` has moved to `ipywidgets`.\", ShimWarning)\n"
     ]
    }
   ],
   "source": [
    "import numpy as np\n",
    "import h5py\n",
    "%matplotlib qt\n",
    "\n",
    "import numpy as np\n",
    "from characterizations import quasiparticles as qpp\n",
    "import matplotlib.pyplot as plt"
   ]
  },
  {
   "cell_type": "code",
   "execution_count": 2,
   "metadata": {},
   "outputs": [],
   "source": [
    "filename = r'D:\\Data\\20181031 - QPP\\20181030\\152638_Parity_Measurement\\20181030_152638_Parity_Measurement.hdf5'\n",
    "f = h5py.File(filename, 'r')"
   ]
  },
  {
   "cell_type": "code",
   "execution_count": 3,
   "metadata": {},
   "outputs": [
    {
     "name": "stdout",
     "output_type": "stream",
     "text": [
      "['bin_edges', 'column_labels', 'column_units', 'fft', 'filepath', 'fit', 'fit_err', 'frequency', 'histograms', 'name', 'raw_demod_data', 'settings', 'timestamp']\n"
     ]
    }
   ],
   "source": [
    "print(list(f.keys()))"
   ]
  },
  {
   "cell_type": "code",
   "execution_count": 4,
   "metadata": {},
   "outputs": [],
   "source": [
    "kernel = 5\n",
    "IF_periods = 10\n",
    "Sr = 250e6\n",
    "demod_dat = np.array(f['raw_demod_data'])\n",
    "npoints = len(demod_dat[0])\n",
    "ts = np.arange(npoints)/Sr*kernel*IF_periods"
   ]
  },
  {
   "cell_type": "code",
   "execution_count": 5,
   "metadata": {},
   "outputs": [
    {
     "name": "stdout",
     "output_type": "stream",
     "text": [
      "[[Variables]]\n",
      "    Gamma:   2582.02564 +/- 8.193860 (0.32%) (init= 2945.243)\n",
      "    a:       1.5565e+14 +/- 3.40e+11 (0.22%) (init= 6.187608e+10)\n",
      "    b:       1.4931e+09 +/- 1.50e+06 (0.10%) (init= 9.698828e+08)\n",
      "    T_qp:    0.00038729 +/- 1.23e-06 (0.32%) (init= ?)\n",
      "[[Correlations]] (unreported correlations are <  0.100)\n",
      "    C(Gamma, a)                  =  0.689 \n"
     ]
    },
    {
     "data": {
      "text/plain": [
       "[<matplotlib.lines.Line2D at 0x1a009e9e128>]"
      ]
     },
     "execution_count": 5,
     "metadata": {},
     "output_type": "execute_result"
    }
   ],
   "source": [
    "fs, PSDs = qpp.PSDs(ts, demod_dat)\n",
    "\n",
    "fs_f, PSDs_f = fs[1:int(npoints/2+1)], PSDs[1:int(npoints/2+1)]\n",
    "plt.figure('fft')\n",
    "plt.clf()\n",
    "plt.plot(fs_f, PSDs_f)\n",
    "plt.yscale('log')\n",
    "plt.xscale('log')\n",
    "\n",
    "pars, result, QPP_model, fit_report = qpp.fit_QPP(fs_f, PSDs_f)\n",
    "plt.plot(fs_f, QPP_model(pars))"
   ]
  },
  {
   "cell_type": "code",
   "execution_count": null,
   "metadata": {},
   "outputs": [],
   "source": []
  },
  {
   "cell_type": "code",
   "execution_count": null,
   "metadata": {},
   "outputs": [],
   "source": []
  },
  {
   "cell_type": "code",
   "execution_count": null,
   "metadata": {},
   "outputs": [],
   "source": []
  }
 ],
 "metadata": {
  "kernelspec": {
   "display_name": "Python 3",
   "language": "python",
   "name": "python3"
  },
  "language_info": {
   "codemirror_mode": {
    "name": "ipython",
    "version": 3
   },
   "file_extension": ".py",
   "mimetype": "text/x-python",
   "name": "python",
   "nbconvert_exporter": "python",
   "pygments_lexer": "ipython3",
   "version": "3.6.5"
  },
  "toc": {
   "base_numbering": 1,
   "nav_menu": {},
   "number_sections": true,
   "sideBar": true,
   "skip_h1_title": false,
   "title_cell": "Table of Contents",
   "title_sidebar": "Contents",
   "toc_cell": false,
   "toc_position": {},
   "toc_section_display": true,
   "toc_window_display": true
  }
 },
 "nbformat": 4,
 "nbformat_minor": 2
}
