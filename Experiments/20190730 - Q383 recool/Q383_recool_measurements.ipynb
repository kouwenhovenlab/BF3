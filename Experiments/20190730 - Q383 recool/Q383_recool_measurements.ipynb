{
 "cells": [
  {
   "cell_type": "markdown",
   "metadata": {},
   "source": [
    "# Import and initialize"
   ]
  },
  {
   "cell_type": "markdown",
   "metadata": {},
   "source": [
    "## Importing modules"
   ]
  },
  {
   "cell_type": "code",
   "execution_count": 2,
   "metadata": {},
   "outputs": [],
   "source": [
    "%matplotlib notebook\n",
    "\n",
    "from IPython.display import clear_output\n",
    "\n",
    "import sys\n",
    "sys.path.append(r\"D:\\OneDrive\\BF3\\Code\");\n",
    "sys.path.append(r\"D:\\OneDrive\\BF3\\Code\\labtools-master\")\n",
    "\n",
    "import os\n",
    "import time\n",
    "import datetime\n",
    "import numpy as np\n",
    "import matplotlib as mpl\n",
    "# import utils\n",
    "\n",
    "from collections import OrderedDict\n",
    "from importlib import reload\n",
    "from matplotlib import pyplot as plt\n",
    "\n",
    "# from labtools import mplplots; reload(mplplots)\n",
    "# from labtools.mplplots.init_nb_plotting import *\n",
    "# from labtools.mplplots import tools as mpltools\n",
    "\n",
    "import qcodes as qc\n",
    "from qcodes.dataset.database import initialise_database, get_DB_location\n",
    "\n",
    "\n",
    "from qcodes import new_experiment, Station, Instrument\n",
    "from qcodes.dataset.measurements import Measurement\n",
    "from qcodes.dataset.plotting import plot_by_id\n",
    "from qcodes.dataset.data_set import DataSet\n",
    "from qcodes.dataset.data_set import load_by_id\n",
    "from qcodes.dataset.data_export import get_data_by_id\n",
    "\n",
    "from pytopo.qctools import instruments as instools\n",
    "\n",
    "#from v2_dataset_tools.experiments import do_experiment, get_results_from_db_path\n",
    "\n",
    "# from MDAC import MDAC \n",
    "# from qcodes.instrument_drivers.Keysight.Keysight_34465A import Keysight_34465A\n",
    "\n",
    "#from qcodes.instrument_drivers.stanford_research.SR860 import SR860\n",
    "#from qcodes.instrument_drivers.QuTech.IVVI import IVVI\n",
    "#from qcodes.instrument_drivers.yokogawa.GS200 import GS200\n",
    "\n",
    "from pytopo.sweep import sweep, measure, nest, chain, szip, getter, setter, time_trace, do_experiment\n",
    "from pytopo.qctools.instruments import create_inst"
   ]
  },
  {
   "cell_type": "code",
   "execution_count": 3,
   "metadata": {},
   "outputs": [],
   "source": [
    "qc.config.subscription.default_subscribers = [] # no plottr needed"
   ]
  },
  {
   "cell_type": "markdown",
   "metadata": {},
   "source": [
    "## Database configuration"
   ]
  },
  {
   "cell_type": "code",
   "execution_count": 4,
   "metadata": {},
   "outputs": [],
   "source": [
    "from qcodes.dataset.sqlite_base import transaction, one\n",
    "\n",
    "def get_timestamp(run_id):\n",
    "    DB = qc.config[\"core\"][\"db_location\"]\n",
    "    \n",
    "    d = DataSet(DB)\n",
    "    sql = \"\"\"\n",
    "    SELECT run_timestamp\n",
    "    FROM\n",
    "      runs\n",
    "    WHERE\n",
    "      run_id= ?\n",
    "    \"\"\"\n",
    "    c = transaction(d.conn, sql, run_id)\n",
    "    run_timestamp = one(c, 'run_timestamp')\n",
    "    return run_timestamp\n",
    "\n",
    "def timestamp_to_fmt(ts, fmt):\n",
    "    return time.strftime(fmt, time.gmtime(ts))\n",
    "\n",
    "def img_basepath(run_id):\n",
    "    ts = get_timestamp(run_id)\n",
    "    return timestamp_to_fmt(ts, qc.config['user']['img_dir'] + str(run_id).zfill(4) + '_')\n",
    "\n",
    "def ds_title(run_id):\n",
    "    return \"{} #{}\".format(os.path.abspath(qc.config['core']['db_location']), run_id)\n",
    "\n",
    "qc.config['user']['img_dir'] = \"d:/data/images/%Y-%m/%Y-%m-%d/\"\n",
    "qc.config.save_to_cwd()"
   ]
  },
  {
   "cell_type": "code",
   "execution_count": 5,
   "metadata": {},
   "outputs": [
    {
     "name": "stderr",
     "output_type": "stream",
     "text": [
      "Upgrading database: : 0it [00:00, ?it/s]\n"
     ]
    }
   ],
   "source": [
    "qc.config[\"core\"][\"db_location\"] = datetime.date.today().strftime(r'D:\\OneDrive\\BF3\\Data\\experiments_%Y-%m-%d.db')\n",
    "# automatically uses a different DB file for each month\n",
    "initialise_database()\n",
    "# creates a new DB file if nonexistant; leaves it untouched if file already exists"
   ]
  },
  {
   "cell_type": "markdown",
   "metadata": {
    "heading_collapsed": true
   },
   "source": [
    "## Wiring check"
   ]
  },
  {
   "cell_type": "code",
   "execution_count": 5,
   "metadata": {
    "hidden": true
   },
   "outputs": [],
   "source": [
    "sys.path.append(r\"D:\\OneDrive\\BF3\\Code\\BF3\")\n",
    "from QT3_PCB.pad_conversion import Gen5_to_BoB"
   ]
  },
  {
   "cell_type": "code",
   "execution_count": 6,
   "metadata": {
    "hidden": true
   },
   "outputs": [
    {
     "name": "stdout",
     "output_type": "stream",
     "text": [
      "pad 45 is matrix element(3, 15)\n",
      "pad 11 is matrix element(4, 20)\n",
      "pad 17 is matrix element(4, 17)\n",
      "pad 15 is matrix element(4, 18)\n",
      "pad 32 is matrix element(3, 9)\n"
     ]
    },
    {
     "data": {
      "text/plain": [
       "[(3, 15), (4, 20), (4, 17), (4, 18), (3, 9)]"
      ]
     },
     "execution_count": 6,
     "metadata": {},
     "output_type": "execute_result"
    }
   ],
   "source": [
    "Gen5_to_BoB(45,11,17,15,32)"
   ]
  },
  {
   "cell_type": "markdown",
   "metadata": {},
   "source": [
    "## Initialize instruments"
   ]
  },
  {
   "cell_type": "code",
   "execution_count": 6,
   "metadata": {},
   "outputs": [],
   "source": [
    "station = Station()"
   ]
  },
  {
   "cell_type": "markdown",
   "metadata": {},
   "source": [
    "### Lock-in"
   ]
  },
  {
   "cell_type": "code",
   "execution_count": 7,
   "metadata": {},
   "outputs": [
    {
     "name": "stdout",
     "output_type": "stream",
     "text": [
      "Connected to: Stanford_Research_Systems SR860 (serial:003214, firmware:V1.47) in 0.84s\n"
     ]
    }
   ],
   "source": [
    "from qcodes.instrument_drivers.stanford_research.SR865 import SR865\n",
    "lockin1 = create_inst(SR865, \"lockin1\", \"GPIB0::5::INSTR\")\n",
    "lockin1.amplitude.vals._min_value = 0\n",
    "# lockin2 = create_inst(SR865, \"lockin2\", \"GPIB0::5::INSTR\")\n",
    "# lockin2.amplitude.vals._min_value = 0\n",
    "# lockin3 = create_inst(SR865, \"lockin3\", \"GPIB0::6::INSTR\")\n",
    "# lockin3.amplitude.vals._min_value = 0\n",
    "# lockin4 = create_inst(SR865, \"lockin4\", \"GPIB0::7::INSTR\")\n",
    "# lockin4.amplitude.vals._min_value = 0\n",
    "\n",
    "station = qc.Station(lockin1) #, lockin2, lockin3, lockin4)"
   ]
  },
  {
   "cell_type": "code",
   "execution_count": 8,
   "metadata": {},
   "outputs": [
    {
     "name": "stdout",
     "output_type": "stream",
     "text": [
      "Connected to: Stanford_Research_Systems SR860 (serial:003214, firmware:V1.47) in 0.07s\n"
     ]
    },
    {
     "ename": "VisaIOError",
     "evalue": "VI_ERROR_NLISTENERS (-1073807265): No listeners condition is detected (both NRFD and NDAC are deasserted).",
     "output_type": "error",
     "traceback": [
      "\u001b[1;31m---------------------------------------------------------------------------\u001b[0m",
      "\u001b[1;31mVisaIOError\u001b[0m                               Traceback (most recent call last)",
      "\u001b[1;32m<ipython-input-8-d7d00231d0bb>\u001b[0m in \u001b[0;36m<module>\u001b[1;34m\u001b[0m\n\u001b[0;32m      1\u001b[0m \u001b[0mlockin2\u001b[0m \u001b[1;33m=\u001b[0m \u001b[0mcreate_inst\u001b[0m\u001b[1;33m(\u001b[0m\u001b[0mSR865\u001b[0m\u001b[1;33m,\u001b[0m \u001b[1;34m\"lockin2\"\u001b[0m\u001b[1;33m,\u001b[0m \u001b[1;34m\"GPIB0::5::INSTR\"\u001b[0m\u001b[1;33m)\u001b[0m\u001b[1;33m\u001b[0m\u001b[1;33m\u001b[0m\u001b[0m\n\u001b[0;32m      2\u001b[0m \u001b[0mlockin2\u001b[0m\u001b[1;33m.\u001b[0m\u001b[0mamplitude\u001b[0m\u001b[1;33m.\u001b[0m\u001b[0mvals\u001b[0m\u001b[1;33m.\u001b[0m\u001b[0m_min_value\u001b[0m \u001b[1;33m=\u001b[0m \u001b[1;36m0\u001b[0m\u001b[1;33m\u001b[0m\u001b[1;33m\u001b[0m\u001b[0m\n\u001b[1;32m----> 3\u001b[1;33m \u001b[0mlockin3\u001b[0m \u001b[1;33m=\u001b[0m \u001b[0mcreate_inst\u001b[0m\u001b[1;33m(\u001b[0m\u001b[0mSR865\u001b[0m\u001b[1;33m,\u001b[0m \u001b[1;34m\"lockin3\"\u001b[0m\u001b[1;33m,\u001b[0m \u001b[1;34m\"GPIB0::6::INSTR\"\u001b[0m\u001b[1;33m)\u001b[0m\u001b[1;33m\u001b[0m\u001b[1;33m\u001b[0m\u001b[0m\n\u001b[0m\u001b[0;32m      4\u001b[0m \u001b[0mlockin3\u001b[0m\u001b[1;33m.\u001b[0m\u001b[0mamplitude\u001b[0m\u001b[1;33m.\u001b[0m\u001b[0mvals\u001b[0m\u001b[1;33m.\u001b[0m\u001b[0m_min_value\u001b[0m \u001b[1;33m=\u001b[0m \u001b[1;36m0\u001b[0m\u001b[1;33m\u001b[0m\u001b[1;33m\u001b[0m\u001b[0m\n\u001b[0;32m      5\u001b[0m \u001b[0mlockin4\u001b[0m \u001b[1;33m=\u001b[0m \u001b[0mcreate_inst\u001b[0m\u001b[1;33m(\u001b[0m\u001b[0mSR865\u001b[0m\u001b[1;33m,\u001b[0m \u001b[1;34m\"lockin4\"\u001b[0m\u001b[1;33m,\u001b[0m \u001b[1;34m\"GPIB0::7::INSTR\"\u001b[0m\u001b[1;33m)\u001b[0m\u001b[1;33m\u001b[0m\u001b[1;33m\u001b[0m\u001b[0m\n",
      "\u001b[1;32md:\\onedrive\\bf3\\code\\pytopo\\pytopo\\qctools\\instruments.py\u001b[0m in \u001b[0;36mcreate_inst\u001b[1;34m(cls, name, *arg, **kw)\u001b[0m\n\u001b[0;32m     20\u001b[0m \u001b[1;33m\u001b[0m\u001b[0m\n\u001b[0;32m     21\u001b[0m     \u001b[1;32mtry\u001b[0m\u001b[1;33m:\u001b[0m\u001b[1;33m\u001b[0m\u001b[1;33m\u001b[0m\u001b[0m\n\u001b[1;32m---> 22\u001b[1;33m         \u001b[1;32mreturn\u001b[0m \u001b[0mcls\u001b[0m\u001b[1;33m(\u001b[0m\u001b[0mname\u001b[0m\u001b[1;33m,\u001b[0m \u001b[1;33m*\u001b[0m\u001b[0marg\u001b[0m\u001b[1;33m,\u001b[0m \u001b[1;33m**\u001b[0m\u001b[0mkw\u001b[0m\u001b[1;33m)\u001b[0m\u001b[1;33m\u001b[0m\u001b[1;33m\u001b[0m\u001b[0m\n\u001b[0m\u001b[0;32m     23\u001b[0m     \u001b[1;32mexcept\u001b[0m \u001b[0mKeyError\u001b[0m\u001b[1;33m:\u001b[0m\u001b[1;33m\u001b[0m\u001b[1;33m\u001b[0m\u001b[0m\n\u001b[0;32m     24\u001b[0m         \u001b[0mprint\u001b[0m\u001b[1;33m(\u001b[0m\u001b[1;34m\"Instrument {} already exists.\"\u001b[0m\u001b[1;33m.\u001b[0m\u001b[0mformat\u001b[0m\u001b[1;33m(\u001b[0m\u001b[0mname\u001b[0m\u001b[1;33m)\u001b[0m\u001b[1;33m)\u001b[0m\u001b[1;33m\u001b[0m\u001b[1;33m\u001b[0m\u001b[0m\n",
      "\u001b[1;32md:\\onedrive\\bf3\\code\\qcodes\\qcodes\\instrument_drivers\\stanford_research\\SR865.py\u001b[0m in \u001b[0;36m__init__\u001b[1;34m(self, name, address, reset, **kwargs)\u001b[0m\n\u001b[0;32m      7\u001b[0m     \"\"\"\n\u001b[0;32m      8\u001b[0m     \u001b[1;32mdef\u001b[0m \u001b[0m__init__\u001b[0m\u001b[1;33m(\u001b[0m\u001b[0mself\u001b[0m\u001b[1;33m,\u001b[0m \u001b[0mname\u001b[0m\u001b[1;33m:\u001b[0m \u001b[0mstr\u001b[0m\u001b[1;33m,\u001b[0m \u001b[0maddress\u001b[0m\u001b[1;33m:\u001b[0m \u001b[0mstr\u001b[0m\u001b[1;33m,\u001b[0m \u001b[0mreset\u001b[0m\u001b[1;33m:\u001b[0m \u001b[0mbool\u001b[0m\u001b[1;33m=\u001b[0m\u001b[1;32mFalse\u001b[0m\u001b[1;33m,\u001b[0m \u001b[1;33m**\u001b[0m\u001b[0mkwargs\u001b[0m\u001b[1;33m:\u001b[0m \u001b[0mstr\u001b[0m\u001b[1;33m)\u001b[0m \u001b[1;33m->\u001b[0m\u001b[1;32mNone\u001b[0m\u001b[1;33m:\u001b[0m\u001b[1;33m\u001b[0m\u001b[1;33m\u001b[0m\u001b[0m\n\u001b[1;32m----> 9\u001b[1;33m         \u001b[0msuper\u001b[0m\u001b[1;33m(\u001b[0m\u001b[1;33m)\u001b[0m\u001b[1;33m.\u001b[0m\u001b[0m__init__\u001b[0m\u001b[1;33m(\u001b[0m\u001b[0mname\u001b[0m\u001b[1;33m,\u001b[0m \u001b[0maddress\u001b[0m\u001b[1;33m,\u001b[0m \u001b[0mmax_frequency\u001b[0m\u001b[1;33m=\u001b[0m\u001b[1;36m2E6\u001b[0m\u001b[1;33m,\u001b[0m \u001b[0mreset\u001b[0m\u001b[1;33m=\u001b[0m\u001b[0mreset\u001b[0m\u001b[1;33m,\u001b[0m \u001b[1;33m**\u001b[0m\u001b[0mkwargs\u001b[0m\u001b[1;33m)\u001b[0m\u001b[1;33m\u001b[0m\u001b[1;33m\u001b[0m\u001b[0m\n\u001b[0m",
      "\u001b[1;32md:\\onedrive\\bf3\\code\\qcodes\\qcodes\\instrument_drivers\\stanford_research\\SR86x.py\u001b[0m in \u001b[0;36m__init__\u001b[1;34m(self, name, address, max_frequency, reset, **kwargs)\u001b[0m\n\u001b[0;32m    681\u001b[0m \u001b[1;33m\u001b[0m\u001b[0m\n\u001b[0;32m    682\u001b[0m     \u001b[1;32mdef\u001b[0m \u001b[0m__init__\u001b[0m\u001b[1;33m(\u001b[0m\u001b[0mself\u001b[0m\u001b[1;33m,\u001b[0m \u001b[0mname\u001b[0m\u001b[1;33m,\u001b[0m \u001b[0maddress\u001b[0m\u001b[1;33m,\u001b[0m \u001b[0mmax_frequency\u001b[0m\u001b[1;33m,\u001b[0m \u001b[0mreset\u001b[0m\u001b[1;33m=\u001b[0m\u001b[1;32mFalse\u001b[0m\u001b[1;33m,\u001b[0m \u001b[1;33m**\u001b[0m\u001b[0mkwargs\u001b[0m\u001b[1;33m)\u001b[0m\u001b[1;33m:\u001b[0m\u001b[1;33m\u001b[0m\u001b[1;33m\u001b[0m\u001b[0m\n\u001b[1;32m--> 683\u001b[1;33m         \u001b[0msuper\u001b[0m\u001b[1;33m(\u001b[0m\u001b[1;33m)\u001b[0m\u001b[1;33m.\u001b[0m\u001b[0m__init__\u001b[0m\u001b[1;33m(\u001b[0m\u001b[0mname\u001b[0m\u001b[1;33m,\u001b[0m \u001b[0maddress\u001b[0m\u001b[1;33m,\u001b[0m \u001b[0mterminator\u001b[0m\u001b[1;33m=\u001b[0m\u001b[1;34m'\\n'\u001b[0m\u001b[1;33m,\u001b[0m \u001b[1;33m**\u001b[0m\u001b[0mkwargs\u001b[0m\u001b[1;33m)\u001b[0m\u001b[1;33m\u001b[0m\u001b[1;33m\u001b[0m\u001b[0m\n\u001b[0m\u001b[0;32m    684\u001b[0m         \u001b[0mself\u001b[0m\u001b[1;33m.\u001b[0m\u001b[0m_max_frequency\u001b[0m \u001b[1;33m=\u001b[0m \u001b[0mmax_frequency\u001b[0m\u001b[1;33m\u001b[0m\u001b[1;33m\u001b[0m\u001b[0m\n\u001b[0;32m    685\u001b[0m         \u001b[1;31m# Reference commands\u001b[0m\u001b[1;33m\u001b[0m\u001b[1;33m\u001b[0m\u001b[1;33m\u001b[0m\u001b[0m\n",
      "\u001b[1;32md:\\onedrive\\bf3\\code\\qcodes\\qcodes\\instrument\\visa.py\u001b[0m in \u001b[0;36m__init__\u001b[1;34m(self, name, address, timeout, terminator, device_clear, visalib, **kwargs)\u001b[0m\n\u001b[0;32m     91\u001b[0m \u001b[1;33m\u001b[0m\u001b[0m\n\u001b[0;32m     92\u001b[0m         \u001b[1;32mif\u001b[0m \u001b[0mdevice_clear\u001b[0m\u001b[1;33m:\u001b[0m\u001b[1;33m\u001b[0m\u001b[1;33m\u001b[0m\u001b[0m\n\u001b[1;32m---> 93\u001b[1;33m             \u001b[0mself\u001b[0m\u001b[1;33m.\u001b[0m\u001b[0mdevice_clear\u001b[0m\u001b[1;33m(\u001b[0m\u001b[1;33m)\u001b[0m\u001b[1;33m\u001b[0m\u001b[1;33m\u001b[0m\u001b[0m\n\u001b[0m\u001b[0;32m     94\u001b[0m \u001b[1;33m\u001b[0m\u001b[0m\n\u001b[0;32m     95\u001b[0m         \u001b[0mself\u001b[0m\u001b[1;33m.\u001b[0m\u001b[0mset_terminator\u001b[0m\u001b[1;33m(\u001b[0m\u001b[0mterminator\u001b[0m\u001b[1;33m)\u001b[0m\u001b[1;33m\u001b[0m\u001b[1;33m\u001b[0m\u001b[0m\n",
      "\u001b[1;32md:\\onedrive\\bf3\\code\\qcodes\\qcodes\\instrument\\visa.py\u001b[0m in \u001b[0;36mdevice_clear\u001b[1;34m(self)\u001b[0m\n\u001b[0;32m    142\u001b[0m                 vi_const.VI_READ_BUF_DISCARD | vi_const.VI_WRITE_BUF_DISCARD)\n\u001b[0;32m    143\u001b[0m         \u001b[1;32melse\u001b[0m\u001b[1;33m:\u001b[0m\u001b[1;33m\u001b[0m\u001b[1;33m\u001b[0m\u001b[0m\n\u001b[1;32m--> 144\u001b[1;33m             \u001b[0mstatus_code\u001b[0m \u001b[1;33m=\u001b[0m \u001b[0mself\u001b[0m\u001b[1;33m.\u001b[0m\u001b[0mvisa_handle\u001b[0m\u001b[1;33m.\u001b[0m\u001b[0mclear\u001b[0m\u001b[1;33m(\u001b[0m\u001b[1;33m)\u001b[0m\u001b[1;33m\u001b[0m\u001b[1;33m\u001b[0m\u001b[0m\n\u001b[0m\u001b[0;32m    145\u001b[0m             \u001b[1;32mif\u001b[0m \u001b[0mstatus_code\u001b[0m \u001b[1;32mis\u001b[0m \u001b[1;32mnot\u001b[0m \u001b[1;32mNone\u001b[0m\u001b[1;33m:\u001b[0m\u001b[1;33m\u001b[0m\u001b[1;33m\u001b[0m\u001b[0m\n\u001b[0;32m    146\u001b[0m                 self.visa_log.warning(\n",
      "\u001b[1;32mC:\\ProgramData\\Anaconda3\\lib\\site-packages\\pyvisa\\resources\\resource.py\u001b[0m in \u001b[0;36mclear\u001b[1;34m(self)\u001b[0m\n\u001b[0;32m    276\u001b[0m         \"\"\"Clears this resource\n\u001b[0;32m    277\u001b[0m         \"\"\"\n\u001b[1;32m--> 278\u001b[1;33m         \u001b[0mself\u001b[0m\u001b[1;33m.\u001b[0m\u001b[0mvisalib\u001b[0m\u001b[1;33m.\u001b[0m\u001b[0mclear\u001b[0m\u001b[1;33m(\u001b[0m\u001b[0mself\u001b[0m\u001b[1;33m.\u001b[0m\u001b[0msession\u001b[0m\u001b[1;33m)\u001b[0m\u001b[1;33m\u001b[0m\u001b[1;33m\u001b[0m\u001b[0m\n\u001b[0m\u001b[0;32m    279\u001b[0m \u001b[1;33m\u001b[0m\u001b[0m\n\u001b[0;32m    280\u001b[0m     \u001b[1;32mdef\u001b[0m \u001b[0minstall_handler\u001b[0m\u001b[1;33m(\u001b[0m\u001b[0mself\u001b[0m\u001b[1;33m,\u001b[0m \u001b[0mevent_type\u001b[0m\u001b[1;33m,\u001b[0m \u001b[0mhandler\u001b[0m\u001b[1;33m,\u001b[0m \u001b[0muser_handle\u001b[0m\u001b[1;33m=\u001b[0m\u001b[1;32mNone\u001b[0m\u001b[1;33m)\u001b[0m\u001b[1;33m:\u001b[0m\u001b[1;33m\u001b[0m\u001b[1;33m\u001b[0m\u001b[0m\n",
      "\u001b[1;32mC:\\ProgramData\\Anaconda3\\lib\\site-packages\\pyvisa\\ctwrapper\\functions.py\u001b[0m in \u001b[0;36mclear\u001b[1;34m(library, session)\u001b[0m\n\u001b[0;32m    379\u001b[0m     \u001b[1;33m:\u001b[0m\u001b[0mrtype\u001b[0m\u001b[1;33m:\u001b[0m \u001b[1;33m:\u001b[0m\u001b[1;32mclass\u001b[0m\u001b[1;33m:\u001b[0m\u001b[0;31m`\u001b[0m\u001b[0mpyvisa\u001b[0m\u001b[1;33m.\u001b[0m\u001b[0mconstants\u001b[0m\u001b[1;33m.\u001b[0m\u001b[0mStatusCode\u001b[0m\u001b[0;31m`\u001b[0m\u001b[1;33m\u001b[0m\u001b[1;33m\u001b[0m\u001b[0m\n\u001b[0;32m    380\u001b[0m     \"\"\"\n\u001b[1;32m--> 381\u001b[1;33m     \u001b[1;32mreturn\u001b[0m \u001b[0mlibrary\u001b[0m\u001b[1;33m.\u001b[0m\u001b[0mviClear\u001b[0m\u001b[1;33m(\u001b[0m\u001b[0msession\u001b[0m\u001b[1;33m)\u001b[0m\u001b[1;33m\u001b[0m\u001b[1;33m\u001b[0m\u001b[0m\n\u001b[0m\u001b[0;32m    382\u001b[0m \u001b[1;33m\u001b[0m\u001b[0m\n\u001b[0;32m    383\u001b[0m \u001b[1;33m\u001b[0m\u001b[0m\n",
      "\u001b[1;32mC:\\ProgramData\\Anaconda3\\lib\\site-packages\\pyvisa\\ctwrapper\\highlevel.py\u001b[0m in \u001b[0;36m_return_handler\u001b[1;34m(self, ret_value, func, arguments)\u001b[0m\n\u001b[0;32m    186\u001b[0m \u001b[1;33m\u001b[0m\u001b[0m\n\u001b[0;32m    187\u001b[0m         \u001b[1;32mif\u001b[0m \u001b[0mret_value\u001b[0m \u001b[1;33m<\u001b[0m \u001b[1;36m0\u001b[0m\u001b[1;33m:\u001b[0m\u001b[1;33m\u001b[0m\u001b[1;33m\u001b[0m\u001b[0m\n\u001b[1;32m--> 188\u001b[1;33m             \u001b[1;32mraise\u001b[0m \u001b[0merrors\u001b[0m\u001b[1;33m.\u001b[0m\u001b[0mVisaIOError\u001b[0m\u001b[1;33m(\u001b[0m\u001b[0mret_value\u001b[0m\u001b[1;33m)\u001b[0m\u001b[1;33m\u001b[0m\u001b[1;33m\u001b[0m\u001b[0m\n\u001b[0m\u001b[0;32m    189\u001b[0m \u001b[1;33m\u001b[0m\u001b[0m\n\u001b[0;32m    190\u001b[0m         \u001b[1;32mif\u001b[0m \u001b[0mret_value\u001b[0m \u001b[1;32min\u001b[0m \u001b[0mself\u001b[0m\u001b[1;33m.\u001b[0m\u001b[0missue_warning_on\u001b[0m\u001b[1;33m:\u001b[0m\u001b[1;33m\u001b[0m\u001b[1;33m\u001b[0m\u001b[0m\n",
      "\u001b[1;31mVisaIOError\u001b[0m: VI_ERROR_NLISTENERS (-1073807265): No listeners condition is detected (both NRFD and NDAC are deasserted)."
     ]
    }
   ],
   "source": [
    "lockin2 = create_inst(SR865, \"lockin2\", \"GPIB0::5::INSTR\")\n",
    "lockin2.amplitude.vals._min_value = 0\n",
    "lockin3 = create_inst(SR865, \"lockin3\", \"GPIB0::6::INSTR\")\n",
    "lockin3.amplitude.vals._min_value = 0\n",
    "lockin4 = create_inst(SR865, \"lockin4\", \"GPIB0::7::INSTR\")\n",
    "lockin4.amplitude.vals._min_value = 0\n",
    "\n",
    "station.add_component(lockin2)\n",
    "station.add_component(lockin3)\n",
    "station.add_component(lockin4)"
   ]
  },
  {
   "cell_type": "code",
   "execution_count": 9,
   "metadata": {},
   "outputs": [],
   "source": [
    "def show_lockin_status(lockin_instance):\n",
    "    print('==={} status:==='.format(lockin_instance.name))\n",
    "    print('Excitation amplitude = {}V'.format(lockin_instance.amplitude()))\n",
    "    print('DC bias = {}V'.format(lockin_instance.sine_outdc()))\n",
    "    print('Frequency = {}Hz'.format(lockin_instance.frequency()))\n",
    "    print('Phase = {}deg'.format(lockin1.phase()))\n",
    "    print('X = {}V'.format(lockin1.X()))\n",
    "    print('Y = {}V'.format(lockin1.Y()))\n",
    "    print('R = {}V'.format(lockin1.R()))\n",
    "    print('P = {}deg\\n'.format(lockin1.P()))"
   ]
  },
  {
   "cell_type": "code",
   "execution_count": 10,
   "metadata": {},
   "outputs": [
    {
     "name": "stdout",
     "output_type": "stream",
     "text": [
      "===lockin1 status:===\n",
      "Excitation amplitude = 0.0V\n",
      "DC bias = 0.0V\n",
      "Frequency = 6.8871598244Hz\n",
      "Phase = -180.0deg\n",
      "X = -1.8355809743e-06V\n",
      "Y = -8.6861382442e-07V\n",
      "R = 1.7968598058e-06V\n",
      "P = -162.59141541deg\n",
      "\n"
     ]
    }
   ],
   "source": [
    "for equip_name, equip_instance in station.components.items():\n",
    "    if 'SR860' in [s for d, s in equip_instance.get_idn().items()]:\n",
    "        show_lockin_status(equip_instance)"
   ]
  },
  {
   "cell_type": "code",
   "execution_count": 10,
   "metadata": {},
   "outputs": [],
   "source": [
    "lockin1.time_constant(0.1)\n",
    "lockin2.time_constant(0.1)\n",
    "lockin3.time_constant(0.1)\n",
    "lockin4.time_constant(0.1)\n"
   ]
  },
  {
   "cell_type": "markdown",
   "metadata": {},
   "source": [
    "### MDAC"
   ]
  },
  {
   "cell_type": "code",
   "execution_count": 11,
   "metadata": {
    "scrolled": false
   },
   "outputs": [
    {
     "name": "stderr",
     "output_type": "stream",
     "text": [
      "C:\\ProgramData\\Anaconda3\\lib\\site-packages\\pyvisa\\ctwrapper\\functions.py:1649: VisaIOWarning: VI_WARN_NSUP_ATTR_STATE (1073676420): Although the specified state of the attribute is valid, it is not supported by this implementation.\n",
      "  return library.viSetAttribute(session, attribute, attribute_state)\n"
     ]
    },
    {
     "name": "stdout",
     "output_type": "stream",
     "text": [
      "Connected to: QNL Sydney MDAC (serial:0x32353532353551040028003E, firmware:1.5) in 5.22s\n"
     ]
    }
   ],
   "source": [
    "sys.path.append(r\"D:\\OneDrive\\BF3\\Code\\StationQ\\MDAC\\Driver\")\n",
    "from MDAC import MDAC\n",
    "mdac = MDAC('MDAC1', 'ASRL4::INSTR')"
   ]
  },
  {
   "cell_type": "code",
   "execution_count": 12,
   "metadata": {},
   "outputs": [
    {
     "data": {
      "text/plain": [
       "'MDAC1'"
      ]
     },
     "execution_count": 12,
     "metadata": {},
     "output_type": "execute_result"
    }
   ],
   "source": [
    "station.add_component(mdac)"
   ]
  },
  {
   "cell_type": "code",
   "execution_count": 13,
   "metadata": {},
   "outputs": [
    {
     "name": "stdout",
     "output_type": "stream",
     "text": [
      "Connected to: QNL Sydney MDAC (serial:0x32353532353551040037003E, firmware:1.5) in 5.26s\n"
     ]
    }
   ],
   "source": [
    "sys.path.append(r\"D:\\OneDrive\\BF3\\Code\\StationQ\\MDAC\\Driver\")\n",
    "from MDAC import MDAC\n",
    "mdac2 = MDAC('MDAC2', 'ASRL6::INSTR')"
   ]
  },
  {
   "cell_type": "code",
   "execution_count": 14,
   "metadata": {},
   "outputs": [
    {
     "data": {
      "text/plain": [
       "'MDAC2'"
      ]
     },
     "execution_count": 14,
     "metadata": {},
     "output_type": "execute_result"
    }
   ],
   "source": [
    "station.add_component(mdac2)"
   ]
  },
  {
   "cell_type": "code",
   "execution_count": 15,
   "metadata": {},
   "outputs": [
    {
     "data": {
      "text/plain": [
       "{'lockin1': <SR865: lockin1>, 'MDAC1': <MDAC: MDAC1>, 'MDAC2': <MDAC: MDAC2>}"
      ]
     },
     "execution_count": 15,
     "metadata": {},
     "output_type": "execute_result"
    }
   ],
   "source": [
    "station.components"
   ]
  },
  {
   "cell_type": "markdown",
   "metadata": {},
   "source": [
    "### Yokogawa GS210"
   ]
  },
  {
   "cell_type": "code",
   "execution_count": 16,
   "metadata": {
    "scrolled": true
   },
   "outputs": [
    {
     "name": "stdout",
     "output_type": "stream",
     "text": [
      "Connected to: YOKOGAWA GS210 (serial:91T926460, firmware:2.02) in 0.03s\n"
     ]
    }
   ],
   "source": [
    "from qcodes.instrument_drivers.yokogawa.GS200 import GS200\n",
    "yoko1 = GS200(\"yoko1\", \"USB0::0x0B21::0x0039::91T926460::INSTR\")"
   ]
  },
  {
   "cell_type": "code",
   "execution_count": 17,
   "metadata": {},
   "outputs": [
    {
     "name": "stderr",
     "output_type": "stream",
     "text": [
      "[yoko1(GS200)] Snapshot: Could not update parameter: current_range\n",
      "[yoko1(GS200)] Snapshot: Could not update parameter: current\n"
     ]
    },
    {
     "data": {
      "text/plain": [
       "'yoko1'"
      ]
     },
     "execution_count": 17,
     "metadata": {},
     "output_type": "execute_result"
    }
   ],
   "source": [
    "station.add_component(yoko1)"
   ]
  },
  {
   "cell_type": "code",
   "execution_count": 15,
   "metadata": {},
   "outputs": [],
   "source": [
    "yoko1.on()"
   ]
  },
  {
   "cell_type": "code",
   "execution_count": 18,
   "metadata": {},
   "outputs": [],
   "source": [
    "yoko_ramp_step = 1e-6 # in V\n",
    "yoko_ramp_delay = 1e-6 # in s\n",
    "def yoko1_ramp_raw(voltage): \n",
    "    yoko1.ramp_voltage(voltage, yoko_ramp_step, yoko_ramp_delay)\n",
    "yoko1_ramp = setter((\"yoko1_ramp\", \"V\"))(yoko1_ramp_raw)"
   ]
  },
  {
   "cell_type": "code",
   "execution_count": 13,
   "metadata": {},
   "outputs": [
    {
     "data": {
      "text/plain": [
       "{'yoko1_ramp': 0}"
      ]
     },
     "execution_count": 13,
     "metadata": {},
     "output_type": "execute_result"
    }
   ],
   "source": [
    "yoko1_ramp(0)"
   ]
  },
  {
   "cell_type": "code",
   "execution_count": 19,
   "metadata": {},
   "outputs": [
    {
     "data": {
      "text/plain": [
       "0.0"
      ]
     },
     "execution_count": 19,
     "metadata": {},
     "output_type": "execute_result"
    }
   ],
   "source": [
    "yoko1.voltage()"
   ]
  },
  {
   "cell_type": "code",
   "execution_count": 20,
   "metadata": {},
   "outputs": [
    {
     "data": {
      "text/plain": [
       "1.0"
      ]
     },
     "execution_count": 20,
     "metadata": {},
     "output_type": "execute_result"
    }
   ],
   "source": [
    "yoko1.voltage_range()"
   ]
  },
  {
   "cell_type": "markdown",
   "metadata": {},
   "source": [
    "### Keysight DMM"
   ]
  },
  {
   "cell_type": "code",
   "execution_count": 21,
   "metadata": {},
   "outputs": [
    {
     "name": "stdout",
     "output_type": "stream",
     "text": [
      "Connected to: Keysight Technologies 34465A (serial:MY57505052, firmware:A.02.16-02.40-02.16-00.51-03-01) in 0.38s\n"
     ]
    },
    {
     "data": {
      "text/plain": [
       "'key1'"
      ]
     },
     "execution_count": 21,
     "metadata": {},
     "output_type": "execute_result"
    }
   ],
   "source": [
    "from qcodes.instrument_drivers.Keysight.Keysight_34465A import Keysight_34465A\n",
    "key1 = create_inst(Keysight_34465A, \"key1\", \"USB0::0x2A8D::0x0301::MY57505052::INSTR\", force_new_instance=True)\n",
    "\n",
    "station.add_component(key1)"
   ]
  },
  {
   "cell_type": "code",
   "execution_count": 46,
   "metadata": {
    "scrolled": true
   },
   "outputs": [
    {
     "ename": "VisaIOError",
     "evalue": "VI_ERROR_RSRC_NFOUND (-1073807343): Insufficient location information or the requested device or resource is not present in the system.",
     "output_type": "error",
     "traceback": [
      "\u001b[1;31m---------------------------------------------------------------------------\u001b[0m",
      "\u001b[1;31mVisaIOError\u001b[0m                               Traceback (most recent call last)",
      "\u001b[1;32m<ipython-input-46-01ff6d925c3d>\u001b[0m in \u001b[0;36m<module>\u001b[1;34m\u001b[0m\n\u001b[1;32m----> 1\u001b[1;33m \u001b[0mkey2\u001b[0m \u001b[1;33m=\u001b[0m \u001b[0mcreate_inst\u001b[0m\u001b[1;33m(\u001b[0m\u001b[0mKeysight_34465A\u001b[0m\u001b[1;33m,\u001b[0m \u001b[1;34m\"key2\"\u001b[0m\u001b[1;33m,\u001b[0m \u001b[1;34m\"USB0::0x2A8D::0x0301::MY57505146::INSTR\"\u001b[0m\u001b[1;33m,\u001b[0m \u001b[0mforce_new_instance\u001b[0m\u001b[1;33m=\u001b[0m\u001b[1;32mTrue\u001b[0m\u001b[1;33m)\u001b[0m\u001b[1;33m\u001b[0m\u001b[1;33m\u001b[0m\u001b[0m\n\u001b[0m\u001b[0;32m      2\u001b[0m \u001b[1;33m\u001b[0m\u001b[0m\n\u001b[0;32m      3\u001b[0m \u001b[0mstation\u001b[0m\u001b[1;33m.\u001b[0m\u001b[0madd_component\u001b[0m\u001b[1;33m(\u001b[0m\u001b[0mkey2\u001b[0m\u001b[1;33m)\u001b[0m\u001b[1;33m\u001b[0m\u001b[1;33m\u001b[0m\u001b[0m\n",
      "\u001b[1;32md:\\onedrive\\bf3\\code\\pytopo\\pytopo\\qctools\\instruments.py\u001b[0m in \u001b[0;36mcreate_inst\u001b[1;34m(cls, name, *arg, **kw)\u001b[0m\n\u001b[0;32m     20\u001b[0m \u001b[1;33m\u001b[0m\u001b[0m\n\u001b[0;32m     21\u001b[0m     \u001b[1;32mtry\u001b[0m\u001b[1;33m:\u001b[0m\u001b[1;33m\u001b[0m\u001b[1;33m\u001b[0m\u001b[0m\n\u001b[1;32m---> 22\u001b[1;33m         \u001b[1;32mreturn\u001b[0m \u001b[0mcls\u001b[0m\u001b[1;33m(\u001b[0m\u001b[0mname\u001b[0m\u001b[1;33m,\u001b[0m \u001b[1;33m*\u001b[0m\u001b[0marg\u001b[0m\u001b[1;33m,\u001b[0m \u001b[1;33m**\u001b[0m\u001b[0mkw\u001b[0m\u001b[1;33m)\u001b[0m\u001b[1;33m\u001b[0m\u001b[1;33m\u001b[0m\u001b[0m\n\u001b[0m\u001b[0;32m     23\u001b[0m     \u001b[1;32mexcept\u001b[0m \u001b[0mKeyError\u001b[0m\u001b[1;33m:\u001b[0m\u001b[1;33m\u001b[0m\u001b[1;33m\u001b[0m\u001b[0m\n\u001b[0;32m     24\u001b[0m         \u001b[0mprint\u001b[0m\u001b[1;33m(\u001b[0m\u001b[1;34m\"Instrument {} already exists.\"\u001b[0m\u001b[1;33m.\u001b[0m\u001b[0mformat\u001b[0m\u001b[1;33m(\u001b[0m\u001b[0mname\u001b[0m\u001b[1;33m)\u001b[0m\u001b[1;33m)\u001b[0m\u001b[1;33m\u001b[0m\u001b[1;33m\u001b[0m\u001b[0m\n",
      "\u001b[1;32md:\\onedrive\\bf3\\code\\qcodes\\qcodes\\instrument_drivers\\Keysight\\Keysight_34465A.py\u001b[0m in \u001b[0;36m__init__\u001b[1;34m(self, name, address, silent, **kwargs)\u001b[0m\n\u001b[0;32m      7\u001b[0m     def __init__(self, name, address, silent=False,\n\u001b[0;32m      8\u001b[0m                  **kwargs):\n\u001b[1;32m----> 9\u001b[1;33m         \u001b[0msuper\u001b[0m\u001b[1;33m(\u001b[0m\u001b[1;33m)\u001b[0m\u001b[1;33m.\u001b[0m\u001b[0m__init__\u001b[0m\u001b[1;33m(\u001b[0m\u001b[0mname\u001b[0m\u001b[1;33m,\u001b[0m \u001b[0maddress\u001b[0m\u001b[1;33m,\u001b[0m \u001b[0msilent\u001b[0m\u001b[1;33m,\u001b[0m \u001b[1;33m**\u001b[0m\u001b[0mkwargs\u001b[0m\u001b[1;33m)\u001b[0m\u001b[1;33m\u001b[0m\u001b[1;33m\u001b[0m\u001b[0m\n\u001b[0m",
      "\u001b[1;32md:\\onedrive\\bf3\\code\\qcodes\\qcodes\\instrument_drivers\\Keysight\\private\\Keysight_344xxA.py\u001b[0m in \u001b[0;36m__init__\u001b[1;34m(self, name, address, silent, **kwargs)\u001b[0m\n\u001b[0;32m    125\u001b[0m         \"\"\"\n\u001b[0;32m    126\u001b[0m \u001b[1;33m\u001b[0m\u001b[0m\n\u001b[1;32m--> 127\u001b[1;33m         \u001b[0msuper\u001b[0m\u001b[1;33m(\u001b[0m\u001b[1;33m)\u001b[0m\u001b[1;33m.\u001b[0m\u001b[0m__init__\u001b[0m\u001b[1;33m(\u001b[0m\u001b[0mname\u001b[0m\u001b[1;33m,\u001b[0m \u001b[0maddress\u001b[0m\u001b[1;33m,\u001b[0m \u001b[0mterminator\u001b[0m\u001b[1;33m=\u001b[0m\u001b[1;34m'\\n'\u001b[0m\u001b[1;33m,\u001b[0m \u001b[1;33m**\u001b[0m\u001b[0mkwargs\u001b[0m\u001b[1;33m)\u001b[0m\u001b[1;33m\u001b[0m\u001b[1;33m\u001b[0m\u001b[0m\n\u001b[0m\u001b[0;32m    128\u001b[0m \u001b[1;33m\u001b[0m\u001b[0m\n\u001b[0;32m    129\u001b[0m         \u001b[0midn\u001b[0m \u001b[1;33m=\u001b[0m \u001b[0mself\u001b[0m\u001b[1;33m.\u001b[0m\u001b[0mIDN\u001b[0m\u001b[1;33m.\u001b[0m\u001b[0mget\u001b[0m\u001b[1;33m(\u001b[0m\u001b[1;33m)\u001b[0m\u001b[1;33m\u001b[0m\u001b[1;33m\u001b[0m\u001b[0m\n",
      "\u001b[1;32md:\\onedrive\\bf3\\code\\qcodes\\qcodes\\instrument\\visa.py\u001b[0m in \u001b[0;36m__init__\u001b[1;34m(self, name, address, timeout, terminator, device_clear, visalib, **kwargs)\u001b[0m\n\u001b[0;32m     88\u001b[0m             \u001b[0mself\u001b[0m\u001b[1;33m.\u001b[0m\u001b[0mvisa_log\u001b[0m\u001b[1;33m.\u001b[0m\u001b[0minfo\u001b[0m\u001b[1;33m(\u001b[0m\u001b[1;34mf\"Could not connect at {address}\"\u001b[0m\u001b[1;33m)\u001b[0m\u001b[1;33m\u001b[0m\u001b[1;33m\u001b[0m\u001b[0m\n\u001b[0;32m     89\u001b[0m             \u001b[0mself\u001b[0m\u001b[1;33m.\u001b[0m\u001b[0mclose\u001b[0m\u001b[1;33m(\u001b[0m\u001b[1;33m)\u001b[0m\u001b[1;33m\u001b[0m\u001b[1;33m\u001b[0m\u001b[0m\n\u001b[1;32m---> 90\u001b[1;33m             \u001b[1;32mraise\u001b[0m \u001b[0me\u001b[0m\u001b[1;33m\u001b[0m\u001b[1;33m\u001b[0m\u001b[0m\n\u001b[0m\u001b[0;32m     91\u001b[0m \u001b[1;33m\u001b[0m\u001b[0m\n\u001b[0;32m     92\u001b[0m         \u001b[1;32mif\u001b[0m \u001b[0mdevice_clear\u001b[0m\u001b[1;33m:\u001b[0m\u001b[1;33m\u001b[0m\u001b[1;33m\u001b[0m\u001b[0m\n",
      "\u001b[1;32md:\\onedrive\\bf3\\code\\qcodes\\qcodes\\instrument\\visa.py\u001b[0m in \u001b[0;36m__init__\u001b[1;34m(self, name, address, timeout, terminator, device_clear, visalib, **kwargs)\u001b[0m\n\u001b[0;32m     84\u001b[0m \u001b[1;33m\u001b[0m\u001b[0m\n\u001b[0;32m     85\u001b[0m         \u001b[1;32mtry\u001b[0m\u001b[1;33m:\u001b[0m\u001b[1;33m\u001b[0m\u001b[1;33m\u001b[0m\u001b[0m\n\u001b[1;32m---> 86\u001b[1;33m             \u001b[0mself\u001b[0m\u001b[1;33m.\u001b[0m\u001b[0mset_address\u001b[0m\u001b[1;33m(\u001b[0m\u001b[0maddress\u001b[0m\u001b[1;33m)\u001b[0m\u001b[1;33m\u001b[0m\u001b[1;33m\u001b[0m\u001b[0m\n\u001b[0m\u001b[0;32m     87\u001b[0m         \u001b[1;32mexcept\u001b[0m \u001b[0mException\u001b[0m \u001b[1;32mas\u001b[0m \u001b[0me\u001b[0m\u001b[1;33m:\u001b[0m\u001b[1;33m\u001b[0m\u001b[1;33m\u001b[0m\u001b[0m\n\u001b[0;32m     88\u001b[0m             \u001b[0mself\u001b[0m\u001b[1;33m.\u001b[0m\u001b[0mvisa_log\u001b[0m\u001b[1;33m.\u001b[0m\u001b[0minfo\u001b[0m\u001b[1;33m(\u001b[0m\u001b[1;34mf\"Could not connect at {address}\"\u001b[0m\u001b[1;33m)\u001b[0m\u001b[1;33m\u001b[0m\u001b[1;33m\u001b[0m\u001b[0m\n",
      "\u001b[1;32md:\\onedrive\\bf3\\code\\qcodes\\qcodes\\instrument\\visa.py\u001b[0m in \u001b[0;36mset_address\u001b[1;34m(self, address)\u001b[0m\n\u001b[0;32m    123\u001b[0m \u001b[1;33m\u001b[0m\u001b[0m\n\u001b[0;32m    124\u001b[0m         \u001b[0mself\u001b[0m\u001b[1;33m.\u001b[0m\u001b[0mvisa_log\u001b[0m\u001b[1;33m.\u001b[0m\u001b[0minfo\u001b[0m\u001b[1;33m(\u001b[0m\u001b[1;34m'Opening PyVISA resource at address: {}'\u001b[0m\u001b[1;33m.\u001b[0m\u001b[0mformat\u001b[0m\u001b[1;33m(\u001b[0m\u001b[0maddress\u001b[0m\u001b[1;33m)\u001b[0m\u001b[1;33m)\u001b[0m\u001b[1;33m\u001b[0m\u001b[1;33m\u001b[0m\u001b[0m\n\u001b[1;32m--> 125\u001b[1;33m         \u001b[0mself\u001b[0m\u001b[1;33m.\u001b[0m\u001b[0mvisa_handle\u001b[0m \u001b[1;33m=\u001b[0m \u001b[0mresource_manager\u001b[0m\u001b[1;33m.\u001b[0m\u001b[0mopen_resource\u001b[0m\u001b[1;33m(\u001b[0m\u001b[0maddress\u001b[0m\u001b[1;33m)\u001b[0m\u001b[1;33m\u001b[0m\u001b[1;33m\u001b[0m\u001b[0m\n\u001b[0m\u001b[0;32m    126\u001b[0m         \u001b[0mself\u001b[0m\u001b[1;33m.\u001b[0m\u001b[0m_address\u001b[0m \u001b[1;33m=\u001b[0m \u001b[0maddress\u001b[0m\u001b[1;33m\u001b[0m\u001b[1;33m\u001b[0m\u001b[0m\n\u001b[0;32m    127\u001b[0m \u001b[1;33m\u001b[0m\u001b[0m\n",
      "\u001b[1;32mC:\\ProgramData\\Anaconda3\\lib\\site-packages\\pyvisa\\highlevel.py\u001b[0m in \u001b[0;36mopen_resource\u001b[1;34m(self, resource_name, access_mode, open_timeout, resource_pyclass, **kwargs)\u001b[0m\n\u001b[0;32m   1722\u001b[0m                 \u001b[1;32mraise\u001b[0m \u001b[0mValueError\u001b[0m\u001b[1;33m(\u001b[0m\u001b[1;34m'%r is not a valid attribute for type %s'\u001b[0m \u001b[1;33m%\u001b[0m \u001b[1;33m(\u001b[0m\u001b[0mkey\u001b[0m\u001b[1;33m,\u001b[0m \u001b[0mres\u001b[0m\u001b[1;33m.\u001b[0m\u001b[0m__class__\u001b[0m\u001b[1;33m.\u001b[0m\u001b[0m__name__\u001b[0m\u001b[1;33m)\u001b[0m\u001b[1;33m)\u001b[0m\u001b[1;33m\u001b[0m\u001b[1;33m\u001b[0m\u001b[0m\n\u001b[0;32m   1723\u001b[0m \u001b[1;33m\u001b[0m\u001b[0m\n\u001b[1;32m-> 1724\u001b[1;33m         \u001b[0mres\u001b[0m\u001b[1;33m.\u001b[0m\u001b[0mopen\u001b[0m\u001b[1;33m(\u001b[0m\u001b[0maccess_mode\u001b[0m\u001b[1;33m,\u001b[0m \u001b[0mopen_timeout\u001b[0m\u001b[1;33m)\u001b[0m\u001b[1;33m\u001b[0m\u001b[1;33m\u001b[0m\u001b[0m\n\u001b[0m\u001b[0;32m   1725\u001b[0m \u001b[1;33m\u001b[0m\u001b[0m\n\u001b[0;32m   1726\u001b[0m         \u001b[1;32mfor\u001b[0m \u001b[0mkey\u001b[0m\u001b[1;33m,\u001b[0m \u001b[0mvalue\u001b[0m \u001b[1;32min\u001b[0m \u001b[0mkwargs\u001b[0m\u001b[1;33m.\u001b[0m\u001b[0mitems\u001b[0m\u001b[1;33m(\u001b[0m\u001b[1;33m)\u001b[0m\u001b[1;33m:\u001b[0m\u001b[1;33m\u001b[0m\u001b[1;33m\u001b[0m\u001b[0m\n",
      "\u001b[1;32mC:\\ProgramData\\Anaconda3\\lib\\site-packages\\pyvisa\\resources\\resource.py\u001b[0m in \u001b[0;36mopen\u001b[1;34m(self, access_mode, open_timeout)\u001b[0m\n\u001b[0;32m    207\u001b[0m         \u001b[0mlogger\u001b[0m\u001b[1;33m.\u001b[0m\u001b[0mdebug\u001b[0m\u001b[1;33m(\u001b[0m\u001b[1;34m'%s - opening ...'\u001b[0m\u001b[1;33m,\u001b[0m \u001b[0mself\u001b[0m\u001b[1;33m.\u001b[0m\u001b[0m_resource_name\u001b[0m\u001b[1;33m,\u001b[0m \u001b[0mextra\u001b[0m\u001b[1;33m=\u001b[0m\u001b[0mself\u001b[0m\u001b[1;33m.\u001b[0m\u001b[0m_logging_extra\u001b[0m\u001b[1;33m)\u001b[0m\u001b[1;33m\u001b[0m\u001b[1;33m\u001b[0m\u001b[0m\n\u001b[0;32m    208\u001b[0m         \u001b[1;32mwith\u001b[0m \u001b[0mself\u001b[0m\u001b[1;33m.\u001b[0m\u001b[0m_resource_manager\u001b[0m\u001b[1;33m.\u001b[0m\u001b[0mignore_warning\u001b[0m\u001b[1;33m(\u001b[0m\u001b[0mconstants\u001b[0m\u001b[1;33m.\u001b[0m\u001b[0mVI_SUCCESS_DEV_NPRESENT\u001b[0m\u001b[1;33m)\u001b[0m\u001b[1;33m:\u001b[0m\u001b[1;33m\u001b[0m\u001b[1;33m\u001b[0m\u001b[0m\n\u001b[1;32m--> 209\u001b[1;33m             \u001b[0mself\u001b[0m\u001b[1;33m.\u001b[0m\u001b[0msession\u001b[0m\u001b[1;33m,\u001b[0m \u001b[0mstatus\u001b[0m \u001b[1;33m=\u001b[0m \u001b[0mself\u001b[0m\u001b[1;33m.\u001b[0m\u001b[0m_resource_manager\u001b[0m\u001b[1;33m.\u001b[0m\u001b[0mopen_bare_resource\u001b[0m\u001b[1;33m(\u001b[0m\u001b[0mself\u001b[0m\u001b[1;33m.\u001b[0m\u001b[0m_resource_name\u001b[0m\u001b[1;33m,\u001b[0m \u001b[0maccess_mode\u001b[0m\u001b[1;33m,\u001b[0m \u001b[0mopen_timeout\u001b[0m\u001b[1;33m)\u001b[0m\u001b[1;33m\u001b[0m\u001b[1;33m\u001b[0m\u001b[0m\n\u001b[0m\u001b[0;32m    210\u001b[0m \u001b[1;33m\u001b[0m\u001b[0m\n\u001b[0;32m    211\u001b[0m             \u001b[1;32mif\u001b[0m \u001b[0mstatus\u001b[0m \u001b[1;33m==\u001b[0m \u001b[0mconstants\u001b[0m\u001b[1;33m.\u001b[0m\u001b[0mVI_SUCCESS_DEV_NPRESENT\u001b[0m\u001b[1;33m:\u001b[0m\u001b[1;33m\u001b[0m\u001b[1;33m\u001b[0m\u001b[0m\n",
      "\u001b[1;32mC:\\ProgramData\\Anaconda3\\lib\\site-packages\\pyvisa\\highlevel.py\u001b[0m in \u001b[0;36mopen_bare_resource\u001b[1;34m(self, resource_name, access_mode, open_timeout)\u001b[0m\n\u001b[0;32m   1679\u001b[0m         \u001b[1;33m:\u001b[0m\u001b[1;32mreturn\u001b[0m\u001b[1;33m:\u001b[0m \u001b[0mUnique\u001b[0m \u001b[0mlogical\u001b[0m \u001b[0midentifier\u001b[0m \u001b[0mreference\u001b[0m \u001b[0mto\u001b[0m \u001b[0ma\u001b[0m \u001b[0msession\u001b[0m\u001b[1;33m.\u001b[0m\u001b[1;33m\u001b[0m\u001b[1;33m\u001b[0m\u001b[0m\n\u001b[0;32m   1680\u001b[0m         \"\"\"\n\u001b[1;32m-> 1681\u001b[1;33m         \u001b[1;32mreturn\u001b[0m \u001b[0mself\u001b[0m\u001b[1;33m.\u001b[0m\u001b[0mvisalib\u001b[0m\u001b[1;33m.\u001b[0m\u001b[0mopen\u001b[0m\u001b[1;33m(\u001b[0m\u001b[0mself\u001b[0m\u001b[1;33m.\u001b[0m\u001b[0msession\u001b[0m\u001b[1;33m,\u001b[0m \u001b[0mresource_name\u001b[0m\u001b[1;33m,\u001b[0m \u001b[0maccess_mode\u001b[0m\u001b[1;33m,\u001b[0m \u001b[0mopen_timeout\u001b[0m\u001b[1;33m)\u001b[0m\u001b[1;33m\u001b[0m\u001b[1;33m\u001b[0m\u001b[0m\n\u001b[0m\u001b[0;32m   1682\u001b[0m \u001b[1;33m\u001b[0m\u001b[0m\n\u001b[0;32m   1683\u001b[0m     def open_resource(self, resource_name,\n",
      "\u001b[1;32mC:\\ProgramData\\Anaconda3\\lib\\site-packages\\pyvisa\\ctwrapper\\functions.py\u001b[0m in \u001b[0;36mopen\u001b[1;34m(library, session, resource_name, access_mode, open_timeout)\u001b[0m\n\u001b[0;32m   1211\u001b[0m     \u001b[1;31m# [ViSession, ViRsrc, ViAccessMode, ViUInt32, ViPSession]\u001b[0m\u001b[1;33m\u001b[0m\u001b[1;33m\u001b[0m\u001b[1;33m\u001b[0m\u001b[0m\n\u001b[0;32m   1212\u001b[0m     \u001b[1;31m# ViRsrc converts from (str, unicode, bytes) to bytes\u001b[0m\u001b[1;33m\u001b[0m\u001b[1;33m\u001b[0m\u001b[1;33m\u001b[0m\u001b[0m\n\u001b[1;32m-> 1213\u001b[1;33m     \u001b[0mret\u001b[0m \u001b[1;33m=\u001b[0m \u001b[0mlibrary\u001b[0m\u001b[1;33m.\u001b[0m\u001b[0mviOpen\u001b[0m\u001b[1;33m(\u001b[0m\u001b[0msession\u001b[0m\u001b[1;33m,\u001b[0m \u001b[0mresource_name\u001b[0m\u001b[1;33m,\u001b[0m \u001b[0maccess_mode\u001b[0m\u001b[1;33m,\u001b[0m \u001b[0mopen_timeout\u001b[0m\u001b[1;33m,\u001b[0m \u001b[0mbyref\u001b[0m\u001b[1;33m(\u001b[0m\u001b[0mout_session\u001b[0m\u001b[1;33m)\u001b[0m\u001b[1;33m)\u001b[0m\u001b[1;33m\u001b[0m\u001b[1;33m\u001b[0m\u001b[0m\n\u001b[0m\u001b[0;32m   1214\u001b[0m     \u001b[1;32mreturn\u001b[0m \u001b[0mout_session\u001b[0m\u001b[1;33m.\u001b[0m\u001b[0mvalue\u001b[0m\u001b[1;33m,\u001b[0m \u001b[0mret\u001b[0m\u001b[1;33m\u001b[0m\u001b[1;33m\u001b[0m\u001b[0m\n\u001b[0;32m   1215\u001b[0m \u001b[1;33m\u001b[0m\u001b[0m\n",
      "\u001b[1;32mC:\\ProgramData\\Anaconda3\\lib\\site-packages\\pyvisa\\ctwrapper\\highlevel.py\u001b[0m in \u001b[0;36m_return_handler\u001b[1;34m(self, ret_value, func, arguments)\u001b[0m\n\u001b[0;32m    186\u001b[0m \u001b[1;33m\u001b[0m\u001b[0m\n\u001b[0;32m    187\u001b[0m         \u001b[1;32mif\u001b[0m \u001b[0mret_value\u001b[0m \u001b[1;33m<\u001b[0m \u001b[1;36m0\u001b[0m\u001b[1;33m:\u001b[0m\u001b[1;33m\u001b[0m\u001b[1;33m\u001b[0m\u001b[0m\n\u001b[1;32m--> 188\u001b[1;33m             \u001b[1;32mraise\u001b[0m \u001b[0merrors\u001b[0m\u001b[1;33m.\u001b[0m\u001b[0mVisaIOError\u001b[0m\u001b[1;33m(\u001b[0m\u001b[0mret_value\u001b[0m\u001b[1;33m)\u001b[0m\u001b[1;33m\u001b[0m\u001b[1;33m\u001b[0m\u001b[0m\n\u001b[0m\u001b[0;32m    189\u001b[0m \u001b[1;33m\u001b[0m\u001b[0m\n\u001b[0;32m    190\u001b[0m         \u001b[1;32mif\u001b[0m \u001b[0mret_value\u001b[0m \u001b[1;32min\u001b[0m \u001b[0mself\u001b[0m\u001b[1;33m.\u001b[0m\u001b[0missue_warning_on\u001b[0m\u001b[1;33m:\u001b[0m\u001b[1;33m\u001b[0m\u001b[1;33m\u001b[0m\u001b[0m\n",
      "\u001b[1;31mVisaIOError\u001b[0m: VI_ERROR_RSRC_NFOUND (-1073807343): Insufficient location information or the requested device or resource is not present in the system."
     ]
    }
   ],
   "source": [
    "key2 = create_inst(Keysight_34465A, \"key2\", \"USB0::0x2A8D::0x0301::MY57505146::INSTR\", force_new_instance=True)\n",
    "\n",
    "station.add_component(key2)"
   ]
  },
  {
   "cell_type": "code",
   "execution_count": 36,
   "metadata": {},
   "outputs": [
    {
     "name": "stdout",
     "output_type": "stream",
     "text": [
      "Connected to: Keysight Technologies 34465A (serial:MY57505157, firmware:A.02.16-02.40-02.16-00.51-03-01) in 0.21s\n"
     ]
    },
    {
     "data": {
      "text/plain": [
       "'key3'"
      ]
     },
     "execution_count": 36,
     "metadata": {},
     "output_type": "execute_result"
    }
   ],
   "source": [
    "key3 = create_inst(Keysight_34465A, \"key3\", \"USB0::0x2A8D::0x0101::MY57505157::INSTR\", force_new_instance=True)\n",
    "\n",
    "station.add_component(key3)"
   ]
  },
  {
   "cell_type": "markdown",
   "metadata": {},
   "source": [
    "### Magnet"
   ]
  },
  {
   "cell_type": "markdown",
   "metadata": {},
   "source": [
    "Check that the magnet is the \"right\" one and so the parameters (coil constant and so on...)"
   ]
  },
  {
   "cell_type": "code",
   "execution_count": 64,
   "metadata": {},
   "outputs": [],
   "source": [
    "from qcodes.instrument_drivers.american_magnetics.AMI430 import AMI430,AMI430_3D"
   ]
  },
  {
   "cell_type": "code",
   "execution_count": 65,
   "metadata": {},
   "outputs": [
    {
     "name": "stdout",
     "output_type": "stream",
     "text": [
      "Connected to: AMERICAN MAGNETICS INC. 430 (serial:170029, firmware:2.59) in 1.14s\n",
      "Connected to: AMERICAN MAGNETICS INC. 430 (serial:170027, firmware:2.59) in 1.11s\n"
     ]
    },
    {
     "name": "stderr",
     "output_type": "stream",
     "text": [
      "d:\\onedrive\\bf3\\code\\qcodes\\qcodes\\instrument_drivers\\american_magnetics\\AMI430.py:407: AMI430Warning: Increasing maximum ramp rate: we have a default current ramp rate limit of 0.1 A/s. We do not want to ramp faster than a set maximum so as to avoid quenching the magnet. A value of 0.1 A/s seems like a safe, conservative value for any magnet. Change this value at your own responsibility after consulting the specs of your particular magnet\n",
      "  warn(warning_message, category=AMI430Warning)\n"
     ]
    }
   ],
   "source": [
    "ami_x = instools.create_inst(AMI430, \"AMI430_x\", \"169.254.178.28\", port = 7180, has_current_rating=True)\n",
    "# ami_y = instools.create_inst(AMI430, \"AMI430_y\", \"169.254.175.39\", port = 7180, has_current_rating=True)\n",
    "ami_z = instools.create_inst(AMI430, \"AMI430_z\", \"169.254.137.107\", port = 7180, has_current_rating=True)\n",
    "\n",
    "ramp_limit_multiplier = 0.6\n",
    "ami_x.current_ramp_limit(0.1805*ramp_limit_multiplier) #for QT3 magnet 0.1802\n",
    "ami_x.coil_constant(0.01464)  #for QT3 magnet 0.01466\n",
    "ami_x.current_rating(68.31)  #for QT3 magnet 68.21\n",
    "\n",
    "# ami_y.current_ramp_limit(0.1810*ramp_limit_multiplier) #for QT3 magnet 0.1784\n",
    "# ami_y.coil_constant(0.01477) #for QT3 magnet 0.01464\n",
    "# ami_y.current_rating(67.7) #for QT3 magnet 68.31\n",
    "\n",
    "ami_z.current_ramp_limit(0.0760*ramp_limit_multiplier) #for QT3 magnet 0.0775\n",
    "ami_z.coil_constant(0.0836)  #for QT3 magnet 0.0818\n",
    "ami_z.current_rating(71.77)  #for QT3 magnet 73.35\n",
    "\n",
    "# ami = instools.create_inst(AMI430_3D, \"AMI430\", ami_x, ami_y, ami_z, 2)\n",
    "# ami_3d = AMI430_3D(\"AMI_3D_1\", ami_x, ami_y, ami_z, 1);"
   ]
  },
  {
   "cell_type": "code",
   "execution_count": 67,
   "metadata": {},
   "outputs": [
    {
     "name": "stderr",
     "output_type": "stream",
     "text": [
      "[AMI430_x(AMI430)] Snapshot: Could not update parameter: current_rating\n",
      "[AMI430_x(AMI430)] Snapshot: Could not update parameter: field_rating\n",
      "[AMI430_z(AMI430)] Snapshot: Could not update parameter: current_rating\n",
      "[AMI430_z(AMI430)] Snapshot: Could not update parameter: field_rating\n"
     ]
    },
    {
     "data": {
      "text/plain": [
       "'AMI430_z'"
      ]
     },
     "execution_count": 67,
     "metadata": {},
     "output_type": "execute_result"
    }
   ],
   "source": [
    "station.add_component(ami_x)\n",
    "station.add_component(ami_z)"
   ]
  },
  {
   "cell_type": "code",
   "execution_count": 69,
   "metadata": {},
   "outputs": [
    {
     "name": "stdout",
     "output_type": "stream",
     "text": [
      "0.0005\n",
      "seconds\n",
      "4.27e-05\n"
     ]
    }
   ],
   "source": [
    "print(ami_x.ramp_rate())\n",
    "print(ami_x.ramp_rate_units())\n",
    "print(ami_x.field())"
   ]
  },
  {
   "cell_type": "code",
   "execution_count": 66,
   "metadata": {},
   "outputs": [
    {
     "name": "stdout",
     "output_type": "stream",
     "text": [
      "3.93e-05\n",
      "0.0010467\n"
     ]
    }
   ],
   "source": [
    "print(ami_x.field())\n",
    "# print(ami_y.field())\n",
    "print(ami_z.field())"
   ]
  },
  {
   "cell_type": "code",
   "execution_count": 161,
   "metadata": {},
   "outputs": [],
   "source": [
    "ami_x.field(0.02)"
   ]
  },
  {
   "cell_type": "code",
   "execution_count": 168,
   "metadata": {},
   "outputs": [
    {
     "ename": "KeyboardInterrupt",
     "evalue": "",
     "output_type": "error",
     "traceback": [
      "\u001b[1;31m---------------------------------------------------------------------------\u001b[0m",
      "\u001b[1;31mKeyboardInterrupt\u001b[0m                         Traceback (most recent call last)",
      "\u001b[1;32m<ipython-input-168-7049f04fa323>\u001b[0m in \u001b[0;36m<module>\u001b[1;34m()\u001b[0m\n\u001b[1;32m----> 1\u001b[1;33m \u001b[0mami_3d\u001b[0m\u001b[1;33m.\u001b[0m\u001b[0mspherical\u001b[0m\u001b[1;33m(\u001b[0m\u001b[1;33m[\u001b[0m\u001b[1;36m0.02\u001b[0m\u001b[1;33m,\u001b[0m\u001b[1;36m30\u001b[0m\u001b[1;33m,\u001b[0m\u001b[1;33m-\u001b[0m\u001b[1;36m90\u001b[0m\u001b[1;33m]\u001b[0m\u001b[1;33m)\u001b[0m\u001b[1;33m\u001b[0m\u001b[0m\n\u001b[0m",
      "\u001b[1;32md:\\onedrive\\bf3\\code\\qcodes\\qcodes\\instrument\\parameter.py\u001b[0m in \u001b[0;36m__call__\u001b[1;34m(self, *args, **kwargs)\u001b[0m\n\u001b[0;32m    287\u001b[0m         \u001b[1;32melse\u001b[0m\u001b[1;33m:\u001b[0m\u001b[1;33m\u001b[0m\u001b[0m\n\u001b[0;32m    288\u001b[0m             \u001b[1;32mif\u001b[0m \u001b[0mhasattr\u001b[0m\u001b[1;33m(\u001b[0m\u001b[0mself\u001b[0m\u001b[1;33m,\u001b[0m \u001b[1;34m'set'\u001b[0m\u001b[1;33m)\u001b[0m\u001b[1;33m:\u001b[0m\u001b[1;33m\u001b[0m\u001b[0m\n\u001b[1;32m--> 289\u001b[1;33m                 \u001b[0mself\u001b[0m\u001b[1;33m.\u001b[0m\u001b[0mset\u001b[0m\u001b[1;33m(\u001b[0m\u001b[1;33m*\u001b[0m\u001b[0margs\u001b[0m\u001b[1;33m,\u001b[0m \u001b[1;33m**\u001b[0m\u001b[0mkwargs\u001b[0m\u001b[1;33m)\u001b[0m\u001b[1;33m\u001b[0m\u001b[0m\n\u001b[0m\u001b[0;32m    290\u001b[0m             \u001b[1;32melse\u001b[0m\u001b[1;33m:\u001b[0m\u001b[1;33m\u001b[0m\u001b[0m\n\u001b[0;32m    291\u001b[0m                 raise NotImplementedError('no set cmd found in' +\n",
      "\u001b[1;32md:\\onedrive\\bf3\\code\\qcodes\\qcodes\\instrument\\parameter.py\u001b[0m in \u001b[0;36mset_wrapper\u001b[1;34m(value, **kwargs)\u001b[0m\n\u001b[0;32m    465\u001b[0m                     \u001b[0mt0\u001b[0m \u001b[1;33m=\u001b[0m \u001b[0mtime\u001b[0m\u001b[1;33m.\u001b[0m\u001b[0mperf_counter\u001b[0m\u001b[1;33m(\u001b[0m\u001b[1;33m)\u001b[0m\u001b[1;33m\u001b[0m\u001b[0m\n\u001b[0;32m    466\u001b[0m \u001b[1;33m\u001b[0m\u001b[0m\n\u001b[1;32m--> 467\u001b[1;33m                     \u001b[0mset_function\u001b[0m\u001b[1;33m(\u001b[0m\u001b[0mraw_value\u001b[0m\u001b[1;33m,\u001b[0m \u001b[1;33m**\u001b[0m\u001b[0mkwargs\u001b[0m\u001b[1;33m)\u001b[0m\u001b[1;33m\u001b[0m\u001b[0m\n\u001b[0m\u001b[0;32m    468\u001b[0m                     \u001b[0mself\u001b[0m\u001b[1;33m.\u001b[0m\u001b[0mraw_value\u001b[0m \u001b[1;33m=\u001b[0m \u001b[0mraw_value\u001b[0m\u001b[1;33m\u001b[0m\u001b[0m\n\u001b[0;32m    469\u001b[0m                     self._save_val(val_step,\n",
      "\u001b[1;32md:\\onedrive\\bf3\\code\\qcodes\\qcodes\\utils\\command.py\u001b[0m in \u001b[0;36m__call__\u001b[1;34m(self, *args)\u001b[0m\n\u001b[0;32m    175\u001b[0m             raise TypeError(\n\u001b[0;32m    176\u001b[0m                 'command takes exactly {} args'.format(self.arg_count))\n\u001b[1;32m--> 177\u001b[1;33m         \u001b[1;32mreturn\u001b[0m \u001b[0mself\u001b[0m\u001b[1;33m.\u001b[0m\u001b[0mexec_function\u001b[0m\u001b[1;33m(\u001b[0m\u001b[1;33m*\u001b[0m\u001b[0margs\u001b[0m\u001b[1;33m)\u001b[0m\u001b[1;33m\u001b[0m\u001b[0m\n\u001b[0m",
      "\u001b[1;32md:\\onedrive\\bf3\\code\\qcodes\\qcodes\\instrument_drivers\\american_magnetics\\AMI430.py\u001b[0m in \u001b[0;36m_set_setpoints\u001b[1;34m(self, names, values)\u001b[0m\n\u001b[0;32m    788\u001b[0m \u001b[1;33m\u001b[0m\u001b[0m\n\u001b[0;32m    789\u001b[0m         self._adjust_child_instruments(\n\u001b[1;32m--> 790\u001b[1;33m             \u001b[0mset_point\u001b[0m\u001b[1;33m.\u001b[0m\u001b[0mget_components\u001b[0m\u001b[1;33m(\u001b[0m\u001b[1;34m\"x\"\u001b[0m\u001b[1;33m,\u001b[0m \u001b[1;34m\"y\"\u001b[0m\u001b[1;33m,\u001b[0m \u001b[1;34m\"z\"\u001b[0m\u001b[1;33m)\u001b[0m\u001b[1;33m\u001b[0m\u001b[0m\n\u001b[0m\u001b[0;32m    791\u001b[0m         )\n\u001b[0;32m    792\u001b[0m \u001b[1;33m\u001b[0m\u001b[0m\n",
      "\u001b[1;32md:\\onedrive\\bf3\\code\\qcodes\\qcodes\\instrument_drivers\\american_magnetics\\AMI430.py\u001b[0m in \u001b[0;36m_adjust_child_instruments\u001b[1;34m(self, values)\u001b[0m\n\u001b[0;32m    722\u001b[0m \u001b[1;33m\u001b[0m\u001b[0m\n\u001b[0;32m    723\u001b[0m                 instrument.set_field(value, perform_safety_check=False,\n\u001b[1;32m--> 724\u001b[1;33m                                      block=self.block_during_ramp.get())\n\u001b[0m\u001b[0;32m    725\u001b[0m \u001b[1;33m\u001b[0m\u001b[0m\n\u001b[0;32m    726\u001b[0m     \u001b[1;32mdef\u001b[0m \u001b[0m_request_field_change\u001b[0m\u001b[1;33m(\u001b[0m\u001b[0mself\u001b[0m\u001b[1;33m,\u001b[0m \u001b[0minstrument\u001b[0m\u001b[1;33m,\u001b[0m \u001b[0mvalue\u001b[0m\u001b[1;33m)\u001b[0m\u001b[1;33m:\u001b[0m\u001b[1;33m\u001b[0m\u001b[0m\n",
      "\u001b[1;32md:\\onedrive\\bf3\\code\\qcodes\\qcodes\\instrument_drivers\\american_magnetics\\AMI430.py\u001b[0m in \u001b[0;36mset_field\u001b[1;34m(self, value, block, perform_safety_check)\u001b[0m\n\u001b[0;32m    333\u001b[0m         \u001b[0mself\u001b[0m\u001b[1;33m.\u001b[0m\u001b[0mlog\u001b[0m\u001b[1;33m.\u001b[0m\u001b[0mdebug\u001b[0m\u001b[1;33m(\u001b[0m\u001b[1;34mf'Starting blocking ramp of {self.name} to {value}'\u001b[0m\u001b[1;33m)\u001b[0m\u001b[1;33m\u001b[0m\u001b[0m\n\u001b[0;32m    334\u001b[0m         \u001b[1;32mwhile\u001b[0m \u001b[0mself\u001b[0m\u001b[1;33m.\u001b[0m\u001b[0mramping_state\u001b[0m\u001b[1;33m(\u001b[0m\u001b[1;33m)\u001b[0m \u001b[1;33m==\u001b[0m \u001b[1;34m'ramping'\u001b[0m\u001b[1;33m:\u001b[0m\u001b[1;33m\u001b[0m\u001b[0m\n\u001b[1;32m--> 335\u001b[1;33m             \u001b[0mself\u001b[0m\u001b[1;33m.\u001b[0m\u001b[0m_sleep\u001b[0m\u001b[1;33m(\u001b[0m\u001b[1;36m0.1\u001b[0m\u001b[1;33m)\u001b[0m\u001b[1;33m\u001b[0m\u001b[0m\n\u001b[0m\u001b[0;32m    336\u001b[0m \u001b[1;33m\u001b[0m\u001b[0m\n\u001b[0;32m    337\u001b[0m         \u001b[0mstate\u001b[0m \u001b[1;33m=\u001b[0m \u001b[0mself\u001b[0m\u001b[1;33m.\u001b[0m\u001b[0mramping_state\u001b[0m\u001b[1;33m(\u001b[0m\u001b[1;33m)\u001b[0m\u001b[1;33m\u001b[0m\u001b[0m\n",
      "\u001b[1;32md:\\onedrive\\bf3\\code\\qcodes\\qcodes\\instrument_drivers\\american_magnetics\\AMI430.py\u001b[0m in \u001b[0;36m_sleep\u001b[1;34m(self, t)\u001b[0m\n\u001b[0;32m    263\u001b[0m             \u001b[1;32mreturn\u001b[0m\u001b[1;33m\u001b[0m\u001b[0m\n\u001b[0;32m    264\u001b[0m         \u001b[1;32melse\u001b[0m\u001b[1;33m:\u001b[0m\u001b[1;33m\u001b[0m\u001b[0m\n\u001b[1;32m--> 265\u001b[1;33m             \u001b[0mtime\u001b[0m\u001b[1;33m.\u001b[0m\u001b[0msleep\u001b[0m\u001b[1;33m(\u001b[0m\u001b[0mt\u001b[0m\u001b[1;33m)\u001b[0m\u001b[1;33m\u001b[0m\u001b[0m\n\u001b[0m\u001b[0;32m    266\u001b[0m \u001b[1;33m\u001b[0m\u001b[0m\n\u001b[0;32m    267\u001b[0m     \u001b[1;32mdef\u001b[0m \u001b[0m_can_start_ramping\u001b[0m\u001b[1;33m(\u001b[0m\u001b[0mself\u001b[0m\u001b[1;33m)\u001b[0m\u001b[1;33m:\u001b[0m\u001b[1;33m\u001b[0m\u001b[0m\n",
      "\u001b[1;31mKeyboardInterrupt\u001b[0m: "
     ]
    }
   ],
   "source": [
    "ami_3d.spherical([0.02,30,-90])"
   ]
  },
  {
   "cell_type": "code",
   "execution_count": 169,
   "metadata": {},
   "outputs": [
    {
     "data": {
      "text/plain": [
       "[0.017351588402794715, 0.88895443399450957, -89.765880361469726]"
      ]
     },
     "execution_count": 169,
     "metadata": {},
     "output_type": "execute_result"
    }
   ],
   "source": [
    "ami_3d.spherical_measured()"
   ]
  },
  {
   "cell_type": "code",
   "execution_count": 163,
   "metadata": {},
   "outputs": [
    {
     "name": "stdout",
     "output_type": "stream",
     "text": [
      "0.0199869162036\n",
      "-0.15159321912\n",
      "89.8962391492\n"
     ]
    }
   ],
   "source": [
    "print(ami_3d.field_measured())\n",
    "print(ami_3d.phi_measured())\n",
    "print(ami_3d.theta_measured())"
   ]
  },
  {
   "cell_type": "code",
   "execution_count": 170,
   "metadata": {},
   "outputs": [
    {
     "data": {
      "text/plain": [
       "0.0173291"
      ]
     },
     "execution_count": 170,
     "metadata": {},
     "output_type": "execute_result"
    }
   ],
   "source": [
    "ami_x.field()\n",
    "ami_y.field()\n",
    "ami_z.field()"
   ]
  },
  {
   "cell_type": "code",
   "execution_count": 190,
   "metadata": {},
   "outputs": [
    {
     "data": {
      "text/plain": [
       "-7.02e-05"
      ]
     },
     "execution_count": 190,
     "metadata": {},
     "output_type": "execute_result"
    }
   ],
   "source": [
    "ami_y.field()"
   ]
  },
  {
   "cell_type": "code",
   "execution_count": 191,
   "metadata": {},
   "outputs": [],
   "source": [
    "ami_z.ramp_to(0)"
   ]
  },
  {
   "cell_type": "code",
   "execution_count": 148,
   "metadata": {},
   "outputs": [
    {
     "name": "stdout",
     "output_type": "stream",
     "text": [
      "0.0004\n",
      "0.0001\n",
      "0.001\n",
      "seconds\n",
      "0.045599999999999995\n",
      "0.106398\n",
      "0.0001031\n",
      "7.9e-06\n",
      "0.106353059213\n",
      "0.0496934723405\n"
     ]
    },
    {
     "data": {
      "text/plain": [
       "89.980806344603749"
      ]
     },
     "execution_count": 148,
     "metadata": {},
     "output_type": "execute_result"
    }
   ],
   "source": [
    "print(ami_x.ramp_rate())\n",
    "print(ami_y.ramp_rate())\n",
    "print(ami_z.ramp_rate())\n",
    "print(ami_x.ramp_rate_units())\n",
    "print(ami_z.current_ramp_limit())\n",
    "#30.1802*ramp_limit_multiplier\n",
    "print(ami_x.field())\n",
    "print(ami_y.field())\n",
    "print(ami_z.field())\n",
    "print (ami_3d.field_measured())\n",
    "print(ami_3d.phi_measured())\n",
    "ami_3d.theta_measured()"
   ]
  },
  {
   "cell_type": "code",
   "execution_count": 153,
   "metadata": {},
   "outputs": [],
   "source": [
    "ami_3d.theta(90)"
   ]
  },
  {
   "cell_type": "code",
   "execution_count": 154,
   "metadata": {},
   "outputs": [
    {
     "ename": "KeyboardInterrupt",
     "evalue": "",
     "output_type": "error",
     "traceback": [
      "\u001b[1;31m---------------------------------------------------------------------------\u001b[0m",
      "\u001b[1;31mKeyboardInterrupt\u001b[0m                         Traceback (most recent call last)",
      "\u001b[1;32m<ipython-input-154-4757e532a8bd>\u001b[0m in \u001b[0;36m<module>\u001b[1;34m()\u001b[0m\n\u001b[1;32m----> 1\u001b[1;33m \u001b[0mami_3d\u001b[0m\u001b[1;33m.\u001b[0m\u001b[0mfield\u001b[0m\u001b[1;33m(\u001b[0m\u001b[1;36m0.01\u001b[0m\u001b[1;33m)\u001b[0m\u001b[1;33m\u001b[0m\u001b[0m\n\u001b[0m",
      "\u001b[1;32md:\\onedrive\\bf3\\code\\qcodes\\qcodes\\instrument\\parameter.py\u001b[0m in \u001b[0;36m__call__\u001b[1;34m(self, *args, **kwargs)\u001b[0m\n\u001b[0;32m    287\u001b[0m         \u001b[1;32melse\u001b[0m\u001b[1;33m:\u001b[0m\u001b[1;33m\u001b[0m\u001b[0m\n\u001b[0;32m    288\u001b[0m             \u001b[1;32mif\u001b[0m \u001b[0mhasattr\u001b[0m\u001b[1;33m(\u001b[0m\u001b[0mself\u001b[0m\u001b[1;33m,\u001b[0m \u001b[1;34m'set'\u001b[0m\u001b[1;33m)\u001b[0m\u001b[1;33m:\u001b[0m\u001b[1;33m\u001b[0m\u001b[0m\n\u001b[1;32m--> 289\u001b[1;33m                 \u001b[0mself\u001b[0m\u001b[1;33m.\u001b[0m\u001b[0mset\u001b[0m\u001b[1;33m(\u001b[0m\u001b[1;33m*\u001b[0m\u001b[0margs\u001b[0m\u001b[1;33m,\u001b[0m \u001b[1;33m**\u001b[0m\u001b[0mkwargs\u001b[0m\u001b[1;33m)\u001b[0m\u001b[1;33m\u001b[0m\u001b[0m\n\u001b[0m\u001b[0;32m    290\u001b[0m             \u001b[1;32melse\u001b[0m\u001b[1;33m:\u001b[0m\u001b[1;33m\u001b[0m\u001b[0m\n\u001b[0;32m    291\u001b[0m                 raise NotImplementedError('no set cmd found in' +\n",
      "\u001b[1;32md:\\onedrive\\bf3\\code\\qcodes\\qcodes\\instrument\\parameter.py\u001b[0m in \u001b[0;36mset_wrapper\u001b[1;34m(value, **kwargs)\u001b[0m\n\u001b[0;32m    465\u001b[0m                     \u001b[0mt0\u001b[0m \u001b[1;33m=\u001b[0m \u001b[0mtime\u001b[0m\u001b[1;33m.\u001b[0m\u001b[0mperf_counter\u001b[0m\u001b[1;33m(\u001b[0m\u001b[1;33m)\u001b[0m\u001b[1;33m\u001b[0m\u001b[0m\n\u001b[0;32m    466\u001b[0m \u001b[1;33m\u001b[0m\u001b[0m\n\u001b[1;32m--> 467\u001b[1;33m                     \u001b[0mset_function\u001b[0m\u001b[1;33m(\u001b[0m\u001b[0mraw_value\u001b[0m\u001b[1;33m,\u001b[0m \u001b[1;33m**\u001b[0m\u001b[0mkwargs\u001b[0m\u001b[1;33m)\u001b[0m\u001b[1;33m\u001b[0m\u001b[0m\n\u001b[0m\u001b[0;32m    468\u001b[0m                     \u001b[0mself\u001b[0m\u001b[1;33m.\u001b[0m\u001b[0mraw_value\u001b[0m \u001b[1;33m=\u001b[0m \u001b[0mraw_value\u001b[0m\u001b[1;33m\u001b[0m\u001b[0m\n\u001b[0;32m    469\u001b[0m                     self._save_val(val_step,\n",
      "\u001b[1;32md:\\onedrive\\bf3\\code\\qcodes\\qcodes\\utils\\command.py\u001b[0m in \u001b[0;36m__call__\u001b[1;34m(self, *args)\u001b[0m\n\u001b[0;32m    175\u001b[0m             raise TypeError(\n\u001b[0;32m    176\u001b[0m                 'command takes exactly {} args'.format(self.arg_count))\n\u001b[1;32m--> 177\u001b[1;33m         \u001b[1;32mreturn\u001b[0m \u001b[0mself\u001b[0m\u001b[1;33m.\u001b[0m\u001b[0mexec_function\u001b[0m\u001b[1;33m(\u001b[0m\u001b[1;33m*\u001b[0m\u001b[0margs\u001b[0m\u001b[1;33m)\u001b[0m\u001b[1;33m\u001b[0m\u001b[0m\n\u001b[0m",
      "\u001b[1;32md:\\onedrive\\bf3\\code\\qcodes\\qcodes\\instrument_drivers\\american_magnetics\\AMI430.py\u001b[0m in \u001b[0;36m_set_setpoints\u001b[1;34m(self, names, values)\u001b[0m\n\u001b[0;32m    788\u001b[0m \u001b[1;33m\u001b[0m\u001b[0m\n\u001b[0;32m    789\u001b[0m         self._adjust_child_instruments(\n\u001b[1;32m--> 790\u001b[1;33m             \u001b[0mset_point\u001b[0m\u001b[1;33m.\u001b[0m\u001b[0mget_components\u001b[0m\u001b[1;33m(\u001b[0m\u001b[1;34m\"x\"\u001b[0m\u001b[1;33m,\u001b[0m \u001b[1;34m\"y\"\u001b[0m\u001b[1;33m,\u001b[0m \u001b[1;34m\"z\"\u001b[0m\u001b[1;33m)\u001b[0m\u001b[1;33m\u001b[0m\u001b[0m\n\u001b[0m\u001b[0;32m    791\u001b[0m         )\n\u001b[0;32m    792\u001b[0m \u001b[1;33m\u001b[0m\u001b[0m\n",
      "\u001b[1;32md:\\onedrive\\bf3\\code\\qcodes\\qcodes\\instrument_drivers\\american_magnetics\\AMI430.py\u001b[0m in \u001b[0;36m_adjust_child_instruments\u001b[1;34m(self, values)\u001b[0m\n\u001b[0;32m    722\u001b[0m \u001b[1;33m\u001b[0m\u001b[0m\n\u001b[0;32m    723\u001b[0m                 instrument.set_field(value, perform_safety_check=False,\n\u001b[1;32m--> 724\u001b[1;33m                                      block=self.block_during_ramp.get())\n\u001b[0m\u001b[0;32m    725\u001b[0m \u001b[1;33m\u001b[0m\u001b[0m\n\u001b[0;32m    726\u001b[0m     \u001b[1;32mdef\u001b[0m \u001b[0m_request_field_change\u001b[0m\u001b[1;33m(\u001b[0m\u001b[0mself\u001b[0m\u001b[1;33m,\u001b[0m \u001b[0minstrument\u001b[0m\u001b[1;33m,\u001b[0m \u001b[0mvalue\u001b[0m\u001b[1;33m)\u001b[0m\u001b[1;33m:\u001b[0m\u001b[1;33m\u001b[0m\u001b[0m\n",
      "\u001b[1;32md:\\onedrive\\bf3\\code\\qcodes\\qcodes\\instrument_drivers\\american_magnetics\\AMI430.py\u001b[0m in \u001b[0;36mset_field\u001b[1;34m(self, value, block, perform_safety_check)\u001b[0m\n\u001b[0;32m    333\u001b[0m         \u001b[0mself\u001b[0m\u001b[1;33m.\u001b[0m\u001b[0mlog\u001b[0m\u001b[1;33m.\u001b[0m\u001b[0mdebug\u001b[0m\u001b[1;33m(\u001b[0m\u001b[1;34mf'Starting blocking ramp of {self.name} to {value}'\u001b[0m\u001b[1;33m)\u001b[0m\u001b[1;33m\u001b[0m\u001b[0m\n\u001b[0;32m    334\u001b[0m         \u001b[1;32mwhile\u001b[0m \u001b[0mself\u001b[0m\u001b[1;33m.\u001b[0m\u001b[0mramping_state\u001b[0m\u001b[1;33m(\u001b[0m\u001b[1;33m)\u001b[0m \u001b[1;33m==\u001b[0m \u001b[1;34m'ramping'\u001b[0m\u001b[1;33m:\u001b[0m\u001b[1;33m\u001b[0m\u001b[0m\n\u001b[1;32m--> 335\u001b[1;33m             \u001b[0mself\u001b[0m\u001b[1;33m.\u001b[0m\u001b[0m_sleep\u001b[0m\u001b[1;33m(\u001b[0m\u001b[1;36m0.1\u001b[0m\u001b[1;33m)\u001b[0m\u001b[1;33m\u001b[0m\u001b[0m\n\u001b[0m\u001b[0;32m    336\u001b[0m \u001b[1;33m\u001b[0m\u001b[0m\n\u001b[0;32m    337\u001b[0m         \u001b[0mstate\u001b[0m \u001b[1;33m=\u001b[0m \u001b[0mself\u001b[0m\u001b[1;33m.\u001b[0m\u001b[0mramping_state\u001b[0m\u001b[1;33m(\u001b[0m\u001b[1;33m)\u001b[0m\u001b[1;33m\u001b[0m\u001b[0m\n",
      "\u001b[1;32md:\\onedrive\\bf3\\code\\qcodes\\qcodes\\instrument_drivers\\american_magnetics\\AMI430.py\u001b[0m in \u001b[0;36m_sleep\u001b[1;34m(self, t)\u001b[0m\n\u001b[0;32m    263\u001b[0m             \u001b[1;32mreturn\u001b[0m\u001b[1;33m\u001b[0m\u001b[0m\n\u001b[0;32m    264\u001b[0m         \u001b[1;32melse\u001b[0m\u001b[1;33m:\u001b[0m\u001b[1;33m\u001b[0m\u001b[0m\n\u001b[1;32m--> 265\u001b[1;33m             \u001b[0mtime\u001b[0m\u001b[1;33m.\u001b[0m\u001b[0msleep\u001b[0m\u001b[1;33m(\u001b[0m\u001b[0mt\u001b[0m\u001b[1;33m)\u001b[0m\u001b[1;33m\u001b[0m\u001b[0m\n\u001b[0m\u001b[0;32m    266\u001b[0m \u001b[1;33m\u001b[0m\u001b[0m\n\u001b[0;32m    267\u001b[0m     \u001b[1;32mdef\u001b[0m \u001b[0m_can_start_ramping\u001b[0m\u001b[1;33m(\u001b[0m\u001b[0mself\u001b[0m\u001b[1;33m)\u001b[0m\u001b[1;33m:\u001b[0m\u001b[1;33m\u001b[0m\u001b[0m\n",
      "\u001b[1;31mKeyboardInterrupt\u001b[0m: "
     ]
    }
   ],
   "source": [
    "ami_3d.field(0.01)"
   ]
  },
  {
   "cell_type": "markdown",
   "metadata": {},
   "source": [
    "### Thermometer using BF logs"
   ]
  },
  {
   "cell_type": "code",
   "execution_count": 22,
   "metadata": {},
   "outputs": [
    {
     "name": "stdout",
     "output_type": "stream",
     "text": [
      "Path of network drive(set this manually dear USER):  \\\\MININT-ETA6HHA\\Desktop\\BF Log Files\\\n"
     ]
    },
    {
     "data": {
      "text/plain": [
       "0.027478"
      ]
     },
     "execution_count": 22,
     "metadata": {},
     "output_type": "execute_result"
    }
   ],
   "source": [
    "#set the path here of the shared desktop file\n",
    "BF_PC_PATH = '\\\\\\\\MININT-ETA6HHA\\\\Desktop\\\\BF Log Files\\\\' \n",
    "print('Path of network drive(set this manually dear USER): ', BF_PC_PATH)\n",
    "class Thermometer(Instrument):\n",
    "    \n",
    "    def __init__(self, name, **kw):\n",
    "        super().__init__(name, **kw)        \n",
    "        self.add_parameter('temperature', get_cmd=self._get_temperature, set_cmd=None, unit='K')\n",
    "        \n",
    "        self.add_parameter('counter', get_cmd=self._counter, set_cmd=None, unit='')\n",
    "        self._ind = 0\n",
    "        \n",
    "    def _counter(self):\n",
    "        self._ind += 1\n",
    "        return self._ind\n",
    "    def _get_temperature(self):\n",
    "        ts = datetime.datetime.today()\n",
    "        ds = '%02d-%02d-%02d'%(ts.year-2000, ts.month, ts.day)\n",
    "        pth = BF_PC_PATH + ds + '\\\\CH9 T '+ds+'.log'\n",
    "        time.sleep(0.1)\n",
    "        try:\n",
    "            T = np.loadtxt(pth, usecols = (2), delimiter = ',')[-1]\n",
    "        except: # in the first few seconds of a day, a new log file hasn't been created\n",
    "            ts = datetime.datetime.today() - datetime.timedelta(days=1) # use the last entry in the previous day\n",
    "            ds = '%02d-%02d-%02d'%(ts.year-2000, ts.month, ts.day)\n",
    "            pth = BF_PC_PATH + ds + '\\\\CH9 T '+ds+'.log'\n",
    "            T = np.loadtxt(pth, usecols = (2), delimiter = ',')[-1]\n",
    "        return T\n",
    "    \n",
    "        \n",
    "    \n",
    "T_probe = create_inst(Thermometer, 'T_probe', force_new_instance=True)\n",
    "T_probe.temperature()\n",
    "\n"
   ]
  },
  {
   "cell_type": "code",
   "execution_count": 23,
   "metadata": {},
   "outputs": [
    {
     "data": {
      "text/plain": [
       "0.0275138"
      ]
     },
     "execution_count": 23,
     "metadata": {},
     "output_type": "execute_result"
    }
   ],
   "source": [
    "T_probe.temperature()\n"
   ]
  },
  {
   "cell_type": "markdown",
   "metadata": {},
   "source": [
    "### Lakeshore"
   ]
  },
  {
   "cell_type": "code",
   "execution_count": 20,
   "metadata": {},
   "outputs": [],
   "source": [
    "from qcodes.instrument_drivers.Lakeshore.lakeshore_base import *\n",
    "from qcodes.instrument_drivers.Lakeshore import Model_372"
   ]
  },
  {
   "cell_type": "code",
   "execution_count": 59,
   "metadata": {},
   "outputs": [
    {
     "name": "stdout",
     "output_type": "stream",
     "text": [
      "Connected to: LSCI 372 (serial:LSA21E7, firmware:1.3) in 0.12s\n"
     ]
    }
   ],
   "source": [
    "ls = instools.create_inst(Model_372.Model_372, 'lakeshore_372_1', 'TCPIP::169.254.132.9::7777::SOCKET')\n",
    "h = ls.sample_heater"
   ]
  },
  {
   "cell_type": "code",
   "execution_count": 90,
   "metadata": {},
   "outputs": [],
   "source": [
    "# Specify heater channel\n",
    "heater_channel = 1;\n",
    "reader_channel = 9;\n",
    "\n",
    "# Set auto range of heater to enabled = 'current'\n",
    "heater = ls.channels[heater_channel-1];\n",
    "heater.auto_range('current')\n",
    "\n",
    "# PID setup\n",
    "h.P(1)\n",
    "h.I(2)\n",
    "h.D(2)\n",
    "h.input_channel(heater_channel)\n",
    "h.setpoint(0) # initialize setpoint to 0 for safety\n",
    "h.mode('closed_loop')\n",
    "max_T = [0.014, 0.019, 0.05, 0.15, 0.49, 1.5, 4.5, 10];\n",
    "h.range_limits(max_T)"
   ]
  },
  {
   "cell_type": "code",
   "execution_count": 91,
   "metadata": {},
   "outputs": [
    {
     "name": "stdout",
     "output_type": "stream",
     "text": [
      "off 0.0270512\n"
     ]
    }
   ],
   "source": [
    "# h.blocking_t()\n",
    "print(h.output_range(), ls.channels[reader_channel-1].temperature())"
   ]
  },
  {
   "cell_type": "code",
   "execution_count": null,
   "metadata": {},
   "outputs": [],
   "source": [
    "for i in range(30):\n",
    "    print(h.output_range(), ls.channels[heater_channel-1].temperature())\n",
    "    time.sleep(1)"
   ]
  },
  {
   "cell_type": "code",
   "execution_count": 22,
   "metadata": {},
   "outputs": [
    {
     "name": "stdout",
     "output_type": "stream",
     "text": [
      "0.026221\n",
      "0.0262231\n",
      "0.0262244\n",
      "0.0262256\n",
      "0.0262259\n",
      "0.0262255\n",
      "0.0262247\n",
      "0.0262233\n",
      "0.0262222\n",
      "0.0262222\n"
     ]
    }
   ],
   "source": [
    "for kk in range (10):\n",
    "    print(ls.ch09.temperature())\n",
    "    time.sleep(0.2)"
   ]
  },
  {
   "cell_type": "code",
   "execution_count": 62,
   "metadata": {},
   "outputs": [
    {
     "data": {
      "text/plain": [
       "0.0274641"
      ]
     },
     "execution_count": 62,
     "metadata": {},
     "output_type": "execute_result"
    }
   ],
   "source": [
    "ls.ch09.temperature()"
   ]
  },
  {
   "cell_type": "code",
   "execution_count": 47,
   "metadata": {},
   "outputs": [
    {
     "data": {
      "text/plain": [
       "'1mA'"
      ]
     },
     "execution_count": 47,
     "metadata": {},
     "output_type": "execute_result"
    }
   ],
   "source": [
    "h.set_range_from_temperature(0.05)"
   ]
  },
  {
   "cell_type": "code",
   "execution_count": 54,
   "metadata": {},
   "outputs": [
    {
     "data": {
      "text/plain": [
       "{'closed_loop': 5,\n",
       " 'monitor_out': 1,\n",
       " 'off': 0,\n",
       " 'open_loop': 2,\n",
       " 'still': 4,\n",
       " 'warm_up': 6,\n",
       " 'zone': 3}"
      ]
     },
     "execution_count": 54,
     "metadata": {},
     "output_type": "execute_result"
    }
   ],
   "source": [
    "h."
   ]
  },
  {
   "cell_type": "code",
   "execution_count": 37,
   "metadata": {
    "scrolled": true
   },
   "outputs": [
    {
     "ename": "ZeroDivisionError",
     "evalue": "('float division by zero', 'setting lakeshore_372_sample_heater_blocking_t to 0.05')",
     "output_type": "error",
     "traceback": [
      "\u001b[1;31m---------------------------------------------------------------------------\u001b[0m",
      "\u001b[1;31mZeroDivisionError\u001b[0m                         Traceback (most recent call last)",
      "\u001b[1;32m<ipython-input-37-9d35d8afc057>\u001b[0m in \u001b[0;36m<module>\u001b[1;34m()\u001b[0m\n\u001b[1;32m----> 1\u001b[1;33m \u001b[0mh\u001b[0m\u001b[1;33m.\u001b[0m\u001b[0mblocking_t\u001b[0m\u001b[1;33m(\u001b[0m\u001b[1;36m0.05\u001b[0m\u001b[1;33m)\u001b[0m\u001b[1;33m\u001b[0m\u001b[0m\n\u001b[0m",
      "\u001b[1;32md:\\onedrive\\bf3\\code\\qcodes\\qcodes\\instrument\\parameter.py\u001b[0m in \u001b[0;36m__call__\u001b[1;34m(self, *args, **kwargs)\u001b[0m\n\u001b[0;32m    287\u001b[0m         \u001b[1;32melse\u001b[0m\u001b[1;33m:\u001b[0m\u001b[1;33m\u001b[0m\u001b[0m\n\u001b[0;32m    288\u001b[0m             \u001b[1;32mif\u001b[0m \u001b[0mhasattr\u001b[0m\u001b[1;33m(\u001b[0m\u001b[0mself\u001b[0m\u001b[1;33m,\u001b[0m \u001b[1;34m'set'\u001b[0m\u001b[1;33m)\u001b[0m\u001b[1;33m:\u001b[0m\u001b[1;33m\u001b[0m\u001b[0m\n\u001b[1;32m--> 289\u001b[1;33m                 \u001b[0mself\u001b[0m\u001b[1;33m.\u001b[0m\u001b[0mset\u001b[0m\u001b[1;33m(\u001b[0m\u001b[1;33m*\u001b[0m\u001b[0margs\u001b[0m\u001b[1;33m,\u001b[0m \u001b[1;33m**\u001b[0m\u001b[0mkwargs\u001b[0m\u001b[1;33m)\u001b[0m\u001b[1;33m\u001b[0m\u001b[0m\n\u001b[0m\u001b[0;32m    290\u001b[0m             \u001b[1;32melse\u001b[0m\u001b[1;33m:\u001b[0m\u001b[1;33m\u001b[0m\u001b[0m\n\u001b[0;32m    291\u001b[0m                 raise NotImplementedError('no set cmd found in' +\n",
      "\u001b[1;32md:\\onedrive\\bf3\\code\\qcodes\\qcodes\\instrument\\parameter.py\u001b[0m in \u001b[0;36mset_wrapper\u001b[1;34m(value, **kwargs)\u001b[0m\n\u001b[0;32m    481\u001b[0m             \u001b[1;32mexcept\u001b[0m \u001b[0mException\u001b[0m \u001b[1;32mas\u001b[0m \u001b[0me\u001b[0m\u001b[1;33m:\u001b[0m\u001b[1;33m\u001b[0m\u001b[0m\n\u001b[0;32m    482\u001b[0m                 \u001b[0me\u001b[0m\u001b[1;33m.\u001b[0m\u001b[0margs\u001b[0m \u001b[1;33m=\u001b[0m \u001b[0me\u001b[0m\u001b[1;33m.\u001b[0m\u001b[0margs\u001b[0m \u001b[1;33m+\u001b[0m \u001b[1;33m(\u001b[0m\u001b[1;34m'setting {} to {}'\u001b[0m\u001b[1;33m.\u001b[0m\u001b[0mformat\u001b[0m\u001b[1;33m(\u001b[0m\u001b[0mself\u001b[0m\u001b[1;33m,\u001b[0m \u001b[0mvalue\u001b[0m\u001b[1;33m)\u001b[0m\u001b[1;33m,\u001b[0m\u001b[1;33m)\u001b[0m\u001b[1;33m\u001b[0m\u001b[0m\n\u001b[1;32m--> 483\u001b[1;33m                 \u001b[1;32mraise\u001b[0m \u001b[0me\u001b[0m\u001b[1;33m\u001b[0m\u001b[0m\n\u001b[0m\u001b[0;32m    484\u001b[0m \u001b[1;33m\u001b[0m\u001b[0m\n\u001b[0;32m    485\u001b[0m         \u001b[1;32mreturn\u001b[0m \u001b[0mset_wrapper\u001b[0m\u001b[1;33m\u001b[0m\u001b[0m\n",
      "\u001b[1;32md:\\onedrive\\bf3\\code\\qcodes\\qcodes\\instrument\\parameter.py\u001b[0m in \u001b[0;36mset_wrapper\u001b[1;34m(value, **kwargs)\u001b[0m\n\u001b[0;32m    465\u001b[0m                     \u001b[0mt0\u001b[0m \u001b[1;33m=\u001b[0m \u001b[0mtime\u001b[0m\u001b[1;33m.\u001b[0m\u001b[0mperf_counter\u001b[0m\u001b[1;33m(\u001b[0m\u001b[1;33m)\u001b[0m\u001b[1;33m\u001b[0m\u001b[0m\n\u001b[0;32m    466\u001b[0m \u001b[1;33m\u001b[0m\u001b[0m\n\u001b[1;32m--> 467\u001b[1;33m                     \u001b[0mset_function\u001b[0m\u001b[1;33m(\u001b[0m\u001b[0mraw_value\u001b[0m\u001b[1;33m,\u001b[0m \u001b[1;33m**\u001b[0m\u001b[0mkwargs\u001b[0m\u001b[1;33m)\u001b[0m\u001b[1;33m\u001b[0m\u001b[0m\n\u001b[0m\u001b[0;32m    468\u001b[0m                     \u001b[0mself\u001b[0m\u001b[1;33m.\u001b[0m\u001b[0mraw_value\u001b[0m \u001b[1;33m=\u001b[0m \u001b[0mraw_value\u001b[0m\u001b[1;33m\u001b[0m\u001b[0m\n\u001b[0;32m    469\u001b[0m                     self._save_val(val_step,\n",
      "\u001b[1;32md:\\onedrive\\bf3\\code\\qcodes\\qcodes\\utils\\command.py\u001b[0m in \u001b[0;36m__call__\u001b[1;34m(self, *args)\u001b[0m\n\u001b[0;32m    175\u001b[0m             raise TypeError(\n\u001b[0;32m    176\u001b[0m                 'command takes exactly {} args'.format(self.arg_count))\n\u001b[1;32m--> 177\u001b[1;33m         \u001b[1;32mreturn\u001b[0m \u001b[0mself\u001b[0m\u001b[1;33m.\u001b[0m\u001b[0mexec_function\u001b[0m\u001b[1;33m(\u001b[0m\u001b[1;33m*\u001b[0m\u001b[0margs\u001b[0m\u001b[1;33m)\u001b[0m\u001b[1;33m\u001b[0m\u001b[0m\n\u001b[0m",
      "\u001b[1;32md:\\onedrive\\bf3\\code\\qcodes\\qcodes\\instrument_drivers\\Lakeshore\\lakeshore_base.py\u001b[0m in \u001b[0;36m_set_blocking_t\u001b[1;34m(self, temperature)\u001b[0m\n\u001b[0;32m    181\u001b[0m         \u001b[0mself\u001b[0m\u001b[1;33m.\u001b[0m\u001b[0mset_range_from_temperature\u001b[0m\u001b[1;33m(\u001b[0m\u001b[0mtemperature\u001b[0m\u001b[1;33m)\u001b[0m\u001b[1;33m\u001b[0m\u001b[0m\n\u001b[0;32m    182\u001b[0m         \u001b[0mself\u001b[0m\u001b[1;33m.\u001b[0m\u001b[0msetpoint\u001b[0m\u001b[1;33m(\u001b[0m\u001b[0mtemperature\u001b[0m\u001b[1;33m)\u001b[0m\u001b[1;33m\u001b[0m\u001b[0m\n\u001b[1;32m--> 183\u001b[1;33m         \u001b[0mself\u001b[0m\u001b[1;33m.\u001b[0m\u001b[0mwait_until_set_point_reached\u001b[0m\u001b[1;33m(\u001b[0m\u001b[1;33m)\u001b[0m\u001b[1;33m\u001b[0m\u001b[0m\n\u001b[0m\u001b[0;32m    184\u001b[0m \u001b[1;33m\u001b[0m\u001b[0m\n\u001b[0;32m    185\u001b[0m     \u001b[1;32mdef\u001b[0m \u001b[0mset_range_from_temperature\u001b[0m\u001b[1;33m(\u001b[0m\u001b[0mself\u001b[0m\u001b[1;33m,\u001b[0m \u001b[0mtemperature\u001b[0m\u001b[1;33m:\u001b[0m \u001b[0mfloat\u001b[0m\u001b[1;33m)\u001b[0m\u001b[1;33m:\u001b[0m\u001b[1;33m\u001b[0m\u001b[0m\n",
      "\u001b[1;32md:\\onedrive\\bf3\\code\\qcodes\\qcodes\\instrument_drivers\\Lakeshore\\lakeshore_base.py\u001b[0m in \u001b[0;36mwait_until_set_point_reached\u001b[1;34m(self, wait_cycle_time, wait_tolerance, wait_equilibration_time)\u001b[0m\n\u001b[0;32m    286\u001b[0m             \u001b[0mt_reading\u001b[0m \u001b[1;33m=\u001b[0m \u001b[0mactive_channel\u001b[0m\u001b[1;33m.\u001b[0m\u001b[0mtemperature\u001b[0m\u001b[1;33m(\u001b[0m\u001b[1;33m)\u001b[0m\u001b[1;33m\u001b[0m\u001b[0m\n\u001b[0;32m    287\u001b[0m \u001b[1;33m\u001b[0m\u001b[0m\n\u001b[1;32m--> 288\u001b[1;33m             \u001b[1;32mif\u001b[0m \u001b[0mabs\u001b[0m\u001b[1;33m(\u001b[0m\u001b[0mt_reading\u001b[0m \u001b[1;33m-\u001b[0m \u001b[0mt_setpoint\u001b[0m\u001b[1;33m)\u001b[0m \u001b[1;33m/\u001b[0m \u001b[0mt_reading\u001b[0m \u001b[1;33m>\u001b[0m \u001b[0mtolerance\u001b[0m\u001b[1;33m:\u001b[0m\u001b[1;33m\u001b[0m\u001b[0m\n\u001b[0m\u001b[0;32m    289\u001b[0m                 \u001b[1;31m# Reset time_enter_tolerance_zone to time_now because we left\u001b[0m\u001b[1;33m\u001b[0m\u001b[1;33m\u001b[0m\u001b[0m\n\u001b[0;32m    290\u001b[0m                 \u001b[1;31m# the tolerance zone here (if we even were inside one)\u001b[0m\u001b[1;33m\u001b[0m\u001b[1;33m\u001b[0m\u001b[0m\n",
      "\u001b[1;31mZeroDivisionError\u001b[0m: ('float division by zero', 'setting lakeshore_372_sample_heater_blocking_t to 0.05')"
     ]
    }
   ],
   "source": [
    "h.blocking_t(0.05)"
   ]
  },
  {
   "cell_type": "markdown",
   "metadata": {},
   "source": [
    "## Measurement functions"
   ]
  },
  {
   "cell_type": "markdown",
   "metadata": {},
   "source": [
    "### MDAC ramping"
   ]
  },
  {
   "cell_type": "code",
   "execution_count": 24,
   "metadata": {},
   "outputs": [],
   "source": [
    "gate_ramp_stepsize = 1e-3  #[V] previously was 1e-3\n",
    "gate_ramp_delay = 0.01  #[s] previously was 0.01\n",
    "\n",
    "def ramp(param, target, step_size, delay): \n",
    "    current_value = param()\n",
    "    step_size *= np.sign(target - current_value)\n",
    "    if abs(step_size) < 1E-10: \n",
    "        return \n",
    "    \n",
    "    steps = np.arange(current_value, target, step_size)\n",
    "    for step in steps: \n",
    "        param(step)\n",
    "        time.sleep(delay)\n",
    "    \n",
    "    param(target)\n",
    "    \n",
    "def set_mdac_in_safemode(nchan=64):\n",
    "    #ivvi.dac1(0)\n",
    "    #ivvi.dac3(0)\n",
    "    lockin1.amplitude(0)\n",
    "    lockin1.sine_outdc(0)\n",
    "    \n",
    "    print('setting mdac in safe mode')\n",
    "    \n",
    "    for ch in mdac.channels[:nchan]:\n",
    "        ramp(ch.voltage, 0, gate_ramp_stepsize, gate_ramp_delay)\n",
    "\n",
    "    # Note: we do this in separate loops because we want to be sure that\n",
    "    # no currents are running anywhere before switching the relays\n",
    "    for ch in mdac.channels[:nchan]:\n",
    "        ch.dac_output('open')\n",
    "        ch.bus('open')\n",
    "        ch.gnd('open')\n",
    "        ch.smc('open')\n",
    "        ch.microd('open')\n",
    "        #ch.divider('off')\n",
    "    print('Done')\n",
    "\n",
    "def chs_safe(*channels):\n",
    "    lockin1.amplitude(0)\n",
    "    lockin1.sine_outdc(0)   \n",
    "    print('setting mdac in safe mode')\n",
    "    for ch in channels:\n",
    "        ramp(ch.voltage, 0, gate_ramp_stepsize, gate_ramp_delay)\n",
    "        ch.dac_output('open')\n",
    "        ch.bus('open')\n",
    "        ch.gnd('open')\n",
    "        ch.smc('open')\n",
    "        ch.microd('open')\n",
    "    print('Done')\n",
    "# set_mdac_in_safemode()"
   ]
  },
  {
   "cell_type": "code",
   "execution_count": 25,
   "metadata": {},
   "outputs": [],
   "source": [
    "def initialize(*channels):\n",
    "    for s in channels:\n",
    "        ramp(s.voltage, 0, gate_ramp_stepsize, gate_ramp_delay)\n",
    "    #     ramp(g.voltage, 0, gate_ramp_stepsize, gate_ramp_delay)\n",
    "        s.smc('close')\n",
    "        s.dac_output('close')\n",
    "    #     d.gnd('close')\n",
    "    #     g.dac_output('close')\n",
    "    #     g.smc('close')\n",
    "    \n",
    "def initialize_leakage(channels_to_close, channels_to_open):\n",
    "    for s in channels_to_close:\n",
    "        ramp(s.voltage, 0, gate_ramp_stepsize, gate_ramp_delay)\n",
    "        s.smc('close')\n",
    "        s.dac_output('close')\n",
    "    for s in channels_to_open:\n",
    "        ramp(s.voltage, 0, gate_ramp_stepsize, gate_ramp_delay)\n",
    "        s.smc('open')\n",
    "        s.dac_output('open')"
   ]
  },
  {
   "cell_type": "markdown",
   "metadata": {},
   "source": [
    "### getters and setters"
   ]
  },
  {
   "cell_type": "code",
   "execution_count": 51,
   "metadata": {},
   "outputs": [],
   "source": [
    "def mdac_PG_voltage_raw(voltage): \n",
    "    ramp(PG.voltage, voltage, gate_ramp_stepsize, gate_ramp_delay)\n",
    "mdac_PG_voltage = setter((\"mdac_PG_voltage\", \"V\"))(mdac_PG_voltage_raw)\n",
    "\n",
    "def mdac_CUT_voltage_raw(voltage): \n",
    "    ramp(CUT.voltage, voltage, gate_ramp_stepsize, gate_ramp_delay)\n",
    "mdac_CUT_voltage = setter((\"mdac_CUT_voltage\", \"V\"))(mdac_CUT_voltage_raw)\n",
    "\n",
    "def mdac_GATES_voltage_raw(voltage): \n",
    "    ramp(PG.voltage, voltage, gate_ramp_stepsize, gate_ramp_delay)\n",
    "    ramp(CUT.voltage, voltage, gate_ramp_stepsize, gate_ramp_delay)\n",
    "mdac_GATES_voltage = setter((\"mdac_GATES_voltage\", \"V\"))(mdac_GATES_voltage_raw)\n",
    "\n",
    "def mdac_TG1_voltage_raw(voltage): \n",
    "    ramp(TG1.voltage, voltage, gate_ramp_stepsize, gate_ramp_delay)\n",
    "mdac_TG1_voltage = setter((\"mdac_TG1_voltage\", \"V\"))(mdac_TG1_voltage_raw)\n",
    "\n",
    "def mdac_TG2_voltage_raw(voltage): \n",
    "    ramp(TG2.voltage, voltage, gate_ramp_stepsize, gate_ramp_delay)\n",
    "mdac_TG2_voltage = setter((\"mdac_TG2_voltage\", \"V\"))(mdac_TG2_voltage_raw)\n",
    "\n",
    "def mdac_TG3_voltage_raw(voltage): \n",
    "    ramp(TG3.voltage, voltage, gate_ramp_stepsize, gate_ramp_delay)\n",
    "mdac_TG3_voltage = setter((\"mdac_TG3_voltage\", \"V\"))(mdac_TG3_voltage_raw)\n",
    "\n",
    "def mdac_Bias_voltage_raw(voltage): \n",
    "    ramp(mdac_Bias.voltage, voltage, gate_ramp_stepsize, gate_ramp_delay)\n",
    "mdac_Bias_voltage = setter((\"mdac_Bias_voltage\", \"V\"))(mdac_Bias_voltage_raw)\n",
    "\n",
    "def mdac_3TGs_voltage_raw(voltage): \n",
    "    ramp(TG1.voltage, voltage, gate_ramp_stepsize, gate_ramp_delay)\n",
    "    ramp(TG2.voltage, voltage, gate_ramp_stepsize, gate_ramp_delay)\n",
    "    ramp(TG3.voltage, voltage, gate_ramp_stepsize, gate_ramp_delay)\n",
    "mdac_3TGs_voltage = setter((\"mdac_3TGs_voltage\", \"V\"))(mdac_3TGs_voltage_raw)\n",
    "\n",
    "bias_ramp_stepsize = 1e-3  #[V], lockin DIRECT output DC value\n",
    "bias_ramp_delay = 0.01  #[s]\n",
    "\n",
    "@setter((\"mdac_bias_voltage\", \"V\"))\n",
    "def mdac_bias_voltage(voltage): \n",
    "    voltage *= 790\n",
    "    ramp(source.voltage, voltage, bias_ramp_stepsize, bias_ramp_delay)\n",
    "\n",
    "@setter((\"lockin1_dc\", \"V\"))\n",
    "def lockin1_dc(voltage): \n",
    "    voltage *= 100\n",
    "    ramp(lockin1.sine_outdc, voltage, bias_ramp_stepsize, bias_ramp_delay)\n",
    "    \n",
    "@setter((\"lockin2_dc\", \"V\"))\n",
    "def lockin2_dc(voltage): \n",
    "    voltage *= 100\n",
    "    ramp(lockin2.sine_outdc, voltage, bias_ramp_stepsize, bias_ramp_delay)\n",
    "\n",
    "@setter((\"lockin3_dc\", \"V\"))\n",
    "def lockin3_dc(voltage): \n",
    "    voltage *= 100\n",
    "    ramp(lockin3.sine_outdc, voltage, bias_ramp_stepsize, bias_ramp_delay)\n",
    "    \n",
    "@setter((\"lockin4_dc\", \"V\"))\n",
    "def lockin4_dc(voltage): \n",
    "    voltage *= 100\n",
    "    ramp(lockin4.sine_outdc, voltage, bias_ramp_stepsize, bias_ramp_delay)\n",
    "    \n",
    "@setter((\"lockins_dc\", \"V\"))\n",
    "def lockins_dc(voltage): \n",
    "    voltage *= 100\n",
    "    ramp(lockin1.sine_outdc, voltage, bias_ramp_stepsize, bias_ramp_delay)\n",
    "    ramp(lockin2.sine_outdc, voltage, bias_ramp_stepsize, bias_ramp_delay)\n",
    "    ramp(lockin3.sine_outdc, voltage, bias_ramp_stepsize, bias_ramp_delay)\n",
    "    \n",
    "@setter((\"yoko2_voltage\", \"V\"))\n",
    "def yoko2_voltage(voltage): \n",
    "    #voltage *= 790\n",
    "    ramp(yoko2.voltage, voltage, gate_ramp_stepsize, gate_ramp_delay)\n",
    "\n",
    "@setter((\"time_sweep\", \"a.u.\"))\n",
    "def time_sweep(a): \n",
    "    time.sleep(0.001)\n",
    "    \n",
    "@setter((\"datapoint\", \"a.u.\"))\n",
    "def datapoint(a): \n",
    "    time.sleep(0)    \n",
    "    \n",
    "@setter((\"field_sweep\", \"T\"))\n",
    "def field_sweep(a):\n",
    "    time.sleep(0.001);"
   ]
  },
  {
   "cell_type": "code",
   "execution_count": null,
   "metadata": {},
   "outputs": [],
   "source": []
  },
  {
   "cell_type": "markdown",
   "metadata": {},
   "source": [
    "### Generators for field ramps"
   ]
  },
  {
   "cell_type": "code",
   "execution_count": 22,
   "metadata": {},
   "outputs": [],
   "source": [
    "# Basically converts callable function to generator\n",
    "def get_next(val):\n",
    "    while 1:\n",
    "        yield val();\n",
    "\n",
    "# Generate linspace points until val() is outside of window        \n",
    "def smart_linspace(start, stop, step, val, lowlim, highlim, eps): \n",
    "    linspace = np.linspace(start, stop, step)\n",
    "    for value in linspace:\n",
    "\n",
    "        if val() < (lowlim - eps) or val() > (highlim + eps):\n",
    "            break\n",
    "\n",
    "        yield value\n",
    "\n",
    "# Sweep the field as long as val() is within the window\n",
    "def field_window(magnet, lowlim, highlim, eps_multi = 0.01, init_to_closest_lim = True):\n",
    "\n",
    "    val = magnet.field;\n",
    "\n",
    "    # To correct for overshoot since the last window sweep of size eps, sweep field back to either\n",
    "    # lowlim or highlim, whichever the current field value is closest to, then begin\n",
    "    if init_to_closest_lim:\n",
    "\n",
    "        lowlim_diff = np.abs(val() - lowlim);\n",
    "        highlim_diff = np.abs(val() - highlim);\n",
    "\n",
    "        if lowlim_diff < highlim_diff:\n",
    "            initlim = lowlim;\n",
    "            finlim = highlim;\n",
    "        else:\n",
    "            initlim = highlim;\n",
    "            finlim = lowlim;\n",
    "\n",
    "        eps = finlim * eps_multi * (-1 if finlim == lowlim else 1);\n",
    "\n",
    "        print('Initializing (blocking) field to {} T ...'.format(initlim))\n",
    "        magnet.field(initlim);\n",
    "        print('Sweeping (non-blocking) field to {} T ...'.format(finlim))\n",
    "        magnet.ramp_to(finlim + eps);\n",
    "\n",
    "    for field_val in get_next(val):\n",
    "        if np.abs(field_val - finlim) < np.abs(eps):\n",
    "                break\n",
    "\n",
    "        yield field_val  "
   ]
  },
  {
   "cell_type": "markdown",
   "metadata": {},
   "source": [
    "# Measurements"
   ]
  },
  {
   "cell_type": "markdown",
   "metadata": {},
   "source": [
    "## MDAC Vbias testing and definitions"
   ]
  },
  {
   "cell_type": "code",
   "execution_count": 31,
   "metadata": {},
   "outputs": [
    {
     "name": "stdout",
     "output_type": "stream",
     "text": [
      "MDAC1_chan6:\n",
      "\tparameter       value\n",
      "--------------------------------------------------------------------------------\n",
      "amplitude        :\t0 (Vpp)\n",
      "autosync         :\tTrue \n",
      "bus              :\topen \n",
      "dac_output       :\tclose \n",
      "default_ramprate :\t0.001 (V/s)\n",
      "divider          :\toff \n",
      "filter           :\t1 \n",
      "frequency        :\t0 (Hz)\n",
      "gnd              :\topen \n",
      "limit_max        :\t5.086 (V)\n",
      "limit_min        :\t-5.0858 (V)\n",
      "limit_rate       :\t100 (V/s)\n",
      "microd           :\topen \n",
      "offset           :\t0.000669 (V)\n",
      "period           :\t0 (s)\n",
      "phase            :\t0 (Deg)\n",
      "ramp_destination :\tNone (V)\n",
      "ramp_rate        :\tNone (V/s)\n",
      "smc              :\tclose \n",
      "voltage          :\t0 (V)\n",
      "voltage_raw      :\t524349 (LSB)\n",
      "waveform         :\toff \n"
     ]
    }
   ],
   "source": [
    "bias_ch.snapshot()\n",
    "bias_ch.print_readable_snapshot()"
   ]
  },
  {
   "cell_type": "code",
   "execution_count": 30,
   "metadata": {
    "scrolled": false
   },
   "outputs": [
    {
     "name": "stdout",
     "output_type": "stream",
     "text": [
      "MDAC1_trigger0:\n",
      "\tparameter value\n",
      "--------------------------------------------------------------------------------\n",
      "autosync  :\tTrue \n",
      "direction :\tup \n",
      "frequency :\t0 (Hz)\n",
      "period    :\t0 (s)\n",
      "phase     :\t0 (Deg)\n"
     ]
    }
   ],
   "source": [
    "mdac.trigger0.snapshot()\n",
    "mdac.trigger0.print_readable_snapshot()"
   ]
  },
  {
   "cell_type": "code",
   "execution_count": 27,
   "metadata": {},
   "outputs": [],
   "source": [
    "initialize(mdac.ch06)"
   ]
  },
  {
   "cell_type": "code",
   "execution_count": 28,
   "metadata": {},
   "outputs": [],
   "source": [
    "bias_ch = mdac.ch06"
   ]
  },
  {
   "cell_type": "code",
   "execution_count": 303,
   "metadata": {},
   "outputs": [],
   "source": [
    "bias_ch.divider('off')"
   ]
  },
  {
   "cell_type": "code",
   "execution_count": 29,
   "metadata": {},
   "outputs": [],
   "source": [
    "bias_ch.awg_sine(13.73, 500e-6, 0)"
   ]
  },
  {
   "cell_type": "code",
   "execution_count": 302,
   "metadata": {},
   "outputs": [],
   "source": [
    "bias_ch.voltage(0)"
   ]
  },
  {
   "cell_type": "code",
   "execution_count": 301,
   "metadata": {},
   "outputs": [],
   "source": [
    "bias_ch.offset(0)"
   ]
  },
  {
   "cell_type": "code",
   "execution_count": 22,
   "metadata": {},
   "outputs": [],
   "source": [
    "mdac.trigger0.start(13.73)"
   ]
  },
  {
   "cell_type": "code",
   "execution_count": 26,
   "metadata": {},
   "outputs": [],
   "source": [
    "mdac.trigger0.stop()"
   ]
  },
  {
   "cell_type": "code",
   "execution_count": 29,
   "metadata": {},
   "outputs": [],
   "source": [
    "bias_ch.limit_rate(100)"
   ]
  },
  {
   "cell_type": "code",
   "execution_count": 269,
   "metadata": {},
   "outputs": [],
   "source": [
    "mdac.sync()"
   ]
  },
  {
   "cell_type": "code",
   "execution_count": 256,
   "metadata": {},
   "outputs": [],
   "source": [
    "bias_ch.awg_square(13, 5e-3)"
   ]
  },
  {
   "cell_type": "code",
   "execution_count": 25,
   "metadata": {},
   "outputs": [],
   "source": [
    "bias_ch.awg_off()"
   ]
  },
  {
   "cell_type": "code",
   "execution_count": 251,
   "metadata": {},
   "outputs": [
    {
     "data": {
      "text/plain": [
       "0.0"
      ]
     },
     "execution_count": 251,
     "metadata": {},
     "output_type": "execute_result"
    }
   ],
   "source": [
    "bias_ch.voltage()"
   ]
  },
  {
   "cell_type": "code",
   "execution_count": 257,
   "metadata": {},
   "outputs": [
    {
     "data": {
      "text/plain": [
       "0.30000000000000004"
      ]
     },
     "execution_count": 257,
     "metadata": {},
     "output_type": "execute_result"
    }
   ],
   "source": [
    "mdac.ch09.limit_rate()"
   ]
  },
  {
   "cell_type": "code",
   "execution_count": 222,
   "metadata": {
    "scrolled": true
   },
   "outputs": [
    {
     "data": {
      "text/plain": [
       "0.000504"
      ]
     },
     "execution_count": 222,
     "metadata": {},
     "output_type": "execute_result"
    }
   ],
   "source": [
    "bias_ch.voltage()"
   ]
  },
  {
   "cell_type": "code",
   "execution_count": 235,
   "metadata": {},
   "outputs": [],
   "source": [
    "bias_ch.awg_off()"
   ]
  },
  {
   "cell_type": "code",
   "execution_count": 121,
   "metadata": {},
   "outputs": [],
   "source": [
    "bias_ch.offset(5e-2)"
   ]
  },
  {
   "cell_type": "code",
   "execution_count": 32,
   "metadata": {},
   "outputs": [
    {
     "name": "stdout",
     "output_type": "stream",
     "text": [
      "setting mdac in safe mode\n",
      "Done\n"
     ]
    }
   ],
   "source": [
    "set_mdac_in_safemode()"
   ]
  },
  {
   "cell_type": "markdown",
   "metadata": {},
   "source": [
    "## Defining gates"
   ]
  },
  {
   "cell_type": "code",
   "execution_count": 41,
   "metadata": {},
   "outputs": [],
   "source": [
    "TG1 = mdac.ch01\n",
    "initialize(TG1)\n",
    "\n",
    "TG2 = mdac.ch17\n",
    "initialize(TG2)\n",
    "\n",
    "TG3 = mdac.ch33\n",
    "initialize(TG3)"
   ]
  },
  {
   "cell_type": "code",
   "execution_count": 56,
   "metadata": {
    "scrolled": false
   },
   "outputs": [
    {
     "name": "stdout",
     "output_type": "stream",
     "text": [
      "setting mdac in safe mode\n",
      "Done\n"
     ]
    }
   ],
   "source": [
    "set_mdac_in_safemode()"
   ]
  },
  {
   "cell_type": "code",
   "execution_count": 103,
   "metadata": {
    "scrolled": true
   },
   "outputs": [
    {
     "data": {
      "text/plain": [
       "0.0"
      ]
     },
     "execution_count": 103,
     "metadata": {},
     "output_type": "execute_result"
    }
   ],
   "source": [
    "mdac.ch57.voltage()"
   ]
  },
  {
   "cell_type": "code",
   "execution_count": 29,
   "metadata": {},
   "outputs": [
    {
     "data": {
      "text/plain": [
       "0.0"
      ]
     },
     "execution_count": 29,
     "metadata": {},
     "output_type": "execute_result"
    }
   ],
   "source": [
    "mdac.ch49.voltage()"
   ]
  },
  {
   "cell_type": "code",
   "execution_count": 66,
   "metadata": {},
   "outputs": [
    {
     "data": {
      "text/plain": [
       "0.0"
      ]
     },
     "execution_count": 66,
     "metadata": {},
     "output_type": "execute_result"
    }
   ],
   "source": [
    "mdac.ch33.voltage()"
   ]
  },
  {
   "cell_type": "code",
   "execution_count": 102,
   "metadata": {},
   "outputs": [],
   "source": [
    "PG = mdac.ch57\n",
    "initialize(PG)"
   ]
  },
  {
   "cell_type": "code",
   "execution_count": 81,
   "metadata": {},
   "outputs": [],
   "source": [
    "CUT = mdac.ch49\n",
    "initialize(CUT)"
   ]
  },
  {
   "cell_type": "code",
   "execution_count": 31,
   "metadata": {
    "scrolled": true
   },
   "outputs": [
    {
     "data": {
      "text/plain": [
       "{'mdac_TG3_voltage': 0}"
      ]
     },
     "execution_count": 31,
     "metadata": {},
     "output_type": "execute_result"
    }
   ],
   "source": [
    "mdac_TG3_voltage(0)"
   ]
  },
  {
   "cell_type": "code",
   "execution_count": 89,
   "metadata": {},
   "outputs": [
    {
     "data": {
      "text/plain": [
       "{'mdac_CUT_voltage': 0}"
      ]
     },
     "execution_count": 89,
     "metadata": {},
     "output_type": "execute_result"
    }
   ],
   "source": [
    "mdac_CUT_voltage(0)"
   ]
  },
  {
   "cell_type": "markdown",
   "metadata": {},
   "source": [
    "## Gate stability"
   ]
  },
  {
   "cell_type": "code",
   "execution_count": 52,
   "metadata": {},
   "outputs": [
    {
     "name": "stdout",
     "output_type": "stream",
     "text": [
      "Starting experimental run with id: 16\n"
     ]
    }
   ],
   "source": [
    "#variables (standard units: Volts, seconds, Ohms)\n",
    "gate = 0.23\n",
    "Rseries = 23e3\n",
    "device_name = \"NS_400\"\n",
    "\n",
    "Bias = 10e-3 #takes into account attenuation of 100.\n",
    "lockin_amplitude = 1e-3 #to be attenuated by 100.\n",
    "time_constant = 1\n",
    "\n",
    "keyNPLC = 10\n",
    "gain = 1e6\n",
    "attenuation=1e-2\n",
    "\n",
    "#pinch-off functions, from now on you don't have to change any parameter\n",
    "def setup():    \n",
    "    key2.NPLC(keyNPLC)\n",
    "    lockin2.amplitude(lockin_amplitude) # to be attenuated by 100. So 10uV excitation when this is 1mV\n",
    "    lockin2_dc(Bias)\n",
    "    lockin2.time_constant(time_constant)\n",
    "    mdac_TG2_voltage(0)\n",
    "    mdac_TG2_voltage(gate)\n",
    "    time.sleep(3)\n",
    "    \n",
    "def cleanup(): \n",
    "    lockin2.amplitude(0)\n",
    "    lockin2_dc(0)\n",
    "    mdac_TG2_voltage(0)\n",
    "\n",
    "@getter(('current1', 'A'), ('raw_voltage_dc1', 'V'), ('conductance1', '2e^2/h'),\n",
    "        ('Lockin1_X', 'V'), ('Lockin1_Y', 'V'), ('Lockin1_R', 'V'),\n",
    "        ('Lockin1_phase', 'deg'), ('Lockin1_excitation', 'V'),\n",
    "        )\n",
    "def measure_acdc(gain=gain, Rseries=Rseries, adder_atten=attenuation):\n",
    "    time.sleep(time_constant)\n",
    "    key_raw1 = key2.volt()\n",
    "    current_dc1 = -key_raw1/gain\n",
    "    Vac1    = adder_atten*lockin2.amplitude()\n",
    "    L1P     = lockin2.P()\n",
    "    L1R     = lockin2.R()\n",
    "    L1Y     = lockin2.Y()\n",
    "    # the above lines (excluding time.sleep) take at least 75ms to execute. \n",
    "    L1X     = lockin2.X()\n",
    "    current_ac = L1X/gain    \n",
    "    try:\n",
    "        g1 = 12906/(Vac1/current_ac - Rseries) #[2e^2/h]\n",
    "    except ZeroDivisionError:\n",
    "        g1 = 0\n",
    "    \n",
    "    result  = current_dc1, key_raw1, g1, L1X, L1Y, L1R, L1P, Vac1\n",
    "    return result\n",
    "\n",
    "result = do_experiment(\n",
    "    \"Q326zz_time_sweep_Gate_{}V_Bias_{}mV/\".format(gate, int(Bias*1000)) + device_name,\n",
    "    nest(\n",
    "        sweep(time_sweep, np.linspace(0, 1, 501)),\n",
    "        measure(measure_acdc)\n",
    "    ),\n",
    "    setup,\n",
    "    cleanup,\n",
    ") "
   ]
  },
  {
   "cell_type": "code",
   "execution_count": 106,
   "metadata": {},
   "outputs": [
    {
     "data": {
      "text/plain": [
       "{'mdac_PG_voltage': 0}"
      ]
     },
     "execution_count": 106,
     "metadata": {},
     "output_type": "execute_result"
    }
   ],
   "source": [
    "mdac_PG_voltage(0)"
   ]
  },
  {
   "cell_type": "markdown",
   "metadata": {},
   "source": [
    "## pinch-off"
   ]
  },
  {
   "cell_type": "markdown",
   "metadata": {},
   "source": [
    "### single sweep"
   ]
  },
  {
   "cell_type": "code",
   "execution_count": 108,
   "metadata": {},
   "outputs": [
    {
     "data": {
      "text/plain": [
       "{'yoko1_ramp': 0}"
      ]
     },
     "execution_count": 108,
     "metadata": {},
     "output_type": "execute_result"
    }
   ],
   "source": [
    "yoko1_ramp(0)"
   ]
  },
  {
   "cell_type": "code",
   "execution_count": 86,
   "metadata": {},
   "outputs": [
    {
     "data": {
      "text/plain": [
       "{'lockin1_dc': 0}"
      ]
     },
     "execution_count": 86,
     "metadata": {},
     "output_type": "execute_result"
    }
   ],
   "source": [
    "lockin1.amplitude(0)\n",
    "lockin1_dc(0)"
   ]
  },
  {
   "cell_type": "code",
   "execution_count": 91,
   "metadata": {},
   "outputs": [
    {
     "name": "stdout",
     "output_type": "stream",
     "text": [
      "Starting experimental run with id: 57\n"
     ]
    }
   ],
   "source": [
    "#pinch-off variables (standard units: Volts, seconds, Ohms)\n",
    "Vbegin = 0.5\n",
    "Vend = -0.5\n",
    "n_points = 201\n",
    "Rseries = 13.4e3\n",
    "device_name = \"SS6\"\n",
    "\n",
    "bias = 10e-3 #takes into account attenuation of 100.\n",
    "lockin_amplitude = 10e-6 # real voltage on device\n",
    "time_constant = 0.3\n",
    "\n",
    "keyNPLC = 1\n",
    "gain = 1e6\n",
    "attenuation=1e-2\n",
    "\n",
    "#pinch-off functions, from now on you don't have to change any parameter\n",
    "def setup():    \n",
    "    key1.NPLC(keyNPLC)\n",
    "    lockin1.amplitude(lockin_amplitude / attenuation) # to be attenuated by 100. So 10uV excitation when this is 1mV\n",
    "    lockin1_dc(bias)\n",
    "    lockin1.time_constant(time_constant)\n",
    "    yoko1_ramp(Vbegin)\n",
    "    time.sleep(3)\n",
    "        \n",
    "def cleanup(): \n",
    "    lockin1.amplitude(0)\n",
    "    lockin1_dc(0)\n",
    "#     yoko1_ramp(0)\n",
    "\n",
    "yoko_ramp_step = 2e-6 # in V\n",
    "yoko_ramp_delay = 2e-7 # in s\n",
    "def yoko1_ramp_raw(voltage): \n",
    "    yoko1.ramp_voltage(voltage, yoko_ramp_step, yoko_ramp_delay)\n",
    "yoko1_ramp = setter((\"yoko1_ramp\", \"V\"))(yoko1_ramp_raw)\n",
    "\n",
    "bias_ramp_stepsize = 2e-4  #[V], lockin DIRECT output DC value\n",
    "bias_ramp_delay = 0.01  #[s]\n",
    "@setter((\"lockin1_dc\", \"V\"))\n",
    "def lockin1_dc(voltage): \n",
    "    voltage /= attenuation\n",
    "    ramp(lockin1.sine_outdc, voltage, bias_ramp_stepsize, bias_ramp_delay)\n",
    "\n",
    "@getter(('current', 'A'), ('raw_voltage_dc', 'V'), ('conductance', '2e^2/h'),\n",
    "        ('Lockin1_X', 'V'), ('Lockin1_Y', 'V'), ('Lockin1_R', 'V'),\n",
    "        ('Lockin1_phase', 'deg'), ('Lockin1_excitation', 'V'),\n",
    "        )\n",
    "def measure_acdc(gain=gain, Rseries=Rseries, adder_atten=attenuation):\n",
    "    time.sleep(1.7 * time_constant)\n",
    "    key_raw1 = key1.volt()\n",
    "    current_dc1 = -key_raw1/gain\n",
    "    Vac1    = adder_atten*lockin1.amplitude()\n",
    "    L1P     = lockin1.P()\n",
    "    L1R     = lockin1.R()\n",
    "    L1Y     = lockin1.Y()\n",
    "    # the above lines (excluding time.sleep) take at least 75ms to execute. \n",
    "    L1X     = lockin1.X()\n",
    "    current_ac = L1X/gain    \n",
    "    try:\n",
    "        g1 = 12906/(Vac1/current_ac - Rseries) #[2e^2/h]\n",
    "    except ZeroDivisionError:\n",
    "        g1 = 0\n",
    "    \n",
    "    result  = current_dc1, key_raw1, g1, L1X, L1Y, L1R, L1P, Vac1\n",
    "    return result\n",
    "\n",
    "result = do_experiment(\n",
    "    \"Q383_Gate_sweep_Bias_{}mV/\".format(int(bias*1000)) + device_name,\n",
    "    nest(\n",
    "        sweep(yoko1_ramp, np.linspace(Vbegin, Vend, n_points)),\n",
    "        measure(measure_acdc)\n",
    "    ),\n",
    "    setup,\n",
    "    cleanup\n",
    ") \n"
   ]
  },
  {
   "cell_type": "markdown",
   "metadata": {},
   "source": [
    "### double sweep"
   ]
  },
  {
   "cell_type": "code",
   "execution_count": 92,
   "metadata": {},
   "outputs": [
    {
     "name": "stdout",
     "output_type": "stream",
     "text": [
      "Starting experimental run with id: 58\n",
      "Starting experimental run with id: 59\n"
     ]
    }
   ],
   "source": [
    "#pinch-off variables (standard units: Volts, seconds, Ohms)\n",
    "Vbegin = -0.3\n",
    "Vend = 1\n",
    "n_points = 261\n",
    "Rseries = 13.4e3\n",
    "device_name = \"SS7\"\n",
    "\n",
    "#bias = 10e-3 #takes into account attenuation of 100.\n",
    "bias = 0\n",
    "lockin_amplitude = 10e-6 # real voltage on device\n",
    "time_constant = 0.3\n",
    "\n",
    "keyNPLC = 1\n",
    "gain = 1e6\n",
    "attenuation=1e-2\n",
    "\n",
    "#pinch-off functions, from now on you don't have to change any parameter\n",
    "def setup():    \n",
    "    key1.NPLC(keyNPLC)\n",
    "    lockin1.amplitude(lockin_amplitude / attenuation) # to be attenuated by 100. So 10uV excitation when this is 1mV\n",
    "    lockin1_dc(bias)\n",
    "    lockin1.time_constant(time_constant)\n",
    "    yoko1_ramp(Vbegin)\n",
    "    time.sleep(3)\n",
    "    \n",
    "def cleanup_mid():\n",
    "    pass\n",
    "\n",
    "def setup_mid():\n",
    "    lockin1_dc(bias)\n",
    "    time.sleep(3)\n",
    "        \n",
    "def cleanup(): \n",
    "    lockin1.amplitude(0)\n",
    "    lockin1_dc(0)\n",
    "    yoko1_ramp(0)\n",
    "\n",
    "yoko_ramp_step = 2e-6 # in V\n",
    "yoko_ramp_delay = 2e-7 # in s\n",
    "def yoko1_ramp_raw(voltage): \n",
    "    yoko1.ramp_voltage(voltage, yoko_ramp_step, yoko_ramp_delay)\n",
    "yoko1_ramp = setter((\"yoko1_ramp\", \"V\"))(yoko1_ramp_raw)\n",
    "\n",
    "bias_ramp_stepsize = 2e-4  #[V], lockin DIRECT output DC value\n",
    "bias_ramp_delay = 0.01  #[s]\n",
    "@setter((\"lockin1_dc\", \"V\"))\n",
    "def lockin1_dc(voltage): \n",
    "    voltage /= attenuation\n",
    "    ramp(lockin1.sine_outdc, voltage, bias_ramp_stepsize, bias_ramp_delay)\n",
    "\n",
    "@getter(('current', 'A'), ('raw_voltage_dc', 'V'), ('conductance', '2e^2/h'),\n",
    "        ('Lockin1_X', 'V'), ('Lockin1_Y', 'V'), ('Lockin1_R', 'V'),\n",
    "        ('Lockin1_phase', 'deg'), ('Lockin1_excitation', 'V'),\n",
    "        )\n",
    "def measure_acdc(gain=gain, Rseries=Rseries, adder_atten=attenuation):\n",
    "    time.sleep(1.7 * time_constant)\n",
    "    key_raw1 = key1.volt()\n",
    "    current_dc1 = -key_raw1/gain\n",
    "    Vac1    = adder_atten*lockin1.amplitude()\n",
    "    L1P     = lockin1.P()\n",
    "    L1R     = lockin1.R()\n",
    "    L1Y     = lockin1.Y()\n",
    "    # the above lines (excluding time.sleep) take at least 75ms to execute. \n",
    "    L1X     = lockin1.X()\n",
    "    current_ac = L1X/gain    \n",
    "    try:\n",
    "        g1 = 12906/(Vac1/current_ac - Rseries) #[2e^2/h]\n",
    "    except ZeroDivisionError:\n",
    "        g1 = 0\n",
    "    \n",
    "    result  = current_dc1, key_raw1, g1, L1X, L1Y, L1R, L1P, Vac1\n",
    "    return result\n",
    "\n",
    "result = do_experiment(\n",
    "    \"Q383_Gate_sweep_Bias_{}mV/\".format(int(bias*1000)) + device_name,\n",
    "    nest(\n",
    "        sweep(yoko1_ramp, np.linspace(Vbegin, Vend, n_points)),\n",
    "        measure(measure_acdc)\n",
    "    ),\n",
    "    setup,\n",
    "    cleanup_mid\n",
    ")\n",
    "\n",
    "#bias = 0\n",
    "bias = 10e-3\n",
    "\n",
    "result = do_experiment(\n",
    "    \"Q383_Gate_sweep_Bias_{}mV/\".format(int(bias*1000)) + device_name,\n",
    "    nest(\n",
    "        sweep(yoko1_ramp, np.linspace(Vend, Vbegin, n_points)),\n",
    "        measure(measure_acdc)\n",
    "    ),\n",
    "    setup_mid,\n",
    "    cleanup\n",
    ")"
   ]
  },
  {
   "cell_type": "code",
   "execution_count": null,
   "metadata": {},
   "outputs": [],
   "source": []
  },
  {
   "cell_type": "code",
   "execution_count": 28,
   "metadata": {},
   "outputs": [
    {
     "name": "stdout",
     "output_type": "stream",
     "text": [
      "Starting experimental run with id: 1\n",
      "Starting experimental run with id: 2\n"
     ]
    }
   ],
   "source": [
    "#pinch-off variables (standard units: Volts, seconds, Ohms)\n",
    "Vmin = -0.2\n",
    "Vmax = 0.2\n",
    "n_points = 41\n",
    "Rseries = 13e3\n",
    "device_name = \"NS_260\"\n",
    "\n",
    "Bias = 10e-3 #takes into account attenuation of 100.\n",
    "lockin_amplitude = 1e-3 #to be attenuated by 100.\n",
    "time_constant = 1\n",
    "\n",
    "keyNPLC = 1\n",
    "gain = 1e6\n",
    "attenuation=1e-2\n",
    "\n",
    "#pinch-off functions, from now on you don't have to change any parameter\n",
    "def setup():    \n",
    "    key1.NPLC(keyNPLC)\n",
    "    lockin1.amplitude(lockin_amplitude) # to be attenuated by 100. So 10uV excitation when this is 1mV\n",
    "    lockin1_dc(Bias)\n",
    "    lockin1.time_constant(time_constant)\n",
    "    mdac_TG1_voltage(Vmin)\n",
    "    time.sleep(3)\n",
    "    \n",
    "def cleanup_mid():\n",
    "    time.sleep(1)\n",
    "\n",
    "def setup_mid():\n",
    "    time.sleep(1)\n",
    "    \n",
    "def cleanup(): \n",
    "    lockin1.amplitude(0)\n",
    "    lockin1_dc(0)\n",
    "    mdac_TG1_voltage(0)\n",
    "\n",
    "@getter(('current1', 'A'), ('raw_voltage_dc1', 'V'), ('conductance1', '2e^2/h'),\n",
    "        ('Lockin1_X', 'V'), ('Lockin1_Y', 'V'), ('Lockin1_R', 'V'),\n",
    "        ('Lockin1_phase', 'deg'), ('Lockin1_excitation', 'V'),\n",
    "        )\n",
    "def measure_acdc(gain=gain, Rseries=Rseries, adder_atten=attenuation):\n",
    "    time.sleep(time_constant)\n",
    "    key_raw1 = key1.volt()\n",
    "    current_dc1 = -key_raw1/gain\n",
    "    Vac1    = adder_atten*lockin1.amplitude()\n",
    "    L1P     = lockin1.P()\n",
    "    L1R     = lockin1.R()\n",
    "    L1Y     = lockin1.Y()\n",
    "    # the above lines (excluding time.sleep) take at least 75ms to execute. \n",
    "    L1X     = lockin1.X()\n",
    "    current_ac = L1X/gain    \n",
    "    try:\n",
    "        g1 = 12906/(Vac1/current_ac - Rseries) #[2e^2/h]\n",
    "    except ZeroDivisionError:\n",
    "        g1 = 0\n",
    "    \n",
    "    result  = current_dc1, key_raw1, g1, L1X, L1Y, L1R, L1P, Vac1\n",
    "    return result\n",
    "\n",
    "result = do_experiment(\n",
    "    \"Q326zz_Gate_sweep_Bias_{}mV/\".format(int(Bias*1000)) + device_name,\n",
    "    nest(\n",
    "        sweep(mdac_TG1_voltage, np.linspace(Vmin, Vmax, n_points)),\n",
    "        measure(measure_acdc)\n",
    "    ),\n",
    "    setup,\n",
    "    cleanup_mid,\n",
    ") \n",
    "result = do_experiment(\n",
    "    \"Q326zz_Gate_sweep_Bias_{}mV_backward/\".format(int(Bias*1000)) + device_name,\n",
    "    nest(\n",
    "        sweep(mdac_TG1_voltage, np.linspace(Vmax, Vmin, n_points)),\n",
    "        measure(measure_acdc)\n",
    "    ),\n",
    "    setup_mid,\n",
    "    cleanup,\n",
    ")"
   ]
  },
  {
   "cell_type": "code",
   "execution_count": 38,
   "metadata": {},
   "outputs": [
    {
     "name": "stdout",
     "output_type": "stream",
     "text": [
      "Starting experimental run with id: 86\n",
      "Starting experimental run with id: 87\n"
     ]
    }
   ],
   "source": [
    "#pinch-off variables (standard units: Volts, seconds, Ohms)\n",
    "Vmin = -0.2\n",
    "Vmax = 0.8\n",
    "n_points = 101\n",
    "Rseries = 23e3\n",
    "device_name = \"NS_400\"\n",
    "\n",
    "Bias = 10e-3 #takes into account attenuation of 100.\n",
    "lockin_amplitude = 1e-3 #to be attenuated by 100.\n",
    "time_constant = 0.3\n",
    "\n",
    "keyNPLC = 1\n",
    "gain = 1e6\n",
    "attenuation=1e-2\n",
    "\n",
    "#pinch-off functions, from now on you don't have to change any parameter\n",
    "def setup():    \n",
    "    key2.NPLC(keyNPLC)\n",
    "    lockin2.amplitude(lockin_amplitude) # to be attenuated by 100. So 10uV excitation when this is 1mV\n",
    "    lockin2_dc(Bias)\n",
    "    lockin2.time_constant(time_constant)\n",
    "    mdac_TG2_voltage(Vmin)\n",
    "    time.sleep(3)\n",
    "    \n",
    "def cleanup_mid():\n",
    "    time.sleep(1)\n",
    "\n",
    "def setup_mid():\n",
    "    time.sleep(1)\n",
    "    \n",
    "def cleanup(): \n",
    "    lockin2.amplitude(0)\n",
    "    lockin2_dc(0)\n",
    "    mdac_TG2_voltage(0)\n",
    "\n",
    "@getter(('current', 'A'), ('raw_voltage_dc', 'V'), ('conductance', '2e^2/h'),\n",
    "        ('Lockin1_X', 'V'), ('Lockin1_Y', 'V'), ('Lockin1_R', 'V'),\n",
    "        ('Lockin1_phase', 'deg'), ('Lockin1_excitation', 'V'),\n",
    "        )\n",
    "def measure_acdc(gain=gain, Rseries=Rseries, adder_atten=attenuation):\n",
    "    time.sleep(time_constant)\n",
    "    key_raw1 = key2.volt()\n",
    "    current_dc1 = -key_raw1/gain\n",
    "    Vac1    = adder_atten*lockin2.amplitude()\n",
    "    L1P     = lockin2.P()\n",
    "    L1R     = lockin2.R()\n",
    "    L1Y     = lockin2.Y()\n",
    "    # the above lines (excluding time.sleep) take at least 75ms to execute. \n",
    "    L1X     = lockin2.X()\n",
    "    current_ac = L1X/gain    \n",
    "    try:\n",
    "        g1 = 12906/(Vac1/current_ac - Rseries) #[2e^2/h]\n",
    "    except ZeroDivisionError:\n",
    "        g1 = 0\n",
    "    \n",
    "    result  = current_dc1, key_raw1, g1, L1X, L1Y, L1R, L1P, Vac1\n",
    "    return result\n",
    "\n",
    "result = do_experiment(\n",
    "    \"Q326zz_Gate_sweep_Bias_{}mV/\".format(int(Bias*1000)) + device_name,\n",
    "    nest(\n",
    "        sweep(mdac_TG2_voltage, np.linspace(Vmin, Vmax, n_points)),\n",
    "        measure(measure_acdc)\n",
    "    ),\n",
    "    setup,\n",
    "    cleanup_mid,\n",
    ") \n",
    "result = do_experiment(\n",
    "    \"Q326zz_Gate_sweep_Bias_{}mV_backward/\".format(int(Bias*1000)) + device_name,\n",
    "    nest(\n",
    "        sweep(mdac_TG2_voltage, np.linspace(Vmax, Vmin, n_points)),\n",
    "        measure(measure_acdc)\n",
    "    ),\n",
    "    setup_mid,\n",
    "    cleanup,\n",
    ")"
   ]
  },
  {
   "cell_type": "code",
   "execution_count": 43,
   "metadata": {},
   "outputs": [
    {
     "name": "stdout",
     "output_type": "stream",
     "text": [
      "Starting experimental run with id: 88\n",
      "Starting experimental run with id: 89\n"
     ]
    }
   ],
   "source": [
    "#pinch-off variables (standard units: Volts, seconds, Ohms)\n",
    "Vmin = -0.2\n",
    "Vmax = 0.8\n",
    "n_points = 101\n",
    "Rseries = 18e3\n",
    "device_name = \"NSS_420_sourceNdrainS\"\n",
    "\n",
    "Bias = 10e-3 #takes into account attenuation of 100.\n",
    "lockin_amplitude = 1e-3 #to be attenuated by 100.\n",
    "time_constant = 0.3\n",
    "\n",
    "keyNPLC = 1\n",
    "gain = 1e6\n",
    "attenuation=1e-2\n",
    "\n",
    "#pinch-off functions, from now on you don't have to change any parameter\n",
    "def setup():    \n",
    "    key3.NPLC(keyNPLC)\n",
    "    lockin3.amplitude(lockin_amplitude) # to be attenuated by 100. So 10uV excitation when this is 1mV\n",
    "    lockin3_dc(Bias)\n",
    "    lockin3.time_constant(time_constant)\n",
    "    mdac_TG3_voltage(Vmin)\n",
    "    time.sleep(3)\n",
    "    \n",
    "def cleanup_mid():\n",
    "    time.sleep(1)\n",
    "\n",
    "def setup_mid():\n",
    "    time.sleep(1)\n",
    "    \n",
    "def cleanup(): \n",
    "    lockin3.amplitude(0)\n",
    "    lockin3_dc(0)\n",
    "    mdac_TG3_voltage(0)\n",
    "\n",
    "@getter(('current', 'A'), ('raw_voltage_dc', 'V'), ('conductance', '2e^2/h'),\n",
    "        ('Lockin1_X', 'V'), ('Lockin1_Y', 'V'), ('Lockin1_R', 'V'),\n",
    "        ('Lockin1_phase', 'deg'), ('Lockin1_excitation', 'V'),\n",
    "        )\n",
    "def measure_acdc(gain=gain, Rseries=Rseries, adder_atten=attenuation):\n",
    "    time.sleep(time_constant)\n",
    "    key_raw1 = key3.volt()\n",
    "    current_dc1 = -key_raw1/gain\n",
    "    Vac1    = adder_atten*lockin3.amplitude()\n",
    "    L1P     = lockin3.P()\n",
    "    L1R     = lockin3.R()\n",
    "    L1Y     = lockin3.Y()\n",
    "    # the above lines (excluding time.sleep) take at least 75ms to execute. \n",
    "    L1X     = lockin3.X()\n",
    "    current_ac = L1X/gain    \n",
    "    try:\n",
    "        g1 = 12906/(Vac1/current_ac - Rseries) #[2e^2/h]\n",
    "    except ZeroDivisionError:\n",
    "        g1 = 0\n",
    "    \n",
    "    result  = current_dc1, key_raw1, g1, L1X, L1Y, L1R, L1P, Vac1\n",
    "    return result\n",
    "\n",
    "result = do_experiment(\n",
    "    \"Q326zz_Gate_sweep_Bias_{}mV/\".format(int(Bias*1000)) + device_name,\n",
    "    nest(\n",
    "        sweep(mdac_TG3_voltage, np.linspace(Vmin, Vmax, n_points)),\n",
    "        measure(measure_acdc)\n",
    "    ),\n",
    "    setup,\n",
    "    cleanup_mid,\n",
    ") \n",
    "result = do_experiment(\n",
    "    \"Q326zz_Gate_sweep_Bias_{}mV_backward/\".format(int(Bias*1000)) + device_name,\n",
    "    nest(\n",
    "        sweep(mdac_TG3_voltage, np.linspace(Vmax, Vmin, n_points)),\n",
    "        measure(measure_acdc)\n",
    "    ),\n",
    "    setup_mid,\n",
    "    cleanup,\n",
    ")"
   ]
  },
  {
   "cell_type": "code",
   "execution_count": 45,
   "metadata": {},
   "outputs": [
    {
     "data": {
      "text/plain": [
       "{'mdac_TG1_voltage': 0}"
      ]
     },
     "execution_count": 45,
     "metadata": {},
     "output_type": "execute_result"
    }
   ],
   "source": [
    "mdac_TG1_voltage(0)"
   ]
  },
  {
   "cell_type": "markdown",
   "metadata": {},
   "source": [
    "## V-bias sweep"
   ]
  },
  {
   "cell_type": "code",
   "execution_count": 55,
   "metadata": {
    "scrolled": false
   },
   "outputs": [
    {
     "name": "stdout",
     "output_type": "stream",
     "text": [
      "Starting experimental run with id: 4\n"
     ]
    }
   ],
   "source": [
    "# variables (standard units: Volts, seconds, Ohms)\n",
    "\n",
    "n_bias_points = 201\n",
    "Rseries = 13.4e3\n",
    "device_name = \"floating_NIS_3\"\n",
    "bias = 1e-3\n",
    "\n",
    "lockin_amplitude = 5e-6 # real voltages on the device\n",
    "time_constant = 0.1\n",
    "keyNPLC = 1\n",
    "gain = 1e6\n",
    "source_attenuation = 1e-2\n",
    "\n",
    "# yoko1_ramp(0.5)\n",
    "# lockin1_dc(-bias)\n",
    "\n",
    "def setup():\n",
    "    key1.NPLC(keyNPLC)\n",
    "    lockin1.amplitude(lockin_amplitude / source_attenuation)\n",
    "    lockin1_dc(-bias)\n",
    "    lockin1.time_constant(time_constant)\n",
    "    time.sleep(3)\n",
    "    \n",
    "def cleanup(): \n",
    "#     pass\n",
    "    lockin1.amplitude(0)\n",
    "    lockin1_dc(0)\n",
    "    \n",
    "bias_ramp_stepsize = 2e-4  #[V], lockin DIRECT output DC value\n",
    "bias_ramp_delay = 0.02  #[s]\n",
    "\n",
    "@setter((\"lockin1_dc\", \"V\"))\n",
    "def lockin1_dc(voltage): \n",
    "    voltage /= source_attenuation\n",
    "    ramp(lockin1.sine_outdc, voltage, bias_ramp_stepsize, bias_ramp_delay)\n",
    "\n",
    "@getter(('current', 'A'), ('raw_voltage_dc', 'V'), ('conductance', '2e^2/h'),\n",
    "        ('Lockin1_X', 'V'), ('Lockin1_Y', 'V'), ('Lockin1_R', 'V'),\n",
    "        ('Lockin1_phase', 'deg'), ('Lockin1_excitation', 'V'),\n",
    "        )\n",
    "def measure_acdc(gain=gain, Rseries=Rseries, attenuation=source_attenuation):\n",
    "    time.sleep(1.7 * time_constant)\n",
    "    if np.abs(lockin1.sine_outdc() + bias/attenuation) < 1e-4:\n",
    "        time.sleep(2)\n",
    "    if np.abs(np.abs(lockin1.sine_outdc()) - 0.05) < 1.5*2*bias/(n_bias_points-1)/attenuation:\n",
    "        time.sleep(4)\n",
    "    key_raw1 = key1.volt()\n",
    "    current_dc1 = - key_raw1 / gain\n",
    "    Vac1     = attenuation * lockin1.amplitude()\n",
    "    L1P     = lockin1.P()\n",
    "    L1R     = lockin1.R()\n",
    "    L1Y     = lockin1.Y()\n",
    "    # the above lines (excluding time.sleep) take at least 75ms to execute. \n",
    "    L1X     = lockin1.X()\n",
    "    current_ac = L1X / gain\n",
    "    try:\n",
    "        g1 = 12906 / (Vac1/current_ac - Rseries) #[2e^2/h]\n",
    "    except ZeroDivisionError:\n",
    "        g1 = 0\n",
    "    \n",
    "    result  = current_dc1, key_raw1, g1, L1X, L1Y, L1R, L1P, Vac1\n",
    "    return result\n",
    "\n",
    "result = do_experiment(\n",
    "    \"NIS_therm_Vbias_2t/\" + device_name,\n",
    "    nest(\n",
    "        sweep(lockin1_dc, np.linspace(-bias, bias, n_bias_points)),\n",
    "        measure(measure_acdc)\n",
    "    ),\n",
    "    setup,\n",
    "    cleanup\n",
    ")\n"
   ]
  },
  {
   "cell_type": "markdown",
   "metadata": {},
   "source": [
    "## Basel amps\n",
    "\n",
    "See drawing for circuit\n",
    "\n",
    "DC bias and lock-in excitation are still both applied by the lock-in output and go into the bias-offset input of the current amp. Sample is connected via the amp current input in a 2-terminal setup.\n",
    "\n",
    "The bias-offset input has a built-in 1e-2 attenuation. This applies to both ac and dc. The offset is also output after going throught the device and the current amp.\n",
    "\n",
    "$$\n",
    "V_\\mathrm{out} = R_\\mathrm{gain} \\times \\frac{V_\\mathrm{bias}/100 + V_\\mathrm{thermal\\ offset}}{R_\\mathrm{device}}\n",
    "$$\n",
    "\n",
    "$$\n",
    "v_\\mathrm{out} = R_\\mathrm{gain} \\times \\frac{v_\\mathrm{exc} / 100}{R_\\mathrm{dev}}\n",
    "$$\n",
    "\n",
    "\n",
    "Notes: some problems while using a 1MOhm resistor and 100mV excitation (before attenuation) for testing (19 July 2019): \n",
    "\n",
    "- 1e5 gain -> 1mV output\n",
    "- 1e6 gain -> 2mV output\n",
    "- 1e7 gain -> 10mV output\n",
    "- 1e8 gain -> 100mV output\n",
    "\n",
    "For this reason, before further tests establish the integrity of the whole circuit, we should limit ourselves to 1e7 gain. However, the excessively amplified DC offset will result in ~volt-level output offsets and therefore keysight DMM range should be set to 10V."
   ]
  },
  {
   "cell_type": "code",
   "execution_count": 73,
   "metadata": {},
   "outputs": [
    {
     "name": "stdout",
     "output_type": "stream",
     "text": [
      "Starting experimental run with id: 13\n"
     ]
    }
   ],
   "source": [
    "# variables (standard units: Volts, seconds, Ohms)\n",
    "\n",
    "n_bias_points = 2001\n",
    "Rseries = 6.7e3\n",
    "device_name = \"grounded_NIS_2\"\n",
    "bias = 1e-3\n",
    "bias_offset = -0.65e-3\n",
    "\n",
    "lockin_amplitude = 10e-6 # real voltages on the device\n",
    "time_constant = 0.3\n",
    "keyNPLC = 1\n",
    "gain = 1e7\n",
    "source_attenuation = 1e-2\n",
    "\n",
    "# yoko1_ramp(0.5)\n",
    "# lockin1_dc(-bias)\n",
    "\n",
    "def setup():\n",
    "    key1.NPLC(keyNPLC)\n",
    "    lockin1.amplitude(lockin_amplitude / source_attenuation)\n",
    "    lockin1_dc(-bias)\n",
    "    lockin1.time_constant(time_constant)\n",
    "    time.sleep(3)\n",
    "    \n",
    "def cleanup(): \n",
    "#     pass\n",
    "    lockin1.amplitude(0)\n",
    "    lockin1_dc(0)\n",
    "    \n",
    "bias_ramp_stepsize = 2e-4  #[V], lockin DIRECT output DC value\n",
    "bias_ramp_delay = 0.02  #[s]\n",
    "\n",
    "@setter((\"lockin1_dc\", \"V\"))\n",
    "def lockin1_dc(voltage): \n",
    "    voltage /= source_attenuation\n",
    "    ramp(lockin1.sine_outdc, voltage, bias_ramp_stepsize, bias_ramp_delay)\n",
    "\n",
    "@getter(('current', 'A'), ('raw_voltage_dc', 'V'), ('conductance', '2e^2/h'),\n",
    "        ('Lockin1_X', 'V'), ('Lockin1_Y', 'V'), ('Lockin1_R', 'V'),\n",
    "        ('Lockin1_phase', 'deg'), ('Lockin1_excitation', 'V'),\n",
    "        )\n",
    "def measure_acdc(gain=gain, Rseries=Rseries, attenuation=source_attenuation):\n",
    "    time.sleep(1.7 * time_constant)\n",
    "    if np.abs(lockin1.sine_outdc() + bias/attenuation) < 1e-4:\n",
    "        time.sleep(2)\n",
    "    if np.abs(np.abs(lockin1.sine_outdc()) - 0.05) < 1.5*2*bias/(n_bias_points-1)/attenuation:\n",
    "        time.sleep(4)\n",
    "    key_raw1 = key1.volt()\n",
    "    current_dc1 = - key_raw1 / gain\n",
    "    Vac1     = attenuation * lockin1.amplitude()\n",
    "    L1P     = lockin1.P()\n",
    "    L1R     = lockin1.R()\n",
    "    L1Y     = lockin1.Y()\n",
    "    # the above lines (excluding time.sleep) take at least 75ms to execute. \n",
    "    L1X     = lockin1.X()\n",
    "    current_ac = L1X / gain\n",
    "    try:\n",
    "        g1 = 12906 / (Vac1/current_ac - Rseries) #[2e^2/h]\n",
    "    except ZeroDivisionError:\n",
    "        g1 = 0\n",
    "    \n",
    "    result  = current_dc1, key_raw1, g1, L1X, L1Y, L1R, L1P, Vac1\n",
    "    return result\n",
    "\n",
    "result = do_experiment(\n",
    "    \"NIS_therm_Vbias_2t/\" + device_name,\n",
    "    nest(\n",
    "        sweep(lockin1_dc, np.linspace(-bias+bias_offset, bias+bias_offset, n_bias_points)),\n",
    "        measure(measure_acdc)\n",
    "    ),\n",
    "    setup,\n",
    "    cleanup\n",
    ")\n"
   ]
  },
  {
   "cell_type": "markdown",
   "metadata": {},
   "source": [
    "### DC only"
   ]
  },
  {
   "cell_type": "code",
   "execution_count": 78,
   "metadata": {},
   "outputs": [
    {
     "name": "stdout",
     "output_type": "stream",
     "text": [
      "Starting experimental run with id: 17\n"
     ]
    }
   ],
   "source": [
    "# variables (standard units: Volts, seconds, Ohms)\n",
    "\n",
    "n_bias_points = 2001\n",
    "Rseries = 6.7e3\n",
    "device_name = \"grounded_NIS_2\"\n",
    "bias = 1e-3\n",
    "bias_offset = -0.65e-3\n",
    "\n",
    "keyNPLC = 1\n",
    "gain = 1e7\n",
    "source_attenuation = 1e-2\n",
    "\n",
    "def setup():\n",
    "    key1.NPLC(keyNPLC)\n",
    "    lockin1_dc(-bias)\n",
    "    time.sleep(3)\n",
    "    \n",
    "def cleanup(): \n",
    "    lockin1_dc(0)\n",
    "    \n",
    "bias_ramp_stepsize = 2e-4  #[V], lockin DIRECT output DC value\n",
    "bias_ramp_delay = 0.02  #[s]\n",
    "\n",
    "@setter((\"lockin1_dc\", \"V\"))\n",
    "def lockin1_dc(voltage): \n",
    "    voltage /= source_attenuation\n",
    "    ramp(lockin1.sine_outdc, voltage, bias_ramp_stepsize, bias_ramp_delay)\n",
    "\n",
    "@getter(('current', 'A'), ('raw_voltage_dc', 'V'))\n",
    "def measure_dc_only(gain=gain, Rseries=Rseries, attenuation=source_attenuation):\n",
    "    time.sleep(0.018*keyNPLC)\n",
    "    if np.abs(lockin1.sine_outdc() + bias/attenuation) < 1e-4:\n",
    "        time.sleep(2)\n",
    "    if np.abs(np.abs(lockin1.sine_outdc()) - 0.05) < 1.5*2*bias/(n_bias_points-1)/attenuation:\n",
    "        time.sleep(4)\n",
    "    key_raw1 = key1.volt()\n",
    "    current_dc1 = - key_raw1 / gain\n",
    "    \n",
    "    result  = current_dc1, key_raw1\n",
    "    return result\n",
    "\n",
    "result = do_experiment(\n",
    "    \"NIS_therm_Vbias_2t_dc_only_magnets_off/\" + device_name,\n",
    "    nest(\n",
    "        sweep(lockin1_dc, np.linspace(-bias+bias_offset, bias+bias_offset, n_bias_points)),\n",
    "        measure(measure_dc_only)\n",
    "    ),\n",
    "    setup,\n",
    "    cleanup\n",
    ")\n"
   ]
  },
  {
   "cell_type": "markdown",
   "metadata": {},
   "source": [
    "### Fridge floating\n",
    "\n",
    "1M$\\Omega$ connection from fridge to the grid, almost certainly via the magnet.\n",
    "\n",
    "Using Yokogawa as the DC bias source, Basel preamp and Keysight DMM. All three are isolated from the grid at their inputs/outpus. Measured 1M$\\Omega$ between Yokogawa and lockin, and 0 between Yokogawa and fridge.\n",
    "\n",
    "Ithaco when powered via the line (it's truely/physically floating when battery powered), lockin and MDAC are all directly connected to the grid. If any of these equipements are hooked up to the devices, the 50Hz directly couple to the fridge.\n",
    "\n"
   ]
  },
  {
   "cell_type": "code",
   "execution_count": 88,
   "metadata": {},
   "outputs": [
    {
     "data": {
      "text/plain": [
       "{'yoko1_ramp': 0}"
      ]
     },
     "execution_count": 88,
     "metadata": {},
     "output_type": "execute_result"
    }
   ],
   "source": [
    "yoko1_ramp(0)"
   ]
  },
  {
   "cell_type": "code",
   "execution_count": 87,
   "metadata": {},
   "outputs": [
    {
     "data": {
      "text/plain": [
       "-0.563241402"
      ]
     },
     "execution_count": 87,
     "metadata": {},
     "output_type": "execute_result"
    }
   ],
   "source": [
    "key1.volt()"
   ]
  },
  {
   "cell_type": "code",
   "execution_count": 86,
   "metadata": {},
   "outputs": [],
   "source": [
    "yoko_ramp_step = 2e-6 # in V\n",
    "yoko_ramp_delay = 2e-6 # in s\n",
    "def yoko1_bias_ramp_raw(voltage): \n",
    "    yoko1.ramp_voltage(voltage*100, yoko_ramp_step, yoko_ramp_delay) # intended for Basel amp bias atten=1e-2\n",
    "yoko1_bias_ramp = setter((\"yoko1_bias_ramp\", \"V\"))(yoko1_bias_ramp_raw)"
   ]
  },
  {
   "cell_type": "code",
   "execution_count": 93,
   "metadata": {},
   "outputs": [
    {
     "name": "stdout",
     "output_type": "stream",
     "text": [
      "Starting experimental run with id: 22\n"
     ]
    }
   ],
   "source": [
    "# variables (standard units: Volts, seconds, Ohms)\n",
    "\n",
    "n_bias_points = 10001\n",
    "Rseries = 6.7e3\n",
    "device_name = \"grounded_NIS_2\"\n",
    "bias = 1e-3\n",
    "bias_offset = -0.65e-3\n",
    "\n",
    "keyNPLC = 1\n",
    "gain = 1e7\n",
    "source_attenuation = 1e-2\n",
    "\n",
    "def setup():\n",
    "    key1.NPLC(keyNPLC)\n",
    "    yoko1_bias_ramp(-bias)\n",
    "    time.sleep(3)\n",
    "    \n",
    "def cleanup(): \n",
    "    yoko1_bias_ramp(0)\n",
    "    \n",
    "# omitting bias ramp definitions! \n",
    "\n",
    "@getter(('current', 'A'), ('raw_voltage_dc', 'V'))\n",
    "def measure_dc_only(gain=gain, Rseries=Rseries, attenuation=source_attenuation):\n",
    "    time.sleep(0.018*keyNPLC)\n",
    "#     if np.abs(lockin1.sine_outdc() + bias/attenuation) < 1e-4:\n",
    "#         time.sleep(2)\n",
    "#     if np.abs(np.abs(lockin1.sine_outdc()) - 0.05) < 1.5*2*bias/(n_bias_points-1)/attenuation:\n",
    "#         time.sleep(4)\n",
    "    key_raw1 = key1.volt()\n",
    "    current_dc1 = - key_raw1 / gain\n",
    "    \n",
    "    result  = current_dc1, key_raw1\n",
    "    return result\n",
    "\n",
    "result = do_experiment(\n",
    "    \"NIS_therm_Vbias_2t_onlyDC_magnetsOFF_fridgeGND_lockinInputCONNECTEDtoDMM_lockinConnectedToSCOPE/\" + device_name,\n",
    "    nest(\n",
    "        sweep(yoko1_bias_ramp, np.linspace(-bias+bias_offset, bias+bias_offset, n_bias_points)),\n",
    "        measure(measure_dc_only)\n",
    "    ),\n",
    "    setup,\n",
    "    cleanup\n",
    ")\n"
   ]
  },
  {
   "cell_type": "markdown",
   "metadata": {},
   "source": [
    "### Comparing lockin dc output and Yokogawa"
   ]
  },
  {
   "cell_type": "code",
   "execution_count": 94,
   "metadata": {},
   "outputs": [
    {
     "name": "stdout",
     "output_type": "stream",
     "text": [
      "Starting experimental run with id: 23\n"
     ]
    }
   ],
   "source": [
    "# variables (standard units: Volts, seconds, Ohms)\n",
    "\n",
    "n_bias_points = 2001\n",
    "Rseries = 6.7e3\n",
    "device_name = \"source_to_meter\"\n",
    "bias = 1e-3\n",
    "bias_offset = 0\n",
    "\n",
    "keyNPLC = 1\n",
    "gain = 1e7\n",
    "source_attenuation = 1e-2\n",
    "\n",
    "def setup():\n",
    "    key1.NPLC(keyNPLC)\n",
    "    lockin1_dc(-bias)\n",
    "    time.sleep(3)\n",
    "    \n",
    "def cleanup(): \n",
    "    lockin1_dc(0)\n",
    "    \n",
    "bias_ramp_stepsize = 2e-4  #[V], lockin DIRECT output DC value\n",
    "bias_ramp_delay = 0.02  #[s]\n",
    "\n",
    "@setter((\"lockin1_dc\", \"V\"))\n",
    "def lockin1_dc(voltage): \n",
    "    voltage /= source_attenuation\n",
    "    ramp(lockin1.sine_outdc, voltage, bias_ramp_stepsize, bias_ramp_delay)\n",
    "\n",
    "@getter(('current', 'A'), ('raw_voltage_dc', 'V'))\n",
    "def measure_dc_only(gain=gain, Rseries=Rseries, attenuation=source_attenuation):\n",
    "    time.sleep(0.018*keyNPLC)\n",
    "    if np.abs(lockin1.sine_outdc() + bias/attenuation) < 1e-4:\n",
    "        time.sleep(2)\n",
    "    if np.abs(np.abs(lockin1.sine_outdc()) - 0.05) < 1.5*2*bias/(n_bias_points-1)/attenuation:\n",
    "        time.sleep(4)\n",
    "    key_raw1 = key1.volt()\n",
    "    current_dc1 = - key_raw1 / gain\n",
    "    \n",
    "    result  = current_dc1, key_raw1\n",
    "    return result\n",
    "\n",
    "result = do_experiment(\n",
    "    \"lockin_DCsource_measure/\" + device_name,\n",
    "    nest(\n",
    "        sweep(lockin1_dc, np.linspace(-bias+bias_offset, bias+bias_offset, n_bias_points)),\n",
    "        measure(measure_dc_only)\n",
    "    ),\n",
    "    setup,\n",
    "    cleanup\n",
    ")\n"
   ]
  },
  {
   "cell_type": "code",
   "execution_count": 95,
   "metadata": {},
   "outputs": [
    {
     "name": "stdout",
     "output_type": "stream",
     "text": [
      "Starting experimental run with id: 24\n"
     ]
    }
   ],
   "source": [
    "# variables (standard units: Volts, seconds, Ohms)\n",
    "\n",
    "n_bias_points = 2001\n",
    "Rseries = 6.7e3\n",
    "device_name = \"grounded_NIS_2\"\n",
    "bias = 1e-3\n",
    "bias_offset = 0\n",
    "\n",
    "keyNPLC = 1\n",
    "gain = 1e7\n",
    "source_attenuation = 1e-2\n",
    "\n",
    "def setup():\n",
    "    key1.NPLC(keyNPLC)\n",
    "    yoko1_bias_ramp(-bias)\n",
    "    time.sleep(3)\n",
    "    \n",
    "def cleanup(): \n",
    "    yoko1_bias_ramp(0)\n",
    "    \n",
    "# omitting bias ramp definitions! \n",
    "\n",
    "@getter(('current', 'A'), ('raw_voltage_dc', 'V'))\n",
    "def measure_dc_only(gain=gain, Rseries=Rseries, attenuation=source_attenuation):\n",
    "    time.sleep(0.018*keyNPLC)\n",
    "#     if np.abs(lockin1.sine_outdc() + bias/attenuation) < 1e-4:\n",
    "#         time.sleep(2)\n",
    "#     if np.abs(np.abs(lockin1.sine_outdc()) - 0.05) < 1.5*2*bias/(n_bias_points-1)/attenuation:\n",
    "#         time.sleep(4)\n",
    "    key_raw1 = key1.volt()\n",
    "    current_dc1 = - key_raw1 / gain\n",
    "    \n",
    "    result  = current_dc1, key_raw1\n",
    "    return result\n",
    "\n",
    "result = do_experiment(\n",
    "    \"Yokogawa_measure/\" + device_name,\n",
    "    nest(\n",
    "        sweep(yoko1_bias_ramp, np.linspace(-bias+bias_offset, bias+bias_offset, n_bias_points)),\n",
    "        measure(measure_dc_only)\n",
    "    ),\n",
    "    setup,\n",
    "    cleanup\n",
    ")\n"
   ]
  },
  {
   "cell_type": "code",
   "execution_count": 98,
   "metadata": {},
   "outputs": [
    {
     "name": "stdout",
     "output_type": "stream",
     "text": [
      "Starting experimental run with id: 26\n"
     ]
    }
   ],
   "source": [
    "# time sweep\n",
    "\n",
    "n_bias_points = 2001\n",
    "Rseries = 6.7e3\n",
    "device_name = \"source_to_meter\"\n",
    "bias = 1e-3\n",
    "bias_offset = 0\n",
    "\n",
    "keyNPLC = 1\n",
    "gain = 1e7\n",
    "source_attenuation = 1e-2\n",
    "\n",
    "def setup():\n",
    "    key1.NPLC(keyNPLC)\n",
    "#     yoko1_bias_ramp(-bias)\n",
    "    time.sleep(3)\n",
    "    \n",
    "def cleanup(): \n",
    "#     yoko1_bias_ramp(0)\n",
    "    pass\n",
    "    \n",
    "# omitting bias ramp definitions! \n",
    "\n",
    "@getter(('current', 'A'), ('raw_voltage_dc', 'V'))\n",
    "def measure_dc_only(gain=gain, Rseries=Rseries, attenuation=source_attenuation):\n",
    "    time.sleep(0.018*keyNPLC)\n",
    "#     if np.abs(lockin1.sine_outdc() + bias/attenuation) < 1e-4:\n",
    "#         time.sleep(2)\n",
    "#     if np.abs(np.abs(lockin1.sine_outdc()) - 0.05) < 1.5*2*bias/(n_bias_points-1)/attenuation:\n",
    "#         time.sleep(4)\n",
    "    key_raw1 = key1.volt()\n",
    "    current_dc1 = - key_raw1 / gain\n",
    "    \n",
    "    result  = current_dc1, key_raw1\n",
    "    return result\n",
    "\n",
    "result = do_experiment(\n",
    "    \"lockin_measure/\" + device_name,\n",
    "    nest(\n",
    "        sweep(time_sweep, np.linspace(0, 1, n_bias_points)),\n",
    "        measure(measure_dc_only)\n",
    "    ),\n",
    "    setup,\n",
    "    cleanup\n",
    ")\n"
   ]
  },
  {
   "cell_type": "code",
   "execution_count": 96,
   "metadata": {},
   "outputs": [
    {
     "data": {
      "text/plain": [
       "<pytopo.sweep.decorators.SweepFunction at 0x157cd78deb8>"
      ]
     },
     "execution_count": 96,
     "metadata": {},
     "output_type": "execute_result"
    }
   ],
   "source": [
    "time_sweep"
   ]
  },
  {
   "cell_type": "markdown",
   "metadata": {},
   "source": [
    "### Yokogawa DC + lock-in AC, Basel amp"
   ]
  },
  {
   "cell_type": "code",
   "execution_count": 272,
   "metadata": {},
   "outputs": [
    {
     "name": "stdout",
     "output_type": "stream",
     "text": [
      "Starting experimental run with id: 36\n"
     ]
    }
   ],
   "source": [
    "# variables (standard units: Volts, seconds, Ohms)\n",
    "\n",
    "n_bias_points = 2001\n",
    "Rseries = 6.7e3\n",
    "device_name = \"grounded_NIS_2\"\n",
    "bias = 1e-3\n",
    "bias_offset = -0.65e-3\n",
    "excitation = 0 # real voltage on device\n",
    "\n",
    "keyNPLC = 1\n",
    "gain = 1e6\n",
    "dc_attenuation = 1\n",
    "ac_attenuation = 1e-4\n",
    "\n",
    "\n",
    "def setup():\n",
    "    key1.NPLC(keyNPLC)\n",
    "    yoko1_ramp(- (bias+bias_offset) * dc_attenuation)  \n",
    "    lockin1.amplitude(excitation/ac_attenuation)\n",
    "    time.sleep(3)\n",
    "    \n",
    "def cleanup(): \n",
    "    yoko1_ramp(0)\n",
    "    lockin1.amplitude(0)\n",
    "    \n",
    "# omitting bias ramp definitions!\n",
    "\n",
    "@getter(('current', 'A'), ('raw_voltage_dc', 'V'), ('conductance', '2e^2/h'),\n",
    "        ('Lockin1_X', 'V'), ('Lockin1_Y', 'V'), ('Lockin1_R', 'V'),\n",
    "        ('Lockin1_phase', 'deg'), ('Lockin1_excitation', 'V'),\n",
    "        )\n",
    "def measure_acdc(gain=gain, Rseries=Rseries, attenuation=ac_attenuation):\n",
    "    time.sleep(0.15)\n",
    "    \n",
    "    key_raw1 = key1.volt()\n",
    "    current_dc1 = - key_raw1 / gain\n",
    "    Vac1     = attenuation * lockin1.amplitude()\n",
    "    L1P     = lockin1.P()\n",
    "    L1R     = lockin1.R()\n",
    "    L1Y     = lockin1.Y()\n",
    "    # the above lines (excluding time.sleep) take at least 75ms to execute. \n",
    "    L1X     = lockin1.X()\n",
    "    current_ac = L1X / gain\n",
    "    try:\n",
    "        g1 = 12906 / (Vac1/current_ac - Rseries) #[2e^2/h]\n",
    "    except ZeroDivisionError:\n",
    "        g1 = 0\n",
    "    \n",
    "    result  = current_dc1, key_raw1, g1, L1X, L1Y, L1R, L1P, Vac1\n",
    "    return result\n",
    "\n",
    "result = do_experiment(\n",
    "    \"NIS_YokoLockin_fridgeGNDed_XZmagnetsOFF/\" + device_name,\n",
    "    nest(\n",
    "        sweep(yoko1_ramp, np.linspace(-bias+bias_offset, bias+bias_offset, n_bias_points)),\n",
    "        measure(measure_acdc)\n",
    "    ),\n",
    "    setup,\n",
    "    cleanup\n",
    ")\n"
   ]
  },
  {
   "cell_type": "code",
   "execution_count": null,
   "metadata": {},
   "outputs": [],
   "source": []
  },
  {
   "cell_type": "code",
   "execution_count": null,
   "metadata": {},
   "outputs": [],
   "source": []
  },
  {
   "cell_type": "markdown",
   "metadata": {},
   "source": [
    "### MDAC native sine wave + Basel amp + Lock-in"
   ]
  },
  {
   "cell_type": "code",
   "execution_count": 183,
   "metadata": {},
   "outputs": [
    {
     "name": "stdout",
     "output_type": "stream",
     "text": [
      "setting mdac in safe mode\n",
      "Done\n"
     ]
    }
   ],
   "source": [
    "set_mdac_in_safemode()"
   ]
  },
  {
   "cell_type": "code",
   "execution_count": 27,
   "metadata": {
    "scrolled": false
   },
   "outputs": [
    {
     "name": "stdout",
     "output_type": "stream",
     "text": [
      "MDAC1_chan6:\n",
      "\tparameter       value\n",
      "--------------------------------------------------------------------------------\n",
      "amplitude        :\t0 (Vpp)\n",
      "autosync         :\tTrue \n",
      "bus              :\topen \n",
      "dac_output       :\tclose \n",
      "default_ramprate :\t0.001 (V/s)\n",
      "divider          :\toff \n",
      "filter           :\t1 \n",
      "frequency        :\t0 (Hz)\n",
      "gnd              :\topen \n",
      "limit_max        :\t5.086 (V)\n",
      "limit_min        :\t-5.0858 (V)\n",
      "limit_rate       :\t100 (V/s)\n",
      "microd           :\topen \n",
      "offset           :\t0 (V)\n",
      "period           :\t0 (s)\n",
      "phase            :\t0 (Deg)\n",
      "ramp_destination :\tNone (V)\n",
      "ramp_rate        :\tNone (V/s)\n",
      "smc              :\tclose \n",
      "voltage          :\t0 (V)\n",
      "voltage_raw      :\t524280 (LSB)\n",
      "waveform         :\toff \n"
     ]
    }
   ],
   "source": [
    "bias_ch = mdac.ch06\n",
    "initialize(bias_ch)\n",
    "bias_ch.limit_rate(100) # if this is too low, as is the default, AWG cannot generate the right waveform\n",
    "\n",
    "bias_ch.snapshot()\n",
    "bias_ch.print_readable_snapshot()"
   ]
  },
  {
   "cell_type": "code",
   "execution_count": 28,
   "metadata": {},
   "outputs": [],
   "source": [
    "# Basel amp has built-in 100 divider so no divider on MDAC\n",
    "\n",
    "bias_ch.divider('off')"
   ]
  },
  {
   "cell_type": "code",
   "execution_count": 30,
   "metadata": {},
   "outputs": [],
   "source": [
    "dc_attenuation = 1e-2\n",
    "ac_attenuation = 1e-2\n",
    "\n",
    "bias_ramp_stepsize = 1e-6 / dc_attenuation  # V, end result being the mdac output/Basel amp input\n",
    "bias_ramp_delay = 2e-3  # s\n",
    "\n",
    "@setter((\"mdac_bias_offset_ramp\", \"V\"))\n",
    "def mdac_bias_offset_ramp(voltage): \n",
    "    voltage /= dc_attenuation\n",
    "    ramp(bias_ch.offset, voltage, bias_ramp_stepsize, bias_ramp_delay)"
   ]
  },
  {
   "cell_type": "code",
   "execution_count": 31,
   "metadata": {},
   "outputs": [
    {
     "name": "stdout",
     "output_type": "stream",
     "text": [
      "Starting experimental run with id: 1\n"
     ]
    }
   ],
   "source": [
    "# variables (standard units: Volts, seconds, Ohms)\n",
    "\n",
    "n_bias_points = 201\n",
    "Rseries = 13.4e3\n",
    "device_name = \"SS6\"\n",
    "bias = 1e-3 # real voltage on device\n",
    "bias_offset = 0 # real voltage on device\n",
    "excitation = 10e-6 # real voltage on device\n",
    "frequency = 19.3 # Hz\n",
    "\n",
    "keyNPLC = 1\n",
    "gain = 1e7\n",
    "dc_attenuation = 1e-2\n",
    "ac_attenuation = 1e-2\n",
    "\n",
    "def setup():\n",
    "    key1.NPLC(keyNPLC)\n",
    "    mdac.trigger0.start(frequency)\n",
    "    bias_ch.awg_sine(frequency, excitation / ac_attenuation)\n",
    "    mdac_bias_offset_ramp(-bias + bias_offset)\n",
    "    time.sleep(3)\n",
    "    \n",
    "def cleanup(): \n",
    "    mdac_bias_offset_ramp(0)\n",
    "    bias_ch.awg_off()\n",
    "    mdac.trigger0.stop()\n",
    "    \n",
    "    \n",
    "bias_ramp_stepsize = 1e-6 / dc_attenuation  # V, end result being the mdac output/Basel amp input\n",
    "bias_ramp_delay = 2e-3  # s\n",
    "\n",
    "@setter((\"mdac_bias_offset_ramp\", \"V\"))\n",
    "def mdac_bias_offset_ramp(voltage): \n",
    "    voltage /= dc_attenuation\n",
    "    ramp(bias_ch.offset, voltage, bias_ramp_stepsize, bias_ramp_delay)\n",
    "\n",
    "    \n",
    "@getter(('current', 'A'), ('raw_voltage_dc', 'V'), ('conductance', '2e^2/h'),\n",
    "        ('Lockin1_X', 'V'), ('Lockin1_Y', 'V'), ('Lockin1_R', 'V'),\n",
    "        ('Lockin1_phase', 'deg'))\n",
    "def measure_acdc_mdac(gain=gain, Rseries=Rseries, attenuation=ac_attenuation):\n",
    "    time.sleep(0.15)\n",
    "    \n",
    "    key_raw1 = key1.volt()\n",
    "    current_dc1 = - key_raw1 / gain\n",
    "    L1P     = lockin1.P()\n",
    "    L1R     = lockin1.R()\n",
    "    L1Y     = lockin1.Y()\n",
    "    # the above lines (excluding time.sleep) take at least 75ms to execute. \n",
    "    L1X     = lockin1.X()\n",
    "    current_ac = L1X / gain\n",
    "    try:\n",
    "        g1 = 12906 / (excitation/current_ac - Rseries) #[2e^2/h]\n",
    "    except ZeroDivisionError:\n",
    "        g1 = 0\n",
    "    \n",
    "    result  = current_dc1, key_raw1, g1, L1X, L1Y, L1R, L1P\n",
    "    return result\n",
    "\n",
    "result = do_experiment(\n",
    "    \"Q383_recool_bias_test/\" + device_name,\n",
    "    nest(\n",
    "        sweep(mdac_bias_offset_ramp, np.linspace(-bias+bias_offset, bias+bias_offset, n_bias_points)),\n",
    "        measure(measure_acdc_mdac)\n",
    "    ),\n",
    "    setup,\n",
    "    cleanup\n",
    ")\n",
    "\n"
   ]
  },
  {
   "cell_type": "markdown",
   "metadata": {},
   "source": [
    "### Pinchoff"
   ]
  },
  {
   "cell_type": "code",
   "execution_count": 33,
   "metadata": {},
   "outputs": [
    {
     "name": "stdout",
     "output_type": "stream",
     "text": [
      "Starting experimental run with id: 2\n"
     ]
    }
   ],
   "source": [
    "# variables (standard units: Volts, seconds, Ohms)\n",
    "\n",
    "V_begin = 0.5\n",
    "V_end = -0.5\n",
    "n_gate_points = 101\n",
    "zero_gate_after_meas = True\n",
    "\n",
    "Rseries = 13.4e3\n",
    "device_name = \"SS6\"\n",
    "bias = 1e-3 # real voltage on device\n",
    "# 1 because of 1e7 gain and 1V range on Keysight DMM\n",
    "bias_offset = 0 # real voltage on device\n",
    "excitation = 10e-6 # real voltage on device\n",
    "frequency = 19.3 # Hz\n",
    "\n",
    "keyNPLC = 1\n",
    "gain = 1e7\n",
    "dc_attenuation = 1e-2\n",
    "ac_attenuation = 1e-2\n",
    "\n",
    "def setup():\n",
    "    key1.NPLC(keyNPLC)\n",
    "    yoko1_ramp(V_begin)\n",
    "    mdac.trigger0.start(frequency)\n",
    "    bias_ch.awg_sine(frequency, excitation / ac_attenuation)\n",
    "    mdac_bias_offset_ramp(bias + bias_offset)\n",
    "    time.sleep(3)\n",
    "    \n",
    "def cleanup(): \n",
    "    mdac_bias_offset_ramp(0)\n",
    "    bias_ch.awg_off()\n",
    "    mdac.trigger0.stop()\n",
    "    if zero_gate_after_meas == True:\n",
    "        yoko1_ramp(0)\n",
    "    else:\n",
    "        print('Gate = {}V now!'.format(V_end))\n",
    "    \n",
    "    \n",
    "bias_ramp_stepsize = 1e-6 / dc_attenuation  # V, end result being the mdac output/Basel amp input\n",
    "bias_ramp_delay = 2e-3  # s\n",
    "\n",
    "@setter((\"mdac_bias_offset_ramp\", \"V\"))\n",
    "def mdac_bias_offset_ramp(voltage): \n",
    "    voltage /= dc_attenuation\n",
    "    ramp(bias_ch.offset, voltage, bias_ramp_stepsize, bias_ramp_delay)\n",
    "\n",
    "    \n",
    "@getter(('current', 'A'), ('raw_voltage_dc', 'V'), ('conductance', '2e^2/h'),\n",
    "        ('Lockin1_X', 'V'), ('Lockin1_Y', 'V'), ('Lockin1_R', 'V'),\n",
    "        ('Lockin1_phase', 'deg'))\n",
    "def measure_acdc_mdac(gain=gain, Rseries=Rseries, attenuation=ac_attenuation):\n",
    "    time.sleep(0.15)\n",
    "    \n",
    "    key_raw1 = key1.volt()\n",
    "    current_dc1 = - key_raw1 / gain\n",
    "    L1P     = lockin1.P()\n",
    "    L1R     = lockin1.R()\n",
    "    L1Y     = lockin1.Y()\n",
    "    # the above lines (excluding time.sleep) take at least 75ms to execute. \n",
    "    L1X     = lockin1.X()\n",
    "    current_ac = L1X / gain\n",
    "    try:\n",
    "        g1 = 12906 / (excitation/current_ac - Rseries) #[2e^2/h]\n",
    "    except ZeroDivisionError:\n",
    "        g1 = 0\n",
    "    \n",
    "    result  = current_dc1, key_raw1, g1, L1X, L1Y, L1R, L1P\n",
    "    return result\n",
    "\n",
    "result = do_experiment(\n",
    "    \"Q383_recool_pinchoff_bias={}mV/\".format(bias*1e3) + device_name,\n",
    "    nest(\n",
    "        sweep(yoko1_ramp, np.linspace(V_begin, V_end, n_gate_points)),\n",
    "        measure(measure_acdc_mdac)\n",
    "    ),\n",
    "    setup,\n",
    "    cleanup\n",
    ")\n",
    "\n"
   ]
  },
  {
   "cell_type": "markdown",
   "metadata": {},
   "source": [
    "### Gate-Bias 2D sweep"
   ]
  },
  {
   "cell_type": "code",
   "execution_count": 50,
   "metadata": {},
   "outputs": [],
   "source": [
    "yoko1.voltage_range(1)"
   ]
  },
  {
   "cell_type": "code",
   "execution_count": 33,
   "metadata": {},
   "outputs": [
    {
     "name": "stdout",
     "output_type": "stream",
     "text": [
      "Starting experimental run with id: 2\n",
      "Gate zeroed\n"
     ]
    }
   ],
   "source": [
    "# variables (standard units: Volts, seconds, Ohms)\n",
    "\n",
    "V_begin = 1\n",
    "V_end = 0\n",
    "n_gate_points = 101\n",
    "zero_gate_after_meas = True\n",
    "\n",
    "Rseries = 13.4e3\n",
    "device_name = \"SS6\"\n",
    "bias = 1.5e-3 # real voltage on device\n",
    "n_bias_points = 301\n",
    "bias_offset = 0 # real voltage on device\n",
    "excitation = 5e-6 # real voltage on device, RMS!\n",
    "frequency = 19.3 # Hz\n",
    "\n",
    "keyNPLC = 1\n",
    "gain = 1e7\n",
    "dc_attenuation = 1e-2\n",
    "ac_attenuation = 1e-2\n",
    "\n",
    "def setup():\n",
    "    key1.NPLC(keyNPLC)\n",
    "    lockin1.time_constant(0.3)\n",
    "    yoko1_ramp(V_begin)\n",
    "    mdac.trigger0.start(frequency)\n",
    "    bias_ch.awg_sine(frequency, 2 * (2**0.5) * excitation / ac_attenuation) # MDAC takes Vpp!\n",
    "    mdac_bias_offset_ramp(-bias + bias_offset)\n",
    "    time.sleep(3)\n",
    "    \n",
    "def cleanup(): \n",
    "    mdac_bias_offset_ramp(0)\n",
    "    bias_ch.awg_off()\n",
    "    mdac.trigger0.stop()\n",
    "    if zero_gate_after_meas == True:\n",
    "        yoko1_ramp(0)\n",
    "        print('Gate zeroed')\n",
    "    else:\n",
    "        print('Gate = {}V now!'.format(V_end))\n",
    "    \n",
    "\n",
    "bias_ramp_stepsize = 1e-6 / dc_attenuation  # V, end result being the mdac output/Basel amp input\n",
    "bias_ramp_delay = 2e-3  # s\n",
    "\n",
    "@setter((\"mdac_bias_offset_ramp\", \"V\"))\n",
    "def mdac_bias_offset_ramp(voltage): \n",
    "    voltage /= dc_attenuation\n",
    "    ramp(bias_ch.offset, voltage, bias_ramp_stepsize, bias_ramp_delay)\n",
    "\n",
    "    \n",
    "@getter(('current', 'A'), ('raw_voltage_dc', 'V'), ('conductance', '2e^2/h'),\n",
    "        ('Lockin1_X', 'V'), ('Lockin1_Y', 'V'), ('Lockin1_R', 'V'),\n",
    "        ('Lockin1_phase', 'deg'))\n",
    "def measure_acdc_mdac(gain=gain, Rseries=Rseries, attenuation=ac_attenuation):\n",
    "    time.sleep(0.5)\n",
    "    \n",
    "    key_raw1 = key1.volt()\n",
    "    current_dc1 = - key_raw1 / gain\n",
    "    L1P     = lockin1.P()\n",
    "    L1R     = lockin1.R()\n",
    "    L1Y     = lockin1.Y()\n",
    "    # the above lines (excluding time.sleep) take at least 75ms to execute. \n",
    "    L1X     = lockin1.X()\n",
    "    current_ac = L1X / gain\n",
    "    try:\n",
    "        g1 = 12906 / (excitation/current_ac - Rseries) #[2e^2/h]\n",
    "    except ZeroDivisionError:\n",
    "        g1 = 0\n",
    "    \n",
    "    result  = current_dc1, key_raw1, g1, L1X, L1Y, L1R, L1P\n",
    "    return result\n",
    "\n",
    "result = do_experiment(\n",
    "    \"Q383_recool_bias_twoGates_down/\" + device_name,\n",
    "    nest(\n",
    "        sweep(yoko1_ramp, np.linspace(V_begin, V_end, n_gate_points)),\n",
    "        sweep(mdac_bias_offset_ramp, np.linspace(-bias+bias_offset, bias+bias_offset, n_bias_points)),\n",
    "        measure(measure_acdc_mdac)\n",
    "    ),\n",
    "    setup,\n",
    "    cleanup\n",
    ")\n",
    "\n"
   ]
  },
  {
   "cell_type": "markdown",
   "metadata": {},
   "source": [
    "### Bias-gate without ac excitation"
   ]
  },
  {
   "cell_type": "code",
   "execution_count": 39,
   "metadata": {},
   "outputs": [
    {
     "name": "stdout",
     "output_type": "stream",
     "text": [
      "Starting experimental run with id: 5\n",
      "Gate = 0.0V now!\n"
     ]
    }
   ],
   "source": [
    "# variables (standard units: Volts, seconds, Ohms)\n",
    "\n",
    "V_begin = 0.4\n",
    "V_end = 0\n",
    "n_gate_points = 21\n",
    "zero_gate_after_meas = False\n",
    "\n",
    "Rseries = 13.4e3\n",
    "device_name = \"SS6\"\n",
    "bias = 0.5e-3 # real voltage on device\n",
    "n_bias_points = 201\n",
    "bias_offset = 0 # real voltage on device\n",
    "\n",
    "keyNPLC = 1\n",
    "gain = 1e7\n",
    "dc_attenuation = 1e-2\n",
    "ac_attenuation = 1e-2\n",
    "\n",
    "\n",
    "bias_ramp_stepsize = 1e-6 / dc_attenuation  #[V], lockin DIRECT output DC value\n",
    "bias_ramp_delay = 2e-3  # [s]\n",
    "\n",
    "@setter((\"mdac_bias_voltage\", \"V\"))\n",
    "def mdac_bias_voltage(voltage): \n",
    "    voltage /= dc_attenuation\n",
    "    ramp(bias_ch.voltage, voltage, bias_ramp_stepsize, bias_ramp_delay)\n",
    "\n",
    "    \n",
    "def setup():\n",
    "    key1.NPLC(keyNPLC)\n",
    "    yoko1_ramp(V_begin)\n",
    "    mdac_bias_voltage(-bias + bias_offset)\n",
    "    time.sleep(3)\n",
    "    \n",
    "def cleanup(): \n",
    "    mdac_bias_voltage(0)\n",
    "    if zero_gate_after_meas == True:\n",
    "        yoko1_ramp(0)\n",
    "    else:\n",
    "        print('Gate = {}V now!'.format(yoko1.voltage()))\n",
    "    \n",
    "\n",
    "@getter(('current', 'A'), ('raw_voltage_dc', 'V'))\n",
    "def measure_dc_only(gain=gain, Rseries=Rseries, attenuation=ac_attenuation):\n",
    "    time.sleep(0.018 * keyNPLC)\n",
    "    \n",
    "    key_raw1 = key1.volt()\n",
    "    current_dc1 = - key_raw1 / gain\n",
    "    \n",
    "    result  = current_dc1, key_raw1\n",
    "    return result\n",
    "\n",
    "result = do_experiment(\n",
    "    \"Q383_recool_bias_dc_sweep_gate0.4V/\" + device_name,\n",
    "    nest(\n",
    "        sweep(yoko1_ramp, np.linspace(V_begin, V_end, n_gate_points)),\n",
    "        sweep(mdac_bias_voltage, np.linspace(-bias+bias_offset, bias+bias_offset, n_bias_points)),\n",
    "        measure(measure_dc_only)\n",
    "    ),\n",
    "    setup,\n",
    "    cleanup\n",
    ")\n",
    "\n"
   ]
  },
  {
   "cell_type": "code",
   "execution_count": null,
   "metadata": {},
   "outputs": [],
   "source": []
  },
  {
   "cell_type": "markdown",
   "metadata": {},
   "source": [
    "## I bias (MDAC + 1M$\\Omega$ + DMM)"
   ]
  },
  {
   "cell_type": "code",
   "execution_count": 49,
   "metadata": {},
   "outputs": [
    {
     "name": "stdout",
     "output_type": "stream",
     "text": [
      "Starting experimental run with id: 15\n"
     ]
    }
   ],
   "source": [
    "V_begin = 0.8\n",
    "V_end = 0\n",
    "n_gate_points = 21\n",
    "\n",
    "bias = 5e-3 # 1 MOhm of series resistance, so 1 V is converted to 1 uA\n",
    "n_bias_points = 201\n",
    "keyNPLC = 1\n",
    "Rseries = 18.4e3 # fridge line + PCB\n",
    "Rsource = 1e6 # Ohm\n",
    "zero_gate_after_meas = True\n",
    "dc_attenuation = 1\n",
    "\n",
    "def setup(): \n",
    "    key1.NPLC(keyNPLC)\n",
    "    yoko1_ramp(V_begin)\n",
    "    mdac_bias_voltage(-bias) # 1 MOhm of series resistance, so 1 V is converted to 1 uA\n",
    "    time.sleep(3)\n",
    "\n",
    "def cleanup(): \n",
    "    mdac_bias_voltage(0)\n",
    "    if zero_gate_after_meas == True:\n",
    "        yoko1_ramp(0)\n",
    "    else:\n",
    "        print('Gate = {}V now!'.format(yoko1.voltage()))\n",
    "    \n",
    "    \n",
    "bias_ramp_stepsize = 1e-5 / dc_attenuation  #[V], lockin DIRECT output DC value\n",
    "bias_ramp_delay = 2e-4  # [s]\n",
    "\n",
    "@setter((\"mdac_bias_voltage\", \"V\"))\n",
    "def mdac_bias_voltage(voltage): \n",
    "    voltage /= dc_attenuation\n",
    "    ramp(bias_ch.voltage, voltage, bias_ramp_stepsize, bias_ramp_delay)\n",
    "    \n",
    "    \n",
    "@getter(('V', 'V'), ('I_bias', 'A'), ('Rs', 'Ohm'), ('V_after_Rs_subtraction', 'V'),\n",
    "       )\n",
    "def measure_Ibias(Rseries=Rseries, Rsource=Rsource):\n",
    "    time.sleep(0.018*keyNPLC)\n",
    "    V = key1.volt()\n",
    "    I = (bias_ch.voltage() - V) / Rsource\n",
    "    V_after_Rs_subtraction = V - I * Rseries\n",
    "    \n",
    "    result  =  V, I, Rseries, V_after_Rs_subtraction\n",
    "    return result\n",
    "\n",
    "result = do_experiment(\n",
    "    \"Q383_recool_Ibias_test_gate0.8V/SS3\",\n",
    "    nest(\n",
    "        sweep(yoko1_ramp, np.linspace(V_begin, V_end, n_gate_points)),\n",
    "        sweep(mdac_bias_voltage, np.linspace(-bias, bias, n_bias_points)),\n",
    "        measure(measure_Ibias)\n",
    "    ),\n",
    "    setup,\n",
    "    cleanup\n",
    ")"
   ]
  },
  {
   "cell_type": "code",
   "execution_count": 46,
   "metadata": {},
   "outputs": [
    {
     "name": "stdout",
     "output_type": "stream",
     "text": [
      "Starting experimental run with id: 12\n"
     ]
    }
   ],
   "source": [
    "V_begin = 1\n",
    "V_end = 1.5\n",
    "n_gate_points = 51\n",
    "\n",
    "bias = 25e-3 # 1 MOhm of series resistance, so 1 V is converted to 1 uA\n",
    "n_bias_points = 401\n",
    "keyNPLC = 1\n",
    "Rseries = 13.4e3 # fridge line + PCB\n",
    "Rsource = 1e6 # Ohm\n",
    "zero_gate_after_meas = True\n",
    "dc_attenuation = 1\n",
    "\n",
    "def setup(): \n",
    "    key1.NPLC(keyNPLC)\n",
    "    yoko1.voltage_range(10.0)\n",
    "    yoko1_ramp(V_begin)\n",
    "    mdac_bias_voltage(-bias) # 1 MOhm of series resistance, so 1 V is converted to 1 uA\n",
    "    time.sleep(3)\n",
    "\n",
    "def cleanup(): \n",
    "    mdac_bias_voltage(0)\n",
    "    if zero_gate_after_meas == True:\n",
    "        yoko1_ramp(0)\n",
    "    else:\n",
    "        print('Gate = {}V now!'.format(yoko1.voltage()))\n",
    "    \n",
    "    \n",
    "bias_ramp_stepsize = 1e-5 / dc_attenuation  #[V], lockin DIRECT output DC value\n",
    "bias_ramp_delay = 2e-4  # [s]\n",
    "\n",
    "@setter((\"mdac_bias_voltage\", \"V\"))\n",
    "def mdac_bias_voltage(voltage): \n",
    "    voltage /= dc_attenuation\n",
    "    ramp(bias_ch.voltage, voltage, bias_ramp_stepsize, bias_ramp_delay)\n",
    "    \n",
    "    \n",
    "@getter(('V', 'V'), ('I_bias', 'A'), ('Rs', 'Ohm'), ('V_after_Rs_subtraction', 'V'),\n",
    "       )\n",
    "def measure_Ibias(Rseries=Rseries, Rsource=Rsource):\n",
    "    time.sleep(0.018*keyNPLC)\n",
    "    V = key1.volt()\n",
    "    I = (bias_ch.voltage() - V) / Rsource\n",
    "    V_after_Rs_subtraction = V - I * Rseries\n",
    "    \n",
    "    result  =  V, I, Rseries, V_after_Rs_subtraction\n",
    "    return result\n",
    "\n",
    "result = do_experiment(\n",
    "    \"Q383_recool_Ibias_high_gates/SS6\",\n",
    "    nest(\n",
    "        sweep(yoko1_ramp, np.linspace(V_begin, V_end, n_gate_points)),\n",
    "        sweep(mdac_bias_voltage, np.linspace(-bias, bias, n_bias_points)),\n",
    "        measure(measure_Ibias)\n",
    "    ),\n",
    "    setup,\n",
    "    cleanup\n",
    ")"
   ]
  },
  {
   "cell_type": "code",
   "execution_count": null,
   "metadata": {},
   "outputs": [],
   "source": []
  },
  {
   "cell_type": "code",
   "execution_count": null,
   "metadata": {},
   "outputs": [],
   "source": []
  },
  {
   "cell_type": "code",
   "execution_count": null,
   "metadata": {},
   "outputs": [],
   "source": []
  },
  {
   "cell_type": "markdown",
   "metadata": {},
   "source": [
    "# Old"
   ]
  },
  {
   "cell_type": "code",
   "execution_count": 127,
   "metadata": {},
   "outputs": [
    {
     "name": "stdout",
     "output_type": "stream",
     "text": [
      "Starting experimental run with id: 72\n"
     ]
    }
   ],
   "source": [
    "#pinch-off variables (standard units: Volts, seconds, Ohms)\n",
    "Vbegin = -0.4\n",
    "Vend = -0.9\n",
    "n_gate_points = 121\n",
    "n_bias_points = 201\n",
    "Rseries = 18.4e3\n",
    "device_name = \"SS3\"\n",
    "\n",
    "bias = 2e-3 #takes into account attenuation of 100.\n",
    "lockin_amplitude = 10e-6 # real voltage on device\n",
    "time_constant = 0.3\n",
    "\n",
    "keyNPLC = 1\n",
    "gain = 1e6\n",
    "attenuation=1e-2\n",
    "\n",
    "#pinch-off functions, from now on you don't have to change any parameter\n",
    "def setup():    \n",
    "    key1.NPLC(keyNPLC)\n",
    "    lockin1.amplitude(lockin_amplitude / attenuation) # to be attenuated by 100. So 10uV excitation when this is 1mV\n",
    "    lockin1_dc(-bias)\n",
    "    lockin1.time_constant(time_constant)\n",
    "    yoko1_ramp(Vbegin)\n",
    "    time.sleep(10)\n",
    "    \n",
    "def cleanup(): \n",
    "    lockin1.amplitude(0)\n",
    "    lockin1_dc(0)\n",
    "    yoko1_ramp(0)\n",
    "\n",
    "bias_ramp_stepsize = 2e-4  #[V], lockin DIRECT output DC value\n",
    "bias_ramp_delay = 0.01  #[s]\n",
    "@setter((\"lockin1_dc\", \"V\"))\n",
    "def lockin1_dc(voltage): \n",
    "    voltage /= attenuation\n",
    "    ramp(lockin1.sine_outdc, voltage, bias_ramp_stepsize, bias_ramp_delay)\n",
    "\n",
    "@getter(('current1', 'A'), ('raw_voltage_dc1', 'V'), ('conductance1', '2e^2/h'),\n",
    "        ('Lockin1_X', 'V'), ('Lockin1_Y', 'V'), ('Lockin1_R', 'V'),\n",
    "        ('Lockin1_phase', 'deg'), ('Lockin1_excitation', 'V'),\n",
    "        )\n",
    "def measure_acdc(gain=gain, Rseries=Rseries, adder_atten=attenuation):\n",
    "    time.sleep(1.5*time_constant)\n",
    "    if np.abs(lockin1.sine_outdc() + bias/attenuation) < 1e-4:\n",
    "        time.sleep(2)\n",
    "    if np.abs(np.abs(lockin1.sine_outdc()) - 0.05) < 1.5*2*bias/(n_bias_points-1)/attenuation:\n",
    "        time.sleep(4)\n",
    "    key_raw1 = key1.volt()\n",
    "    current_dc1 = -key_raw1/gain\n",
    "    Vac1     = adder_atten*lockin1.amplitude()\n",
    "    L1P     = lockin1.P()\n",
    "    L1R     = lockin1.R()\n",
    "    L1Y     = lockin1.Y()\n",
    "    # the above lines (excluding time.sleep) take at least 75ms to execute. \n",
    "    L1X     = lockin1.X()\n",
    "    current_ac = L1X/gain    \n",
    "    try:\n",
    "        g1 = 12906/(Vac1/current_ac - Rseries) #[2e^2/h]\n",
    "    except ZeroDivisionError:\n",
    "        g1 = 0\n",
    "    \n",
    "    result  = current_dc1, key_raw1, g1, L1X, L1Y, L1R, L1P, Vac1\n",
    "    return result\n",
    "\n",
    "result = do_experiment(\n",
    "    \"Q383_upper_gate_vs_Bias_sweep/\" + device_name,\n",
    "    nest(\n",
    "        sweep(yoko1_ramp, np.linspace(Vbegin, Vend, n_gate_points)),\n",
    "        sweep(lockin1_dc, np.linspace(-bias, bias, n_bias_points)),\n",
    "        measure(measure_acdc)\n",
    "    ),\n",
    "    setup,\n",
    "    cleanup\n",
    ") "
   ]
  },
  {
   "cell_type": "code",
   "execution_count": 94,
   "metadata": {},
   "outputs": [
    {
     "name": "stdout",
     "output_type": "stream",
     "text": [
      "Starting experimental run with id: 61\n"
     ]
    }
   ],
   "source": [
    "#pinch-off variables (standard units: Volts, seconds, Ohms)\n",
    "Vbegin = 0.4\n",
    "Vend = 1\n",
    "n_gate_points = 121\n",
    "n_bias_points = 201\n",
    "Rseries = 13.4e3\n",
    "device_name = \"SS6\"\n",
    "\n",
    "bias = 1e-3 #takes into account attenuation of 100.\n",
    "lockin_amplitude = 5e-6 # real voltage on device\n",
    "time_constant = 0.3\n",
    "\n",
    "keyNPLC = 1\n",
    "gain = 1e6\n",
    "attenuation=1e-2\n",
    "\n",
    "#pinch-off functions, from now on you don't have to change any parameter\n",
    "def setup():    \n",
    "    key1.NPLC(keyNPLC)\n",
    "    lockin1.amplitude(lockin_amplitude / attenuation) # to be attenuated by 100. So 10uV excitation when this is 1mV\n",
    "    lockin1_dc(-bias)\n",
    "    lockin1.time_constant(time_constant)\n",
    "    yoko1_ramp(Vbegin)\n",
    "    time.sleep(10)\n",
    "    \n",
    "def cleanup(): \n",
    "    lockin1.amplitude(0)\n",
    "    lockin1_dc(0)\n",
    "#     yoko1_ramp(0)\n",
    "\n",
    "bias_ramp_stepsize = 2e-4  #[V], lockin DIRECT output DC value\n",
    "bias_ramp_delay = 0.01  #[s]\n",
    "@setter((\"lockin1_dc\", \"V\"))\n",
    "def lockin1_dc(voltage): \n",
    "    voltage /= attenuation\n",
    "    ramp(lockin1.sine_outdc, voltage, bias_ramp_stepsize, bias_ramp_delay)\n",
    "\n",
    "@getter(('current1', 'A'), ('raw_voltage_dc1', 'V'), ('conductance1', '2e^2/h'),\n",
    "        ('Lockin1_X', 'V'), ('Lockin1_Y', 'V'), ('Lockin1_R', 'V'),\n",
    "        ('Lockin1_phase', 'deg'), ('Lockin1_excitation', 'V'),\n",
    "        )\n",
    "def measure_acdc(gain=gain, Rseries=Rseries, adder_atten=attenuation):\n",
    "    time.sleep(1.5*time_constant)\n",
    "    if np.abs(lockin1.sine_outdc() + bias/attenuation) < 1e-4:\n",
    "        time.sleep(2)\n",
    "    if np.abs(np.abs(lockin1.sine_outdc()) - 0.05) < 1.5*2*bias/(n_bias_points-1)/attenuation:\n",
    "        time.sleep(4)\n",
    "    key_raw1 = key1.volt()\n",
    "    current_dc1 = -key_raw1/gain\n",
    "    Vac1     = adder_atten*lockin1.amplitude()\n",
    "    L1P     = lockin1.P()\n",
    "    L1R     = lockin1.R()\n",
    "    L1Y     = lockin1.Y()\n",
    "    # the above lines (excluding time.sleep) take at least 75ms to execute. \n",
    "    L1X     = lockin1.X()\n",
    "    current_ac = L1X/gain    \n",
    "    try:\n",
    "        g1 = 12906/(Vac1/current_ac - Rseries) #[2e^2/h]\n",
    "    except ZeroDivisionError:\n",
    "        g1 = 0\n",
    "    \n",
    "    result  = current_dc1, key_raw1, g1, L1X, L1Y, L1R, L1P, Vac1\n",
    "    return result\n",
    "\n",
    "result = do_experiment(\n",
    "    \"Q383_TwoGates_vs_Bias_sweep/\" + device_name,\n",
    "    nest(\n",
    "        sweep(yoko1_ramp, np.linspace(Vbegin, Vend, n_gate_points)),\n",
    "        sweep(lockin1_dc, np.linspace(-bias, bias, n_bias_points)),\n",
    "        measure(measure_acdc)\n",
    "    ),\n",
    "    setup,\n",
    "    cleanup\n",
    ") "
   ]
  },
  {
   "cell_type": "code",
   "execution_count": 275,
   "metadata": {
    "scrolled": true
   },
   "outputs": [
    {
     "name": "stdout",
     "output_type": "stream",
     "text": [
      "Starting experimental run with id: 38\n"
     ]
    },
    {
     "ename": "timeout",
     "evalue": "('timed out', \"asking 'FIELD:MAG?' to <AMI430: AMI430_z>\", 'getting AMI430_z_field')",
     "output_type": "error",
     "traceback": [
      "\u001b[1;31m---------------------------------------------------------------------------\u001b[0m",
      "\u001b[1;31mtimeout\u001b[0m                                   Traceback (most recent call last)",
      "\u001b[1;32m<ipython-input-275-7af8d8577bea>\u001b[0m in \u001b[0;36m<module>\u001b[1;34m()\u001b[0m\n\u001b[0;32m     71\u001b[0m     ),\n\u001b[0;32m     72\u001b[0m     \u001b[0msetup\u001b[0m\u001b[1;33m,\u001b[0m\u001b[1;33m\u001b[0m\u001b[0m\n\u001b[1;32m---> 73\u001b[1;33m     \u001b[0mcleanup\u001b[0m\u001b[1;33m,\u001b[0m\u001b[1;33m\u001b[0m\u001b[0m\n\u001b[0m\u001b[0;32m     74\u001b[0m )\n",
      "\u001b[1;32md:\\onedrive\\bf3\\code\\pytopo\\pytopo\\sweep\\do_experiment.py\u001b[0m in \u001b[0;36mdo_experiment\u001b[1;34m(experiment_name, sweep_object, setup, cleanup, station, live_plot)\u001b[0m\n\u001b[0;32m     93\u001b[0m             )\n\u001b[0;32m     94\u001b[0m \u001b[1;33m\u001b[0m\u001b[0m\n\u001b[1;32m---> 95\u001b[1;33m         \u001b[1;32mfor\u001b[0m \u001b[0mdata\u001b[0m \u001b[1;32min\u001b[0m \u001b[0msweep_object\u001b[0m\u001b[1;33m:\u001b[0m\u001b[1;33m\u001b[0m\u001b[0m\n\u001b[0m\u001b[0;32m     96\u001b[0m             \u001b[0mdatasaver\u001b[0m\u001b[1;33m.\u001b[0m\u001b[0madd_result\u001b[0m\u001b[1;33m(\u001b[0m\u001b[1;33m*\u001b[0m\u001b[0mdata\u001b[0m\u001b[1;33m.\u001b[0m\u001b[0mitems\u001b[0m\u001b[1;33m(\u001b[0m\u001b[1;33m)\u001b[0m\u001b[1;33m)\u001b[0m\u001b[1;33m\u001b[0m\u001b[0m\n\u001b[0;32m     97\u001b[0m \u001b[1;33m\u001b[0m\u001b[0m\n",
      "\u001b[1;32md:\\onedrive\\bf3\\code\\pytopo\\pytopo\\sweep\\base.py\u001b[0m in \u001b[0;36m__next__\u001b[1;34m(self)\u001b[0m\n\u001b[0;32m     36\u001b[0m             \u001b[0mself\u001b[0m\u001b[1;33m.\u001b[0m\u001b[0m_start_iter\u001b[0m\u001b[1;33m(\u001b[0m\u001b[1;33m)\u001b[0m\u001b[1;33m\u001b[0m\u001b[0m\n\u001b[0;32m     37\u001b[0m \u001b[1;33m\u001b[0m\u001b[0m\n\u001b[1;32m---> 38\u001b[1;33m         \u001b[1;32mreturn\u001b[0m \u001b[0mnext\u001b[0m\u001b[1;33m(\u001b[0m\u001b[0mself\u001b[0m\u001b[1;33m.\u001b[0m\u001b[0m_generator\u001b[0m\u001b[1;33m)\u001b[0m\u001b[1;33m\u001b[0m\u001b[0m\n\u001b[0m\u001b[0;32m     39\u001b[0m \u001b[1;33m\u001b[0m\u001b[0m\n\u001b[0;32m     40\u001b[0m     \u001b[1;32mdef\u001b[0m \u001b[0m__call__\u001b[0m\u001b[1;33m(\u001b[0m\u001b[0mself\u001b[0m\u001b[1;33m,\u001b[0m \u001b[1;33m*\u001b[0m\u001b[0msweep_objects\u001b[0m\u001b[1;33m)\u001b[0m\u001b[1;33m:\u001b[0m\u001b[1;33m\u001b[0m\u001b[0m\n",
      "\u001b[1;32md:\\onedrive\\bf3\\code\\pytopo\\pytopo\\sweep\\base.py\u001b[0m in \u001b[0;36m__next__\u001b[1;34m(self)\u001b[0m\n\u001b[0;32m     36\u001b[0m             \u001b[0mself\u001b[0m\u001b[1;33m.\u001b[0m\u001b[0m_start_iter\u001b[0m\u001b[1;33m(\u001b[0m\u001b[1;33m)\u001b[0m\u001b[1;33m\u001b[0m\u001b[0m\n\u001b[0;32m     37\u001b[0m \u001b[1;33m\u001b[0m\u001b[0m\n\u001b[1;32m---> 38\u001b[1;33m         \u001b[1;32mreturn\u001b[0m \u001b[0mnext\u001b[0m\u001b[1;33m(\u001b[0m\u001b[0mself\u001b[0m\u001b[1;33m.\u001b[0m\u001b[0m_generator\u001b[0m\u001b[1;33m)\u001b[0m\u001b[1;33m\u001b[0m\u001b[0m\n\u001b[0m\u001b[0;32m     39\u001b[0m \u001b[1;33m\u001b[0m\u001b[0m\n\u001b[0;32m     40\u001b[0m     \u001b[1;32mdef\u001b[0m \u001b[0m__call__\u001b[0m\u001b[1;33m(\u001b[0m\u001b[0mself\u001b[0m\u001b[1;33m,\u001b[0m \u001b[1;33m*\u001b[0m\u001b[0msweep_objects\u001b[0m\u001b[1;33m)\u001b[0m\u001b[1;33m:\u001b[0m\u001b[1;33m\u001b[0m\u001b[0m\n",
      "\u001b[1;32md:\\onedrive\\bf3\\code\\pytopo\\pytopo\\sweep\\base.py\u001b[0m in \u001b[0;36m_generator_factory\u001b[1;34m(self)\u001b[0m\n\u001b[0;32m     79\u001b[0m \u001b[1;33m\u001b[0m\u001b[0m\n\u001b[0;32m     80\u001b[0m     \u001b[1;32mdef\u001b[0m \u001b[0m_generator_factory\u001b[0m\u001b[1;33m(\u001b[0m\u001b[0mself\u001b[0m\u001b[1;33m)\u001b[0m \u001b[1;33m->\u001b[0m\u001b[0mIterator\u001b[0m\u001b[1;33m:\u001b[0m\u001b[1;33m\u001b[0m\u001b[0m\n\u001b[1;32m---> 81\u001b[1;33m         \u001b[1;32mfor\u001b[0m \u001b[0mvalue\u001b[0m \u001b[1;32min\u001b[0m \u001b[0mself\u001b[0m\u001b[1;33m.\u001b[0m\u001b[0m_iterator_function\u001b[0m\u001b[1;33m(\u001b[0m\u001b[1;33m)\u001b[0m\u001b[1;33m:\u001b[0m\u001b[1;33m\u001b[0m\u001b[0m\n\u001b[0m\u001b[0;32m     82\u001b[0m             \u001b[1;32myield\u001b[0m \u001b[0mvalue\u001b[0m\u001b[1;33m\u001b[0m\u001b[0m\n\u001b[0;32m     83\u001b[0m \u001b[1;33m\u001b[0m\u001b[0m\n",
      "\u001b[1;32md:\\onedrive\\bf3\\code\\pytopo\\pytopo\\sweep\\base.py\u001b[0m in \u001b[0;36minner\u001b[1;34m()\u001b[0m\n\u001b[0;32m    122\u001b[0m         \u001b[1;32mdef\u001b[0m \u001b[0minner\u001b[0m\u001b[1;33m(\u001b[0m\u001b[1;33m)\u001b[0m\u001b[1;33m:\u001b[0m\u001b[1;33m\u001b[0m\u001b[0m\n\u001b[0;32m    123\u001b[0m             \u001b[1;32mfor\u001b[0m \u001b[0mresult2\u001b[0m \u001b[1;32min\u001b[0m \u001b[0msweep_object2\u001b[0m\u001b[1;33m:\u001b[0m\u001b[1;33m\u001b[0m\u001b[0m\n\u001b[1;32m--> 124\u001b[1;33m                 \u001b[1;32mfor\u001b[0m \u001b[0mresult1\u001b[0m \u001b[1;32min\u001b[0m \u001b[0msweep_object1\u001b[0m\u001b[1;33m:\u001b[0m\u001b[1;33m\u001b[0m\u001b[0m\n\u001b[0m\u001b[0;32m    125\u001b[0m                     \u001b[0mresult1\u001b[0m\u001b[1;33m.\u001b[0m\u001b[0mupdate\u001b[0m\u001b[1;33m(\u001b[0m\u001b[0mresult2\u001b[0m\u001b[1;33m)\u001b[0m\u001b[1;33m\u001b[0m\u001b[0m\n\u001b[0;32m    126\u001b[0m                     \u001b[1;32myield\u001b[0m \u001b[0mresult1\u001b[0m\u001b[1;33m\u001b[0m\u001b[0m\n",
      "\u001b[1;32md:\\onedrive\\bf3\\code\\pytopo\\pytopo\\sweep\\base.py\u001b[0m in \u001b[0;36m__next__\u001b[1;34m(self)\u001b[0m\n\u001b[0;32m     36\u001b[0m             \u001b[0mself\u001b[0m\u001b[1;33m.\u001b[0m\u001b[0m_start_iter\u001b[0m\u001b[1;33m(\u001b[0m\u001b[1;33m)\u001b[0m\u001b[1;33m\u001b[0m\u001b[0m\n\u001b[0;32m     37\u001b[0m \u001b[1;33m\u001b[0m\u001b[0m\n\u001b[1;32m---> 38\u001b[1;33m         \u001b[1;32mreturn\u001b[0m \u001b[0mnext\u001b[0m\u001b[1;33m(\u001b[0m\u001b[0mself\u001b[0m\u001b[1;33m.\u001b[0m\u001b[0m_generator\u001b[0m\u001b[1;33m)\u001b[0m\u001b[1;33m\u001b[0m\u001b[0m\n\u001b[0m\u001b[0;32m     39\u001b[0m \u001b[1;33m\u001b[0m\u001b[0m\n\u001b[0;32m     40\u001b[0m     \u001b[1;32mdef\u001b[0m \u001b[0m__call__\u001b[0m\u001b[1;33m(\u001b[0m\u001b[0mself\u001b[0m\u001b[1;33m,\u001b[0m \u001b[1;33m*\u001b[0m\u001b[0msweep_objects\u001b[0m\u001b[1;33m)\u001b[0m\u001b[1;33m:\u001b[0m\u001b[1;33m\u001b[0m\u001b[0m\n",
      "\u001b[1;32md:\\onedrive\\bf3\\code\\pytopo\\pytopo\\sweep\\base.py\u001b[0m in \u001b[0;36m_generator_factory\u001b[1;34m(self)\u001b[0m\n\u001b[0;32m    213\u001b[0m \u001b[1;33m\u001b[0m\u001b[0m\n\u001b[0;32m    214\u001b[0m     \u001b[1;32mdef\u001b[0m \u001b[0m_generator_factory\u001b[0m\u001b[1;33m(\u001b[0m\u001b[0mself\u001b[0m\u001b[1;33m)\u001b[0m\u001b[1;33m->\u001b[0m\u001b[0mIterator\u001b[0m\u001b[1;33m:\u001b[0m\u001b[1;33m\u001b[0m\u001b[0m\n\u001b[1;32m--> 215\u001b[1;33m         \u001b[1;32myield\u001b[0m \u001b[0mself\u001b[0m\u001b[1;33m.\u001b[0m\u001b[0m_get_function\u001b[0m\u001b[1;33m(\u001b[0m\u001b[1;33m)\u001b[0m\u001b[1;33m\u001b[0m\u001b[0m\n\u001b[0m\u001b[0;32m    216\u001b[0m \u001b[1;33m\u001b[0m\u001b[0m\n\u001b[0;32m    217\u001b[0m \u001b[1;33m\u001b[0m\u001b[0m\n",
      "\u001b[1;32md:\\onedrive\\bf3\\code\\pytopo\\pytopo\\sweep\\decorators.py\u001b[0m in \u001b[0;36m__call__\u001b[1;34m(self, *args, **kwargs)\u001b[0m\n\u001b[0;32m     15\u001b[0m \u001b[1;33m\u001b[0m\u001b[0m\n\u001b[0;32m     16\u001b[0m     \u001b[1;32mdef\u001b[0m \u001b[0m__call__\u001b[0m\u001b[1;33m(\u001b[0m\u001b[0mself\u001b[0m\u001b[1;33m,\u001b[0m \u001b[1;33m*\u001b[0m\u001b[0margs\u001b[0m\u001b[1;33m,\u001b[0m \u001b[1;33m**\u001b[0m\u001b[0mkwargs\u001b[0m\u001b[1;33m)\u001b[0m\u001b[1;33m:\u001b[0m\u001b[1;33m\u001b[0m\u001b[0m\n\u001b[1;32m---> 17\u001b[1;33m         \u001b[1;32mreturn\u001b[0m \u001b[0mself\u001b[0m\u001b[1;33m.\u001b[0m\u001b[0m_caller\u001b[0m\u001b[1;33m(\u001b[0m\u001b[1;33m*\u001b[0m\u001b[0margs\u001b[0m\u001b[1;33m,\u001b[0m \u001b[1;33m**\u001b[0m\u001b[0mkwargs\u001b[0m\u001b[1;33m)\u001b[0m\u001b[1;33m\u001b[0m\u001b[0m\n\u001b[0m\u001b[0;32m     18\u001b[0m \u001b[1;33m\u001b[0m\u001b[0m\n\u001b[0;32m     19\u001b[0m     \u001b[1;33m@\u001b[0m\u001b[0mproperty\u001b[0m\u001b[1;33m\u001b[0m\u001b[0m\n",
      "\u001b[1;32md:\\onedrive\\bf3\\code\\pytopo\\pytopo\\sweep\\decorators.py\u001b[0m in \u001b[0;36minner\u001b[1;34m()\u001b[0m\n\u001b[0;32m     91\u001b[0m     \u001b[1;32mdef\u001b[0m \u001b[0mdecorator\u001b[0m\u001b[1;33m(\u001b[0m\u001b[0mfunc\u001b[0m\u001b[1;33m:\u001b[0m \u001b[0mCallable\u001b[0m\u001b[1;33m)\u001b[0m \u001b[1;33m->\u001b[0m\u001b[0mMeasureFunction\u001b[0m\u001b[1;33m:\u001b[0m\u001b[1;33m\u001b[0m\u001b[0m\n\u001b[0;32m     92\u001b[0m         \u001b[1;32mdef\u001b[0m \u001b[0minner\u001b[0m\u001b[1;33m(\u001b[0m\u001b[1;33m)\u001b[0m \u001b[1;33m->\u001b[0m\u001b[0mdict\u001b[0m\u001b[1;33m:\u001b[0m\u001b[1;33m\u001b[0m\u001b[0m\n\u001b[1;32m---> 93\u001b[1;33m             \u001b[0mresults\u001b[0m \u001b[1;33m=\u001b[0m \u001b[0mnp\u001b[0m\u001b[1;33m.\u001b[0m\u001b[0matleast_1d\u001b[0m\u001b[1;33m(\u001b[0m\u001b[0mfunc\u001b[0m\u001b[1;33m(\u001b[0m\u001b[1;33m)\u001b[0m\u001b[1;33m)\u001b[0m\u001b[1;33m\u001b[0m\u001b[0m\n\u001b[0m\u001b[0;32m     94\u001b[0m             \u001b[1;32mreturn\u001b[0m \u001b[1;33m{\u001b[0m\u001b[0mk\u001b[0m\u001b[1;33m[\u001b[0m\u001b[1;36m0\u001b[0m\u001b[1;33m]\u001b[0m\u001b[1;33m:\u001b[0m \u001b[0mv\u001b[0m \u001b[1;32mfor\u001b[0m \u001b[0mk\u001b[0m\u001b[1;33m,\u001b[0m \u001b[0mv\u001b[0m \u001b[1;32min\u001b[0m \u001b[0mzip\u001b[0m\u001b[1;33m(\u001b[0m\u001b[0mnames_units\u001b[0m\u001b[1;33m,\u001b[0m \u001b[0mresults\u001b[0m\u001b[1;33m)\u001b[0m\u001b[1;33m}\u001b[0m\u001b[1;33m\u001b[0m\u001b[0m\n\u001b[0;32m     95\u001b[0m \u001b[1;33m\u001b[0m\u001b[0m\n",
      "\u001b[1;32m<ipython-input-275-7af8d8577bea>\u001b[0m in \u001b[0;36mmeasure_acdc\u001b[1;34m(gain, Rseries, adder_atten)\u001b[0m\n\u001b[0;32m     44\u001b[0m         \u001b[0mtime\u001b[0m\u001b[1;33m.\u001b[0m\u001b[0msleep\u001b[0m\u001b[1;33m(\u001b[0m\u001b[1;36m3\u001b[0m\u001b[1;33m)\u001b[0m\u001b[1;33m\u001b[0m\u001b[0m\n\u001b[0;32m     45\u001b[0m \u001b[1;33m\u001b[0m\u001b[0m\n\u001b[1;32m---> 46\u001b[1;33m     \u001b[0mBz\u001b[0m \u001b[1;33m=\u001b[0m \u001b[0mami_z\u001b[0m\u001b[1;33m.\u001b[0m\u001b[0mfield\u001b[0m\u001b[1;33m(\u001b[0m\u001b[1;33m)\u001b[0m\u001b[1;33m\u001b[0m\u001b[0m\n\u001b[0m\u001b[0;32m     47\u001b[0m     \u001b[0mkey_raw1\u001b[0m \u001b[1;33m=\u001b[0m \u001b[0mkey2\u001b[0m\u001b[1;33m.\u001b[0m\u001b[0mvolt\u001b[0m\u001b[1;33m(\u001b[0m\u001b[1;33m)\u001b[0m\u001b[1;33m\u001b[0m\u001b[0m\n\u001b[0;32m     48\u001b[0m     \u001b[0mcurrent_dc1\u001b[0m \u001b[1;33m=\u001b[0m \u001b[1;33m-\u001b[0m\u001b[0mkey_raw1\u001b[0m\u001b[1;33m/\u001b[0m\u001b[0mgain\u001b[0m\u001b[1;33m\u001b[0m\u001b[0m\n",
      "\u001b[1;32md:\\onedrive\\bf3\\code\\qcodes\\qcodes\\instrument\\parameter.py\u001b[0m in \u001b[0;36m__call__\u001b[1;34m(self, *args, **kwargs)\u001b[0m\n\u001b[0;32m    281\u001b[0m         \u001b[1;32mif\u001b[0m \u001b[0mlen\u001b[0m\u001b[1;33m(\u001b[0m\u001b[0margs\u001b[0m\u001b[1;33m)\u001b[0m \u001b[1;33m==\u001b[0m \u001b[1;36m0\u001b[0m\u001b[1;33m:\u001b[0m\u001b[1;33m\u001b[0m\u001b[0m\n\u001b[0;32m    282\u001b[0m             \u001b[1;32mif\u001b[0m \u001b[0mhasattr\u001b[0m\u001b[1;33m(\u001b[0m\u001b[0mself\u001b[0m\u001b[1;33m,\u001b[0m \u001b[1;34m'get'\u001b[0m\u001b[1;33m)\u001b[0m\u001b[1;33m:\u001b[0m\u001b[1;33m\u001b[0m\u001b[0m\n\u001b[1;32m--> 283\u001b[1;33m                 \u001b[1;32mreturn\u001b[0m \u001b[0mself\u001b[0m\u001b[1;33m.\u001b[0m\u001b[0mget\u001b[0m\u001b[1;33m(\u001b[0m\u001b[1;33m)\u001b[0m\u001b[1;33m\u001b[0m\u001b[0m\n\u001b[0m\u001b[0;32m    284\u001b[0m             \u001b[1;32melse\u001b[0m\u001b[1;33m:\u001b[0m\u001b[1;33m\u001b[0m\u001b[0m\n\u001b[0;32m    285\u001b[0m                 raise NotImplementedError('no get cmd found in' +\n",
      "\u001b[1;32md:\\onedrive\\bf3\\code\\qcodes\\qcodes\\instrument\\parameter.py\u001b[0m in \u001b[0;36mget_wrapper\u001b[1;34m(*args, **kwargs)\u001b[0m\n\u001b[0;32m    404\u001b[0m             \u001b[1;32mexcept\u001b[0m \u001b[0mException\u001b[0m \u001b[1;32mas\u001b[0m \u001b[0me\u001b[0m\u001b[1;33m:\u001b[0m\u001b[1;33m\u001b[0m\u001b[0m\n\u001b[0;32m    405\u001b[0m                 \u001b[0me\u001b[0m\u001b[1;33m.\u001b[0m\u001b[0margs\u001b[0m \u001b[1;33m=\u001b[0m \u001b[0me\u001b[0m\u001b[1;33m.\u001b[0m\u001b[0margs\u001b[0m \u001b[1;33m+\u001b[0m \u001b[1;33m(\u001b[0m\u001b[1;34m'getting {}'\u001b[0m\u001b[1;33m.\u001b[0m\u001b[0mformat\u001b[0m\u001b[1;33m(\u001b[0m\u001b[0mself\u001b[0m\u001b[1;33m)\u001b[0m\u001b[1;33m,\u001b[0m\u001b[1;33m)\u001b[0m\u001b[1;33m\u001b[0m\u001b[0m\n\u001b[1;32m--> 406\u001b[1;33m                 \u001b[1;32mraise\u001b[0m \u001b[0me\u001b[0m\u001b[1;33m\u001b[0m\u001b[0m\n\u001b[0m\u001b[0;32m    407\u001b[0m \u001b[1;33m\u001b[0m\u001b[0m\n\u001b[0;32m    408\u001b[0m         \u001b[1;32mreturn\u001b[0m \u001b[0mget_wrapper\u001b[0m\u001b[1;33m\u001b[0m\u001b[0m\n",
      "\u001b[1;32md:\\onedrive\\bf3\\code\\qcodes\\qcodes\\instrument\\parameter.py\u001b[0m in \u001b[0;36mget_wrapper\u001b[1;34m(*args, **kwargs)\u001b[0m\n\u001b[0;32m    360\u001b[0m             \u001b[1;32mtry\u001b[0m\u001b[1;33m:\u001b[0m\u001b[1;33m\u001b[0m\u001b[0m\n\u001b[0;32m    361\u001b[0m                 \u001b[1;31m# There might be cases where a .get also has args/kwargs\u001b[0m\u001b[1;33m\u001b[0m\u001b[1;33m\u001b[0m\u001b[0m\n\u001b[1;32m--> 362\u001b[1;33m                 \u001b[0mvalue\u001b[0m \u001b[1;33m=\u001b[0m \u001b[0mget_function\u001b[0m\u001b[1;33m(\u001b[0m\u001b[1;33m*\u001b[0m\u001b[0margs\u001b[0m\u001b[1;33m,\u001b[0m \u001b[1;33m**\u001b[0m\u001b[0mkwargs\u001b[0m\u001b[1;33m)\u001b[0m\u001b[1;33m\u001b[0m\u001b[0m\n\u001b[0m\u001b[0;32m    363\u001b[0m                 \u001b[0mself\u001b[0m\u001b[1;33m.\u001b[0m\u001b[0mraw_value\u001b[0m \u001b[1;33m=\u001b[0m \u001b[0mvalue\u001b[0m\u001b[1;33m\u001b[0m\u001b[0m\n\u001b[0;32m    364\u001b[0m \u001b[1;33m\u001b[0m\u001b[0m\n",
      "\u001b[1;32md:\\onedrive\\bf3\\code\\qcodes\\qcodes\\utils\\command.py\u001b[0m in \u001b[0;36m__call__\u001b[1;34m(self, *args)\u001b[0m\n\u001b[0;32m    175\u001b[0m             raise TypeError(\n\u001b[0;32m    176\u001b[0m                 'command takes exactly {} args'.format(self.arg_count))\n\u001b[1;32m--> 177\u001b[1;33m         \u001b[1;32mreturn\u001b[0m \u001b[0mself\u001b[0m\u001b[1;33m.\u001b[0m\u001b[0mexec_function\u001b[0m\u001b[1;33m(\u001b[0m\u001b[1;33m*\u001b[0m\u001b[0margs\u001b[0m\u001b[1;33m)\u001b[0m\u001b[1;33m\u001b[0m\u001b[0m\n\u001b[0m",
      "\u001b[1;32md:\\onedrive\\bf3\\code\\qcodes\\qcodes\\utils\\command.py\u001b[0m in \u001b[0;36mcall_by_str\u001b[1;34m(self, *args)\u001b[0m\n\u001b[0;32m    124\u001b[0m     \u001b[1;32mdef\u001b[0m \u001b[0mcall_by_str\u001b[0m\u001b[1;33m(\u001b[0m\u001b[0mself\u001b[0m\u001b[1;33m,\u001b[0m \u001b[1;33m*\u001b[0m\u001b[0margs\u001b[0m\u001b[1;33m)\u001b[0m\u001b[1;33m:\u001b[0m\u001b[1;33m\u001b[0m\u001b[0m\n\u001b[0;32m    125\u001b[0m         \u001b[1;34m\"\"\"Execute a formatted string.\"\"\"\u001b[0m\u001b[1;33m\u001b[0m\u001b[0m\n\u001b[1;32m--> 126\u001b[1;33m         \u001b[1;32mreturn\u001b[0m \u001b[0mself\u001b[0m\u001b[1;33m.\u001b[0m\u001b[0mexec_str\u001b[0m\u001b[1;33m(\u001b[0m\u001b[0mself\u001b[0m\u001b[1;33m.\u001b[0m\u001b[0mcmd_str\u001b[0m\u001b[1;33m.\u001b[0m\u001b[0mformat\u001b[0m\u001b[1;33m(\u001b[0m\u001b[1;33m*\u001b[0m\u001b[0margs\u001b[0m\u001b[1;33m)\u001b[0m\u001b[1;33m)\u001b[0m\u001b[1;33m\u001b[0m\u001b[0m\n\u001b[0m\u001b[0;32m    127\u001b[0m \u001b[1;33m\u001b[0m\u001b[0m\n\u001b[0;32m    128\u001b[0m     \u001b[1;32mdef\u001b[0m \u001b[0mcall_by_str_parsed_out\u001b[0m\u001b[1;33m(\u001b[0m\u001b[0mself\u001b[0m\u001b[1;33m,\u001b[0m \u001b[1;33m*\u001b[0m\u001b[0margs\u001b[0m\u001b[1;33m)\u001b[0m\u001b[1;33m:\u001b[0m\u001b[1;33m\u001b[0m\u001b[0m\n",
      "\u001b[1;32md:\\onedrive\\bf3\\code\\qcodes\\qcodes\\instrument\\base.py\u001b[0m in \u001b[0;36mask\u001b[1;34m(self, cmd)\u001b[0m\n\u001b[0;32m    744\u001b[0m             \u001b[0minst\u001b[0m \u001b[1;33m=\u001b[0m \u001b[0mrepr\u001b[0m\u001b[1;33m(\u001b[0m\u001b[0mself\u001b[0m\u001b[1;33m)\u001b[0m\u001b[1;33m\u001b[0m\u001b[0m\n\u001b[0;32m    745\u001b[0m             \u001b[0me\u001b[0m\u001b[1;33m.\u001b[0m\u001b[0margs\u001b[0m \u001b[1;33m=\u001b[0m \u001b[0me\u001b[0m\u001b[1;33m.\u001b[0m\u001b[0margs\u001b[0m \u001b[1;33m+\u001b[0m \u001b[1;33m(\u001b[0m\u001b[1;34m'asking '\u001b[0m \u001b[1;33m+\u001b[0m \u001b[0mrepr\u001b[0m\u001b[1;33m(\u001b[0m\u001b[0mcmd\u001b[0m\u001b[1;33m)\u001b[0m \u001b[1;33m+\u001b[0m \u001b[1;34m' to '\u001b[0m \u001b[1;33m+\u001b[0m \u001b[0minst\u001b[0m\u001b[1;33m,\u001b[0m\u001b[1;33m)\u001b[0m\u001b[1;33m\u001b[0m\u001b[0m\n\u001b[1;32m--> 746\u001b[1;33m             \u001b[1;32mraise\u001b[0m \u001b[0me\u001b[0m\u001b[1;33m\u001b[0m\u001b[0m\n\u001b[0m\u001b[0;32m    747\u001b[0m \u001b[1;33m\u001b[0m\u001b[0m\n\u001b[0;32m    748\u001b[0m     \u001b[1;32mdef\u001b[0m \u001b[0mask_raw\u001b[0m\u001b[1;33m(\u001b[0m\u001b[0mself\u001b[0m\u001b[1;33m,\u001b[0m \u001b[0mcmd\u001b[0m\u001b[1;33m:\u001b[0m \u001b[0mstr\u001b[0m\u001b[1;33m)\u001b[0m \u001b[1;33m->\u001b[0m \u001b[0mstr\u001b[0m\u001b[1;33m:\u001b[0m\u001b[1;33m\u001b[0m\u001b[0m\n",
      "\u001b[1;32md:\\onedrive\\bf3\\code\\qcodes\\qcodes\\instrument\\base.py\u001b[0m in \u001b[0;36mask\u001b[1;34m(self, cmd)\u001b[0m\n\u001b[0;32m    737\u001b[0m         \"\"\"\n\u001b[0;32m    738\u001b[0m         \u001b[1;32mtry\u001b[0m\u001b[1;33m:\u001b[0m\u001b[1;33m\u001b[0m\u001b[0m\n\u001b[1;32m--> 739\u001b[1;33m             \u001b[0manswer\u001b[0m \u001b[1;33m=\u001b[0m \u001b[0mself\u001b[0m\u001b[1;33m.\u001b[0m\u001b[0mask_raw\u001b[0m\u001b[1;33m(\u001b[0m\u001b[0mcmd\u001b[0m\u001b[1;33m)\u001b[0m\u001b[1;33m\u001b[0m\u001b[0m\n\u001b[0m\u001b[0;32m    740\u001b[0m \u001b[1;33m\u001b[0m\u001b[0m\n\u001b[0;32m    741\u001b[0m             \u001b[1;32mreturn\u001b[0m \u001b[0manswer\u001b[0m\u001b[1;33m\u001b[0m\u001b[0m\n",
      "\u001b[1;32md:\\onedrive\\bf3\\code\\qcodes\\qcodes\\instrument\\ip.py\u001b[0m in \u001b[0;36mask_raw\u001b[1;34m(self, cmd)\u001b[0m\n\u001b[0;32m    187\u001b[0m         \u001b[1;32mwith\u001b[0m \u001b[0mself\u001b[0m\u001b[1;33m.\u001b[0m\u001b[0m_ensure_connection\u001b[0m\u001b[1;33m:\u001b[0m\u001b[1;33m\u001b[0m\u001b[0m\n\u001b[0;32m    188\u001b[0m             \u001b[0mself\u001b[0m\u001b[1;33m.\u001b[0m\u001b[0m_send\u001b[0m\u001b[1;33m(\u001b[0m\u001b[0mcmd\u001b[0m\u001b[1;33m)\u001b[0m\u001b[1;33m\u001b[0m\u001b[0m\n\u001b[1;32m--> 189\u001b[1;33m             \u001b[1;32mreturn\u001b[0m \u001b[0mself\u001b[0m\u001b[1;33m.\u001b[0m\u001b[0m_recv\u001b[0m\u001b[1;33m(\u001b[0m\u001b[1;33m)\u001b[0m\u001b[1;33m\u001b[0m\u001b[0m\n\u001b[0m\u001b[0;32m    190\u001b[0m \u001b[1;33m\u001b[0m\u001b[0m\n\u001b[0;32m    191\u001b[0m     \u001b[1;32mdef\u001b[0m \u001b[0m__del__\u001b[0m\u001b[1;33m(\u001b[0m\u001b[0mself\u001b[0m\u001b[1;33m)\u001b[0m\u001b[1;33m:\u001b[0m\u001b[1;33m\u001b[0m\u001b[0m\n",
      "\u001b[1;32md:\\onedrive\\bf3\\code\\qcodes\\qcodes\\instrument\\ip.py\u001b[0m in \u001b[0;36m_recv\u001b[1;34m(self)\u001b[0m\n\u001b[0;32m    150\u001b[0m \u001b[1;33m\u001b[0m\u001b[0m\n\u001b[0;32m    151\u001b[0m     \u001b[1;32mdef\u001b[0m \u001b[0m_recv\u001b[0m\u001b[1;33m(\u001b[0m\u001b[0mself\u001b[0m\u001b[1;33m)\u001b[0m\u001b[1;33m:\u001b[0m\u001b[1;33m\u001b[0m\u001b[0m\n\u001b[1;32m--> 152\u001b[1;33m         \u001b[0mresult\u001b[0m \u001b[1;33m=\u001b[0m \u001b[0mself\u001b[0m\u001b[1;33m.\u001b[0m\u001b[0m_socket\u001b[0m\u001b[1;33m.\u001b[0m\u001b[0mrecv\u001b[0m\u001b[1;33m(\u001b[0m\u001b[0mself\u001b[0m\u001b[1;33m.\u001b[0m\u001b[0m_buffer_size\u001b[0m\u001b[1;33m)\u001b[0m\u001b[1;33m\u001b[0m\u001b[0m\n\u001b[0m\u001b[0;32m    153\u001b[0m         \u001b[0mlog\u001b[0m\u001b[1;33m.\u001b[0m\u001b[0mdebug\u001b[0m\u001b[1;33m(\u001b[0m\u001b[1;34mf\"Got {result} from instrument {self.name}\"\u001b[0m\u001b[1;33m)\u001b[0m\u001b[1;33m\u001b[0m\u001b[0m\n\u001b[0;32m    154\u001b[0m         \u001b[1;32mif\u001b[0m \u001b[0mresult\u001b[0m \u001b[1;33m==\u001b[0m \u001b[1;34mb''\u001b[0m\u001b[1;33m:\u001b[0m\u001b[1;33m\u001b[0m\u001b[0m\n",
      "\u001b[1;31mtimeout\u001b[0m: ('timed out', \"asking 'FIELD:MAG?' to <AMI430: AMI430_z>\", 'getting AMI430_z_field')"
     ]
    }
   ],
   "source": [
    "TG2 = mdac.ch33\n",
    "initialize(TG2)\n",
    "\n",
    "#pinch-off variables (standard units: Volts, seconds, Ohms)\n",
    "Vgate = 0.35\n",
    "n_gate_points = 500\n",
    "n_bias_points = 101\n",
    "Rseries = 23e3\n",
    "device_name = \"NS_400\"\n",
    "\n",
    "Bias = 1e-3 #takes into account attenuation of 100.\n",
    "lockin_amplitude = 1e-3 #to be attenuated by 100.\n",
    "time_constant = 0.3\n",
    "\n",
    "keyNPLC = 1\n",
    "gain = 1e6\n",
    "attenuation=1e-2\n",
    "\n",
    "#pinch-off functions, from now on you don't have to change any parameter\n",
    "def setup():    \n",
    "    key2.NPLC(keyNPLC)\n",
    "    lockin2.amplitude(lockin_amplitude) # to be attenuated by 100. So 10uV excitation when this is 1mV\n",
    "    lockin2_dc(Bias)\n",
    "    lockin2.time_constant(time_constant)\n",
    "    mdac_TG2_voltage(Vgate)\n",
    "    time.sleep(3)\n",
    "    \n",
    "def cleanup(): \n",
    "    lockin2.amplitude(0)\n",
    "    lockin2_dc(0)\n",
    "    mdac_TG2_voltage(Vgate)\n",
    "\n",
    "@getter(('current1', 'A'), ('raw_voltage_dc1', 'V'), ('conductance1', '2e^2/h'),\n",
    "        ('Lockin1_X', 'V'), ('Lockin1_Y', 'V'), ('Lockin1_R', 'V'),\n",
    "        ('Lockin1_phase', 'deg'), ('Lockin1_excitation', 'V'),\n",
    "        ('B_z', 'T')\n",
    "        )\n",
    "def measure_acdc(gain=gain, Rseries=Rseries, adder_atten=attenuation):\n",
    "    time.sleep(1.7*time_constant)\n",
    "    interval = 2*Bias/(n_bias_points-1)/attenuation # this interval is the distance btw two points\n",
    "    if np.abs(lockin2.sine_outdc() - Bias/attenuation) < 0.5*interval:\n",
    "        time.sleep(3)\n",
    "    if np.abs(np.abs(lockin2.sine_outdc())-0.05) < 1.5*interval: # make this range larger than distance btw two points\n",
    "        time.sleep(3)\n",
    "        \n",
    "    Bz = ami_z.field()\n",
    "    key_raw1 = key2.volt()\n",
    "    current_dc1 = -key_raw1/gain\n",
    "    Vac1     = adder_atten*lockin2.amplitude()\n",
    "    L1P     = lockin2.P()\n",
    "    L1R     = lockin2.R()\n",
    "    L1Y     = lockin2.Y()\n",
    "    # the above lines (excluding time.sleep) take at least 75ms to execute. \n",
    "    L1X     = lockin2.X()\n",
    "    current_ac = L1X/gain    \n",
    "    try:\n",
    "        g1 = 12906/(Vac1/current_ac - Rseries) #[2e^2/h]\n",
    "    except ZeroDivisionError:\n",
    "        g1 = 0\n",
    "    \n",
    "    result  = current_dc1, key_raw1, g1, L1X, L1Y, L1R, L1P, Vac1, Bz\n",
    "    return result\n",
    "\n",
    "result = do_experiment(\n",
    "    \"Q326zz_Bias-TG_sweep_Bx_ramping_down/\" + device_name,\n",
    "    nest(\n",
    "        #sweep(mdac_TG2_voltage, np.linspace(Vmin, Vmax, n_gate_points)),\n",
    "        sweep(time_sweep, np.linspace(0, 1, 201)),\n",
    "        sweep(lockin2_dc, np.linspace(Bias, -Bias, n_bias_points)),\n",
    "        measure(measure_acdc)\n",
    "    ),\n",
    "    setup,\n",
    "    cleanup,\n",
    ")"
   ]
  },
  {
   "cell_type": "code",
   "execution_count": 210,
   "metadata": {},
   "outputs": [
    {
     "data": {
      "text/plain": [
       "-7.2937984896e-07"
      ]
     },
     "execution_count": 210,
     "metadata": {},
     "output_type": "execute_result"
    }
   ],
   "source": [
    "lockin2.X()"
   ]
  },
  {
   "cell_type": "code",
   "execution_count": 278,
   "metadata": {},
   "outputs": [],
   "source": [
    "CUT = mdac.ch49\n",
    "initialize(CUT)"
   ]
  },
  {
   "cell_type": "code",
   "execution_count": 279,
   "metadata": {},
   "outputs": [
    {
     "data": {
      "text/plain": [
       "{'mdac_CUT_voltage': 1}"
      ]
     },
     "execution_count": 279,
     "metadata": {},
     "output_type": "execute_result"
    }
   ],
   "source": [
    "mdac_CUT_voltage(1)"
   ]
  },
  {
   "cell_type": "code",
   "execution_count": 277,
   "metadata": {},
   "outputs": [
    {
     "data": {
      "text/plain": [
       "{'mdac_PG_voltage': 1}"
      ]
     },
     "execution_count": 277,
     "metadata": {},
     "output_type": "execute_result"
    }
   ],
   "source": [
    "mdac_PG_voltage(1)"
   ]
  },
  {
   "cell_type": "code",
   "execution_count": 281,
   "metadata": {},
   "outputs": [
    {
     "data": {
      "text/plain": [
       "{'mdac_TG2_voltage': 0.18}"
      ]
     },
     "execution_count": 281,
     "metadata": {},
     "output_type": "execute_result"
    }
   ],
   "source": [
    "mdac_TG2_voltage(0.18)"
   ]
  },
  {
   "cell_type": "code",
   "execution_count": 280,
   "metadata": {},
   "outputs": [
    {
     "name": "stdout",
     "output_type": "stream",
     "text": [
      "Starting experimental run with id: 39\n"
     ]
    }
   ],
   "source": [
    "TG2 = mdac.ch33\n",
    "initialize(TG2)\n",
    "\n",
    "#pinch-off variables (standard units: Volts, seconds, Ohms)\n",
    "Vmin = 0.18\n",
    "Vmax = 0.6\n",
    "n_gate_points = 169\n",
    "n_bias_points = 151\n",
    "Rseries = 23e3\n",
    "device_name = \"NS_400\"\n",
    "\n",
    "Bias = 3e-3 #takes into account attenuation of 100.\n",
    "lockin_amplitude = 1e-3 #to be attenuated by 100.\n",
    "time_constant = 0.3\n",
    "\n",
    "keyNPLC = 1\n",
    "gain = 1e6\n",
    "attenuation=1e-2\n",
    "\n",
    "#pinch-off functions, from now on you don't have to change any parameter\n",
    "def setup():    \n",
    "    key2.NPLC(keyNPLC)\n",
    "    lockin2.amplitude(lockin_amplitude) # to be attenuated by 100. So 10uV excitation when this is 1mV\n",
    "    lockin2_dc(Bias)\n",
    "    lockin2.time_constant(time_constant)\n",
    "    mdac_TG2_voltage(Vmin)\n",
    "    time.sleep(3)\n",
    "    \n",
    "def cleanup(): \n",
    "    lockin2.amplitude(0)\n",
    "    lockin2_dc(0)\n",
    "    mdac_TG2_voltage(Vmin)\n",
    "\n",
    "@getter(('current1', 'A'), ('raw_voltage_dc1', 'V'), ('conductance1', '2e^2/h'),\n",
    "        ('Lockin1_X', 'V'), ('Lockin1_Y', 'V'), ('Lockin1_R', 'V'),\n",
    "        ('Lockin1_phase', 'deg'), ('Lockin1_excitation', 'V'),\n",
    "        )\n",
    "def measure_acdc(gain=gain, Rseries=Rseries, adder_atten=attenuation):\n",
    "    time.sleep(1.7*time_constant)\n",
    "    interval = 2*Bias/(n_bias_points-1)/attenuation # this interval is the distance btw two points\n",
    "    if np.abs(lockin2.sine_outdc() - Bias/attenuation) < 0.5*interval:\n",
    "        time.sleep(3)\n",
    "    if np.abs(np.abs(lockin2.sine_outdc())-0.05) < 1.5*interval: # make this range larger than distance btw two points\n",
    "        time.sleep(3)\n",
    "        \n",
    "    #Bz = ami_z.field()\n",
    "    key_raw1 = key2.volt()\n",
    "    current_dc1 = -key_raw1/gain\n",
    "    Vac1     = adder_atten*lockin2.amplitude()\n",
    "    L1P     = lockin2.P()\n",
    "    L1R     = lockin2.R()\n",
    "    L1Y     = lockin2.Y()\n",
    "    # the above lines (excluding time.sleep) take at least 75ms to execute. \n",
    "    L1X     = lockin2.X()\n",
    "    current_ac = L1X/gain    \n",
    "    try:\n",
    "        g1 = 12906/(Vac1/current_ac - Rseries) #[2e^2/h]\n",
    "    except ZeroDivisionError:\n",
    "        g1 = 0\n",
    "    \n",
    "    result  = current_dc1, key_raw1, g1, L1X, L1Y, L1R, L1P, Vac1#, Bz\n",
    "    return result\n",
    "\n",
    "result = do_experiment(\n",
    "    \"Q326zz_Bias-TG_sweep_Bx_ramping_down/\" + device_name,\n",
    "    nest(\n",
    "        sweep(mdac_TG2_voltage, np.linspace(Vmin, Vmax, n_gate_points)),\n",
    "        #sweep(time_sweep, np.linspace(0, 1, 201)),\n",
    "        sweep(lockin2_dc, np.linspace(Bias, -Bias, n_bias_points)),\n",
    "        measure(measure_acdc)\n",
    "    ),\n",
    "    setup,\n",
    "    cleanup,\n",
    ")"
   ]
  },
  {
   "cell_type": "markdown",
   "metadata": {},
   "source": [
    "### Bx - Bias sweep"
   ]
  },
  {
   "cell_type": "code",
   "execution_count": 251,
   "metadata": {},
   "outputs": [],
   "source": [
    "ami_z.ramp_rate(0.7e-3)"
   ]
  },
  {
   "cell_type": "code",
   "execution_count": 274,
   "metadata": {},
   "outputs": [],
   "source": [
    "ami_z.ramp_to(0)"
   ]
  },
  {
   "cell_type": "code",
   "execution_count": 265,
   "metadata": {},
   "outputs": [
    {
     "data": {
      "text/plain": [
       "5.9065732"
      ]
     },
     "execution_count": 265,
     "metadata": {},
     "output_type": "execute_result"
    }
   ],
   "source": [
    "ami_z.field()"
   ]
  },
  {
   "cell_type": "code",
   "execution_count": 247,
   "metadata": {},
   "outputs": [
    {
     "name": "stdout",
     "output_type": "stream",
     "text": [
      "Starting experimental run with id: 32\n"
     ]
    }
   ],
   "source": [
    "TG2 = mdac.ch33\n",
    "initialize(TG2)\n",
    "\n",
    "#pinch-off variables (standard units: Volts, seconds, Ohms)\n",
    "Vmin = 0.2\n",
    "Vmax = 0.7\n",
    "n_gate_points = 101\n",
    "n_bias_points = 71\n",
    "Rseries = 23e3\n",
    "device_name = \"NS_400\"\n",
    "\n",
    "Bias = 0.7e-3 #takes into account attenuation of 100.\n",
    "lockin_amplitude = 1e-3 #to be attenuated by 100.\n",
    "time_constant = 0.3\n",
    "\n",
    "keyNPLC = 1\n",
    "gain = 1e6\n",
    "attenuation=1e-2\n",
    "\n",
    "#pinch-off functions, from now on you don't have to change any parameter\n",
    "def setup():    \n",
    "    key2.NPLC(keyNPLC)\n",
    "    lockin2.amplitude(lockin_amplitude) # to be attenuated by 100. So 10uV excitation when this is 1mV\n",
    "    lockin2_dc(Bias)\n",
    "    lockin2.time_constant(time_constant)\n",
    "    mdac_TG2_voltage(Vmin)\n",
    "    time.sleep(3)\n",
    "    \n",
    "def cleanup(): \n",
    "    lockin2.amplitude(0)\n",
    "    lockin2_dc(0)\n",
    "    mdac_TG2_voltage(0)\n",
    "\n",
    "@getter(('current1', 'A'), ('raw_voltage_dc1', 'V'), ('conductance1', '2e^2/h'),\n",
    "        ('Lockin1_X', 'V'), ('Lockin1_Y', 'V'), ('Lockin1_R', 'V'),\n",
    "        ('Lockin1_phase', 'deg'), ('Lockin1_excitation', 'V'),\n",
    "        )\n",
    "def measure_acdc(gain=gain, Rseries=Rseries, adder_atten=attenuation):\n",
    "    time.sleep(1.3*time_constant)\n",
    "    key_raw1 = key2.volt()\n",
    "    current_dc1 = -key_raw1/gain\n",
    "    Vac1     = adder_atten*lockin2.amplitude()\n",
    "    L1P     = lockin2.P()\n",
    "    L1R     = lockin2.R()\n",
    "    L1Y     = lockin2.Y()\n",
    "    # the above lines (excluding time.sleep) take at least 75ms to execute. \n",
    "    L1X     = lockin2.X()\n",
    "    current_ac = L1X/gain    \n",
    "    try:\n",
    "        g1 = 12906/(Vac1/current_ac - Rseries) #[2e^2/h]\n",
    "    except ZeroDivisionError:\n",
    "        g1 = 0\n",
    "    \n",
    "    result  = current_dc1, key_raw1, g1, L1X, L1Y, L1R, L1P, Vac1\n",
    "    return result\n",
    "\n",
    "result = do_experiment(\n",
    "    \"Q326zz_Bias-TG_sweep_Bx/\" + device_name,\n",
    "    nest(\n",
    "        sweep(lockin2_dc, np.linspace(Bias, -Bias, n_bias_points)),\n",
    "        sweep(mdac_TG2_voltage, np.linspace(Vmin, Vmax, n_gate_points)),\n",
    "        measure(measure_acdc)\n",
    "    ),\n",
    "    setup,\n",
    "    cleanup,\n",
    ") "
   ]
  },
  {
   "cell_type": "code",
   "execution_count": 219,
   "metadata": {},
   "outputs": [],
   "source": [
    "ami_x.ramp_rate(0.5e-3)"
   ]
  },
  {
   "cell_type": "code",
   "execution_count": 142,
   "metadata": {},
   "outputs": [
    {
     "data": {
      "text/plain": [
       "0.0098521"
      ]
     },
     "execution_count": 142,
     "metadata": {},
     "output_type": "execute_result"
    }
   ],
   "source": [
    "ami_x.field()"
   ]
  },
  {
   "cell_type": "code",
   "execution_count": 193,
   "metadata": {},
   "outputs": [
    {
     "name": "stdout",
     "output_type": "stream",
     "text": [
      "Starting experimental run with id: 9\n"
     ]
    }
   ],
   "source": [
    "TG2 = mdac.ch33\n",
    "initialize(TG2)\n",
    "\n",
    "#pinch-off variables (standard units: Volts, seconds, Ohms)\n",
    "gate = 0.35\n",
    "n_bias_points = 101\n",
    "Rseries = 23e3\n",
    "device_name = \"NS_400\"\n",
    "\n",
    "Bias = 1e-3 #takes into account attenuation of 100.\n",
    "lockin_amplitude = 1e-3 #to be attenuated by 100.\n",
    "time_constant = 0.3\n",
    "\n",
    "keyNPLC = 1\n",
    "gain = 1e6\n",
    "attenuation=1e-2\n",
    "\n",
    "#pinch-off functions, from now on you don't have to change any parameter\n",
    "def setup():    \n",
    "    key2.NPLC(keyNPLC)\n",
    "    lockin2.amplitude(lockin_amplitude) # to be attenuated by 100. So 10uV excitation when this is 1mV\n",
    "    lockin2_dc(Bias)\n",
    "    lockin2.time_constant(time_constant)\n",
    "    mdac_TG2_voltage(gate)\n",
    "    time.sleep(3)\n",
    "    \n",
    "def cleanup(): \n",
    "    lockin2.amplitude(0)\n",
    "    lockin2_dc(0)\n",
    "    mdac_TG2_voltage(gate)\n",
    "\n",
    "@getter(('current1', 'A'), ('raw_voltage_dc1', 'V'), ('conductance1', '2e^2/h'),\n",
    "        ('Lockin1_X', 'V'), ('Lockin1_Y', 'V'), ('Lockin1_R', 'V'),\n",
    "        ('Lockin1_phase', 'deg'), ('Lockin1_excitation', 'V'),\n",
    "        )\n",
    "def measure_acdc(gain=gain, Rseries=Rseries, adder_atten=attenuation):\n",
    "    time.sleep(1.3*time_constant)\n",
    "    interval = 2*Bias/(n_bias_points-1)/attenuation # this interval is the distance btw two points\n",
    "    if np.abs(lockin2.sine_outdc() - Bias/attenuation) < 0.5*interval:\n",
    "        time.sleep(3)\n",
    "    if np.abs(np.abs(lockin2.sine_outdc())-0.05) < 1.5*interval: # make this range larger than distance btw two points\n",
    "        time.sleep(3)\n",
    "    key_raw1 = key2.volt()\n",
    "    current_dc1 = -key_raw1/gain\n",
    "    Vac1     = adder_atten*lockin2.amplitude()\n",
    "    L1P     = lockin2.P()\n",
    "    L1R     = lockin2.R()\n",
    "    L1Y     = lockin2.Y()\n",
    "    # the above lines (excluding time.sleep) take at least 75ms to execute. \n",
    "    L1X     = lockin2.X()\n",
    "    current_ac = L1X/gain    \n",
    "    try:\n",
    "        g1 = 12906/(Vac1/current_ac - Rseries) #[2e^2/h]\n",
    "    except ZeroDivisionError:\n",
    "        g1 = 0\n",
    "    \n",
    "    result  = current_dc1, key_raw1, g1, L1X, L1Y, L1R, L1P, Vac1\n",
    "    return result\n",
    "\n",
    "result = do_experiment(\n",
    "    \"Q326zz_Bx-Bias_sweep/\" + device_name,\n",
    "    nest(\n",
    "        sweep(ami_x.field, np.linspace(0.2, 0.9, 71)),\n",
    "        sweep(lockin2_dc, np.linspace(Bias, -Bias, n_bias_points)),\n",
    "        #sweep(mdac_TG2_voltage, np.linspace(Vmin, Vmax, n_gate_points)),\n",
    "        measure(measure_acdc)\n",
    "    ),\n",
    "    setup,\n",
    "    cleanup,\n",
    ") "
   ]
  },
  {
   "cell_type": "code",
   "execution_count": null,
   "metadata": {},
   "outputs": [],
   "source": []
  },
  {
   "cell_type": "code",
   "execution_count": null,
   "metadata": {},
   "outputs": [],
   "source": [
    "TG2 = mdac.ch33\n",
    "initialize(TG2)\n",
    "\n",
    "#pinch-off variables (standard units: Volts, seconds, Ohms)\n",
    "gate = 0.5\n",
    "n_bias_points = 101\n",
    "Rseries = 23e3\n",
    "device_name = \"NS_400\"\n",
    "\n",
    "Bias = 1e-3 #takes into account attenuation of 100.\n",
    "lockin_amplitude = 1e-3 #to be attenuated by 100.\n",
    "time_constant = 0.3\n",
    "\n",
    "keyNPLC = 1\n",
    "gain = 1e6\n",
    "attenuation=1e-2\n",
    "\n",
    "#pinch-off functions, from now on you don't have to change any parameter\n",
    "def setup():    \n",
    "    key2.NPLC(keyNPLC)\n",
    "    lockin2.amplitude(lockin_amplitude) # to be attenuated by 100. So 10uV excitation when this is 1mV\n",
    "    lockin2_dc(Bias)\n",
    "    lockin2.time_constant(time_constant)\n",
    "    mdac_TG2_voltage(gate)\n",
    "    time.sleep(3)\n",
    "    \n",
    "def cleanup(): \n",
    "    lockin2.amplitude(0)\n",
    "    lockin2_dc(0)\n",
    "    mdac_TG2_voltage(gate)\n",
    "\n",
    "@getter(('current1', 'A'), ('raw_voltage_dc1', 'V'), ('conductance1', '2e^2/h'),\n",
    "        ('Lockin1_X', 'V'), ('Lockin1_Y', 'V'), ('Lockin1_R', 'V'),\n",
    "        ('Lockin1_phase', 'deg'), ('Lockin1_excitation', 'V'),\n",
    "        )\n",
    "def measure_acdc(gain=gain, Rseries=Rseries, adder_atten=attenuation):\n",
    "    time.sleep(1.3*time_constant)\n",
    "    interval = 2*Bias/(n_bias_points-1)/attenuation # this interval is the distance btw two points\n",
    "    if np.abs(lockin2.sine_outdc() - Bias/attenuation) < 0.5*interval:\n",
    "        time.sleep(3)\n",
    "    if np.abs(np.abs(lockin2.sine_outdc())-0.05) < 1.5*interval: # make this range larger than distance btw two points\n",
    "        time.sleep(3)\n",
    "    key_raw1 = key2.volt()\n",
    "    current_dc1 = -key_raw1/gain\n",
    "    Vac1     = adder_atten*lockin2.amplitude()\n",
    "    L1P     = lockin2.P()\n",
    "    L1R     = lockin2.R()\n",
    "    L1Y     = lockin2.Y()\n",
    "    # the above lines (excluding time.sleep) take at least 75ms to execute. \n",
    "    L1X     = lockin2.X()\n",
    "    current_ac = L1X/gain    \n",
    "    try:\n",
    "        g1 = 12906/(Vac1/current_ac - Rseries) #[2e^2/h]\n",
    "    except ZeroDivisionError:\n",
    "        g1 = 0\n",
    "    \n",
    "    result  = current_dc1, key_raw1, g1, L1X, L1Y, L1R, L1P, Vac1\n",
    "    return result\n",
    "\n",
    "result = do_experiment(\n",
    "    \"Q326zz_Bx-Bias_sweep/\" + device_name,\n",
    "    nest(\n",
    "        sweep(ami_x.field, np.linspace(0, 0.2, 21)),\n",
    "        sweep(lockin2_dc, np.linspace(Bias, -Bias, n_bias_points)),\n",
    "        #sweep(mdac_TG2_voltage, np.linspace(Vmin, Vmax, n_gate_points)),\n",
    "        measure(measure_acdc)\n",
    "    ),\n",
    "    setup,\n",
    "    cleanup,\n",
    ") "
   ]
  },
  {
   "cell_type": "code",
   "execution_count": 119,
   "metadata": {},
   "outputs": [
    {
     "name": "stdout",
     "output_type": "stream",
     "text": [
      "Starting experimental run with id: 26\n"
     ]
    }
   ],
   "source": [
    "TG3 = mdac.ch10\n",
    "initialize(TG3)\n",
    "\n",
    "#pinch-off variables (standard units: Volts, seconds, Ohms)\n",
    "Vmin = -0.3\n",
    "Vmax = -0.1\n",
    "n_gate_points = 101\n",
    "n_bias_points = 151\n",
    "Rseries = 13e3\n",
    "device_name = \"SQUID_320\"\n",
    "\n",
    "Bias = 1.5e-3 #takes into account attenuation of 100.\n",
    "lockin_amplitude = 1e-3 #to be attenuated by 100.\n",
    "time_constant = 0.3\n",
    "\n",
    "keyNPLC = 1\n",
    "gain = 1e6\n",
    "attenuation=1e-2\n",
    "\n",
    "#pinch-off functions, from now on you don't have to change any parameter\n",
    "def setup():    \n",
    "    key3.NPLC(keyNPLC)\n",
    "    lockin3.amplitude(lockin_amplitude) # to be attenuated by 100. So 10uV excitation when this is 1mV\n",
    "    lockin3_dc(Bias)\n",
    "    lockin3.time_constant(time_constant)\n",
    "    mdac_TG3_voltage(Vmin)\n",
    "    time.sleep(3)\n",
    "    \n",
    "def cleanup(): \n",
    "    lockin3.amplitude(0)\n",
    "    lockin3_dc(0)\n",
    "    mdac_TG3_voltage(0)\n",
    "\n",
    "@getter(('current1', 'A'), ('raw_voltage_dc1', 'V'), ('conductance1', '2e^2/h'),\n",
    "        ('Lockin1_X', 'V'), ('Lockin1_Y', 'V'), ('Lockin1_R', 'V'),\n",
    "        ('Lockin1_phase', 'deg'), ('Lockin1_excitation', 'V'),\n",
    "        )\n",
    "def measure_acdc(gain=gain, Rseries=Rseries, adder_atten=attenuation):\n",
    "    time.sleep(1.3*time_constant)\n",
    "    key_raw1 = key3.volt()\n",
    "    current_dc1 = -key_raw1/gain\n",
    "    Vac1     = adder_atten*lockin3.amplitude()\n",
    "    L1P     = lockin3.P()\n",
    "    L1R     = lockin3.R()\n",
    "    L1Y     = lockin3.Y()\n",
    "    # the above lines (excluding time.sleep) take at least 75ms to execute. \n",
    "    L1X     = lockin3.X()\n",
    "    current_ac = L1X/gain    \n",
    "    try:\n",
    "        g1 = 12906/(Vac1/current_ac - Rseries) #[2e^2/h]\n",
    "    except ZeroDivisionError:\n",
    "        g1 = 0\n",
    "    \n",
    "    result  = current_dc1, key_raw1, g1, L1X, L1Y, L1R, L1P, Vac1\n",
    "    return result\n",
    "\n",
    "result = do_experiment(\n",
    "    \"Q326zz_Bias-TG_sweep/\" + device_name,\n",
    "    nest(\n",
    "        sweep(lockin3_dc, np.linspace(Bias, -Bias, n_bias_points)),\n",
    "        sweep(mdac_TG3_voltage, np.linspace(Vmin, Vmax, n_gate_points)),\n",
    "        measure(measure_acdc)\n",
    "    ),\n",
    "    setup,\n",
    "    cleanup,\n",
    ") "
   ]
  },
  {
   "cell_type": "code",
   "execution_count": 121,
   "metadata": {},
   "outputs": [
    {
     "name": "stdout",
     "output_type": "stream",
     "text": [
      "Starting experimental run with id: 28\n"
     ]
    }
   ],
   "source": [
    "TG3 = mdac.ch10\n",
    "initialize(TG3)\n",
    "\n",
    "#pinch-off variables (standard units: Volts, seconds, Ohms)\n",
    "Vmin = -0.1\n",
    "Vmax = 0.3\n",
    "n_gate_points = 81\n",
    "n_bias_points = 101\n",
    "Rseries = 13e3\n",
    "device_name = \"SQUID_320\"\n",
    "\n",
    "Bias = 1e-3 #takes into account attenuation of 100.\n",
    "lockin_amplitude = 1e-3 #to be attenuated by 100.\n",
    "time_constant = 0.3\n",
    "\n",
    "keyNPLC = 1\n",
    "gain = 1e6\n",
    "attenuation=1e-2\n",
    "\n",
    "#pinch-off functions, from now on you don't have to change any parameter\n",
    "def setup():    \n",
    "    key3.NPLC(keyNPLC)\n",
    "    lockin3.amplitude(lockin_amplitude) # to be attenuated by 100. So 10uV excitation when this is 1mV\n",
    "    lockin3_dc(Bias)\n",
    "    lockin3.time_constant(time_constant)\n",
    "    mdac_TG3_voltage(Vmin)\n",
    "    time.sleep(3)\n",
    "    \n",
    "def cleanup(): \n",
    "    lockin3.amplitude(0)\n",
    "    lockin3_dc(0)\n",
    "    mdac_TG3_voltage(0)\n",
    "\n",
    "@getter(('current1', 'A'), ('raw_voltage_dc1', 'V'), ('conductance1', '2e^2/h'),\n",
    "        ('Lockin1_X', 'V'), ('Lockin1_Y', 'V'), ('Lockin1_R', 'V'),\n",
    "        ('Lockin1_phase', 'deg'), ('Lockin1_excitation', 'V'),\n",
    "        )\n",
    "def measure_acdc(gain=gain, Rseries=Rseries, adder_atten=attenuation):\n",
    "    time.sleep(1.3*time_constant)\n",
    "    key_raw1 = key3.volt()\n",
    "    current_dc1 = -key_raw1/gain\n",
    "    Vac1     = adder_atten*lockin3.amplitude()\n",
    "    L1P     = lockin3.P()\n",
    "    L1R     = lockin3.R()\n",
    "    L1Y     = lockin3.Y()\n",
    "    # the above lines (excluding time.sleep) take at least 75ms to execute. \n",
    "    L1X     = lockin3.X()\n",
    "    current_ac = L1X/gain    \n",
    "    try:\n",
    "        g1 = 12906/(Vac1/current_ac - Rseries) #[2e^2/h]\n",
    "    except ZeroDivisionError:\n",
    "        g1 = 0\n",
    "    \n",
    "    result  = current_dc1, key_raw1, g1, L1X, L1Y, L1R, L1P, Vac1\n",
    "    return result\n",
    "\n",
    "result = do_experiment(\n",
    "    \"Q326zz_Bias-TG_sweep/\" + device_name,\n",
    "    nest(\n",
    "        sweep(lockin3_dc, np.linspace(Bias, -Bias, n_bias_points)),\n",
    "        sweep(mdac_TG3_voltage, np.linspace(Vmin, Vmax, n_gate_points)),\n",
    "        measure(measure_acdc)\n",
    "    ),\n",
    "    setup,\n",
    "    cleanup,\n",
    ") "
   ]
  },
  {
   "cell_type": "code",
   "execution_count": 56,
   "metadata": {},
   "outputs": [
    {
     "data": {
      "text/plain": [
       "0.0"
      ]
     },
     "execution_count": 56,
     "metadata": {},
     "output_type": "execute_result"
    }
   ],
   "source": [
    "mdac.ch57.voltage()"
   ]
  },
  {
   "cell_type": "code",
   "execution_count": 144,
   "metadata": {
    "scrolled": false
   },
   "outputs": [
    {
     "name": "stdout",
     "output_type": "stream",
     "text": [
      "Starting experimental run with id: 77\n"
     ]
    },
    {
     "ename": "KeyboardInterrupt",
     "evalue": "",
     "output_type": "error",
     "traceback": [
      "\u001b[1;31m---------------------------------------------------------------------------\u001b[0m",
      "\u001b[1;31mKeyboardInterrupt\u001b[0m                         Traceback (most recent call last)",
      "\u001b[1;32m<ipython-input-144-ba1d98a4569c>\u001b[0m in \u001b[0;36m<module>\u001b[1;34m\u001b[0m\n\u001b[0;32m     40\u001b[0m     ),\n\u001b[0;32m     41\u001b[0m     \u001b[0msetup\u001b[0m\u001b[1;33m,\u001b[0m\u001b[1;33m\u001b[0m\u001b[1;33m\u001b[0m\u001b[0m\n\u001b[1;32m---> 42\u001b[1;33m     \u001b[0mcleanup\u001b[0m\u001b[1;33m\u001b[0m\u001b[1;33m\u001b[0m\u001b[0m\n\u001b[0m\u001b[0;32m     43\u001b[0m )\n\u001b[0;32m     44\u001b[0m \u001b[1;33m\u001b[0m\u001b[0m\n",
      "\u001b[1;32md:\\onedrive\\bf3\\code\\pytopo\\pytopo\\sweep\\do_experiment.py\u001b[0m in \u001b[0;36mdo_experiment\u001b[1;34m(experiment_name, sweep_object, setup, cleanup, station, live_plot)\u001b[0m\n\u001b[0;32m     93\u001b[0m             )\n\u001b[0;32m     94\u001b[0m \u001b[1;33m\u001b[0m\u001b[0m\n\u001b[1;32m---> 95\u001b[1;33m         \u001b[1;32mfor\u001b[0m \u001b[0mdata\u001b[0m \u001b[1;32min\u001b[0m \u001b[0msweep_object\u001b[0m\u001b[1;33m:\u001b[0m\u001b[1;33m\u001b[0m\u001b[1;33m\u001b[0m\u001b[0m\n\u001b[0m\u001b[0;32m     96\u001b[0m             \u001b[0mdatasaver\u001b[0m\u001b[1;33m.\u001b[0m\u001b[0madd_result\u001b[0m\u001b[1;33m(\u001b[0m\u001b[1;33m*\u001b[0m\u001b[0mdata\u001b[0m\u001b[1;33m.\u001b[0m\u001b[0mitems\u001b[0m\u001b[1;33m(\u001b[0m\u001b[1;33m)\u001b[0m\u001b[1;33m)\u001b[0m\u001b[1;33m\u001b[0m\u001b[1;33m\u001b[0m\u001b[0m\n\u001b[0;32m     97\u001b[0m \u001b[1;33m\u001b[0m\u001b[0m\n",
      "\u001b[1;32md:\\onedrive\\bf3\\code\\pytopo\\pytopo\\sweep\\base.py\u001b[0m in \u001b[0;36m__next__\u001b[1;34m(self)\u001b[0m\n\u001b[0;32m     36\u001b[0m             \u001b[0mself\u001b[0m\u001b[1;33m.\u001b[0m\u001b[0m_start_iter\u001b[0m\u001b[1;33m(\u001b[0m\u001b[1;33m)\u001b[0m\u001b[1;33m\u001b[0m\u001b[1;33m\u001b[0m\u001b[0m\n\u001b[0;32m     37\u001b[0m \u001b[1;33m\u001b[0m\u001b[0m\n\u001b[1;32m---> 38\u001b[1;33m         \u001b[1;32mreturn\u001b[0m \u001b[0mnext\u001b[0m\u001b[1;33m(\u001b[0m\u001b[0mself\u001b[0m\u001b[1;33m.\u001b[0m\u001b[0m_generator\u001b[0m\u001b[1;33m)\u001b[0m\u001b[1;33m\u001b[0m\u001b[1;33m\u001b[0m\u001b[0m\n\u001b[0m\u001b[0;32m     39\u001b[0m \u001b[1;33m\u001b[0m\u001b[0m\n\u001b[0;32m     40\u001b[0m     \u001b[1;32mdef\u001b[0m \u001b[0m__call__\u001b[0m\u001b[1;33m(\u001b[0m\u001b[0mself\u001b[0m\u001b[1;33m,\u001b[0m \u001b[1;33m*\u001b[0m\u001b[0msweep_objects\u001b[0m\u001b[1;33m)\u001b[0m\u001b[1;33m:\u001b[0m\u001b[1;33m\u001b[0m\u001b[1;33m\u001b[0m\u001b[0m\n",
      "\u001b[1;32md:\\onedrive\\bf3\\code\\pytopo\\pytopo\\sweep\\base.py\u001b[0m in \u001b[0;36m__next__\u001b[1;34m(self)\u001b[0m\n\u001b[0;32m     36\u001b[0m             \u001b[0mself\u001b[0m\u001b[1;33m.\u001b[0m\u001b[0m_start_iter\u001b[0m\u001b[1;33m(\u001b[0m\u001b[1;33m)\u001b[0m\u001b[1;33m\u001b[0m\u001b[1;33m\u001b[0m\u001b[0m\n\u001b[0;32m     37\u001b[0m \u001b[1;33m\u001b[0m\u001b[0m\n\u001b[1;32m---> 38\u001b[1;33m         \u001b[1;32mreturn\u001b[0m \u001b[0mnext\u001b[0m\u001b[1;33m(\u001b[0m\u001b[0mself\u001b[0m\u001b[1;33m.\u001b[0m\u001b[0m_generator\u001b[0m\u001b[1;33m)\u001b[0m\u001b[1;33m\u001b[0m\u001b[1;33m\u001b[0m\u001b[0m\n\u001b[0m\u001b[0;32m     39\u001b[0m \u001b[1;33m\u001b[0m\u001b[0m\n\u001b[0;32m     40\u001b[0m     \u001b[1;32mdef\u001b[0m \u001b[0m__call__\u001b[0m\u001b[1;33m(\u001b[0m\u001b[0mself\u001b[0m\u001b[1;33m,\u001b[0m \u001b[1;33m*\u001b[0m\u001b[0msweep_objects\u001b[0m\u001b[1;33m)\u001b[0m\u001b[1;33m:\u001b[0m\u001b[1;33m\u001b[0m\u001b[1;33m\u001b[0m\u001b[0m\n",
      "\u001b[1;32md:\\onedrive\\bf3\\code\\pytopo\\pytopo\\sweep\\base.py\u001b[0m in \u001b[0;36m_generator_factory\u001b[1;34m(self)\u001b[0m\n\u001b[0;32m     79\u001b[0m \u001b[1;33m\u001b[0m\u001b[0m\n\u001b[0;32m     80\u001b[0m     \u001b[1;32mdef\u001b[0m \u001b[0m_generator_factory\u001b[0m\u001b[1;33m(\u001b[0m\u001b[0mself\u001b[0m\u001b[1;33m)\u001b[0m \u001b[1;33m->\u001b[0m\u001b[0mIterator\u001b[0m\u001b[1;33m:\u001b[0m\u001b[1;33m\u001b[0m\u001b[1;33m\u001b[0m\u001b[0m\n\u001b[1;32m---> 81\u001b[1;33m         \u001b[1;32mfor\u001b[0m \u001b[0mvalue\u001b[0m \u001b[1;32min\u001b[0m \u001b[0mself\u001b[0m\u001b[1;33m.\u001b[0m\u001b[0m_iterator_function\u001b[0m\u001b[1;33m(\u001b[0m\u001b[1;33m)\u001b[0m\u001b[1;33m:\u001b[0m\u001b[1;33m\u001b[0m\u001b[1;33m\u001b[0m\u001b[0m\n\u001b[0m\u001b[0;32m     82\u001b[0m             \u001b[1;32myield\u001b[0m \u001b[0mvalue\u001b[0m\u001b[1;33m\u001b[0m\u001b[1;33m\u001b[0m\u001b[0m\n\u001b[0;32m     83\u001b[0m \u001b[1;33m\u001b[0m\u001b[0m\n",
      "\u001b[1;32md:\\onedrive\\bf3\\code\\pytopo\\pytopo\\sweep\\base.py\u001b[0m in \u001b[0;36minner\u001b[1;34m()\u001b[0m\n\u001b[0;32m    122\u001b[0m         \u001b[1;32mdef\u001b[0m \u001b[0minner\u001b[0m\u001b[1;33m(\u001b[0m\u001b[1;33m)\u001b[0m\u001b[1;33m:\u001b[0m\u001b[1;33m\u001b[0m\u001b[1;33m\u001b[0m\u001b[0m\n\u001b[0;32m    123\u001b[0m             \u001b[1;32mfor\u001b[0m \u001b[0mresult2\u001b[0m \u001b[1;32min\u001b[0m \u001b[0msweep_object2\u001b[0m\u001b[1;33m:\u001b[0m\u001b[1;33m\u001b[0m\u001b[1;33m\u001b[0m\u001b[0m\n\u001b[1;32m--> 124\u001b[1;33m                 \u001b[1;32mfor\u001b[0m \u001b[0mresult1\u001b[0m \u001b[1;32min\u001b[0m \u001b[0msweep_object1\u001b[0m\u001b[1;33m:\u001b[0m\u001b[1;33m\u001b[0m\u001b[1;33m\u001b[0m\u001b[0m\n\u001b[0m\u001b[0;32m    125\u001b[0m                     \u001b[0mresult1\u001b[0m\u001b[1;33m.\u001b[0m\u001b[0mupdate\u001b[0m\u001b[1;33m(\u001b[0m\u001b[0mresult2\u001b[0m\u001b[1;33m)\u001b[0m\u001b[1;33m\u001b[0m\u001b[1;33m\u001b[0m\u001b[0m\n\u001b[0;32m    126\u001b[0m                     \u001b[1;32myield\u001b[0m \u001b[0mresult1\u001b[0m\u001b[1;33m\u001b[0m\u001b[1;33m\u001b[0m\u001b[0m\n",
      "\u001b[1;32md:\\onedrive\\bf3\\code\\pytopo\\pytopo\\sweep\\base.py\u001b[0m in \u001b[0;36m__next__\u001b[1;34m(self)\u001b[0m\n\u001b[0;32m     36\u001b[0m             \u001b[0mself\u001b[0m\u001b[1;33m.\u001b[0m\u001b[0m_start_iter\u001b[0m\u001b[1;33m(\u001b[0m\u001b[1;33m)\u001b[0m\u001b[1;33m\u001b[0m\u001b[1;33m\u001b[0m\u001b[0m\n\u001b[0;32m     37\u001b[0m \u001b[1;33m\u001b[0m\u001b[0m\n\u001b[1;32m---> 38\u001b[1;33m         \u001b[1;32mreturn\u001b[0m \u001b[0mnext\u001b[0m\u001b[1;33m(\u001b[0m\u001b[0mself\u001b[0m\u001b[1;33m.\u001b[0m\u001b[0m_generator\u001b[0m\u001b[1;33m)\u001b[0m\u001b[1;33m\u001b[0m\u001b[1;33m\u001b[0m\u001b[0m\n\u001b[0m\u001b[0;32m     39\u001b[0m \u001b[1;33m\u001b[0m\u001b[0m\n\u001b[0;32m     40\u001b[0m     \u001b[1;32mdef\u001b[0m \u001b[0m__call__\u001b[0m\u001b[1;33m(\u001b[0m\u001b[0mself\u001b[0m\u001b[1;33m,\u001b[0m \u001b[1;33m*\u001b[0m\u001b[0msweep_objects\u001b[0m\u001b[1;33m)\u001b[0m\u001b[1;33m:\u001b[0m\u001b[1;33m\u001b[0m\u001b[1;33m\u001b[0m\u001b[0m\n",
      "\u001b[1;32md:\\onedrive\\bf3\\code\\pytopo\\pytopo\\sweep\\base.py\u001b[0m in \u001b[0;36m_generator_factory\u001b[1;34m(self)\u001b[0m\n\u001b[0;32m    213\u001b[0m \u001b[1;33m\u001b[0m\u001b[0m\n\u001b[0;32m    214\u001b[0m     \u001b[1;32mdef\u001b[0m \u001b[0m_generator_factory\u001b[0m\u001b[1;33m(\u001b[0m\u001b[0mself\u001b[0m\u001b[1;33m)\u001b[0m\u001b[1;33m->\u001b[0m\u001b[0mIterator\u001b[0m\u001b[1;33m:\u001b[0m\u001b[1;33m\u001b[0m\u001b[1;33m\u001b[0m\u001b[0m\n\u001b[1;32m--> 215\u001b[1;33m         \u001b[1;32myield\u001b[0m \u001b[0mself\u001b[0m\u001b[1;33m.\u001b[0m\u001b[0m_get_function\u001b[0m\u001b[1;33m(\u001b[0m\u001b[1;33m)\u001b[0m\u001b[1;33m\u001b[0m\u001b[1;33m\u001b[0m\u001b[0m\n\u001b[0m\u001b[0;32m    216\u001b[0m \u001b[1;33m\u001b[0m\u001b[0m\n\u001b[0;32m    217\u001b[0m \u001b[1;33m\u001b[0m\u001b[0m\n",
      "\u001b[1;32md:\\onedrive\\bf3\\code\\pytopo\\pytopo\\sweep\\decorators.py\u001b[0m in \u001b[0;36m__call__\u001b[1;34m(self, *args, **kwargs)\u001b[0m\n\u001b[0;32m     15\u001b[0m \u001b[1;33m\u001b[0m\u001b[0m\n\u001b[0;32m     16\u001b[0m     \u001b[1;32mdef\u001b[0m \u001b[0m__call__\u001b[0m\u001b[1;33m(\u001b[0m\u001b[0mself\u001b[0m\u001b[1;33m,\u001b[0m \u001b[1;33m*\u001b[0m\u001b[0margs\u001b[0m\u001b[1;33m,\u001b[0m \u001b[1;33m**\u001b[0m\u001b[0mkwargs\u001b[0m\u001b[1;33m)\u001b[0m\u001b[1;33m:\u001b[0m\u001b[1;33m\u001b[0m\u001b[1;33m\u001b[0m\u001b[0m\n\u001b[1;32m---> 17\u001b[1;33m         \u001b[1;32mreturn\u001b[0m \u001b[0mself\u001b[0m\u001b[1;33m.\u001b[0m\u001b[0m_caller\u001b[0m\u001b[1;33m(\u001b[0m\u001b[1;33m*\u001b[0m\u001b[0margs\u001b[0m\u001b[1;33m,\u001b[0m \u001b[1;33m**\u001b[0m\u001b[0mkwargs\u001b[0m\u001b[1;33m)\u001b[0m\u001b[1;33m\u001b[0m\u001b[1;33m\u001b[0m\u001b[0m\n\u001b[0m\u001b[0;32m     18\u001b[0m \u001b[1;33m\u001b[0m\u001b[0m\n\u001b[0;32m     19\u001b[0m     \u001b[1;33m@\u001b[0m\u001b[0mproperty\u001b[0m\u001b[1;33m\u001b[0m\u001b[1;33m\u001b[0m\u001b[0m\n",
      "\u001b[1;32md:\\onedrive\\bf3\\code\\pytopo\\pytopo\\sweep\\decorators.py\u001b[0m in \u001b[0;36minner\u001b[1;34m()\u001b[0m\n\u001b[0;32m     91\u001b[0m     \u001b[1;32mdef\u001b[0m \u001b[0mdecorator\u001b[0m\u001b[1;33m(\u001b[0m\u001b[0mfunc\u001b[0m\u001b[1;33m:\u001b[0m \u001b[0mCallable\u001b[0m\u001b[1;33m)\u001b[0m \u001b[1;33m->\u001b[0m\u001b[0mMeasureFunction\u001b[0m\u001b[1;33m:\u001b[0m\u001b[1;33m\u001b[0m\u001b[1;33m\u001b[0m\u001b[0m\n\u001b[0;32m     92\u001b[0m         \u001b[1;32mdef\u001b[0m \u001b[0minner\u001b[0m\u001b[1;33m(\u001b[0m\u001b[1;33m)\u001b[0m \u001b[1;33m->\u001b[0m\u001b[0mdict\u001b[0m\u001b[1;33m:\u001b[0m\u001b[1;33m\u001b[0m\u001b[1;33m\u001b[0m\u001b[0m\n\u001b[1;32m---> 93\u001b[1;33m             \u001b[0mresults\u001b[0m \u001b[1;33m=\u001b[0m \u001b[0mnp\u001b[0m\u001b[1;33m.\u001b[0m\u001b[0matleast_1d\u001b[0m\u001b[1;33m(\u001b[0m\u001b[0mfunc\u001b[0m\u001b[1;33m(\u001b[0m\u001b[1;33m)\u001b[0m\u001b[1;33m)\u001b[0m\u001b[1;33m\u001b[0m\u001b[1;33m\u001b[0m\u001b[0m\n\u001b[0m\u001b[0;32m     94\u001b[0m             \u001b[1;32mreturn\u001b[0m \u001b[1;33m{\u001b[0m\u001b[0mk\u001b[0m\u001b[1;33m[\u001b[0m\u001b[1;36m0\u001b[0m\u001b[1;33m]\u001b[0m\u001b[1;33m:\u001b[0m \u001b[0mv\u001b[0m \u001b[1;32mfor\u001b[0m \u001b[0mk\u001b[0m\u001b[1;33m,\u001b[0m \u001b[0mv\u001b[0m \u001b[1;32min\u001b[0m \u001b[0mzip\u001b[0m\u001b[1;33m(\u001b[0m\u001b[0mnames_units\u001b[0m\u001b[1;33m,\u001b[0m \u001b[0mresults\u001b[0m\u001b[1;33m)\u001b[0m\u001b[1;33m}\u001b[0m\u001b[1;33m\u001b[0m\u001b[1;33m\u001b[0m\u001b[0m\n\u001b[0;32m     95\u001b[0m \u001b[1;33m\u001b[0m\u001b[0m\n",
      "\u001b[1;32m<ipython-input-144-ba1d98a4569c>\u001b[0m in \u001b[0;36mmeasure_Ibias\u001b[1;34m(Rseries, attenuation)\u001b[0m\n\u001b[0;32m     21\u001b[0m        )\n\u001b[0;32m     22\u001b[0m \u001b[1;32mdef\u001b[0m \u001b[0mmeasure_Ibias\u001b[0m\u001b[1;33m(\u001b[0m\u001b[0mRseries\u001b[0m\u001b[1;33m=\u001b[0m\u001b[1;36m18.4e3\u001b[0m\u001b[1;33m,\u001b[0m \u001b[0mattenuation\u001b[0m\u001b[1;33m=\u001b[0m\u001b[1;36m1e-6\u001b[0m\u001b[1;33m)\u001b[0m\u001b[1;33m:\u001b[0m\u001b[1;33m\u001b[0m\u001b[1;33m\u001b[0m\u001b[0m\n\u001b[1;32m---> 23\u001b[1;33m     \u001b[0mtime\u001b[0m\u001b[1;33m.\u001b[0m\u001b[0msleep\u001b[0m\u001b[1;33m(\u001b[0m\u001b[1;36m0.024\u001b[0m\u001b[1;33m*\u001b[0m\u001b[0mkeyNPLC\u001b[0m\u001b[1;33m)\u001b[0m\u001b[1;33m\u001b[0m\u001b[1;33m\u001b[0m\u001b[0m\n\u001b[0m\u001b[0;32m     24\u001b[0m     \u001b[0mV\u001b[0m \u001b[1;33m=\u001b[0m \u001b[0mkey1\u001b[0m\u001b[1;33m.\u001b[0m\u001b[0mvolt\u001b[0m\u001b[1;33m(\u001b[0m\u001b[1;33m)\u001b[0m\u001b[1;33m\u001b[0m\u001b[1;33m\u001b[0m\u001b[0m\n\u001b[0;32m     25\u001b[0m     \u001b[0mI\u001b[0m \u001b[1;33m=\u001b[0m \u001b[0mmdac_Bias\u001b[0m\u001b[1;33m.\u001b[0m\u001b[0mvoltage\u001b[0m\u001b[1;33m(\u001b[0m\u001b[1;33m)\u001b[0m\u001b[1;33m*\u001b[0m\u001b[0mattenuation\u001b[0m\u001b[1;33m\u001b[0m\u001b[1;33m\u001b[0m\u001b[0m\n",
      "\u001b[1;31mKeyboardInterrupt\u001b[0m: "
     ]
    }
   ],
   "source": [
    "Vbegin = 1.5\n",
    "Vend = 1\n",
    "n_gate_points = 26\n",
    "\n",
    "mdac_bias = 1e-3 # 1 MOhm of series resistance, so 1 V is converted to 1 uA\n",
    "n_bias_points = 201\n",
    "\n",
    "keyNPLC = 10\n",
    "\n",
    "def setup(): \n",
    "    key1.NPLC(keyNPLC)\n",
    "    mdac_Bias_voltage(-mdac_bias) # 1 MOhm of series resistance, so 1 V is converted to 1 uA\n",
    "    yoko1_ramp(Vbegin)\n",
    "    time.sleep(3)\n",
    "\n",
    "def cleanup(): \n",
    "    mdac_Bias_voltage(0)\n",
    "    yoko1_ramp(0)\n",
    "    \n",
    "@getter(('V', 'V'), ('I_bias', 'A'), ('Rs', 'Ohm'), ('V_after_Rs_subtraction', 'V'),\n",
    "       )\n",
    "def measure_Ibias(Rseries=18.4e3, attenuation=1e-6):\n",
    "    time.sleep(0.024*keyNPLC)\n",
    "    V = key1.volt()\n",
    "    I = mdac_Bias.voltage()*attenuation\n",
    "    V_after_Rs_subtraction = V - I*Rseries\n",
    "    \n",
    "    result  =  V, I, Rseries, V_after_Rs_subtraction\n",
    "    return result\n",
    "\n",
    "\n",
    "bias_range = np.linspace(-mdac_bias, mdac_bias, n_bias_points)\n",
    "\n",
    "result = do_experiment(\n",
    "    \"Q383_Ibias_sweep/SS3\",\n",
    "    nest(\n",
    "        sweep(yoko1_ramp, np.linspace(Vbegin, Vend, n_gate_points)),\n",
    "        sweep(mdac_Bias_voltage, bias_range),\n",
    "        measure(measure_Ibias)\n",
    "    ),\n",
    "    setup,\n",
    "    cleanup\n",
    ")\n",
    "\n"
   ]
  },
  {
   "cell_type": "code",
   "execution_count": 58,
   "metadata": {},
   "outputs": [
    {
     "data": {
      "text/plain": [
       "0.0"
      ]
     },
     "execution_count": 58,
     "metadata": {},
     "output_type": "execute_result"
    }
   ],
   "source": [
    "mdac.ch57.voltage()"
   ]
  },
  {
   "cell_type": "code",
   "execution_count": 57,
   "metadata": {},
   "outputs": [],
   "source": [
    "mdac_Bias = mdac.ch57\n",
    "initialize(mdac_Bias)"
   ]
  },
  {
   "cell_type": "code",
   "execution_count": 234,
   "metadata": {},
   "outputs": [
    {
     "name": "stdout",
     "output_type": "stream",
     "text": [
      "Starting experimental run with id: 23\n"
     ]
    }
   ],
   "source": [
    "Vmin = 0.3\n",
    "Vmax = 1\n",
    "n_gate_points = 36\n",
    "Bias = 2e-3 # 1 MOhm of series resistance, so 1 V is converted to 1 uA\n",
    "n_bias_points = 201\n",
    "keyNPLC = 10\n",
    "\n",
    "def setup(): \n",
    "    key3.NPLC(keyNPLC)\n",
    "    mdac_Bias_voltage(-Bias) # 1 MOhm of series resistance, so 1 V is converted to 1 uA\n",
    "    mdac_PG_voltage(Vmin)\n",
    "    time.sleep(3)\n",
    "\n",
    "def cleanup(): \n",
    "    mdac_PG_voltage(Vmax)\n",
    "    mdac_Bias_voltage(0)\n",
    "    \n",
    "@getter(('V', 'V'), ('I_bias', 'A'), ('Rs', 'Ohm'), ('V_after_Rs_subtraction', 'V'),\n",
    "       )\n",
    "def measure_Ibias(Rseries=13.4e3, attenuation=1e-6):\n",
    "    time.sleep(0.018*keyNPLC)\n",
    "    V = key3.volt()\n",
    "    I = mdac_Bias.voltage()*attenuation\n",
    "    V_after_Rs_subtraction = V - I*Rseries\n",
    "    \n",
    "    result  =  V, I, Rseries, V_after_Rs_subtraction\n",
    "    return result\n",
    "\n",
    "result = do_experiment(\n",
    "    \"Q326zz_Gate-Ibias_sweep/SS_SideUp_200_B\".format(gate),\n",
    "    nest(\n",
    "        sweep(mdac_PG_voltage, np.linspace(Vmin, Vmax, n_gate_points)),\n",
    "        sweep(mdac_Bias_voltage, np.linspace(-Bias, Bias, n_bias_points)),\n",
    "        measure(measure_Ibias)\n",
    "    ),\n",
    "    setup,\n",
    "    cleanup,\n",
    "    live_plot=False\n",
    ")"
   ]
  },
  {
   "cell_type": "code",
   "execution_count": 106,
   "metadata": {},
   "outputs": [
    {
     "name": "stdout",
     "output_type": "stream",
     "text": [
      "Starting experimental run with id: 16\n"
     ]
    },
    {
     "ename": "KeyboardInterrupt",
     "evalue": "",
     "output_type": "error",
     "traceback": [
      "\u001b[1;31m---------------------------------------------------------------------------\u001b[0m",
      "\u001b[1;31mKeyboardInterrupt\u001b[0m                         Traceback (most recent call last)",
      "\u001b[1;32m<ipython-input-106-ea1e36301db9>\u001b[0m in \u001b[0;36m<module>\u001b[1;34m()\u001b[0m\n\u001b[0;32m     46\u001b[0m     \u001b[0msetup\u001b[0m\u001b[1;33m,\u001b[0m\u001b[1;33m\u001b[0m\u001b[0m\n\u001b[0;32m     47\u001b[0m     \u001b[0mcleanup\u001b[0m\u001b[1;33m,\u001b[0m\u001b[1;33m\u001b[0m\u001b[0m\n\u001b[1;32m---> 48\u001b[1;33m     \u001b[0mlive_plot\u001b[0m\u001b[1;33m=\u001b[0m\u001b[1;32mFalse\u001b[0m\u001b[1;33m\u001b[0m\u001b[0m\n\u001b[0m\u001b[0;32m     49\u001b[0m )\n",
      "\u001b[1;32md:\\onedrive\\bf3\\code\\pytopo\\pytopo\\sweep\\do_experiment.py\u001b[0m in \u001b[0;36mdo_experiment\u001b[1;34m(experiment_name, sweep_object, setup, cleanup, station, live_plot)\u001b[0m\n\u001b[0;32m     93\u001b[0m             )\n\u001b[0;32m     94\u001b[0m \u001b[1;33m\u001b[0m\u001b[0m\n\u001b[1;32m---> 95\u001b[1;33m         \u001b[1;32mfor\u001b[0m \u001b[0mdata\u001b[0m \u001b[1;32min\u001b[0m \u001b[0msweep_object\u001b[0m\u001b[1;33m:\u001b[0m\u001b[1;33m\u001b[0m\u001b[0m\n\u001b[0m\u001b[0;32m     96\u001b[0m             \u001b[0mdatasaver\u001b[0m\u001b[1;33m.\u001b[0m\u001b[0madd_result\u001b[0m\u001b[1;33m(\u001b[0m\u001b[1;33m*\u001b[0m\u001b[0mdata\u001b[0m\u001b[1;33m.\u001b[0m\u001b[0mitems\u001b[0m\u001b[1;33m(\u001b[0m\u001b[1;33m)\u001b[0m\u001b[1;33m)\u001b[0m\u001b[1;33m\u001b[0m\u001b[0m\n\u001b[0;32m     97\u001b[0m \u001b[1;33m\u001b[0m\u001b[0m\n",
      "\u001b[1;32md:\\onedrive\\bf3\\code\\pytopo\\pytopo\\sweep\\base.py\u001b[0m in \u001b[0;36m__next__\u001b[1;34m(self)\u001b[0m\n\u001b[0;32m     36\u001b[0m             \u001b[0mself\u001b[0m\u001b[1;33m.\u001b[0m\u001b[0m_start_iter\u001b[0m\u001b[1;33m(\u001b[0m\u001b[1;33m)\u001b[0m\u001b[1;33m\u001b[0m\u001b[0m\n\u001b[0;32m     37\u001b[0m \u001b[1;33m\u001b[0m\u001b[0m\n\u001b[1;32m---> 38\u001b[1;33m         \u001b[1;32mreturn\u001b[0m \u001b[0mnext\u001b[0m\u001b[1;33m(\u001b[0m\u001b[0mself\u001b[0m\u001b[1;33m.\u001b[0m\u001b[0m_generator\u001b[0m\u001b[1;33m)\u001b[0m\u001b[1;33m\u001b[0m\u001b[0m\n\u001b[0m\u001b[0;32m     39\u001b[0m \u001b[1;33m\u001b[0m\u001b[0m\n\u001b[0;32m     40\u001b[0m     \u001b[1;32mdef\u001b[0m \u001b[0m__call__\u001b[0m\u001b[1;33m(\u001b[0m\u001b[0mself\u001b[0m\u001b[1;33m,\u001b[0m \u001b[1;33m*\u001b[0m\u001b[0msweep_objects\u001b[0m\u001b[1;33m)\u001b[0m\u001b[1;33m:\u001b[0m\u001b[1;33m\u001b[0m\u001b[0m\n",
      "\u001b[1;32md:\\onedrive\\bf3\\code\\pytopo\\pytopo\\sweep\\base.py\u001b[0m in \u001b[0;36m__next__\u001b[1;34m(self)\u001b[0m\n\u001b[0;32m     36\u001b[0m             \u001b[0mself\u001b[0m\u001b[1;33m.\u001b[0m\u001b[0m_start_iter\u001b[0m\u001b[1;33m(\u001b[0m\u001b[1;33m)\u001b[0m\u001b[1;33m\u001b[0m\u001b[0m\n\u001b[0;32m     37\u001b[0m \u001b[1;33m\u001b[0m\u001b[0m\n\u001b[1;32m---> 38\u001b[1;33m         \u001b[1;32mreturn\u001b[0m \u001b[0mnext\u001b[0m\u001b[1;33m(\u001b[0m\u001b[0mself\u001b[0m\u001b[1;33m.\u001b[0m\u001b[0m_generator\u001b[0m\u001b[1;33m)\u001b[0m\u001b[1;33m\u001b[0m\u001b[0m\n\u001b[0m\u001b[0;32m     39\u001b[0m \u001b[1;33m\u001b[0m\u001b[0m\n\u001b[0;32m     40\u001b[0m     \u001b[1;32mdef\u001b[0m \u001b[0m__call__\u001b[0m\u001b[1;33m(\u001b[0m\u001b[0mself\u001b[0m\u001b[1;33m,\u001b[0m \u001b[1;33m*\u001b[0m\u001b[0msweep_objects\u001b[0m\u001b[1;33m)\u001b[0m\u001b[1;33m:\u001b[0m\u001b[1;33m\u001b[0m\u001b[0m\n",
      "\u001b[1;32md:\\onedrive\\bf3\\code\\pytopo\\pytopo\\sweep\\base.py\u001b[0m in \u001b[0;36m_generator_factory\u001b[1;34m(self)\u001b[0m\n\u001b[0;32m     79\u001b[0m \u001b[1;33m\u001b[0m\u001b[0m\n\u001b[0;32m     80\u001b[0m     \u001b[1;32mdef\u001b[0m \u001b[0m_generator_factory\u001b[0m\u001b[1;33m(\u001b[0m\u001b[0mself\u001b[0m\u001b[1;33m)\u001b[0m \u001b[1;33m->\u001b[0m\u001b[0mIterator\u001b[0m\u001b[1;33m:\u001b[0m\u001b[1;33m\u001b[0m\u001b[0m\n\u001b[1;32m---> 81\u001b[1;33m         \u001b[1;32mfor\u001b[0m \u001b[0mvalue\u001b[0m \u001b[1;32min\u001b[0m \u001b[0mself\u001b[0m\u001b[1;33m.\u001b[0m\u001b[0m_iterator_function\u001b[0m\u001b[1;33m(\u001b[0m\u001b[1;33m)\u001b[0m\u001b[1;33m:\u001b[0m\u001b[1;33m\u001b[0m\u001b[0m\n\u001b[0m\u001b[0;32m     82\u001b[0m             \u001b[1;32myield\u001b[0m \u001b[0mvalue\u001b[0m\u001b[1;33m\u001b[0m\u001b[0m\n\u001b[0;32m     83\u001b[0m \u001b[1;33m\u001b[0m\u001b[0m\n",
      "\u001b[1;32md:\\onedrive\\bf3\\code\\pytopo\\pytopo\\sweep\\base.py\u001b[0m in \u001b[0;36minner\u001b[1;34m()\u001b[0m\n\u001b[0;32m    122\u001b[0m         \u001b[1;32mdef\u001b[0m \u001b[0minner\u001b[0m\u001b[1;33m(\u001b[0m\u001b[1;33m)\u001b[0m\u001b[1;33m:\u001b[0m\u001b[1;33m\u001b[0m\u001b[0m\n\u001b[0;32m    123\u001b[0m             \u001b[1;32mfor\u001b[0m \u001b[0mresult2\u001b[0m \u001b[1;32min\u001b[0m \u001b[0msweep_object2\u001b[0m\u001b[1;33m:\u001b[0m\u001b[1;33m\u001b[0m\u001b[0m\n\u001b[1;32m--> 124\u001b[1;33m                 \u001b[1;32mfor\u001b[0m \u001b[0mresult1\u001b[0m \u001b[1;32min\u001b[0m \u001b[0msweep_object1\u001b[0m\u001b[1;33m:\u001b[0m\u001b[1;33m\u001b[0m\u001b[0m\n\u001b[0m\u001b[0;32m    125\u001b[0m                     \u001b[0mresult1\u001b[0m\u001b[1;33m.\u001b[0m\u001b[0mupdate\u001b[0m\u001b[1;33m(\u001b[0m\u001b[0mresult2\u001b[0m\u001b[1;33m)\u001b[0m\u001b[1;33m\u001b[0m\u001b[0m\n\u001b[0;32m    126\u001b[0m                     \u001b[1;32myield\u001b[0m \u001b[0mresult1\u001b[0m\u001b[1;33m\u001b[0m\u001b[0m\n",
      "\u001b[1;32md:\\onedrive\\bf3\\code\\pytopo\\pytopo\\sweep\\base.py\u001b[0m in \u001b[0;36m__next__\u001b[1;34m(self)\u001b[0m\n\u001b[0;32m     36\u001b[0m             \u001b[0mself\u001b[0m\u001b[1;33m.\u001b[0m\u001b[0m_start_iter\u001b[0m\u001b[1;33m(\u001b[0m\u001b[1;33m)\u001b[0m\u001b[1;33m\u001b[0m\u001b[0m\n\u001b[0;32m     37\u001b[0m \u001b[1;33m\u001b[0m\u001b[0m\n\u001b[1;32m---> 38\u001b[1;33m         \u001b[1;32mreturn\u001b[0m \u001b[0mnext\u001b[0m\u001b[1;33m(\u001b[0m\u001b[0mself\u001b[0m\u001b[1;33m.\u001b[0m\u001b[0m_generator\u001b[0m\u001b[1;33m)\u001b[0m\u001b[1;33m\u001b[0m\u001b[0m\n\u001b[0m\u001b[0;32m     39\u001b[0m \u001b[1;33m\u001b[0m\u001b[0m\n\u001b[0;32m     40\u001b[0m     \u001b[1;32mdef\u001b[0m \u001b[0m__call__\u001b[0m\u001b[1;33m(\u001b[0m\u001b[0mself\u001b[0m\u001b[1;33m,\u001b[0m \u001b[1;33m*\u001b[0m\u001b[0msweep_objects\u001b[0m\u001b[1;33m)\u001b[0m\u001b[1;33m:\u001b[0m\u001b[1;33m\u001b[0m\u001b[0m\n",
      "\u001b[1;32md:\\onedrive\\bf3\\code\\pytopo\\pytopo\\sweep\\base.py\u001b[0m in \u001b[0;36m_generator_factory\u001b[1;34m(self)\u001b[0m\n\u001b[0;32m    213\u001b[0m \u001b[1;33m\u001b[0m\u001b[0m\n\u001b[0;32m    214\u001b[0m     \u001b[1;32mdef\u001b[0m \u001b[0m_generator_factory\u001b[0m\u001b[1;33m(\u001b[0m\u001b[0mself\u001b[0m\u001b[1;33m)\u001b[0m\u001b[1;33m->\u001b[0m\u001b[0mIterator\u001b[0m\u001b[1;33m:\u001b[0m\u001b[1;33m\u001b[0m\u001b[0m\n\u001b[1;32m--> 215\u001b[1;33m         \u001b[1;32myield\u001b[0m \u001b[0mself\u001b[0m\u001b[1;33m.\u001b[0m\u001b[0m_get_function\u001b[0m\u001b[1;33m(\u001b[0m\u001b[1;33m)\u001b[0m\u001b[1;33m\u001b[0m\u001b[0m\n\u001b[0m\u001b[0;32m    216\u001b[0m \u001b[1;33m\u001b[0m\u001b[0m\n\u001b[0;32m    217\u001b[0m \u001b[1;33m\u001b[0m\u001b[0m\n",
      "\u001b[1;32md:\\onedrive\\bf3\\code\\pytopo\\pytopo\\sweep\\decorators.py\u001b[0m in \u001b[0;36m__call__\u001b[1;34m(self, *args, **kwargs)\u001b[0m\n\u001b[0;32m     15\u001b[0m \u001b[1;33m\u001b[0m\u001b[0m\n\u001b[0;32m     16\u001b[0m     \u001b[1;32mdef\u001b[0m \u001b[0m__call__\u001b[0m\u001b[1;33m(\u001b[0m\u001b[0mself\u001b[0m\u001b[1;33m,\u001b[0m \u001b[1;33m*\u001b[0m\u001b[0margs\u001b[0m\u001b[1;33m,\u001b[0m \u001b[1;33m**\u001b[0m\u001b[0mkwargs\u001b[0m\u001b[1;33m)\u001b[0m\u001b[1;33m:\u001b[0m\u001b[1;33m\u001b[0m\u001b[0m\n\u001b[1;32m---> 17\u001b[1;33m         \u001b[1;32mreturn\u001b[0m \u001b[0mself\u001b[0m\u001b[1;33m.\u001b[0m\u001b[0m_caller\u001b[0m\u001b[1;33m(\u001b[0m\u001b[1;33m*\u001b[0m\u001b[0margs\u001b[0m\u001b[1;33m,\u001b[0m \u001b[1;33m**\u001b[0m\u001b[0mkwargs\u001b[0m\u001b[1;33m)\u001b[0m\u001b[1;33m\u001b[0m\u001b[0m\n\u001b[0m\u001b[0;32m     18\u001b[0m \u001b[1;33m\u001b[0m\u001b[0m\n\u001b[0;32m     19\u001b[0m     \u001b[1;33m@\u001b[0m\u001b[0mproperty\u001b[0m\u001b[1;33m\u001b[0m\u001b[0m\n",
      "\u001b[1;32md:\\onedrive\\bf3\\code\\pytopo\\pytopo\\sweep\\decorators.py\u001b[0m in \u001b[0;36minner\u001b[1;34m()\u001b[0m\n\u001b[0;32m     91\u001b[0m     \u001b[1;32mdef\u001b[0m \u001b[0mdecorator\u001b[0m\u001b[1;33m(\u001b[0m\u001b[0mfunc\u001b[0m\u001b[1;33m:\u001b[0m \u001b[0mCallable\u001b[0m\u001b[1;33m)\u001b[0m \u001b[1;33m->\u001b[0m\u001b[0mMeasureFunction\u001b[0m\u001b[1;33m:\u001b[0m\u001b[1;33m\u001b[0m\u001b[0m\n\u001b[0;32m     92\u001b[0m         \u001b[1;32mdef\u001b[0m \u001b[0minner\u001b[0m\u001b[1;33m(\u001b[0m\u001b[1;33m)\u001b[0m \u001b[1;33m->\u001b[0m\u001b[0mdict\u001b[0m\u001b[1;33m:\u001b[0m\u001b[1;33m\u001b[0m\u001b[0m\n\u001b[1;32m---> 93\u001b[1;33m             \u001b[0mresults\u001b[0m \u001b[1;33m=\u001b[0m \u001b[0mnp\u001b[0m\u001b[1;33m.\u001b[0m\u001b[0matleast_1d\u001b[0m\u001b[1;33m(\u001b[0m\u001b[0mfunc\u001b[0m\u001b[1;33m(\u001b[0m\u001b[1;33m)\u001b[0m\u001b[1;33m)\u001b[0m\u001b[1;33m\u001b[0m\u001b[0m\n\u001b[0m\u001b[0;32m     94\u001b[0m             \u001b[1;32mreturn\u001b[0m \u001b[1;33m{\u001b[0m\u001b[0mk\u001b[0m\u001b[1;33m[\u001b[0m\u001b[1;36m0\u001b[0m\u001b[1;33m]\u001b[0m\u001b[1;33m:\u001b[0m \u001b[0mv\u001b[0m \u001b[1;32mfor\u001b[0m \u001b[0mk\u001b[0m\u001b[1;33m,\u001b[0m \u001b[0mv\u001b[0m \u001b[1;32min\u001b[0m \u001b[0mzip\u001b[0m\u001b[1;33m(\u001b[0m\u001b[0mnames_units\u001b[0m\u001b[1;33m,\u001b[0m \u001b[0mresults\u001b[0m\u001b[1;33m)\u001b[0m\u001b[1;33m}\u001b[0m\u001b[1;33m\u001b[0m\u001b[0m\n\u001b[0;32m     95\u001b[0m \u001b[1;33m\u001b[0m\u001b[0m\n",
      "\u001b[1;32m<ipython-input-106-ea1e36301db9>\u001b[0m in \u001b[0;36mmeasure_Ibias\u001b[1;34m(Rseries, attenuation)\u001b[0m\n\u001b[0;32m     19\u001b[0m        )\n\u001b[0;32m     20\u001b[0m \u001b[1;32mdef\u001b[0m \u001b[0mmeasure_Ibias\u001b[0m\u001b[1;33m(\u001b[0m\u001b[0mRseries\u001b[0m\u001b[1;33m=\u001b[0m\u001b[1;36m18e3\u001b[0m\u001b[1;33m,\u001b[0m \u001b[0mattenuation\u001b[0m\u001b[1;33m=\u001b[0m\u001b[1;36m1e-6\u001b[0m\u001b[1;33m)\u001b[0m\u001b[1;33m:\u001b[0m\u001b[1;33m\u001b[0m\u001b[0m\n\u001b[1;32m---> 21\u001b[1;33m     \u001b[0mtime\u001b[0m\u001b[1;33m.\u001b[0m\u001b[0msleep\u001b[0m\u001b[1;33m(\u001b[0m\u001b[1;36m0.17\u001b[0m\u001b[1;33m)\u001b[0m\u001b[1;33m\u001b[0m\u001b[0m\n\u001b[0m\u001b[0;32m     22\u001b[0m     \u001b[1;31m#Iac     = attenuation*lockin1.amplitude() #Ampere\u001b[0m\u001b[1;33m\u001b[0m\u001b[1;33m\u001b[0m\u001b[0m\n\u001b[0;32m     23\u001b[0m     \u001b[0mkey_raw1\u001b[0m \u001b[1;33m=\u001b[0m \u001b[0mkey1\u001b[0m\u001b[1;33m.\u001b[0m\u001b[0mvolt\u001b[0m\u001b[1;33m(\u001b[0m\u001b[1;33m)\u001b[0m\u001b[1;33m\u001b[0m\u001b[0m\n",
      "\u001b[1;31mKeyboardInterrupt\u001b[0m: "
     ]
    }
   ],
   "source": [
    "def setup(): \n",
    "    key1.NPLC(10)\n",
    "    mdac_Bias_voltage(-1e-3)\n",
    "    mdac_CUT_voltage(0.3)\n",
    "    lockin1.sine_outdc(0) \n",
    "    lockin1.amplitude(0)     # 1 MOhm of series resistance, so 1 V is converted to 1 uA\n",
    "    lockin1.time_constant(0.1)\n",
    "    time.sleep(3)\n",
    "\n",
    "def cleanup(): \n",
    "    lockin1.amplitude(0)\n",
    "    lockin1.sine_outdc(0)\n",
    "    mdac_CUT_voltage(0.6)\n",
    "    \n",
    "#('Lockin1_excitation', 'A'), ('g', '2e^2/h'), ('R', 'Ohm'),\n",
    "#        ('Lockin1_X', 'V'), ('Lockin1_Y', 'V'), ('Lockin1_R', 'V'), ('Lockin1_phase', 'deg'),\n",
    "\n",
    "@getter(('Voltage', 'V'), \n",
    "       )\n",
    "def measure_Ibias(Rseries=18e3, attenuation=1e-6):\n",
    "    time.sleep(0.17)\n",
    "    #Iac     = attenuation*lockin1.amplitude() #Ampere\n",
    "    key_raw1 = key1.volt()\n",
    "    #L1P     = lockin1.P()\n",
    "    #L1R     = lockin1.R()\n",
    "    #L1Y     = lockin1.Y()\n",
    "    # the above lines (excluding time.sleep) take at least 75ms to execute. \n",
    "    #L1X     = lockin1.X()  \n",
    "    #R = L1X/Iac - Rseries # Ohm\n",
    "    #try:\n",
    "    #    g = 12906/R #[2e^2/h]\n",
    "    #except ZeroDivisionError:\n",
    "    #    g = 0\n",
    "        \n",
    "    \n",
    "    result  =  key_raw1 #, Iac, g, R, L1X, L1Y, L1R, L1P\n",
    "    return result\n",
    "\n",
    "result = do_experiment(\n",
    "    \"Q326zz_Ibias-Gate_sweep/SS_230\",\n",
    "    nest(\n",
    "        sweep(mdac_Bias_voltage, np.linspace(-1e-3, 1e-3, 201)),\n",
    "        sweep(mdac_CUT_voltage, np.linspace(0, 0.3, 61)),\n",
    "        measure(measure_Ibias)\n",
    "    ),\n",
    "    setup,\n",
    "    cleanup,\n",
    "    live_plot=False\n",
    ")"
   ]
  },
  {
   "cell_type": "code",
   "execution_count": 38,
   "metadata": {},
   "outputs": [
    {
     "data": {
      "text/plain": [
       "{'mdac_CUT_voltage': 0}"
      ]
     },
     "execution_count": 38,
     "metadata": {},
     "output_type": "execute_result"
    }
   ],
   "source": [
    "mdac_CUT_voltage(0)\n",
    "#mdac_PG_voltage(0)"
   ]
  },
  {
   "cell_type": "markdown",
   "metadata": {},
   "source": [
    "### Gate stability"
   ]
  },
  {
   "cell_type": "code",
   "execution_count": null,
   "metadata": {},
   "outputs": [],
   "source": [
    "@getter(('current1', 'A'), ('raw_voltage_dc1', 'V'), ('conductance1', '2e^2/h'),\n",
    "        ('Lockin1_X', 'V'), ('Lockin1_Y', 'V'), ('Lockin1_R', 'V'),\n",
    "        ('Lockin1_phase', 'deg'), ('Lockin1_excitation', 'V'),)\n",
    "\n",
    "def measure_acdc(gain=1e6, Rseries=18e3, adder_atten=1):\n",
    "    time.sleep(0.1)\n",
    "#     if np.abs(np.abs(lockin1.sine_outdc())-0.05) < 2e-3: # make this range larger than distance btw two points\n",
    "#         time.sleep(3)\n",
    "    key_raw1 = key1.volt()\n",
    "    current_dc1 = -key_raw1/gain\n",
    "    Vac1     = adder_atten*lockin1.amplitude()\n",
    "    L1P     = lockin1.P()\n",
    "    L1R     = lockin1.R()\n",
    "    L1Y     = lockin1.Y()\n",
    "    # the above lines (excluding time.sleep) take at least 75ms to execute. \n",
    "    L1X     = lockin1.X()\n",
    "    current_ac = L1X/gain    \n",
    "    try:\n",
    "        g1 = 12906/(Vac1/current_ac - Rseries) #[2e^2/h]\n",
    "    except ZeroDivisionError:\n",
    "        g1 = 0\n",
    "\n",
    "    result  = current_dc1, key_raw1, g1, L1X, L1Y, L1R, L1P, \n",
    "    return result\n",
    "\n",
    "@setter((\"time_sweep_real\", \"s\"))\n",
    "def time_sweep_real(a): \n",
    "    time.sleep(0.001)\n",
    "    \n",
    "def time_window(t0, count): # yields the time difference between the current time and some initial time t0\n",
    "    for kk in range(count):\n",
    "        yield time.time() - t0\n",
    "\n",
    "lockin1.time_constant(0.03)\n",
    "\n",
    "def setup1():    \n",
    "    key1.NPLC(1)\n",
    "    mdac_PG_voltage(-0.5)\n",
    "    lockin1_dc(0)    # voltage you want to apply (takes into account attenuation 100)\n",
    "    lockin1.amplitude(10e-6) # to be attenuated by 100. So 10uV excitation when this is 1mV\n",
    "    mdac_PG_voltage(0.1)\n",
    "    time.sleep(20)\n",
    "\n",
    "def cleanup1(): \n",
    "    lockin1.amplitude(0)\n",
    "    lockin1_dc(0)\n",
    "    mdac_PG_voltage(0)\n",
    "\n",
    "result = do_experiment(\n",
    "    \"Q243_Vbias_gate_stability_0bias_lockinTimeConstant={}s/QPC2\".format(lockin1.time_constant()),\n",
    "    nest(\n",
    "        #sweep(lockin1.frequency, np.linspace(7,131, 20)),\n",
    "        sweep(mdac_PG_voltage, np.linspace(0.1, 0.3, 51)),\n",
    "        #sweep(field_sweep, field_window(ami_x, -0.9, 0.9)),\n",
    "        #sweep(lockin_dc, np.linspace(-20e-3, 20e-3, 101)),\n",
    "        sweep(time_sweep, np.linspace(0, 1, 201)),\n",
    "        measure(measure_acdc)\n",
    "    ),\n",
    "    setup1,\n",
    "    cleanup1,\n",
    "    live_plot=False\n",
    ") \n",
    "\n",
    "lockin1.time_constant(0.1)\n",
    "\n",
    "result = do_experiment(\n",
    "    \"Q243_Vbias_gate_stability_0bias_lockinTimeConstant={}s/QPC2\".format(lockin1.time_constant()),\n",
    "    nest(\n",
    "        #sweep(lockin1.frequency, np.linspace(7,131, 20)),\n",
    "        sweep(mdac_PG_voltage, np.linspace(0.1, 0.3, 51)),\n",
    "        #sweep(field_sweep, field_window(ami_x, -0.9, 0.9)),\n",
    "        #sweep(lockin_dc, np.linspace(-20e-3, 20e-3, 101)),\n",
    "        sweep(time_sweep, np.linspace(0, 1, 201)),\n",
    "        measure(measure_acdc)\n",
    "    ),\n",
    "    setup1,\n",
    "    cleanup1,\n",
    "    live_plot=False\n",
    ") "
   ]
  },
  {
   "cell_type": "code",
   "execution_count": 195,
   "metadata": {},
   "outputs": [
    {
     "name": "stdout",
     "output_type": "stream",
     "text": [
      "Starting experimental run with id: 14\n",
      "Starting experimental run with id: 15\n"
     ]
    }
   ],
   "source": [
    "@getter(('current1', 'A'), ('raw_voltage_dc1', 'V'), ('conductance1', '2e^2/h'),\n",
    "        ('Lockin1_X', 'V'), ('Lockin1_Y', 'V'), ('Lockin1_R', 'V'),\n",
    "        ('Lockin1_phase', 'deg'), ('Lockin1_excitation', 'V'),)\n",
    "\n",
    "def measure_acdc(gain=1e6, Rseries=13e3, adder_atten=1):\n",
    "    time.sleep(0.1)\n",
    "#     if np.abs(np.abs(lockin1.sine_outdc())-0.05) < 2e-3: # make this range larger than distance btw two points\n",
    "#         time.sleep(3)\n",
    "    key_raw1 = key1.volt()\n",
    "    current_dc1 = -key_raw1/gain\n",
    "    Vac1     = adder_atten*lockin1.amplitude()\n",
    "    L1P     = lockin1.P()\n",
    "    L1R     = lockin1.R()\n",
    "    L1Y     = lockin1.Y()\n",
    "    # the above lines (excluding time.sleep) take at least 75ms to execute. \n",
    "    L1X     = lockin1.X()\n",
    "    current_ac = L1X/gain    \n",
    "    try:\n",
    "        g1 = 12906/(Vac1/current_ac - Rseries) #[2e^2/h]\n",
    "    except ZeroDivisionError:\n",
    "        g1 = 0\n",
    "\n",
    "    result  = current_dc1, key_raw1, g1, L1X, L1Y, L1R, L1P, \n",
    "    return result\n",
    "\n",
    "@setter((\"time_sweep_real\", \"s\"))\n",
    "def time_sweep_real(a): \n",
    "    time.sleep(0.001)\n",
    "    \n",
    "def time_window(t0, count): # yields the time difference between the current time and some initial time t0\n",
    "    for kk in range(count):\n",
    "        yield time.time() - t0\n",
    "\n",
    "lockin1.time_constant(0.03)\n",
    "\n",
    "def setup1():    \n",
    "    key1.NPLC(1)\n",
    "    mdac_PG_voltage(-0.5)\n",
    "    lockin1_dc(0)    # voltage you want to apply (takes into account attenuation 100)\n",
    "    lockin1.amplitude(10e-6) # to be attenuated by 100. So 10uV excitation when this is 1mV\n",
    "    mdac_PG_voltage(0.1)\n",
    "    time.sleep(20)\n",
    "\n",
    "def cleanup1(): \n",
    "    lockin1.amplitude(0)\n",
    "    lockin1_dc(0)\n",
    "    mdac_PG_voltage(0)\n",
    "\n",
    "result = do_experiment(\n",
    "    \"Q243_Vbias_gate_stability_0bias_lockinTimeConstant={}s/QPC2\".format(lockin1.time_constant()),\n",
    "    nest(\n",
    "        #sweep(lockin1.frequency, np.linspace(7,131, 20)),\n",
    "        sweep(mdac_PG_voltage, np.linspace(0.1, 0.3, 51)),\n",
    "        #sweep(field_sweep, field_window(ami_x, -0.9, 0.9)),\n",
    "        #sweep(lockin_dc, np.linspace(-20e-3, 20e-3, 101)),\n",
    "        sweep(time_sweep, np.linspace(0, 1, 201)),\n",
    "        measure(measure_acdc)\n",
    "    ),\n",
    "    setup1,\n",
    "    cleanup1,\n",
    "    live_plot=False\n",
    ") \n",
    "\n",
    "lockin1.time_constant(0.1)\n",
    "\n",
    "result = do_experiment(\n",
    "    \"Q243_Vbias_gate_stability_0bias_lockinTimeConstant={}s/QPC2\".format(lockin1.time_constant()),\n",
    "    nest(\n",
    "        #sweep(lockin1.frequency, np.linspace(7,131, 20)),\n",
    "        sweep(mdac_PG_voltage, np.linspace(0.1, 0.3, 51)),\n",
    "        #sweep(field_sweep, field_window(ami_x, -0.9, 0.9)),\n",
    "        #sweep(lockin_dc, np.linspace(-20e-3, 20e-3, 101)),\n",
    "        sweep(time_sweep, np.linspace(0, 1, 201)),\n",
    "        measure(measure_acdc)\n",
    "    ),\n",
    "    setup1,\n",
    "    cleanup1,\n",
    "    live_plot=False\n",
    ") \n"
   ]
  },
  {
   "cell_type": "code",
   "execution_count": 197,
   "metadata": {},
   "outputs": [
    {
     "name": "stdout",
     "output_type": "stream",
     "text": [
      "Starting experimental run with id: 17\n"
     ]
    }
   ],
   "source": [
    "@getter(('current1', 'A'), ('raw_voltage_dc1', 'V'))\n",
    "def measure_dc(gain=1e6, Rseries=13e3, adder_atten=1):\n",
    "    time.sleep(0.03)\n",
    "    key_raw1 = key1.volt()\n",
    "    current_dc1 = -key_raw1/gain\n",
    "    \n",
    "    result  = current_dc1, key_raw1 \n",
    "    return result\n",
    "\n",
    "\n",
    "@setter((\"time_sweep_real\", \"s\"))\n",
    "def time_sweep_real(a): \n",
    "    time.sleep(0.001)\n",
    "    \n",
    "def time_window(t0, count): # yields the time difference between the current time and some initial time t0\n",
    "    for kk in range(count):\n",
    "        yield time.time() - t0\n",
    "\n",
    "def setup1():    \n",
    "    key1.NPLC(1)\n",
    "    mdac_PG_voltage(-0.5)\n",
    "    lockin1_dc(0.01)    # voltage you want to apply (takes into account attenuation 100)\n",
    "    lockin1.amplitude(0) # to be attenuated by 100. So 10uV excitation when this is 1mV\n",
    "    mdac_PG_voltage(0.1)\n",
    "    time.sleep(20)\n",
    "\n",
    "def cleanup1(): \n",
    "    lockin1.amplitude(0)\n",
    "    lockin1_dc(0)\n",
    "    mdac_PG_voltage(0)\n",
    "\n",
    "result = do_experiment(\n",
    "    \"Q243_Vbias_gate_stability_10mVbias/QPC2\".format(lockin1.time_constant()),\n",
    "    nest(\n",
    "        #sweep(lockin1.frequency, np.linspace(7,131, 20)),\n",
    "        sweep(mdac_PG_voltage, np.linspace(0.1, 0.3, 51)),\n",
    "        #sweep(field_sweep, field_window(ami_x, -0.9, 0.9)),\n",
    "        #sweep(lockin_dc, np.linspace(-20e-3, 20e-3, 101)),\n",
    "        sweep(time_sweep, np.linspace(0, 1, 201)),\n",
    "        measure(measure_acdc)\n",
    "    ),\n",
    "    setup1,\n",
    "    cleanup1,\n",
    "    live_plot=False\n",
    ") \n",
    "\n"
   ]
  },
  {
   "cell_type": "markdown",
   "metadata": {},
   "source": [
    "### Gate sweep forth & back"
   ]
  },
  {
   "cell_type": "code",
   "execution_count": 168,
   "metadata": {},
   "outputs": [
    {
     "name": "stdout",
     "output_type": "stream",
     "text": [
      "Starting experimental run with id: 6\n",
      "Starting experimental run with id: 7\n"
     ]
    }
   ],
   "source": [
    "@getter(('current1', 'A'), ('raw_voltage_dc1', 'V'), ('conductance1', '2e^2/h'),\n",
    "        ('Lockin1_X', 'V'), ('Lockin1_Y', 'V'), ('Lockin1_R', 'V'),\n",
    "        ('Lockin1_phase', 'deg'), ('Lockin1_excitation', 'V'),)\n",
    "\n",
    "def measure_acdc(gain=1e6, Rseries=13e3, adder_atten=1):\n",
    "    time.sleep(0.1)\n",
    "    if np.abs(np.abs(lockin1.sine_outdc())-0.05) < 2e-3: # make this range larger than distance btw two points\n",
    "        time.sleep(3)\n",
    "    key_raw1 = key1.volt()\n",
    "    current_dc1 = -key_raw1/gain\n",
    "    Vac1     = adder_atten*lockin1.amplitude()\n",
    "    L1P     = lockin1.P()\n",
    "    L1R     = lockin1.R()\n",
    "    L1Y     = lockin1.Y()\n",
    "    # the above lines (excluding time.sleep) take at least 75ms to execute. \n",
    "    L1X     = lockin1.X()\n",
    "    current_ac = L1X/gain    \n",
    "    try:\n",
    "        g1 = 12906/(Vac1/current_ac - Rseries) #[2e^2/h]\n",
    "    except ZeroDivisionError:\n",
    "        g1 = 0\n",
    "\n",
    "    result  = current_dc1, key_raw1, g1, L1X, L1Y, L1R, L1P, \n",
    "    return result\n",
    "\n",
    "sample_name = 'QPC2'\n",
    "min_PG = -0.5\n",
    "max_PG = 1\n",
    "lockin_dc = 10e-3    #V\n",
    "\n",
    "points = int(50*(max_PG - min_PG) + 1)\n",
    "\n",
    "def setup1():    \n",
    "    key1.NPLC(1)\n",
    "    lockin1_dc(lockin_dc)    # voltage you want to apply (takes into account attenuation 100)\n",
    "    lockin1.amplitude(10e-6) # to be attenuated by 100. So 10uV excitation when this is 1mV\n",
    "    mdac_PG_voltage(min_PG)\n",
    "    time.sleep(20)\n",
    "\n",
    "def cleanup1(): \n",
    "    lockin1.amplitude(0)\n",
    "    lockin1_dc(0)\n",
    "    mdac_PG_voltage(max_PG)\n",
    "\n",
    "result = do_experiment(\n",
    "    \"Q243_Vbias_pinchoff_{}mV_bias/{}\".format(int(lockin_dc*1000), sample_name),\n",
    "    nest(\n",
    "        #sweep(lockin1.frequency, np.linspace(7,131, 20)),\n",
    "        sweep(mdac_PG_voltage, np.linspace(min_PG, max_PG, points)),\n",
    "        #sweep(field_sweep, field_window(ami_x, -0.9, 0.9)),\n",
    "        #sweep(lockin_dc, np.linspace(-20e-3, 20e-3, 101)),\n",
    "        measure(measure_acdc)\n",
    "    ),\n",
    "    setup1,\n",
    "    cleanup1,\n",
    "    live_plot=False\n",
    ") \n",
    "\n",
    "def setup2():    \n",
    "    key1.NPLC(1)\n",
    "    lockin1_dc(lockin_dc)    # voltage you want to apply (takes into account attenuation 100)\n",
    "    lockin1.amplitude(10e-6)\n",
    "    mdac_PG_voltage(max_PG)\n",
    "    time.sleep(1)\n",
    "\n",
    "def cleanup2(): \n",
    "    lockin1.amplitude(0)\n",
    "    lockin1_dc(0)\n",
    "    mdac_PG_voltage(0)\n",
    "\n",
    "result = do_experiment(\n",
    "    \"Q243_Gate_sweep_backward_{}mV_bias/{}\".format(int(lockin_dc*1000), sample_name),\n",
    "    nest(\n",
    "        #sweep(lockin1.frequency, np.linspace(7,131, 20)),\n",
    "        sweep(mdac_PG_voltage, np.linspace(max_PG, min_PG, points)),\n",
    "        #sweep(field_sweep, field_window(ami_x, -0.9, 0.9)),\n",
    "        #sweep(lockin_dc, np.linspace(-20e-3, 20e-3, 101)),\n",
    "        measure(measure_acdc)\n",
    "    ),\n",
    "    setup2,\n",
    "    cleanup2,\n",
    "    live_plot=False\n",
    ")"
   ]
  },
  {
   "cell_type": "code",
   "execution_count": 97,
   "metadata": {},
   "outputs": [
    {
     "name": "stdout",
     "output_type": "stream",
     "text": [
      "Starting experimental run with id: 17\n",
      "Initializing (blocking) field to 0.2 T ...\n",
      "Sweeping (non-blocking) field to -0.2 T ...\n",
      "Starting experimental run with id: 18\n",
      "Initializing (blocking) field to -0.2 T ...\n",
      "Sweeping (non-blocking) field to 0.2 T ...\n",
      "Starting experimental run with id: 19\n",
      "Initializing (blocking) field to 0.2 T ...\n",
      "Sweeping (non-blocking) field to -0.2 T ...\n",
      "Starting experimental run with id: 20\n",
      "Initializing (blocking) field to -0.2 T ...\n",
      "Sweeping (non-blocking) field to 0.2 T ...\n",
      "Starting experimental run with id: 21\n",
      "Initializing (blocking) field to 0.2 T ...\n",
      "Sweeping (non-blocking) field to -0.2 T ...\n"
     ]
    },
    {
     "data": {
      "text/plain": [
       "{'mdac_CUT_voltage': 0}"
      ]
     },
     "execution_count": 97,
     "metadata": {},
     "output_type": "execute_result"
    }
   ],
   "source": [
    "def setup():    \n",
    "    key1.NPLC(1)\n",
    "    key2.NPLC(1)\n",
    "    lockin1.amplitude(2e-3) # to be attenuated by 100. So 10uV excitation when this is 1mV\n",
    "    lockin2.amplitude(2e-3) # to be attenuated by 100. So 10uV excitation when this is 1mV\n",
    "    time.sleep(3)\n",
    "\n",
    "def cleanup(): \n",
    "    lockin1.amplitude(0)\n",
    "    lockin2.amplitude(0)\n",
    "    lockin1_dc(0)\n",
    "    lockin2_dc(0)\n",
    "\n",
    "@getter(('B_x', 'T'), ('current1', 'A'), ('raw_voltage_dc1', 'V'), ('conductance1', '2e^2/h'),\n",
    "        ('Lockin1_X', 'V'), ('Lockin1_Y', 'V'), ('Lockin1_R', 'V'),\n",
    "        ('Lockin1_phase', 'deg'), ('Lockin1_excitation', 'V'),\n",
    "        ('current2', 'A'), ('raw_voltage_dc2', 'V'), ('conductance2', '2e^2/h'),\n",
    "        ('Lockin2_X', 'V'), ('Lockin2_Y', 'V'), ('Lockin2_R', 'V'),\n",
    "        ('Lockin2_phase', 'deg'), ('Lockin2_excitation', 'V'))\n",
    "def measure_acdc(gain=1e6, Rseries=13e3, adder_atten=1e-2):\n",
    "    B_x = ami_x.field()\n",
    "#     if np.abs(np.abs(lockin1.sine_outdc())-0.05) < 2e-3: # make this range larger than distance btw two points\n",
    "#         time.sleep(3)\n",
    "    key_raw1 = key1.volt()\n",
    "    current_dc1 = -key_raw1/gain\n",
    "    Vac1     = adder_atten*lockin1.amplitude()\n",
    "    L1P     = lockin1.P()\n",
    "    L1R     = lockin1.R()\n",
    "    L1Y     = lockin1.Y()\n",
    "    # the above lines (excluding time.sleep) take at least 75ms to execute. \n",
    "    L1X     = lockin1.X()\n",
    "    current_ac = L1X/gain    \n",
    "    try:\n",
    "        g1 = 12906/(Vac1/current_ac - Rseries) #[2e^2/h]\n",
    "    except ZeroDivisionError:\n",
    "        g1 = 0\n",
    "#     if np.abs(np.abs(lockin2.sine_outdc())-0.05) < 2e-3: # make this range larger than distance btw two points\n",
    "#         time.sleep(3)\n",
    "    key_raw2 = key2.volt()\n",
    "    current_dc2 = -key_raw2/gain\n",
    "    Vac2     = adder_atten*lockin2.amplitude()\n",
    "    L2P     = lockin2.P()\n",
    "    L2R     = lockin2.R()\n",
    "    L2Y     = lockin2.Y()\n",
    "    # the above lines (excluding time.sleep) take at least 75ms to execute. \n",
    "    L2X     = lockin2.X()\n",
    "    current_ac = L2X/gain    \n",
    "    try:\n",
    "        g2 = 12906/(Vac2/current_ac - Rseries) #[2e^2/h]\n",
    "    except ZeroDivisionError:\n",
    "        g2 = 0\n",
    "\n",
    "    result  = B_x, current_dc1, key_raw1, g1, L1X, L1Y, L1R, L1P, Vac1, current_dc2, key_raw2, g2, L2X, L2Y, L2R, L2P, Vac2\n",
    "    return result\n",
    "\n",
    "mdac_PG_voltage(0)\n",
    "mdac_CUT_voltage(0)\n",
    "Gate = [0, 0.3, 0.6, 0.9, 1.2]\n",
    "lockin_DC = [0]\n",
    "for i, G in enumerate(Gate):\n",
    "    for j, DC in enumerate(lockin_DC):\n",
    "        mdac_PG_voltage(G)\n",
    "        mdac_CUT_voltage(G)\n",
    "        lockin1_dc(DC)\n",
    "        lockin2_dc(DC)\n",
    "        result = do_experiment(\n",
    "            \"Q243_field_sweep_Gate_{}V_Bias_{}V/FEM1_A1D11_FEM3_D6D4\".format(G, DC),\n",
    "            nest(\n",
    "                #sweep(lockin1.frequency, np.linspace(7,131, 20)),\n",
    "                #sweep(mdac_CUT_voltage, np.linspace(-0.5, 1, 151)),\n",
    "                sweep(field_sweep, field_window(ami_x, -0.2, 0.2)),\n",
    "                #sweep(lockin_dc, np.linspace(-20e-3, 20e-3, 101)),\n",
    "                measure(measure_acdc)\n",
    "            ),\n",
    "            setup,\n",
    "            cleanup,\n",
    "            live_plot=False\n",
    "        ) \n",
    "\n",
    "lockin1.amplitude(0)\n",
    "lockin2.amplitude(0)\n",
    "lockin1_dc(0)\n",
    "lockin2_dc(0)\n",
    "mdac_PG_voltage(0)\n",
    "mdac_CUT_voltage(0)"
   ]
  },
  {
   "cell_type": "markdown",
   "metadata": {},
   "source": [
    "### pinch-offs at 4K"
   ]
  },
  {
   "cell_type": "code",
   "execution_count": 27,
   "metadata": {},
   "outputs": [],
   "source": [
    "ami_x.ramp_to(0)"
   ]
  },
  {
   "cell_type": "code",
   "execution_count": 30,
   "metadata": {},
   "outputs": [],
   "source": [
    "def mdac_PG_TLM2_voltage_raw(voltage): \n",
    "    ramp(PG_TLM2.voltage, voltage, gate_ramp_stepsize, gate_ramp_delay)\n",
    "mdac_PG_TLM2_voltage = setter((\"mdac_PG_TLM2_B6B5_voltage\", \"V\"))(mdac_PG_TLM2_voltage_raw)\n",
    "\n",
    "def mdac_PG_FEM3_voltage_raw(voltage): \n",
    "    ramp(PG_FEM3.voltage, voltage, gate_ramp_stepsize, gate_ramp_delay)\n",
    "mdac_PG_FEM3_voltage = setter((\"mdac_PG_FEM3_D6D4_voltage\", \"V\"))(mdac_PG_FEM3_voltage_raw)\n",
    "\n",
    "def mdac_PG_FEM1_voltage_raw(voltage): \n",
    "    ramp(PG_FEM1.voltage, voltage, gate_ramp_stepsize, gate_ramp_delay)\n",
    "mdac_PG_FEM1_voltage = setter((\"mdac_PG_FEM1_A1D11_voltage\", \"V\"))(mdac_PG_FEM1_voltage_raw)\n",
    "\n",
    "def mdac_3GATES_voltage_raw(voltage):\n",
    "    ramp(PG_TLM2.voltage, voltage, gate_ramp_stepsize, gate_ramp_delay)\n",
    "    ramp(PG_FEM3.voltage, voltage, gate_ramp_stepsize, gate_ramp_delay)\n",
    "    ramp(PG_FEM1.voltage, voltage, gate_ramp_stepsize, gate_ramp_delay)    \n",
    "mdac_3GATES_voltage = setter((\"mdac_3GATES_voltage\", \"V\"))(mdac_3GATES_voltage_raw)\n"
   ]
  },
  {
   "cell_type": "code",
   "execution_count": 55,
   "metadata": {},
   "outputs": [
    {
     "name": "stdout",
     "output_type": "stream",
     "text": [
      "setting mdac in safe mode\n",
      "Done\n"
     ]
    }
   ],
   "source": [
    "set_mdac_in_safemode()"
   ]
  },
  {
   "cell_type": "code",
   "execution_count": 53,
   "metadata": {},
   "outputs": [],
   "source": [
    "PG_TLM2 = mdac.ch49\n",
    "initialize(PG_TLM2)\n",
    "\n",
    "PG_FEM3 = mdac.ch01\n",
    "initialize(PG_FEM3)\n",
    "\n",
    "PG_FEM1 = mdac.ch09\n",
    "initialize(PG_FEM1)"
   ]
  },
  {
   "cell_type": "code",
   "execution_count": 41,
   "metadata": {},
   "outputs": [
    {
     "name": "stdout",
     "output_type": "stream",
     "text": [
      "Starting experimental run with id: 21\n",
      "Starting experimental run with id: 22\n"
     ]
    }
   ],
   "source": [
    "@getter(('current2', 'A'), ('raw_voltage_dc2', 'V'), ('conductance2', '2e^2/h'), \n",
    "        ('L2_X', 'V'), ('L2_Y', 'V'), ('L2_R', 'V'), ('L2_phase', 'deg'), ('L2_excit', 'V'),\n",
    "        ('current3', 'A'), ('raw_voltage_dc3', 'V'), ('conductance3', '2e^2/h'), \n",
    "        ('L3_X', 'V'), ('L3_Y', 'V'), ('L3_R', 'V'), ('L3_phase', 'deg'), ('L3_excit', 'V'),\n",
    "        ('current4', 'A'), ('raw_voltage_dc4', 'V'), ('conductance4', '2e^2/h'), \n",
    "        ('L4_X', 'V'), ('L4_Y', 'V'), ('L4_R', 'V'), ('L4_phase', 'deg'), ('L4_excit', 'V'),\n",
    "       )\n",
    "\n",
    "def measure_acdc(gain=1e6, Rseries=13e3, adder_atten=1e-2):\n",
    "    time.sleep(0.1)\n",
    "    \n",
    "    if np.abs(np.abs(lockin2.sine_outdc())-0.05) < 2e-3: # make this range larger than distance btw two points\n",
    "        time.sleep(3)\n",
    "    key_raw1 = key1.volt()\n",
    "    current_dc2 = -key_raw1/gain\n",
    "    Vac2     = adder_atten*lockin2.amplitude()\n",
    "    L2P     = lockin2.P()\n",
    "    L2R     = lockin2.R()\n",
    "    L2Y     = lockin2.Y()\n",
    "    # the above lines (excluding time.sleep) take at least 75ms to execute. \n",
    "    L2X     = lockin2.X()\n",
    "    current2_ac = L2X/gain    \n",
    "    try:\n",
    "        g2 = 12906/(Vac2/current2_ac - Rseries) #[2e^2/h]\n",
    "    except ZeroDivisionError:\n",
    "        g2 = 0\n",
    "        \n",
    "    if np.abs(np.abs(lockin3.sine_outdc())-0.05) < 2e-3: # make this range larger than distance btw two points\n",
    "        time.sleep(3)\n",
    "    key_raw2 = key2.volt()\n",
    "    current_dc3 = -key_raw2/gain\n",
    "    Vac3     = adder_atten*lockin3.amplitude()\n",
    "    L3P     = lockin3.P()\n",
    "    L3R     = lockin3.R()\n",
    "    L3Y     = lockin3.Y()\n",
    "    # the above lines (excluding time.sleep) take at least 75ms to execute. \n",
    "    L3X     = lockin3.X()\n",
    "    current3_ac = L3X/gain    \n",
    "    try:\n",
    "        g3 = 12906/(Vac3/current3_ac - Rseries) #[2e^2/h]\n",
    "    except ZeroDivisionError:\n",
    "        g3 = 0\n",
    "    \n",
    "    if np.abs(np.abs(lockin4.sine_outdc())-0.05) < 2e-3: # make this range larger than distance btw two points\n",
    "        time.sleep(3)\n",
    "    key_raw3 = key3.volt()\n",
    "    current_dc4 = -key_raw3/gain\n",
    "    Vac4     = adder_atten*lockin4.amplitude()\n",
    "    L4P     = lockin4.P()\n",
    "    L4R     = lockin4.R()\n",
    "    L4Y     = lockin4.Y()\n",
    "    # the above lines (excluding time.sleep) take at least 75ms to execute. \n",
    "    L4X     = lockin4.X()\n",
    "    current4_ac = L4X/gain    \n",
    "    try:\n",
    "        g4 = 12906/(Vac4/current4_ac - Rseries) #[2e^2/h]\n",
    "    except ZeroDivisionError:\n",
    "        g4 = 0\n",
    "\n",
    "    result  = current_dc2, key_raw1, g2, L2X, L2Y, L2R, L2P, Vac2, current_dc3, key_raw2, g3, L3X, L3Y, L3R, L3P, Vac3, current_dc4, key_raw3, g4, L4X, L4Y, L4R, L4P, Vac4\n",
    "    return result\n",
    "\n",
    "sample_name = 'TLM2_FEM3_FEM1'\n",
    "min_PG = -0.2\n",
    "max_PG = 1.2\n",
    "lockin_dc = 10e-3    #V voltage you want to apply (takes into account attenuation 100)\n",
    "lockin_ac = 10e-6*100   #V to be attenuated by 100. So 10uV excitation when this is 1mV\n",
    "\n",
    "points = int(200*(max_PG - min_PG) + 1)\n",
    "\n",
    "def setup1():    \n",
    "    key1.NPLC(1)\n",
    "    key2.NPLC(1)\n",
    "    key3.NPLC(1)\n",
    "    lockin2_dc(lockin_dc)    # voltage you want to apply (takes into account attenuation 100)\n",
    "    lockin2.amplitude(lockin_ac) # to be attenuated by 100. So 10uV excitation when this is 1mV\n",
    "    lockin3_dc(lockin_dc)    # voltage you want to apply (takes into account attenuation 100)\n",
    "    lockin3.amplitude(lockin_ac) # to be attenuated by 100. So 10uV excitation when this is 1mV\n",
    "    lockin4_dc(lockin_dc)    # voltage you want to apply (takes into account attenuation 100)\n",
    "    lockin4.amplitude(lockin_ac) # to be attenuated by 100. So 10uV excitation when this is 1mV\n",
    "    mdac_PG_TLM2_voltage(min_PG)\n",
    "    mdac_PG_FEM3_voltage(min_PG)\n",
    "    mdac_PG_FEM1_voltage(min_PG)\n",
    "    time.sleep(3)\n",
    "\n",
    "def cleanup1(): \n",
    "    mdac_PG_TLM2_voltage(max_PG)\n",
    "    mdac_PG_FEM3_voltage(max_PG)\n",
    "    mdac_PG_FEM1_voltage(max_PG)\n",
    "\n",
    "result = do_experiment(\n",
    "    \"Q243_Gate_sweep_{}mV_bias/{}\".format(int(lockin_dc*1000), sample_name),\n",
    "    nest(\n",
    "        #sweep(lockin1.frequency, np.linspace(7,131, 20)),\n",
    "        sweep(mdac_3GATES_voltage, np.linspace(min_PG, max_PG, points)),\n",
    "        #sweep(field_sweep, field_window(ami_x, -0.9, 0.9)),\n",
    "        #sweep(lockin_dc, np.linspace(-20e-3, 20e-3, 101)),\n",
    "        measure(measure_acdc)\n",
    "    ),\n",
    "    setup1,\n",
    "    cleanup1,\n",
    "    live_plot=False\n",
    ") \n",
    "\n",
    "def setup2():   \n",
    "    mdac_PG_TLM2_voltage(max_PG)\n",
    "    mdac_PG_FEM3_voltage(max_PG)\n",
    "    mdac_PG_FEM1_voltage(max_PG)\n",
    "    time.sleep(1)\n",
    "\n",
    "def cleanup2(): \n",
    "    lockin2_dc(0)\n",
    "    lockin2.amplitude(0)\n",
    "    lockin3_dc(0)\n",
    "    lockin3.amplitude(0)\n",
    "    lockin4_dc(0)\n",
    "    lockin4.amplitude(0)\n",
    "    mdac_PG_TLM2_voltage(0)\n",
    "    mdac_PG_FEM3_voltage(0)\n",
    "    mdac_PG_FEM1_voltage(0)\n",
    "\n",
    "result = do_experiment(\n",
    "    \"Q243_Gate_sweep_backward_{}mV_bias/{}\".format(int(lockin_dc*1000), sample_name),\n",
    "    nest(\n",
    "        #sweep(lockin1.frequency, np.linspace(7,131, 20)),\n",
    "        sweep(mdac_3GATES_voltage, np.linspace(max_PG, min_PG, points)),\n",
    "        #sweep(field_sweep, field_window(ami_x, -0.9, 0.9)),\n",
    "        #sweep(lockin_dc, np.linspace(-20e-3, 20e-3, 101)),\n",
    "        measure(measure_acdc)\n",
    "    ),\n",
    "    setup2,\n",
    "    cleanup2,\n",
    "    live_plot=False\n",
    ")"
   ]
  },
  {
   "cell_type": "markdown",
   "metadata": {},
   "source": [
    "### Gate and bias"
   ]
  },
  {
   "cell_type": "code",
   "execution_count": 46,
   "metadata": {},
   "outputs": [
    {
     "name": "stdout",
     "output_type": "stream",
     "text": [
      "Starting experimental run with id: 15\n"
     ]
    }
   ],
   "source": [
    "def setup():    \n",
    "    key1.NPLC(1)\n",
    "    mdac_PG_voltage(-0.2)\n",
    "    lockin_dc(-20e-3)            # voltage you want to apply (takes into account attenuation 100)\n",
    "    lockin1.amplitude(2e-3)     # to be attenuated by 100. So 10uV excitation when this is 1mV\n",
    "    time.sleep(3)\n",
    "\n",
    "def cleanup(): \n",
    "    lockin1.amplitude(0)\n",
    "    lockin_dc(0)\n",
    "    mdac_PG_voltage(0)\n",
    "\n",
    "@getter(('current', 'A'), ('raw_voltage_dc', 'V'), ('conductance', '2e^2/h'),\n",
    "        ('Lockin1_X', 'V'), ('Lockin1_Y', 'V'), ('Lockin1_R', 'V'),\n",
    "        ('Lockin1_phase', 'deg'), ('Lockin1_excitation', 'V'))\n",
    "def measure_acdc(gain=1e6, Rseries=13e3, adder_atten=1e-2):\n",
    "    time.sleep(0.1)\n",
    "    if np.abs(np.abs(lockin1.sine_outdc())-0.05) < 2e-3: # make this range larger than distance btw two points\n",
    "        time.sleep(3)\n",
    "    key_raw = key1.volt()\n",
    "    current_dc = -key_raw/gain\n",
    "    Vac     = adder_atten*lockin1.amplitude()\n",
    "    L1P     = lockin1.P()\n",
    "    L1R     = lockin1.R()\n",
    "    L1Y     = lockin1.Y()\n",
    "    # the above lines (excluding time.sleep) take at least 75ms to execute. \n",
    "    L1X     = lockin1.X()\n",
    "    current_ac = L1X/gain    \n",
    "    try:\n",
    "        g = 12906/(Vac/current_ac - Rseries) #[2e^2/h]\n",
    "    except ZeroDivisionError:\n",
    "        g = 0\n",
    "\n",
    "    result  = current_dc, key_raw, g, L1X, L1Y, L1R, L1P, Vac\n",
    "    return result\n",
    "\n",
    "\n",
    "result = do_experiment(\n",
    "    \"Q243_Gate_vs_Bias_5.5T/QPC3_A7A9\",\n",
    "    nest(\n",
    "        #sweep(lockin1.frequency, np.linspace(7,))\n",
    "        #sweep(ami_z.field, np.linspace(0, 5.5, 55)),\n",
    "        sweep(mdac_PG_voltage, np.linspace(-0.2, 0.5, 401)),\n",
    "        #sweep(mdac_PG_voltage, np.concatenate((np.linspace(-0.2, 0.8, 101), np.linspace(0.8, -0.2, 101)))),\n",
    "        sweep(lockin_dc, np.linspace(-20e-3, 20e-3, 151)),\n",
    "        measure(measure_acdc)\n",
    "    ),\n",
    "    setup,\n",
    "    cleanup,\n",
    "    live_plot=False\n",
    ")"
   ]
  },
  {
   "cell_type": "code",
   "execution_count": 47,
   "metadata": {},
   "outputs": [
    {
     "name": "stdout",
     "output_type": "stream",
     "text": [
      "Starting experimental run with id: 16\n"
     ]
    }
   ],
   "source": [
    "def setup():    \n",
    "    key1.NPLC(1)\n",
    "    mdac_PG_voltage(-0.2)\n",
    "    lockin_dc(0)            # voltage you want to apply (takes into account attenuation 100)\n",
    "    lockin1.amplitude(2e-3)     # to be attenuated by 100. So 10uV excitation when this is 1mV\n",
    "    time.sleep(3)\n",
    "\n",
    "def cleanup(): \n",
    "    lockin1.amplitude(0)\n",
    "    lockin_dc(0)\n",
    "    mdac_PG_voltage(0)\n",
    "\n",
    "@getter(('current', 'A'), ('raw_voltage_dc', 'V'), ('conductance', '2e^2/h'),\n",
    "        ('Lockin1_X', 'V'), ('Lockin1_Y', 'V'), ('Lockin1_R', 'V'),\n",
    "        ('Lockin1_phase', 'deg'), ('Lockin1_excitation', 'V'))\n",
    "def measure_acdc(gain=1e6, Rseries=13e3, adder_atten=1e-2):\n",
    "    time.sleep(0.1)\n",
    "    if np.abs(np.abs(lockin1.sine_outdc())-0.05) < 2e-3: # make this range larger than distance btw two points\n",
    "        time.sleep(3)\n",
    "    key_raw = key1.volt()\n",
    "    current_dc = -key_raw/gain\n",
    "    Vac     = adder_atten*lockin1.amplitude()\n",
    "    L1P     = lockin1.P()\n",
    "    L1R     = lockin1.R()\n",
    "    L1Y     = lockin1.Y()\n",
    "    # the above lines (excluding time.sleep) take at least 75ms to execute. \n",
    "    L1X     = lockin1.X()\n",
    "    current_ac = L1X/gain    \n",
    "    try:\n",
    "        g = 12906/(Vac/current_ac - Rseries) #[2e^2/h]\n",
    "    except ZeroDivisionError:\n",
    "        g = 0\n",
    "\n",
    "    result  = current_dc, key_raw, g, L1X, L1Y, L1R, L1P, Vac\n",
    "    return result\n",
    "\n",
    "\n",
    "result = do_experiment(\n",
    "    \"Q243_Gate_vs_Field_0Bias/QPC3_A7A9\",\n",
    "    nest(\n",
    "        #sweep(lockin1.frequency, np.linspace(7,))\n",
    "        sweep(ami_z.field, np.linspace(5.5, 0, 55)),\n",
    "        sweep(mdac_PG_voltage, np.linspace(-0.2, 0.5, 401)),\n",
    "        #sweep(mdac_PG_voltage, np.concatenate((np.linspace(-0.2, 0.8, 101), np.linspace(0.8, -0.2, 101)))),\n",
    "        #sweep(lockin_dc, np.linspace(-20e-3, 20e-3, 151)),\n",
    "        measure(measure_acdc)\n",
    "    ),\n",
    "    setup,\n",
    "    cleanup,\n",
    "    live_plot=False\n",
    ")"
   ]
  },
  {
   "cell_type": "code",
   "execution_count": null,
   "metadata": {},
   "outputs": [],
   "source": []
  },
  {
   "cell_type": "markdown",
   "metadata": {},
   "source": [
    "## I-bias"
   ]
  },
  {
   "cell_type": "code",
   "execution_count": 128,
   "metadata": {},
   "outputs": [],
   "source": [
    "ami_x.ramp_rate(0.4e-3)"
   ]
  },
  {
   "cell_type": "code",
   "execution_count": 198,
   "metadata": {},
   "outputs": [],
   "source": [
    "ami_x.ramp_to(0.99)"
   ]
  },
  {
   "cell_type": "code",
   "execution_count": 130,
   "metadata": {},
   "outputs": [
    {
     "data": {
      "text/plain": [
       "-0.0271472"
      ]
     },
     "execution_count": 130,
     "metadata": {},
     "output_type": "execute_result"
    }
   ],
   "source": [
    "ami_x.field()"
   ]
  },
  {
   "cell_type": "code",
   "execution_count": 78,
   "metadata": {},
   "outputs": [
    {
     "data": {
      "text/plain": [
       "{'mdac_PG_voltage': 0}"
      ]
     },
     "execution_count": 78,
     "metadata": {},
     "output_type": "execute_result"
    }
   ],
   "source": [
    "mdac_PG_voltage(0)"
   ]
  },
  {
   "cell_type": "markdown",
   "metadata": {},
   "source": [
    "## Bx-Gate sweep for Hall mobility (blocking field)"
   ]
  },
  {
   "cell_type": "code",
   "execution_count": 77,
   "metadata": {},
   "outputs": [
    {
     "name": "stdout",
     "output_type": "stream",
     "text": [
      "Starting experimental run with id: 4\n"
     ]
    }
   ],
   "source": [
    "ami_x.ramp_rate(0.4e-3)\n",
    "timeconst = 0.1\n",
    "\n",
    "def setup():    \n",
    "    mdac_PG_voltage(-0.5)\n",
    "    lockin1_dc(0)\n",
    "    lockin1.amplitude(3e-3)     # 1 MOhm of series resistance, so 1 V is converted to 1 uA\n",
    "    lockin1.time_constant(timeconst)\n",
    "    lockin2.time_constant(timeconst)\n",
    "    lockin3.time_constant(timeconst)\n",
    "    lockin4.time_constant(timeconst)\n",
    "    time.sleep(3)\n",
    "\n",
    "def cleanup(): \n",
    "    lockin1.amplitude(0)\n",
    "    lockin1_dc(0)\n",
    "    mdac_PG_voltage(0)\n",
    "\n",
    "@getter(('Lockin1_excitation', 'A'), \n",
    "        ('g_xx_12up', '2e^2/h'), ('g_xy_junction2', '2e^2/h'), ('g_xx_23down', '2e^2/h'), ('g_xy_junction3', '2e^2/h'),\n",
    "        ('R_xx_12up', 'Ohm'), ('R_xy_junction2', 'Ohm'), ('R_xx_23down', 'Ohm'), ('R_xy_junction3', 'Ohm'),\n",
    "        ('Lockin1_X', 'V'), ('Lockin1_Y', 'V'), ('Lockin1_R', 'V'), ('Lockin1_phase', 'deg'), \n",
    "        ('Lockin2_X', 'V'), ('Lockin2_Y', 'V'), ('Lockin2_R', 'V'), ('Lockin2_phase', 'deg'),\n",
    "        ('Lockin3_X', 'V'), ('Lockin3_Y', 'V'), ('Lockin3_R', 'V'), ('Lockin3_phase', 'deg'),\n",
    "        ('Lockin4_X', 'V'), ('Lockin4_Y', 'V'), ('Lockin4_R', 'V'), ('Lockin4_phase', 'deg'),\n",
    "       )\n",
    "def measure_Ibias(Rseries=13e3, attenuation=1e-6):\n",
    "    time.sleep(1.2*timeconst)\n",
    "    Iac     = attenuation*lockin1.amplitude() #Ampere\n",
    "    L1P     = lockin1.P()\n",
    "    L1R     = lockin1.R()\n",
    "    L1Y     = lockin1.Y()\n",
    "    # the above lines (excluding time.sleep) take at least 75ms to execute. \n",
    "    L1X     = lockin1.X()  \n",
    "    Rxx12up = L1X/Iac # Ohm\n",
    "    try:\n",
    "        gxx12up = 12906/Rxx12up #[2e^2/h]\n",
    "    except ZeroDivisionError:\n",
    "        gxx12up = 0\n",
    "        \n",
    "    L2P     = lockin2.P()\n",
    "    L2R     = lockin2.R()\n",
    "    L2Y     = lockin2.Y()\n",
    "    # the above lines (excluding time.sleep) take at least 75ms to execute. \n",
    "    L2X     = lockin2.X()  \n",
    "    Rxy_junction2 = L2X/Iac # Ohm\n",
    "    try:\n",
    "        gxy_junction2 = 12906/Rxy_junction2 #[2e^2/h]\n",
    "    except ZeroDivisionError:\n",
    "        gxy_junction2 = 0\n",
    "        \n",
    "    L3P     = lockin3.P()\n",
    "    L3R     = lockin3.R()\n",
    "    L3Y     = lockin3.Y()\n",
    "    # the above lines (excluding time.sleep) take at least 75ms to execute. \n",
    "    L3X     = lockin3.X()  \n",
    "    Rxx23down = L3X/Iac # Ohm\n",
    "    try:\n",
    "        gxx23down = 12906/Rxx23down #[2e^2/h]\n",
    "    except ZeroDivisionError:\n",
    "        gxx23down = 0\n",
    "\n",
    "    L4P     = lockin4.P()\n",
    "    L4R     = lockin4.R()\n",
    "    L4Y     = lockin4.Y()\n",
    "    # the above lines (excluding time.sleep) take at least 75ms to execute. \n",
    "    L4X     = lockin4.X()  \n",
    "    Rxy_junction3 = L4X/Iac # Ohm\n",
    "    try:\n",
    "        gxy_junction3 = 12906/Rxy_junction3 #[2e^2/h]\n",
    "    except ZeroDivisionError:\n",
    "        gxy_junction3 = 0\n",
    "    \n",
    "    result  =  Iac, gxx12up, gxy_junction2, gxx23down, gxy_junction3, Rxx12up, Rxy_junction2, Rxx23down, Rxy_junction3, L1X, L1Y, L1R, L1P, L2X, L2Y, L2R, L2P, L3X, L3Y, L3R, L3P, L4X, L4Y, L4R, L4P\n",
    "    return result\n",
    "\n",
    "result = do_experiment(\n",
    "    \"Q243_Bx-Gate_sweep/HB\",\n",
    "    nest(\n",
    "        sweep(ami_x.field, np.linspace(-0.99, 0.99, 100)),\n",
    "        sweep(mdac_PG_voltage, np.concatenate((np.linspace(-0.5, 1, 301), np.linspace(1, -0.5, 301)))),\n",
    "        measure(measure_Ibias)\n",
    "    ),\n",
    "    setup,\n",
    "    cleanup,\n",
    "    live_plot=False\n",
    ")"
   ]
  },
  {
   "cell_type": "markdown",
   "metadata": {},
   "source": [
    "## Bx-Gate sweep for WAL"
   ]
  },
  {
   "cell_type": "code",
   "execution_count": 80,
   "metadata": {},
   "outputs": [
    {
     "name": "stdout",
     "output_type": "stream",
     "text": [
      "Starting experimental run with id: 2\n"
     ]
    }
   ],
   "source": [
    "ami_x.ramp_rate(0.45e-3)\n",
    "ami_x.ramp_to(0.1)\n",
    "time.sleep(2000)\n",
    "\n",
    "def setup():    \n",
    "    mdac_PG_voltage(-0.1)\n",
    "    lockin1_dc(0) # voltage you want to apply (takes into account attenuation 100)\n",
    "    lockin1.amplitude(2e-3)     # 1 MOhm of series resistance, so 1 V is converted to 1 uA\n",
    "    lockin1.time_constant(0.3)\n",
    "    lockin3.time_constant(0.3)\n",
    "    time.sleep(3)\n",
    "\n",
    "def cleanup(): \n",
    "    lockin1.amplitude(0)\n",
    "    lockin1_dc(0)\n",
    "    mdac_PG_voltage(0)\n",
    "\n",
    "@getter(('Lockin1_excitation', 'A'), \n",
    "        ('g_xx_12up', '2e^2/h'), ('g_xx_23down', '2e^2/h'),\n",
    "        ('R_xx_12up', 'Ohm'), ('R_xx_23down', 'Ohm'),\n",
    "        ('Lockin1_X', 'V'), ('Lockin1_Y', 'V'), ('Lockin1_R', 'V'), ('Lockin1_phase', 'deg'), \n",
    "        ('Lockin3_X', 'V'), ('Lockin3_Y', 'V'), ('Lockin3_R', 'V'), ('Lockin3_phase', 'deg'),\n",
    "       )\n",
    "def measure_Ibias(Rseries=13e3, attenuation=1e-6):\n",
    "    time.sleep(0.3)\n",
    "    Iac     = attenuation*lockin1.amplitude() #Ampere\n",
    "    L1P     = lockin1.P()\n",
    "    L1R     = lockin1.R()\n",
    "    L1Y     = lockin1.Y()\n",
    "    # the above lines (excluding time.sleep) take at least 75ms to execute. \n",
    "    L1X     = lockin1.X()  \n",
    "    Rxx12up = L1X/Iac # Ohm\n",
    "    try:\n",
    "        gxx12up = 12906/Rxx12up #[2e^2/h]\n",
    "    except ZeroDivisionError:\n",
    "        gxx12up = 0\n",
    "        \n",
    "    L3P     = lockin3.P()\n",
    "    L3R     = lockin3.R()\n",
    "    L3Y     = lockin3.Y()\n",
    "    # the above lines (excluding time.sleep) take at least 75ms to execute. \n",
    "    L3X     = lockin3.X()  \n",
    "    Rxx23down = L3X/Iac # Ohm\n",
    "    try:\n",
    "        gxx23down = 12906/Rxx23down #[2e^2/h]\n",
    "    except ZeroDivisionError:\n",
    "        gxx23down = 0\n",
    "    \n",
    "    result  =  Iac, gxx12up, gxx23down, Rxx12up, Rxx23down, L1X, L1Y, L1R, L1P, L3X, L3Y, L3R, L3P\n",
    "    return result\n",
    "\n",
    "result = do_experiment(\n",
    "    \"Q243_Bx-Gate_sweep/HB\",\n",
    "    nest(\n",
    "        sweep(ami_x.field, np.linspace(0.10, -0.10, 201)),\n",
    "        sweep(mdac_PG_voltage, np.concatenate((np.linspace(-0.1, 0.8, 181), np.linspace(0.8, -0.1, 181)))),\n",
    "        measure(measure_Ibias)\n",
    "    ),\n",
    "    setup,\n",
    "    cleanup,\n",
    "    live_plot=False\n",
    ")"
   ]
  },
  {
   "cell_type": "markdown",
   "metadata": {},
   "source": [
    "## Leakage test"
   ]
  },
  {
   "cell_type": "code",
   "execution_count": 132,
   "metadata": {},
   "outputs": [
    {
     "data": {
      "text/plain": [
       "1.0"
      ]
     },
     "execution_count": 132,
     "metadata": {},
     "output_type": "execute_result"
    }
   ],
   "source": [
    "yoko1.voltage()"
   ]
  },
  {
   "cell_type": "code",
   "execution_count": 133,
   "metadata": {},
   "outputs": [
    {
     "data": {
      "text/plain": [
       "{'yoko1_ramp': 0}"
      ]
     },
     "execution_count": 133,
     "metadata": {},
     "output_type": "execute_result"
    }
   ],
   "source": [
    "yoko1_ramp(0)"
   ]
  },
  {
   "cell_type": "code",
   "execution_count": 90,
   "metadata": {
    "scrolled": false
   },
   "outputs": [
    {
     "name": "stdout",
     "output_type": "stream",
     "text": [
      "Starting experimental run with id: 56\n"
     ]
    },
    {
     "ename": "ValueError",
     "evalue": "('Desired output level not in range [-1.0, 1.0]', 'setting yoko1_voltage to 1.005')",
     "output_type": "error",
     "traceback": [
      "\u001b[1;31m---------------------------------------------------------------------------\u001b[0m",
      "\u001b[1;31mValueError\u001b[0m                                Traceback (most recent call last)",
      "\u001b[1;32m<ipython-input-90-03b8d55cb7ce>\u001b[0m in \u001b[0;36m<module>\u001b[1;34m\u001b[0m\n\u001b[0;32m     25\u001b[0m     \u001b[0msetup\u001b[0m\u001b[1;33m,\u001b[0m\u001b[1;33m\u001b[0m\u001b[1;33m\u001b[0m\u001b[0m\n\u001b[0;32m     26\u001b[0m     \u001b[0mcleanup\u001b[0m\u001b[1;33m,\u001b[0m\u001b[1;33m\u001b[0m\u001b[1;33m\u001b[0m\u001b[0m\n\u001b[1;32m---> 27\u001b[1;33m     \u001b[0mlive_plot\u001b[0m\u001b[1;33m=\u001b[0m\u001b[1;32mFalse\u001b[0m\u001b[1;33m\u001b[0m\u001b[1;33m\u001b[0m\u001b[0m\n\u001b[0m\u001b[0;32m     28\u001b[0m )\n",
      "\u001b[1;32md:\\onedrive\\bf3\\code\\pytopo\\pytopo\\sweep\\do_experiment.py\u001b[0m in \u001b[0;36mdo_experiment\u001b[1;34m(experiment_name, sweep_object, setup, cleanup, station, live_plot)\u001b[0m\n\u001b[0;32m     93\u001b[0m             )\n\u001b[0;32m     94\u001b[0m \u001b[1;33m\u001b[0m\u001b[0m\n\u001b[1;32m---> 95\u001b[1;33m         \u001b[1;32mfor\u001b[0m \u001b[0mdata\u001b[0m \u001b[1;32min\u001b[0m \u001b[0msweep_object\u001b[0m\u001b[1;33m:\u001b[0m\u001b[1;33m\u001b[0m\u001b[1;33m\u001b[0m\u001b[0m\n\u001b[0m\u001b[0;32m     96\u001b[0m             \u001b[0mdatasaver\u001b[0m\u001b[1;33m.\u001b[0m\u001b[0madd_result\u001b[0m\u001b[1;33m(\u001b[0m\u001b[1;33m*\u001b[0m\u001b[0mdata\u001b[0m\u001b[1;33m.\u001b[0m\u001b[0mitems\u001b[0m\u001b[1;33m(\u001b[0m\u001b[1;33m)\u001b[0m\u001b[1;33m)\u001b[0m\u001b[1;33m\u001b[0m\u001b[1;33m\u001b[0m\u001b[0m\n\u001b[0;32m     97\u001b[0m \u001b[1;33m\u001b[0m\u001b[0m\n",
      "\u001b[1;32md:\\onedrive\\bf3\\code\\pytopo\\pytopo\\sweep\\base.py\u001b[0m in \u001b[0;36m__next__\u001b[1;34m(self)\u001b[0m\n\u001b[0;32m     36\u001b[0m             \u001b[0mself\u001b[0m\u001b[1;33m.\u001b[0m\u001b[0m_start_iter\u001b[0m\u001b[1;33m(\u001b[0m\u001b[1;33m)\u001b[0m\u001b[1;33m\u001b[0m\u001b[1;33m\u001b[0m\u001b[0m\n\u001b[0;32m     37\u001b[0m \u001b[1;33m\u001b[0m\u001b[0m\n\u001b[1;32m---> 38\u001b[1;33m         \u001b[1;32mreturn\u001b[0m \u001b[0mnext\u001b[0m\u001b[1;33m(\u001b[0m\u001b[0mself\u001b[0m\u001b[1;33m.\u001b[0m\u001b[0m_generator\u001b[0m\u001b[1;33m)\u001b[0m\u001b[1;33m\u001b[0m\u001b[1;33m\u001b[0m\u001b[0m\n\u001b[0m\u001b[0;32m     39\u001b[0m \u001b[1;33m\u001b[0m\u001b[0m\n\u001b[0;32m     40\u001b[0m     \u001b[1;32mdef\u001b[0m \u001b[0m__call__\u001b[0m\u001b[1;33m(\u001b[0m\u001b[0mself\u001b[0m\u001b[1;33m,\u001b[0m \u001b[1;33m*\u001b[0m\u001b[0msweep_objects\u001b[0m\u001b[1;33m)\u001b[0m\u001b[1;33m:\u001b[0m\u001b[1;33m\u001b[0m\u001b[1;33m\u001b[0m\u001b[0m\n",
      "\u001b[1;32md:\\onedrive\\bf3\\code\\pytopo\\pytopo\\sweep\\base.py\u001b[0m in \u001b[0;36m__next__\u001b[1;34m(self)\u001b[0m\n\u001b[0;32m     36\u001b[0m             \u001b[0mself\u001b[0m\u001b[1;33m.\u001b[0m\u001b[0m_start_iter\u001b[0m\u001b[1;33m(\u001b[0m\u001b[1;33m)\u001b[0m\u001b[1;33m\u001b[0m\u001b[1;33m\u001b[0m\u001b[0m\n\u001b[0;32m     37\u001b[0m \u001b[1;33m\u001b[0m\u001b[0m\n\u001b[1;32m---> 38\u001b[1;33m         \u001b[1;32mreturn\u001b[0m \u001b[0mnext\u001b[0m\u001b[1;33m(\u001b[0m\u001b[0mself\u001b[0m\u001b[1;33m.\u001b[0m\u001b[0m_generator\u001b[0m\u001b[1;33m)\u001b[0m\u001b[1;33m\u001b[0m\u001b[1;33m\u001b[0m\u001b[0m\n\u001b[0m\u001b[0;32m     39\u001b[0m \u001b[1;33m\u001b[0m\u001b[0m\n\u001b[0;32m     40\u001b[0m     \u001b[1;32mdef\u001b[0m \u001b[0m__call__\u001b[0m\u001b[1;33m(\u001b[0m\u001b[0mself\u001b[0m\u001b[1;33m,\u001b[0m \u001b[1;33m*\u001b[0m\u001b[0msweep_objects\u001b[0m\u001b[1;33m)\u001b[0m\u001b[1;33m:\u001b[0m\u001b[1;33m\u001b[0m\u001b[1;33m\u001b[0m\u001b[0m\n",
      "\u001b[1;32md:\\onedrive\\bf3\\code\\pytopo\\pytopo\\sweep\\base.py\u001b[0m in \u001b[0;36m_generator_factory\u001b[1;34m(self)\u001b[0m\n\u001b[0;32m     79\u001b[0m \u001b[1;33m\u001b[0m\u001b[0m\n\u001b[0;32m     80\u001b[0m     \u001b[1;32mdef\u001b[0m \u001b[0m_generator_factory\u001b[0m\u001b[1;33m(\u001b[0m\u001b[0mself\u001b[0m\u001b[1;33m)\u001b[0m \u001b[1;33m->\u001b[0m\u001b[0mIterator\u001b[0m\u001b[1;33m:\u001b[0m\u001b[1;33m\u001b[0m\u001b[1;33m\u001b[0m\u001b[0m\n\u001b[1;32m---> 81\u001b[1;33m         \u001b[1;32mfor\u001b[0m \u001b[0mvalue\u001b[0m \u001b[1;32min\u001b[0m \u001b[0mself\u001b[0m\u001b[1;33m.\u001b[0m\u001b[0m_iterator_function\u001b[0m\u001b[1;33m(\u001b[0m\u001b[1;33m)\u001b[0m\u001b[1;33m:\u001b[0m\u001b[1;33m\u001b[0m\u001b[1;33m\u001b[0m\u001b[0m\n\u001b[0m\u001b[0;32m     82\u001b[0m             \u001b[1;32myield\u001b[0m \u001b[0mvalue\u001b[0m\u001b[1;33m\u001b[0m\u001b[1;33m\u001b[0m\u001b[0m\n\u001b[0;32m     83\u001b[0m \u001b[1;33m\u001b[0m\u001b[0m\n",
      "\u001b[1;32md:\\onedrive\\bf3\\code\\pytopo\\pytopo\\sweep\\base.py\u001b[0m in \u001b[0;36minner\u001b[1;34m()\u001b[0m\n\u001b[0;32m    121\u001b[0m                      sweep_object2: BaseSweepObject) ->IteratorSweep:\n\u001b[0;32m    122\u001b[0m         \u001b[1;32mdef\u001b[0m \u001b[0minner\u001b[0m\u001b[1;33m(\u001b[0m\u001b[1;33m)\u001b[0m\u001b[1;33m:\u001b[0m\u001b[1;33m\u001b[0m\u001b[1;33m\u001b[0m\u001b[0m\n\u001b[1;32m--> 123\u001b[1;33m             \u001b[1;32mfor\u001b[0m \u001b[0mresult2\u001b[0m \u001b[1;32min\u001b[0m \u001b[0msweep_object2\u001b[0m\u001b[1;33m:\u001b[0m\u001b[1;33m\u001b[0m\u001b[1;33m\u001b[0m\u001b[0m\n\u001b[0m\u001b[0;32m    124\u001b[0m                 \u001b[1;32mfor\u001b[0m \u001b[0mresult1\u001b[0m \u001b[1;32min\u001b[0m \u001b[0msweep_object1\u001b[0m\u001b[1;33m:\u001b[0m\u001b[1;33m\u001b[0m\u001b[1;33m\u001b[0m\u001b[0m\n\u001b[0;32m    125\u001b[0m                     \u001b[0mresult1\u001b[0m\u001b[1;33m.\u001b[0m\u001b[0mupdate\u001b[0m\u001b[1;33m(\u001b[0m\u001b[0mresult2\u001b[0m\u001b[1;33m)\u001b[0m\u001b[1;33m\u001b[0m\u001b[1;33m\u001b[0m\u001b[0m\n",
      "\u001b[1;32md:\\onedrive\\bf3\\code\\pytopo\\pytopo\\sweep\\base.py\u001b[0m in \u001b[0;36m__next__\u001b[1;34m(self)\u001b[0m\n\u001b[0;32m     36\u001b[0m             \u001b[0mself\u001b[0m\u001b[1;33m.\u001b[0m\u001b[0m_start_iter\u001b[0m\u001b[1;33m(\u001b[0m\u001b[1;33m)\u001b[0m\u001b[1;33m\u001b[0m\u001b[1;33m\u001b[0m\u001b[0m\n\u001b[0;32m     37\u001b[0m \u001b[1;33m\u001b[0m\u001b[0m\n\u001b[1;32m---> 38\u001b[1;33m         \u001b[1;32mreturn\u001b[0m \u001b[0mnext\u001b[0m\u001b[1;33m(\u001b[0m\u001b[0mself\u001b[0m\u001b[1;33m.\u001b[0m\u001b[0m_generator\u001b[0m\u001b[1;33m)\u001b[0m\u001b[1;33m\u001b[0m\u001b[1;33m\u001b[0m\u001b[0m\n\u001b[0m\u001b[0;32m     39\u001b[0m \u001b[1;33m\u001b[0m\u001b[0m\n\u001b[0;32m     40\u001b[0m     \u001b[1;32mdef\u001b[0m \u001b[0m__call__\u001b[0m\u001b[1;33m(\u001b[0m\u001b[0mself\u001b[0m\u001b[1;33m,\u001b[0m \u001b[1;33m*\u001b[0m\u001b[0msweep_objects\u001b[0m\u001b[1;33m)\u001b[0m\u001b[1;33m:\u001b[0m\u001b[1;33m\u001b[0m\u001b[1;33m\u001b[0m\u001b[0m\n",
      "\u001b[1;32md:\\onedrive\\bf3\\code\\pytopo\\pytopo\\sweep\\base.py\u001b[0m in \u001b[0;36m_generator_factory\u001b[1;34m(self)\u001b[0m\n\u001b[0;32m    193\u001b[0m     \u001b[1;32mdef\u001b[0m \u001b[0m_generator_factory\u001b[0m\u001b[1;33m(\u001b[0m\u001b[0mself\u001b[0m\u001b[1;33m)\u001b[0m\u001b[1;33m->\u001b[0m\u001b[0mIterator\u001b[0m\u001b[1;33m:\u001b[0m\u001b[1;33m\u001b[0m\u001b[1;33m\u001b[0m\u001b[0m\n\u001b[0;32m    194\u001b[0m         \u001b[1;32mfor\u001b[0m \u001b[0mset_value\u001b[0m \u001b[1;32min\u001b[0m \u001b[0mself\u001b[0m\u001b[1;33m.\u001b[0m\u001b[0m_point_function\u001b[0m\u001b[1;33m(\u001b[0m\u001b[1;33m)\u001b[0m\u001b[1;33m:\u001b[0m\u001b[1;33m\u001b[0m\u001b[1;33m\u001b[0m\u001b[0m\n\u001b[1;32m--> 195\u001b[1;33m             \u001b[1;32myield\u001b[0m \u001b[0mself\u001b[0m\u001b[1;33m.\u001b[0m\u001b[0m_set_function\u001b[0m\u001b[1;33m(\u001b[0m\u001b[1;33m*\u001b[0m\u001b[0mnp\u001b[0m\u001b[1;33m.\u001b[0m\u001b[0matleast_1d\u001b[0m\u001b[1;33m(\u001b[0m\u001b[0mset_value\u001b[0m\u001b[1;33m)\u001b[0m\u001b[1;33m)\u001b[0m\u001b[1;33m\u001b[0m\u001b[1;33m\u001b[0m\u001b[0m\n\u001b[0m\u001b[0;32m    196\u001b[0m \u001b[1;33m\u001b[0m\u001b[0m\n\u001b[0;32m    197\u001b[0m \u001b[1;33m\u001b[0m\u001b[0m\n",
      "\u001b[1;32md:\\onedrive\\bf3\\code\\pytopo\\pytopo\\sweep\\decorators.py\u001b[0m in \u001b[0;36m__call__\u001b[1;34m(self, *args, **kwargs)\u001b[0m\n\u001b[0;32m     15\u001b[0m \u001b[1;33m\u001b[0m\u001b[0m\n\u001b[0;32m     16\u001b[0m     \u001b[1;32mdef\u001b[0m \u001b[0m__call__\u001b[0m\u001b[1;33m(\u001b[0m\u001b[0mself\u001b[0m\u001b[1;33m,\u001b[0m \u001b[1;33m*\u001b[0m\u001b[0margs\u001b[0m\u001b[1;33m,\u001b[0m \u001b[1;33m**\u001b[0m\u001b[0mkwargs\u001b[0m\u001b[1;33m)\u001b[0m\u001b[1;33m:\u001b[0m\u001b[1;33m\u001b[0m\u001b[1;33m\u001b[0m\u001b[0m\n\u001b[1;32m---> 17\u001b[1;33m         \u001b[1;32mreturn\u001b[0m \u001b[0mself\u001b[0m\u001b[1;33m.\u001b[0m\u001b[0m_caller\u001b[0m\u001b[1;33m(\u001b[0m\u001b[1;33m*\u001b[0m\u001b[0margs\u001b[0m\u001b[1;33m,\u001b[0m \u001b[1;33m**\u001b[0m\u001b[0mkwargs\u001b[0m\u001b[1;33m)\u001b[0m\u001b[1;33m\u001b[0m\u001b[1;33m\u001b[0m\u001b[0m\n\u001b[0m\u001b[0;32m     18\u001b[0m \u001b[1;33m\u001b[0m\u001b[0m\n\u001b[0;32m     19\u001b[0m     \u001b[1;33m@\u001b[0m\u001b[0mproperty\u001b[0m\u001b[1;33m\u001b[0m\u001b[1;33m\u001b[0m\u001b[0m\n",
      "\u001b[1;32md:\\onedrive\\bf3\\code\\pytopo\\pytopo\\sweep\\decorators.py\u001b[0m in \u001b[0;36minner\u001b[1;34m(*set_values)\u001b[0m\n\u001b[0;32m    119\u001b[0m     \u001b[1;32mdef\u001b[0m \u001b[0mdecorator\u001b[0m\u001b[1;33m(\u001b[0m\u001b[0mfunc\u001b[0m\u001b[1;33m:\u001b[0m \u001b[0mCallable\u001b[0m\u001b[1;33m)\u001b[0m \u001b[1;33m->\u001b[0m\u001b[0mSweepFunction\u001b[0m\u001b[1;33m:\u001b[0m\u001b[1;33m\u001b[0m\u001b[1;33m\u001b[0m\u001b[0m\n\u001b[0;32m    120\u001b[0m         \u001b[1;32mdef\u001b[0m \u001b[0minner\u001b[0m\u001b[1;33m(\u001b[0m\u001b[1;33m*\u001b[0m\u001b[0mset_values\u001b[0m\u001b[1;33m)\u001b[0m \u001b[1;33m->\u001b[0m\u001b[0mdict\u001b[0m\u001b[1;33m:\u001b[0m\u001b[1;33m\u001b[0m\u001b[1;33m\u001b[0m\u001b[0m\n\u001b[1;32m--> 121\u001b[1;33m             \u001b[0mfunc\u001b[0m\u001b[1;33m(\u001b[0m\u001b[1;33m*\u001b[0m\u001b[0mset_values\u001b[0m\u001b[1;33m)\u001b[0m\u001b[1;33m\u001b[0m\u001b[1;33m\u001b[0m\u001b[0m\n\u001b[0m\u001b[0;32m    122\u001b[0m             \u001b[1;32mreturn\u001b[0m \u001b[1;33m{\u001b[0m\u001b[0mk\u001b[0m\u001b[1;33m[\u001b[0m\u001b[1;36m0\u001b[0m\u001b[1;33m]\u001b[0m\u001b[1;33m:\u001b[0m \u001b[0mv\u001b[0m \u001b[1;32mfor\u001b[0m \u001b[0mk\u001b[0m\u001b[1;33m,\u001b[0m \u001b[0mv\u001b[0m \u001b[1;32min\u001b[0m \u001b[0mzip\u001b[0m\u001b[1;33m(\u001b[0m\u001b[0mnames_units\u001b[0m\u001b[1;33m,\u001b[0m \u001b[0mset_values\u001b[0m\u001b[1;33m)\u001b[0m\u001b[1;33m}\u001b[0m\u001b[1;33m\u001b[0m\u001b[1;33m\u001b[0m\u001b[0m\n\u001b[0;32m    123\u001b[0m \u001b[1;33m\u001b[0m\u001b[0m\n",
      "\u001b[1;32m<ipython-input-88-302be6aac8d4>\u001b[0m in \u001b[0;36myoko1_ramp_raw\u001b[1;34m(voltage)\u001b[0m\n\u001b[0;32m     38\u001b[0m \u001b[0myoko_ramp_delay\u001b[0m \u001b[1;33m=\u001b[0m \u001b[1;36m2e-7\u001b[0m \u001b[1;31m# in s\u001b[0m\u001b[1;33m\u001b[0m\u001b[1;33m\u001b[0m\u001b[0m\n\u001b[0;32m     39\u001b[0m \u001b[1;32mdef\u001b[0m \u001b[0myoko1_ramp_raw\u001b[0m\u001b[1;33m(\u001b[0m\u001b[0mvoltage\u001b[0m\u001b[1;33m)\u001b[0m\u001b[1;33m:\u001b[0m\u001b[1;33m\u001b[0m\u001b[1;33m\u001b[0m\u001b[0m\n\u001b[1;32m---> 40\u001b[1;33m     \u001b[0myoko1\u001b[0m\u001b[1;33m.\u001b[0m\u001b[0mramp_voltage\u001b[0m\u001b[1;33m(\u001b[0m\u001b[0mvoltage\u001b[0m\u001b[1;33m,\u001b[0m \u001b[0myoko_ramp_step\u001b[0m\u001b[1;33m,\u001b[0m \u001b[0myoko_ramp_delay\u001b[0m\u001b[1;33m)\u001b[0m\u001b[1;33m\u001b[0m\u001b[1;33m\u001b[0m\u001b[0m\n\u001b[0m\u001b[0;32m     41\u001b[0m \u001b[0myoko1_ramp\u001b[0m \u001b[1;33m=\u001b[0m \u001b[0msetter\u001b[0m\u001b[1;33m(\u001b[0m\u001b[1;33m(\u001b[0m\u001b[1;34m\"yoko1_ramp\"\u001b[0m\u001b[1;33m,\u001b[0m \u001b[1;34m\"V\"\u001b[0m\u001b[1;33m)\u001b[0m\u001b[1;33m)\u001b[0m\u001b[1;33m(\u001b[0m\u001b[0myoko1_ramp_raw\u001b[0m\u001b[1;33m)\u001b[0m\u001b[1;33m\u001b[0m\u001b[1;33m\u001b[0m\u001b[0m\n\u001b[0;32m     42\u001b[0m \u001b[1;33m\u001b[0m\u001b[0m\n",
      "\u001b[1;32md:\\onedrive\\bf3\\code\\qcodes\\qcodes\\instrument_drivers\\yokogawa\\GS200.py\u001b[0m in \u001b[0;36mramp_voltage\u001b[1;34m(self, ramp_to, step, delay)\u001b[0m\n\u001b[0;32m    320\u001b[0m         \"\"\"\n\u001b[0;32m    321\u001b[0m         \u001b[0mself\u001b[0m\u001b[1;33m.\u001b[0m\u001b[0m_assert_mode\u001b[0m\u001b[1;33m(\u001b[0m\u001b[1;34m\"VOLT\"\u001b[0m\u001b[1;33m)\u001b[0m\u001b[1;33m\u001b[0m\u001b[1;33m\u001b[0m\u001b[0m\n\u001b[1;32m--> 322\u001b[1;33m         \u001b[0mself\u001b[0m\u001b[1;33m.\u001b[0m\u001b[0m_ramp_source\u001b[0m\u001b[1;33m(\u001b[0m\u001b[0mramp_to\u001b[0m\u001b[1;33m,\u001b[0m \u001b[0mstep\u001b[0m\u001b[1;33m,\u001b[0m \u001b[0mdelay\u001b[0m\u001b[1;33m)\u001b[0m\u001b[1;33m\u001b[0m\u001b[1;33m\u001b[0m\u001b[0m\n\u001b[0m\u001b[0;32m    323\u001b[0m \u001b[1;33m\u001b[0m\u001b[0m\n\u001b[0;32m    324\u001b[0m     \u001b[1;32mdef\u001b[0m \u001b[0mramp_current\u001b[0m\u001b[1;33m(\u001b[0m\u001b[0mself\u001b[0m\u001b[1;33m,\u001b[0m \u001b[0mramp_to\u001b[0m\u001b[1;33m:\u001b[0m \u001b[0mfloat\u001b[0m\u001b[1;33m,\u001b[0m \u001b[0mstep\u001b[0m\u001b[1;33m:\u001b[0m \u001b[0mfloat\u001b[0m\u001b[1;33m,\u001b[0m \u001b[0mdelay\u001b[0m\u001b[1;33m:\u001b[0m \u001b[0mfloat\u001b[0m\u001b[1;33m)\u001b[0m \u001b[1;33m->\u001b[0m \u001b[1;32mNone\u001b[0m\u001b[1;33m:\u001b[0m\u001b[1;33m\u001b[0m\u001b[1;33m\u001b[0m\u001b[0m\n",
      "\u001b[1;32md:\\onedrive\\bf3\\code\\qcodes\\qcodes\\instrument_drivers\\yokogawa\\GS200.py\u001b[0m in \u001b[0;36m_ramp_source\u001b[1;34m(self, ramp_to, step, delay)\u001b[0m\n\u001b[0;32m    348\u001b[0m         \u001b[0mself\u001b[0m\u001b[1;33m.\u001b[0m\u001b[0moutput_level\u001b[0m\u001b[1;33m.\u001b[0m\u001b[0mstep\u001b[0m \u001b[1;33m=\u001b[0m \u001b[0mstep\u001b[0m\u001b[1;33m\u001b[0m\u001b[1;33m\u001b[0m\u001b[0m\n\u001b[0;32m    349\u001b[0m         \u001b[0mself\u001b[0m\u001b[1;33m.\u001b[0m\u001b[0moutput_level\u001b[0m\u001b[1;33m.\u001b[0m\u001b[0minter_delay\u001b[0m \u001b[1;33m=\u001b[0m \u001b[0mdelay\u001b[0m\u001b[1;33m\u001b[0m\u001b[1;33m\u001b[0m\u001b[0m\n\u001b[1;32m--> 350\u001b[1;33m         \u001b[0mself\u001b[0m\u001b[1;33m.\u001b[0m\u001b[0moutput_level\u001b[0m\u001b[1;33m(\u001b[0m\u001b[0mramp_to\u001b[0m\u001b[1;33m)\u001b[0m\u001b[1;33m\u001b[0m\u001b[1;33m\u001b[0m\u001b[0m\n\u001b[0m\u001b[0;32m    351\u001b[0m \u001b[1;33m\u001b[0m\u001b[0m\n\u001b[0;32m    352\u001b[0m         \u001b[0mself\u001b[0m\u001b[1;33m.\u001b[0m\u001b[0moutput_level\u001b[0m\u001b[1;33m.\u001b[0m\u001b[0mstep\u001b[0m \u001b[1;33m=\u001b[0m \u001b[0msaved_step\u001b[0m\u001b[1;33m\u001b[0m\u001b[1;33m\u001b[0m\u001b[0m\n",
      "\u001b[1;32md:\\onedrive\\bf3\\code\\qcodes\\qcodes\\instrument\\parameter.py\u001b[0m in \u001b[0;36m__call__\u001b[1;34m(self, *args, **kwargs)\u001b[0m\n\u001b[0;32m    287\u001b[0m         \u001b[1;32melse\u001b[0m\u001b[1;33m:\u001b[0m\u001b[1;33m\u001b[0m\u001b[1;33m\u001b[0m\u001b[0m\n\u001b[0;32m    288\u001b[0m             \u001b[1;32mif\u001b[0m \u001b[0mhasattr\u001b[0m\u001b[1;33m(\u001b[0m\u001b[0mself\u001b[0m\u001b[1;33m,\u001b[0m \u001b[1;34m'set'\u001b[0m\u001b[1;33m)\u001b[0m\u001b[1;33m:\u001b[0m\u001b[1;33m\u001b[0m\u001b[1;33m\u001b[0m\u001b[0m\n\u001b[1;32m--> 289\u001b[1;33m                 \u001b[0mself\u001b[0m\u001b[1;33m.\u001b[0m\u001b[0mset\u001b[0m\u001b[1;33m(\u001b[0m\u001b[1;33m*\u001b[0m\u001b[0margs\u001b[0m\u001b[1;33m,\u001b[0m \u001b[1;33m**\u001b[0m\u001b[0mkwargs\u001b[0m\u001b[1;33m)\u001b[0m\u001b[1;33m\u001b[0m\u001b[1;33m\u001b[0m\u001b[0m\n\u001b[0m\u001b[0;32m    290\u001b[0m             \u001b[1;32melse\u001b[0m\u001b[1;33m:\u001b[0m\u001b[1;33m\u001b[0m\u001b[1;33m\u001b[0m\u001b[0m\n\u001b[0;32m    291\u001b[0m                 raise NotImplementedError('no set cmd found in' +\n",
      "\u001b[1;32md:\\onedrive\\bf3\\code\\qcodes\\qcodes\\instrument\\parameter.py\u001b[0m in \u001b[0;36mset_wrapper\u001b[1;34m(value, **kwargs)\u001b[0m\n\u001b[0;32m    481\u001b[0m             \u001b[1;32mexcept\u001b[0m \u001b[0mException\u001b[0m \u001b[1;32mas\u001b[0m \u001b[0me\u001b[0m\u001b[1;33m:\u001b[0m\u001b[1;33m\u001b[0m\u001b[1;33m\u001b[0m\u001b[0m\n\u001b[0;32m    482\u001b[0m                 \u001b[0me\u001b[0m\u001b[1;33m.\u001b[0m\u001b[0margs\u001b[0m \u001b[1;33m=\u001b[0m \u001b[0me\u001b[0m\u001b[1;33m.\u001b[0m\u001b[0margs\u001b[0m \u001b[1;33m+\u001b[0m \u001b[1;33m(\u001b[0m\u001b[1;34m'setting {} to {}'\u001b[0m\u001b[1;33m.\u001b[0m\u001b[0mformat\u001b[0m\u001b[1;33m(\u001b[0m\u001b[0mself\u001b[0m\u001b[1;33m,\u001b[0m \u001b[0mvalue\u001b[0m\u001b[1;33m)\u001b[0m\u001b[1;33m,\u001b[0m\u001b[1;33m)\u001b[0m\u001b[1;33m\u001b[0m\u001b[1;33m\u001b[0m\u001b[0m\n\u001b[1;32m--> 483\u001b[1;33m                 \u001b[1;32mraise\u001b[0m \u001b[0me\u001b[0m\u001b[1;33m\u001b[0m\u001b[1;33m\u001b[0m\u001b[0m\n\u001b[0m\u001b[0;32m    484\u001b[0m \u001b[1;33m\u001b[0m\u001b[0m\n\u001b[0;32m    485\u001b[0m         \u001b[1;32mreturn\u001b[0m \u001b[0mset_wrapper\u001b[0m\u001b[1;33m\u001b[0m\u001b[1;33m\u001b[0m\u001b[0m\n",
      "\u001b[1;32md:\\onedrive\\bf3\\code\\qcodes\\qcodes\\instrument\\parameter.py\u001b[0m in \u001b[0;36mset_wrapper\u001b[1;34m(value, **kwargs)\u001b[0m\n\u001b[0;32m    465\u001b[0m                     \u001b[0mt0\u001b[0m \u001b[1;33m=\u001b[0m \u001b[0mtime\u001b[0m\u001b[1;33m.\u001b[0m\u001b[0mperf_counter\u001b[0m\u001b[1;33m(\u001b[0m\u001b[1;33m)\u001b[0m\u001b[1;33m\u001b[0m\u001b[1;33m\u001b[0m\u001b[0m\n\u001b[0;32m    466\u001b[0m \u001b[1;33m\u001b[0m\u001b[0m\n\u001b[1;32m--> 467\u001b[1;33m                     \u001b[0mset_function\u001b[0m\u001b[1;33m(\u001b[0m\u001b[0mraw_value\u001b[0m\u001b[1;33m,\u001b[0m \u001b[1;33m**\u001b[0m\u001b[0mkwargs\u001b[0m\u001b[1;33m)\u001b[0m\u001b[1;33m\u001b[0m\u001b[1;33m\u001b[0m\u001b[0m\n\u001b[0m\u001b[0;32m    468\u001b[0m                     \u001b[0mself\u001b[0m\u001b[1;33m.\u001b[0m\u001b[0mraw_value\u001b[0m \u001b[1;33m=\u001b[0m \u001b[0mraw_value\u001b[0m\u001b[1;33m\u001b[0m\u001b[1;33m\u001b[0m\u001b[0m\n\u001b[0;32m    469\u001b[0m                     self._save_val(val_step,\n",
      "\u001b[1;32md:\\onedrive\\bf3\\code\\qcodes\\qcodes\\utils\\command.py\u001b[0m in \u001b[0;36m__call__\u001b[1;34m(self, *args)\u001b[0m\n\u001b[0;32m    175\u001b[0m             raise TypeError(\n\u001b[0;32m    176\u001b[0m                 'command takes exactly {} args'.format(self.arg_count))\n\u001b[1;32m--> 177\u001b[1;33m         \u001b[1;32mreturn\u001b[0m \u001b[0mself\u001b[0m\u001b[1;33m.\u001b[0m\u001b[0mexec_function\u001b[0m\u001b[1;33m(\u001b[0m\u001b[1;33m*\u001b[0m\u001b[0margs\u001b[0m\u001b[1;33m)\u001b[0m\u001b[1;33m\u001b[0m\u001b[1;33m\u001b[0m\u001b[0m\n\u001b[0m",
      "\u001b[1;32md:\\onedrive\\bf3\\code\\qcodes\\qcodes\\instrument_drivers\\yokogawa\\GS200.py\u001b[0m in \u001b[0;36m_get_set_output\u001b[1;34m(self, mode, output_level)\u001b[0m\n\u001b[0;32m    364\u001b[0m         \u001b[0mself\u001b[0m\u001b[1;33m.\u001b[0m\u001b[0m_assert_mode\u001b[0m\u001b[1;33m(\u001b[0m\u001b[0mmode\u001b[0m\u001b[1;33m)\u001b[0m\u001b[1;33m\u001b[0m\u001b[1;33m\u001b[0m\u001b[0m\n\u001b[0;32m    365\u001b[0m         \u001b[1;32mif\u001b[0m \u001b[0moutput_level\u001b[0m \u001b[1;32mis\u001b[0m \u001b[1;32mnot\u001b[0m \u001b[1;32mNone\u001b[0m\u001b[1;33m:\u001b[0m\u001b[1;33m\u001b[0m\u001b[1;33m\u001b[0m\u001b[0m\n\u001b[1;32m--> 366\u001b[1;33m             \u001b[0mself\u001b[0m\u001b[1;33m.\u001b[0m\u001b[0m_set_output\u001b[0m\u001b[1;33m(\u001b[0m\u001b[0moutput_level\u001b[0m\u001b[1;33m)\u001b[0m\u001b[1;33m\u001b[0m\u001b[1;33m\u001b[0m\u001b[0m\n\u001b[0m\u001b[0;32m    367\u001b[0m             \u001b[1;32mreturn\u001b[0m \u001b[1;32mNone\u001b[0m\u001b[1;33m\u001b[0m\u001b[1;33m\u001b[0m\u001b[0m\n\u001b[0;32m    368\u001b[0m         \u001b[1;32melse\u001b[0m\u001b[1;33m:\u001b[0m\u001b[1;33m\u001b[0m\u001b[1;33m\u001b[0m\u001b[0m\n",
      "\u001b[1;32md:\\onedrive\\bf3\\code\\qcodes\\qcodes\\instrument_drivers\\yokogawa\\GS200.py\u001b[0m in \u001b[0;36m_set_output\u001b[1;34m(self, output_level)\u001b[0m\n\u001b[0;32m    403\u001b[0m             \u001b[1;32mif\u001b[0m \u001b[0mabs\u001b[0m\u001b[1;33m(\u001b[0m\u001b[0moutput_level\u001b[0m\u001b[1;33m)\u001b[0m \u001b[1;33m>\u001b[0m \u001b[0mabs\u001b[0m\u001b[1;33m(\u001b[0m\u001b[0mself_range\u001b[0m\u001b[1;33m)\u001b[0m\u001b[1;33m:\u001b[0m\u001b[1;33m\u001b[0m\u001b[1;33m\u001b[0m\u001b[0m\n\u001b[0;32m    404\u001b[0m                 raise ValueError(\"Desired output level not in range [-{self_range:.3}, {self_range:.3}]\".format(\n\u001b[1;32m--> 405\u001b[1;33m                     self_range=self_range))\n\u001b[0m\u001b[0;32m    406\u001b[0m \u001b[1;33m\u001b[0m\u001b[0m\n\u001b[0;32m    407\u001b[0m         \u001b[1;32mif\u001b[0m \u001b[0mauto_enabled\u001b[0m\u001b[1;33m:\u001b[0m\u001b[1;33m\u001b[0m\u001b[1;33m\u001b[0m\u001b[0m\n",
      "\u001b[1;31mValueError\u001b[0m: ('Desired output level not in range [-1.0, 1.0]', 'setting yoko1_voltage to 1.005')"
     ]
    }
   ],
   "source": [
    "def setup():\n",
    "    key1.NPLC(1) # NPLC=1 -> 16.667 ms\n",
    "    yoko1_ramp(1)\n",
    "    time.sleep(3)\n",
    "\n",
    "def cleanup():\n",
    "    pass\n",
    "    #yoko1_ramp(0)\n",
    "    \n",
    "@getter(('current', 'A'), ('raw_voltage_dc', 'V'))\n",
    "def measure_dc(gain=1e7):\n",
    "    time.sleep(0.2)\n",
    "    key_raw = key1.volt()\n",
    "    current_dc = -key_raw/gain\n",
    "    \n",
    "    result  = current_dc, key_raw\n",
    "    return result\n",
    "\n",
    "result = do_experiment(\n",
    "    \"Q383_leakage_test/SS7\",\n",
    "    nest(\n",
    "        sweep(yoko1_ramp, np.linspace(1, 1.5, 101)),\n",
    "        measure(measure_dc)\n",
    "    ),\n",
    "    setup,\n",
    "    cleanup,\n",
    "    live_plot=False\n",
    ")"
   ]
  },
  {
   "cell_type": "code",
   "execution_count": null,
   "metadata": {},
   "outputs": [],
   "source": []
  }
 ],
 "metadata": {
  "kernelspec": {
   "display_name": "Python 3",
   "language": "python",
   "name": "python3"
  },
  "toc": {
   "base_numbering": 1,
   "nav_menu": {},
   "number_sections": true,
   "sideBar": true,
   "skip_h1_title": false,
   "title_cell": "Table of Contents",
   "title_sidebar": "Contents",
   "toc_cell": false,
   "toc_position": {
    "height": "calc(100% - 180px)",
    "left": "10px",
    "top": "150px",
    "width": "393px"
   },
   "toc_section_display": true,
   "toc_window_display": true
  }
 },
 "nbformat": 4,
 "nbformat_minor": 2
}
