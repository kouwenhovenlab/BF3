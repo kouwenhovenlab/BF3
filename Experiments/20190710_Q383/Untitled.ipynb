{
 "cells": [
  {
   "cell_type": "code",
   "execution_count": 1,
   "metadata": {},
   "outputs": [],
   "source": [
    "%matplotlib notebook\n",
    "\n",
    "from IPython.display import clear_output\n",
    "\n",
    "import sys\n",
    "sys.path.append(r\"D:\\OneDrive\\BF3\\Code\");\n",
    "sys.path.append(r\"D:\\OneDrive\\BF3\\Code\\labtools-master\")\n",
    "\n",
    "import os\n",
    "import time\n",
    "import datetime\n",
    "import numpy as np\n",
    "import matplotlib as mpl\n",
    "# import utils\n",
    "\n",
    "from collections import OrderedDict\n",
    "from importlib import reload\n",
    "from matplotlib import pyplot as plt\n",
    "\n",
    "# from labtools import mplplots; reload(mplplots)\n",
    "# from labtools.mplplots.init_nb_plotting import *\n",
    "# from labtools.mplplots import tools as mpltools\n",
    "\n",
    "import qcodes as qc\n",
    "from qcodes.dataset.database import initialise_database, get_DB_location\n",
    "\n",
    "\n",
    "from qcodes import new_experiment, Station, Instrument\n",
    "from qcodes.dataset.measurements import Measurement\n",
    "from qcodes.dataset.plotting import plot_by_id\n",
    "from qcodes.dataset.data_set import DataSet\n",
    "from qcodes.dataset.data_set import load_by_id\n",
    "from qcodes.dataset.data_export import get_data_by_id\n",
    "\n",
    "from pytopo.qctools import instruments as instools\n",
    "\n",
    "#from v2_dataset_tools.experiments import do_experiment, get_results_from_db_path\n",
    "\n",
    "# from MDAC import MDAC \n",
    "# from qcodes.instrument_drivers.Keysight.Keysight_34465A import Keysight_34465A\n",
    "\n",
    "#from qcodes.instrument_drivers.stanford_research.SR860 import SR860\n",
    "#from qcodes.instrument_drivers.QuTech.IVVI import IVVI\n",
    "#from qcodes.instrument_drivers.yokogawa.GS200 import GS200\n",
    "\n",
    "from pytopo.sweep import sweep, measure, nest, chain, szip, getter, setter, time_trace, do_experiment\n",
    "from pytopo.qctools.instruments import create_inst"
   ]
  },
  {
   "cell_type": "code",
   "execution_count": 3,
   "metadata": {},
   "outputs": [
    {
     "name": "stderr",
     "output_type": "stream",
     "text": [
      "C:\\ProgramData\\Anaconda3\\lib\\site-packages\\pyvisa\\ctwrapper\\functions.py:1649: VisaIOWarning: VI_WARN_NSUP_ATTR_STATE (1073676420): Although the specified state of the attribute is valid, it is not supported by this implementation.\n",
      "  return library.viSetAttribute(session, attribute, attribute_state)\n"
     ]
    },
    {
     "name": "stdout",
     "output_type": "stream",
     "text": [
      "Connected to: QNL Sydney MDAC (serial:0x32353532353551040028003E, firmware:1.5) in 5.20s\n"
     ]
    },
    {
     "ename": "NameError",
     "evalue": "name 'station' is not defined",
     "output_type": "error",
     "traceback": [
      "\u001b[1;31m---------------------------------------------------------------------------\u001b[0m",
      "\u001b[1;31mNameError\u001b[0m                                 Traceback (most recent call last)",
      "\u001b[1;32m<ipython-input-3-5d631fa3e16f>\u001b[0m in \u001b[0;36m<module>\u001b[1;34m\u001b[0m\n\u001b[0;32m      3\u001b[0m \u001b[0mmdac\u001b[0m \u001b[1;33m=\u001b[0m \u001b[0mMDAC\u001b[0m\u001b[1;33m(\u001b[0m\u001b[1;34m'MDAC1'\u001b[0m\u001b[1;33m,\u001b[0m \u001b[1;34m'ASRL4::INSTR'\u001b[0m\u001b[1;33m)\u001b[0m\u001b[1;33m\u001b[0m\u001b[1;33m\u001b[0m\u001b[0m\n\u001b[0;32m      4\u001b[0m \u001b[1;33m\u001b[0m\u001b[0m\n\u001b[1;32m----> 5\u001b[1;33m \u001b[0mstation\u001b[0m\u001b[1;33m.\u001b[0m\u001b[0madd_component\u001b[0m\u001b[1;33m(\u001b[0m\u001b[0mmdac\u001b[0m\u001b[1;33m)\u001b[0m\u001b[1;33m\u001b[0m\u001b[1;33m\u001b[0m\u001b[0m\n\u001b[0m",
      "\u001b[1;31mNameError\u001b[0m: name 'station' is not defined"
     ]
    }
   ],
   "source": [
    "sys.path.append(r\"D:\\OneDrive\\BF3\\Code\\StationQ\\MDAC\\Driver\")\n",
    "from MDAC import MDAC\n",
    "mdac = MDAC('MDAC1', 'ASRL4::INSTR')"
   ]
  },
  {
   "cell_type": "code",
   "execution_count": 4,
   "metadata": {},
   "outputs": [],
   "source": [
    "mdac.close()"
   ]
  },
  {
   "cell_type": "code",
   "execution_count": null,
   "metadata": {},
   "outputs": [],
   "source": [
    "mdac."
   ]
  }
 ],
 "metadata": {
  "kernelspec": {
   "display_name": "Python 3",
   "language": "python",
   "name": "python3"
  },
  "language_info": {
   "codemirror_mode": {
    "name": "ipython",
    "version": 3
   },
   "file_extension": ".py",
   "mimetype": "text/x-python",
   "name": "python",
   "nbconvert_exporter": "python",
   "pygments_lexer": "ipython3",
   "version": "3.6.8"
  },
  "toc": {
   "base_numbering": 1,
   "nav_menu": {},
   "number_sections": true,
   "sideBar": true,
   "skip_h1_title": false,
   "title_cell": "Table of Contents",
   "title_sidebar": "Contents",
   "toc_cell": false,
   "toc_position": {},
   "toc_section_display": true,
   "toc_window_display": true
  }
 },
 "nbformat": 4,
 "nbformat_minor": 2
}
