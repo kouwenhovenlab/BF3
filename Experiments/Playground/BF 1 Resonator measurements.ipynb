{
 "cells": [
  {
   "cell_type": "code",
   "execution_count": 1,
   "metadata": {
    "ExecuteTime": {
     "end_time": "2019-04-15T15:36:56.969384Z",
     "start_time": "2019-04-15T15:36:50.844981Z"
    }
   },
   "outputs": [],
   "source": [
    "%matplotlib notebook\n",
    "\n",
    "# %qtconsole\n",
    "\n",
    "import logging\n",
    "import time\n",
    "from importlib import reload\n",
    "\n",
    "from matplotlib import pyplot as plt\n",
    "from matplotlib import colors, cm\n",
    "import numpy as np\n",
    "\n",
    "import qcodes as qc\n",
    "from qcodes.dataset.experiment_container import new_experiment"
   ]
  },
  {
   "cell_type": "code",
   "execution_count": 2,
   "metadata": {
    "ExecuteTime": {
     "end_time": "2019-04-15T15:37:33.770873Z",
     "start_time": "2019-04-15T15:37:33.727929Z"
    }
   },
   "outputs": [],
   "source": [
    "from pytopo.qctools import instruments as instools\n",
    "from pytopo.qctools.instruments import create_inst, add2station\n",
    "\n",
    "# from pytopo.sweep.base import Nest, Chain\n",
    "# from pytopo.sweep.decorators import getter, setter\n",
    "# from pytopo.sweep import sweep, do_experiment, hardsweep, measure"
   ]
  },
  {
   "cell_type": "code",
   "execution_count": 4,
   "metadata": {
    "ExecuteTime": {
     "end_time": "2019-04-15T15:38:23.328317Z",
     "start_time": "2019-04-15T15:38:23.324314Z"
    }
   },
   "outputs": [],
   "source": [
    "import time\n",
    "from qcodes import Measurement\n",
    "from pytopo.qctools.dataset2 import select_experiment"
   ]
  },
  {
   "cell_type": "markdown",
   "metadata": {},
   "source": [
    "# Define measurement functions"
   ]
  },
  {
   "cell_type": "code",
   "execution_count": 18,
   "metadata": {
    "ExecuteTime": {
     "end_time": "2019-04-15T16:32:59.035273Z",
     "start_time": "2019-04-15T16:32:59.026238Z"
    }
   },
   "outputs": [],
   "source": [
    "def setup_frq_sweep(fstart, fstop, fpts, chan='S21', bw=None, navgs=None, pwr=None):\n",
    "    \"\"\"\n",
    "    Setup a VNA trace.\n",
    "    \n",
    "    assumes that a channel with name chan is already created.\n",
    "    \"\"\"\n",
    "    vna = qc.Station.default.vna\n",
    "    trace = getattr(vna.channels, chan)\n",
    "    \n",
    "    fvals = np.linspace(fstart, fstop, fpts)\n",
    "    trace.start(fstart)\n",
    "    trace.stop(fstop)\n",
    "    trace.npts(fpts)\n",
    "    if navgs is not None:\n",
    "        trace.avg(navgs)\n",
    "    if bw is not None:\n",
    "        trace.bandwidth(bw)\n",
    "    if pwr is not None:\n",
    "        trace.power(pwr)\n",
    "    trace.autoscale()\n",
    "    \n",
    "    if not vna.rf_power():\n",
    "        vna.rf_on()\n",
    "    \n",
    "    return fvals\n",
    "\n",
    "def take_trace(chan='S21', plot=False, dB=True):\n",
    "    \"\"\"\n",
    "    Get the data of a currently measured trace.\n",
    "    The trace has to be setup already.\n",
    "    \n",
    "    Returns magnitude (in dB) and phase (in rad).\n",
    "    \n",
    "    If plot is true, make a simple plot of the magnitude vs frequency.\n",
    "    \"\"\"\n",
    "    vna = qc.Station.default.vna\n",
    "    trace = getattr(vna.channels, chan)\n",
    "    \n",
    "    fvals = np.linspace(trace.start(), trace.stop(), trace.npts())\n",
    "    mag, phase = trace.trace_mag_phase()\n",
    "    \n",
    "    if dB:\n",
    "        mag = 20*np.log10(mag)\n",
    "    \n",
    "    if plot:\n",
    "        fig, ax = plt.subplots(1, 1)\n",
    "        ax.plot(fvals*1e-9, mag)\n",
    "        ax.grid(dashes=[1,1])\n",
    "        ax.set_xlabel('Frequency (GHz)')\n",
    "        \n",
    "        ylbl = 'Magnitude'\n",
    "        if dB:\n",
    "            ylbl += ' (dB)'\n",
    "        ax.set_ylabel(ylbl)\n",
    "        \n",
    "    return mag, phase"
   ]
  },
  {
   "cell_type": "markdown",
   "metadata": {},
   "source": [
    "# Init station"
   ]
  },
  {
   "cell_type": "markdown",
   "metadata": {},
   "source": [
    "## Global variables"
   ]
  },
  {
   "cell_type": "code",
   "execution_count": 6,
   "metadata": {
    "ExecuteTime": {
     "end_time": "2019-04-15T15:38:42.392010Z",
     "start_time": "2019-04-15T15:38:41.928792Z"
    }
   },
   "outputs": [
    {
     "name": "stderr",
     "output_type": "stream",
     "text": [
      "Upgrading database: : 0it [00:00, ?it/s]\n"
     ]
    }
   ],
   "source": [
    "#SAMPLE = \"DW_ResTest_002b\"\n",
    "SAMPLE = 'magnet_test'\n",
    "qc.config.core.db_location = r'D:\\OneDrive\\BF1\\Data\\experiments_20190415.db'\n",
    "qc.initialise_database()"
   ]
  },
  {
   "cell_type": "code",
   "execution_count": 7,
   "metadata": {
    "ExecuteTime": {
     "end_time": "2019-04-15T15:38:43.325491Z",
     "start_time": "2019-04-15T15:38:43.319472Z"
    }
   },
   "outputs": [
    {
     "data": {
      "text/plain": [
       "{'default_fmt': 'data/{date}/#{counter}_{name}_{time}',\n",
       " 'register_magic': True,\n",
       " 'db_location': 'D:\\\\OneDrive\\\\BF1\\\\Data\\\\experiments_20190415.db',\n",
       " 'db_debug': False,\n",
       " 'loglevel': 'DEBUG',\n",
       " 'file_loglevel': 'INFO'}"
      ]
     },
     "execution_count": 7,
     "metadata": {},
     "output_type": "execute_result"
    }
   ],
   "source": [
    "qc.config.core"
   ]
  },
  {
   "cell_type": "markdown",
   "metadata": {},
   "source": [
    "## Init instruments"
   ]
  },
  {
   "cell_type": "code",
   "execution_count": 8,
   "metadata": {
    "ExecuteTime": {
     "end_time": "2019-04-15T15:38:46.126992Z",
     "start_time": "2019-04-15T15:38:46.122944Z"
    }
   },
   "outputs": [],
   "source": [
    "station = qc.Station()"
   ]
  },
  {
   "cell_type": "code",
   "execution_count": 9,
   "metadata": {
    "ExecuteTime": {
     "end_time": "2019-04-15T15:39:40.021636Z",
     "start_time": "2019-04-15T15:39:36.890935Z"
    }
   },
   "outputs": [
    {
     "name": "stdout",
     "output_type": "stream",
     "text": [
      "Connected to: LSCI 372 (serial:LSA17VE, firmware:1.3) in 0.47s\n"
     ]
    }
   ],
   "source": [
    "from qcodes.instrument_drivers.Lakeshore.Model_372 import Model_372\n",
    "ls = instools.create_inst(Model_372, 'lakeshore_372', 'TCPIP::169.254.216.87::7777::SOCKET', \n",
    "                          force_new_instance=True)\n",
    "station = add2station(station, ls)"
   ]
  },
  {
   "cell_type": "code",
   "execution_count": 10,
   "metadata": {
    "ExecuteTime": {
     "end_time": "2019-04-15T15:39:48.516443Z",
     "start_time": "2019-04-15T15:39:48.249815Z"
    }
   },
   "outputs": [
    {
     "name": "stdout",
     "output_type": "stream",
     "text": [
      "Connected to: Rohde-Schwarz ZNB20-2Port (serial:1311601062101879, firmware:2.86) in 0.20s\n"
     ]
    }
   ],
   "source": [
    "from qcodes.instrument_drivers.rohde_schwarz.ZNB import ZNB\n",
    "vna = create_inst(ZNB, 'vna', address='TCPIP::169.254.82.128::inst0::INSTR', force_new_instance=True)\n",
    "#station = qc.Station(vna)\n",
    "station = add2station(station, vna)\n",
    "# the VNA driver has some weird default settings. \n",
    "# Make sure here that we measure what we want\n",
    "vna.clear_channels()\n",
    "vna.add_channel('S21')\n",
    "vna.rf_off()"
   ]
  },
  {
   "cell_type": "markdown",
   "metadata": {},
   "source": [
    "# Testing"
   ]
  },
  {
   "cell_type": "code",
   "execution_count": 11,
   "metadata": {
    "ExecuteTime": {
     "end_time": "2019-04-15T15:39:55.916787Z",
     "start_time": "2019-04-15T15:39:55.912812Z"
    }
   },
   "outputs": [],
   "source": [
    "vna.timeout(100)"
   ]
  },
  {
   "cell_type": "markdown",
   "metadata": {
    "ExecuteTime": {
     "end_time": "2018-10-15T12:31:02.235649Z",
     "start_time": "2018-10-15T12:31:02.213640Z"
    }
   },
   "source": [
    "## Quick manual trace (without saving)"
   ]
  },
  {
   "cell_type": "code",
   "execution_count": 19,
   "metadata": {
    "ExecuteTime": {
     "end_time": "2019-04-15T16:33:14.625088Z",
     "start_time": "2019-04-15T16:33:06.135823Z"
    },
    "scrolled": false
   },
   "outputs": [
    {
     "data": {
      "application/javascript": [
       "/* Put everything inside the global mpl namespace */\n",
       "window.mpl = {};\n",
       "\n",
       "\n",
       "mpl.get_websocket_type = function() {\n",
       "    if (typeof(WebSocket) !== 'undefined') {\n",
       "        return WebSocket;\n",
       "    } else if (typeof(MozWebSocket) !== 'undefined') {\n",
       "        return MozWebSocket;\n",
       "    } else {\n",
       "        alert('Your browser does not have WebSocket support.' +\n",
       "              'Please try Chrome, Safari or Firefox ≥ 6. ' +\n",
       "              'Firefox 4 and 5 are also supported but you ' +\n",
       "              'have to enable WebSockets in about:config.');\n",
       "    };\n",
       "}\n",
       "\n",
       "mpl.figure = function(figure_id, websocket, ondownload, parent_element) {\n",
       "    this.id = figure_id;\n",
       "\n",
       "    this.ws = websocket;\n",
       "\n",
       "    this.supports_binary = (this.ws.binaryType != undefined);\n",
       "\n",
       "    if (!this.supports_binary) {\n",
       "        var warnings = document.getElementById(\"mpl-warnings\");\n",
       "        if (warnings) {\n",
       "            warnings.style.display = 'block';\n",
       "            warnings.textContent = (\n",
       "                \"This browser does not support binary websocket messages. \" +\n",
       "                    \"Performance may be slow.\");\n",
       "        }\n",
       "    }\n",
       "\n",
       "    this.imageObj = new Image();\n",
       "\n",
       "    this.context = undefined;\n",
       "    this.message = undefined;\n",
       "    this.canvas = undefined;\n",
       "    this.rubberband_canvas = undefined;\n",
       "    this.rubberband_context = undefined;\n",
       "    this.format_dropdown = undefined;\n",
       "\n",
       "    this.image_mode = 'full';\n",
       "\n",
       "    this.root = $('<div/>');\n",
       "    this._root_extra_style(this.root)\n",
       "    this.root.attr('style', 'display: inline-block');\n",
       "\n",
       "    $(parent_element).append(this.root);\n",
       "\n",
       "    this._init_header(this);\n",
       "    this._init_canvas(this);\n",
       "    this._init_toolbar(this);\n",
       "\n",
       "    var fig = this;\n",
       "\n",
       "    this.waiting = false;\n",
       "\n",
       "    this.ws.onopen =  function () {\n",
       "            fig.send_message(\"supports_binary\", {value: fig.supports_binary});\n",
       "            fig.send_message(\"send_image_mode\", {});\n",
       "            if (mpl.ratio != 1) {\n",
       "                fig.send_message(\"set_dpi_ratio\", {'dpi_ratio': mpl.ratio});\n",
       "            }\n",
       "            fig.send_message(\"refresh\", {});\n",
       "        }\n",
       "\n",
       "    this.imageObj.onload = function() {\n",
       "            if (fig.image_mode == 'full') {\n",
       "                // Full images could contain transparency (where diff images\n",
       "                // almost always do), so we need to clear the canvas so that\n",
       "                // there is no ghosting.\n",
       "                fig.context.clearRect(0, 0, fig.canvas.width, fig.canvas.height);\n",
       "            }\n",
       "            fig.context.drawImage(fig.imageObj, 0, 0);\n",
       "        };\n",
       "\n",
       "    this.imageObj.onunload = function() {\n",
       "        fig.ws.close();\n",
       "    }\n",
       "\n",
       "    this.ws.onmessage = this._make_on_message_function(this);\n",
       "\n",
       "    this.ondownload = ondownload;\n",
       "}\n",
       "\n",
       "mpl.figure.prototype._init_header = function() {\n",
       "    var titlebar = $(\n",
       "        '<div class=\"ui-dialog-titlebar ui-widget-header ui-corner-all ' +\n",
       "        'ui-helper-clearfix\"/>');\n",
       "    var titletext = $(\n",
       "        '<div class=\"ui-dialog-title\" style=\"width: 100%; ' +\n",
       "        'text-align: center; padding: 3px;\"/>');\n",
       "    titlebar.append(titletext)\n",
       "    this.root.append(titlebar);\n",
       "    this.header = titletext[0];\n",
       "}\n",
       "\n",
       "\n",
       "\n",
       "mpl.figure.prototype._canvas_extra_style = function(canvas_div) {\n",
       "\n",
       "}\n",
       "\n",
       "\n",
       "mpl.figure.prototype._root_extra_style = function(canvas_div) {\n",
       "\n",
       "}\n",
       "\n",
       "mpl.figure.prototype._init_canvas = function() {\n",
       "    var fig = this;\n",
       "\n",
       "    var canvas_div = $('<div/>');\n",
       "\n",
       "    canvas_div.attr('style', 'position: relative; clear: both; outline: 0');\n",
       "\n",
       "    function canvas_keyboard_event(event) {\n",
       "        return fig.key_event(event, event['data']);\n",
       "    }\n",
       "\n",
       "    canvas_div.keydown('key_press', canvas_keyboard_event);\n",
       "    canvas_div.keyup('key_release', canvas_keyboard_event);\n",
       "    this.canvas_div = canvas_div\n",
       "    this._canvas_extra_style(canvas_div)\n",
       "    this.root.append(canvas_div);\n",
       "\n",
       "    var canvas = $('<canvas/>');\n",
       "    canvas.addClass('mpl-canvas');\n",
       "    canvas.attr('style', \"left: 0; top: 0; z-index: 0; outline: 0\")\n",
       "\n",
       "    this.canvas = canvas[0];\n",
       "    this.context = canvas[0].getContext(\"2d\");\n",
       "\n",
       "    var backingStore = this.context.backingStorePixelRatio ||\n",
       "\tthis.context.webkitBackingStorePixelRatio ||\n",
       "\tthis.context.mozBackingStorePixelRatio ||\n",
       "\tthis.context.msBackingStorePixelRatio ||\n",
       "\tthis.context.oBackingStorePixelRatio ||\n",
       "\tthis.context.backingStorePixelRatio || 1;\n",
       "\n",
       "    mpl.ratio = (window.devicePixelRatio || 1) / backingStore;\n",
       "\n",
       "    var rubberband = $('<canvas/>');\n",
       "    rubberband.attr('style', \"position: absolute; left: 0; top: 0; z-index: 1;\")\n",
       "\n",
       "    var pass_mouse_events = true;\n",
       "\n",
       "    canvas_div.resizable({\n",
       "        start: function(event, ui) {\n",
       "            pass_mouse_events = false;\n",
       "        },\n",
       "        resize: function(event, ui) {\n",
       "            fig.request_resize(ui.size.width, ui.size.height);\n",
       "        },\n",
       "        stop: function(event, ui) {\n",
       "            pass_mouse_events = true;\n",
       "            fig.request_resize(ui.size.width, ui.size.height);\n",
       "        },\n",
       "    });\n",
       "\n",
       "    function mouse_event_fn(event) {\n",
       "        if (pass_mouse_events)\n",
       "            return fig.mouse_event(event, event['data']);\n",
       "    }\n",
       "\n",
       "    rubberband.mousedown('button_press', mouse_event_fn);\n",
       "    rubberband.mouseup('button_release', mouse_event_fn);\n",
       "    // Throttle sequential mouse events to 1 every 20ms.\n",
       "    rubberband.mousemove('motion_notify', mouse_event_fn);\n",
       "\n",
       "    rubberband.mouseenter('figure_enter', mouse_event_fn);\n",
       "    rubberband.mouseleave('figure_leave', mouse_event_fn);\n",
       "\n",
       "    canvas_div.on(\"wheel\", function (event) {\n",
       "        event = event.originalEvent;\n",
       "        event['data'] = 'scroll'\n",
       "        if (event.deltaY < 0) {\n",
       "            event.step = 1;\n",
       "        } else {\n",
       "            event.step = -1;\n",
       "        }\n",
       "        mouse_event_fn(event);\n",
       "    });\n",
       "\n",
       "    canvas_div.append(canvas);\n",
       "    canvas_div.append(rubberband);\n",
       "\n",
       "    this.rubberband = rubberband;\n",
       "    this.rubberband_canvas = rubberband[0];\n",
       "    this.rubberband_context = rubberband[0].getContext(\"2d\");\n",
       "    this.rubberband_context.strokeStyle = \"#000000\";\n",
       "\n",
       "    this._resize_canvas = function(width, height) {\n",
       "        // Keep the size of the canvas, canvas container, and rubber band\n",
       "        // canvas in synch.\n",
       "        canvas_div.css('width', width)\n",
       "        canvas_div.css('height', height)\n",
       "\n",
       "        canvas.attr('width', width * mpl.ratio);\n",
       "        canvas.attr('height', height * mpl.ratio);\n",
       "        canvas.attr('style', 'width: ' + width + 'px; height: ' + height + 'px;');\n",
       "\n",
       "        rubberband.attr('width', width);\n",
       "        rubberband.attr('height', height);\n",
       "    }\n",
       "\n",
       "    // Set the figure to an initial 600x600px, this will subsequently be updated\n",
       "    // upon first draw.\n",
       "    this._resize_canvas(600, 600);\n",
       "\n",
       "    // Disable right mouse context menu.\n",
       "    $(this.rubberband_canvas).bind(\"contextmenu\",function(e){\n",
       "        return false;\n",
       "    });\n",
       "\n",
       "    function set_focus () {\n",
       "        canvas.focus();\n",
       "        canvas_div.focus();\n",
       "    }\n",
       "\n",
       "    window.setTimeout(set_focus, 100);\n",
       "}\n",
       "\n",
       "mpl.figure.prototype._init_toolbar = function() {\n",
       "    var fig = this;\n",
       "\n",
       "    var nav_element = $('<div/>')\n",
       "    nav_element.attr('style', 'width: 100%');\n",
       "    this.root.append(nav_element);\n",
       "\n",
       "    // Define a callback function for later on.\n",
       "    function toolbar_event(event) {\n",
       "        return fig.toolbar_button_onclick(event['data']);\n",
       "    }\n",
       "    function toolbar_mouse_event(event) {\n",
       "        return fig.toolbar_button_onmouseover(event['data']);\n",
       "    }\n",
       "\n",
       "    for(var toolbar_ind in mpl.toolbar_items) {\n",
       "        var name = mpl.toolbar_items[toolbar_ind][0];\n",
       "        var tooltip = mpl.toolbar_items[toolbar_ind][1];\n",
       "        var image = mpl.toolbar_items[toolbar_ind][2];\n",
       "        var method_name = mpl.toolbar_items[toolbar_ind][3];\n",
       "\n",
       "        if (!name) {\n",
       "            // put a spacer in here.\n",
       "            continue;\n",
       "        }\n",
       "        var button = $('<button/>');\n",
       "        button.addClass('ui-button ui-widget ui-state-default ui-corner-all ' +\n",
       "                        'ui-button-icon-only');\n",
       "        button.attr('role', 'button');\n",
       "        button.attr('aria-disabled', 'false');\n",
       "        button.click(method_name, toolbar_event);\n",
       "        button.mouseover(tooltip, toolbar_mouse_event);\n",
       "\n",
       "        var icon_img = $('<span/>');\n",
       "        icon_img.addClass('ui-button-icon-primary ui-icon');\n",
       "        icon_img.addClass(image);\n",
       "        icon_img.addClass('ui-corner-all');\n",
       "\n",
       "        var tooltip_span = $('<span/>');\n",
       "        tooltip_span.addClass('ui-button-text');\n",
       "        tooltip_span.html(tooltip);\n",
       "\n",
       "        button.append(icon_img);\n",
       "        button.append(tooltip_span);\n",
       "\n",
       "        nav_element.append(button);\n",
       "    }\n",
       "\n",
       "    var fmt_picker_span = $('<span/>');\n",
       "\n",
       "    var fmt_picker = $('<select/>');\n",
       "    fmt_picker.addClass('mpl-toolbar-option ui-widget ui-widget-content');\n",
       "    fmt_picker_span.append(fmt_picker);\n",
       "    nav_element.append(fmt_picker_span);\n",
       "    this.format_dropdown = fmt_picker[0];\n",
       "\n",
       "    for (var ind in mpl.extensions) {\n",
       "        var fmt = mpl.extensions[ind];\n",
       "        var option = $(\n",
       "            '<option/>', {selected: fmt === mpl.default_extension}).html(fmt);\n",
       "        fmt_picker.append(option)\n",
       "    }\n",
       "\n",
       "    // Add hover states to the ui-buttons\n",
       "    $( \".ui-button\" ).hover(\n",
       "        function() { $(this).addClass(\"ui-state-hover\");},\n",
       "        function() { $(this).removeClass(\"ui-state-hover\");}\n",
       "    );\n",
       "\n",
       "    var status_bar = $('<span class=\"mpl-message\"/>');\n",
       "    nav_element.append(status_bar);\n",
       "    this.message = status_bar[0];\n",
       "}\n",
       "\n",
       "mpl.figure.prototype.request_resize = function(x_pixels, y_pixels) {\n",
       "    // Request matplotlib to resize the figure. Matplotlib will then trigger a resize in the client,\n",
       "    // which will in turn request a refresh of the image.\n",
       "    this.send_message('resize', {'width': x_pixels, 'height': y_pixels});\n",
       "}\n",
       "\n",
       "mpl.figure.prototype.send_message = function(type, properties) {\n",
       "    properties['type'] = type;\n",
       "    properties['figure_id'] = this.id;\n",
       "    this.ws.send(JSON.stringify(properties));\n",
       "}\n",
       "\n",
       "mpl.figure.prototype.send_draw_message = function() {\n",
       "    if (!this.waiting) {\n",
       "        this.waiting = true;\n",
       "        this.ws.send(JSON.stringify({type: \"draw\", figure_id: this.id}));\n",
       "    }\n",
       "}\n",
       "\n",
       "\n",
       "mpl.figure.prototype.handle_save = function(fig, msg) {\n",
       "    var format_dropdown = fig.format_dropdown;\n",
       "    var format = format_dropdown.options[format_dropdown.selectedIndex].value;\n",
       "    fig.ondownload(fig, format);\n",
       "}\n",
       "\n",
       "\n",
       "mpl.figure.prototype.handle_resize = function(fig, msg) {\n",
       "    var size = msg['size'];\n",
       "    if (size[0] != fig.canvas.width || size[1] != fig.canvas.height) {\n",
       "        fig._resize_canvas(size[0], size[1]);\n",
       "        fig.send_message(\"refresh\", {});\n",
       "    };\n",
       "}\n",
       "\n",
       "mpl.figure.prototype.handle_rubberband = function(fig, msg) {\n",
       "    var x0 = msg['x0'] / mpl.ratio;\n",
       "    var y0 = (fig.canvas.height - msg['y0']) / mpl.ratio;\n",
       "    var x1 = msg['x1'] / mpl.ratio;\n",
       "    var y1 = (fig.canvas.height - msg['y1']) / mpl.ratio;\n",
       "    x0 = Math.floor(x0) + 0.5;\n",
       "    y0 = Math.floor(y0) + 0.5;\n",
       "    x1 = Math.floor(x1) + 0.5;\n",
       "    y1 = Math.floor(y1) + 0.5;\n",
       "    var min_x = Math.min(x0, x1);\n",
       "    var min_y = Math.min(y0, y1);\n",
       "    var width = Math.abs(x1 - x0);\n",
       "    var height = Math.abs(y1 - y0);\n",
       "\n",
       "    fig.rubberband_context.clearRect(\n",
       "        0, 0, fig.canvas.width, fig.canvas.height);\n",
       "\n",
       "    fig.rubberband_context.strokeRect(min_x, min_y, width, height);\n",
       "}\n",
       "\n",
       "mpl.figure.prototype.handle_figure_label = function(fig, msg) {\n",
       "    // Updates the figure title.\n",
       "    fig.header.textContent = msg['label'];\n",
       "}\n",
       "\n",
       "mpl.figure.prototype.handle_cursor = function(fig, msg) {\n",
       "    var cursor = msg['cursor'];\n",
       "    switch(cursor)\n",
       "    {\n",
       "    case 0:\n",
       "        cursor = 'pointer';\n",
       "        break;\n",
       "    case 1:\n",
       "        cursor = 'default';\n",
       "        break;\n",
       "    case 2:\n",
       "        cursor = 'crosshair';\n",
       "        break;\n",
       "    case 3:\n",
       "        cursor = 'move';\n",
       "        break;\n",
       "    }\n",
       "    fig.rubberband_canvas.style.cursor = cursor;\n",
       "}\n",
       "\n",
       "mpl.figure.prototype.handle_message = function(fig, msg) {\n",
       "    fig.message.textContent = msg['message'];\n",
       "}\n",
       "\n",
       "mpl.figure.prototype.handle_draw = function(fig, msg) {\n",
       "    // Request the server to send over a new figure.\n",
       "    fig.send_draw_message();\n",
       "}\n",
       "\n",
       "mpl.figure.prototype.handle_image_mode = function(fig, msg) {\n",
       "    fig.image_mode = msg['mode'];\n",
       "}\n",
       "\n",
       "mpl.figure.prototype.updated_canvas_event = function() {\n",
       "    // Called whenever the canvas gets updated.\n",
       "    this.send_message(\"ack\", {});\n",
       "}\n",
       "\n",
       "// A function to construct a web socket function for onmessage handling.\n",
       "// Called in the figure constructor.\n",
       "mpl.figure.prototype._make_on_message_function = function(fig) {\n",
       "    return function socket_on_message(evt) {\n",
       "        if (evt.data instanceof Blob) {\n",
       "            /* FIXME: We get \"Resource interpreted as Image but\n",
       "             * transferred with MIME type text/plain:\" errors on\n",
       "             * Chrome.  But how to set the MIME type?  It doesn't seem\n",
       "             * to be part of the websocket stream */\n",
       "            evt.data.type = \"image/png\";\n",
       "\n",
       "            /* Free the memory for the previous frames */\n",
       "            if (fig.imageObj.src) {\n",
       "                (window.URL || window.webkitURL).revokeObjectURL(\n",
       "                    fig.imageObj.src);\n",
       "            }\n",
       "\n",
       "            fig.imageObj.src = (window.URL || window.webkitURL).createObjectURL(\n",
       "                evt.data);\n",
       "            fig.updated_canvas_event();\n",
       "            fig.waiting = false;\n",
       "            return;\n",
       "        }\n",
       "        else if (typeof evt.data === 'string' && evt.data.slice(0, 21) == \"data:image/png;base64\") {\n",
       "            fig.imageObj.src = evt.data;\n",
       "            fig.updated_canvas_event();\n",
       "            fig.waiting = false;\n",
       "            return;\n",
       "        }\n",
       "\n",
       "        var msg = JSON.parse(evt.data);\n",
       "        var msg_type = msg['type'];\n",
       "\n",
       "        // Call the  \"handle_{type}\" callback, which takes\n",
       "        // the figure and JSON message as its only arguments.\n",
       "        try {\n",
       "            var callback = fig[\"handle_\" + msg_type];\n",
       "        } catch (e) {\n",
       "            console.log(\"No handler for the '\" + msg_type + \"' message type: \", msg);\n",
       "            return;\n",
       "        }\n",
       "\n",
       "        if (callback) {\n",
       "            try {\n",
       "                // console.log(\"Handling '\" + msg_type + \"' message: \", msg);\n",
       "                callback(fig, msg);\n",
       "            } catch (e) {\n",
       "                console.log(\"Exception inside the 'handler_\" + msg_type + \"' callback:\", e, e.stack, msg);\n",
       "            }\n",
       "        }\n",
       "    };\n",
       "}\n",
       "\n",
       "// from http://stackoverflow.com/questions/1114465/getting-mouse-location-in-canvas\n",
       "mpl.findpos = function(e) {\n",
       "    //this section is from http://www.quirksmode.org/js/events_properties.html\n",
       "    var targ;\n",
       "    if (!e)\n",
       "        e = window.event;\n",
       "    if (e.target)\n",
       "        targ = e.target;\n",
       "    else if (e.srcElement)\n",
       "        targ = e.srcElement;\n",
       "    if (targ.nodeType == 3) // defeat Safari bug\n",
       "        targ = targ.parentNode;\n",
       "\n",
       "    // jQuery normalizes the pageX and pageY\n",
       "    // pageX,Y are the mouse positions relative to the document\n",
       "    // offset() returns the position of the element relative to the document\n",
       "    var x = e.pageX - $(targ).offset().left;\n",
       "    var y = e.pageY - $(targ).offset().top;\n",
       "\n",
       "    return {\"x\": x, \"y\": y};\n",
       "};\n",
       "\n",
       "/*\n",
       " * return a copy of an object with only non-object keys\n",
       " * we need this to avoid circular references\n",
       " * http://stackoverflow.com/a/24161582/3208463\n",
       " */\n",
       "function simpleKeys (original) {\n",
       "  return Object.keys(original).reduce(function (obj, key) {\n",
       "    if (typeof original[key] !== 'object')\n",
       "        obj[key] = original[key]\n",
       "    return obj;\n",
       "  }, {});\n",
       "}\n",
       "\n",
       "mpl.figure.prototype.mouse_event = function(event, name) {\n",
       "    var canvas_pos = mpl.findpos(event)\n",
       "\n",
       "    if (name === 'button_press')\n",
       "    {\n",
       "        this.canvas.focus();\n",
       "        this.canvas_div.focus();\n",
       "    }\n",
       "\n",
       "    var x = canvas_pos.x * mpl.ratio;\n",
       "    var y = canvas_pos.y * mpl.ratio;\n",
       "\n",
       "    this.send_message(name, {x: x, y: y, button: event.button,\n",
       "                             step: event.step,\n",
       "                             guiEvent: simpleKeys(event)});\n",
       "\n",
       "    /* This prevents the web browser from automatically changing to\n",
       "     * the text insertion cursor when the button is pressed.  We want\n",
       "     * to control all of the cursor setting manually through the\n",
       "     * 'cursor' event from matplotlib */\n",
       "    event.preventDefault();\n",
       "    return false;\n",
       "}\n",
       "\n",
       "mpl.figure.prototype._key_event_extra = function(event, name) {\n",
       "    // Handle any extra behaviour associated with a key event\n",
       "}\n",
       "\n",
       "mpl.figure.prototype.key_event = function(event, name) {\n",
       "\n",
       "    // Prevent repeat events\n",
       "    if (name == 'key_press')\n",
       "    {\n",
       "        if (event.which === this._key)\n",
       "            return;\n",
       "        else\n",
       "            this._key = event.which;\n",
       "    }\n",
       "    if (name == 'key_release')\n",
       "        this._key = null;\n",
       "\n",
       "    var value = '';\n",
       "    if (event.ctrlKey && event.which != 17)\n",
       "        value += \"ctrl+\";\n",
       "    if (event.altKey && event.which != 18)\n",
       "        value += \"alt+\";\n",
       "    if (event.shiftKey && event.which != 16)\n",
       "        value += \"shift+\";\n",
       "\n",
       "    value += 'k';\n",
       "    value += event.which.toString();\n",
       "\n",
       "    this._key_event_extra(event, name);\n",
       "\n",
       "    this.send_message(name, {key: value,\n",
       "                             guiEvent: simpleKeys(event)});\n",
       "    return false;\n",
       "}\n",
       "\n",
       "mpl.figure.prototype.toolbar_button_onclick = function(name) {\n",
       "    if (name == 'download') {\n",
       "        this.handle_save(this, null);\n",
       "    } else {\n",
       "        this.send_message(\"toolbar_button\", {name: name});\n",
       "    }\n",
       "};\n",
       "\n",
       "mpl.figure.prototype.toolbar_button_onmouseover = function(tooltip) {\n",
       "    this.message.textContent = tooltip;\n",
       "};\n",
       "mpl.toolbar_items = [[\"Home\", \"Reset original view\", \"fa fa-home icon-home\", \"home\"], [\"Back\", \"Back to previous view\", \"fa fa-arrow-left icon-arrow-left\", \"back\"], [\"Forward\", \"Forward to next view\", \"fa fa-arrow-right icon-arrow-right\", \"forward\"], [\"\", \"\", \"\", \"\"], [\"Pan\", \"Pan axes with left mouse, zoom with right\", \"fa fa-arrows icon-move\", \"pan\"], [\"Zoom\", \"Zoom to rectangle\", \"fa fa-square-o icon-check-empty\", \"zoom\"], [\"\", \"\", \"\", \"\"], [\"Download\", \"Download plot\", \"fa fa-floppy-o icon-save\", \"download\"]];\n",
       "\n",
       "mpl.extensions = [\"eps\", \"pdf\", \"png\", \"ps\", \"raw\", \"svg\"];\n",
       "\n",
       "mpl.default_extension = \"png\";var comm_websocket_adapter = function(comm) {\n",
       "    // Create a \"websocket\"-like object which calls the given IPython comm\n",
       "    // object with the appropriate methods. Currently this is a non binary\n",
       "    // socket, so there is still some room for performance tuning.\n",
       "    var ws = {};\n",
       "\n",
       "    ws.close = function() {\n",
       "        comm.close()\n",
       "    };\n",
       "    ws.send = function(m) {\n",
       "        //console.log('sending', m);\n",
       "        comm.send(m);\n",
       "    };\n",
       "    // Register the callback with on_msg.\n",
       "    comm.on_msg(function(msg) {\n",
       "        //console.log('receiving', msg['content']['data'], msg);\n",
       "        // Pass the mpl event to the overridden (by mpl) onmessage function.\n",
       "        ws.onmessage(msg['content']['data'])\n",
       "    });\n",
       "    return ws;\n",
       "}\n",
       "\n",
       "mpl.mpl_figure_comm = function(comm, msg) {\n",
       "    // This is the function which gets called when the mpl process\n",
       "    // starts-up an IPython Comm through the \"matplotlib\" channel.\n",
       "\n",
       "    var id = msg.content.data.id;\n",
       "    // Get hold of the div created by the display call when the Comm\n",
       "    // socket was opened in Python.\n",
       "    var element = $(\"#\" + id);\n",
       "    var ws_proxy = comm_websocket_adapter(comm)\n",
       "\n",
       "    function ondownload(figure, format) {\n",
       "        window.open(figure.imageObj.src);\n",
       "    }\n",
       "\n",
       "    var fig = new mpl.figure(id, ws_proxy,\n",
       "                           ondownload,\n",
       "                           element.get(0));\n",
       "\n",
       "    // Call onopen now - mpl needs it, as it is assuming we've passed it a real\n",
       "    // web socket which is closed, not our websocket->open comm proxy.\n",
       "    ws_proxy.onopen();\n",
       "\n",
       "    fig.parent_element = element.get(0);\n",
       "    fig.cell_info = mpl.find_output_cell(\"<div id='\" + id + \"'></div>\");\n",
       "    if (!fig.cell_info) {\n",
       "        console.error(\"Failed to find cell for figure\", id, fig);\n",
       "        return;\n",
       "    }\n",
       "\n",
       "    var output_index = fig.cell_info[2]\n",
       "    var cell = fig.cell_info[0];\n",
       "\n",
       "};\n",
       "\n",
       "mpl.figure.prototype.handle_close = function(fig, msg) {\n",
       "    var width = fig.canvas.width/mpl.ratio\n",
       "    fig.root.unbind('remove')\n",
       "\n",
       "    // Update the output cell to use the data from the current canvas.\n",
       "    fig.push_to_output();\n",
       "    var dataURL = fig.canvas.toDataURL();\n",
       "    // Re-enable the keyboard manager in IPython - without this line, in FF,\n",
       "    // the notebook keyboard shortcuts fail.\n",
       "    IPython.keyboard_manager.enable()\n",
       "    $(fig.parent_element).html('<img src=\"' + dataURL + '\" width=\"' + width + '\">');\n",
       "    fig.close_ws(fig, msg);\n",
       "}\n",
       "\n",
       "mpl.figure.prototype.close_ws = function(fig, msg){\n",
       "    fig.send_message('closing', msg);\n",
       "    // fig.ws.close()\n",
       "}\n",
       "\n",
       "mpl.figure.prototype.push_to_output = function(remove_interactive) {\n",
       "    // Turn the data on the canvas into data in the output cell.\n",
       "    var width = this.canvas.width/mpl.ratio\n",
       "    var dataURL = this.canvas.toDataURL();\n",
       "    this.cell_info[1]['text/html'] = '<img src=\"' + dataURL + '\" width=\"' + width + '\">';\n",
       "}\n",
       "\n",
       "mpl.figure.prototype.updated_canvas_event = function() {\n",
       "    // Tell IPython that the notebook contents must change.\n",
       "    IPython.notebook.set_dirty(true);\n",
       "    this.send_message(\"ack\", {});\n",
       "    var fig = this;\n",
       "    // Wait a second, then push the new image to the DOM so\n",
       "    // that it is saved nicely (might be nice to debounce this).\n",
       "    setTimeout(function () { fig.push_to_output() }, 1000);\n",
       "}\n",
       "\n",
       "mpl.figure.prototype._init_toolbar = function() {\n",
       "    var fig = this;\n",
       "\n",
       "    var nav_element = $('<div/>')\n",
       "    nav_element.attr('style', 'width: 100%');\n",
       "    this.root.append(nav_element);\n",
       "\n",
       "    // Define a callback function for later on.\n",
       "    function toolbar_event(event) {\n",
       "        return fig.toolbar_button_onclick(event['data']);\n",
       "    }\n",
       "    function toolbar_mouse_event(event) {\n",
       "        return fig.toolbar_button_onmouseover(event['data']);\n",
       "    }\n",
       "\n",
       "    for(var toolbar_ind in mpl.toolbar_items){\n",
       "        var name = mpl.toolbar_items[toolbar_ind][0];\n",
       "        var tooltip = mpl.toolbar_items[toolbar_ind][1];\n",
       "        var image = mpl.toolbar_items[toolbar_ind][2];\n",
       "        var method_name = mpl.toolbar_items[toolbar_ind][3];\n",
       "\n",
       "        if (!name) { continue; };\n",
       "\n",
       "        var button = $('<button class=\"btn btn-default\" href=\"#\" title=\"' + name + '\"><i class=\"fa ' + image + ' fa-lg\"></i></button>');\n",
       "        button.click(method_name, toolbar_event);\n",
       "        button.mouseover(tooltip, toolbar_mouse_event);\n",
       "        nav_element.append(button);\n",
       "    }\n",
       "\n",
       "    // Add the status bar.\n",
       "    var status_bar = $('<span class=\"mpl-message\" style=\"text-align:right; float: right;\"/>');\n",
       "    nav_element.append(status_bar);\n",
       "    this.message = status_bar[0];\n",
       "\n",
       "    // Add the close button to the window.\n",
       "    var buttongrp = $('<div class=\"btn-group inline pull-right\"></div>');\n",
       "    var button = $('<button class=\"btn btn-mini btn-primary\" href=\"#\" title=\"Stop Interaction\"><i class=\"fa fa-power-off icon-remove icon-large\"></i></button>');\n",
       "    button.click(function (evt) { fig.handle_close(fig, {}); } );\n",
       "    button.mouseover('Stop Interaction', toolbar_mouse_event);\n",
       "    buttongrp.append(button);\n",
       "    var titlebar = this.root.find($('.ui-dialog-titlebar'));\n",
       "    titlebar.prepend(buttongrp);\n",
       "}\n",
       "\n",
       "mpl.figure.prototype._root_extra_style = function(el){\n",
       "    var fig = this\n",
       "    el.on(\"remove\", function(){\n",
       "\tfig.close_ws(fig, {});\n",
       "    });\n",
       "}\n",
       "\n",
       "mpl.figure.prototype._canvas_extra_style = function(el){\n",
       "    // this is important to make the div 'focusable\n",
       "    el.attr('tabindex', 0)\n",
       "    // reach out to IPython and tell the keyboard manager to turn it's self\n",
       "    // off when our div gets focus\n",
       "\n",
       "    // location in version 3\n",
       "    if (IPython.notebook.keyboard_manager) {\n",
       "        IPython.notebook.keyboard_manager.register_events(el);\n",
       "    }\n",
       "    else {\n",
       "        // location in version 2\n",
       "        IPython.keyboard_manager.register_events(el);\n",
       "    }\n",
       "\n",
       "}\n",
       "\n",
       "mpl.figure.prototype._key_event_extra = function(event, name) {\n",
       "    var manager = IPython.notebook.keyboard_manager;\n",
       "    if (!manager)\n",
       "        manager = IPython.keyboard_manager;\n",
       "\n",
       "    // Check for shift+enter\n",
       "    if (event.shiftKey && event.which == 13) {\n",
       "        this.canvas_div.blur();\n",
       "        event.shiftKey = false;\n",
       "        // Send a \"J\" for go to next cell\n",
       "        event.which = 74;\n",
       "        event.keyCode = 74;\n",
       "        manager.command_mode();\n",
       "        manager.handle_keydown(event);\n",
       "    }\n",
       "}\n",
       "\n",
       "mpl.figure.prototype.handle_save = function(fig, msg) {\n",
       "    fig.ondownload(fig, null);\n",
       "}\n",
       "\n",
       "\n",
       "mpl.find_output_cell = function(html_output) {\n",
       "    // Return the cell and output element which can be found *uniquely* in the notebook.\n",
       "    // Note - this is a bit hacky, but it is done because the \"notebook_saving.Notebook\"\n",
       "    // IPython event is triggered only after the cells have been serialised, which for\n",
       "    // our purposes (turning an active figure into a static one), is too late.\n",
       "    var cells = IPython.notebook.get_cells();\n",
       "    var ncells = cells.length;\n",
       "    for (var i=0; i<ncells; i++) {\n",
       "        var cell = cells[i];\n",
       "        if (cell.cell_type === 'code'){\n",
       "            for (var j=0; j<cell.output_area.outputs.length; j++) {\n",
       "                var data = cell.output_area.outputs[j];\n",
       "                if (data.data) {\n",
       "                    // IPython >= 3 moved mimebundle to data attribute of output\n",
       "                    data = data.data;\n",
       "                }\n",
       "                if (data['text/html'] == html_output) {\n",
       "                    return [cell, data, j];\n",
       "                }\n",
       "            }\n",
       "        }\n",
       "    }\n",
       "}\n",
       "\n",
       "// Register the function which deals with the matplotlib target/channel.\n",
       "// The kernel may be null if the page has been refreshed.\n",
       "if (IPython.notebook.kernel != null) {\n",
       "    IPython.notebook.kernel.comm_manager.register_target('matplotlib', mpl.mpl_figure_comm);\n",
       "}\n"
      ],
      "text/plain": [
       "<IPython.core.display.Javascript object>"
      ]
     },
     "metadata": {},
     "output_type": "display_data"
    },
    {
     "data": {
      "text/html": [
       "<img src=\"data:image/png;base64,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\" width=\"640\">"
      ],
      "text/plain": [
       "<IPython.core.display.HTML object>"
      ]
     },
     "metadata": {},
     "output_type": "display_data"
    }
   ],
   "source": [
    "setup_frq_sweep(fstart=3e9, fstop=9e9, fpts=6001, pwr=-50, navgs=10, bw=10e3)\n",
    "mag, phase = take_trace(plot=True)"
   ]
  },
  {
   "cell_type": "markdown",
   "metadata": {
    "ExecuteTime": {
     "end_time": "2018-10-16T08:32:50.044909Z",
     "start_time": "2018-10-16T08:32:50.039907Z"
    }
   },
   "source": [
    "## A single trace (with saving)"
   ]
  },
  {
   "cell_type": "code",
   "execution_count": 107,
   "metadata": {
    "ExecuteTime": {
     "end_time": "2019-04-18T08:28:07.929361Z",
     "start_time": "2019-04-18T08:27:59.423050Z"
    }
   },
   "outputs": [
    {
     "name": "stdout",
     "output_type": "stream",
     "text": [
      "Starting experimental run with id: 23\n"
     ]
    }
   ],
   "source": [
    "exp = select_experiment('VNA', SAMPLE)\n",
    "meas = Measurement(exp, station)\n",
    "\n",
    "meas.register_custom_parameter('frequency', unit='Hz',\n",
    "                               paramtype='array')\n",
    "meas.register_custom_parameter('magnitude', unit='dB', \n",
    "                               setpoints=['frequency'],\n",
    "                               paramtype='array')\n",
    "meas.register_custom_parameter('phase', unit='rad', \n",
    "                               setpoints=['frequency'],\n",
    "                               paramtype='array')\n",
    "\n",
    "with meas.run() as datasaver:\n",
    "    fvals = setup_frq_sweep(fstart=3e9, fstop=8e9, fpts=5001, pwr=-40)\n",
    "    mag, phase = take_trace(chan='S21', plot=False)\n",
    "    result = [\n",
    "        ('frequency', fvals),\n",
    "        ('magnitude', mag),\n",
    "        ('phase', phase)\n",
    "    ]\n",
    "    datasaver.add_result(*result)"
   ]
  },
  {
   "cell_type": "code",
   "execution_count": null,
   "metadata": {},
   "outputs": [],
   "source": []
  },
  {
   "cell_type": "code",
   "execution_count": null,
   "metadata": {},
   "outputs": [],
   "source": []
  },
  {
   "cell_type": "markdown",
   "metadata": {
    "heading_collapsed": true
   },
   "source": [
    "# Traces as function of time with temperature log"
   ]
  },
  {
   "cell_type": "code",
   "execution_count": null,
   "metadata": {
    "hidden": true
   },
   "outputs": [],
   "source": []
  },
  {
   "cell_type": "code",
   "execution_count": 21,
   "metadata": {
    "ExecuteTime": {
     "end_time": "2019-04-16T12:22:08.500862Z",
     "start_time": "2019-04-16T07:18:32.544899Z"
    },
    "hidden": true
   },
   "outputs": [
    {
     "name": "stdout",
     "output_type": "stream",
     "text": [
      "Starting experimental run with id: 4\n"
     ]
    }
   ],
   "source": [
    "t0 = time.time()\n",
    "Tm = 60 * 60 * 5\n",
    "\n",
    "temperature = ls.ch06.temperature\n",
    "temperature_sample = ls.ch09.temperature\n",
    "\n",
    "exp = select_experiment('VNA', SAMPLE)\n",
    "meas = Measurement(exp, station)\n",
    "meas.register_custom_parameter('time', unit='s')\n",
    "meas.register_parameter(temperature, setpoints=['time',])\n",
    "meas.register_parameter(temperature_sample, setpoints=['time',])\n",
    "meas.register_custom_parameter('frequency', unit='Hz',\n",
    "                               paramtype='array')\n",
    "meas.register_custom_parameter('magnitude', unit='dB', \n",
    "                               setpoints=['time', 'frequency'],\n",
    "                               paramtype='array')\n",
    "meas.register_custom_parameter('phase', unit='rad', \n",
    "                               setpoints=['time', 'frequency'],\n",
    "                               paramtype='array')\n",
    "with meas.run() as datasaver:\n",
    "    while (time.time() - t0) < Tm:\n",
    "        time.sleep(60 * 5)\n",
    "        fvals = setup_frq_sweep(fstart=3e9, fstop=9e9, fpts=6001, navgs=10)\n",
    "        mag, phase = take_trace(chan='S21', plot=False)\n",
    "\n",
    "        result = [\n",
    "            ('time', time.time() - t0),\n",
    "            (temperature, temperature()),\n",
    "            (temperature_sample, temperature_sample()),\n",
    "            ('frequency', fvals),\n",
    "            ('magnitude', mag),\n",
    "            ('phase', phase)\n",
    "        ]\n",
    "        datasaver.add_result(*result)"
   ]
  },
  {
   "cell_type": "markdown",
   "metadata": {
    "heading_collapsed": true
   },
   "source": [
    "# Power dependence"
   ]
  },
  {
   "cell_type": "code",
   "execution_count": null,
   "metadata": {
    "ExecuteTime": {
     "end_time": "2019-02-07T09:18:02.914524Z",
     "start_time": "2019-02-07T09:18:02.911520Z"
    },
    "hidden": true
   },
   "outputs": [],
   "source": [
    "power = qc.Parameter('power', unit='dBm', set_cmd=None)"
   ]
  },
  {
   "cell_type": "code",
   "execution_count": null,
   "metadata": {
    "ExecuteTime": {
     "end_time": "2019-02-07T09:18:03.074310Z",
     "start_time": "2019-02-07T09:18:03.071340Z"
    },
    "hidden": true
   },
   "outputs": [],
   "source": [
    "power(-40)"
   ]
  },
  {
   "cell_type": "code",
   "execution_count": null,
   "metadata": {
    "ExecuteTime": {
     "end_time": "2019-02-07T09:18:03.237261Z",
     "start_time": "2019-02-07T09:18:03.234253Z"
    },
    "hidden": true
   },
   "outputs": [],
   "source": [
    "power()"
   ]
  },
  {
   "cell_type": "code",
   "execution_count": null,
   "metadata": {
    "ExecuteTime": {
     "end_time": "2019-01-31T20:51:39.533478Z",
     "start_time": "2019-01-31T20:51:39.527471Z"
    },
    "hidden": true
   },
   "outputs": [],
   "source": [
    "station.vna.rf_power()"
   ]
  },
  {
   "cell_type": "code",
   "execution_count": null,
   "metadata": {
    "ExecuteTime": {
     "end_time": "2019-01-30T10:04:00.565297Z",
     "start_time": "2019-01-30T10:04:00.561325Z"
    },
    "hidden": true
   },
   "outputs": [],
   "source": [
    "thing = station.vna.channels[0]"
   ]
  },
  {
   "cell_type": "code",
   "execution_count": null,
   "metadata": {
    "ExecuteTime": {
     "end_time": "2019-01-02T13:42:42.601684Z",
     "start_time": "2019-01-02T13:42:42.596656Z"
    },
    "hidden": true
   },
   "outputs": [],
   "source": [
    "thing"
   ]
  },
  {
   "cell_type": "code",
   "execution_count": null,
   "metadata": {
    "ExecuteTime": {
     "end_time": "2019-01-30T10:04:05.150484Z",
     "start_time": "2019-01-30T10:04:05.144477Z"
    },
    "hidden": true
   },
   "outputs": [],
   "source": [
    "thing.power.vals"
   ]
  },
  {
   "cell_type": "code",
   "execution_count": null,
   "metadata": {
    "ExecuteTime": {
     "end_time": "2019-01-02T14:20:33.615816Z",
     "start_time": "2019-01-02T14:20:33.609802Z"
    },
    "hidden": true
   },
   "outputs": [],
   "source": [
    "station.vna.visa_handle.close()\n",
    "station.vna.visa_handle.open()"
   ]
  },
  {
   "cell_type": "code",
   "execution_count": null,
   "metadata": {
    "ExecuteTime": {
     "end_time": "2019-02-01T14:44:38.571500Z",
     "start_time": "2019-02-01T14:44:38.567524Z"
    },
    "hidden": true
   },
   "outputs": [],
   "source": [
    "station.vna.timeout(60)"
   ]
  },
  {
   "cell_type": "code",
   "execution_count": null,
   "metadata": {
    "ExecuteTime": {
     "end_time": "2019-02-07T09:24:38.737324Z",
     "start_time": "2019-02-07T09:18:06.912404Z"
    },
    "hidden": true
   },
   "outputs": [],
   "source": [
    "exp = select_experiment('VNA', SAMPLE)\n",
    "meas = Measurement(exp, station)\n",
    "\n",
    "meas.register_custom_parameter('power', unit='Hz')\n",
    "meas.register_custom_parameter('frequency', unit='Hz',\n",
    "                               paramtype='array')\n",
    "meas.register_custom_parameter('magnitude', unit='dB', \n",
    "                               setpoints=[power, 'frequency'],\n",
    "                               paramtype='array')\n",
    "meas.register_custom_parameter('phase', unit='rad', \n",
    "                               setpoints=[power, 'frequency'],\n",
    "                               paramtype='array')\n",
    "with meas.run() as datasaver:\n",
    "    for p in np.arange(-40, -41, -1).astype(float):\n",
    "        fvals = setup_frq_sweep(fstart=3e9, fstop=9e9, fpts=40001, pwr=p)\n",
    "        mag, phase = take_trace(chan='S21', plot=False)\n",
    "        result = [\n",
    "            ('power', p),\n",
    "            ('frequency', fvals),\n",
    "            ('magnitude', mag),\n",
    "            ('phase', phase)\n",
    "        ]\n",
    "        datasaver.add_result(*result)"
   ]
  },
  {
   "cell_type": "code",
   "execution_count": null,
   "metadata": {
    "ExecuteTime": {
     "end_time": "2019-01-02T15:04:12.540259Z",
     "start_time": "2019-01-02T14:31:35.859514Z"
    },
    "hidden": true
   },
   "outputs": [],
   "source": [
    "exp = select_experiment('VNA', SAMPLE)\n",
    "meas = Measurement(exp, station)\n",
    "\n",
    "meas.register_custom_parameter('power', unit='Hz')\n",
    "meas.register_custom_parameter('frequency', unit='Hz',\n",
    "                               paramtype='array')\n",
    "meas.register_custom_parameter('magnitude', unit='dB', \n",
    "                               setpoints=[power, 'frequency'],\n",
    "                               paramtype='array')\n",
    "meas.register_custom_parameter('phase', unit='rad', \n",
    "                               setpoints=[power, 'frequency'],\n",
    "                               paramtype='array')\n",
    "with meas.run() as datasaver:\n",
    "    for p in np.arange(-40, -61, -5).astype(float):\n",
    "        fvals = setup_frq_sweep(fstart=4.5e9, fstop=5.6e9, fpts=40001, pwr=p)\n",
    "        mag, phase = take_trace(chan='S21', plot=False)\n",
    "        result = [\n",
    "            ('power', p),\n",
    "            ('frequency', fvals),\n",
    "            ('magnitude', mag),\n",
    "            ('phase', phase)\n",
    "        ]\n",
    "        datasaver.add_result(*result)"
   ]
  },
  {
   "cell_type": "markdown",
   "metadata": {},
   "source": [
    "# Field"
   ]
  },
  {
   "cell_type": "markdown",
   "metadata": {},
   "source": [
    "let's initialize connection to the magnet"
   ]
  },
  {
   "cell_type": "markdown",
   "metadata": {
    "heading_collapsed": true
   },
   "source": [
    "## Connection and safety checks"
   ]
  },
  {
   "cell_type": "code",
   "execution_count": 23,
   "metadata": {
    "ExecuteTime": {
     "end_time": "2019-04-16T14:50:22.159337Z",
     "start_time": "2019-04-16T14:50:19.101963Z"
    },
    "hidden": true
   },
   "outputs": [],
   "source": [
    "from qcodes.instrument_drivers.american_magnetics.AMI430 import AMI430,AMI430_3D\n",
    "def check_magnet(magnet, coil_constant, ramp_rate, current_limit, ramp_limit_multiplier=1):\n",
    "    \"\"\"\n",
    "    magnet: ami driver\n",
    "    coil_constant: T/A\n",
    "    ramp_rate: A/s\n",
    "    current_limit: A\n",
    "    \"\"\"\n",
    "    assert(magnet.field_units() == 'tesla')\n",
    "    assert(magnet.ramp_rate_units() == 'seconds')\n",
    "    \n",
    "    assert(magnet.coil_constant.unit == 'T/A')\n",
    "    assert(magnet.coil_constant() == coil_constant)\n",
    "    \n",
    "    assert(magnet.current_ramp_limit.unit == 'A/s')\n",
    "    assert(magnet.current_ramp_limit() == ramp_rate*ramp_limit_multiplier)\n",
    "    \n",
    "    # check the actual ramp rate!\n",
    "    assert(magnet.ramp_rate.unit == 'T/s')\n",
    "    assert(np.isclose(magnet.ramp_rate(), ramp_rate*magnet.coil_constant()*ramp_limit_multiplier))\n",
    "    \n",
    "    assert(magnet.current_limit.unit == 'A')\n",
    "    assert(magnet.current_limit() == current_limit)"
   ]
  },
  {
   "cell_type": "code",
   "execution_count": 24,
   "metadata": {
    "ExecuteTime": {
     "end_time": "2019-04-16T14:50:29.124922Z",
     "start_time": "2019-04-16T14:50:25.691955Z"
    },
    "hidden": true
   },
   "outputs": [
    {
     "name": "stdout",
     "output_type": "stream",
     "text": [
      "Connected to: AMERICAN MAGNETICS INC. 430 (serial:170026, firmware:2.57) in 1.15s\n",
      "Connected to: AMERICAN MAGNETICS INC. 430 (serial:170025, firmware:2.57) in 1.08s\n",
      "Connected to: AMERICAN MAGNETICS INC. 430 (serial:170024, firmware:2.57) in 1.20s\n"
     ]
    }
   ],
   "source": [
    "ami_y = ami_green = create_inst(AMI430, \"AMI430_y\", \"169.254.179.21\", \n",
    "                                port = 7180, has_current_rating=True, force_new_instance=True)\n",
    "ami_x = ami_blue = create_inst(AMI430, \"AMI430_x\", \"169.254.135.186\", \n",
    "                               port = 7180, has_current_rating=True, force_new_instance=True)\n",
    "ami_z = ami_yellow = create_inst(AMI430, \"AMI430_z\", \"169.254.114.235\", \n",
    "                                 port = 7180, has_current_rating=True, force_new_instance=True)"
   ]
  },
  {
   "cell_type": "code",
   "execution_count": 70,
   "metadata": {
    "ExecuteTime": {
     "end_time": "2019-04-17T12:17:51.636274Z",
     "start_time": "2019-04-17T12:17:51.530329Z"
    },
    "hidden": true
   },
   "outputs": [
    {
     "data": {
      "text/plain": [
       "(1.0000136999999998, 0.9999389999999999, 5.999796)"
      ]
     },
     "execution_count": 70,
     "metadata": {},
     "output_type": "execute_result"
    }
   ],
   "source": [
    "ami_x.field_limit(), ami_y.field_limit(), ami_z.field_limit()"
   ]
  },
  {
   "cell_type": "code",
   "execution_count": null,
   "metadata": {
    "ExecuteTime": {
     "end_time": "2019-04-17T12:18:30.205399Z",
     "start_time": "2019-04-17T12:18:30.201411Z"
    },
    "hidden": true
   },
   "outputs": [],
   "source": []
  },
  {
   "cell_type": "code",
   "execution_count": null,
   "metadata": {
    "ExecuteTime": {
     "end_time": "2019-02-27T10:58:13.610329Z",
     "start_time": "2019-02-27T10:58:13.452922Z"
    },
    "deletable": false,
    "editable": false,
    "hidden": true,
    "run_control": {
     "frozen": true
    }
   },
   "outputs": [],
   "source": [
    "ramp_limit_multiplier = 0.4\n",
    "ami_x.current_ramp_limit(0.1742*ramp_limit_multiplier)\n",
    "ami_y.current_ramp_limit(0.1762*ramp_limit_multiplier)\n",
    "ami_z.current_ramp_limit(0.0756*ramp_limit_multiplier)"
   ]
  },
  {
   "cell_type": "code",
   "execution_count": 27,
   "metadata": {
    "ExecuteTime": {
     "end_time": "2019-04-16T14:51:13.921954Z",
     "start_time": "2019-04-16T14:51:13.918957Z"
    },
    "deletable": false,
    "editable": false,
    "hidden": true,
    "run_control": {
     "frozen": true
    }
   },
   "outputs": [],
   "source": [
    "# check_magnet(ami_x, 0.01491, 0.1742, 67.07, ramp_limit_multiplier=0.4)\n",
    "# check_magnet(ami_y, 0.01490, 0.1762, 67.11, ramp_limit_multiplier=0.4)\n",
    "# check_magnet(ami_z, 0.0834, 0.0756, 71.94, ramp_limit_multiplier=0.4)"
   ]
  },
  {
   "cell_type": "code",
   "execution_count": null,
   "metadata": {
    "ExecuteTime": {
     "end_time": "2019-02-20T13:38:39.538786Z",
     "start_time": "2019-02-20T13:38:39.408777Z"
    },
    "deletable": false,
    "editable": false,
    "hidden": true,
    "run_control": {
     "frozen": true
    }
   },
   "outputs": [],
   "source": [
    "#raise Exception()\n",
    "# you should not need this code!\n",
    "ramp_limit_multiplier = 0.4\n",
    "ami_x.current_ramp_limit(0.1742*ramp_limit_multiplier)\n",
    "ami_x.ramp_rate(0.1742*ramp_limit_multiplier*0.01491)\n",
    "ami_x.coil_constant(0.01491)\n",
    "ami_x.current_limit(67.07)\n",
    "\n",
    "ami_y.current_ramp_limit(0.1762*ramp_limit_multiplier)\n",
    "ami_y.ramp_rate(0.1762*ramp_limit_multiplier*0.01490)\n",
    "ami_y.coil_constant(0.01490)\n",
    "ami_y.current_limit(67.11)\n",
    "\n",
    "ami_z.current_ramp_limit(0.0756*ramp_limit_multiplier)\n",
    "ami_z.ramp_rate(0.0756*ramp_limit_multiplier*0.0834)\n",
    "ami_z.coil_constant(0.0834)\n",
    "ami_z.current_limit(71.94)"
   ]
  },
  {
   "cell_type": "code",
   "execution_count": 28,
   "metadata": {
    "ExecuteTime": {
     "end_time": "2019-04-16T14:51:31.731539Z",
     "start_time": "2019-04-16T14:51:29.648293Z"
    },
    "hidden": true
   },
   "outputs": [],
   "source": [
    "ami = create_inst(AMI430_3D, \"AMI430\", ami_x, ami_y, ami_z, 2)\n",
    "station = add2station(station, ami)"
   ]
  },
  {
   "cell_type": "markdown",
   "metadata": {},
   "source": [
    "## Magnetic field sweeps"
   ]
  },
  {
   "cell_type": "code",
   "execution_count": 29,
   "metadata": {
    "ExecuteTime": {
     "end_time": "2019-04-16T14:51:33.847693Z",
     "start_time": "2019-04-16T14:51:33.842691Z"
    }
   },
   "outputs": [
    {
     "data": {
      "text/plain": [
       "'magnet_test'"
      ]
     },
     "execution_count": 29,
     "metadata": {},
     "output_type": "execute_result"
    }
   ],
   "source": [
    "SAMPLE"
   ]
  },
  {
   "cell_type": "code",
   "execution_count": 102,
   "metadata": {
    "ExecuteTime": {
     "end_time": "2019-04-18T08:03:42.369641Z",
     "start_time": "2019-04-18T08:03:42.362651Z"
    }
   },
   "outputs": [
    {
     "data": {
      "text/plain": [
       "(-180.0, 0.09095697356824939, 0)"
      ]
     },
     "execution_count": 102,
     "metadata": {},
     "output_type": "execute_result"
    }
   ],
   "source": [
    "station.AMI430.phi(), station.AMI430.theta(), station.AMI430.field()"
   ]
  },
  {
   "cell_type": "code",
   "execution_count": 85,
   "metadata": {
    "ExecuteTime": {
     "end_time": "2019-04-17T12:49:51.188224Z",
     "start_time": "2019-04-17T12:49:51.085283Z"
    }
   },
   "outputs": [
    {
     "data": {
      "text/plain": [
       "[-0.0007151, -0.0101826, 1.9499476]"
      ]
     },
     "execution_count": 85,
     "metadata": {},
     "output_type": "execute_result"
    }
   ],
   "source": [
    "station.AMI430.cartesian_measured()"
   ]
  },
  {
   "cell_type": "code",
   "execution_count": 101,
   "metadata": {
    "ExecuteTime": {
     "end_time": "2019-04-18T08:03:39.300272Z",
     "start_time": "2019-04-18T08:03:39.272286Z"
    }
   },
   "outputs": [
    {
     "data": {
      "text/plain": [
       "(0.0103431, 0.0169565)"
      ]
     },
     "execution_count": 101,
     "metadata": {},
     "output_type": "execute_result"
    }
   ],
   "source": [
    "temperature(), temperature_sample()"
   ]
  },
  {
   "cell_type": "code",
   "execution_count": null,
   "metadata": {},
   "outputs": [],
   "source": []
  },
  {
   "cell_type": "code",
   "execution_count": null,
   "metadata": {},
   "outputs": [],
   "source": []
  },
  {
   "cell_type": "code",
   "execution_count": null,
   "metadata": {},
   "outputs": [],
   "source": []
  },
  {
   "cell_type": "code",
   "execution_count": null,
   "metadata": {},
   "outputs": [],
   "source": []
  },
  {
   "cell_type": "code",
   "execution_count": 100,
   "metadata": {
    "ExecuteTime": {
     "end_time": "2019-04-18T07:49:52.780135Z",
     "start_time": "2019-04-18T07:42:52.287343Z"
    }
   },
   "outputs": [],
   "source": [
    "# station.AMI430.theta(-0.3)\n",
    "# station.AMI430.phi(266)\n",
    "station.AMI430.field(0)"
   ]
  },
  {
   "cell_type": "code",
   "execution_count": 83,
   "metadata": {
    "ExecuteTime": {
     "end_time": "2019-04-17T12:46:07.407674Z",
     "start_time": "2019-04-17T12:46:07.400703Z"
    }
   },
   "outputs": [
    {
     "data": {
      "text/plain": [
       "(85.99999999999999, -0.3, 1.95)"
      ]
     },
     "execution_count": 83,
     "metadata": {},
     "output_type": "execute_result"
    }
   ],
   "source": [
    "station.AMI430.phi(), station.AMI430.theta(), station.AMI430.field()"
   ]
  },
  {
   "cell_type": "code",
   "execution_count": 80,
   "metadata": {
    "ExecuteTime": {
     "end_time": "2019-04-17T12:36:20.744984Z",
     "start_time": "2019-04-17T12:25:45.189029Z"
    }
   },
   "outputs": [
    {
     "name": "stdout",
     "output_type": "stream",
     "text": [
      "Starting experimental run with id: 14\n"
     ]
    }
   ],
   "source": [
    "exp = select_experiment('VNA_FIELD', SAMPLE)\n",
    "meas = Measurement(exp, station)\n",
    "\n",
    "\n",
    "# field_vec, field_vec_unit, field_vec_name = station.AMI430.phi, 'deg', 'phi'\n",
    "# field_vals = np.linspace(0, 360, 91).astype(float)\n",
    "\n",
    "field_vec, field_vec_unit, field_vec_name = station.AMI430.theta, 'deg', 'theta'\n",
    "field_vals = np.linspace(1.5 - 2, 1.5 + 2, 21).astype(float)\n",
    "\n",
    "# field_vec, field_vec_unit, field_vec_name = station.AMI430.z, 'T', 'z'\n",
    "# field_vals = np.linspace(1., 2., 51).astype(float)\n",
    "\n",
    "\n",
    "temperature = ls.ch06.temperature\n",
    "temperature_sample = ls.ch09.temperature\n",
    "\n",
    "\n",
    "meas.register_custom_parameter(field_vec_name, unit=field_vec_unit)\n",
    "meas.register_parameter(temperature, setpoints=[field_vec_name,])\n",
    "meas.register_parameter(temperature_sample, setpoints=[field_vec_name,])\n",
    "meas.register_custom_parameter('frequency', unit='Hz',\n",
    "                               paramtype='array')\n",
    "meas.register_custom_parameter('magnitude', unit='dB', \n",
    "                               setpoints=[field_vec_name, 'frequency'],\n",
    "                               paramtype='array')\n",
    "meas.register_custom_parameter('phase', unit='rad', \n",
    "                               setpoints=[field_vec_name, 'frequency'],\n",
    "                               paramtype='array')\n",
    "with meas.run() as datasaver:\n",
    "    for Bval in field_vals:\n",
    "        field_vec(Bval)\n",
    "        fvals = setup_frq_sweep(fstart=3e9, fstop=8e9, fpts=5001, pwr=-40)\n",
    "        mag, phase = take_trace(chan='S21', plot=False)\n",
    "        result = [\n",
    "            (field_vec_name, Bval),\n",
    "            (temperature, temperature()),\n",
    "            (temperature_sample, temperature_sample()),\n",
    "            ('frequency', fvals),\n",
    "            ('magnitude', mag),\n",
    "            ('phase', phase)\n",
    "        ]\n",
    "        datasaver.add_result(*result)"
   ]
  },
  {
   "cell_type": "code",
   "execution_count": null,
   "metadata": {
    "ExecuteTime": {
     "end_time": "2019-02-05T21:44:33.397595Z",
     "start_time": "2019-02-05T19:18:37.359051Z"
    },
    "deletable": false,
    "editable": false,
    "run_control": {
     "frozen": true
    }
   },
   "outputs": [],
   "source": [
    "exp = select_experiment('VNA_FIELD', SAMPLE)\n",
    "meas = Measurement(exp, station)\n",
    "\n",
    "meas.register_custom_parameter('phi', unit='deg')\n",
    "meas.register_custom_parameter('frequency', unit='Hz',\n",
    "                               paramtype='array')\n",
    "meas.register_custom_parameter('magnitude', unit='dB', \n",
    "                               setpoints=['phi', 'frequency'],\n",
    "                               paramtype='array')\n",
    "meas.register_custom_parameter('phase', unit='rad', \n",
    "                               setpoints=['phi', 'frequency'],\n",
    "                               paramtype='array')\n",
    "with meas.run() as datasaver:\n",
    "    for phi in np.linspace(360, 0, 121).astype(float):\n",
    "        station.AMI430.phi(phi)\n",
    "        fvals = setup_frq_sweep(fstart=3e9, fstop=9e9, fpts=6001, pwr=-40)\n",
    "        mag, phase = take_trace(chan='S21', plot=False)\n",
    "        result = [\n",
    "            ('phi', phi),\n",
    "            ('frequency', fvals),\n",
    "            ('magnitude', mag),\n",
    "            ('phase', phase)\n",
    "        ]\n",
    "        datasaver.add_result(*result)"
   ]
  },
  {
   "cell_type": "code",
   "execution_count": null,
   "metadata": {
    "ExecuteTime": {
     "end_time": "2019-02-04T15:43:31.738074Z",
     "start_time": "2019-02-04T15:43:31.733099Z"
    }
   },
   "outputs": [],
   "source": [
    "station.AMI430.theta()"
   ]
  },
  {
   "cell_type": "code",
   "execution_count": null,
   "metadata": {
    "ExecuteTime": {
     "end_time": "2019-02-05T09:09:54.468424Z",
     "start_time": "2019-02-05T09:09:54.462420Z"
    }
   },
   "outputs": [],
   "source": [
    "station.AMI430.cartesian()"
   ]
  },
  {
   "cell_type": "code",
   "execution_count": null,
   "metadata": {
    "ExecuteTime": {
     "end_time": "2019-02-04T15:15:11.396302Z",
     "start_time": "2019-02-04T15:15:11.389324Z"
    }
   },
   "outputs": [],
   "source": [
    "ds = qc.load_by_id(12)"
   ]
  },
  {
   "cell_type": "code",
   "execution_count": null,
   "metadata": {
    "ExecuteTime": {
     "end_time": "2019-02-04T15:15:20.731406Z",
     "start_time": "2019-02-04T15:15:20.615474Z"
    }
   },
   "outputs": [],
   "source": [
    "ds.snapshot"
   ]
  },
  {
   "cell_type": "markdown",
   "metadata": {},
   "source": [
    "## Automatic field alignment"
   ]
  },
  {
   "cell_type": "markdown",
   "metadata": {
    "heading_collapsed": true
   },
   "source": [
    "### Musings"
   ]
  },
  {
   "cell_type": "markdown",
   "metadata": {
    "hidden": true
   },
   "source": [
    "pseudocode:"
   ]
  },
  {
   "cell_type": "code",
   "execution_count": null,
   "metadata": {
    "hidden": true
   },
   "outputs": [],
   "source": [
    "for z from 0 to 1T:\n",
    "    ami.field_prime(0, 0, z)\n",
    "    sgd in x, y\n",
    "    calculate new coordinate system\n",
    "    # field_prime should now be in (0, 0, close to but higher than z)"
   ]
  },
  {
   "cell_type": "markdown",
   "metadata": {
    "hidden": true
   },
   "source": [
    "I want a function `optimize()` that does the inner part of the for loop\n",
    "\n",
    "I need asignature for this function to describe exactly what it's doing"
   ]
  },
  {
   "cell_type": "markdown",
   "metadata": {
    "hidden": true
   },
   "source": [
    "criss' code is so opaque to me, that it will a lot faster to rewrite it"
   ]
  },
  {
   "cell_type": "code",
   "execution_count": null,
   "metadata": {
    "ExecuteTime": {
     "end_time": "2019-02-06T15:09:54.975978Z",
     "start_time": "2019-02-06T15:09:54.955986Z"
    },
    "hidden": true
   },
   "outputs": [],
   "source": [
    "setup_frq_sweep(fstart=5.3e9, fstop=5.6e9, fpts=51, pwr=-40)"
   ]
  },
  {
   "cell_type": "code",
   "execution_count": null,
   "metadata": {
    "ExecuteTime": {
     "end_time": "2019-02-08T09:45:56.226275Z",
     "start_time": "2019-02-08T09:45:56.219308Z"
    },
    "hidden": true
   },
   "outputs": [],
   "source": [
    "station.AMI430.cartesian()"
   ]
  },
  {
   "cell_type": "code",
   "execution_count": null,
   "metadata": {
    "ExecuteTime": {
     "end_time": "2019-02-08T09:46:07.076105Z",
     "start_time": "2019-02-08T09:46:06.922160Z"
    },
    "hidden": true
   },
   "outputs": [],
   "source": [
    "station.AMI430.cartesian_measured()"
   ]
  },
  {
   "cell_type": "code",
   "execution_count": null,
   "metadata": {
    "ExecuteTime": {
     "end_time": "2019-02-06T17:25:53.629872Z",
     "start_time": "2019-02-06T17:25:51.567869Z"
    },
    "hidden": true
   },
   "outputs": [],
   "source": [
    "fval = setup_frq_sweep(fstart=5.44e9, fstop=5.48e9, fpts=201, pwr=-40)\n",
    "mag, phase = take_trace(plot=True)\n",
    "amin = np.argmin(mag)\n",
    "print(fval[amin])"
   ]
  },
  {
   "cell_type": "code",
   "execution_count": null,
   "metadata": {
    "ExecuteTime": {
     "end_time": "2019-02-06T15:10:39.440103Z",
     "start_time": "2019-02-06T15:10:39.434103Z"
    },
    "hidden": true
   },
   "outputs": [],
   "source": []
  },
  {
   "cell_type": "markdown",
   "metadata": {},
   "source": [
    "### coding"
   ]
  },
  {
   "cell_type": "code",
   "execution_count": 104,
   "metadata": {
    "ExecuteTime": {
     "end_time": "2019-04-18T08:05:30.961493Z",
     "start_time": "2019-04-18T08:05:30.956465Z"
    }
   },
   "outputs": [],
   "source": [
    "fc = 6.263e9\n",
    "df = 25e6\n",
    "\n",
    "def opt_fun():\n",
    "    global fc\n",
    "    fval = setup_frq_sweep(fstart=fc-df, fstop=fc+df, fpts=501, pwr=-40)\n",
    "    mag, phase = take_trace(plot=False)\n",
    "    amin = np.argmin(mag)\n",
    "    fc = fval[amin]\n",
    "    return fc"
   ]
  },
  {
   "cell_type": "code",
   "execution_count": 94,
   "metadata": {
    "ExecuteTime": {
     "end_time": "2019-04-17T13:23:07.578298Z",
     "start_time": "2019-04-17T13:23:00.592753Z"
    }
   },
   "outputs": [
    {
     "name": "stdout",
     "output_type": "stream",
     "text": [
      "6263100000.0\n",
      "6263000000.0\n",
      "6262900000.0\n",
      "6263100000.0\n",
      "6263100000.0\n",
      "6263200000.0\n",
      "6263100000.0\n",
      "6263200000.0\n",
      "6263100000.0\n",
      "6263100000.0\n"
     ]
    }
   ],
   "source": [
    "for i in range(10):\n",
    "    print(opt_fun())"
   ]
  },
  {
   "cell_type": "markdown",
   "metadata": {},
   "source": [
    "very interesting, my optimization code could be completely independent from all other stuff, just an efficient wiggle function should do the trick"
   ]
  },
  {
   "cell_type": "code",
   "execution_count": 105,
   "metadata": {
    "ExecuteTime": {
     "end_time": "2019-04-18T08:05:40.306662Z",
     "start_time": "2019-04-18T08:05:40.300636Z"
    }
   },
   "outputs": [],
   "source": [
    "def wiggle_1d(max_radial, wiggle_step, min_wiggle, optimization_function, field_parameter):\n",
    "    # picture a Roomba\n",
    "    nsteps = 1\n",
    "    val = optimization_function()\n",
    "    direction = 1\n",
    "    done = False\n",
    "    while wiggle_step>min_wiggle:\n",
    "        nsteps+=1\n",
    "        pos = field_parameter()\n",
    "        if pos+direction*wiggle_step > max_radial:\n",
    "            raise Exception('radial optimization limit exceeded')\n",
    "        field_parameter(pos+direction*wiggle_step)\n",
    "        new_val = optimization_function()\n",
    "        if new_val <= val:\n",
    "            print(val, pos)\n",
    "            val = new_val\n",
    "            direction = -1*direction\n",
    "            if direction == 1:\n",
    "                wiggle_step=wiggle_step/2\n",
    "        else:\n",
    "            val = new_val\n",
    "    print('nstep', nsteps)"
   ]
  },
  {
   "cell_type": "code",
   "execution_count": 109,
   "metadata": {
    "ExecuteTime": {
     "end_time": "2019-04-18T08:35:06.572220Z",
     "start_time": "2019-04-18T08:30:18.712737Z"
    }
   },
   "outputs": [
    {
     "name": "stdout",
     "output_type": "stream",
     "text": [
      "Starting experimental run with id: 25\n",
      "6302300000.0 0.0023\n",
      "6303800000.0 0.0022\n",
      "6300700000.0 0.0021500000000000004\n",
      "6303500000.0 0.0021000000000000003\n",
      "6303400000.0 0.00205\n",
      "6300800000.0 0.002075\n",
      "6300700000.0 0.00205\n",
      "6302400000.0 0.00205\n",
      "6302600000.0 0.0020500000000000006\n",
      "6302700000.0 0.0020500000000000006\n"
     ]
    }
   ],
   "source": [
    "exp = select_experiment('FIELD_ALIGNMENT_TEST', SAMPLE)\n",
    "meas = Measurement(exp, station)\n",
    "\n",
    "meas.register_custom_parameter('step', unit='#')\n",
    "meas.register_custom_parameter('fres', unit='Hz',\n",
    "                               setpoints=['step'])\n",
    "meas.register_custom_parameter('Bx', unit='T',\n",
    "                               setpoints=['step'])\n",
    "max_radial = 4e-3\n",
    "wiggle_step = 100e-6\n",
    "min_wiggle = 5e-6\n",
    "optimization_function = opt_fun\n",
    "field_parameter = station.AMI430.x\n",
    "with meas.run() as datasaver:\n",
    "    nsteps = 1\n",
    "    val = optimization_function()\n",
    "    direction = 1\n",
    "    done = False\n",
    "    while wiggle_step>min_wiggle:\n",
    "        nsteps+=1\n",
    "        pos = field_parameter()\n",
    "        new_pos = pos+direction*wiggle_step\n",
    "        if new_pos > max_radial:\n",
    "            raise Exception('radial optimization limit exceeded')\n",
    "        field_parameter(new_pos)\n",
    "        new_val = optimization_function()\n",
    "        result = [\n",
    "            ('step', nsteps),\n",
    "            ('fres', new_val),\n",
    "            ('Bx', new_pos),\n",
    "        ]\n",
    "        datasaver.add_result(*result)\n",
    "        if new_val <= val:\n",
    "            print(val, pos)\n",
    "            val = new_val\n",
    "            direction = -1*direction\n",
    "            if direction == 1:\n",
    "                wiggle_step=wiggle_step/2\n",
    "        else:\n",
    "            val = new_val\n",
    "        "
   ]
  },
  {
   "cell_type": "code",
   "execution_count": null,
   "metadata": {},
   "outputs": [],
   "source": []
  },
  {
   "cell_type": "code",
   "execution_count": 98,
   "metadata": {
    "ExecuteTime": {
     "end_time": "2019-04-17T18:23:14.351803Z",
     "start_time": "2019-04-17T16:01:14.332281Z"
    }
   },
   "outputs": [
    {
     "name": "stdout",
     "output_type": "stream",
     "text": [
      "Starting experimental run with id: 19\n",
      "6303200000.0 0.0006937499999999981\n",
      "6304200000.0 0.0006937499999999981\n",
      "6304200000.0 0.0006687499999999981\n",
      "6303700000.0 0.0006812499999999982\n",
      "6304200000.0 0.0006749999999999981\n",
      "6303900000.0 0.000681249999999998\n",
      "6302700000.0 0.0006749999999999981\n",
      "6303800000.0 0.0006499999999999981\n",
      "6303500000.0 0.0006374999999999982\n",
      "6303400000.0 0.0006499999999999982\n",
      "6303200000.0 0.0006374999999999982\n",
      "6303100000.0 0.0006437499999999982\n",
      "6301100000.0 0.0006374999999999982\n",
      "6303200000.0 0.0006374999999999982\n",
      "6303400000.0 0.0006249999999999983\n",
      "6303900000.0 0.0006249999999999983\n",
      "6303400000.0 0.0006124999999999982\n",
      "6303900000.0 0.0006062499999999983\n",
      "6303000000.0 0.0005999999999999983\n",
      "6303000000.0 0.0005999999999999983\n",
      "6303400000.0 0.0005874999999999984\n",
      "6303800000.0 0.0005874999999999984\n",
      "6303700000.0 0.0005749999999999984\n",
      "6303800000.0 0.0005687499999999984\n",
      "6303200000.0 0.0005624999999999984\n",
      "6303800000.0 0.0005624999999999984\n",
      "6303300000.0 0.0005374999999999985\n",
      "6303700000.0 0.0005374999999999985\n",
      "6303100000.0 0.0005312499999999984\n",
      "6303800000.0 0.0005249999999999984\n",
      "6301000000.0 0.0005187499999999985\n",
      "6303500000.0 0.0004937499999999985\n",
      "6303400000.0 0.0004687499999999985\n",
      "6303400000.0 0.0004812499999999985\n",
      "6303200000.0 0.0004687499999999985\n",
      "6303700000.0 0.0004687499999999985\n",
      "6300400000.0 0.0004624999999999985\n",
      "6303400000.0 0.0004124999999999985\n",
      "6303300000.0 0.00038749999999999847\n",
      "6303200000.0 0.00039999999999999845\n",
      "6303500000.0 0.0003999999999999985\n",
      "6303000000.0 0.0003999999999999985\n",
      "6301300000.0 0.0003937499999999985\n",
      "6303100000.0 0.00034374999999999846\n",
      "6303300000.0 0.00033124999999999843\n",
      "6303500000.0 0.00031874999999999845\n",
      "6303300000.0 0.00030624999999999847\n",
      "6303300000.0 0.00030624999999999847\n",
      "6301700000.0 0.00032499999999999847\n",
      "6302900000.0 0.00032499999999999847\n",
      "6302900000.0 0.00031249999999999843\n",
      "6303400000.0 0.00029999999999999846\n",
      "6303300000.0 0.0002874999999999985\n",
      "6303800000.0 0.0002874999999999985\n",
      "6301600000.0 0.00028124999999999846\n",
      "6303200000.0 0.00028124999999999846\n",
      "6303100000.0 0.00026874999999999843\n",
      "6303100000.0 0.00025624999999999845\n",
      "6303000000.0 0.00024374999999999844\n",
      "6303000000.0 0.00024374999999999844\n",
      "6300800000.0 0.00023749999999999845\n",
      "6302900000.0 0.00018749999999999843\n",
      "6302900000.0 0.00016249999999999842\n",
      "6302800000.0 0.00017499999999999843\n",
      "6302700000.0 0.00016249999999999842\n",
      "6303000000.0 0.00016249999999999842\n",
      "6300900000.0 0.00015624999999999843\n",
      "6303000000.0 0.00013124999999999842\n",
      "6303000000.0 0.00013124999999999842\n",
      "6302600000.0 0.00011874999999999841\n",
      "6303000000.0 0.00011249999999999841\n",
      "6302600000.0 0.00010624999999999841\n",
      "6302000000.0 9.99999999999984e-05\n",
      "6303000000.0 7.499999999999841e-05\n",
      "6302400000.0 7.499999999999842e-05\n",
      "6302900000.0 6.249999999999842e-05\n",
      "6302400000.0 5.624999999999842e-05\n",
      "6302100000.0 6.249999999999842e-05\n",
      "6300700000.0 5.624999999999841e-05\n",
      "6302700000.0 3.1249999999998415e-05\n",
      "6302900000.0 1.8749999999998416e-05\n",
      "6302700000.0 3.1249999999998415e-05\n",
      "6302600000.0 2.4999999999998416e-05\n",
      "6302100000.0 3.1249999999998415e-05\n",
      "6301300000.0 2.4999999999998416e-05\n",
      "6302200000.0 2.4999999999998416e-05\n",
      "6302100000.0 1.2499999999998415e-05\n",
      "6302600000.0 -1.2500000000001586e-05\n",
      "6301700000.0 -2.5000000000001587e-05\n",
      "6301800000.0 -2.5000000000001587e-05\n",
      "6300300000.0 -3.1250000000001586e-05\n",
      "6302600000.0 -5.6250000000001584e-05\n",
      "6302500000.0 -8.125000000000158e-05\n",
      "6302400000.0 -6.875000000000158e-05\n",
      "6302400000.0 -8.125000000000158e-05\n",
      "6302300000.0 -8.125000000000158e-05\n",
      "6301700000.0 -6.250000000000159e-05\n",
      "6302000000.0 -6.250000000000159e-05\n",
      "6301900000.0 -8.750000000000158e-05\n",
      "6302400000.0 -0.0001125000000000016\n",
      "6302300000.0 -0.0001250000000000016\n",
      "6302000000.0 -0.0001250000000000016\n",
      "6301200000.0 -0.0001062500000000016\n",
      "6301600000.0 -0.0001312500000000016\n",
      "6302100000.0 -0.0001312500000000016\n",
      "6302100000.0 -0.0001437500000000016\n",
      "6301700000.0 -0.0001500000000000016\n",
      "6302300000.0 -0.0001562500000000016\n",
      "6300700000.0 -0.0001625000000000016\n",
      "6301900000.0 -0.0001875000000000016\n",
      "6301500000.0 -0.00021250000000000161\n",
      "6302200000.0 -0.00025000000000000163\n",
      "6301700000.0 -0.0002562500000000016\n",
      "6301700000.0 -0.0002562500000000016\n",
      "6299800000.0 -0.0002375000000000016\n",
      "6302300000.0 -0.0002625000000000016\n",
      "6301900000.0 -0.0002875000000000016\n",
      "6302200000.0 -0.0002875000000000016\n",
      "6301800000.0 -0.0003000000000000016\n",
      "6301600000.0 -0.0003000000000000016\n",
      "6300400000.0 -0.0002812500000000016\n",
      "6301500000.0 -0.0002812500000000016\n",
      "6301400000.0 -0.0003062500000000016\n",
      "6301600000.0 -0.0003062500000000016\n",
      "6302000000.0 -0.0003125000000000016\n",
      "6302100000.0 -0.0003125000000000016\n",
      "6299300000.0 -0.0003187500000000016\n",
      "6301000000.0 -0.0003187500000000016\n",
      "6301200000.0 -0.00033125000000000163\n",
      "6301700000.0 -0.00033125000000000163\n",
      "6301900000.0 -0.0003375000000000016\n",
      "6301800000.0 -0.0003312500000000016\n",
      "6299000000.0 -0.0003375000000000016\n",
      "6301500000.0 -0.0003625000000000016\n",
      "6301700000.0 -0.00037500000000000163\n",
      "6301600000.0 -0.00037500000000000163\n",
      "6301500000.0 -0.0003875000000000016\n",
      "6301700000.0 -0.00039375000000000163\n",
      "6300900000.0 -0.00037500000000000163\n",
      "6301400000.0 -0.00040000000000000165\n",
      "6301400000.0 -0.0004000000000000017\n",
      "6301300000.0 -0.0004000000000000017\n",
      "6301500000.0 -0.00039375000000000163\n",
      "6300600000.0 -0.00039375000000000163\n",
      "6298500000.0 -0.00040000000000000165\n",
      "6301000000.0 -0.00042500000000000166\n",
      "6301000000.0 -0.00045000000000000167\n",
      "6301300000.0 -0.00045000000000000167\n",
      "6300900000.0 -0.00046250000000000165\n",
      "6300900000.0 -0.00046250000000000165\n",
      "6298800000.0 -0.00046875000000000166\n",
      "6300800000.0 -0.00046875000000000166\n",
      "6300600000.0 -0.0004937500000000017\n",
      "6301100000.0 -0.0004937500000000017\n",
      "6300700000.0 -0.0005062500000000017\n",
      "6301200000.0 -0.0005062500000000017\n",
      "6300400000.0 -0.00048750000000000166\n",
      "6300700000.0 -0.0005125000000000017\n",
      "6300600000.0 -0.0005375000000000016\n",
      "6300400000.0 -0.0005250000000000016\n",
      "6300900000.0 -0.0005312500000000017\n",
      "6301100000.0 -0.0005312500000000017\n",
      "6299900000.0 -0.0005375000000000016\n",
      "6301000000.0 -0.0005625000000000016\n",
      "6300700000.0 -0.0005750000000000015\n",
      "6301300000.0 -0.0005875000000000015\n",
      "6300600000.0 -0.0006000000000000016\n",
      "6300800000.0 -0.0006062500000000015\n",
      "6299900000.0 -0.0005875000000000015\n",
      "6300800000.0 -0.0006375000000000015\n",
      "6300300000.0 -0.0006625000000000014\n",
      "6300400000.0 -0.0006625000000000014\n",
      "6300400000.0 -0.0006750000000000014\n",
      "6300300000.0 -0.0006750000000000014\n",
      "6300600000.0 -0.0006562500000000015\n",
      "6300900000.0 -0.0007062500000000014\n",
      "6300100000.0 -0.0007312500000000013\n",
      "6300300000.0 -0.0007312500000000013\n",
      "6300500000.0 -0.0007375000000000014\n",
      "6300700000.0 -0.0007375000000000014\n",
      "6299100000.0 -0.0007437500000000014\n",
      "6300500000.0 -0.0007687500000000013\n",
      "6299900000.0 -0.0007937500000000013\n",
      "6300200000.0 -0.0007937500000000013\n",
      "6300300000.0 -0.0008000000000000013\n",
      "6299800000.0 -0.0007937500000000014\n",
      "6299700000.0 -0.0008000000000000013\n",
      "6300500000.0 -0.0008250000000000013\n",
      "6299500000.0 -0.0008500000000000013\n",
      "6299800000.0 -0.0008500000000000013\n",
      "6299000000.0 -0.0008625000000000013\n",
      "6299800000.0 -0.0008750000000000012\n",
      "6299900000.0 -0.0008312500000000013\n",
      "6300000000.0 -0.0008562500000000012\n",
      "6300000000.0 -0.0008812500000000012\n",
      "6299800000.0 -0.0008687500000000011\n",
      "6299800000.0 -0.0008687500000000012\n",
      "6299900000.0 -0.0008687500000000012\n",
      "6299600000.0 -0.0008500000000000013\n",
      "6299200000.0 -0.0008500000000000013\n",
      "6299400000.0 -0.0008625000000000012\n",
      "6300200000.0 -0.0008625000000000012\n",
      "6299800000.0 -0.0008687500000000012\n",
      "6299900000.0 -0.0008750000000000012\n",
      "6296800000.0 -0.0008812500000000012\n",
      "6299500000.0 -0.0009312500000000011\n",
      "6299400000.0 -0.000956250000000001\n",
      "6299600000.0 -0.0009687500000000011\n",
      "6300000000.0 -0.0009625000000000011\n",
      "6299700000.0 -0.0009562500000000012\n",
      "6299300000.0 -0.0009375000000000012\n",
      "6299400000.0 -0.0009875000000000012\n",
      "6299400000.0 -0.0009875000000000014\n",
      "6299600000.0 -0.0010000000000000013\n",
      "6299400000.0 -0.0010125000000000012\n",
      "6299200000.0 -0.0010125000000000012\n",
      "6298700000.0 -0.0010187500000000012\n",
      "6299100000.0 -0.0010187500000000012\n",
      "6299400000.0 -0.0010187500000000014\n",
      "6299200000.0 -0.0010312500000000013\n",
      "6299100000.0 -0.0010437500000000013\n",
      "6299500000.0 -0.0010437500000000013\n",
      "6299100000.0 -0.001000000000000001\n",
      "6299000000.0 -0.001000000000000001\n",
      "6299100000.0 -0.0010125000000000012\n",
      "6298300000.0 -0.0010125000000000012\n",
      "6298300000.0 -0.0010187500000000012\n",
      "6299200000.0 -0.0010187500000000012\n",
      "6298000000.0 -0.001000000000000001\n",
      "6298700000.0 -0.0010250000000000012\n",
      "6298600000.0 -0.0010250000000000014\n",
      "6298500000.0 -0.0010125000000000015\n",
      "6298700000.0 -0.0010187500000000014\n",
      "6299100000.0 -0.0010187500000000014\n",
      "6298100000.0 -0.0009750000000000014\n",
      "6297800000.0 -0.0009750000000000014\n",
      "6297400000.0 -0.0009875000000000014\n",
      "6297800000.0 -0.0009875000000000014\n",
      "6297600000.0 -0.0010000000000000013\n",
      "6298000000.0 -0.0010000000000000013\n",
      "6296900000.0 -0.0010062500000000013\n",
      "6298000000.0 -0.0010062500000000013\n",
      "6297900000.0 -0.0010312500000000013\n",
      "6298100000.0 -0.0010312500000000013\n",
      "6298100000.0 -0.0010437500000000013\n",
      "6298100000.0 -0.0010375000000000013\n",
      "6294700000.0 -0.0010437500000000013\n",
      "6297900000.0 -0.0010937500000000014\n",
      "6297600000.0 -0.0011187500000000015\n",
      "6297700000.0 -0.0011187500000000015\n",
      "6298200000.0 -0.0011187500000000015\n",
      "6298400000.0 -0.0011250000000000014\n",
      "6297100000.0 -0.0011312500000000014\n",
      "6298100000.0 -0.0011312500000000014\n",
      "6297200000.0 -0.0011562500000000015\n",
      "6297900000.0 -0.0011687500000000014\n",
      "6297900000.0 -0.0011750000000000013\n",
      "6297900000.0 -0.0011750000000000013\n",
      "6294300000.0 -0.0011812500000000013\n",
      "6297500000.0 -0.0012312500000000014\n",
      "6297600000.0 -0.0012437500000000016\n",
      "6297900000.0 -0.0012562500000000015\n",
      "6297900000.0 -0.0012687500000000014\n",
      "6297900000.0 -0.0012625000000000015\n",
      "6296100000.0 -0.0012687500000000014\n",
      "6297700000.0 -0.0012937500000000015\n",
      "6297800000.0 -0.0013062500000000016\n",
      "6297600000.0 -0.0013062500000000016\n",
      "6298100000.0 -0.0013062500000000016\n",
      "6297900000.0 -0.0013000000000000017\n",
      "6295100000.0 -0.0013062500000000016\n",
      "6297800000.0 -0.0013562500000000018\n",
      "6297600000.0 -0.001356250000000002\n",
      "6297700000.0 -0.001356250000000002\n",
      "6297500000.0 -0.001368750000000002\n",
      "6297500000.0 -0.001368750000000002\n",
      "6296900000.0 -0.0013750000000000019\n",
      "6297200000.0 -0.0013750000000000019\n",
      "6297500000.0 -0.001387500000000002\n",
      "6297400000.0 -0.001387500000000002\n",
      "6297200000.0 -0.001400000000000002\n",
      "6297300000.0 -0.001400000000000002\n",
      "6295900000.0 -0.001406250000000002\n",
      "6296900000.0 -0.001431250000000002\n",
      "6297300000.0 -0.001443750000000002\n",
      "6297400000.0 -0.001456250000000002\n",
      "6297300000.0 -0.001462500000000002\n",
      "6296800000.0 -0.001456250000000002\n",
      "6295300000.0 -0.001462500000000002\n",
      "6296900000.0 -0.001487500000000002\n",
      "6297100000.0 -0.0014750000000000024\n",
      "6297300000.0 -0.0015000000000000022\n",
      "6297300000.0 -0.0015062500000000022\n",
      "6296800000.0 -0.0015000000000000022\n",
      "6295500000.0 -0.0015062500000000022\n",
      "6297100000.0 -0.0015562500000000023\n",
      "6296700000.0 -0.0015562500000000025\n",
      "6296900000.0 -0.0015562500000000025\n",
      "6296800000.0 -0.0015437500000000026\n",
      "6296800000.0 -0.0015375000000000026\n",
      "6295100000.0 -0.0015437500000000026\n",
      "6296900000.0 -0.0015437500000000026\n",
      "6296400000.0 -0.0015687500000000027\n",
      "6297100000.0 -0.0015812500000000026\n",
      "6296900000.0 -0.0015875000000000025\n",
      "6296900000.0 -0.0015812500000000026\n"
     ]
    }
   ],
   "source": [
    "exp = select_experiment('FIELD_ALIGNMENT_TEST', SAMPLE)\n",
    "meas = Measurement(exp, station)\n",
    "\n",
    "meas.register_custom_parameter('Bz', unit='T')\n",
    "meas.register_custom_parameter('step', unit='#')\n",
    "meas.register_custom_parameter('fres', unit='Hz',\n",
    "                               setpoints=['Bz','step'])\n",
    "meas.register_custom_parameter('Bx', unit='T',\n",
    "                               setpoints=['Bz','step'])\n",
    "max_radial = 10e-3\n",
    "wiggle_step = 25e-6\n",
    "min_wiggle = 5e-6\n",
    "optimization_function = opt_fun\n",
    "field_parameter = station.AMI430.x\n",
    "with meas.run() as datasaver:\n",
    "    for Bz in np.linspace(0.5, 1., 51):\n",
    "        # this line can be improved by actually moving in a z-x direction determined by the optimal angle\n",
    "        station.AMI430.z(Bz)\n",
    "        max_radial = 10e-3\n",
    "        wiggle_step = 25e-6\n",
    "        min_wiggle = 5e-6\n",
    "        nsteps = 1\n",
    "        val = optimization_function()\n",
    "        direction = 1\n",
    "        done = False\n",
    "        while wiggle_step>min_wiggle:\n",
    "            nsteps+=1\n",
    "            pos = field_parameter()\n",
    "            new_pos = pos+direction*wiggle_step\n",
    "            if new_pos > max_radial:\n",
    "                raise Exception('radial optimization limit exceeded')\n",
    "            field_parameter(new_pos)\n",
    "            new_val = optimization_function()\n",
    "            result = [\n",
    "                ('Bz', Bz),\n",
    "                ('step', nsteps),\n",
    "                ('fres', new_val),\n",
    "                ('Bx', new_pos),\n",
    "            ]\n",
    "            datasaver.add_result(*result)\n",
    "            if new_val <= val:\n",
    "                print(val, pos)\n",
    "                val = new_val\n",
    "                direction = -1*direction\n",
    "                if direction == 1:\n",
    "                    wiggle_step=wiggle_step/2\n",
    "            else:\n",
    "                val = new_val\n"
   ]
  },
  {
   "cell_type": "code",
   "execution_count": null,
   "metadata": {
    "ExecuteTime": {
     "end_time": "2019-02-07T10:36:08.171011Z",
     "start_time": "2019-02-07T10:36:08.167004Z"
    }
   },
   "outputs": [],
   "source": [
    "station.AMI430.cartesian()"
   ]
  },
  {
   "cell_type": "code",
   "execution_count": null,
   "metadata": {
    "ExecuteTime": {
     "end_time": "2019-02-07T11:13:44.404620Z",
     "start_time": "2019-02-07T11:08:12.414377Z"
    }
   },
   "outputs": [],
   "source": [
    "station.AMI430.z(0.5)"
   ]
  },
  {
   "cell_type": "code",
   "execution_count": null,
   "metadata": {
    "ExecuteTime": {
     "end_time": "2019-02-07T10:55:48.333382Z",
     "start_time": "2019-02-07T10:55:48.327396Z"
    }
   },
   "outputs": [],
   "source": [
    "station.AMI430.z()"
   ]
  },
  {
   "cell_type": "code",
   "execution_count": null,
   "metadata": {
    "ExecuteTime": {
     "end_time": "2019-02-07T11:14:12.704448Z",
     "start_time": "2019-02-07T11:13:44.407611Z"
    }
   },
   "outputs": [],
   "source": [
    "station.AMI430.x(0)"
   ]
  },
  {
   "cell_type": "code",
   "execution_count": null,
   "metadata": {
    "ExecuteTime": {
     "end_time": "2019-02-07T15:25:14.605931Z",
     "start_time": "2019-02-07T14:58:37.029706Z"
    }
   },
   "outputs": [],
   "source": [
    "station.AMI430.z(1)"
   ]
  },
  {
   "cell_type": "code",
   "execution_count": null,
   "metadata": {},
   "outputs": [],
   "source": []
  },
  {
   "cell_type": "markdown",
   "metadata": {
    "heading_collapsed": true
   },
   "source": [
    "# Time sweeps"
   ]
  },
  {
   "cell_type": "code",
   "execution_count": null,
   "metadata": {
    "ExecuteTime": {
     "end_time": "2019-02-08T10:14:27.259011Z",
     "start_time": "2019-02-08T10:14:27.255034Z"
    },
    "hidden": true
   },
   "outputs": [],
   "source": [
    "4000/(df*1e-6)"
   ]
  },
  {
   "cell_type": "code",
   "execution_count": null,
   "metadata": {
    "ExecuteTime": {
     "end_time": "2019-02-08T10:14:34.074692Z",
     "start_time": "2019-02-08T10:14:34.070686Z"
    },
    "hidden": true
   },
   "outputs": [],
   "source": [
    "201*160"
   ]
  },
  {
   "cell_type": "code",
   "execution_count": null,
   "metadata": {
    "ExecuteTime": {
     "end_time": "2019-02-08T10:17:42.187160Z",
     "start_time": "2019-02-08T10:17:32.288205Z"
    },
    "hidden": true
   },
   "outputs": [],
   "source": [
    "fval = setup_frq_sweep(fstart=4e9, fstop=7e9, fpts=10001, pwr=-40)\n",
    "mag, phase = take_trace(plot=True)"
   ]
  },
  {
   "cell_type": "code",
   "execution_count": null,
   "metadata": {
    "ExecuteTime": {
     "end_time": "2019-02-08T10:45:01.821710Z",
     "start_time": "2019-02-08T10:44:53.127026Z"
    },
    "hidden": true
   },
   "outputs": [],
   "source": [
    "fval = setup_frq_sweep(fstart=4.384e9, fstop=4.385e9, fpts=101, pwr=-40)\n",
    "mag, phase = take_trace(plot=True)"
   ]
  },
  {
   "cell_type": "code",
   "execution_count": null,
   "metadata": {
    "ExecuteTime": {
     "end_time": "2019-02-08T10:17:42.193167Z",
     "start_time": "2019-02-08T10:17:42.189157Z"
    },
    "hidden": true
   },
   "outputs": [],
   "source": [
    "len(fval)"
   ]
  },
  {
   "cell_type": "code",
   "execution_count": null,
   "metadata": {
    "ExecuteTime": {
     "end_time": "2019-02-08T10:17:59.981308Z",
     "start_time": "2019-02-08T10:17:59.977309Z"
    },
    "hidden": true
   },
   "outputs": [],
   "source": [
    "len(phase)"
   ]
  },
  {
   "cell_type": "code",
   "execution_count": null,
   "metadata": {
    "ExecuteTime": {
     "end_time": "2019-02-08T11:57:45.904894Z",
     "start_time": "2019-02-08T11:06:38.439937Z"
    },
    "hidden": true
   },
   "outputs": [],
   "source": [
    "exp = select_experiment('Time Trace', SAMPLE)\n",
    "meas = Measurement(exp, station)\n",
    "\n",
    "meas.register_custom_parameter('step', unit='#')\n",
    "meas.register_custom_parameter('frequency', unit='Hz',\n",
    "                               paramtype='array')\n",
    "meas.register_custom_parameter('magnitude', unit='dB', \n",
    "                               setpoints=['step', 'frequency'],\n",
    "                               paramtype='array')\n",
    "meas.register_custom_parameter('phase', unit='rad', \n",
    "                               setpoints=['step', 'frequency'],\n",
    "                               paramtype='array')\n",
    "with meas.run() as datasaver:\n",
    "    for step in np.arange(0, 500, 1).astype(float):\n",
    "        fval = setup_frq_sweep(fstart=4.384e9, fstop=4.385e9, fpts=101, pwr=-40)\n",
    "        mag, phase = take_trace(plot=False)\n",
    "        result = [\n",
    "            ('step', step),\n",
    "            ('frequency', fval),\n",
    "            ('magnitude', mag),\n",
    "            ('phase', phase)\n",
    "        ]\n",
    "        datasaver.add_result(*result)"
   ]
  },
  {
   "cell_type": "markdown",
   "metadata": {
    "heading_collapsed": true
   },
   "source": [
    "# Magnetic field vs temperature checks"
   ]
  },
  {
   "cell_type": "code",
   "execution_count": null,
   "metadata": {
    "ExecuteTime": {
     "end_time": "2019-02-27T11:00:10.427978Z",
     "start_time": "2019-02-27T11:00:10.414976Z"
    },
    "hidden": true
   },
   "outputs": [],
   "source": [
    "station.lakeshore_372.ch01.temperature()"
   ]
  },
  {
   "cell_type": "code",
   "execution_count": null,
   "metadata": {
    "ExecuteTime": {
     "end_time": "2019-02-27T11:00:12.931139Z",
     "start_time": "2019-02-27T11:00:12.926142Z"
    },
    "hidden": true
   },
   "outputs": [],
   "source": [
    "len(station.lakeshore_372.channels)"
   ]
  },
  {
   "cell_type": "code",
   "execution_count": null,
   "metadata": {
    "ExecuteTime": {
     "end_time": "2019-02-27T11:00:13.520301Z",
     "start_time": "2019-02-27T11:00:13.516298Z"
    },
    "hidden": true
   },
   "outputs": [],
   "source": [
    "list(range(1,10))"
   ]
  },
  {
   "cell_type": "code",
   "execution_count": null,
   "metadata": {
    "ExecuteTime": {
     "end_time": "2019-02-27T11:00:17.451074Z",
     "start_time": "2019-02-27T11:00:17.277001Z"
    },
    "hidden": true
   },
   "outputs": [],
   "source": [
    "[('ch'+str(i+1)+'_temp', station.lakeshore_372.channels[i].temperature()) for i in range(16)]"
   ]
  },
  {
   "cell_type": "code",
   "execution_count": null,
   "metadata": {
    "ExecuteTime": {
     "end_time": "2019-02-27T19:20:39.897814Z",
     "start_time": "2019-02-27T17:06:14.834806Z"
    },
    "hidden": true
   },
   "outputs": [],
   "source": [
    "vec_name = 'y'\n",
    "vec_param = station.AMI430.y\n",
    "Bn = f'B{vec_name}'\n",
    "\n",
    "exp = select_experiment('magnet_test_' + vec_name, SAMPLE)\n",
    "meas = Measurement(exp, station)\n",
    "\n",
    "meas.register_custom_parameter('time', unit='s')\n",
    "meas.register_custom_parameter(Bn, unit='T', setpoints=['time'])\n",
    "\n",
    "t_chans = [0, 1, 2, 4, 5]\n",
    "\n",
    "for i in t_chans:\n",
    "    meas.register_custom_parameter('ch'+str(i+1)+'_temp', unit='K', setpoints=['time'])\n",
    "\n",
    "with meas.run() as datasaver:\n",
    "    for Bval in np.linspace(0, 0.5, 51):\n",
    "        vec_param(Bval)\n",
    "        result = [\n",
    "            (Bn, Bval),\n",
    "            ('time', time.time())\n",
    "        ]\n",
    "        result += [('ch'+str(i+1)+'_temp', station.lakeshore_372.channels[i].temperature()) for i in t_chans]\n",
    "        datasaver.add_result(*result)\n",
    "    \n",
    "    for i in range(900):\n",
    "        result = [\n",
    "            (Bn, Bval),\n",
    "            ('time', time.time())\n",
    "        ]\n",
    "        result += [('ch'+str(i+1)+'_temp', station.lakeshore_372.channels[i].temperature()) for i in t_chans]\n",
    "        datasaver.add_result(*result)\n",
    "        time.sleep(1)\n",
    "        \n",
    "    for Bval in np.linspace(0.5, -0.5, 101):\n",
    "        vec_param(Bval)\n",
    "        result = [\n",
    "            (Bn, Bval),\n",
    "            ('time', time.time())\n",
    "        ]\n",
    "        result += [('ch'+str(i+1)+'_temp', station.lakeshore_372.channels[i].temperature()) for i in t_chans]\n",
    "        datasaver.add_result(*result)\n",
    "        \n",
    "    for i in range(900):\n",
    "        result = [\n",
    "            (Bn, Bval),\n",
    "            ('time', time.time())\n",
    "        ]\n",
    "        result += [('ch'+str(i+1)+'_temp', station.lakeshore_372.channels[i].temperature()) for i in t_chans]\n",
    "        datasaver.add_result(*result)\n",
    "        time.sleep(1)\n",
    "        \n",
    "    for Bval in np.linspace(-0.5, 0, 51):\n",
    "        vec_param(Bval)\n",
    "        result = [\n",
    "            (Bn, Bval),\n",
    "            ('time', time.time())\n",
    "        ]\n",
    "        result += [('ch'+str(i+1)+'_temp', station.lakeshore_372.channels[i].temperature()) for i in t_chans]\n",
    "        datasaver.add_result(*result)\n",
    "        \n",
    "    for i in range(900):\n",
    "        result = [\n",
    "            (Bn, Bval),\n",
    "            ('time', time.time())\n",
    "        ]\n",
    "        result += [('ch'+str(i+1)+'_temp', station.lakeshore_372.channels[i].temperature()) for i in t_chans]\n",
    "        datasaver.add_result(*result)\n",
    "        time.sleep(1)"
   ]
  },
  {
   "cell_type": "code",
   "execution_count": null,
   "metadata": {
    "ExecuteTime": {
     "end_time": "2019-02-20T16:32:45.856919Z",
     "start_time": "2019-02-20T16:21:42.625705Z"
    },
    "deletable": false,
    "editable": false,
    "hidden": true,
    "run_control": {
     "frozen": true
    }
   },
   "outputs": [],
   "source": [
    "exp = select_experiment('HODL', SAMPLE)\n",
    "meas = Measurement(exp, station)\n",
    "\n",
    "\n",
    "meas.register_custom_parameter('time', unit='s')\n",
    "for i in range(16):\n",
    "    meas.register_custom_parameter('ch'+str(i+1)+'_temp', unit='K', setpoints=['time'])\n",
    "\n",
    "with meas.run() as datasaver:\n",
    "    for i in range(300):\n",
    "        result = [\n",
    "            ('time', time.time())\n",
    "        ]\n",
    "        result += [('ch'+str(i+1)+'_temp', station.lakeshore_372.channels[i].temperature()) for i in range(16)]\n",
    "        datasaver.add_result(*result)\n",
    "        time.sleep(2)"
   ]
  },
  {
   "cell_type": "code",
   "execution_count": null,
   "metadata": {
    "hidden": true
   },
   "outputs": [],
   "source": []
  }
 ],
 "metadata": {
  "kernelspec": {
   "display_name": "Python 3",
   "language": "python",
   "name": "python3"
  },
  "language_info": {
   "codemirror_mode": {
    "name": "ipython",
    "version": 3
   },
   "file_extension": ".py",
   "mimetype": "text/x-python",
   "name": "python",
   "nbconvert_exporter": "python",
   "pygments_lexer": "ipython3",
   "version": "3.6.4"
  },
  "toc": {
   "base_numbering": 1,
   "nav_menu": {},
   "number_sections": true,
   "sideBar": true,
   "skip_h1_title": false,
   "title_cell": "Table of Contents",
   "title_sidebar": "Contents",
   "toc_cell": false,
   "toc_position": {
    "height": "calc(100% - 180px)",
    "left": "10px",
    "top": "150px",
    "width": "253px"
   },
   "toc_section_display": true,
   "toc_window_display": true
  }
 },
 "nbformat": 4,
 "nbformat_minor": 2
}
