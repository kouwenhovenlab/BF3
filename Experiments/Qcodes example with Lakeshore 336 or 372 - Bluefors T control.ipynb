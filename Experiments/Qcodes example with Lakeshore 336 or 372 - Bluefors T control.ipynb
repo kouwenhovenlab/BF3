{
 "cells": [
  {
   "cell_type": "markdown",
   "metadata": {},
   "source": [
    "# Example usage of the Lakeshore Model 372 to control the temperature of the Bluefors fridge\n",
    "\n",
    "The Lakeshore Temperature Controller Model 372 is used to control the temperature of the Bluefors fridges.\n",
    "\n",
    "To use it as such outside of the control software provided by Bluefors, one has to establish an addtional connection. Within the Bluefors system, the Lakeshore is connected via its usb port (through a USB hub along with the other devices) to the control Laptop (as part of the Bluefors setup). To control the temperature of the fridge via QCoDeS, it is the most convenient to connect the Lakeshore via its LAN port to the control computer (the one with QCoDeS, not the one from Bluefors). In order to reach the LAN port of the Lakeshore, the Bluefors rack has to be opened, and the PCB board that is fixed to the metal board has to be opened as well (it's a door as well with magnetic clips on one side). Do NOT disconnect the USB! Then switch the operation mode (usually there is an Interface button on the instrument) from USB to LAN. When using a router, remember to set the IP address setting to DHCP. Finally, use the following address format for VISA address: `\"TCPIP::<ip address>::<port>::SOCKET\"`, where \"port\" is a known value from the manual (most probably, \"7777\").\n",
    "\n",
    "As mentioned above, for using the Lakeshore with QCoDeS, the operation mode has to be switched from USB to LAN. When done with the measurements, please, switch back to USB, so that the logging of the Temperature provided by the Bluefors software continues. It is planned to implement a server that takes care of the logging, so that the switching to USB will no longer be necessary. For the time being, please, always remember to switch back!"
   ]
  },
  {
   "cell_type": "markdown",
   "metadata": {},
   "source": [
    "## Driver Setup\n",
    "\n",
    "This notebook is using a simulated version of the driver, so that it can be run and played with, without an actual instrument. When trying it out with a real Lakeshore, please set `simulation = False`."
   ]
  },
  {
   "cell_type": "code",
   "execution_count": 2,
   "metadata": {},
   "outputs": [],
   "source": [
    "simulation = False"
   ]
  },
  {
   "cell_type": "code",
   "execution_count": 3,
   "metadata": {},
   "outputs": [
    {
     "name": "stdout",
     "output_type": "stream",
     "text": [
      "Connected to: LSCI 372 (serial:LSA21E7, firmware:1.3) in 0.20s\n"
     ]
    }
   ],
   "source": [
    "if simulation:\n",
    "    from qcodes.tests.drivers.test_lakeshore import Model_372_Mock as Model_372\n",
    "    import qcodes.instrument.sims as sims\n",
    "    visalib = sims.__file__.replace('__init__.py',\n",
    "                                    'lakeshore_model372.yaml@sim')\n",
    "    ls = Model_372('lakeshore_372', 'GPIB::3::65535::INSTR',\n",
    "                    visalib=visalib, device_clear=False)\n",
    "else:\n",
    "    from qcodes.instrument_drivers.Lakeshore.Model_372 import Model_372\n",
    "    #                               put visa address here, see e.g. NI Max\n",
    "    #                               or look up the IP address on \n",
    "    #                               the instrument itself\n",
    "    ls = Model_372('lakeshore_372', 'TCPIP::192.168.0.160::7777::SOCKET')"
   ]
  },
  {
   "cell_type": "markdown",
   "metadata": {},
   "source": [
    "## Readout Sensor Channels\n",
    "\n",
    "The lakeshore has two types of *channels*: *Readout channels* and *heaters*. For reading the temperature we use the readout channels. There are sixteen channels, each of which has the following parameters:"
   ]
  },
  {
   "cell_type": "code",
   "execution_count": 4,
   "metadata": {},
   "outputs": [
    {
     "data": {
      "text/plain": [
       "{'auto_range': <qcodes.instrument.group_parameter.GroupParameter: auto_range at 2243972997808>,\n",
       " 'current_source_shunted': <qcodes.instrument.group_parameter.GroupParameter: current_source_shunted at 2243972998368>,\n",
       " 'curve_number': <qcodes.instrument.group_parameter.GroupParameter: curve_number at 2243972850856>,\n",
       " 'dwell': <qcodes.instrument.group_parameter.GroupParameter: dwell at 2243972852928>,\n",
       " 'enabled': <qcodes.instrument.group_parameter.GroupParameter: enabled at 2243972852760>,\n",
       " 'excitation_mode': <qcodes.instrument.group_parameter.GroupParameter: excitation_mode at 2243972997360>,\n",
       " 'excitation_range_number': <qcodes.instrument.group_parameter.GroupParameter: excitation_range_number at 2243972997696>,\n",
       " 'pause': <qcodes.instrument.group_parameter.GroupParameter: pause at 2243972853208>,\n",
       " 'range': <qcodes.instrument.group_parameter.GroupParameter: range at 2243972998088>,\n",
       " 'sensor_name': <qcodes.instrument.parameter.Parameter: sensor_name at 2243972852312>,\n",
       " 'sensor_raw': <qcodes.instrument.parameter.Parameter: sensor_raw at 2243972851864>,\n",
       " 'sensor_status': <qcodes.instrument.parameter.Parameter: sensor_status at 2243972852256>,\n",
       " 't_limit': <qcodes.instrument.parameter.Parameter: t_limit at 2243972851808>,\n",
       " 'temperature': <qcodes.instrument.parameter.Parameter: temperature at 2243972851640>,\n",
       " 'temperature_coefficient': <qcodes.instrument.group_parameter.GroupParameter: temperature_coefficient at 2243972853488>,\n",
       " 'units': <qcodes.instrument.group_parameter.GroupParameter: units at 2243972998648>}"
      ]
     },
     "execution_count": 4,
     "metadata": {},
     "output_type": "execute_result"
    }
   ],
   "source": [
    "ls.ch01.parameters"
   ]
  },
  {
   "cell_type": "markdown",
   "metadata": {},
   "source": [
    "All the parameters have docstrings, labels, and units, when applicable.\n",
    "\n",
    "Some of these parameters have been added just because other interesting parameters can only be set together with these (Lakeshore uses VISA commands with multiple inputs/outputs).\n",
    "\n",
    "Some parameters like `curve_number` should not be changed, unless the user knows what he's doing."
   ]
  },
  {
   "cell_type": "markdown",
   "metadata": {},
   "source": [
    "In order to read temperature values from all the sensors, we can do the following:"
   ]
  },
  {
   "cell_type": "code",
   "execution_count": 22,
   "metadata": {},
   "outputs": [
    {
     "name": "stdout",
     "output_type": "stream",
     "text": [
      "Temperature of ch01 (off): 38.1549 kelvin\n",
      "Temperature of ch02 (off): 2.72274 kelvin\n",
      "Temperature of ch03 (off): 3.67145 kelvin\n",
      "Temperature of ch04 (off): 0.0 kelvin\n",
      "Temperature of ch05 (off): 0.816971 kelvin\n",
      "Temperature of ch06 (off): 0.0 kelvin\n",
      "Temperature of ch07 (off): 0.0 kelvin\n",
      "Temperature of ch08 (off): 0.0 kelvin\n",
      "Temperature of ch09 (on): 0.0137187 kelvin\n",
      "Temperature of ch10 (off): 0.0 kelvin\n",
      "Temperature of ch11 (off): 0.0 kelvin\n",
      "Temperature of ch12 (off): 0.0 kelvin\n",
      "Temperature of ch13 (off): 0.0 kelvin\n",
      "Temperature of ch14 (off): 0.0 kelvin\n",
      "Temperature of ch15 (off): 0.0 kelvin\n",
      "Temperature of ch16 (off): 0.0 kelvin\n"
     ]
    }
   ],
   "source": [
    "for ch in ls.channels:\n",
    "    print(f'Temperature of {ch.short_name} ({\"on\" if ch.enabled() else \"off\"}): {ch.temperature()} {ch.units()}')"
   ]
  },
  {
   "cell_type": "markdown",
   "metadata": {},
   "source": [
    "The `enabled` parameter of the sensor channel is very important because Lakeshore gets readings from the enabled channels in sequence. This means that if you have 3 channels enabled, while you are contantly requesting the temperature reading from only the first one, the array of readings will have parts when the value is constant. This is because within those parts Lakeshore was busy with reading temperature from the other two channels.\n",
    "\n",
    "The `units` parameter is also of big importance. As it will be explained below, it defines the units from the `setpoint` value of the heater that is used in a `closed_loop` mode."
   ]
  },
  {
   "cell_type": "markdown",
   "metadata": {},
   "source": [
    "## Heating and feedback loop\n",
    "\n",
    "To set a certain temperature one needs to start a feedback loop that reads the temperature from a sensor channel, and feeds it back to the sample through a heater. The Lakeshore 372 has three heaters: `sample_heater`, `warmup_heater`, and `analog_heater`.\n",
    "\n",
    "Here the `sample_heater` will be used. It has the following parameters:"
   ]
  },
  {
   "cell_type": "code",
   "execution_count": 6,
   "metadata": {},
   "outputs": [
    {
     "data": {
      "text/plain": [
       "{'D': <qcodes.instrument.group_parameter.GroupParameter: D at 2243981545656>,\n",
       " 'I': <qcodes.instrument.group_parameter.GroupParameter: I at 2243981475680>,\n",
       " 'P': <qcodes.instrument.group_parameter.GroupParameter: P at 2243981475400>,\n",
       " 'blocking_t': <qcodes.instrument.parameter.Parameter: blocking_t at 2243981547672>,\n",
       " 'delay': <qcodes.instrument.group_parameter.GroupParameter: delay at 2243981548400>,\n",
       " 'input_channel': <qcodes.instrument.group_parameter.GroupParameter: input_channel at 2243981474672>,\n",
       " 'mode': <qcodes.instrument.group_parameter.GroupParameter: mode at 2243981474504>,\n",
       " 'output_range': <qcodes.instrument.parameter.Parameter: output_range at 2243981545992>,\n",
       " 'polarity': <qcodes.instrument.group_parameter.GroupParameter: polarity at 2243981547784>,\n",
       " 'powerup_enable': <qcodes.instrument.group_parameter.GroupParameter: powerup_enable at 2243981474896>,\n",
       " 'range_limits': <qcodes.instrument.parameter.Parameter: range_limits at 2243981546776>,\n",
       " 'setpoint': <qcodes.instrument.parameter.Parameter: setpoint at 2243981546216>,\n",
       " 'use_filter': <qcodes.instrument.group_parameter.GroupParameter: use_filter at 2243981548008>,\n",
       " 'wait_cycle_time': <qcodes.instrument.parameter.Parameter: wait_cycle_time at 2243981546832>,\n",
       " 'wait_equilibration_time': <qcodes.instrument.parameter.Parameter: wait_equilibration_time at 2243981547448>,\n",
       " 'wait_tolerance': <qcodes.instrument.parameter.Parameter: wait_tolerance at 2243981547224>}"
      ]
     },
     "execution_count": 6,
     "metadata": {},
     "output_type": "execute_result"
    }
   ],
   "source": [
    "h = ls.sample_heater\n",
    "h.parameters"
   ]
  },
  {
   "cell_type": "markdown",
   "metadata": {},
   "source": [
    "The allowed modes, polarities, and ranges are defined in:"
   ]
  },
  {
   "cell_type": "code",
   "execution_count": 7,
   "metadata": {},
   "outputs": [
    {
     "data": {
      "text/plain": [
       "{'closed_loop': 5,\n",
       " 'monitor_out': 1,\n",
       " 'off': 0,\n",
       " 'open_loop': 2,\n",
       " 'still': 4,\n",
       " 'warm_up': 6,\n",
       " 'zone': 3}"
      ]
     },
     "execution_count": 7,
     "metadata": {},
     "output_type": "execute_result"
    }
   ],
   "source": [
    "h.MODES"
   ]
  },
  {
   "cell_type": "code",
   "execution_count": 8,
   "metadata": {},
   "outputs": [
    {
     "data": {
      "text/plain": [
       "{'100mA': 8,\n",
       " '100μA': 2,\n",
       " '10mA': 6,\n",
       " '1mA': 4,\n",
       " '3.16mA': 5,\n",
       " '31.6mA': 7,\n",
       " '31.6μA': 1,\n",
       " '316μA': 3,\n",
       " 'off': 0}"
      ]
     },
     "execution_count": 8,
     "metadata": {},
     "output_type": "execute_result"
    }
   ],
   "source": [
    "h.RANGES"
   ]
  },
  {
   "cell_type": "code",
   "execution_count": 9,
   "metadata": {},
   "outputs": [
    {
     "data": {
      "text/plain": [
       "{'bipolar': 1, 'unipolar': 0}"
      ]
     },
     "execution_count": 9,
     "metadata": {},
     "output_type": "execute_result"
    }
   ],
   "source": [
    "h.POLARITIES"
   ]
  },
  {
   "cell_type": "markdown",
   "metadata": {},
   "source": [
    "### Working with closed loop control"
   ]
  },
  {
   "cell_type": "markdown",
   "metadata": {},
   "source": [
    "To use a closed loop control, we need to set the `P`, `I`, `D` values, choose an `input_channel` that will be read within the closed loop, set the range of the heater (`output_range`), set the `setpoint` value (e.g. the target temperature), and start the operation by setting `mode` to `closed_loop`."
   ]
  },
  {
   "cell_type": "code",
   "execution_count": 28,
   "metadata": {},
   "outputs": [],
   "source": [
    "h.P(1)\n",
    "h.I(2)\n",
    "h.D(2)\n",
    "h.output_range('1mA')\n",
    "h.input_channel(9)"
   ]
  },
  {
   "cell_type": "code",
   "execution_count": 29,
   "metadata": {},
   "outputs": [],
   "source": [
    "h.setpoint(0.025)\n",
    "h.mode('closed_loop')"
   ]
  },
  {
   "cell_type": "markdown",
   "metadata": {},
   "source": [
    "#### Units of the setpoint"
   ]
  },
  {
   "cell_type": "markdown",
   "metadata": {},
   "source": [
    "Be careful when setting the value of the `setpoint` - Lakeshore uses \"preferred units\" for it which are determined by the `units` parameter of the chosen `input_channel`. Thanks to that, Lakeshore 372 supports setting `setpoint` in `ohms` and `kelvins`."
   ]
  },
  {
   "cell_type": "code",
   "execution_count": 30,
   "metadata": {},
   "outputs": [
    {
     "data": {
      "text/plain": [
       "'kelvin'"
      ]
     },
     "execution_count": 30,
     "metadata": {},
     "output_type": "execute_result"
    }
   ],
   "source": [
    "ls.ch09.units()"
   ]
  },
  {
   "cell_type": "code",
   "execution_count": 31,
   "metadata": {},
   "outputs": [
    {
     "name": "stdout",
     "output_type": "stream",
     "text": [
      "The value of the setpoint in the preferred units of the control loop sensor (which is set via `input_channel` parameter)\r\n",
      "\r\n",
      "Parameter class:\r\n",
      "\r\n",
      "* `name` setpoint\r\n",
      "* `label` Setpoint value (in sensor units)\r\n",
      "* `unit` \r\n",
      "* `vals` <Numbers 0<=v<=400>\n"
     ]
    }
   ],
   "source": [
    "print(h.setpoint.__doc__)  # when working in Jupyter, just use `h.setpoint?` syntax"
   ]
  },
  {
   "cell_type": "markdown",
   "metadata": {},
   "source": [
    "#### Disable unrelated channels for continuos readings"
   ]
  },
  {
   "cell_type": "markdown",
   "metadata": {},
   "source": [
    "Note that in order to have Lakeshore constantly reading from the `input_channel`, you need to disable other channels. Otherwise, Lakeshore will be reading all the enabled channels one by one, which will slow down the convergence of the control loop."
   ]
  },
  {
   "cell_type": "code",
   "execution_count": 16,
   "metadata": {},
   "outputs": [],
   "source": [
    "ls.ch03.enabled(False)"
   ]
  },
  {
   "cell_type": "markdown",
   "metadata": {},
   "source": [
    "#### Observe control loop working"
   ]
  },
  {
   "cell_type": "markdown",
   "metadata": {},
   "source": [
    "Now we can observe how the temperature gets steered towards the setpoint (This is not implemented in the simulated instrument)"
   ]
  },
  {
   "cell_type": "code",
   "execution_count": 42,
   "metadata": {},
   "outputs": [
    {
     "name": "stdout",
     "output_type": "stream",
     "text": [
      "T = 0.0262632\n",
      "T = 0.0261551\n",
      "T = 0.0260708\n",
      "T = 0.0260076\n",
      "T = 0.0259394\n",
      "T = 0.0258739\n",
      "T = 0.0257804\n",
      "T = 0.0256941\n",
      "T = 0.025619\n",
      "T = 0.0255518\n",
      "T = 0.0254828\n",
      "T = 0.0254278\n",
      "T = 0.0253904\n",
      "T = 0.0253381\n",
      "T = 0.0252681\n",
      "T = 0.0252402\n",
      "T = 0.0252381\n",
      "T = 0.025216\n",
      "T = 0.0251675\n",
      "T = 0.0250843\n"
     ]
    }
   ],
   "source": [
    "import time\n",
    "for i in range(20):\n",
    "    time.sleep(1)\n",
    "    print(f'T = {ls.ch09.temperature()}')"
   ]
  },
  {
   "cell_type": "markdown",
   "metadata": {},
   "source": [
    "Textual representation is not very convenient, hence let's do the same but now with plotting (This is not implemented in the simulated instrument):"
   ]
  },
  {
   "cell_type": "code",
   "execution_count": 43,
   "metadata": {},
   "outputs": [],
   "source": [
    "%matplotlib notebook\n",
    "\n",
    "import time\n",
    "import numpy\n",
    "from IPython.display import display\n",
    "from ipywidgets import interact, widgets\n",
    "from matplotlib import pyplot as plt\n",
    "\n",
    "def live_plot_temperature_reading(channel_to_read, read_period=0.2, n_reads=1000):\n",
    "    \"\"\"\n",
    "    Live plot the temperature reading from a Lakeshore sensor channel\n",
    "    \n",
    "    Args:\n",
    "        channel_to_read\n",
    "            Lakeshore channel object to read the temperature from\n",
    "        read_period\n",
    "            time in seconds between two reads of the temperature\n",
    "        n_reads\n",
    "            total number of reads to perform\n",
    "    \"\"\"\n",
    "\n",
    "    # Make a widget for a text display that is contantly being updated\n",
    "    text = widgets.Text()\n",
    "    display(text)\n",
    "\n",
    "    fig, ax = plt.subplots(1)\n",
    "    line, = ax.plot([], [], '*-')\n",
    "    ax.set_xlabel('Time, s')\n",
    "    ax.set_ylabel(f'Temperature, {channel_to_read.units()}')\n",
    "    fig.show()\n",
    "    plt.ion()\n",
    "\n",
    "    for i in range(n_reads):\n",
    "        time.sleep(read_period)\n",
    "\n",
    "        # Update the text field\n",
    "        text.value = f'T = {channel_to_read.temperature()}'\n",
    "\n",
    "        # Add new point to the data that is being plotted\n",
    "        line.set_ydata(numpy.append(line.get_ydata(), channel_to_read.temperature()))\n",
    "        line.set_xdata(numpy.arange(0, len(line.get_ydata()), 1)*read_period)\n",
    "\n",
    "        ax.relim()  # Recalculate limits\n",
    "        ax.autoscale_view(True, True, True)  # Autoscale\n",
    "        fig.canvas.draw()  # Redraw"
   ]
  },
  {
   "cell_type": "code",
   "execution_count": 47,
   "metadata": {
    "scrolled": false
   },
   "outputs": [
    {
     "data": {
      "application/vnd.jupyter.widget-view+json": {
       "model_id": "c25a74fb402d4315906c6a7eea646f29",
       "version_major": 2,
       "version_minor": 0
      },
      "text/html": [
       "<p>Failed to display Jupyter Widget of type <code>Text</code>.</p>\n",
       "<p>\n",
       "  If you're reading this message in the Jupyter Notebook or JupyterLab Notebook, it may mean\n",
       "  that the widgets JavaScript is still loading. If this message persists, it\n",
       "  likely means that the widgets JavaScript library is either not installed or\n",
       "  not enabled. See the <a href=\"https://ipywidgets.readthedocs.io/en/stable/user_install.html\">Jupyter\n",
       "  Widgets Documentation</a> for setup instructions.\n",
       "</p>\n",
       "<p>\n",
       "  If you're reading this message in another frontend (for example, a static\n",
       "  rendering on GitHub or <a href=\"https://nbviewer.jupyter.org/\">NBViewer</a>),\n",
       "  it may mean that your frontend doesn't currently support widgets.\n",
       "</p>\n"
      ],
      "text/plain": [
       "Text(value='')"
      ]
     },
     "metadata": {},
     "output_type": "display_data"
    },
    {
     "data": {
      "application/javascript": [
       "/* Put everything inside the global mpl namespace */\n",
       "window.mpl = {};\n",
       "\n",
       "\n",
       "mpl.get_websocket_type = function() {\n",
       "    if (typeof(WebSocket) !== 'undefined') {\n",
       "        return WebSocket;\n",
       "    } else if (typeof(MozWebSocket) !== 'undefined') {\n",
       "        return MozWebSocket;\n",
       "    } else {\n",
       "        alert('Your browser does not have WebSocket support.' +\n",
       "              'Please try Chrome, Safari or Firefox ≥ 6. ' +\n",
       "              'Firefox 4 and 5 are also supported but you ' +\n",
       "              'have to enable WebSockets in about:config.');\n",
       "    };\n",
       "}\n",
       "\n",
       "mpl.figure = function(figure_id, websocket, ondownload, parent_element) {\n",
       "    this.id = figure_id;\n",
       "\n",
       "    this.ws = websocket;\n",
       "\n",
       "    this.supports_binary = (this.ws.binaryType != undefined);\n",
       "\n",
       "    if (!this.supports_binary) {\n",
       "        var warnings = document.getElementById(\"mpl-warnings\");\n",
       "        if (warnings) {\n",
       "            warnings.style.display = 'block';\n",
       "            warnings.textContent = (\n",
       "                \"This browser does not support binary websocket messages. \" +\n",
       "                    \"Performance may be slow.\");\n",
       "        }\n",
       "    }\n",
       "\n",
       "    this.imageObj = new Image();\n",
       "\n",
       "    this.context = undefined;\n",
       "    this.message = undefined;\n",
       "    this.canvas = undefined;\n",
       "    this.rubberband_canvas = undefined;\n",
       "    this.rubberband_context = undefined;\n",
       "    this.format_dropdown = undefined;\n",
       "\n",
       "    this.image_mode = 'full';\n",
       "\n",
       "    this.root = $('<div/>');\n",
       "    this._root_extra_style(this.root)\n",
       "    this.root.attr('style', 'display: inline-block');\n",
       "\n",
       "    $(parent_element).append(this.root);\n",
       "\n",
       "    this._init_header(this);\n",
       "    this._init_canvas(this);\n",
       "    this._init_toolbar(this);\n",
       "\n",
       "    var fig = this;\n",
       "\n",
       "    this.waiting = false;\n",
       "\n",
       "    this.ws.onopen =  function () {\n",
       "            fig.send_message(\"supports_binary\", {value: fig.supports_binary});\n",
       "            fig.send_message(\"send_image_mode\", {});\n",
       "            if (mpl.ratio != 1) {\n",
       "                fig.send_message(\"set_dpi_ratio\", {'dpi_ratio': mpl.ratio});\n",
       "            }\n",
       "            fig.send_message(\"refresh\", {});\n",
       "        }\n",
       "\n",
       "    this.imageObj.onload = function() {\n",
       "            if (fig.image_mode == 'full') {\n",
       "                // Full images could contain transparency (where diff images\n",
       "                // almost always do), so we need to clear the canvas so that\n",
       "                // there is no ghosting.\n",
       "                fig.context.clearRect(0, 0, fig.canvas.width, fig.canvas.height);\n",
       "            }\n",
       "            fig.context.drawImage(fig.imageObj, 0, 0);\n",
       "        };\n",
       "\n",
       "    this.imageObj.onunload = function() {\n",
       "        fig.ws.close();\n",
       "    }\n",
       "\n",
       "    this.ws.onmessage = this._make_on_message_function(this);\n",
       "\n",
       "    this.ondownload = ondownload;\n",
       "}\n",
       "\n",
       "mpl.figure.prototype._init_header = function() {\n",
       "    var titlebar = $(\n",
       "        '<div class=\"ui-dialog-titlebar ui-widget-header ui-corner-all ' +\n",
       "        'ui-helper-clearfix\"/>');\n",
       "    var titletext = $(\n",
       "        '<div class=\"ui-dialog-title\" style=\"width: 100%; ' +\n",
       "        'text-align: center; padding: 3px;\"/>');\n",
       "    titlebar.append(titletext)\n",
       "    this.root.append(titlebar);\n",
       "    this.header = titletext[0];\n",
       "}\n",
       "\n",
       "\n",
       "\n",
       "mpl.figure.prototype._canvas_extra_style = function(canvas_div) {\n",
       "\n",
       "}\n",
       "\n",
       "\n",
       "mpl.figure.prototype._root_extra_style = function(canvas_div) {\n",
       "\n",
       "}\n",
       "\n",
       "mpl.figure.prototype._init_canvas = function() {\n",
       "    var fig = this;\n",
       "\n",
       "    var canvas_div = $('<div/>');\n",
       "\n",
       "    canvas_div.attr('style', 'position: relative; clear: both; outline: 0');\n",
       "\n",
       "    function canvas_keyboard_event(event) {\n",
       "        return fig.key_event(event, event['data']);\n",
       "    }\n",
       "\n",
       "    canvas_div.keydown('key_press', canvas_keyboard_event);\n",
       "    canvas_div.keyup('key_release', canvas_keyboard_event);\n",
       "    this.canvas_div = canvas_div\n",
       "    this._canvas_extra_style(canvas_div)\n",
       "    this.root.append(canvas_div);\n",
       "\n",
       "    var canvas = $('<canvas/>');\n",
       "    canvas.addClass('mpl-canvas');\n",
       "    canvas.attr('style', \"left: 0; top: 0; z-index: 0; outline: 0\")\n",
       "\n",
       "    this.canvas = canvas[0];\n",
       "    this.context = canvas[0].getContext(\"2d\");\n",
       "\n",
       "    var backingStore = this.context.backingStorePixelRatio ||\n",
       "\tthis.context.webkitBackingStorePixelRatio ||\n",
       "\tthis.context.mozBackingStorePixelRatio ||\n",
       "\tthis.context.msBackingStorePixelRatio ||\n",
       "\tthis.context.oBackingStorePixelRatio ||\n",
       "\tthis.context.backingStorePixelRatio || 1;\n",
       "\n",
       "    mpl.ratio = (window.devicePixelRatio || 1) / backingStore;\n",
       "\n",
       "    var rubberband = $('<canvas/>');\n",
       "    rubberband.attr('style', \"position: absolute; left: 0; top: 0; z-index: 1;\")\n",
       "\n",
       "    var pass_mouse_events = true;\n",
       "\n",
       "    canvas_div.resizable({\n",
       "        start: function(event, ui) {\n",
       "            pass_mouse_events = false;\n",
       "        },\n",
       "        resize: function(event, ui) {\n",
       "            fig.request_resize(ui.size.width, ui.size.height);\n",
       "        },\n",
       "        stop: function(event, ui) {\n",
       "            pass_mouse_events = true;\n",
       "            fig.request_resize(ui.size.width, ui.size.height);\n",
       "        },\n",
       "    });\n",
       "\n",
       "    function mouse_event_fn(event) {\n",
       "        if (pass_mouse_events)\n",
       "            return fig.mouse_event(event, event['data']);\n",
       "    }\n",
       "\n",
       "    rubberband.mousedown('button_press', mouse_event_fn);\n",
       "    rubberband.mouseup('button_release', mouse_event_fn);\n",
       "    // Throttle sequential mouse events to 1 every 20ms.\n",
       "    rubberband.mousemove('motion_notify', mouse_event_fn);\n",
       "\n",
       "    rubberband.mouseenter('figure_enter', mouse_event_fn);\n",
       "    rubberband.mouseleave('figure_leave', mouse_event_fn);\n",
       "\n",
       "    canvas_div.on(\"wheel\", function (event) {\n",
       "        event = event.originalEvent;\n",
       "        event['data'] = 'scroll'\n",
       "        if (event.deltaY < 0) {\n",
       "            event.step = 1;\n",
       "        } else {\n",
       "            event.step = -1;\n",
       "        }\n",
       "        mouse_event_fn(event);\n",
       "    });\n",
       "\n",
       "    canvas_div.append(canvas);\n",
       "    canvas_div.append(rubberband);\n",
       "\n",
       "    this.rubberband = rubberband;\n",
       "    this.rubberband_canvas = rubberband[0];\n",
       "    this.rubberband_context = rubberband[0].getContext(\"2d\");\n",
       "    this.rubberband_context.strokeStyle = \"#000000\";\n",
       "\n",
       "    this._resize_canvas = function(width, height) {\n",
       "        // Keep the size of the canvas, canvas container, and rubber band\n",
       "        // canvas in synch.\n",
       "        canvas_div.css('width', width)\n",
       "        canvas_div.css('height', height)\n",
       "\n",
       "        canvas.attr('width', width * mpl.ratio);\n",
       "        canvas.attr('height', height * mpl.ratio);\n",
       "        canvas.attr('style', 'width: ' + width + 'px; height: ' + height + 'px;');\n",
       "\n",
       "        rubberband.attr('width', width);\n",
       "        rubberband.attr('height', height);\n",
       "    }\n",
       "\n",
       "    // Set the figure to an initial 600x600px, this will subsequently be updated\n",
       "    // upon first draw.\n",
       "    this._resize_canvas(600, 600);\n",
       "\n",
       "    // Disable right mouse context menu.\n",
       "    $(this.rubberband_canvas).bind(\"contextmenu\",function(e){\n",
       "        return false;\n",
       "    });\n",
       "\n",
       "    function set_focus () {\n",
       "        canvas.focus();\n",
       "        canvas_div.focus();\n",
       "    }\n",
       "\n",
       "    window.setTimeout(set_focus, 100);\n",
       "}\n",
       "\n",
       "mpl.figure.prototype._init_toolbar = function() {\n",
       "    var fig = this;\n",
       "\n",
       "    var nav_element = $('<div/>')\n",
       "    nav_element.attr('style', 'width: 100%');\n",
       "    this.root.append(nav_element);\n",
       "\n",
       "    // Define a callback function for later on.\n",
       "    function toolbar_event(event) {\n",
       "        return fig.toolbar_button_onclick(event['data']);\n",
       "    }\n",
       "    function toolbar_mouse_event(event) {\n",
       "        return fig.toolbar_button_onmouseover(event['data']);\n",
       "    }\n",
       "\n",
       "    for(var toolbar_ind in mpl.toolbar_items) {\n",
       "        var name = mpl.toolbar_items[toolbar_ind][0];\n",
       "        var tooltip = mpl.toolbar_items[toolbar_ind][1];\n",
       "        var image = mpl.toolbar_items[toolbar_ind][2];\n",
       "        var method_name = mpl.toolbar_items[toolbar_ind][3];\n",
       "\n",
       "        if (!name) {\n",
       "            // put a spacer in here.\n",
       "            continue;\n",
       "        }\n",
       "        var button = $('<button/>');\n",
       "        button.addClass('ui-button ui-widget ui-state-default ui-corner-all ' +\n",
       "                        'ui-button-icon-only');\n",
       "        button.attr('role', 'button');\n",
       "        button.attr('aria-disabled', 'false');\n",
       "        button.click(method_name, toolbar_event);\n",
       "        button.mouseover(tooltip, toolbar_mouse_event);\n",
       "\n",
       "        var icon_img = $('<span/>');\n",
       "        icon_img.addClass('ui-button-icon-primary ui-icon');\n",
       "        icon_img.addClass(image);\n",
       "        icon_img.addClass('ui-corner-all');\n",
       "\n",
       "        var tooltip_span = $('<span/>');\n",
       "        tooltip_span.addClass('ui-button-text');\n",
       "        tooltip_span.html(tooltip);\n",
       "\n",
       "        button.append(icon_img);\n",
       "        button.append(tooltip_span);\n",
       "\n",
       "        nav_element.append(button);\n",
       "    }\n",
       "\n",
       "    var fmt_picker_span = $('<span/>');\n",
       "\n",
       "    var fmt_picker = $('<select/>');\n",
       "    fmt_picker.addClass('mpl-toolbar-option ui-widget ui-widget-content');\n",
       "    fmt_picker_span.append(fmt_picker);\n",
       "    nav_element.append(fmt_picker_span);\n",
       "    this.format_dropdown = fmt_picker[0];\n",
       "\n",
       "    for (var ind in mpl.extensions) {\n",
       "        var fmt = mpl.extensions[ind];\n",
       "        var option = $(\n",
       "            '<option/>', {selected: fmt === mpl.default_extension}).html(fmt);\n",
       "        fmt_picker.append(option)\n",
       "    }\n",
       "\n",
       "    // Add hover states to the ui-buttons\n",
       "    $( \".ui-button\" ).hover(\n",
       "        function() { $(this).addClass(\"ui-state-hover\");},\n",
       "        function() { $(this).removeClass(\"ui-state-hover\");}\n",
       "    );\n",
       "\n",
       "    var status_bar = $('<span class=\"mpl-message\"/>');\n",
       "    nav_element.append(status_bar);\n",
       "    this.message = status_bar[0];\n",
       "}\n",
       "\n",
       "mpl.figure.prototype.request_resize = function(x_pixels, y_pixels) {\n",
       "    // Request matplotlib to resize the figure. Matplotlib will then trigger a resize in the client,\n",
       "    // which will in turn request a refresh of the image.\n",
       "    this.send_message('resize', {'width': x_pixels, 'height': y_pixels});\n",
       "}\n",
       "\n",
       "mpl.figure.prototype.send_message = function(type, properties) {\n",
       "    properties['type'] = type;\n",
       "    properties['figure_id'] = this.id;\n",
       "    this.ws.send(JSON.stringify(properties));\n",
       "}\n",
       "\n",
       "mpl.figure.prototype.send_draw_message = function() {\n",
       "    if (!this.waiting) {\n",
       "        this.waiting = true;\n",
       "        this.ws.send(JSON.stringify({type: \"draw\", figure_id: this.id}));\n",
       "    }\n",
       "}\n",
       "\n",
       "\n",
       "mpl.figure.prototype.handle_save = function(fig, msg) {\n",
       "    var format_dropdown = fig.format_dropdown;\n",
       "    var format = format_dropdown.options[format_dropdown.selectedIndex].value;\n",
       "    fig.ondownload(fig, format);\n",
       "}\n",
       "\n",
       "\n",
       "mpl.figure.prototype.handle_resize = function(fig, msg) {\n",
       "    var size = msg['size'];\n",
       "    if (size[0] != fig.canvas.width || size[1] != fig.canvas.height) {\n",
       "        fig._resize_canvas(size[0], size[1]);\n",
       "        fig.send_message(\"refresh\", {});\n",
       "    };\n",
       "}\n",
       "\n",
       "mpl.figure.prototype.handle_rubberband = function(fig, msg) {\n",
       "    var x0 = msg['x0'] / mpl.ratio;\n",
       "    var y0 = (fig.canvas.height - msg['y0']) / mpl.ratio;\n",
       "    var x1 = msg['x1'] / mpl.ratio;\n",
       "    var y1 = (fig.canvas.height - msg['y1']) / mpl.ratio;\n",
       "    x0 = Math.floor(x0) + 0.5;\n",
       "    y0 = Math.floor(y0) + 0.5;\n",
       "    x1 = Math.floor(x1) + 0.5;\n",
       "    y1 = Math.floor(y1) + 0.5;\n",
       "    var min_x = Math.min(x0, x1);\n",
       "    var min_y = Math.min(y0, y1);\n",
       "    var width = Math.abs(x1 - x0);\n",
       "    var height = Math.abs(y1 - y0);\n",
       "\n",
       "    fig.rubberband_context.clearRect(\n",
       "        0, 0, fig.canvas.width, fig.canvas.height);\n",
       "\n",
       "    fig.rubberband_context.strokeRect(min_x, min_y, width, height);\n",
       "}\n",
       "\n",
       "mpl.figure.prototype.handle_figure_label = function(fig, msg) {\n",
       "    // Updates the figure title.\n",
       "    fig.header.textContent = msg['label'];\n",
       "}\n",
       "\n",
       "mpl.figure.prototype.handle_cursor = function(fig, msg) {\n",
       "    var cursor = msg['cursor'];\n",
       "    switch(cursor)\n",
       "    {\n",
       "    case 0:\n",
       "        cursor = 'pointer';\n",
       "        break;\n",
       "    case 1:\n",
       "        cursor = 'default';\n",
       "        break;\n",
       "    case 2:\n",
       "        cursor = 'crosshair';\n",
       "        break;\n",
       "    case 3:\n",
       "        cursor = 'move';\n",
       "        break;\n",
       "    }\n",
       "    fig.rubberband_canvas.style.cursor = cursor;\n",
       "}\n",
       "\n",
       "mpl.figure.prototype.handle_message = function(fig, msg) {\n",
       "    fig.message.textContent = msg['message'];\n",
       "}\n",
       "\n",
       "mpl.figure.prototype.handle_draw = function(fig, msg) {\n",
       "    // Request the server to send over a new figure.\n",
       "    fig.send_draw_message();\n",
       "}\n",
       "\n",
       "mpl.figure.prototype.handle_image_mode = function(fig, msg) {\n",
       "    fig.image_mode = msg['mode'];\n",
       "}\n",
       "\n",
       "mpl.figure.prototype.updated_canvas_event = function() {\n",
       "    // Called whenever the canvas gets updated.\n",
       "    this.send_message(\"ack\", {});\n",
       "}\n",
       "\n",
       "// A function to construct a web socket function for onmessage handling.\n",
       "// Called in the figure constructor.\n",
       "mpl.figure.prototype._make_on_message_function = function(fig) {\n",
       "    return function socket_on_message(evt) {\n",
       "        if (evt.data instanceof Blob) {\n",
       "            /* FIXME: We get \"Resource interpreted as Image but\n",
       "             * transferred with MIME type text/plain:\" errors on\n",
       "             * Chrome.  But how to set the MIME type?  It doesn't seem\n",
       "             * to be part of the websocket stream */\n",
       "            evt.data.type = \"image/png\";\n",
       "\n",
       "            /* Free the memory for the previous frames */\n",
       "            if (fig.imageObj.src) {\n",
       "                (window.URL || window.webkitURL).revokeObjectURL(\n",
       "                    fig.imageObj.src);\n",
       "            }\n",
       "\n",
       "            fig.imageObj.src = (window.URL || window.webkitURL).createObjectURL(\n",
       "                evt.data);\n",
       "            fig.updated_canvas_event();\n",
       "            fig.waiting = false;\n",
       "            return;\n",
       "        }\n",
       "        else if (typeof evt.data === 'string' && evt.data.slice(0, 21) == \"data:image/png;base64\") {\n",
       "            fig.imageObj.src = evt.data;\n",
       "            fig.updated_canvas_event();\n",
       "            fig.waiting = false;\n",
       "            return;\n",
       "        }\n",
       "\n",
       "        var msg = JSON.parse(evt.data);\n",
       "        var msg_type = msg['type'];\n",
       "\n",
       "        // Call the  \"handle_{type}\" callback, which takes\n",
       "        // the figure and JSON message as its only arguments.\n",
       "        try {\n",
       "            var callback = fig[\"handle_\" + msg_type];\n",
       "        } catch (e) {\n",
       "            console.log(\"No handler for the '\" + msg_type + \"' message type: \", msg);\n",
       "            return;\n",
       "        }\n",
       "\n",
       "        if (callback) {\n",
       "            try {\n",
       "                // console.log(\"Handling '\" + msg_type + \"' message: \", msg);\n",
       "                callback(fig, msg);\n",
       "            } catch (e) {\n",
       "                console.log(\"Exception inside the 'handler_\" + msg_type + \"' callback:\", e, e.stack, msg);\n",
       "            }\n",
       "        }\n",
       "    };\n",
       "}\n",
       "\n",
       "// from http://stackoverflow.com/questions/1114465/getting-mouse-location-in-canvas\n",
       "mpl.findpos = function(e) {\n",
       "    //this section is from http://www.quirksmode.org/js/events_properties.html\n",
       "    var targ;\n",
       "    if (!e)\n",
       "        e = window.event;\n",
       "    if (e.target)\n",
       "        targ = e.target;\n",
       "    else if (e.srcElement)\n",
       "        targ = e.srcElement;\n",
       "    if (targ.nodeType == 3) // defeat Safari bug\n",
       "        targ = targ.parentNode;\n",
       "\n",
       "    // jQuery normalizes the pageX and pageY\n",
       "    // pageX,Y are the mouse positions relative to the document\n",
       "    // offset() returns the position of the element relative to the document\n",
       "    var x = e.pageX - $(targ).offset().left;\n",
       "    var y = e.pageY - $(targ).offset().top;\n",
       "\n",
       "    return {\"x\": x, \"y\": y};\n",
       "};\n",
       "\n",
       "/*\n",
       " * return a copy of an object with only non-object keys\n",
       " * we need this to avoid circular references\n",
       " * http://stackoverflow.com/a/24161582/3208463\n",
       " */\n",
       "function simpleKeys (original) {\n",
       "  return Object.keys(original).reduce(function (obj, key) {\n",
       "    if (typeof original[key] !== 'object')\n",
       "        obj[key] = original[key]\n",
       "    return obj;\n",
       "  }, {});\n",
       "}\n",
       "\n",
       "mpl.figure.prototype.mouse_event = function(event, name) {\n",
       "    var canvas_pos = mpl.findpos(event)\n",
       "\n",
       "    if (name === 'button_press')\n",
       "    {\n",
       "        this.canvas.focus();\n",
       "        this.canvas_div.focus();\n",
       "    }\n",
       "\n",
       "    var x = canvas_pos.x * mpl.ratio;\n",
       "    var y = canvas_pos.y * mpl.ratio;\n",
       "\n",
       "    this.send_message(name, {x: x, y: y, button: event.button,\n",
       "                             step: event.step,\n",
       "                             guiEvent: simpleKeys(event)});\n",
       "\n",
       "    /* This prevents the web browser from automatically changing to\n",
       "     * the text insertion cursor when the button is pressed.  We want\n",
       "     * to control all of the cursor setting manually through the\n",
       "     * 'cursor' event from matplotlib */\n",
       "    event.preventDefault();\n",
       "    return false;\n",
       "}\n",
       "\n",
       "mpl.figure.prototype._key_event_extra = function(event, name) {\n",
       "    // Handle any extra behaviour associated with a key event\n",
       "}\n",
       "\n",
       "mpl.figure.prototype.key_event = function(event, name) {\n",
       "\n",
       "    // Prevent repeat events\n",
       "    if (name == 'key_press')\n",
       "    {\n",
       "        if (event.which === this._key)\n",
       "            return;\n",
       "        else\n",
       "            this._key = event.which;\n",
       "    }\n",
       "    if (name == 'key_release')\n",
       "        this._key = null;\n",
       "\n",
       "    var value = '';\n",
       "    if (event.ctrlKey && event.which != 17)\n",
       "        value += \"ctrl+\";\n",
       "    if (event.altKey && event.which != 18)\n",
       "        value += \"alt+\";\n",
       "    if (event.shiftKey && event.which != 16)\n",
       "        value += \"shift+\";\n",
       "\n",
       "    value += 'k';\n",
       "    value += event.which.toString();\n",
       "\n",
       "    this._key_event_extra(event, name);\n",
       "\n",
       "    this.send_message(name, {key: value,\n",
       "                             guiEvent: simpleKeys(event)});\n",
       "    return false;\n",
       "}\n",
       "\n",
       "mpl.figure.prototype.toolbar_button_onclick = function(name) {\n",
       "    if (name == 'download') {\n",
       "        this.handle_save(this, null);\n",
       "    } else {\n",
       "        this.send_message(\"toolbar_button\", {name: name});\n",
       "    }\n",
       "};\n",
       "\n",
       "mpl.figure.prototype.toolbar_button_onmouseover = function(tooltip) {\n",
       "    this.message.textContent = tooltip;\n",
       "};\n",
       "mpl.toolbar_items = [[\"Home\", \"Reset original view\", \"fa fa-home icon-home\", \"home\"], [\"Back\", \"Back to  previous view\", \"fa fa-arrow-left icon-arrow-left\", \"back\"], [\"Forward\", \"Forward to next view\", \"fa fa-arrow-right icon-arrow-right\", \"forward\"], [\"\", \"\", \"\", \"\"], [\"Pan\", \"Pan axes with left mouse, zoom with right\", \"fa fa-arrows icon-move\", \"pan\"], [\"Zoom\", \"Zoom to rectangle\", \"fa fa-square-o icon-check-empty\", \"zoom\"], [\"\", \"\", \"\", \"\"], [\"Download\", \"Download plot\", \"fa fa-floppy-o icon-save\", \"download\"]];\n",
       "\n",
       "mpl.extensions = [\"eps\", \"jpeg\", \"pdf\", \"png\", \"ps\", \"raw\", \"svg\", \"tif\"];\n",
       "\n",
       "mpl.default_extension = \"png\";var comm_websocket_adapter = function(comm) {\n",
       "    // Create a \"websocket\"-like object which calls the given IPython comm\n",
       "    // object with the appropriate methods. Currently this is a non binary\n",
       "    // socket, so there is still some room for performance tuning.\n",
       "    var ws = {};\n",
       "\n",
       "    ws.close = function() {\n",
       "        comm.close()\n",
       "    };\n",
       "    ws.send = function(m) {\n",
       "        //console.log('sending', m);\n",
       "        comm.send(m);\n",
       "    };\n",
       "    // Register the callback with on_msg.\n",
       "    comm.on_msg(function(msg) {\n",
       "        //console.log('receiving', msg['content']['data'], msg);\n",
       "        // Pass the mpl event to the overriden (by mpl) onmessage function.\n",
       "        ws.onmessage(msg['content']['data'])\n",
       "    });\n",
       "    return ws;\n",
       "}\n",
       "\n",
       "mpl.mpl_figure_comm = function(comm, msg) {\n",
       "    // This is the function which gets called when the mpl process\n",
       "    // starts-up an IPython Comm through the \"matplotlib\" channel.\n",
       "\n",
       "    var id = msg.content.data.id;\n",
       "    // Get hold of the div created by the display call when the Comm\n",
       "    // socket was opened in Python.\n",
       "    var element = $(\"#\" + id);\n",
       "    var ws_proxy = comm_websocket_adapter(comm)\n",
       "\n",
       "    function ondownload(figure, format) {\n",
       "        window.open(figure.imageObj.src);\n",
       "    }\n",
       "\n",
       "    var fig = new mpl.figure(id, ws_proxy,\n",
       "                           ondownload,\n",
       "                           element.get(0));\n",
       "\n",
       "    // Call onopen now - mpl needs it, as it is assuming we've passed it a real\n",
       "    // web socket which is closed, not our websocket->open comm proxy.\n",
       "    ws_proxy.onopen();\n",
       "\n",
       "    fig.parent_element = element.get(0);\n",
       "    fig.cell_info = mpl.find_output_cell(\"<div id='\" + id + \"'></div>\");\n",
       "    if (!fig.cell_info) {\n",
       "        console.error(\"Failed to find cell for figure\", id, fig);\n",
       "        return;\n",
       "    }\n",
       "\n",
       "    var output_index = fig.cell_info[2]\n",
       "    var cell = fig.cell_info[0];\n",
       "\n",
       "};\n",
       "\n",
       "mpl.figure.prototype.handle_close = function(fig, msg) {\n",
       "    var width = fig.canvas.width/mpl.ratio\n",
       "    fig.root.unbind('remove')\n",
       "\n",
       "    // Update the output cell to use the data from the current canvas.\n",
       "    fig.push_to_output();\n",
       "    var dataURL = fig.canvas.toDataURL();\n",
       "    // Re-enable the keyboard manager in IPython - without this line, in FF,\n",
       "    // the notebook keyboard shortcuts fail.\n",
       "    IPython.keyboard_manager.enable()\n",
       "    $(fig.parent_element).html('<img src=\"' + dataURL + '\" width=\"' + width + '\">');\n",
       "    fig.close_ws(fig, msg);\n",
       "}\n",
       "\n",
       "mpl.figure.prototype.close_ws = function(fig, msg){\n",
       "    fig.send_message('closing', msg);\n",
       "    // fig.ws.close()\n",
       "}\n",
       "\n",
       "mpl.figure.prototype.push_to_output = function(remove_interactive) {\n",
       "    // Turn the data on the canvas into data in the output cell.\n",
       "    var width = this.canvas.width/mpl.ratio\n",
       "    var dataURL = this.canvas.toDataURL();\n",
       "    this.cell_info[1]['text/html'] = '<img src=\"' + dataURL + '\" width=\"' + width + '\">';\n",
       "}\n",
       "\n",
       "mpl.figure.prototype.updated_canvas_event = function() {\n",
       "    // Tell IPython that the notebook contents must change.\n",
       "    IPython.notebook.set_dirty(true);\n",
       "    this.send_message(\"ack\", {});\n",
       "    var fig = this;\n",
       "    // Wait a second, then push the new image to the DOM so\n",
       "    // that it is saved nicely (might be nice to debounce this).\n",
       "    setTimeout(function () { fig.push_to_output() }, 1000);\n",
       "}\n",
       "\n",
       "mpl.figure.prototype._init_toolbar = function() {\n",
       "    var fig = this;\n",
       "\n",
       "    var nav_element = $('<div/>')\n",
       "    nav_element.attr('style', 'width: 100%');\n",
       "    this.root.append(nav_element);\n",
       "\n",
       "    // Define a callback function for later on.\n",
       "    function toolbar_event(event) {\n",
       "        return fig.toolbar_button_onclick(event['data']);\n",
       "    }\n",
       "    function toolbar_mouse_event(event) {\n",
       "        return fig.toolbar_button_onmouseover(event['data']);\n",
       "    }\n",
       "\n",
       "    for(var toolbar_ind in mpl.toolbar_items){\n",
       "        var name = mpl.toolbar_items[toolbar_ind][0];\n",
       "        var tooltip = mpl.toolbar_items[toolbar_ind][1];\n",
       "        var image = mpl.toolbar_items[toolbar_ind][2];\n",
       "        var method_name = mpl.toolbar_items[toolbar_ind][3];\n",
       "\n",
       "        if (!name) { continue; };\n",
       "\n",
       "        var button = $('<button class=\"btn btn-default\" href=\"#\" title=\"' + name + '\"><i class=\"fa ' + image + ' fa-lg\"></i></button>');\n",
       "        button.click(method_name, toolbar_event);\n",
       "        button.mouseover(tooltip, toolbar_mouse_event);\n",
       "        nav_element.append(button);\n",
       "    }\n",
       "\n",
       "    // Add the status bar.\n",
       "    var status_bar = $('<span class=\"mpl-message\" style=\"text-align:right; float: right;\"/>');\n",
       "    nav_element.append(status_bar);\n",
       "    this.message = status_bar[0];\n",
       "\n",
       "    // Add the close button to the window.\n",
       "    var buttongrp = $('<div class=\"btn-group inline pull-right\"></div>');\n",
       "    var button = $('<button class=\"btn btn-mini btn-primary\" href=\"#\" title=\"Stop Interaction\"><i class=\"fa fa-power-off icon-remove icon-large\"></i></button>');\n",
       "    button.click(function (evt) { fig.handle_close(fig, {}); } );\n",
       "    button.mouseover('Stop Interaction', toolbar_mouse_event);\n",
       "    buttongrp.append(button);\n",
       "    var titlebar = this.root.find($('.ui-dialog-titlebar'));\n",
       "    titlebar.prepend(buttongrp);\n",
       "}\n",
       "\n",
       "mpl.figure.prototype._root_extra_style = function(el){\n",
       "    var fig = this\n",
       "    el.on(\"remove\", function(){\n",
       "\tfig.close_ws(fig, {});\n",
       "    });\n",
       "}\n",
       "\n",
       "mpl.figure.prototype._canvas_extra_style = function(el){\n",
       "    // this is important to make the div 'focusable\n",
       "    el.attr('tabindex', 0)\n",
       "    // reach out to IPython and tell the keyboard manager to turn it's self\n",
       "    // off when our div gets focus\n",
       "\n",
       "    // location in version 3\n",
       "    if (IPython.notebook.keyboard_manager) {\n",
       "        IPython.notebook.keyboard_manager.register_events(el);\n",
       "    }\n",
       "    else {\n",
       "        // location in version 2\n",
       "        IPython.keyboard_manager.register_events(el);\n",
       "    }\n",
       "\n",
       "}\n",
       "\n",
       "mpl.figure.prototype._key_event_extra = function(event, name) {\n",
       "    var manager = IPython.notebook.keyboard_manager;\n",
       "    if (!manager)\n",
       "        manager = IPython.keyboard_manager;\n",
       "\n",
       "    // Check for shift+enter\n",
       "    if (event.shiftKey && event.which == 13) {\n",
       "        this.canvas_div.blur();\n",
       "        event.shiftKey = false;\n",
       "        // Send a \"J\" for go to next cell\n",
       "        event.which = 74;\n",
       "        event.keyCode = 74;\n",
       "        manager.command_mode();\n",
       "        manager.handle_keydown(event);\n",
       "    }\n",
       "}\n",
       "\n",
       "mpl.figure.prototype.handle_save = function(fig, msg) {\n",
       "    fig.ondownload(fig, null);\n",
       "}\n",
       "\n",
       "\n",
       "mpl.find_output_cell = function(html_output) {\n",
       "    // Return the cell and output element which can be found *uniquely* in the notebook.\n",
       "    // Note - this is a bit hacky, but it is done because the \"notebook_saving.Notebook\"\n",
       "    // IPython event is triggered only after the cells have been serialised, which for\n",
       "    // our purposes (turning an active figure into a static one), is too late.\n",
       "    var cells = IPython.notebook.get_cells();\n",
       "    var ncells = cells.length;\n",
       "    for (var i=0; i<ncells; i++) {\n",
       "        var cell = cells[i];\n",
       "        if (cell.cell_type === 'code'){\n",
       "            for (var j=0; j<cell.output_area.outputs.length; j++) {\n",
       "                var data = cell.output_area.outputs[j];\n",
       "                if (data.data) {\n",
       "                    // IPython >= 3 moved mimebundle to data attribute of output\n",
       "                    data = data.data;\n",
       "                }\n",
       "                if (data['text/html'] == html_output) {\n",
       "                    return [cell, data, j];\n",
       "                }\n",
       "            }\n",
       "        }\n",
       "    }\n",
       "}\n",
       "\n",
       "// Register the function which deals with the matplotlib target/channel.\n",
       "// The kernel may be null if the page has been refreshed.\n",
       "if (IPython.notebook.kernel != null) {\n",
       "    IPython.notebook.kernel.comm_manager.register_target('matplotlib', mpl.mpl_figure_comm);\n",
       "}\n"
      ],
      "text/plain": [
       "<IPython.core.display.Javascript object>"
      ]
     },
     "metadata": {},
     "output_type": "display_data"
    },
    {
     "data": {
      "text/html": [
       "<img src=\"data:image/png;base64,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\" width=\"640\">"
      ],
      "text/plain": [
       "<IPython.core.display.HTML object>"
      ]
     },
     "metadata": {},
     "output_type": "display_data"
    },
    {
     "ename": "KeyboardInterrupt",
     "evalue": "",
     "output_type": "error",
     "traceback": [
      "\u001b[1;31m---------------------------------------------------------------------------\u001b[0m",
      "\u001b[1;31mKeyboardInterrupt\u001b[0m                         Traceback (most recent call last)",
      "\u001b[1;32m<ipython-input-47-d5d7f7cfd046>\u001b[0m in \u001b[0;36m<module>\u001b[1;34m()\u001b[0m\n\u001b[1;32m----> 1\u001b[1;33m \u001b[0mlive_plot_temperature_reading\u001b[0m\u001b[1;33m(\u001b[0m\u001b[0mchannel_to_read\u001b[0m\u001b[1;33m=\u001b[0m\u001b[0mls\u001b[0m\u001b[1;33m.\u001b[0m\u001b[0mch09\u001b[0m\u001b[1;33m,\u001b[0m \u001b[0mread_period\u001b[0m\u001b[1;33m=\u001b[0m\u001b[1;36m0.01\u001b[0m\u001b[1;33m,\u001b[0m \u001b[0mn_reads\u001b[0m\u001b[1;33m=\u001b[0m\u001b[1;36m999\u001b[0m\u001b[1;33m)\u001b[0m\u001b[1;33m\u001b[0m\u001b[0m\n\u001b[0m",
      "\u001b[1;32m<ipython-input-43-0bff65fdfc32>\u001b[0m in \u001b[0;36mlive_plot_temperature_reading\u001b[1;34m(channel_to_read, read_period, n_reads)\u001b[0m\n\u001b[0;32m     43\u001b[0m         \u001b[0max\u001b[0m\u001b[1;33m.\u001b[0m\u001b[0mrelim\u001b[0m\u001b[1;33m(\u001b[0m\u001b[1;33m)\u001b[0m  \u001b[1;31m# Recalculate limits\u001b[0m\u001b[1;33m\u001b[0m\u001b[0m\n\u001b[0;32m     44\u001b[0m         \u001b[0max\u001b[0m\u001b[1;33m.\u001b[0m\u001b[0mautoscale_view\u001b[0m\u001b[1;33m(\u001b[0m\u001b[1;32mTrue\u001b[0m\u001b[1;33m,\u001b[0m \u001b[1;32mTrue\u001b[0m\u001b[1;33m,\u001b[0m \u001b[1;32mTrue\u001b[0m\u001b[1;33m)\u001b[0m  \u001b[1;31m# Autoscale\u001b[0m\u001b[1;33m\u001b[0m\u001b[0m\n\u001b[1;32m---> 45\u001b[1;33m         \u001b[0mfig\u001b[0m\u001b[1;33m.\u001b[0m\u001b[0mcanvas\u001b[0m\u001b[1;33m.\u001b[0m\u001b[0mdraw\u001b[0m\u001b[1;33m(\u001b[0m\u001b[1;33m)\u001b[0m  \u001b[1;31m# Redraw\u001b[0m\u001b[1;33m\u001b[0m\u001b[0m\n\u001b[0m",
      "\u001b[1;32mC:\\ProgramData\\Anaconda3\\lib\\site-packages\\matplotlib\\backends\\backend_webagg_core.py\u001b[0m in \u001b[0;36mdraw\u001b[1;34m(self)\u001b[0m\n\u001b[0;32m    159\u001b[0m         \u001b[0mbackend_agg\u001b[0m\u001b[1;33m.\u001b[0m\u001b[0mRendererAgg\u001b[0m\u001b[1;33m.\u001b[0m\u001b[0mlock\u001b[0m\u001b[1;33m.\u001b[0m\u001b[0macquire\u001b[0m\u001b[1;33m(\u001b[0m\u001b[1;33m)\u001b[0m\u001b[1;33m\u001b[0m\u001b[0m\n\u001b[0;32m    160\u001b[0m         \u001b[1;32mtry\u001b[0m\u001b[1;33m:\u001b[0m\u001b[1;33m\u001b[0m\u001b[0m\n\u001b[1;32m--> 161\u001b[1;33m             \u001b[0mself\u001b[0m\u001b[1;33m.\u001b[0m\u001b[0mfigure\u001b[0m\u001b[1;33m.\u001b[0m\u001b[0mdraw\u001b[0m\u001b[1;33m(\u001b[0m\u001b[0mrenderer\u001b[0m\u001b[1;33m)\u001b[0m\u001b[1;33m\u001b[0m\u001b[0m\n\u001b[0m\u001b[0;32m    162\u001b[0m         \u001b[1;32mfinally\u001b[0m\u001b[1;33m:\u001b[0m\u001b[1;33m\u001b[0m\u001b[0m\n\u001b[0;32m    163\u001b[0m             \u001b[0mbackend_agg\u001b[0m\u001b[1;33m.\u001b[0m\u001b[0mRendererAgg\u001b[0m\u001b[1;33m.\u001b[0m\u001b[0mlock\u001b[0m\u001b[1;33m.\u001b[0m\u001b[0mrelease\u001b[0m\u001b[1;33m(\u001b[0m\u001b[1;33m)\u001b[0m\u001b[1;33m\u001b[0m\u001b[0m\n",
      "\u001b[1;32mC:\\ProgramData\\Anaconda3\\lib\\site-packages\\matplotlib\\artist.py\u001b[0m in \u001b[0;36mdraw_wrapper\u001b[1;34m(artist, renderer, *args, **kwargs)\u001b[0m\n\u001b[0;32m     53\u001b[0m                 \u001b[0mrenderer\u001b[0m\u001b[1;33m.\u001b[0m\u001b[0mstart_filter\u001b[0m\u001b[1;33m(\u001b[0m\u001b[1;33m)\u001b[0m\u001b[1;33m\u001b[0m\u001b[0m\n\u001b[0;32m     54\u001b[0m \u001b[1;33m\u001b[0m\u001b[0m\n\u001b[1;32m---> 55\u001b[1;33m             \u001b[1;32mreturn\u001b[0m \u001b[0mdraw\u001b[0m\u001b[1;33m(\u001b[0m\u001b[0martist\u001b[0m\u001b[1;33m,\u001b[0m \u001b[0mrenderer\u001b[0m\u001b[1;33m,\u001b[0m \u001b[1;33m*\u001b[0m\u001b[0margs\u001b[0m\u001b[1;33m,\u001b[0m \u001b[1;33m**\u001b[0m\u001b[0mkwargs\u001b[0m\u001b[1;33m)\u001b[0m\u001b[1;33m\u001b[0m\u001b[0m\n\u001b[0m\u001b[0;32m     56\u001b[0m         \u001b[1;32mfinally\u001b[0m\u001b[1;33m:\u001b[0m\u001b[1;33m\u001b[0m\u001b[0m\n\u001b[0;32m     57\u001b[0m             \u001b[1;32mif\u001b[0m \u001b[0martist\u001b[0m\u001b[1;33m.\u001b[0m\u001b[0mget_agg_filter\u001b[0m\u001b[1;33m(\u001b[0m\u001b[1;33m)\u001b[0m \u001b[1;32mis\u001b[0m \u001b[1;32mnot\u001b[0m \u001b[1;32mNone\u001b[0m\u001b[1;33m:\u001b[0m\u001b[1;33m\u001b[0m\u001b[0m\n",
      "\u001b[1;32mC:\\ProgramData\\Anaconda3\\lib\\site-packages\\matplotlib\\figure.py\u001b[0m in \u001b[0;36mdraw\u001b[1;34m(self, renderer)\u001b[0m\n\u001b[0;32m   1297\u001b[0m \u001b[1;33m\u001b[0m\u001b[0m\n\u001b[0;32m   1298\u001b[0m             mimage._draw_list_compositing_images(\n\u001b[1;32m-> 1299\u001b[1;33m                 renderer, self, artists, self.suppressComposite)\n\u001b[0m\u001b[0;32m   1300\u001b[0m \u001b[1;33m\u001b[0m\u001b[0m\n\u001b[0;32m   1301\u001b[0m             \u001b[0mrenderer\u001b[0m\u001b[1;33m.\u001b[0m\u001b[0mclose_group\u001b[0m\u001b[1;33m(\u001b[0m\u001b[1;34m'figure'\u001b[0m\u001b[1;33m)\u001b[0m\u001b[1;33m\u001b[0m\u001b[0m\n",
      "\u001b[1;32mC:\\ProgramData\\Anaconda3\\lib\\site-packages\\matplotlib\\image.py\u001b[0m in \u001b[0;36m_draw_list_compositing_images\u001b[1;34m(renderer, parent, artists, suppress_composite)\u001b[0m\n\u001b[0;32m    136\u001b[0m     \u001b[1;32mif\u001b[0m \u001b[0mnot_composite\u001b[0m \u001b[1;32mor\u001b[0m \u001b[1;32mnot\u001b[0m \u001b[0mhas_images\u001b[0m\u001b[1;33m:\u001b[0m\u001b[1;33m\u001b[0m\u001b[0m\n\u001b[0;32m    137\u001b[0m         \u001b[1;32mfor\u001b[0m \u001b[0ma\u001b[0m \u001b[1;32min\u001b[0m \u001b[0martists\u001b[0m\u001b[1;33m:\u001b[0m\u001b[1;33m\u001b[0m\u001b[0m\n\u001b[1;32m--> 138\u001b[1;33m             \u001b[0ma\u001b[0m\u001b[1;33m.\u001b[0m\u001b[0mdraw\u001b[0m\u001b[1;33m(\u001b[0m\u001b[0mrenderer\u001b[0m\u001b[1;33m)\u001b[0m\u001b[1;33m\u001b[0m\u001b[0m\n\u001b[0m\u001b[0;32m    139\u001b[0m     \u001b[1;32melse\u001b[0m\u001b[1;33m:\u001b[0m\u001b[1;33m\u001b[0m\u001b[0m\n\u001b[0;32m    140\u001b[0m         \u001b[1;31m# Composite any adjacent images together\u001b[0m\u001b[1;33m\u001b[0m\u001b[1;33m\u001b[0m\u001b[0m\n",
      "\u001b[1;32mC:\\ProgramData\\Anaconda3\\lib\\site-packages\\matplotlib\\artist.py\u001b[0m in \u001b[0;36mdraw_wrapper\u001b[1;34m(artist, renderer, *args, **kwargs)\u001b[0m\n\u001b[0;32m     53\u001b[0m                 \u001b[0mrenderer\u001b[0m\u001b[1;33m.\u001b[0m\u001b[0mstart_filter\u001b[0m\u001b[1;33m(\u001b[0m\u001b[1;33m)\u001b[0m\u001b[1;33m\u001b[0m\u001b[0m\n\u001b[0;32m     54\u001b[0m \u001b[1;33m\u001b[0m\u001b[0m\n\u001b[1;32m---> 55\u001b[1;33m             \u001b[1;32mreturn\u001b[0m \u001b[0mdraw\u001b[0m\u001b[1;33m(\u001b[0m\u001b[0martist\u001b[0m\u001b[1;33m,\u001b[0m \u001b[0mrenderer\u001b[0m\u001b[1;33m,\u001b[0m \u001b[1;33m*\u001b[0m\u001b[0margs\u001b[0m\u001b[1;33m,\u001b[0m \u001b[1;33m**\u001b[0m\u001b[0mkwargs\u001b[0m\u001b[1;33m)\u001b[0m\u001b[1;33m\u001b[0m\u001b[0m\n\u001b[0m\u001b[0;32m     56\u001b[0m         \u001b[1;32mfinally\u001b[0m\u001b[1;33m:\u001b[0m\u001b[1;33m\u001b[0m\u001b[0m\n\u001b[0;32m     57\u001b[0m             \u001b[1;32mif\u001b[0m \u001b[0martist\u001b[0m\u001b[1;33m.\u001b[0m\u001b[0mget_agg_filter\u001b[0m\u001b[1;33m(\u001b[0m\u001b[1;33m)\u001b[0m \u001b[1;32mis\u001b[0m \u001b[1;32mnot\u001b[0m \u001b[1;32mNone\u001b[0m\u001b[1;33m:\u001b[0m\u001b[1;33m\u001b[0m\u001b[0m\n",
      "\u001b[1;32mC:\\ProgramData\\Anaconda3\\lib\\site-packages\\matplotlib\\axes\\_base.py\u001b[0m in \u001b[0;36mdraw\u001b[1;34m(self, renderer, inframe)\u001b[0m\n\u001b[0;32m   2435\u001b[0m             \u001b[0mrenderer\u001b[0m\u001b[1;33m.\u001b[0m\u001b[0mstop_rasterizing\u001b[0m\u001b[1;33m(\u001b[0m\u001b[1;33m)\u001b[0m\u001b[1;33m\u001b[0m\u001b[0m\n\u001b[0;32m   2436\u001b[0m \u001b[1;33m\u001b[0m\u001b[0m\n\u001b[1;32m-> 2437\u001b[1;33m         \u001b[0mmimage\u001b[0m\u001b[1;33m.\u001b[0m\u001b[0m_draw_list_compositing_images\u001b[0m\u001b[1;33m(\u001b[0m\u001b[0mrenderer\u001b[0m\u001b[1;33m,\u001b[0m \u001b[0mself\u001b[0m\u001b[1;33m,\u001b[0m \u001b[0martists\u001b[0m\u001b[1;33m)\u001b[0m\u001b[1;33m\u001b[0m\u001b[0m\n\u001b[0m\u001b[0;32m   2438\u001b[0m \u001b[1;33m\u001b[0m\u001b[0m\n\u001b[0;32m   2439\u001b[0m         \u001b[0mrenderer\u001b[0m\u001b[1;33m.\u001b[0m\u001b[0mclose_group\u001b[0m\u001b[1;33m(\u001b[0m\u001b[1;34m'axes'\u001b[0m\u001b[1;33m)\u001b[0m\u001b[1;33m\u001b[0m\u001b[0m\n",
      "\u001b[1;32mC:\\ProgramData\\Anaconda3\\lib\\site-packages\\matplotlib\\image.py\u001b[0m in \u001b[0;36m_draw_list_compositing_images\u001b[1;34m(renderer, parent, artists, suppress_composite)\u001b[0m\n\u001b[0;32m    136\u001b[0m     \u001b[1;32mif\u001b[0m \u001b[0mnot_composite\u001b[0m \u001b[1;32mor\u001b[0m \u001b[1;32mnot\u001b[0m \u001b[0mhas_images\u001b[0m\u001b[1;33m:\u001b[0m\u001b[1;33m\u001b[0m\u001b[0m\n\u001b[0;32m    137\u001b[0m         \u001b[1;32mfor\u001b[0m \u001b[0ma\u001b[0m \u001b[1;32min\u001b[0m \u001b[0martists\u001b[0m\u001b[1;33m:\u001b[0m\u001b[1;33m\u001b[0m\u001b[0m\n\u001b[1;32m--> 138\u001b[1;33m             \u001b[0ma\u001b[0m\u001b[1;33m.\u001b[0m\u001b[0mdraw\u001b[0m\u001b[1;33m(\u001b[0m\u001b[0mrenderer\u001b[0m\u001b[1;33m)\u001b[0m\u001b[1;33m\u001b[0m\u001b[0m\n\u001b[0m\u001b[0;32m    139\u001b[0m     \u001b[1;32melse\u001b[0m\u001b[1;33m:\u001b[0m\u001b[1;33m\u001b[0m\u001b[0m\n\u001b[0;32m    140\u001b[0m         \u001b[1;31m# Composite any adjacent images together\u001b[0m\u001b[1;33m\u001b[0m\u001b[1;33m\u001b[0m\u001b[0m\n",
      "\u001b[1;32mC:\\ProgramData\\Anaconda3\\lib\\site-packages\\matplotlib\\artist.py\u001b[0m in \u001b[0;36mdraw_wrapper\u001b[1;34m(artist, renderer, *args, **kwargs)\u001b[0m\n\u001b[0;32m     53\u001b[0m                 \u001b[0mrenderer\u001b[0m\u001b[1;33m.\u001b[0m\u001b[0mstart_filter\u001b[0m\u001b[1;33m(\u001b[0m\u001b[1;33m)\u001b[0m\u001b[1;33m\u001b[0m\u001b[0m\n\u001b[0;32m     54\u001b[0m \u001b[1;33m\u001b[0m\u001b[0m\n\u001b[1;32m---> 55\u001b[1;33m             \u001b[1;32mreturn\u001b[0m \u001b[0mdraw\u001b[0m\u001b[1;33m(\u001b[0m\u001b[0martist\u001b[0m\u001b[1;33m,\u001b[0m \u001b[0mrenderer\u001b[0m\u001b[1;33m,\u001b[0m \u001b[1;33m*\u001b[0m\u001b[0margs\u001b[0m\u001b[1;33m,\u001b[0m \u001b[1;33m**\u001b[0m\u001b[0mkwargs\u001b[0m\u001b[1;33m)\u001b[0m\u001b[1;33m\u001b[0m\u001b[0m\n\u001b[0m\u001b[0;32m     56\u001b[0m         \u001b[1;32mfinally\u001b[0m\u001b[1;33m:\u001b[0m\u001b[1;33m\u001b[0m\u001b[0m\n\u001b[0;32m     57\u001b[0m             \u001b[1;32mif\u001b[0m \u001b[0martist\u001b[0m\u001b[1;33m.\u001b[0m\u001b[0mget_agg_filter\u001b[0m\u001b[1;33m(\u001b[0m\u001b[1;33m)\u001b[0m \u001b[1;32mis\u001b[0m \u001b[1;32mnot\u001b[0m \u001b[1;32mNone\u001b[0m\u001b[1;33m:\u001b[0m\u001b[1;33m\u001b[0m\u001b[0m\n",
      "\u001b[1;32mC:\\ProgramData\\Anaconda3\\lib\\site-packages\\matplotlib\\axis.py\u001b[0m in \u001b[0;36mdraw\u001b[1;34m(self, renderer, *args, **kwargs)\u001b[0m\n\u001b[0;32m   1136\u001b[0m \u001b[1;33m\u001b[0m\u001b[0m\n\u001b[0;32m   1137\u001b[0m         \u001b[1;32mfor\u001b[0m \u001b[0mtick\u001b[0m \u001b[1;32min\u001b[0m \u001b[0mticks_to_draw\u001b[0m\u001b[1;33m:\u001b[0m\u001b[1;33m\u001b[0m\u001b[0m\n\u001b[1;32m-> 1138\u001b[1;33m             \u001b[0mtick\u001b[0m\u001b[1;33m.\u001b[0m\u001b[0mdraw\u001b[0m\u001b[1;33m(\u001b[0m\u001b[0mrenderer\u001b[0m\u001b[1;33m)\u001b[0m\u001b[1;33m\u001b[0m\u001b[0m\n\u001b[0m\u001b[0;32m   1139\u001b[0m \u001b[1;33m\u001b[0m\u001b[0m\n\u001b[0;32m   1140\u001b[0m         \u001b[1;31m# scale up the axis label box to also find the neighbors, not\u001b[0m\u001b[1;33m\u001b[0m\u001b[1;33m\u001b[0m\u001b[0m\n",
      "\u001b[1;32mC:\\ProgramData\\Anaconda3\\lib\\site-packages\\matplotlib\\artist.py\u001b[0m in \u001b[0;36mdraw_wrapper\u001b[1;34m(artist, renderer, *args, **kwargs)\u001b[0m\n\u001b[0;32m     53\u001b[0m                 \u001b[0mrenderer\u001b[0m\u001b[1;33m.\u001b[0m\u001b[0mstart_filter\u001b[0m\u001b[1;33m(\u001b[0m\u001b[1;33m)\u001b[0m\u001b[1;33m\u001b[0m\u001b[0m\n\u001b[0;32m     54\u001b[0m \u001b[1;33m\u001b[0m\u001b[0m\n\u001b[1;32m---> 55\u001b[1;33m             \u001b[1;32mreturn\u001b[0m \u001b[0mdraw\u001b[0m\u001b[1;33m(\u001b[0m\u001b[0martist\u001b[0m\u001b[1;33m,\u001b[0m \u001b[0mrenderer\u001b[0m\u001b[1;33m,\u001b[0m \u001b[1;33m*\u001b[0m\u001b[0margs\u001b[0m\u001b[1;33m,\u001b[0m \u001b[1;33m**\u001b[0m\u001b[0mkwargs\u001b[0m\u001b[1;33m)\u001b[0m\u001b[1;33m\u001b[0m\u001b[0m\n\u001b[0m\u001b[0;32m     56\u001b[0m         \u001b[1;32mfinally\u001b[0m\u001b[1;33m:\u001b[0m\u001b[1;33m\u001b[0m\u001b[0m\n\u001b[0;32m     57\u001b[0m             \u001b[1;32mif\u001b[0m \u001b[0martist\u001b[0m\u001b[1;33m.\u001b[0m\u001b[0mget_agg_filter\u001b[0m\u001b[1;33m(\u001b[0m\u001b[1;33m)\u001b[0m \u001b[1;32mis\u001b[0m \u001b[1;32mnot\u001b[0m \u001b[1;32mNone\u001b[0m\u001b[1;33m:\u001b[0m\u001b[1;33m\u001b[0m\u001b[0m\n",
      "\u001b[1;32mC:\\ProgramData\\Anaconda3\\lib\\site-packages\\matplotlib\\axis.py\u001b[0m in \u001b[0;36mdraw\u001b[1;34m(self, renderer)\u001b[0m\n\u001b[0;32m    275\u001b[0m             \u001b[0mself\u001b[0m\u001b[1;33m.\u001b[0m\u001b[0mgridline\u001b[0m\u001b[1;33m.\u001b[0m\u001b[0mdraw\u001b[0m\u001b[1;33m(\u001b[0m\u001b[0mrenderer\u001b[0m\u001b[1;33m)\u001b[0m\u001b[1;33m\u001b[0m\u001b[0m\n\u001b[0;32m    276\u001b[0m         \u001b[1;32mif\u001b[0m \u001b[0mself\u001b[0m\u001b[1;33m.\u001b[0m\u001b[0mtick1On\u001b[0m\u001b[1;33m:\u001b[0m\u001b[1;33m\u001b[0m\u001b[0m\n\u001b[1;32m--> 277\u001b[1;33m             \u001b[0mself\u001b[0m\u001b[1;33m.\u001b[0m\u001b[0mtick1line\u001b[0m\u001b[1;33m.\u001b[0m\u001b[0mdraw\u001b[0m\u001b[1;33m(\u001b[0m\u001b[0mrenderer\u001b[0m\u001b[1;33m)\u001b[0m\u001b[1;33m\u001b[0m\u001b[0m\n\u001b[0m\u001b[0;32m    278\u001b[0m         \u001b[1;32mif\u001b[0m \u001b[0mself\u001b[0m\u001b[1;33m.\u001b[0m\u001b[0mtick2On\u001b[0m\u001b[1;33m:\u001b[0m\u001b[1;33m\u001b[0m\u001b[0m\n\u001b[0;32m    279\u001b[0m             \u001b[0mself\u001b[0m\u001b[1;33m.\u001b[0m\u001b[0mtick2line\u001b[0m\u001b[1;33m.\u001b[0m\u001b[0mdraw\u001b[0m\u001b[1;33m(\u001b[0m\u001b[0mrenderer\u001b[0m\u001b[1;33m)\u001b[0m\u001b[1;33m\u001b[0m\u001b[0m\n",
      "\u001b[1;32mC:\\ProgramData\\Anaconda3\\lib\\site-packages\\matplotlib\\artist.py\u001b[0m in \u001b[0;36mdraw_wrapper\u001b[1;34m(artist, renderer, *args, **kwargs)\u001b[0m\n\u001b[0;32m     53\u001b[0m                 \u001b[0mrenderer\u001b[0m\u001b[1;33m.\u001b[0m\u001b[0mstart_filter\u001b[0m\u001b[1;33m(\u001b[0m\u001b[1;33m)\u001b[0m\u001b[1;33m\u001b[0m\u001b[0m\n\u001b[0;32m     54\u001b[0m \u001b[1;33m\u001b[0m\u001b[0m\n\u001b[1;32m---> 55\u001b[1;33m             \u001b[1;32mreturn\u001b[0m \u001b[0mdraw\u001b[0m\u001b[1;33m(\u001b[0m\u001b[0martist\u001b[0m\u001b[1;33m,\u001b[0m \u001b[0mrenderer\u001b[0m\u001b[1;33m,\u001b[0m \u001b[1;33m*\u001b[0m\u001b[0margs\u001b[0m\u001b[1;33m,\u001b[0m \u001b[1;33m**\u001b[0m\u001b[0mkwargs\u001b[0m\u001b[1;33m)\u001b[0m\u001b[1;33m\u001b[0m\u001b[0m\n\u001b[0m\u001b[0;32m     56\u001b[0m         \u001b[1;32mfinally\u001b[0m\u001b[1;33m:\u001b[0m\u001b[1;33m\u001b[0m\u001b[0m\n\u001b[0;32m     57\u001b[0m             \u001b[1;32mif\u001b[0m \u001b[0martist\u001b[0m\u001b[1;33m.\u001b[0m\u001b[0mget_agg_filter\u001b[0m\u001b[1;33m(\u001b[0m\u001b[1;33m)\u001b[0m \u001b[1;32mis\u001b[0m \u001b[1;32mnot\u001b[0m \u001b[1;32mNone\u001b[0m\u001b[1;33m:\u001b[0m\u001b[1;33m\u001b[0m\u001b[0m\n",
      "\u001b[1;32mC:\\ProgramData\\Anaconda3\\lib\\site-packages\\matplotlib\\lines.py\u001b[0m in \u001b[0;36mdraw\u001b[1;34m(self, renderer)\u001b[0m\n\u001b[0;32m    834\u001b[0m                 \u001b[1;32melse\u001b[0m\u001b[1;33m:\u001b[0m\u001b[1;33m\u001b[0m\u001b[0m\n\u001b[0;32m    835\u001b[0m                     \u001b[1;31m# Don't scale for pixels, and don't stroke them\u001b[0m\u001b[1;33m\u001b[0m\u001b[1;33m\u001b[0m\u001b[0m\n\u001b[1;32m--> 836\u001b[1;33m                     \u001b[0mmarker_trans\u001b[0m \u001b[1;33m=\u001b[0m \u001b[0mmarker_trans\u001b[0m\u001b[1;33m.\u001b[0m\u001b[0mscale\u001b[0m\u001b[1;33m(\u001b[0m\u001b[0mw\u001b[0m\u001b[1;33m)\u001b[0m\u001b[1;33m\u001b[0m\u001b[0m\n\u001b[0m\u001b[0;32m    837\u001b[0m \u001b[1;33m\u001b[0m\u001b[0m\n\u001b[0;32m    838\u001b[0m                 renderer.draw_markers(gc, marker_path, marker_trans,\n",
      "\u001b[1;32mC:\\ProgramData\\Anaconda3\\lib\\site-packages\\matplotlib\\transforms.py\u001b[0m in \u001b[0;36mscale\u001b[1;34m(self, sx, sy)\u001b[0m\n\u001b[0;32m   2071\u001b[0m         scale_mtx = np.array(\n\u001b[0;32m   2072\u001b[0m             [[sx, 0.0, 0.0], [0.0, sy, 0.0], [0.0, 0.0, 1.0]], float)\n\u001b[1;32m-> 2073\u001b[1;33m         \u001b[0mself\u001b[0m\u001b[1;33m.\u001b[0m\u001b[0m_mtx\u001b[0m \u001b[1;33m=\u001b[0m \u001b[0mnp\u001b[0m\u001b[1;33m.\u001b[0m\u001b[0mdot\u001b[0m\u001b[1;33m(\u001b[0m\u001b[0mscale_mtx\u001b[0m\u001b[1;33m,\u001b[0m \u001b[0mself\u001b[0m\u001b[1;33m.\u001b[0m\u001b[0m_mtx\u001b[0m\u001b[1;33m)\u001b[0m\u001b[1;33m\u001b[0m\u001b[0m\n\u001b[0m\u001b[0;32m   2074\u001b[0m         \u001b[0mself\u001b[0m\u001b[1;33m.\u001b[0m\u001b[0minvalidate\u001b[0m\u001b[1;33m(\u001b[0m\u001b[1;33m)\u001b[0m\u001b[1;33m\u001b[0m\u001b[0m\n\u001b[0;32m   2075\u001b[0m         \u001b[1;32mreturn\u001b[0m \u001b[0mself\u001b[0m\u001b[1;33m\u001b[0m\u001b[0m\n",
      "\u001b[1;31mKeyboardInterrupt\u001b[0m: "
     ]
    }
   ],
   "source": [
    "live_plot_temperature_reading(channel_to_read=ls.ch09, read_period=0.01, n_reads=999)"
   ]
  },
  {
   "cell_type": "markdown",
   "metadata": {},
   "source": [
    "## Waiting to reach setpoint\n",
    "As we have seen, the call of the parameter `setpoint` is non-blocking. That means the function returns imediately without waiting for the setpoint to be reached. In many use-cases it is desirable to wait until a certain temperature regime has been reached. This can be achieved with `wait_until_set_point_reached` method. There are also three parameters which allow to tune the behavior of this method.\n",
    "\n",
    "See below:"
   ]
  },
  {
   "cell_type": "code",
   "execution_count": 17,
   "metadata": {},
   "outputs": [],
   "source": [
    "# time before reading the next temperature value\n",
    "# in other words, wait half a second, then read the temperature and compare to setpoint\n",
    "h.wait_cycle_time(0.5)\n",
    "\n",
    "# wait until temperature within 5% of the setpoint\n",
    "# the tolerance is defined as: |t_reading-t_setpoint|/t_reading\n",
    "h.wait_tolerance(0.05)\n",
    "\n",
    "# wait until temperature has been within the tolerance zone\n",
    "# for `wait_equilibration_time` seconds\n",
    "h.wait_equilibration_time(1.5)"
   ]
  },
  {
   "cell_type": "code",
   "execution_count": 18,
   "metadata": {},
   "outputs": [],
   "source": [
    "# do the waiting:\n",
    "if not simulation:  # does not work with simulated instrument!\n",
    "    h.wait_until_set_point_reached()"
   ]
  },
  {
   "cell_type": "markdown",
   "metadata": {},
   "source": [
    "For the simulation purposes, we can fake the heating of the sample by calling the `start_heating` method which only exists for the simulated instrument."
   ]
  },
  {
   "cell_type": "code",
   "execution_count": 19,
   "metadata": {},
   "outputs": [],
   "source": [
    "if simulation:\n",
    "    ls.sample_heater.setpoint(4)\n",
    "    ls.start_heating()  # starts from 7K and goes down to the setpoint of 4K\n",
    "    ls.sample_heater.wait_until_set_point_reached()"
   ]
  },
  {
   "cell_type": "markdown",
   "metadata": {},
   "source": [
    "## Automatically selecting a heater range (based on temperature)\n",
    "To automatically select a heater range, one can define temperature limits for the individual heater ranges:"
   ]
  },
  {
   "cell_type": "code",
   "execution_count": 20,
   "metadata": {},
   "outputs": [],
   "source": [
    "# all limits in K, 8 limits starting with limit for 31.6μA range\n",
    "h.range_limits([0.021, 0.1, 0.2, 1.1, 2, 4, 8, 16])"
   ]
  },
  {
   "cell_type": "code",
   "execution_count": 21,
   "metadata": {},
   "outputs": [
    {
     "data": {
      "text/plain": [
       "['off', '31.6μA', '100μA', '316μA', '1mA', '3.16mA', '10mA', '31.6mA', '100mA']"
      ]
     },
     "execution_count": 21,
     "metadata": {},
     "output_type": "execute_result"
    }
   ],
   "source": [
    "list(h.RANGES.keys())"
   ]
  },
  {
   "cell_type": "markdown",
   "metadata": {},
   "source": [
    "This means: from `0 K` to `0.021 K` use `31.6μA`, from `0.021 K` to `0.1 K` use `100μA`, and so on.\n",
    "\n",
    "We can now set the range by giving a temperature using the `set_range_from_temperature` method:"
   ]
  },
  {
   "cell_type": "code",
   "execution_count": 22,
   "metadata": {},
   "outputs": [
    {
     "data": {
      "text/plain": [
       "'316μA'"
      ]
     },
     "execution_count": 22,
     "metadata": {},
     "output_type": "execute_result"
    }
   ],
   "source": [
    "h.set_range_from_temperature(0.15)\n",
    "h.output_range()"
   ]
  },
  {
   "cell_type": "markdown",
   "metadata": {},
   "source": [
    "## Sweeping/blocking paramameter\n",
    "For compatibility with the legacy Loop construct, the Lakeshore driver exposes a blocking temperature parameter: `blocking_t`.\n",
    "The setter for this parameter simply does:"
   ]
  },
  {
   "cell_type": "markdown",
   "metadata": {},
   "source": [
    "```python\n",
    "def _set_blocking_t(self, t):\n",
    "     self.set_range_from_temperature(t)\n",
    "     self.setpoint(t)\n",
    "     self.wait_until_set_point_reached()\n",
    "```"
   ]
  },
  {
   "cell_type": "markdown",
   "metadata": {},
   "source": [
    "This parameter can be used in a `doNd`-like loop.\n",
    "\n",
    "Note that the range only gets set at the beginning of the sweep, i.e. according to the setpoint not according to the temperature reading."
   ]
  }
 ],
 "metadata": {
  "kernelspec": {
   "display_name": "Python 3",
   "language": "python",
   "name": "python3"
  },
  "language_info": {
   "codemirror_mode": {
    "name": "ipython",
    "version": 3
   },
   "file_extension": ".py",
   "mimetype": "text/x-python",
   "name": "python",
   "nbconvert_exporter": "python",
   "pygments_lexer": "ipython3",
   "version": "3.6.4"
  },
  "toc": {
   "base_numbering": 1,
   "nav_menu": {},
   "number_sections": true,
   "sideBar": true,
   "skip_h1_title": false,
   "title_cell": "Table of Contents",
   "title_sidebar": "Contents",
   "toc_cell": false,
   "toc_position": {},
   "toc_section_display": true,
   "toc_window_display": false
  },
  "varInspector": {
   "cols": {
    "lenName": 16,
    "lenType": 16,
    "lenVar": 40
   },
   "kernels_config": {
    "python": {
     "delete_cmd_postfix": "",
     "delete_cmd_prefix": "del ",
     "library": "var_list.py",
     "varRefreshCmd": "print(var_dic_list())"
    },
    "r": {
     "delete_cmd_postfix": ") ",
     "delete_cmd_prefix": "rm(",
     "library": "var_list.r",
     "varRefreshCmd": "cat(var_dic_list()) "
    }
   },
   "types_to_exclude": [
    "module",
    "function",
    "builtin_function_or_method",
    "instance",
    "_Feature"
   ],
   "window_display": false
  }
 },
 "nbformat": 4,
 "nbformat_minor": 2
}
