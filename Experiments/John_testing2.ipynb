{
 "cells": [
  {
   "cell_type": "code",
   "execution_count": 1,
   "metadata": {},
   "outputs": [
    {
     "name": "stderr",
     "output_type": "stream",
     "text": [
      "C:\\ProgramData\\Anaconda3\\lib\\site-packages\\h5py\\__init__.py:36: FutureWarning: Conversion of the second argument of issubdtype from `float` to `np.floating` is deprecated. In future, it will be treated as `np.float64 == np.dtype(float).type`.\n",
      "  from ._conv import register_converters as _register_converters\n"
     ]
    }
   ],
   "source": [
    "import time\n",
    "import sys\n",
    "import os\n",
    "from collections import OrderedDict\n",
    "from importlib import reload\n",
    "from pprint import pprint\n",
    "\n",
    "import h5py\n",
    "import numpy as np\n",
    "from matplotlib import pyplot as plt\n",
    "\n",
    "%matplotlib inline"
   ]
  },
  {
   "cell_type": "code",
   "execution_count": 2,
   "metadata": {},
   "outputs": [],
   "source": [
    "import qcodes\n",
    "qc = qcodes"
   ]
  },
  {
   "cell_type": "code",
   "execution_count": 3,
   "metadata": {},
   "outputs": [],
   "source": [
    "from scipy import constants\n",
    "from scipy.interpolate import interp1d\n",
    "from scipy.optimize import fmin\n",
    "from scipy.integrate import cumtrapz"
   ]
  },
  {
   "cell_type": "code",
   "execution_count": 4,
   "metadata": {
    "scrolled": true
   },
   "outputs": [],
   "source": [
    "from labtools.mplplots import init_nb_plotting\n",
    "reload(init_nb_plotting)\n",
    "from labtools.mplplots.init_nb_plotting import *\n",
    "\n",
    "from labtools.mplplots import plots as mplplots\n",
    "from labtools.mplplots import tools as mpltools"
   ]
  },
  {
   "cell_type": "code",
   "execution_count": 11,
   "metadata": {},
   "outputs": [
    {
     "name": "stderr",
     "output_type": "stream",
     "text": [
      "2018-03-31 04:51:31,384 : measurement : INFO : Logger set up!\n",
      "C:\\ProgramData\\Anaconda3\\lib\\site-packages\\pyvisa\\resources\\messagebased.py:568: FutureWarning: ask is deprecated and will be removed in 1.10, use query instead.\n",
      "  '1.10, use query instead.', FutureWarning)\n"
     ]
    },
    {
     "name": "stdout",
     "output_type": "stream",
     "text": [
      "Instrument sr1 already exists.\n",
      "Instrument key1 already exists.\n",
      "Instrument key2 already exists.\n",
      "Instrument key3 already exists.\n",
      "Instrument RF already exists.\n",
      "Instrument yoko already exists.\n"
     ]
    },
    {
     "name": "stderr",
     "output_type": "stream",
     "text": [
      "Snapshot: Could not update parameter:current_range\n",
      "Snapshot: Could not update parameter:current\n"
     ]
    }
   ],
   "source": [
    "%run init.py"
   ]
  },
  {
   "cell_type": "code",
   "execution_count": 13,
   "metadata": {},
   "outputs": [],
   "source": [
    "from pytopo.data.data_storage import Data, GridData\n",
    "Data.export_spyview = True\n",
    "GridData.export_spyview = True"
   ]
  },
  {
   "cell_type": "code",
   "execution_count": 18,
   "metadata": {},
   "outputs": [],
   "source": [
    "from pytopo.experiment.measurement import BaseMeasurement\n",
    "\n",
    "class IVCurve(BaseMeasurement):\n",
    "    \n",
    "    start = 0.\n",
    "    stop = +1.\n",
    "    pts = 101\n",
    "    nplc = 1\n",
    "    delay = 0.001\n",
    "        \n",
    "\n",
    "    def measure(self):\n",
    "        try:\n",
    "            self.station.key1.NPLC(self.nplc)\n",
    "            self.station.key2.NPLC(self.nplc)\n",
    "        except (VisaIOError, AttributeError):\n",
    "            self.station = check_keys(self.station.ivvi)\n",
    "            self.station.key1.NPLC(self.nplc)\n",
    "            self.station.key2.NPLC(self.nplc)\n",
    "        \n",
    "        vals = []\n",
    "        bias = np.linspace(self.start, self.stop, self.pts)\n",
    "\n",
    "        self.station.yoko.voltage(bias[0])\n",
    "        time.sleep(1)\n",
    "\n",
    "        t0 = time.time()\n",
    "        \n",
    "        for i, v in enumerate(bias):\n",
    "            \n",
    "            if not i%50:\n",
    "                t1 = time.time() - t0\n",
    "                print(f\"Point {i}, t = {t1}s ...\")\n",
    "            \n",
    "            self.station.yoko.voltage(v)\n",
    "            time.sleep(self.delay)\n",
    "            try:\n",
    "                amp = self.station.key1.volt()\n",
    "                volt = self.station.key2.volt()\n",
    "            except (VisaIOError, AttributeError):\n",
    "                self.station = check_keys(self.station.yoko)\n",
    "                amp = self.station.key1.volt()\n",
    "                volt = self.station.key2.volt()\n",
    "            \n",
    "            self.data.add(\n",
    "            OrderedDict({\n",
    "                'Bias' : {'value' : v * 1e-6, \"unit\": 'V', \"independent_parameter\": True},\n",
    "                'Current' : {'value' : amp * 1e-7, \"unit\": 'A'},\n",
    "                'Voltage' : {'value' : volt, 'unit' : 'V'},\n",
    "                })\n",
    "            )\n",
    "            \n",
    "            "
   ]
  },
  {
   "cell_type": "code",
   "execution_count": 19,
   "metadata": {},
   "outputs": [
    {
     "name": "stderr",
     "output_type": "stream",
     "text": [
      "2018-03-31 05:01:24,466 : measurement : INFO : Ready to measure, file location: d:\\data\\2018-03\\2018-03-31\\2018-03-31_IVCurve-#0001_101_testing...\n",
      "C:\\ProgramData\\Anaconda3\\lib\\site-packages\\pyvisa\\resources\\messagebased.py:568: FutureWarning: ask is deprecated and will be removed in 1.10, use query instead.\n",
      "  '1.10, use query instead.', FutureWarning)\n"
     ]
    },
    {
     "name": "stdout",
     "output_type": "stream",
     "text": [
      "Point 0, t = 0.0s ...\n"
     ]
    },
    {
     "ename": "AttributeError",
     "evalue": "'Data' object has no attribute 'record_to_pages'",
     "output_type": "error",
     "traceback": [
      "\u001b[1;31m---------------------------------------------------------------------------\u001b[0m",
      "\u001b[1;31mAttributeError\u001b[0m                            Traceback (most recent call last)",
      "\u001b[1;32m<ipython-input-19-ea44e300affb>\u001b[0m in \u001b[0;36m<module>\u001b[1;34m()\u001b[0m\n\u001b[0;32m     15\u001b[0m \u001b[0mm\u001b[0m\u001b[1;33m.\u001b[0m\u001b[0mnplc\u001b[0m \u001b[1;33m=\u001b[0m \u001b[1;36m1\u001b[0m\u001b[1;33m\u001b[0m\u001b[0m\n\u001b[0;32m     16\u001b[0m \u001b[0mm\u001b[0m\u001b[1;33m.\u001b[0m\u001b[0mdelay\u001b[0m \u001b[1;33m=\u001b[0m \u001b[1;36m0.02\u001b[0m\u001b[1;33m\u001b[0m\u001b[0m\n\u001b[1;32m---> 17\u001b[1;33m \u001b[0mm\u001b[0m\u001b[1;33m.\u001b[0m\u001b[0mrun\u001b[0m\u001b[1;33m(\u001b[0m\u001b[1;33m)\u001b[0m\u001b[1;33m\u001b[0m\u001b[0m\n\u001b[0m\u001b[0;32m     18\u001b[0m \u001b[1;33m\u001b[0m\u001b[0m\n\u001b[0;32m     19\u001b[0m \u001b[0mbias\u001b[0m \u001b[1;33m=\u001b[0m \u001b[0mm\u001b[0m\u001b[1;33m.\u001b[0m\u001b[0mdata\u001b[0m\u001b[1;33m[\u001b[0m\u001b[1;34m'Current'\u001b[0m\u001b[1;33m]\u001b[0m\u001b[1;33m[\u001b[0m\u001b[1;34m'Bias [V]'\u001b[0m\u001b[1;33m]\u001b[0m\u001b[1;33m.\u001b[0m\u001b[0mreshape\u001b[0m\u001b[1;33m(\u001b[0m\u001b[1;33m-\u001b[0m\u001b[1;36m1\u001b[0m\u001b[1;33m)\u001b[0m\u001b[1;33m.\u001b[0m\u001b[0mcopy\u001b[0m\u001b[1;33m(\u001b[0m\u001b[1;33m)\u001b[0m\u001b[1;33m\u001b[0m\u001b[0m\n",
      "\u001b[1;32mD:\\Code\\pytopo\\pytopo\\experiment\\measurement.py\u001b[0m in \u001b[0;36mrun\u001b[1;34m(self)\u001b[0m\n\u001b[0;32m    160\u001b[0m \u001b[1;33m\u001b[0m\u001b[0m\n\u001b[0;32m    161\u001b[0m         \u001b[0mself\u001b[0m\u001b[1;33m.\u001b[0m\u001b[0msetup\u001b[0m\u001b[1;33m(\u001b[0m\u001b[1;33m)\u001b[0m\u001b[1;33m\u001b[0m\u001b[0m\n\u001b[1;32m--> 162\u001b[1;33m         \u001b[0mself\u001b[0m\u001b[1;33m.\u001b[0m\u001b[0mmeasure\u001b[0m\u001b[1;33m(\u001b[0m\u001b[1;33m)\u001b[0m\u001b[1;33m\u001b[0m\u001b[0m\n\u001b[0m\u001b[0;32m    163\u001b[0m         \u001b[0mlogger\u001b[0m\u001b[1;33m.\u001b[0m\u001b[0minfo\u001b[0m\u001b[1;33m(\u001b[0m\u001b[1;34m'Measurement finished, cleaning up...'\u001b[0m\u001b[1;33m)\u001b[0m\u001b[1;33m\u001b[0m\u001b[0m\n\u001b[0;32m    164\u001b[0m         \u001b[0mself\u001b[0m\u001b[1;33m.\u001b[0m\u001b[0mcleanup\u001b[0m\u001b[1;33m(\u001b[0m\u001b[1;33m)\u001b[0m\u001b[1;33m\u001b[0m\u001b[0m\n",
      "\u001b[1;32m<ipython-input-18-f933e248ca64>\u001b[0m in \u001b[0;36mmeasure\u001b[1;34m(self)\u001b[0m\n\u001b[0;32m     47\u001b[0m                 \u001b[1;34m'Bias'\u001b[0m \u001b[1;33m:\u001b[0m \u001b[1;33m{\u001b[0m\u001b[1;34m'value'\u001b[0m \u001b[1;33m:\u001b[0m \u001b[0mv\u001b[0m \u001b[1;33m*\u001b[0m \u001b[1;36m1e-6\u001b[0m\u001b[1;33m,\u001b[0m \u001b[1;34m\"unit\"\u001b[0m\u001b[1;33m:\u001b[0m \u001b[1;34m'V'\u001b[0m\u001b[1;33m,\u001b[0m \u001b[1;34m\"independent_parameter\"\u001b[0m\u001b[1;33m:\u001b[0m \u001b[1;32mTrue\u001b[0m\u001b[1;33m}\u001b[0m\u001b[1;33m,\u001b[0m\u001b[1;33m\u001b[0m\u001b[0m\n\u001b[0;32m     48\u001b[0m                 \u001b[1;34m'Current'\u001b[0m \u001b[1;33m:\u001b[0m \u001b[1;33m{\u001b[0m\u001b[1;34m'value'\u001b[0m \u001b[1;33m:\u001b[0m \u001b[0mamp\u001b[0m \u001b[1;33m*\u001b[0m \u001b[1;36m1e-7\u001b[0m\u001b[1;33m,\u001b[0m \u001b[1;34m\"unit\"\u001b[0m\u001b[1;33m:\u001b[0m \u001b[1;34m'A'\u001b[0m\u001b[1;33m}\u001b[0m\u001b[1;33m,\u001b[0m\u001b[1;33m\u001b[0m\u001b[0m\n\u001b[1;32m---> 49\u001b[1;33m                 \u001b[1;34m'Voltage'\u001b[0m \u001b[1;33m:\u001b[0m \u001b[1;33m{\u001b[0m\u001b[1;34m'value'\u001b[0m \u001b[1;33m:\u001b[0m \u001b[0mvolt\u001b[0m\u001b[1;33m,\u001b[0m \u001b[1;34m'unit'\u001b[0m \u001b[1;33m:\u001b[0m \u001b[1;34m'V'\u001b[0m\u001b[1;33m}\u001b[0m\u001b[1;33m,\u001b[0m\u001b[1;33m\u001b[0m\u001b[0m\n\u001b[0m\u001b[0;32m     50\u001b[0m                 })\n\u001b[0;32m     51\u001b[0m             )\n",
      "\u001b[1;32mD:\\Code\\pytopo\\pytopo\\data\\data_storage.py\u001b[0m in \u001b[0;36madd\u001b[1;34m(self, record, write)\u001b[0m\n\u001b[0;32m    137\u001b[0m         \u001b[0msuper\u001b[0m\u001b[1;33m(\u001b[0m\u001b[1;33m)\u001b[0m\u001b[1;33m.\u001b[0m\u001b[0madd\u001b[0m\u001b[1;33m(\u001b[0m\u001b[0mrecord\u001b[0m\u001b[1;33m)\u001b[0m\u001b[1;33m\u001b[0m\u001b[0m\n\u001b[0;32m    138\u001b[0m         \u001b[1;32mif\u001b[0m \u001b[0mwrite\u001b[0m \u001b[1;32mand\u001b[0m \u001b[0mself\u001b[0m\u001b[1;33m.\u001b[0m\u001b[0mfilepath\u001b[0m \u001b[1;32mis\u001b[0m \u001b[1;32mnot\u001b[0m \u001b[1;32mNone\u001b[0m\u001b[1;33m:\u001b[0m\u001b[1;33m\u001b[0m\u001b[0m\n\u001b[1;32m--> 139\u001b[1;33m             \u001b[0mself\u001b[0m\u001b[1;33m.\u001b[0m\u001b[0mwrite\u001b[0m\u001b[1;33m(\u001b[0m\u001b[0mrecord\u001b[0m\u001b[1;33m)\u001b[0m\u001b[1;33m\u001b[0m\u001b[0m\n\u001b[0m\u001b[0;32m    140\u001b[0m \u001b[1;33m\u001b[0m\u001b[0m\n\u001b[0;32m    141\u001b[0m \u001b[1;33m\u001b[0m\u001b[0m\n",
      "\u001b[1;32mD:\\Code\\pytopo\\pytopo\\data\\data_storage.py\u001b[0m in \u001b[0;36mwrite\u001b[1;34m(self, record)\u001b[0m\n\u001b[0;32m    145\u001b[0m                 \u001b[0mpages\u001b[0m \u001b[1;33m=\u001b[0m \u001b[0mself\u001b[0m\u001b[1;33m.\u001b[0m\u001b[0m_pages\u001b[0m\u001b[1;33m\u001b[0m\u001b[0m\n\u001b[0;32m    146\u001b[0m             \u001b[1;32melse\u001b[0m\u001b[1;33m:\u001b[0m\u001b[1;33m\u001b[0m\u001b[0m\n\u001b[1;32m--> 147\u001b[1;33m                 \u001b[0mpages\u001b[0m \u001b[1;33m=\u001b[0m \u001b[0mself\u001b[0m\u001b[1;33m.\u001b[0m\u001b[0mrecord_to_pages\u001b[0m\u001b[1;33m(\u001b[0m\u001b[0mrecord\u001b[0m\u001b[1;33m)\u001b[0m\u001b[1;33m\u001b[0m\u001b[0m\n\u001b[0m\u001b[0;32m    148\u001b[0m \u001b[1;33m\u001b[0m\u001b[0m\n\u001b[0;32m    149\u001b[0m             \u001b[1;32mif\u001b[0m \u001b[0mself\u001b[0m\u001b[1;33m.\u001b[0m\u001b[0mhdf5_raw_group\u001b[0m \u001b[1;32mis\u001b[0m \u001b[1;32mnot\u001b[0m \u001b[1;32mNone\u001b[0m\u001b[1;33m:\u001b[0m\u001b[1;33m\u001b[0m\u001b[0m\n",
      "\u001b[1;31mAttributeError\u001b[0m: 'Data' object has no attribute 'record_to_pages'"
     ]
    }
   ],
   "source": [
    "\n",
    "t0 = time.time()\n",
    "idx = 0\n",
    "npts = 101\n",
    "\n",
    "# while True:\n",
    "\n",
    "#     for avgs in [201, 401, 801, 1601]:\n",
    "    \n",
    "    ### measure IV trace\n",
    "m = IVCurve(station, namespace, info_string=f'{npts}_testing')\n",
    "m.start = 0.\n",
    "m.stop = 1.\n",
    "m.pts = 101\n",
    "m.nplc = 1\n",
    "m.delay = 0.02\n",
    "m.run()\n",
    "\n",
    "bias = m.data['Current']['Bias [V]'].reshape(-1).copy()\n",
    "i = m.data['Current']['Current [A]'].reshape(-1).copy()\n",
    "v = m.data['Voltage']['Voltage [V]'].reshape(-1).copy()\n",
    "\n",
    "i -= i[i.size//2]\n",
    "bias *= 1e6\n",
    "i *= 1e9\n",
    "\n",
    "fig, ax = plt.subplots(1, 1)\n",
    "ax.plot(bias, i, 'o', ms=1)\n",
    "ax.set_xlabel('Bias voltage (uV)')\n",
    "ax.set_ylabel('Current (nA)')\n",
    "ax.set_title(m.datafilepath, size='x-small')\n",
    "ax.grid(dashes=[2,2])\n",
    "fig.savefig(m.data_prefix + \".png\", dpi=300)"
   ]
  },
  {
   "cell_type": "code",
   "execution_count": null,
   "metadata": {},
   "outputs": [],
   "source": [
    "station.yoko.vo"
   ]
  }
 ],
 "metadata": {
  "kernelspec": {
   "display_name": "Python 3",
   "language": "python",
   "name": "python3"
  },
  "language_info": {
   "codemirror_mode": {
    "name": "ipython",
    "version": 3
   },
   "file_extension": ".py",
   "mimetype": "text/x-python",
   "name": "python",
   "nbconvert_exporter": "python",
   "pygments_lexer": "ipython3",
   "version": "3.6.4"
  }
 },
 "nbformat": 4,
 "nbformat_minor": 2
}
